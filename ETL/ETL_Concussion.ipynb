{
 "cells": [
  {
   "cell_type": "markdown",
   "metadata": {},
   "source": [
    "# ETL for the Concussion Data\n",
    "\n",
    "There is a lot of overlap with the Lower Body Data and some of the functions should be able to be used for both of them. Going to continue to use polars with this since the data is still huge. There are 60 million rows in the ngs data\n",
    "\n",
    "\n"
   ]
  },
  {
   "cell_type": "markdown",
   "metadata": {},
   "source": [
    "## game_data\n",
    "Starting with the gamekey, season year, season type, week, and game_day, and game_date - the game date actually provides all of the necessary data, and anything additional can actually skew any machine learning findings. \n",
    "\n",
    "Likewise, team and team codes are redundant. The team codes are less likely to have spelling errors. Will maintain hometeamcode and visitteamcode. \n",
    "\n",
    "As far as stadium locations, the ones that are redundant are Mexico City - Estadio Azteca and Mexico - Estadio Azteca, and London - Wembley and Wembley - Wembley Stadium\n",
    "\n",
    "There is an issue with the game listed in Indianapolis at Tom Benson, which is in Canton - this game was actually canceled as verified online. \n",
    "Ralph Wilson Stadium is the same location as New Era Field.\n",
    "\n",
    "The outdoor weather is so inconsistently recorded, there are 134 differnt weather conditions, but most don't actually include weather types, whereas there are only 10 types of gameweather including null. "
   ]
  },
  {
   "cell_type": "code",
   "execution_count": null,
   "metadata": {},
   "outputs": [],
   "source": [
    "SELECT gamekey\n",
    "    , game_date\n",
    "    , game_site\n",
    "    , start_time\n",
    "    , hometeamcode\n",
    "    , visitteamcode\n",
    "    , stadiumtype\n",
    "    , turf\n",
    "    , gameweather\n",
    "    , temperature \n",
    "\n",
    "FROM game_data\n",
    "LIMIT 10;\n"
   ]
  },
  {
   "cell_type": "markdown",
   "metadata": {},
   "source": [
    "## ngs_data\n",
    "\n",
    "Again, season_year is unnecessary, since it is included in time. I would like to see if the GSISID numbers are the same as those from the other database. We will need to keep the rest of the information. \n"
   ]
  },
  {
   "cell_type": "code",
   "execution_count": null,
   "metadata": {},
   "outputs": [],
   "source": [
    "SELECT gamekey ,\n",
    "       playid ,\n",
    "       gsisid ,\n",
    "       time ,\n",
    "       x,\n",
    "       y,\n",
    "       dis ,\n",
    "       o ,\n",
    "       dir ,\n",
    "       event\n",
    "FROM ngs_data\n",
    "LIMIT 10 ;"
   ]
  },
  {
   "cell_type": "markdown",
   "metadata": {},
   "source": [
    "## play_information\n",
    "\n",
    "This has similar crap that can be removed, as does the game_data. This will end up joined with the game_data, so we'll need to keep enough to connect them. \n",
    "\n",
    "Season_year, season_type, week can disappear. \n",
    "Play description isn't going to be particularly helpful, as every one of them is completely different. We should already have the home_team_visit_team information from the joined table game_data, so this column may be dropped later."
   ]
  },
  {
   "cell_type": "code",
   "execution_count": null,
   "metadata": {},
   "outputs": [],
   "source": [
    "SELECT gamekey ,\n",
    "       game_date ,\n",
    "       playid,\n",
    "       game_clock ,\n",
    "       yardline ,\n",
    "       quarter ,\n",
    "       play_type ,\n",
    "       poss_team ,\n",
    "       home_team_visit_team ,\n",
    "       score_home_visiting\n",
    "FROM play_information\n",
    "LIMIT 10 ;"
   ]
  },
  {
   "cell_type": "markdown",
   "metadata": {},
   "source": [
    "## punt_data\n",
    "\n",
    "Everything here is necessary - gsisid, number, and position (code)\n",
    "\n",
    "## role_data\n",
    "\n",
    "season_year is unnecessary, since the gamekeys don't overlap, and are already chronologically established "
   ]
  },
  {
   "cell_type": "code",
   "execution_count": null,
   "metadata": {},
   "outputs": [],
   "source": [
    "SELECT gamekey , playid , gsisid , role FROM role_data\n",
    "LIMIT 10 ;"
   ]
  },
  {
   "cell_type": "markdown",
   "metadata": {},
   "source": [
    "## video_review\n",
    "\n",
    "There are no turnovers in the entire table, so this parameter can be removed. \n",
    "In terms of this analysis - there isn't a real reason to keep the primary_partner_gsisid, since we're not looking for the individuals responsible, though it will be nice to have for the visualizations.  \n",
    "friendly_fire isn't something that we can control biomechanically, so there isn't anything that I can really use from this information. \n"
   ]
  },
  {
   "cell_type": "code",
   "execution_count": null,
   "metadata": {},
   "outputs": [],
   "source": [
    "SELECT gamekey, playid, gsisid, player_activity_derived, primary_impact_type, primary_partner_activity_derived, primary_partner_gsisid FROM video_review\n",
    "LIMIT 10 ;"
   ]
  },
  {
   "cell_type": "markdown",
   "metadata": {},
   "source": [
    "# Extract and Clean"
   ]
  },
  {
   "cell_type": "code",
   "execution_count": null,
   "metadata": {},
   "outputs": [],
   "source": [
    "import polars as pl\n",
    "import sqlalchemy as db\n",
    "from sqlalchemy.orm import Session\n",
    "from sqlalchemy import create_engine\n",
    "import psycopg2"
   ]
  },
  {
   "cell_type": "code",
   "execution_count": null,
   "metadata": {},
   "outputs": [],
   "source": [
    "from DataHandler import data_loader, data_shrinker\n",
    "from CleaningFunctions import column_capitalizer, stadium_cleaner, weather_cleaner, turf_cleaner"
   ]
  },
  {
   "cell_type": "code",
   "execution_count": null,
   "metadata": {},
   "outputs": [],
   "source": [
    "concussion = data_loader(database='nfl_concussion', dataset='concussion')\n",
    "concussion.head()"
   ]
  },
  {
   "cell_type": "code",
   "execution_count": null,
   "metadata": {},
   "outputs": [],
   "source": [
    "concussion = column_capitalizer(concussion, 'concussion')\n",
    "concussion.head()"
   ]
  },
  {
   "cell_type": "code",
   "execution_count": null,
   "metadata": {},
   "outputs": [],
   "source": [
    "concussion = stadium_cleaner(concussion, 'concussion')\n",
    "concussion.head()"
   ]
  },
  {
   "cell_type": "code",
   "execution_count": null,
   "metadata": {},
   "outputs": [],
   "source": [
    "concussion = weather_cleaner(concussion, 'concussion')\n",
    "concussion.head()"
   ]
  },
  {
   "cell_type": "code",
   "execution_count": null,
   "metadata": {},
   "outputs": [],
   "source": [
    "concussion.null_count()"
   ]
  },
  {
   "cell_type": "code",
   "execution_count": null,
   "metadata": {},
   "outputs": [],
   "source": [
    "concussion = turf_cleaner(concussion)\n",
    "concussion.head()"
   ]
  },
  {
   "cell_type": "code",
   "execution_count": null,
   "metadata": {},
   "outputs": [],
   "source": [
    "concussion.null_count()"
   ]
  },
  {
   "cell_type": "code",
   "execution_count": null,
   "metadata": {},
   "outputs": [],
   "source": [
    "filtered = concussion.filter(pl.col('Game_Date').is_null())\n",
    "result = filtered.select(['Game_Date', 'HomeTeamCode', 'StadiumType', 'FieldType', 'Weather'])"
   ]
  },
  {
   "cell_type": "code",
   "execution_count": null,
   "metadata": {},
   "outputs": [],
   "source": [
    "print(filtered)"
   ]
  },
  {
   "cell_type": "code",
   "execution_count": null,
   "metadata": {},
   "outputs": [],
   "source": [
    "# def turf_cleaner(df):\n",
    "#     import polars as pl\n",
    "\n",
    "#     turf_dict = {\n",
    "#         'Grass': 'Natural',\n",
    "#         'Field Turf': 'Synthetic', \n",
    "#         'Natural Grass': 'Natural',\n",
    "#         'grass': 'Natural',\n",
    "#         'Artificial': 'Synthetic',\n",
    "#         'FieldTurf': 'Synthetic',\n",
    "#         'DD GrassMaster': 'Synthetic',\n",
    "#         'A-Turf Titan': 'Synthetic',\n",
    "#         'UBU Sports Speed S5-M': 'Synthetic',\n",
    "#         'UBU Speed Series S5-M': 'Synthetic',\n",
    "#         'Artifical': 'Synthetic',\n",
    "#         'UBU Speed Series-S5-M': 'Synthetic',\n",
    "#         'FieldTurf 360': 'Synthetic',\n",
    "#         'Natural grass': 'Natural',\n",
    "#         'Field turf': 'Synthetic',\n",
    "#         'Natural': 'Natural',\n",
    "#         'Natrual Grass': 'Natural',\n",
    "#         'Synthetic': 'Synthetic',\n",
    "#         'Natural Grass ': 'Natural',\n",
    "#         'Naturall Grass': 'Natural',\n",
    "#         'FieldTurf360': 'Synthetic',\n",
    "#         None: 'Natural' # The only field with null values is Miami Gardens, which has Natural\n",
    "#         }\n",
    "    \n",
    "#     df = df.with_columns(pl.col(\"FieldType\").replace(turf_dict))\n",
    "#     return df"
   ]
  },
  {
   "cell_type": "code",
   "execution_count": null,
   "metadata": {},
   "outputs": [],
   "source": [
    "concussion = turf_cleaner(concussion)"
   ]
  },
  {
   "cell_type": "code",
   "execution_count": null,
   "metadata": {},
   "outputs": [],
   "source": [
    "concussion.filter(pl.col('FieldType').is_null())"
   ]
  },
  {
   "cell_type": "markdown",
   "metadata": {},
   "source": [
    "## New Test for the clean_concussion() function"
   ]
  },
  {
   "cell_type": "code",
   "execution_count": 1,
   "metadata": {},
   "outputs": [],
   "source": [
    "import polars as pl\n",
    "import sqlalchemy as db\n",
    "from sqlalchemy.orm import Session\n",
    "from sqlalchemy import create_engine\n",
    "import psycopg2\n",
    "\n",
    "from CleaningFunctions import *\n",
    "from DataHandler import data_loader, data_writer, data_shrinker\n"
   ]
  },
  {
   "cell_type": "code",
   "execution_count": 2,
   "metadata": {},
   "outputs": [],
   "source": [
    "# df = clean_concussions()\n",
    "# df.head()"
   ]
  },
  {
   "cell_type": "markdown",
   "metadata": {},
   "source": [
    "# NExt - the transformation\n",
    "Need to create a playkey in SQL:\n"
   ]
  },
  {
   "cell_type": "code",
   "execution_count": null,
   "metadata": {
    "vscode": {
     "languageId": "sql"
    }
   },
   "outputs": [],
   "source": [
    "-- ALTER TABLE ngs_data\n",
    "-- ADD COLUMN PlayKey VARCHAR(15);"
   ]
  },
  {
   "cell_type": "markdown",
   "metadata": {},
   "source": [
    "The processing of this in SQL timed out after 15 minutes, so i'm going to try to use polars actually do the transformation. "
   ]
  },
  {
   "cell_type": "code",
   "execution_count": 2,
   "metadata": {},
   "outputs": [],
   "source": [
    "track = data_loader(dataset='ngs_data', database='nfl_concussion')"
   ]
  },
  {
   "cell_type": "code",
   "execution_count": 3,
   "metadata": {},
   "outputs": [
    {
     "name": "stdout",
     "output_type": "stream",
     "text": [
      "Memory usage of dataframe is 2565.14 MB\n",
      "Memory usage after optimization is: 2330.61 MB\n",
      "Decreased by 9.1%\n"
     ]
    }
   ],
   "source": [
    "track = data_shrinker(track)"
   ]
  },
  {
   "cell_type": "code",
   "execution_count": 4,
   "metadata": {},
   "outputs": [],
   "source": [
    "track = track.with_columns([\n",
    "        pl.concat_str([\n",
    "            pl.col('gsisid').cast(pl.Int32).cast(pl.Utf8)\n",
    "            , pl.lit('-')\n",
    "            , pl.col('gamekey').cast(pl.Utf8)\n",
    "            , pl.lit('-')\n",
    "            , pl.col('playid').cast(pl.Utf8)\n",
    "        ]).alias('PlayKey')\n",
    "])"
   ]
  },
  {
   "cell_type": "markdown",
   "metadata": {},
   "source": [
    "This took 7.9 seconds, compared to the over 13 minutes in SQL"
   ]
  },
  {
   "cell_type": "code",
   "execution_count": 5,
   "metadata": {},
   "outputs": [
    {
     "data": {
      "text/html": [
       "<div><style>\n",
       ".dataframe > thead > tr,\n",
       ".dataframe > tbody > tr {\n",
       "  text-align: right;\n",
       "  white-space: pre-wrap;\n",
       "}\n",
       "</style>\n",
       "<small>shape: (5, 11)</small><table border=\"1\" class=\"dataframe\"><thead><tr><th>gamekey</th><th>playid</th><th>gsisid</th><th>time</th><th>x</th><th>y</th><th>dis</th><th>o</th><th>dir</th><th>event</th><th>PlayKey</th></tr><tr><td>i16</td><td>i16</td><td>f32</td><td>datetime[ns]</td><td>f32</td><td>f32</td><td>f32</td><td>f32</td><td>f32</td><td>enum</td><td>str</td></tr></thead><tbody><tr><td>512</td><td>3623</td><td>32449.0</td><td>2017-10-29 19:48:49.800</td><td>93.230003</td><td>24.440001</td><td>0.0</td><td>175.630005</td><td>100.169998</td><td>null</td><td>&quot;32449-512-3623&quot;</td></tr><tr><td>512</td><td>3623</td><td>27978.0</td><td>2017-10-29 19:48:49.800</td><td>86.470001</td><td>25.1</td><td>0.01</td><td>98.730003</td><td>330.899994</td><td>null</td><td>&quot;27978-512-3623&quot;</td></tr><tr><td>512</td><td>3623</td><td>32688.0</td><td>2017-10-29 19:48:49.800</td><td>56.509998</td><td>5.6</td><td>0.3</td><td>97.400002</td><td>197.529999</td><td>null</td><td>&quot;32688-512-3623&quot;</td></tr><tr><td>512</td><td>3623</td><td>30160.0</td><td>2017-10-29 19:48:49.800</td><td>85.139999</td><td>23.370001</td><td>0.07</td><td>287.670013</td><td>62.099998</td><td>null</td><td>&quot;30160-512-3623&quot;</td></tr><tr><td>512</td><td>3623</td><td>33260.0</td><td>2017-10-29 19:48:49.800</td><td>85.300003</td><td>23.75</td><td>0.0</td><td>261.279999</td><td>279.519989</td><td>null</td><td>&quot;33260-512-3623&quot;</td></tr></tbody></table></div>"
      ],
      "text/plain": [
       "shape: (5, 11)\n",
       "┌─────────┬────────┬─────────┬───────────────┬───┬────────────┬────────────┬───────┬───────────────┐\n",
       "│ gamekey ┆ playid ┆ gsisid  ┆ time          ┆ … ┆ o          ┆ dir        ┆ event ┆ PlayKey       │\n",
       "│ ---     ┆ ---    ┆ ---     ┆ ---           ┆   ┆ ---        ┆ ---        ┆ ---   ┆ ---           │\n",
       "│ i16     ┆ i16    ┆ f32     ┆ datetime[ns]  ┆   ┆ f32        ┆ f32        ┆ enum  ┆ str           │\n",
       "╞═════════╪════════╪═════════╪═══════════════╪═══╪════════════╪════════════╪═══════╪═══════════════╡\n",
       "│ 512     ┆ 3623   ┆ 32449.0 ┆ 2017-10-29    ┆ … ┆ 175.630005 ┆ 100.169998 ┆ null  ┆ 32449-512-362 │\n",
       "│         ┆        ┆         ┆ 19:48:49.800  ┆   ┆            ┆            ┆       ┆ 3             │\n",
       "│ 512     ┆ 3623   ┆ 27978.0 ┆ 2017-10-29    ┆ … ┆ 98.730003  ┆ 330.899994 ┆ null  ┆ 27978-512-362 │\n",
       "│         ┆        ┆         ┆ 19:48:49.800  ┆   ┆            ┆            ┆       ┆ 3             │\n",
       "│ 512     ┆ 3623   ┆ 32688.0 ┆ 2017-10-29    ┆ … ┆ 97.400002  ┆ 197.529999 ┆ null  ┆ 32688-512-362 │\n",
       "│         ┆        ┆         ┆ 19:48:49.800  ┆   ┆            ┆            ┆       ┆ 3             │\n",
       "│ 512     ┆ 3623   ┆ 30160.0 ┆ 2017-10-29    ┆ … ┆ 287.670013 ┆ 62.099998  ┆ null  ┆ 30160-512-362 │\n",
       "│         ┆        ┆         ┆ 19:48:49.800  ┆   ┆            ┆            ┆       ┆ 3             │\n",
       "│ 512     ┆ 3623   ┆ 33260.0 ┆ 2017-10-29    ┆ … ┆ 261.279999 ┆ 279.519989 ┆ null  ┆ 33260-512-362 │\n",
       "│         ┆        ┆         ┆ 19:48:49.800  ┆   ┆            ┆            ┆       ┆ 3             │\n",
       "└─────────┴────────┴─────────┴───────────────┴───┴────────────┴────────────┴───────┴───────────────┘"
      ]
     },
     "execution_count": 5,
     "metadata": {},
     "output_type": "execute_result"
    }
   ],
   "source": [
    "track.head()"
   ]
  },
  {
   "cell_type": "code",
   "execution_count": 6,
   "metadata": {},
   "outputs": [
    {
     "data": {
      "text/html": [
       "<div><style>\n",
       ".dataframe > thead > tr,\n",
       ".dataframe > tbody > tr {\n",
       "  text-align: right;\n",
       "  white-space: pre-wrap;\n",
       "}\n",
       "</style>\n",
       "<small>shape: (5, 8)</small><table border=\"1\" class=\"dataframe\"><thead><tr><th>PlayKey</th><th>time</th><th>x</th><th>y</th><th>dis</th><th>o</th><th>dir</th><th>event</th></tr><tr><td>str</td><td>datetime[ns]</td><td>f32</td><td>f32</td><td>f32</td><td>f32</td><td>f32</td><td>enum</td></tr></thead><tbody><tr><td>&quot;32449-512-3623&quot;</td><td>2017-10-29 19:48:49.800</td><td>93.230003</td><td>24.440001</td><td>0.0</td><td>175.630005</td><td>100.169998</td><td>null</td></tr><tr><td>&quot;27978-512-3623&quot;</td><td>2017-10-29 19:48:49.800</td><td>86.470001</td><td>25.1</td><td>0.01</td><td>98.730003</td><td>330.899994</td><td>null</td></tr><tr><td>&quot;32688-512-3623&quot;</td><td>2017-10-29 19:48:49.800</td><td>56.509998</td><td>5.6</td><td>0.3</td><td>97.400002</td><td>197.529999</td><td>null</td></tr><tr><td>&quot;30160-512-3623&quot;</td><td>2017-10-29 19:48:49.800</td><td>85.139999</td><td>23.370001</td><td>0.07</td><td>287.670013</td><td>62.099998</td><td>null</td></tr><tr><td>&quot;33260-512-3623&quot;</td><td>2017-10-29 19:48:49.800</td><td>85.300003</td><td>23.75</td><td>0.0</td><td>261.279999</td><td>279.519989</td><td>null</td></tr></tbody></table></div>"
      ],
      "text/plain": [
       "shape: (5, 8)\n",
       "┌────────────────┬────────────────┬───────────┬───────────┬──────┬────────────┬────────────┬───────┐\n",
       "│ PlayKey        ┆ time           ┆ x         ┆ y         ┆ dis  ┆ o          ┆ dir        ┆ event │\n",
       "│ ---            ┆ ---            ┆ ---       ┆ ---       ┆ ---  ┆ ---        ┆ ---        ┆ ---   │\n",
       "│ str            ┆ datetime[ns]   ┆ f32       ┆ f32       ┆ f32  ┆ f32        ┆ f32        ┆ enum  │\n",
       "╞════════════════╪════════════════╪═══════════╪═══════════╪══════╪════════════╪════════════╪═══════╡\n",
       "│ 32449-512-3623 ┆ 2017-10-29     ┆ 93.230003 ┆ 24.440001 ┆ 0.0  ┆ 175.630005 ┆ 100.169998 ┆ null  │\n",
       "│                ┆ 19:48:49.800   ┆           ┆           ┆      ┆            ┆            ┆       │\n",
       "│ 27978-512-3623 ┆ 2017-10-29     ┆ 86.470001 ┆ 25.1      ┆ 0.01 ┆ 98.730003  ┆ 330.899994 ┆ null  │\n",
       "│                ┆ 19:48:49.800   ┆           ┆           ┆      ┆            ┆            ┆       │\n",
       "│ 32688-512-3623 ┆ 2017-10-29     ┆ 56.509998 ┆ 5.6       ┆ 0.3  ┆ 97.400002  ┆ 197.529999 ┆ null  │\n",
       "│                ┆ 19:48:49.800   ┆           ┆           ┆      ┆            ┆            ┆       │\n",
       "│ 30160-512-3623 ┆ 2017-10-29     ┆ 85.139999 ┆ 23.370001 ┆ 0.07 ┆ 287.670013 ┆ 62.099998  ┆ null  │\n",
       "│                ┆ 19:48:49.800   ┆           ┆           ┆      ┆            ┆            ┆       │\n",
       "│ 33260-512-3623 ┆ 2017-10-29     ┆ 85.300003 ┆ 23.75     ┆ 0.0  ┆ 261.279999 ┆ 279.519989 ┆ null  │\n",
       "│                ┆ 19:48:49.800   ┆           ┆           ┆      ┆            ┆            ┆       │\n",
       "└────────────────┴────────────────┴───────────┴───────────┴──────┴────────────┴────────────┴───────┘"
      ]
     },
     "execution_count": 6,
     "metadata": {},
     "output_type": "execute_result"
    }
   ],
   "source": [
    "track = track.select([\n",
    "    'PlayKey'\n",
    "    , 'time'\n",
    "    , 'x'\n",
    "    , 'y'\n",
    "    , 'dis'\n",
    "    , 'o'\n",
    "    , 'dir'\n",
    "    , 'event'\n",
    "])\n",
    "\n",
    "track.head()"
   ]
  },
  {
   "cell_type": "code",
   "execution_count": 7,
   "metadata": {},
   "outputs": [],
   "source": [
    "def calculate_angle_difference(angle1, angle2):\n",
    "    import numpy as np\n",
    "    \"\"\"\n",
    "    Calculate the smallest angle difference between two angles \n",
    "    using trigonometric functions, accounting for edge cases.\n",
    "    \"\"\"\n",
    "    sin_diff = np.sin(np.radians(angle2 - angle1))\n",
    "    cos_diff = np.cos(np.radians(angle2 - angle1))\n",
    "    return np.degrees(np.arctan2(sin_diff, cos_diff))\n",
    "\n",
    "def angle_corrector(df):\n",
    "    import polars as pl\n",
    "    \"\"\"\n",
    "    Make corrections to angles to reduce fringe errors at 360\n",
    "    \"\"\"\n",
    "    df = df.with_columns([\n",
    "        ((pl.col(\"dir\") + 180) % 360 - 180).alias(\"dir\")\n",
    "        , ((pl.col(\"o\") + 180) % 360 - 180).alias(\"o\")\n",
    "        ]).with_columns(\n",
    "            (calculate_angle_difference(pl.col(\"dir\"), pl.col(\"o\"))).abs().round(2).alias(\"angle_diff\")\n",
    "        )\n",
    "    \n",
    "    return df\n"
   ]
  },
  {
   "cell_type": "code",
   "execution_count": 8,
   "metadata": {},
   "outputs": [
    {
     "data": {
      "text/html": [
       "<div><style>\n",
       ".dataframe > thead > tr,\n",
       ".dataframe > tbody > tr {\n",
       "  text-align: right;\n",
       "  white-space: pre-wrap;\n",
       "}\n",
       "</style>\n",
       "<small>shape: (5, 9)</small><table border=\"1\" class=\"dataframe\"><thead><tr><th>PlayKey</th><th>time</th><th>x</th><th>y</th><th>dis</th><th>o</th><th>dir</th><th>event</th><th>angle_diff</th></tr><tr><td>str</td><td>datetime[ns]</td><td>f32</td><td>f32</td><td>f32</td><td>f32</td><td>f32</td><td>enum</td><td>f32</td></tr></thead><tbody><tr><td>&quot;32449-512-3623&quot;</td><td>2017-10-29 19:48:49.800</td><td>93.230003</td><td>24.440001</td><td>0.0</td><td>175.630005</td><td>100.169983</td><td>null</td><td>75.459999</td></tr><tr><td>&quot;27978-512-3623&quot;</td><td>2017-10-29 19:48:49.800</td><td>86.470001</td><td>25.1</td><td>0.01</td><td>98.730011</td><td>-29.100006</td><td>null</td><td>127.830002</td></tr><tr><td>&quot;32688-512-3623&quot;</td><td>2017-10-29 19:48:49.800</td><td>56.509998</td><td>5.6</td><td>0.3</td><td>97.399994</td><td>-162.470001</td><td>null</td><td>100.129997</td></tr><tr><td>&quot;30160-512-3623&quot;</td><td>2017-10-29 19:48:49.800</td><td>85.139999</td><td>23.370001</td><td>0.07</td><td>-72.329987</td><td>62.100006</td><td>null</td><td>134.429993</td></tr><tr><td>&quot;33260-512-3623&quot;</td><td>2017-10-29 19:48:49.800</td><td>85.300003</td><td>23.75</td><td>0.0</td><td>-98.720001</td><td>-80.480011</td><td>null</td><td>18.24</td></tr></tbody></table></div>"
      ],
      "text/plain": [
       "shape: (5, 9)\n",
       "┌────────────┬────────────┬───────────┬───────────┬───┬────────────┬───────────┬───────┬───────────┐\n",
       "│ PlayKey    ┆ time       ┆ x         ┆ y         ┆ … ┆ o          ┆ dir       ┆ event ┆ angle_dif │\n",
       "│ ---        ┆ ---        ┆ ---       ┆ ---       ┆   ┆ ---        ┆ ---       ┆ ---   ┆ f         │\n",
       "│ str        ┆ datetime[n ┆ f32       ┆ f32       ┆   ┆ f32        ┆ f32       ┆ enum  ┆ ---       │\n",
       "│            ┆ s]         ┆           ┆           ┆   ┆            ┆           ┆       ┆ f32       │\n",
       "╞════════════╪════════════╪═══════════╪═══════════╪═══╪════════════╪═══════════╪═══════╪═══════════╡\n",
       "│ 32449-512- ┆ 2017-10-29 ┆ 93.230003 ┆ 24.440001 ┆ … ┆ 175.630005 ┆ 100.16998 ┆ null  ┆ 75.459999 │\n",
       "│ 3623       ┆ 19:48:49.8 ┆           ┆           ┆   ┆            ┆ 3         ┆       ┆           │\n",
       "│            ┆ 00         ┆           ┆           ┆   ┆            ┆           ┆       ┆           │\n",
       "│ 27978-512- ┆ 2017-10-29 ┆ 86.470001 ┆ 25.1      ┆ … ┆ 98.730011  ┆ -29.10000 ┆ null  ┆ 127.83000 │\n",
       "│ 3623       ┆ 19:48:49.8 ┆           ┆           ┆   ┆            ┆ 6         ┆       ┆ 2         │\n",
       "│            ┆ 00         ┆           ┆           ┆   ┆            ┆           ┆       ┆           │\n",
       "│ 32688-512- ┆ 2017-10-29 ┆ 56.509998 ┆ 5.6       ┆ … ┆ 97.399994  ┆ -162.4700 ┆ null  ┆ 100.12999 │\n",
       "│ 3623       ┆ 19:48:49.8 ┆           ┆           ┆   ┆            ┆ 01        ┆       ┆ 7         │\n",
       "│            ┆ 00         ┆           ┆           ┆   ┆            ┆           ┆       ┆           │\n",
       "│ 30160-512- ┆ 2017-10-29 ┆ 85.139999 ┆ 23.370001 ┆ … ┆ -72.329987 ┆ 62.100006 ┆ null  ┆ 134.42999 │\n",
       "│ 3623       ┆ 19:48:49.8 ┆           ┆           ┆   ┆            ┆           ┆       ┆ 3         │\n",
       "│            ┆ 00         ┆           ┆           ┆   ┆            ┆           ┆       ┆           │\n",
       "│ 33260-512- ┆ 2017-10-29 ┆ 85.300003 ┆ 23.75     ┆ … ┆ -98.720001 ┆ -80.48001 ┆ null  ┆ 18.24     │\n",
       "│ 3623       ┆ 19:48:49.8 ┆           ┆           ┆   ┆            ┆ 1         ┆       ┆           │\n",
       "│            ┆ 00         ┆           ┆           ┆   ┆            ┆           ┆       ┆           │\n",
       "└────────────┴────────────┴───────────┴───────────┴───┴────────────┴───────────┴───────┴───────────┘"
      ]
     },
     "execution_count": 8,
     "metadata": {},
     "output_type": "execute_result"
    }
   ],
   "source": [
    "track = angle_corrector(track)\n",
    "track.head()"
   ]
  },
  {
   "cell_type": "code",
   "execution_count": 9,
   "metadata": {},
   "outputs": [],
   "source": [
    "import numpy as np\n",
    "import polars as pl\n",
    "\n",
    "def dynamics_calculator(df):\n",
    "    \"\"\"\n",
    "    Calculate dynamics based on (X,Y) and time columns per PlayKey.\n",
    "    \"\"\"\n",
    "    \n",
    "    df = df.lazy()\n",
    "    df = df.sort(['PlayKey', 'time']).with_columns([\n",
    "        # Pre-calculate shifted values\n",
    "        pl.col(\"x\").shift(1).over(\"PlayKey\").alias(\"prev_x\"),\n",
    "        pl.col(\"y\").shift(1).over(\"PlayKey\").alias(\"prev_y\"),\n",
    "        pl.col(\"time\").shift(1).over(\"PlayKey\").alias(\"prev_time\"),\n",
    "        pl.col(\"dir\").shift(1).over(\"PlayKey\").alias(\"prev_dir\"),\n",
    "        pl.col(\"o\").shift(1).over(\"PlayKey\").alias(\"prev_o\")\n",
    "    ]).with_columns([\n",
    "        # Calculate time difference in seconds\n",
    "        ((pl.col(\"time\") - pl.col(\"prev_time\")).dt.total_seconds()).alias(\"dt\"),\n",
    "        # Calculate x and y differences\n",
    "        (pl.col(\"x\") - pl.col(\"prev_x\")).alias(\"dx\"),\n",
    "        (pl.col(\"y\") - pl.col(\"prev_y\")).alias(\"dy\")\n",
    "    ]).with_columns([\n",
    "        # Calculate displacement\n",
    "        ((pl.col(\"dx\")**2 + pl.col(\"dy\")**2)**0.5).alias(\"dist\")\n",
    "    ]).with_columns([\n",
    "        # Calculate speed (yards per second)\n",
    "        (pl.col(\"dist\") / pl.col(\"dt\")).alias(\"speed\"),\n",
    "        # Calculate direction (degrees)\n",
    "        (np.degrees(pl.arctan2(pl.col(\"dy\"), pl.col(\"dx\")))).alias(\"direction\"),\n",
    "        # Calculate velocity components (yards per second)\n",
    "        (pl.col(\"dx\") / pl.col(\"dt\")).alias(\"vx\"),\n",
    "        (pl.col(\"dy\") / pl.col(\"dt\")).alias(\"vy\"),\n",
    "        # Calculate angular velocities (degrees per second)\n",
    "        ((pl.col(\"dir\") - pl.col(\"prev_dir\")) / pl.col(\"dt\")).alias(\"omega_dir\"),\n",
    "        ((pl.col(\"o\") - pl.col(\"prev_o\")) / pl.col(\"dt\")).alias(\"omega_o\")\n",
    "    ]).with_columns([\n",
    "        ((pl.col(\"omega_dir\") - pl.col(\"omega_o\")).abs()).alias(\"d_omega\")\n",
    "    ]).drop([\n",
    "        \"prev_x\", \"prev_y\", \"prev_time\", \"prev_dir\", \"prev_o\", \"dt\", \"dx\", \"dy\"\n",
    "    ])\n",
    "\n",
    "    return df.collect()\n"
   ]
  },
  {
   "cell_type": "code",
   "execution_count": 10,
   "metadata": {},
   "outputs": [
    {
     "ename": "",
     "evalue": "",
     "output_type": "error",
     "traceback": [
      "\u001b[1;31mThe Kernel crashed while executing code in the current cell or a previous cell. \n",
      "\u001b[1;31mPlease review the code in the cell(s) to identify a possible cause of the failure. \n",
      "\u001b[1;31mClick <a href='https://aka.ms/vscodeJupyterKernelCrash'>here</a> for more info. \n",
      "\u001b[1;31mView Jupyter <a href='command:jupyter.viewOutput'>log</a> for further details."
     ]
    }
   ],
   "source": [
    "track = dynamics_calculator(track)"
   ]
  }
 ],
 "metadata": {
  "kernelspec": {
   "display_name": "PythonData",
   "language": "python",
   "name": "python3"
  },
  "language_info": {
   "codemirror_mode": {
    "name": "ipython",
    "version": 3
   },
   "file_extension": ".py",
   "mimetype": "text/x-python",
   "name": "python",
   "nbconvert_exporter": "python",
   "pygments_lexer": "ipython3",
   "version": "3.9.12"
  }
 },
 "nbformat": 4,
 "nbformat_minor": 2
}
