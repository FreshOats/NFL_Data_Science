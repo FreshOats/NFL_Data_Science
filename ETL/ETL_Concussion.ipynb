{
 "cells": [
  {
   "cell_type": "markdown",
   "metadata": {},
   "source": [
    "# ETL for the Concussion Data\n",
    "\n",
    "There is a lot of overlap with the Lower Body Data and some of the functions should be able to be used for both of them. Going to continue to use polars with this since the data is still huge. There are 60 million rows in the ngs data\n",
    "\n",
    "\n"
   ]
  },
  {
   "cell_type": "markdown",
   "metadata": {},
   "source": [
    "## game_data\n",
    "Starting with the gamekey, season year, season type, week, and game_day, and game_date - the game date actually provides all of the necessary data, and anything additional can actually skew any machine learning findings. \n",
    "\n",
    "Likewise, team and team codes are redundant. The team codes are less likely to have spelling errors. Will maintain hometeamcode and visitteamcode. \n",
    "\n",
    "As far as stadium locations, the ones that are redundant are Mexico City - Estadio Azteca and Mexico - Estadio Azteca, and London - Wembley and Wembley - Wembley Stadium\n",
    "\n",
    "There is an issue with the game listed in Indianapolis at Tom Benson, which is in Canton - this game was actually canceled as verified online. \n",
    "Ralph Wilson Stadium is the same location as New Era Field.\n",
    "\n",
    "The outdoor weather is so inconsistently recorded, there are 134 differnt weather conditions, but most don't actually include weather types, whereas there are only 10 types of gameweather including null. "
   ]
  },
  {
   "cell_type": "code",
   "execution_count": null,
   "metadata": {},
   "outputs": [],
   "source": [
    "SELECT gamekey\n",
    "    , game_date\n",
    "    , game_site\n",
    "    , start_time\n",
    "    , hometeamcode\n",
    "    , visitteamcode\n",
    "    , stadiumtype\n",
    "    , turf\n",
    "    , gameweather\n",
    "    , temperature \n",
    "\n",
    "FROM game_data\n",
    "LIMIT 10;\n"
   ]
  },
  {
   "cell_type": "markdown",
   "metadata": {},
   "source": [
    "## ngs_data\n",
    "\n",
    "Again, season_year is unnecessary, since it is included in time. I would like to see if the GSISID numbers are the same as those from the other database. We will need to keep the rest of the information. \n"
   ]
  },
  {
   "cell_type": "code",
   "execution_count": null,
   "metadata": {},
   "outputs": [],
   "source": [
    "SELECT gamekey ,\n",
    "       playid ,\n",
    "       gsisid ,\n",
    "       time ,\n",
    "       x,\n",
    "       y,\n",
    "       dis ,\n",
    "       o ,\n",
    "       dir ,\n",
    "       event\n",
    "FROM ngs_data\n",
    "LIMIT 10 ;"
   ]
  },
  {
   "cell_type": "markdown",
   "metadata": {},
   "source": [
    "## play_information\n",
    "\n",
    "This has similar crap that can be removed, as does the game_data. This will end up joined with the game_data, so we'll need to keep enough to connect them. \n",
    "\n",
    "Season_year, season_type, week can disappear. \n",
    "Play description isn't going to be particularly helpful, as every one of them is completely different. We should already have the home_team_visit_team information from the joined table game_data, so this column may be dropped later."
   ]
  },
  {
   "cell_type": "code",
   "execution_count": null,
   "metadata": {},
   "outputs": [],
   "source": [
    "SELECT gamekey ,\n",
    "       game_date ,\n",
    "       playid,\n",
    "       game_clock ,\n",
    "       yardline ,\n",
    "       quarter ,\n",
    "       play_type ,\n",
    "       poss_team ,\n",
    "       home_team_visit_team ,\n",
    "       score_home_visiting\n",
    "FROM play_information\n",
    "LIMIT 10 ;"
   ]
  },
  {
   "cell_type": "markdown",
   "metadata": {},
   "source": [
    "## punt_data\n",
    "\n",
    "Everything here is necessary - gsisid, number, and position (code)\n",
    "\n",
    "## role_data\n",
    "\n",
    "season_year is unnecessary, since the gamekeys don't overlap, and are already chronologically established "
   ]
  },
  {
   "cell_type": "code",
   "execution_count": null,
   "metadata": {},
   "outputs": [],
   "source": [
    "SELECT gamekey , playid , gsisid , role FROM role_data\n",
    "LIMIT 10 ;"
   ]
  },
  {
   "cell_type": "markdown",
   "metadata": {},
   "source": [
    "## video_review\n",
    "\n",
    "There are no turnovers in the entire table, so this parameter can be removed. \n",
    "In terms of this analysis - there isn't a real reason to keep the primary_partner_gsisid, since we're not looking for the individuals responsible, though it will be nice to have for the visualizations.  \n",
    "friendly_fire isn't something that we can control biomechanically, so there isn't anything that I can really use from this information. \n"
   ]
  },
  {
   "cell_type": "code",
   "execution_count": null,
   "metadata": {},
   "outputs": [],
   "source": [
    "SELECT gamekey, playid, gsisid, player_activity_derived, primary_impact_type, primary_partner_activity_derived, primary_partner_gsisid FROM video_review\n",
    "LIMIT 10 ;"
   ]
  },
  {
   "cell_type": "markdown",
   "metadata": {},
   "source": [
    "# Extract and Clean"
   ]
  },
  {
   "cell_type": "code",
   "execution_count": null,
   "metadata": {},
   "outputs": [],
   "source": [
    "import polars as pl\n",
    "import sqlalchemy as db\n",
    "from sqlalchemy.orm import Session\n",
    "from sqlalchemy import create_engine\n",
    "import psycopg2"
   ]
  },
  {
   "cell_type": "code",
   "execution_count": null,
   "metadata": {},
   "outputs": [],
   "source": [
    "from DataHandler import data_loader, data_shrinker\n",
    "from CleaningFunctions import column_capitalizer, stadium_cleaner, weather_cleaner, turf_cleaner"
   ]
  },
  {
   "cell_type": "code",
   "execution_count": null,
   "metadata": {},
   "outputs": [],
   "source": [
    "concussion = data_loader(database='nfl_concussion', dataset='concussion')\n",
    "concussion.head()"
   ]
  },
  {
   "cell_type": "code",
   "execution_count": null,
   "metadata": {},
   "outputs": [],
   "source": [
    "concussion = column_capitalizer(concussion, 'concussion')\n",
    "concussion.head()"
   ]
  },
  {
   "cell_type": "code",
   "execution_count": null,
   "metadata": {},
   "outputs": [],
   "source": [
    "concussion = stadium_cleaner(concussion, 'concussion')\n",
    "concussion.head()"
   ]
  },
  {
   "cell_type": "code",
   "execution_count": null,
   "metadata": {},
   "outputs": [],
   "source": [
    "concussion = weather_cleaner(concussion, 'concussion')\n",
    "concussion.head()"
   ]
  },
  {
   "cell_type": "code",
   "execution_count": null,
   "metadata": {},
   "outputs": [],
   "source": [
    "concussion.null_count()"
   ]
  },
  {
   "cell_type": "code",
   "execution_count": null,
   "metadata": {},
   "outputs": [],
   "source": [
    "concussion = turf_cleaner(concussion)\n",
    "concussion.head()"
   ]
  },
  {
   "cell_type": "code",
   "execution_count": null,
   "metadata": {},
   "outputs": [],
   "source": [
    "concussion.null_count()"
   ]
  },
  {
   "cell_type": "code",
   "execution_count": null,
   "metadata": {},
   "outputs": [],
   "source": [
    "filtered = concussion.filter(pl.col('Game_Date').is_null())\n",
    "result = filtered.select(['Game_Date', 'HomeTeamCode', 'StadiumType', 'FieldType', 'Weather'])"
   ]
  },
  {
   "cell_type": "code",
   "execution_count": null,
   "metadata": {},
   "outputs": [],
   "source": [
    "print(filtered)"
   ]
  },
  {
   "cell_type": "code",
   "execution_count": null,
   "metadata": {},
   "outputs": [],
   "source": [
    "# def turf_cleaner(df):\n",
    "#     import polars as pl\n",
    "\n",
    "#     turf_dict = {\n",
    "#         'Grass': 'Natural',\n",
    "#         'Field Turf': 'Synthetic', \n",
    "#         'Natural Grass': 'Natural',\n",
    "#         'grass': 'Natural',\n",
    "#         'Artificial': 'Synthetic',\n",
    "#         'FieldTurf': 'Synthetic',\n",
    "#         'DD GrassMaster': 'Synthetic',\n",
    "#         'A-Turf Titan': 'Synthetic',\n",
    "#         'UBU Sports Speed S5-M': 'Synthetic',\n",
    "#         'UBU Speed Series S5-M': 'Synthetic',\n",
    "#         'Artifical': 'Synthetic',\n",
    "#         'UBU Speed Series-S5-M': 'Synthetic',\n",
    "#         'FieldTurf 360': 'Synthetic',\n",
    "#         'Natural grass': 'Natural',\n",
    "#         'Field turf': 'Synthetic',\n",
    "#         'Natural': 'Natural',\n",
    "#         'Natrual Grass': 'Natural',\n",
    "#         'Synthetic': 'Synthetic',\n",
    "#         'Natural Grass ': 'Natural',\n",
    "#         'Naturall Grass': 'Natural',\n",
    "#         'FieldTurf360': 'Synthetic',\n",
    "#         None: 'Natural' # The only field with null values is Miami Gardens, which has Natural\n",
    "#         }\n",
    "    \n",
    "#     df = df.with_columns(pl.col(\"FieldType\").replace(turf_dict))\n",
    "#     return df"
   ]
  },
  {
   "cell_type": "code",
   "execution_count": null,
   "metadata": {},
   "outputs": [],
   "source": [
    "concussion = turf_cleaner(concussion)"
   ]
  },
  {
   "cell_type": "code",
   "execution_count": null,
   "metadata": {},
   "outputs": [],
   "source": [
    "concussion.filter(pl.col('FieldType').is_null())"
   ]
  },
  {
   "cell_type": "markdown",
   "metadata": {},
   "source": [
    "## New Test for the clean_concussion() function"
   ]
  },
  {
   "cell_type": "code",
   "execution_count": 1,
   "metadata": {},
   "outputs": [],
   "source": [
    "import polars as pl\n",
    "import sqlalchemy as db\n",
    "from sqlalchemy.orm import Session\n",
    "from sqlalchemy import create_engine\n",
    "import psycopg2\n",
    "\n",
    "from CleaningFunctions import *\n",
    "from DataHandler import data_loader, data_writer"
   ]
  },
  {
   "cell_type": "code",
   "execution_count": 2,
   "metadata": {},
   "outputs": [
    {
     "ename": "AttributeError",
     "evalue": "'NoneType' object has no attribute 'head'",
     "output_type": "error",
     "traceback": [
      "\u001b[1;31m---------------------------------------------------------------------------\u001b[0m",
      "\u001b[1;31mAttributeError\u001b[0m                            Traceback (most recent call last)",
      "Input \u001b[1;32mIn [2]\u001b[0m, in \u001b[0;36m<cell line: 2>\u001b[1;34m()\u001b[0m\n\u001b[0;32m      1\u001b[0m df \u001b[38;5;241m=\u001b[39m clean_concussions()\n\u001b[1;32m----> 2\u001b[0m \u001b[43mdf\u001b[49m\u001b[38;5;241;43m.\u001b[39;49m\u001b[43mhead\u001b[49m()\n",
      "\u001b[1;31mAttributeError\u001b[0m: 'NoneType' object has no attribute 'head'"
     ]
    }
   ],
   "source": [
    "df = clean_concussions()\n",
    "df.head()"
   ]
  }
 ],
 "metadata": {
  "kernelspec": {
   "display_name": "PythonData",
   "language": "python",
   "name": "python3"
  },
  "language_info": {
   "codemirror_mode": {
    "name": "ipython",
    "version": 3
   },
   "file_extension": ".py",
   "mimetype": "text/x-python",
   "name": "python",
   "nbconvert_exporter": "python",
   "pygments_lexer": "ipython3",
   "version": "3.9.12"
  }
 },
 "nbformat": 4,
 "nbformat_minor": 2
}
