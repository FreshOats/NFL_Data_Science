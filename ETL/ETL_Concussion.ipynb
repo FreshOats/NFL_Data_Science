{
 "cells": [
  {
   "cell_type": "markdown",
   "metadata": {},
   "source": [
    "# ETL for the Concussion Data\n",
    "\n",
    "There is a lot of overlap with the Lower Body Data and some of the functions should be able to be used for both of them. Going to continue to use polars with this since the data is still huge. There are 60 million rows in the ngs data\n",
    "\n",
    "\n"
   ]
  },
  {
   "cell_type": "markdown",
   "metadata": {},
   "source": [
    "## game_data\n",
    "Starting with the gamekey, season year, season type, week, and game_day, and game_date - the game date actually provides all of the necessary data, and anything additional can actually skew any machine learning findings. \n",
    "\n",
    "Likewise, team and team codes are redundant. The team codes are less likely to have spelling errors. Will maintain hometeamcode and visitteamcode. \n",
    "\n",
    "As far as stadium locations, the ones that are redundant are Mexico City - Estadio Azteca and Mexico - Estadio Azteca, and London - Wembley and Wembley - Wembley Stadium\n",
    "\n",
    "There is an issue with the game listed in Indianapolis at Tom Benson, which is in Canton - this game was actually canceled as verified online. \n",
    "Ralph Wilson Stadium is the same location as New Era Field.\n",
    "\n",
    "The outdoor weather is so inconsistently recorded, there are 134 differnt weather conditions, but most don't actually include weather types, whereas there are only 10 types of gameweather including null. "
   ]
  },
  {
   "cell_type": "code",
   "execution_count": null,
   "metadata": {},
   "outputs": [],
   "source": [
    "SELECT gamekey\n",
    "    , game_date\n",
    "    , game_site\n",
    "    , start_time\n",
    "    , hometeamcode\n",
    "    , visitteamcode\n",
    "    , stadiumtype\n",
    "    , turf\n",
    "    , gameweather\n",
    "    , temperature \n",
    "\n",
    "FROM game_data\n",
    "LIMIT 10;\n"
   ]
  },
  {
   "cell_type": "markdown",
   "metadata": {},
   "source": [
    "## ngs_data\n",
    "\n",
    "Again, season_year is unnecessary, since it is included in time. I would like to see if the GSISID numbers are the same as those from the other database. We will need to keep the rest of the information. \n"
   ]
  },
  {
   "cell_type": "code",
   "execution_count": null,
   "metadata": {},
   "outputs": [],
   "source": [
    "SELECT gamekey ,\n",
    "       playid ,\n",
    "       gsisid ,\n",
    "       time ,\n",
    "       x,\n",
    "       y,\n",
    "       dis ,\n",
    "       o ,\n",
    "       dir ,\n",
    "       event\n",
    "FROM ngs_data\n",
    "LIMIT 10 ;"
   ]
  },
  {
   "cell_type": "markdown",
   "metadata": {},
   "source": [
    "## play_information\n",
    "\n",
    "This has similar crap that can be removed, as does the game_data. This will end up joined with the game_data, so we'll need to keep enough to connect them. \n",
    "\n",
    "Season_year, season_type, week can disappear. \n",
    "Play description isn't going to be particularly helpful, as every one of them is completely different. We should already have the home_team_visit_team information from the joined table game_data, so this column may be dropped later."
   ]
  },
  {
   "cell_type": "code",
   "execution_count": null,
   "metadata": {},
   "outputs": [],
   "source": [
    "SELECT gamekey ,\n",
    "       game_date ,\n",
    "       playid,\n",
    "       game_clock ,\n",
    "       yardline ,\n",
    "       quarter ,\n",
    "       play_type ,\n",
    "       poss_team ,\n",
    "       home_team_visit_team ,\n",
    "       score_home_visiting\n",
    "FROM play_information\n",
    "LIMIT 10 ;"
   ]
  },
  {
   "cell_type": "markdown",
   "metadata": {},
   "source": [
    "## punt_data\n",
    "\n",
    "Everything here is necessary - gsisid, number, and position (code)\n",
    "\n",
    "## role_data\n",
    "\n",
    "season_year is unnecessary, since the gamekeys don't overlap, and are already chronologically established "
   ]
  },
  {
   "cell_type": "code",
   "execution_count": null,
   "metadata": {},
   "outputs": [],
   "source": [
    "SELECT gamekey , playid , gsisid , role FROM role_data\n",
    "LIMIT 10 ;"
   ]
  },
  {
   "cell_type": "markdown",
   "metadata": {},
   "source": [
    "## video_review\n",
    "\n",
    "There are no turnovers in the entire table, so this parameter can be removed. \n",
    "In terms of this analysis - there isn't a real reason to keep the primary_partner_gsisid, since we're not looking for the individuals responsible, though it will be nice to have for the visualizations.  \n",
    "friendly_fire isn't something that we can control biomechanically, so there isn't anything that I can really use from this information. \n"
   ]
  },
  {
   "cell_type": "code",
   "execution_count": null,
   "metadata": {},
   "outputs": [],
   "source": [
    "SELECT gamekey, playid, gsisid, player_activity_derived, primary_impact_type, primary_partner_activity_derived, primary_partner_gsisid FROM video_review\n",
    "LIMIT 10 ;"
   ]
  },
  {
   "cell_type": "markdown",
   "metadata": {},
   "source": [
    "Need to create a PlayKey and an OpponentKey: "
   ]
  },
  {
   "cell_type": "code",
   "execution_count": null,
   "metadata": {},
   "outputs": [],
   "source": [
    "vr = vr.with_columns([\n",
    "        pl.concat_str([\n",
    "            pl.col('gsisid').cast(pl.Int32).cast(pl.Utf8)\n",
    "            , pl.lit('-')\n",
    "            , pl.col('gamekey').cast(pl.Utf8)\n",
    "            , pl.lit('-')\n",
    "            , pl.col('playid').cast(pl.Utf8)\n",
    "        ]).alias('PlayKey')\n",
    "        , pl.concat_str([\n",
    "            pl.col('primary_partner_gsisid').cast(pl.Int32).cast(pl.Utf8)\n",
    "            , pl.lit('-')\n",
    "            , pl.col('gamekey').cast(pl.Utf8)\n",
    "            , pl.lit('-')\n",
    "            , pl.col('playid').cast(pl.Utf8)\n",
    "        ]).alias('OpponentKey')\n",
    "])"
   ]
  },
  {
   "cell_type": "markdown",
   "metadata": {},
   "source": [
    "# Extract and Clean"
   ]
  },
  {
   "cell_type": "code",
   "execution_count": null,
   "metadata": {},
   "outputs": [],
   "source": [
    "import polars as pl\n",
    "import sqlalchemy as db\n",
    "from sqlalchemy.orm import Session\n",
    "from sqlalchemy import create_engine\n",
    "import psycopg2"
   ]
  },
  {
   "cell_type": "code",
   "execution_count": null,
   "metadata": {},
   "outputs": [],
   "source": [
    "from DataHandler import data_loader, data_shrinker\n",
    "from CleaningFunctions import column_capitalizer, stadium_cleaner, weather_cleaner, turf_cleaner"
   ]
  },
  {
   "cell_type": "code",
   "execution_count": null,
   "metadata": {},
   "outputs": [],
   "source": [
    "concussion = data_loader(database='nfl_concussion', dataset='concussion')\n",
    "concussion.head()"
   ]
  },
  {
   "cell_type": "code",
   "execution_count": null,
   "metadata": {},
   "outputs": [],
   "source": [
    "concussion = column_capitalizer(concussion, 'concussion')\n",
    "concussion.head()"
   ]
  },
  {
   "cell_type": "code",
   "execution_count": null,
   "metadata": {},
   "outputs": [],
   "source": [
    "concussion = stadium_cleaner(concussion, 'concussion')\n",
    "concussion.head()"
   ]
  },
  {
   "cell_type": "code",
   "execution_count": null,
   "metadata": {},
   "outputs": [],
   "source": [
    "concussion = weather_cleaner(concussion, 'concussion')\n",
    "concussion.head()"
   ]
  },
  {
   "cell_type": "code",
   "execution_count": null,
   "metadata": {},
   "outputs": [],
   "source": [
    "concussion.null_count()"
   ]
  },
  {
   "cell_type": "code",
   "execution_count": null,
   "metadata": {},
   "outputs": [],
   "source": [
    "concussion = turf_cleaner(concussion)\n",
    "concussion.head()"
   ]
  },
  {
   "cell_type": "code",
   "execution_count": null,
   "metadata": {},
   "outputs": [],
   "source": [
    "concussion.null_count()"
   ]
  },
  {
   "cell_type": "code",
   "execution_count": null,
   "metadata": {},
   "outputs": [],
   "source": [
    "filtered = concussion.filter(pl.col('Game_Date').is_null())\n",
    "result = filtered.select(['Game_Date', 'HomeTeamCode', 'StadiumType', 'FieldType', 'Weather'])"
   ]
  },
  {
   "cell_type": "code",
   "execution_count": null,
   "metadata": {},
   "outputs": [],
   "source": [
    "print(filtered)"
   ]
  },
  {
   "cell_type": "code",
   "execution_count": null,
   "metadata": {},
   "outputs": [],
   "source": [
    "def turf_cleaner(df):\n",
    "    import polars as pl\n",
    "\n",
    "    turf_dict = {\n",
    "        'Grass': 'Natural',\n",
    "        'Field Turf': 'Synthetic', \n",
    "        'Natural Grass': 'Natural',\n",
    "        'grass': 'Natural',\n",
    "        'Artificial': 'Synthetic',\n",
    "        'FieldTurf': 'Synthetic',\n",
    "        'DD GrassMaster': 'Synthetic',\n",
    "        'A-Turf Titan': 'Synthetic',\n",
    "        'UBU Sports Speed S5-M': 'Synthetic',\n",
    "        'UBU Speed Series S5-M': 'Synthetic',\n",
    "        'Artifical': 'Synthetic',\n",
    "        'UBU Speed Series-S5-M': 'Synthetic',\n",
    "        'FieldTurf 360': 'Synthetic',\n",
    "        'Natural grass': 'Natural',\n",
    "        'Field turf': 'Synthetic',\n",
    "        'Natural': 'Natural',\n",
    "        'Natrual Grass': 'Natural',\n",
    "        'Synthetic': 'Synthetic',\n",
    "        'Natural Grass ': 'Natural',\n",
    "        'Naturall Grass': 'Natural',\n",
    "        'FieldTurf360': 'Synthetic',\n",
    "        None: 'Natural' # The only field with null values is Miami Gardens, which has Natural\n",
    "        }\n",
    "    \n",
    "    df = df.with_columns(pl.col(\"FieldType\").replace(turf_dict))\n",
    "    return df"
   ]
  },
  {
   "cell_type": "code",
   "execution_count": null,
   "metadata": {},
   "outputs": [],
   "source": [
    "concussion = turf_cleaner(concussion)"
   ]
  },
  {
   "cell_type": "code",
   "execution_count": null,
   "metadata": {},
   "outputs": [],
   "source": [
    "concussion.filter(pl.col('FieldType').is_null())"
   ]
  },
  {
   "cell_type": "markdown",
   "metadata": {},
   "source": [
    "## New Test for the clean_concussion() function"
   ]
  },
  {
   "cell_type": "code",
   "execution_count": 1,
   "metadata": {},
   "outputs": [],
   "source": [
    "import polars as pl\n",
    "import sqlalchemy as db\n",
    "from sqlalchemy.orm import Session\n",
    "from sqlalchemy import create_engine\n",
    "import psycopg2\n",
    "\n",
    "from CleaningFunctions import *\n",
    "from DataHandler import data_loader, data_writer, data_shrinker\n"
   ]
  },
  {
   "cell_type": "code",
   "execution_count": 2,
   "metadata": {},
   "outputs": [],
   "source": [
    "# df = clean_concussions()\n",
    "# df.head()"
   ]
  },
  {
   "cell_type": "markdown",
   "metadata": {},
   "source": [
    "# NExt - the transformation\n",
    "Need to create a playkey in SQL:\n"
   ]
  },
  {
   "cell_type": "code",
   "execution_count": null,
   "metadata": {
    "vscode": {
     "languageId": "sql"
    }
   },
   "outputs": [],
   "source": [
    "-- ALTER TABLE ngs_data\n",
    "-- ADD COLUMN PlayKey VARCHAR(15);"
   ]
  },
  {
   "cell_type": "markdown",
   "metadata": {},
   "source": [
    "The processing of this in SQL timed out after 15 minutes, so i'm going to try to use polars actually do the transformation. "
   ]
  },
  {
   "cell_type": "code",
   "execution_count": 2,
   "metadata": {},
   "outputs": [],
   "source": [
    "track = data_loader(dataset='ngs_data', database='nfl_concussion')"
   ]
  },
  {
   "cell_type": "code",
   "execution_count": 3,
   "metadata": {},
   "outputs": [
    {
     "name": "stdout",
     "output_type": "stream",
     "text": [
      "Memory usage of dataframe is 2565.14 MB\n",
      "Memory usage after optimization is: 2330.61 MB\n",
      "Decreased by 9.1%\n"
     ]
    }
   ],
   "source": [
    "track = data_shrinker(track)"
   ]
  },
  {
   "cell_type": "code",
   "execution_count": 4,
   "metadata": {},
   "outputs": [],
   "source": [
    "track = track.with_columns([\n",
    "        pl.concat_str([\n",
    "            pl.col('gsisid').cast(pl.Int32).cast(pl.Utf8)\n",
    "            , pl.lit('-')\n",
    "            , pl.col('gamekey').cast(pl.Utf8)\n",
    "            , pl.lit('-')\n",
    "            , pl.col('playid').cast(pl.Utf8)\n",
    "        ]).alias('PlayKey')\n",
    "])"
   ]
  },
  {
   "cell_type": "markdown",
   "metadata": {},
   "source": [
    "This took 7.9 seconds, compared to the over 13 minutes in SQL"
   ]
  },
  {
   "cell_type": "code",
   "execution_count": 5,
   "metadata": {},
   "outputs": [
    {
     "data": {
      "text/html": [
       "<div><style>\n",
       ".dataframe > thead > tr,\n",
       ".dataframe > tbody > tr {\n",
       "  text-align: right;\n",
       "  white-space: pre-wrap;\n",
       "}\n",
       "</style>\n",
       "<small>shape: (5, 11)</small><table border=\"1\" class=\"dataframe\"><thead><tr><th>gamekey</th><th>playid</th><th>gsisid</th><th>time</th><th>x</th><th>y</th><th>dis</th><th>o</th><th>dir</th><th>event</th><th>PlayKey</th></tr><tr><td>i16</td><td>i16</td><td>f32</td><td>datetime[ns]</td><td>f32</td><td>f32</td><td>f32</td><td>f32</td><td>f32</td><td>enum</td><td>str</td></tr></thead><tbody><tr><td>512</td><td>3623</td><td>32449.0</td><td>2017-10-29 19:48:49.800</td><td>93.230003</td><td>24.440001</td><td>0.0</td><td>175.630005</td><td>100.169998</td><td>null</td><td>&quot;32449-512-3623&quot;</td></tr><tr><td>512</td><td>3623</td><td>27978.0</td><td>2017-10-29 19:48:49.800</td><td>86.470001</td><td>25.1</td><td>0.01</td><td>98.730003</td><td>330.899994</td><td>null</td><td>&quot;27978-512-3623&quot;</td></tr><tr><td>512</td><td>3623</td><td>32688.0</td><td>2017-10-29 19:48:49.800</td><td>56.509998</td><td>5.6</td><td>0.3</td><td>97.400002</td><td>197.529999</td><td>null</td><td>&quot;32688-512-3623&quot;</td></tr><tr><td>512</td><td>3623</td><td>30160.0</td><td>2017-10-29 19:48:49.800</td><td>85.139999</td><td>23.370001</td><td>0.07</td><td>287.670013</td><td>62.099998</td><td>null</td><td>&quot;30160-512-3623&quot;</td></tr><tr><td>512</td><td>3623</td><td>33260.0</td><td>2017-10-29 19:48:49.800</td><td>85.300003</td><td>23.75</td><td>0.0</td><td>261.279999</td><td>279.519989</td><td>null</td><td>&quot;33260-512-3623&quot;</td></tr></tbody></table></div>"
      ],
      "text/plain": [
       "shape: (5, 11)\n",
       "┌─────────┬────────┬─────────┬───────────────┬───┬────────────┬────────────┬───────┬───────────────┐\n",
       "│ gamekey ┆ playid ┆ gsisid  ┆ time          ┆ … ┆ o          ┆ dir        ┆ event ┆ PlayKey       │\n",
       "│ ---     ┆ ---    ┆ ---     ┆ ---           ┆   ┆ ---        ┆ ---        ┆ ---   ┆ ---           │\n",
       "│ i16     ┆ i16    ┆ f32     ┆ datetime[ns]  ┆   ┆ f32        ┆ f32        ┆ enum  ┆ str           │\n",
       "╞═════════╪════════╪═════════╪═══════════════╪═══╪════════════╪════════════╪═══════╪═══════════════╡\n",
       "│ 512     ┆ 3623   ┆ 32449.0 ┆ 2017-10-29    ┆ … ┆ 175.630005 ┆ 100.169998 ┆ null  ┆ 32449-512-362 │\n",
       "│         ┆        ┆         ┆ 19:48:49.800  ┆   ┆            ┆            ┆       ┆ 3             │\n",
       "│ 512     ┆ 3623   ┆ 27978.0 ┆ 2017-10-29    ┆ … ┆ 98.730003  ┆ 330.899994 ┆ null  ┆ 27978-512-362 │\n",
       "│         ┆        ┆         ┆ 19:48:49.800  ┆   ┆            ┆            ┆       ┆ 3             │\n",
       "│ 512     ┆ 3623   ┆ 32688.0 ┆ 2017-10-29    ┆ … ┆ 97.400002  ┆ 197.529999 ┆ null  ┆ 32688-512-362 │\n",
       "│         ┆        ┆         ┆ 19:48:49.800  ┆   ┆            ┆            ┆       ┆ 3             │\n",
       "│ 512     ┆ 3623   ┆ 30160.0 ┆ 2017-10-29    ┆ … ┆ 287.670013 ┆ 62.099998  ┆ null  ┆ 30160-512-362 │\n",
       "│         ┆        ┆         ┆ 19:48:49.800  ┆   ┆            ┆            ┆       ┆ 3             │\n",
       "│ 512     ┆ 3623   ┆ 33260.0 ┆ 2017-10-29    ┆ … ┆ 261.279999 ┆ 279.519989 ┆ null  ┆ 33260-512-362 │\n",
       "│         ┆        ┆         ┆ 19:48:49.800  ┆   ┆            ┆            ┆       ┆ 3             │\n",
       "└─────────┴────────┴─────────┴───────────────┴───┴────────────┴────────────┴───────┴───────────────┘"
      ]
     },
     "execution_count": 5,
     "metadata": {},
     "output_type": "execute_result"
    }
   ],
   "source": [
    "track.head()"
   ]
  },
  {
   "cell_type": "code",
   "execution_count": 6,
   "metadata": {},
   "outputs": [
    {
     "data": {
      "text/html": [
       "<div><style>\n",
       ".dataframe > thead > tr,\n",
       ".dataframe > tbody > tr {\n",
       "  text-align: right;\n",
       "  white-space: pre-wrap;\n",
       "}\n",
       "</style>\n",
       "<small>shape: (5, 8)</small><table border=\"1\" class=\"dataframe\"><thead><tr><th>PlayKey</th><th>time</th><th>x</th><th>y</th><th>dis</th><th>o</th><th>dir</th><th>event</th></tr><tr><td>str</td><td>datetime[ns]</td><td>f32</td><td>f32</td><td>f32</td><td>f32</td><td>f32</td><td>enum</td></tr></thead><tbody><tr><td>&quot;32449-512-3623&quot;</td><td>2017-10-29 19:48:49.800</td><td>93.230003</td><td>24.440001</td><td>0.0</td><td>175.630005</td><td>100.169998</td><td>null</td></tr><tr><td>&quot;27978-512-3623&quot;</td><td>2017-10-29 19:48:49.800</td><td>86.470001</td><td>25.1</td><td>0.01</td><td>98.730003</td><td>330.899994</td><td>null</td></tr><tr><td>&quot;32688-512-3623&quot;</td><td>2017-10-29 19:48:49.800</td><td>56.509998</td><td>5.6</td><td>0.3</td><td>97.400002</td><td>197.529999</td><td>null</td></tr><tr><td>&quot;30160-512-3623&quot;</td><td>2017-10-29 19:48:49.800</td><td>85.139999</td><td>23.370001</td><td>0.07</td><td>287.670013</td><td>62.099998</td><td>null</td></tr><tr><td>&quot;33260-512-3623&quot;</td><td>2017-10-29 19:48:49.800</td><td>85.300003</td><td>23.75</td><td>0.0</td><td>261.279999</td><td>279.519989</td><td>null</td></tr></tbody></table></div>"
      ],
      "text/plain": [
       "shape: (5, 8)\n",
       "┌────────────────┬────────────────┬───────────┬───────────┬──────┬────────────┬────────────┬───────┐\n",
       "│ PlayKey        ┆ time           ┆ x         ┆ y         ┆ dis  ┆ o          ┆ dir        ┆ event │\n",
       "│ ---            ┆ ---            ┆ ---       ┆ ---       ┆ ---  ┆ ---        ┆ ---        ┆ ---   │\n",
       "│ str            ┆ datetime[ns]   ┆ f32       ┆ f32       ┆ f32  ┆ f32        ┆ f32        ┆ enum  │\n",
       "╞════════════════╪════════════════╪═══════════╪═══════════╪══════╪════════════╪════════════╪═══════╡\n",
       "│ 32449-512-3623 ┆ 2017-10-29     ┆ 93.230003 ┆ 24.440001 ┆ 0.0  ┆ 175.630005 ┆ 100.169998 ┆ null  │\n",
       "│                ┆ 19:48:49.800   ┆           ┆           ┆      ┆            ┆            ┆       │\n",
       "│ 27978-512-3623 ┆ 2017-10-29     ┆ 86.470001 ┆ 25.1      ┆ 0.01 ┆ 98.730003  ┆ 330.899994 ┆ null  │\n",
       "│                ┆ 19:48:49.800   ┆           ┆           ┆      ┆            ┆            ┆       │\n",
       "│ 32688-512-3623 ┆ 2017-10-29     ┆ 56.509998 ┆ 5.6       ┆ 0.3  ┆ 97.400002  ┆ 197.529999 ┆ null  │\n",
       "│                ┆ 19:48:49.800   ┆           ┆           ┆      ┆            ┆            ┆       │\n",
       "│ 30160-512-3623 ┆ 2017-10-29     ┆ 85.139999 ┆ 23.370001 ┆ 0.07 ┆ 287.670013 ┆ 62.099998  ┆ null  │\n",
       "│                ┆ 19:48:49.800   ┆           ┆           ┆      ┆            ┆            ┆       │\n",
       "│ 33260-512-3623 ┆ 2017-10-29     ┆ 85.300003 ┆ 23.75     ┆ 0.0  ┆ 261.279999 ┆ 279.519989 ┆ null  │\n",
       "│                ┆ 19:48:49.800   ┆           ┆           ┆      ┆            ┆            ┆       │\n",
       "└────────────────┴────────────────┴───────────┴───────────┴──────┴────────────┴────────────┴───────┘"
      ]
     },
     "execution_count": 6,
     "metadata": {},
     "output_type": "execute_result"
    }
   ],
   "source": [
    "track = track.select([\n",
    "    'PlayKey'\n",
    "    , 'time'\n",
    "    , 'x'\n",
    "    , 'y'\n",
    "    , 'dis'\n",
    "    , 'o'\n",
    "    , 'dir'\n",
    "    , 'event'\n",
    "])\n",
    "\n",
    "track.head()"
   ]
  },
  {
   "cell_type": "code",
   "execution_count": 7,
   "metadata": {},
   "outputs": [],
   "source": [
    "def calculate_angle_difference(angle1, angle2):\n",
    "    import numpy as np\n",
    "    \"\"\"\n",
    "    Calculate the smallest angle difference between two angles \n",
    "    using trigonometric functions, accounting for edge cases.\n",
    "    \"\"\"\n",
    "    sin_diff = np.sin(np.radians(angle2 - angle1))\n",
    "    cos_diff = np.cos(np.radians(angle2 - angle1))\n",
    "    return np.degrees(np.arctan2(sin_diff, cos_diff))\n",
    "\n",
    "def angle_corrector(df):\n",
    "    import polars as pl\n",
    "    \"\"\"\n",
    "    Make corrections to angles to reduce fringe errors at 360\n",
    "    \"\"\"\n",
    "    df = df.with_columns([\n",
    "        ((pl.col(\"dir\") + 180) % 360 - 180).alias(\"dir\")\n",
    "        , ((pl.col(\"o\") + 180) % 360 - 180).alias(\"o\")\n",
    "        ]).with_columns(\n",
    "            (calculate_angle_difference(pl.col(\"dir\"), pl.col(\"o\"))).abs().round(2).alias(\"angle_diff\")\n",
    "        )\n",
    "    \n",
    "    return df\n"
   ]
  },
  {
   "cell_type": "code",
   "execution_count": 8,
   "metadata": {},
   "outputs": [
    {
     "data": {
      "text/html": [
       "<div><style>\n",
       ".dataframe > thead > tr,\n",
       ".dataframe > tbody > tr {\n",
       "  text-align: right;\n",
       "  white-space: pre-wrap;\n",
       "}\n",
       "</style>\n",
       "<small>shape: (5, 9)</small><table border=\"1\" class=\"dataframe\"><thead><tr><th>PlayKey</th><th>time</th><th>x</th><th>y</th><th>dis</th><th>o</th><th>dir</th><th>event</th><th>angle_diff</th></tr><tr><td>str</td><td>datetime[ns]</td><td>f32</td><td>f32</td><td>f32</td><td>f32</td><td>f32</td><td>enum</td><td>f32</td></tr></thead><tbody><tr><td>&quot;32449-512-3623&quot;</td><td>2017-10-29 19:48:49.800</td><td>93.230003</td><td>24.440001</td><td>0.0</td><td>175.630005</td><td>100.169983</td><td>null</td><td>75.459999</td></tr><tr><td>&quot;27978-512-3623&quot;</td><td>2017-10-29 19:48:49.800</td><td>86.470001</td><td>25.1</td><td>0.01</td><td>98.730011</td><td>-29.100006</td><td>null</td><td>127.830002</td></tr><tr><td>&quot;32688-512-3623&quot;</td><td>2017-10-29 19:48:49.800</td><td>56.509998</td><td>5.6</td><td>0.3</td><td>97.399994</td><td>-162.470001</td><td>null</td><td>100.129997</td></tr><tr><td>&quot;30160-512-3623&quot;</td><td>2017-10-29 19:48:49.800</td><td>85.139999</td><td>23.370001</td><td>0.07</td><td>-72.329987</td><td>62.100006</td><td>null</td><td>134.429993</td></tr><tr><td>&quot;33260-512-3623&quot;</td><td>2017-10-29 19:48:49.800</td><td>85.300003</td><td>23.75</td><td>0.0</td><td>-98.720001</td><td>-80.480011</td><td>null</td><td>18.24</td></tr></tbody></table></div>"
      ],
      "text/plain": [
       "shape: (5, 9)\n",
       "┌────────────┬────────────┬───────────┬───────────┬───┬────────────┬───────────┬───────┬───────────┐\n",
       "│ PlayKey    ┆ time       ┆ x         ┆ y         ┆ … ┆ o          ┆ dir       ┆ event ┆ angle_dif │\n",
       "│ ---        ┆ ---        ┆ ---       ┆ ---       ┆   ┆ ---        ┆ ---       ┆ ---   ┆ f         │\n",
       "│ str        ┆ datetime[n ┆ f32       ┆ f32       ┆   ┆ f32        ┆ f32       ┆ enum  ┆ ---       │\n",
       "│            ┆ s]         ┆           ┆           ┆   ┆            ┆           ┆       ┆ f32       │\n",
       "╞════════════╪════════════╪═══════════╪═══════════╪═══╪════════════╪═══════════╪═══════╪═══════════╡\n",
       "│ 32449-512- ┆ 2017-10-29 ┆ 93.230003 ┆ 24.440001 ┆ … ┆ 175.630005 ┆ 100.16998 ┆ null  ┆ 75.459999 │\n",
       "│ 3623       ┆ 19:48:49.8 ┆           ┆           ┆   ┆            ┆ 3         ┆       ┆           │\n",
       "│            ┆ 00         ┆           ┆           ┆   ┆            ┆           ┆       ┆           │\n",
       "│ 27978-512- ┆ 2017-10-29 ┆ 86.470001 ┆ 25.1      ┆ … ┆ 98.730011  ┆ -29.10000 ┆ null  ┆ 127.83000 │\n",
       "│ 3623       ┆ 19:48:49.8 ┆           ┆           ┆   ┆            ┆ 6         ┆       ┆ 2         │\n",
       "│            ┆ 00         ┆           ┆           ┆   ┆            ┆           ┆       ┆           │\n",
       "│ 32688-512- ┆ 2017-10-29 ┆ 56.509998 ┆ 5.6       ┆ … ┆ 97.399994  ┆ -162.4700 ┆ null  ┆ 100.12999 │\n",
       "│ 3623       ┆ 19:48:49.8 ┆           ┆           ┆   ┆            ┆ 01        ┆       ┆ 7         │\n",
       "│            ┆ 00         ┆           ┆           ┆   ┆            ┆           ┆       ┆           │\n",
       "│ 30160-512- ┆ 2017-10-29 ┆ 85.139999 ┆ 23.370001 ┆ … ┆ -72.329987 ┆ 62.100006 ┆ null  ┆ 134.42999 │\n",
       "│ 3623       ┆ 19:48:49.8 ┆           ┆           ┆   ┆            ┆           ┆       ┆ 3         │\n",
       "│            ┆ 00         ┆           ┆           ┆   ┆            ┆           ┆       ┆           │\n",
       "│ 33260-512- ┆ 2017-10-29 ┆ 85.300003 ┆ 23.75     ┆ … ┆ -98.720001 ┆ -80.48001 ┆ null  ┆ 18.24     │\n",
       "│ 3623       ┆ 19:48:49.8 ┆           ┆           ┆   ┆            ┆ 1         ┆       ┆           │\n",
       "│            ┆ 00         ┆           ┆           ┆   ┆            ┆           ┆       ┆           │\n",
       "└────────────┴────────────┴───────────┴───────────┴───┴────────────┴───────────┴───────┴───────────┘"
      ]
     },
     "execution_count": 8,
     "metadata": {},
     "output_type": "execute_result"
    }
   ],
   "source": [
    "track = angle_corrector(track)\n",
    "track.head()"
   ]
  },
  {
   "cell_type": "code",
   "execution_count": 9,
   "metadata": {},
   "outputs": [],
   "source": [
    "import numpy as np\n",
    "import polars as pl\n",
    "\n",
    "def dynamics_calculator(df):\n",
    "    \"\"\"\n",
    "    Calculate dynamics based on (X,Y) and time columns per PlayKey.\n",
    "    \"\"\"\n",
    "    \n",
    "    df = df.lazy()\n",
    "    df = df.sort(['PlayKey', 'time']).with_columns([\n",
    "        # Pre-calculate shifted values\n",
    "        pl.col(\"x\").shift(1).over(\"PlayKey\").alias(\"prev_x\"),\n",
    "        pl.col(\"y\").shift(1).over(\"PlayKey\").alias(\"prev_y\"),\n",
    "        pl.col(\"time\").shift(1).over(\"PlayKey\").alias(\"prev_time\"),\n",
    "        pl.col(\"dir\").shift(1).over(\"PlayKey\").alias(\"prev_dir\"),\n",
    "        pl.col(\"o\").shift(1).over(\"PlayKey\").alias(\"prev_o\")\n",
    "    ]).with_columns([\n",
    "        # Calculate time difference in seconds\n",
    "        ((pl.col(\"time\") - pl.col(\"prev_time\")).dt.total_seconds()).alias(\"dt\"),\n",
    "        # Calculate x and y differences\n",
    "        (pl.col(\"x\") - pl.col(\"prev_x\")).alias(\"dx\"),\n",
    "        (pl.col(\"y\") - pl.col(\"prev_y\")).alias(\"dy\")\n",
    "    ]).with_columns([\n",
    "        # Calculate displacement\n",
    "        ((pl.col(\"dx\")**2 + pl.col(\"dy\")**2)**0.5).alias(\"dist\")\n",
    "    ]).with_columns([\n",
    "        # Calculate speed (yards per second)\n",
    "        (pl.col(\"dist\") / pl.col(\"dt\")).alias(\"speed\"),\n",
    "        # Calculate direction (degrees)\n",
    "        (np.degrees(pl.arctan2(pl.col(\"dy\"), pl.col(\"dx\")))).alias(\"direction\"),\n",
    "        # Calculate velocity components (yards per second)\n",
    "        (pl.col(\"dx\") / pl.col(\"dt\")).alias(\"vx\"),\n",
    "        (pl.col(\"dy\") / pl.col(\"dt\")).alias(\"vy\"),\n",
    "        # Calculate angular velocities (degrees per second)\n",
    "        ((pl.col(\"dir\") - pl.col(\"prev_dir\")) / pl.col(\"dt\")).alias(\"omega_dir\"),\n",
    "        ((pl.col(\"o\") - pl.col(\"prev_o\")) / pl.col(\"dt\")).alias(\"omega_o\")\n",
    "    ]).with_columns([\n",
    "        ((pl.col(\"omega_dir\") - pl.col(\"omega_o\")).abs()).alias(\"d_omega\")\n",
    "    ]).drop([\n",
    "        \"prev_x\", \"prev_y\", \"prev_time\", \"prev_dir\", \"prev_o\", \"dt\", \"dx\", \"dy\"\n",
    "    ])\n",
    "\n",
    "    return df.collect()\n"
   ]
  },
  {
   "cell_type": "markdown",
   "metadata": {},
   "source": [
    "# Trying a New Approach to the Concussion NGS data, cleaning and processing\n",
    "\n",
    "In this approach, I will not be using the database files. I will be processing the period files individually, and then adding them to the database afterwards. "
   ]
  },
  {
   "cell_type": "code",
   "execution_count": 1,
   "metadata": {},
   "outputs": [],
   "source": [
    "import polars as pl  # type: ignore\n",
    "import numpy as np # type: ignore\n",
    "from TransformFunctions import *"
   ]
  },
  {
   "cell_type": "code",
   "execution_count": 2,
   "metadata": {},
   "outputs": [],
   "source": [
    "lazy_df = pl.scan_csv(\"F:/Data/Processing_data/NGS/NGS-2016-post.csv\").drop(['Event', 'dis', 'Season_Year'])"
   ]
  },
  {
   "cell_type": "code",
   "execution_count": 3,
   "metadata": {},
   "outputs": [
    {
     "data": {
      "text/html": [
       "<div><style>\n",
       ".dataframe > thead > tr,\n",
       ".dataframe > tbody > tr {\n",
       "  text-align: right;\n",
       "  white-space: pre-wrap;\n",
       "}\n",
       "</style>\n",
       "<small>shape: (10, 8)</small><table border=\"1\" class=\"dataframe\"><thead><tr><th>GameKey</th><th>PlayID</th><th>GSISID</th><th>Time</th><th>x</th><th>y</th><th>o</th><th>dir</th></tr><tr><td>i64</td><td>i64</td><td>i64</td><td>str</td><td>f64</td><td>f64</td><td>f64</td><td>f64</td></tr></thead><tbody><tr><td>332</td><td>2983</td><td>31357</td><td>&quot;2017-02-06 02:16:46.500&quot;</td><td>62.5</td><td>44.040001</td><td>172.75</td><td>254.820007</td></tr><tr><td>332</td><td>2983</td><td>29252</td><td>&quot;2017-02-06 02:16:46.700&quot;</td><td>62.34</td><td>24.610001</td><td>183.720001</td><td>86.209999</td></tr><tr><td>332</td><td>2983</td><td>31570</td><td>&quot;2017-02-06 02:16:46.700&quot;</td><td>62.34</td><td>7.34</td><td>164.559998</td><td>199.660004</td></tr><tr><td>332</td><td>2983</td><td>31357</td><td>&quot;2017-02-06 02:16:46.700&quot;</td><td>62.48</td><td>44.07</td><td>160.509995</td><td>250.039993</td></tr><tr><td>332</td><td>2983</td><td>27980</td><td>&quot;2017-02-06 02:16:46.700&quot;</td><td>62.650002</td><td>22.129999</td><td>185.669998</td><td>266.5</td></tr><tr><td>332</td><td>2983</td><td>28581</td><td>&quot;2017-02-06 02:16:46.700&quot;</td><td>64.410004</td><td>22.01</td><td>188.610001</td><td>292.920013</td></tr><tr><td>332</td><td>2983</td><td>29792</td><td>&quot;2017-02-06 02:16:46.700&quot;</td><td>62.310001</td><td>23.129999</td><td>182.300003</td><td>9.59</td></tr><tr><td>332</td><td>2983</td><td>29252</td><td>&quot;2017-02-06 02:16:46.800&quot;</td><td>62.349998</td><td>24.59</td><td>181.449997</td><td>105.150001</td></tr><tr><td>332</td><td>2983</td><td>31570</td><td>&quot;2017-02-06 02:16:46.800&quot;</td><td>62.34</td><td>7.32</td><td>164.139999</td><td>212.910004</td></tr><tr><td>332</td><td>2983</td><td>31357</td><td>&quot;2017-02-06 02:16:46.800&quot;</td><td>62.459999</td><td>44.060001</td><td>154.059998</td><td>245.100006</td></tr></tbody></table></div>"
      ],
      "text/plain": [
       "shape: (10, 8)\n",
       "┌─────────┬────────┬────────┬──────────────┬───────────┬───────────┬────────────┬────────────┐\n",
       "│ GameKey ┆ PlayID ┆ GSISID ┆ Time         ┆ x         ┆ y         ┆ o          ┆ dir        │\n",
       "│ ---     ┆ ---    ┆ ---    ┆ ---          ┆ ---       ┆ ---       ┆ ---        ┆ ---        │\n",
       "│ i64     ┆ i64    ┆ i64    ┆ str          ┆ f64       ┆ f64       ┆ f64        ┆ f64        │\n",
       "╞═════════╪════════╪════════╪══════════════╪═══════════╪═══════════╪════════════╪════════════╡\n",
       "│ 332     ┆ 2983   ┆ 31357  ┆ 2017-02-06   ┆ 62.5      ┆ 44.040001 ┆ 172.75     ┆ 254.820007 │\n",
       "│         ┆        ┆        ┆ 02:16:46.500 ┆           ┆           ┆            ┆            │\n",
       "│ 332     ┆ 2983   ┆ 29252  ┆ 2017-02-06   ┆ 62.34     ┆ 24.610001 ┆ 183.720001 ┆ 86.209999  │\n",
       "│         ┆        ┆        ┆ 02:16:46.700 ┆           ┆           ┆            ┆            │\n",
       "│ 332     ┆ 2983   ┆ 31570  ┆ 2017-02-06   ┆ 62.34     ┆ 7.34      ┆ 164.559998 ┆ 199.660004 │\n",
       "│         ┆        ┆        ┆ 02:16:46.700 ┆           ┆           ┆            ┆            │\n",
       "│ 332     ┆ 2983   ┆ 31357  ┆ 2017-02-06   ┆ 62.48     ┆ 44.07     ┆ 160.509995 ┆ 250.039993 │\n",
       "│         ┆        ┆        ┆ 02:16:46.700 ┆           ┆           ┆            ┆            │\n",
       "│ 332     ┆ 2983   ┆ 27980  ┆ 2017-02-06   ┆ 62.650002 ┆ 22.129999 ┆ 185.669998 ┆ 266.5      │\n",
       "│         ┆        ┆        ┆ 02:16:46.700 ┆           ┆           ┆            ┆            │\n",
       "│ 332     ┆ 2983   ┆ 28581  ┆ 2017-02-06   ┆ 64.410004 ┆ 22.01     ┆ 188.610001 ┆ 292.920013 │\n",
       "│         ┆        ┆        ┆ 02:16:46.700 ┆           ┆           ┆            ┆            │\n",
       "│ 332     ┆ 2983   ┆ 29792  ┆ 2017-02-06   ┆ 62.310001 ┆ 23.129999 ┆ 182.300003 ┆ 9.59       │\n",
       "│         ┆        ┆        ┆ 02:16:46.700 ┆           ┆           ┆            ┆            │\n",
       "│ 332     ┆ 2983   ┆ 29252  ┆ 2017-02-06   ┆ 62.349998 ┆ 24.59     ┆ 181.449997 ┆ 105.150001 │\n",
       "│         ┆        ┆        ┆ 02:16:46.800 ┆           ┆           ┆            ┆            │\n",
       "│ 332     ┆ 2983   ┆ 31570  ┆ 2017-02-06   ┆ 62.34     ┆ 7.32      ┆ 164.139999 ┆ 212.910004 │\n",
       "│         ┆        ┆        ┆ 02:16:46.800 ┆           ┆           ┆            ┆            │\n",
       "│ 332     ┆ 2983   ┆ 31357  ┆ 2017-02-06   ┆ 62.459999 ┆ 44.060001 ┆ 154.059998 ┆ 245.100006 │\n",
       "│         ┆        ┆        ┆ 02:16:46.800 ┆           ┆           ┆            ┆            │\n",
       "└─────────┴────────┴────────┴──────────────┴───────────┴───────────┴────────────┴────────────┘"
      ]
     },
     "execution_count": 3,
     "metadata": {},
     "output_type": "execute_result"
    }
   ],
   "source": [
    "lazy_df.head(10).collect()"
   ]
  },
  {
   "cell_type": "code",
   "execution_count": 4,
   "metadata": {},
   "outputs": [],
   "source": [
    "lazy_df = column_corrector(lazy_df)"
   ]
  },
  {
   "cell_type": "code",
   "execution_count": 6,
   "metadata": {},
   "outputs": [],
   "source": [
    "lazy_df = angle_corrector(lazy_df)"
   ]
  },
  {
   "cell_type": "code",
   "execution_count": 7,
   "metadata": {},
   "outputs": [],
   "source": [
    "lazy_df = body_builder(lazy_df, 'ngs_data')"
   ]
  },
  {
   "cell_type": "code",
   "execution_count": 8,
   "metadata": {},
   "outputs": [],
   "source": [
    "lazy_df = velocity_calculator(lazy_df)"
   ]
  },
  {
   "cell_type": "code",
   "execution_count": 9,
   "metadata": {},
   "outputs": [],
   "source": [
    "lazy_df = impulse_calculator(lazy_df)"
   ]
  },
  {
   "cell_type": "code",
   "execution_count": 10,
   "metadata": {},
   "outputs": [
    {
     "data": {
      "text/html": [
       "<div><style>\n",
       ".dataframe > thead > tr,\n",
       ".dataframe > tbody > tr {\n",
       "  text-align: right;\n",
       "  white-space: pre-wrap;\n",
       "}\n",
       "</style>\n",
       "<small>shape: (10, 33)</small><table border=\"1\" class=\"dataframe\"><thead><tr><th>PlayKey</th><th>Datetime</th><th>x</th><th>y</th><th>o</th><th>dir</th><th>GSISID</th><th>Time</th><th>Angle_Diff</th><th>position</th><th>Height_m</th><th>Weight_kg</th><th>Chest_rad_m</th><th>Displacement</th><th>Speed</th><th>Direction</th><th>vx</th><th>vy</th><th>omega_dir</th><th>omega_o</th><th>omega_diff</th><th>px</th><th>py</th><th>moment</th><th>moment_upper</th><th>p_magnitude</th><th>L_dir</th><th>L_diff</th><th>Jx</th><th>Jy</th><th>J_magnitude</th><th>torque</th><th>torque_internal</th></tr><tr><td>str</td><td>str</td><td>f64</td><td>f64</td><td>f64</td><td>f64</td><td>i32</td><td>f64</td><td>f64</td><td>str</td><td>f64</td><td>f64</td><td>f64</td><td>f64</td><td>f64</td><td>f64</td><td>f64</td><td>f64</td><td>f64</td><td>f64</td><td>f64</td><td>f64</td><td>f64</td><td>f64</td><td>f64</td><td>f64</td><td>f64</td><td>f64</td><td>f64</td><td>f64</td><td>f64</td><td>f64</td><td>f64</td></tr></thead><tbody><tr><td>&quot;19714-322-1031&quot;</td><td>&quot;2017-01-07 22:21:44.900&quot;</td><td>9.55</td><td>22.559999</td><td>-110.520004</td><td>-52.25</td><td>19714</td><td>0.0</td><td>58.27</td><td>&quot;P&quot;</td><td>1.88</td><td>97.52</td><td>0.191</td><td>null</td><td>null</td><td>null</td><td>null</td><td>null</td><td>null</td><td>null</td><td>null</td><td>null</td><td>null</td><td>0.296469</td><td>0.207528</td><td>null</td><td>null</td><td>null</td><td>null</td><td>null</td><td>null</td><td>null</td><td>null</td></tr><tr><td>&quot;19714-322-1031&quot;</td><td>&quot;2017-01-07 22:21:45.000&quot;</td><td>9.45</td><td>22.629999</td><td>-100.359985</td><td>-52.149994</td><td>19714</td><td>0.1</td><td>48.21</td><td>&quot;P&quot;</td><td>1.88</td><td>97.52</td><td>0.191</td><td>0.122066</td><td>1.220657</td><td>-55.008202</td><td>-1.000004</td><td>0.699997</td><td>0.017454</td><td>1.773258</td><td>1.755803</td><td>-97.520373</td><td>68.263698</td><td>0.296469</td><td>0.207528</td><td>119.038462</td><td>0.005175</td><td>0.364379</td><td>null</td><td>null</td><td>null</td><td>null</td><td>null</td></tr><tr><td>&quot;19714-322-1031&quot;</td><td>&quot;2017-01-07 22:21:45.100&quot;</td><td>9.33</td><td>22.719999</td><td>-87.170013</td><td>-51.779999</td><td>19714</td><td>0.2</td><td>35.39</td><td>&quot;P&quot;</td><td>1.88</td><td>97.52</td><td>0.191</td><td>0.15</td><td>1.5</td><td>-53.13003</td><td>-1.199999</td><td>0.900001</td><td>0.064576</td><td>2.302084</td><td>2.237508</td><td>-117.023888</td><td>87.768146</td><td>0.296469</td><td>0.207528</td><td>146.279998</td><td>0.019145</td><td>0.464346</td><td>-19.503515</td><td>19.504449</td><td>27.582796</td><td>0.139702</td><td>0.999673</td></tr><tr><td>&quot;19714-322-1031&quot;</td><td>&quot;2017-01-07 22:21:45.200&quot;</td><td>9.21</td><td>22.809999</td><td>-72.200012</td><td>-51.799988</td><td>19714</td><td>0.3</td><td>20.4</td><td>&quot;P&quot;</td><td>1.88</td><td>97.52</td><td>0.191</td><td>0.15</td><td>1.5</td><td>-53.130027</td><td>-1.199999</td><td>0.900002</td><td>-0.003489</td><td>2.612758</td><td>2.616247</td><td>-117.023889</td><td>87.768156</td><td>0.296469</td><td>0.207528</td><td>146.280005</td><td>-0.001034</td><td>0.542945</td><td>-9.7520e-7</td><td>0.00001</td><td>0.00001</td><td>-0.201792</td><td>0.78599</td></tr><tr><td>&quot;19714-322-1031&quot;</td><td>&quot;2017-01-07 22:21:45.300&quot;</td><td>9.09</td><td>22.91</td><td>-57.209992</td><td>-51.609985</td><td>19714</td><td>0.4</td><td>5.6</td><td>&quot;P&quot;</td><td>1.88</td><td>97.52</td><td>0.191</td><td>0.156205</td><td>1.562051</td><td>-50.194295</td><td>-1.199999</td><td>1.000004</td><td>0.033162</td><td>2.616252</td><td>2.58309</td><td>-117.023888</td><td>97.520371</td><td>0.296469</td><td>0.207528</td><td>152.331261</td><td>0.009831</td><td>0.536064</td><td>9.7520e-7</td><td>9.752215</td><td>9.752215</td><td>0.108657</td><td>-0.068809</td></tr><tr><td>&quot;19714-322-1031&quot;</td><td>&quot;2017-01-07 22:21:45.400&quot;</td><td>9.0</td><td>23.0</td><td>-44.049988</td><td>-51.690002</td><td>19714</td><td>0.5</td><td>7.64</td><td>&quot;P&quot;</td><td>1.88</td><td>97.52</td><td>0.191</td><td>0.127279</td><td>1.272794</td><td>-45.000001</td><td>-0.900002</td><td>0.900002</td><td>-0.013966</td><td>2.296854</td><td>2.31082</td><td>-87.768149</td><td>87.768146</td><td>0.296469</td><td>0.207528</td><td>124.122905</td><td>-0.00414</td><td>0.47956</td><td>29.255739</td><td>-9.752224</td><td>30.838355</td><td>-0.139718</td><td>-0.565039</td></tr><tr><td>&quot;19714-322-1031&quot;</td><td>&quot;2017-01-07 22:21:45.500&quot;</td><td>8.9</td><td>23.09</td><td>-32.73999</td><td>-50.799988</td><td>19714</td><td>0.6</td><td>18.06</td><td>&quot;P&quot;</td><td>1.88</td><td>97.52</td><td>0.191</td><td>0.134537</td><td>1.345366</td><td>-48.012849</td><td>-1.000004</td><td>0.900002</td><td>0.155337</td><td>1.973967</td><td>1.81863</td><td>-97.520372</td><td>87.768146</td><td>0.296469</td><td>0.207528</td><td>131.200116</td><td>0.046053</td><td>0.377417</td><td>-9.752222</td><td>0.0</td><td>9.752222</td><td>0.501929</td><td>-1.021432</td></tr><tr><td>&quot;19714-322-1031&quot;</td><td>&quot;2017-01-07 22:21:45.600&quot;</td><td>8.8</td><td>23.17</td><td>-22.570007</td><td>-48.399994</td><td>19714</td><td>0.7</td><td>25.83</td><td>&quot;P&quot;</td><td>1.88</td><td>97.52</td><td>0.191</td><td>0.128062</td><td>1.28062</td><td>-51.340056</td><td>-0.999994</td><td>0.799999</td><td>0.418878</td><td>1.774997</td><td>1.356119</td><td>-97.519442</td><td>78.015932</td><td>0.296469</td><td>0.207528</td><td>124.886057</td><td>0.124184</td><td>0.281433</td><td>0.000929</td><td>-9.752215</td><td>9.752215</td><td>0.781317</td><td>-0.959841</td></tr><tr><td>&quot;19714-322-1031&quot;</td><td>&quot;2017-01-07 22:21:45.700&quot;</td><td>8.69</td><td>23.25</td><td>-12.350006</td><td>-46.890015</td><td>19714</td><td>0.8</td><td>34.54</td><td>&quot;P&quot;</td><td>1.88</td><td>97.52</td><td>0.191</td><td>0.136015</td><td>1.360152</td><td>-53.972805</td><td>-1.100006</td><td>0.799999</td><td>0.263541</td><td>1.783727</td><td>1.520186</td><td>-107.272596</td><td>78.015922</td><td>0.296469</td><td>0.207528</td><td>132.641976</td><td>0.078132</td><td>0.315481</td><td>-9.753154</td><td>-0.00001</td><td>9.753154</td><td>-0.460525</td><td>0.340485</td></tr><tr><td>&quot;19714-322-1031&quot;</td><td>&quot;2017-01-07 22:21:45.800&quot;</td><td>8.59</td><td>23.33</td><td>-2.48999</td><td>-45.869995</td><td>19714</td><td>0.9</td><td>43.38</td><td>&quot;P&quot;</td><td>1.88</td><td>97.52</td><td>0.191</td><td>0.128062</td><td>1.28062</td><td>-51.34006</td><td>-0.999994</td><td>0.799999</td><td>0.178027</td><td>1.720897</td><td>1.54287</td><td>-97.519441</td><td>78.015922</td><td>0.296469</td><td>0.207528</td><td>124.88605</td><td>0.052779</td><td>0.320189</td><td>9.753155</td><td>0.0</td><td>9.753155</td><td>-0.253523</td><td>0.047077</td></tr></tbody></table></div>"
      ],
      "text/plain": [
       "shape: (10, 33)\n",
       "┌────────────┬────────────┬──────┬───────────┬───┬───────────┬────────────┬───────────┬────────────┐\n",
       "│ PlayKey    ┆ Datetime   ┆ x    ┆ y         ┆ … ┆ Jy        ┆ J_magnitud ┆ torque    ┆ torque_int │\n",
       "│ ---        ┆ ---        ┆ ---  ┆ ---       ┆   ┆ ---       ┆ e          ┆ ---       ┆ ernal      │\n",
       "│ str        ┆ str        ┆ f64  ┆ f64       ┆   ┆ f64       ┆ ---        ┆ f64       ┆ ---        │\n",
       "│            ┆            ┆      ┆           ┆   ┆           ┆ f64        ┆           ┆ f64        │\n",
       "╞════════════╪════════════╪══════╪═══════════╪═══╪═══════════╪════════════╪═══════════╪════════════╡\n",
       "│ 19714-322- ┆ 2017-01-07 ┆ 9.55 ┆ 22.559999 ┆ … ┆ null      ┆ null       ┆ null      ┆ null       │\n",
       "│ 1031       ┆ 22:21:44.9 ┆      ┆           ┆   ┆           ┆            ┆           ┆            │\n",
       "│            ┆ 00         ┆      ┆           ┆   ┆           ┆            ┆           ┆            │\n",
       "│ 19714-322- ┆ 2017-01-07 ┆ 9.45 ┆ 22.629999 ┆ … ┆ null      ┆ null       ┆ null      ┆ null       │\n",
       "│ 1031       ┆ 22:21:45.0 ┆      ┆           ┆   ┆           ┆            ┆           ┆            │\n",
       "│            ┆ 00         ┆      ┆           ┆   ┆           ┆            ┆           ┆            │\n",
       "│ 19714-322- ┆ 2017-01-07 ┆ 9.33 ┆ 22.719999 ┆ … ┆ 19.504449 ┆ 27.582796  ┆ 0.139702  ┆ 0.999673   │\n",
       "│ 1031       ┆ 22:21:45.1 ┆      ┆           ┆   ┆           ┆            ┆           ┆            │\n",
       "│            ┆ 00         ┆      ┆           ┆   ┆           ┆            ┆           ┆            │\n",
       "│ 19714-322- ┆ 2017-01-07 ┆ 9.21 ┆ 22.809999 ┆ … ┆ 0.00001   ┆ 0.00001    ┆ -0.201792 ┆ 0.78599    │\n",
       "│ 1031       ┆ 22:21:45.2 ┆      ┆           ┆   ┆           ┆            ┆           ┆            │\n",
       "│            ┆ 00         ┆      ┆           ┆   ┆           ┆            ┆           ┆            │\n",
       "│ 19714-322- ┆ 2017-01-07 ┆ 9.09 ┆ 22.91     ┆ … ┆ 9.752215  ┆ 9.752215   ┆ 0.108657  ┆ -0.068809  │\n",
       "│ 1031       ┆ 22:21:45.3 ┆      ┆           ┆   ┆           ┆            ┆           ┆            │\n",
       "│            ┆ 00         ┆      ┆           ┆   ┆           ┆            ┆           ┆            │\n",
       "│ 19714-322- ┆ 2017-01-07 ┆ 9.0  ┆ 23.0      ┆ … ┆ -9.752224 ┆ 30.838355  ┆ -0.139718 ┆ -0.565039  │\n",
       "│ 1031       ┆ 22:21:45.4 ┆      ┆           ┆   ┆           ┆            ┆           ┆            │\n",
       "│            ┆ 00         ┆      ┆           ┆   ┆           ┆            ┆           ┆            │\n",
       "│ 19714-322- ┆ 2017-01-07 ┆ 8.9  ┆ 23.09     ┆ … ┆ 0.0       ┆ 9.752222   ┆ 0.501929  ┆ -1.021432  │\n",
       "│ 1031       ┆ 22:21:45.5 ┆      ┆           ┆   ┆           ┆            ┆           ┆            │\n",
       "│            ┆ 00         ┆      ┆           ┆   ┆           ┆            ┆           ┆            │\n",
       "│ 19714-322- ┆ 2017-01-07 ┆ 8.8  ┆ 23.17     ┆ … ┆ -9.752215 ┆ 9.752215   ┆ 0.781317  ┆ -0.959841  │\n",
       "│ 1031       ┆ 22:21:45.6 ┆      ┆           ┆   ┆           ┆            ┆           ┆            │\n",
       "│            ┆ 00         ┆      ┆           ┆   ┆           ┆            ┆           ┆            │\n",
       "│ 19714-322- ┆ 2017-01-07 ┆ 8.69 ┆ 23.25     ┆ … ┆ -0.00001  ┆ 9.753154   ┆ -0.460525 ┆ 0.340485   │\n",
       "│ 1031       ┆ 22:21:45.7 ┆      ┆           ┆   ┆           ┆            ┆           ┆            │\n",
       "│            ┆ 00         ┆      ┆           ┆   ┆           ┆            ┆           ┆            │\n",
       "│ 19714-322- ┆ 2017-01-07 ┆ 8.59 ┆ 23.33     ┆ … ┆ 0.0       ┆ 9.753155   ┆ -0.253523 ┆ 0.047077   │\n",
       "│ 1031       ┆ 22:21:45.8 ┆      ┆           ┆   ┆           ┆            ┆           ┆            │\n",
       "│            ┆ 00         ┆      ┆           ┆   ┆           ┆            ┆           ┆            │\n",
       "└────────────┴────────────┴──────┴───────────┴───┴───────────┴────────────┴───────────┴────────────┘"
      ]
     },
     "execution_count": 10,
     "metadata": {},
     "output_type": "execute_result"
    }
   ],
   "source": [
    "lazy_df.head(10).collect()"
   ]
  },
  {
   "cell_type": "code",
   "execution_count": 11,
   "metadata": {},
   "outputs": [],
   "source": [
    "lazy_summary = path_calculator(lazy_df)"
   ]
  },
  {
   "cell_type": "code",
   "execution_count": 12,
   "metadata": {},
   "outputs": [
    {
     "data": {
      "text/html": [
       "<div><style>\n",
       ".dataframe > thead > tr,\n",
       ".dataframe > tbody > tr {\n",
       "  text-align: right;\n",
       "  white-space: pre-wrap;\n",
       "}\n",
       "</style>\n",
       "<small>shape: (5, 14)</small><table border=\"1\" class=\"dataframe\"><thead><tr><th>PlayKey</th><th>Distance</th><th>Displacement</th><th>Path_Diff</th><th>Max_Angle_Diff</th><th>Mean_Angle_Diff</th><th>Max_Speed</th><th>Mean_Speed</th><th>Max_Impulse</th><th>Mean_Impulse</th><th>Max_Torque</th><th>Mean_Torque</th><th>Max_Int_Torque</th><th>Mean_Int_Torque</th></tr><tr><td>str</td><td>f64</td><td>f64</td><td>f64</td><td>f64</td><td>f64</td><td>f64</td><td>f64</td><td>f64</td><td>f64</td><td>f64</td><td>f64</td><td>f64</td><td>f64</td></tr></thead><tbody><tr><td>&quot;19714-322-1031&quot;</td><td>52.905414</td><td>37.634929</td><td>15.270486</td><td>179.38</td><td>100.349774</td><td>5.147822</td><td>1.996431</td><td>70.322472</td><td>21.243746</td><td>248.384758</td><td>0.000862</td><td>123.99006</td><td>-0.010413</td></tr><tr><td>&quot;19714-322-1145&quot;</td><td>0.953801</td><td>0.920219</td><td>0.033582</td><td>91.74</td><td>88.5775</td><td>1.746407</td><td>1.362573</td><td>30.836816</td><td>25.141761</td><td>0.496734</td><td>0.098311</td><td>130.397464</td><td>-0.10685</td></tr><tr><td>&quot;19714-322-1709&quot;</td><td>49.058803</td><td>29.753409</td><td>19.305394</td><td>179.96</td><td>92.11524</td><td>3.036425</td><td>0.654991</td><td>80.418892</td><td>19.013006</td><td>254.671606</td><td>-0.000629</td><td>130.038885</td><td>0.000237</td></tr><tr><td>&quot;19714-322-1738&quot;</td><td>34.336937</td><td>14.178928</td><td>20.158009</td><td>176.24</td><td>86.465911</td><td>4.802082</td><td>1.100543</td><td>70.324801</td><td>20.338119</td><td>222.368074</td><td>0.000532</td><td>128.941398</td><td>-0.003133</td></tr><tr><td>&quot;19714-322-1859&quot;</td><td>1.564304</td><td>0.770065</td><td>0.794238</td><td>178.96</td><td>105.360962</td><td>1.140177</td><td>0.306726</td><td>111.189714</td><td>19.509938</td><td>186.013031</td><td>0.038704</td><td>125.811952</td><td>0.013909</td></tr></tbody></table></div>"
      ],
      "text/plain": [
       "shape: (5, 14)\n",
       "┌───────────┬───────────┬───────────┬───────────┬───┬───────────┬───────────┬───────────┬──────────┐\n",
       "│ PlayKey   ┆ Distance  ┆ Displacem ┆ Path_Diff ┆ … ┆ Max_Torqu ┆ Mean_Torq ┆ Max_Int_T ┆ Mean_Int │\n",
       "│ ---       ┆ ---       ┆ ent       ┆ ---       ┆   ┆ e         ┆ ue        ┆ orque     ┆ _Torque  │\n",
       "│ str       ┆ f64       ┆ ---       ┆ f64       ┆   ┆ ---       ┆ ---       ┆ ---       ┆ ---      │\n",
       "│           ┆           ┆ f64       ┆           ┆   ┆ f64       ┆ f64       ┆ f64       ┆ f64      │\n",
       "╞═══════════╪═══════════╪═══════════╪═══════════╪═══╪═══════════╪═══════════╪═══════════╪══════════╡\n",
       "│ 19714-322 ┆ 52.905414 ┆ 37.634929 ┆ 15.270486 ┆ … ┆ 248.38475 ┆ 0.000862  ┆ 123.99006 ┆ -0.01041 │\n",
       "│ -1031     ┆           ┆           ┆           ┆   ┆ 8         ┆           ┆           ┆ 3        │\n",
       "│ 19714-322 ┆ 0.953801  ┆ 0.920219  ┆ 0.033582  ┆ … ┆ 0.496734  ┆ 0.098311  ┆ 130.39746 ┆ -0.10685 │\n",
       "│ -1145     ┆           ┆           ┆           ┆   ┆           ┆           ┆ 4         ┆          │\n",
       "│ 19714-322 ┆ 49.058803 ┆ 29.753409 ┆ 19.305394 ┆ … ┆ 254.67160 ┆ -0.000629 ┆ 130.03888 ┆ 0.000237 │\n",
       "│ -1709     ┆           ┆           ┆           ┆   ┆ 6         ┆           ┆ 5         ┆          │\n",
       "│ 19714-322 ┆ 34.336937 ┆ 14.178928 ┆ 20.158009 ┆ … ┆ 222.36807 ┆ 0.000532  ┆ 128.94139 ┆ -0.00313 │\n",
       "│ -1738     ┆           ┆           ┆           ┆   ┆ 4         ┆           ┆ 8         ┆ 3        │\n",
       "│ 19714-322 ┆ 1.564304  ┆ 0.770065  ┆ 0.794238  ┆ … ┆ 186.01303 ┆ 0.038704  ┆ 125.81195 ┆ 0.013909 │\n",
       "│ -1859     ┆           ┆           ┆           ┆   ┆ 1         ┆           ┆ 2         ┆          │\n",
       "└───────────┴───────────┴───────────┴───────────┴───┴───────────┴───────────┴───────────┴──────────┘"
      ]
     },
     "execution_count": 12,
     "metadata": {},
     "output_type": "execute_result"
    }
   ],
   "source": [
    "lazy_summary.head().collect()"
   ]
  }
 ],
 "metadata": {
  "kernelspec": {
   "display_name": "PythonData",
   "language": "python",
   "name": "python3"
  },
  "language_info": {
   "codemirror_mode": {
    "name": "ipython",
    "version": 3
   },
   "file_extension": ".py",
   "mimetype": "text/x-python",
   "name": "python",
   "nbconvert_exporter": "python",
   "pygments_lexer": "ipython3",
   "version": "3.9.19"
  }
 },
 "nbformat": 4,
 "nbformat_minor": 2
}
