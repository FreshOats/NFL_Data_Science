{
 "cells": [
  {
   "cell_type": "markdown",
   "metadata": {},
   "source": [
    "# ETL for the Concussion Data\n",
    "\n",
    "There is a lot of overlap with the Lower Body Data and some of the functions should be able to be used for both of them. Going to continue to use polars with this since the data is still huge. There are 60 million rows in the ngs data\n",
    "\n",
    "\n"
   ]
  },
  {
   "cell_type": "markdown",
   "metadata": {},
   "source": [
    "## game_data\n",
    "Starting with the gamekey, season year, season type, week, and game_day, and game_date - the game date actually provides all of the necessary data, and anything additional can actually skew any machine learning findings. \n",
    "\n",
    "Likewise, team and team codes are redundant. The team codes are less likely to have spelling errors. Will maintain hometeamcode and visitteamcode. \n",
    "\n",
    "As far as stadium locations, the ones that are redundant are Mexico City - Estadio Azteca and Mexico - Estadio Azteca, and London - Wembley and Wembley - Wembley Stadium\n",
    "\n",
    "There is an issue with the game listed in Indianapolis at Tom Benson, which is in Canton - this game was actually canceled as verified online. \n",
    "Ralph Wilson Stadium is the same location as New Era Field.\n",
    "\n",
    "The outdoor weather is so inconsistently recorded, there are 134 differnt weather conditions, but most don't actually include weather types, whereas there are only 10 types of gameweather including null. "
   ]
  },
  {
   "cell_type": "code",
   "execution_count": null,
   "metadata": {},
   "outputs": [],
   "source": [
    "SELECT gamekey\n",
    "    , game_date\n",
    "    , game_site\n",
    "    , start_time\n",
    "    , hometeamcode\n",
    "    , visitteamcode\n",
    "    , stadiumtype\n",
    "    , turf\n",
    "    , gameweather\n",
    "    , temperature \n",
    "\n",
    "FROM game_data\n",
    "LIMIT 10;\n"
   ]
  },
  {
   "cell_type": "markdown",
   "metadata": {},
   "source": [
    "## ngs_data\n",
    "\n",
    "Again, season_year is unnecessary, since it is included in time. I would like to see if the GSISID numbers are the same as those from the other database. We will need to keep the rest of the information. \n"
   ]
  },
  {
   "cell_type": "code",
   "execution_count": null,
   "metadata": {},
   "outputs": [],
   "source": [
    "SELECT gamekey ,\n",
    "       playid ,\n",
    "       gsisid ,\n",
    "       time ,\n",
    "       x,\n",
    "       y,\n",
    "       dis ,\n",
    "       o ,\n",
    "       dir ,\n",
    "       event\n",
    "FROM ngs_data\n",
    "LIMIT 10 ;"
   ]
  },
  {
   "cell_type": "markdown",
   "metadata": {},
   "source": [
    "## play_information\n",
    "\n",
    "This has similar crap that can be removed, as does the game_data. This will end up joined with the game_data, so we'll need to keep enough to connect them. \n",
    "\n",
    "Season_year, season_type, week can disappear. \n",
    "Play description isn't going to be particularly helpful, as every one of them is completely different. We should already have the home_team_visit_team information from the joined table game_data, so this column may be dropped later."
   ]
  },
  {
   "cell_type": "code",
   "execution_count": null,
   "metadata": {},
   "outputs": [],
   "source": [
    "SELECT gamekey ,\n",
    "       game_date ,\n",
    "       playid,\n",
    "       game_clock ,\n",
    "       yardline ,\n",
    "       quarter ,\n",
    "       play_type ,\n",
    "       poss_team ,\n",
    "       home_team_visit_team ,\n",
    "       score_home_visiting\n",
    "FROM play_information\n",
    "LIMIT 10 ;"
   ]
  },
  {
   "cell_type": "markdown",
   "metadata": {},
   "source": [
    "## punt_data\n",
    "\n",
    "Everything here is necessary - gsisid, number, and position (code)\n",
    "\n",
    "## role_data\n",
    "\n",
    "season_year is unnecessary, since the gamekeys don't overlap, and are already chronologically established "
   ]
  },
  {
   "cell_type": "code",
   "execution_count": null,
   "metadata": {},
   "outputs": [],
   "source": [
    "SELECT gamekey , playid , gsisid , role FROM role_data\n",
    "LIMIT 10 ;"
   ]
  },
  {
   "cell_type": "markdown",
   "metadata": {},
   "source": [
    "## video_review\n",
    "\n",
    "There are no turnovers in the entire table, so this parameter can be removed. \n",
    "In terms of this analysis - there isn't a real reason to keep the primary_partner_gsisid, since we're not looking for the individuals responsible, though it will be nice to have for the visualizations.  \n",
    "friendly_fire isn't something that we can control biomechanically, so there isn't anything that I can really use from this information. \n"
   ]
  },
  {
   "cell_type": "code",
   "execution_count": null,
   "metadata": {},
   "outputs": [],
   "source": [
    "SELECT gamekey, playid, gsisid, player_activity_derived, primary_impact_type, primary_partner_activity_derived, primary_partner_gsisid FROM video_review\n",
    "LIMIT 10 ;"
   ]
  },
  {
   "cell_type": "markdown",
   "metadata": {},
   "source": [
    "# Extract and Clean"
   ]
  },
  {
   "cell_type": "code",
   "execution_count": 1,
   "metadata": {},
   "outputs": [],
   "source": [
    "import polars as pl\n",
    "import sqlalchemy as db\n",
    "from sqlalchemy.orm import Session\n",
    "from sqlalchemy import create_engine\n",
    "import psycopg2"
   ]
  },
  {
   "cell_type": "code",
   "execution_count": 2,
   "metadata": {},
   "outputs": [],
   "source": [
    "from DataHandler import data_loader"
   ]
  },
  {
   "cell_type": "code",
   "execution_count": 3,
   "metadata": {},
   "outputs": [
    {
     "data": {
      "text/html": [
       "<div><style>\n",
       ".dataframe > thead > tr,\n",
       ".dataframe > tbody > tr {\n",
       "  text-align: right;\n",
       "  white-space: pre-wrap;\n",
       "}\n",
       "</style>\n",
       "<small>shape: (5, 10)</small><table border=\"1\" class=\"dataframe\"><thead><tr><th>gamekey</th><th>game_date</th><th>game_site</th><th>start_time</th><th>hometeamcode</th><th>visitteamcode</th><th>stadiumtype</th><th>turf</th><th>gameweather</th><th>temperature</th></tr><tr><td>i32</td><td>datetime[ns]</td><td>str</td><td>str</td><td>str</td><td>str</td><td>str</td><td>str</td><td>str</td><td>f32</td></tr></thead><tbody><tr><td>1</td><td>2016-08-07 00:00:00</td><td>&quot;Indianapolis&quot;</td><td>&quot;20:00&quot;</td><td>&quot;IND&quot;</td><td>&quot;GB&quot;</td><td>&quot;Outdoor&quot;</td><td>&quot;Turf&quot;</td><td>null</td><td>null</td></tr><tr><td>2</td><td>2016-08-13 00:00:00</td><td>&quot;Los Angeles&quot;</td><td>&quot;17:00&quot;</td><td>&quot;LA&quot;</td><td>&quot;DAL&quot;</td><td>&quot;Outdoor&quot;</td><td>&quot;Grass&quot;</td><td>&quot;Sunny&quot;</td><td>79.0</td></tr><tr><td>3</td><td>2016-08-11 00:00:00</td><td>&quot;Baltimore&quot;</td><td>&quot;19:30&quot;</td><td>&quot;BLT&quot;</td><td>&quot;CAR&quot;</td><td>&quot;Outdoor&quot;</td><td>&quot;Natural Grass&quot;</td><td>&quot;Party Cloudy&quot;</td><td>94.0</td></tr><tr><td>4</td><td>2016-08-12 00:00:00</td><td>&quot;Green Bay&quot;</td><td>&quot;19:00&quot;</td><td>&quot;GB&quot;</td><td>&quot;CLV&quot;</td><td>&quot;Outdoor&quot;</td><td>&quot;DD GrassMaster&quot;</td><td>null</td><td>73.0</td></tr><tr><td>5</td><td>2016-08-11 00:00:00</td><td>&quot;Chicago&quot;</td><td>&quot;19:00&quot;</td><td>&quot;CHI&quot;</td><td>&quot;DEN&quot;</td><td>&quot;Outdoor&quot;</td><td>&quot;Grass&quot;</td><td>&quot;Partly Cloudy, Chance of Rain …</td><td>88.0</td></tr></tbody></table></div>"
      ],
      "text/plain": [
       "shape: (5, 10)\n",
       "┌─────────┬────────────┬───────────┬───────────┬───┬───────────┬───────────┬───────────┬───────────┐\n",
       "│ gamekey ┆ game_date  ┆ game_site ┆ start_tim ┆ … ┆ stadiumty ┆ turf      ┆ gameweath ┆ temperatu │\n",
       "│ ---     ┆ ---        ┆ ---       ┆ e         ┆   ┆ pe        ┆ ---       ┆ er        ┆ re        │\n",
       "│ i32     ┆ datetime[n ┆ str       ┆ ---       ┆   ┆ ---       ┆ str       ┆ ---       ┆ ---       │\n",
       "│         ┆ s]         ┆           ┆ str       ┆   ┆ str       ┆           ┆ str       ┆ f32       │\n",
       "╞═════════╪════════════╪═══════════╪═══════════╪═══╪═══════════╪═══════════╪═══════════╪═══════════╡\n",
       "│ 1       ┆ 2016-08-07 ┆ Indianapo ┆ 20:00     ┆ … ┆ Outdoor   ┆ Turf      ┆ null      ┆ null      │\n",
       "│         ┆ 00:00:00   ┆ lis       ┆           ┆   ┆           ┆           ┆           ┆           │\n",
       "│ 2       ┆ 2016-08-13 ┆ Los       ┆ 17:00     ┆ … ┆ Outdoor   ┆ Grass     ┆ Sunny     ┆ 79.0      │\n",
       "│         ┆ 00:00:00   ┆ Angeles   ┆           ┆   ┆           ┆           ┆           ┆           │\n",
       "│ 3       ┆ 2016-08-11 ┆ Baltimore ┆ 19:30     ┆ … ┆ Outdoor   ┆ Natural   ┆ Party     ┆ 94.0      │\n",
       "│         ┆ 00:00:00   ┆           ┆           ┆   ┆           ┆ Grass     ┆ Cloudy    ┆           │\n",
       "│ 4       ┆ 2016-08-12 ┆ Green Bay ┆ 19:00     ┆ … ┆ Outdoor   ┆ DD GrassM ┆ null      ┆ 73.0      │\n",
       "│         ┆ 00:00:00   ┆           ┆           ┆   ┆           ┆ aster     ┆           ┆           │\n",
       "│ 5       ┆ 2016-08-11 ┆ Chicago   ┆ 19:00     ┆ … ┆ Outdoor   ┆ Grass     ┆ Partly    ┆ 88.0      │\n",
       "│         ┆ 00:00:00   ┆           ┆           ┆   ┆           ┆           ┆ Cloudy,   ┆           │\n",
       "│         ┆            ┆           ┆           ┆   ┆           ┆           ┆ Chance of ┆           │\n",
       "│         ┆            ┆           ┆           ┆   ┆           ┆           ┆ Rain …    ┆           │\n",
       "└─────────┴────────────┴───────────┴───────────┴───┴───────────┴───────────┴───────────┴───────────┘"
      ]
     },
     "execution_count": 3,
     "metadata": {},
     "output_type": "execute_result"
    }
   ],
   "source": [
    "game_data = data_loader(database='nfl_concussion', dataset='game_data')\n",
    "game_data.head()"
   ]
  },
  {
   "cell_type": "code",
   "execution_count": 4,
   "metadata": {},
   "outputs": [
    {
     "data": {
      "text/html": [
       "<div><style>\n",
       ".dataframe > thead > tr,\n",
       ".dataframe > tbody > tr {\n",
       "  text-align: right;\n",
       "  white-space: pre-wrap;\n",
       "}\n",
       "</style>\n",
       "<small>shape: (5, 8)</small><table border=\"1\" class=\"dataframe\"><thead><tr><th>gamekey</th><th>game_date</th><th>playid</th><th>yardline</th><th>quarter</th><th>play_type</th><th>poss_team</th><th>score_home_visiting</th></tr><tr><td>i32</td><td>date</td><td>i32</td><td>str</td><td>i32</td><td>str</td><td>str</td><td>str</td></tr></thead><tbody><tr><td>2</td><td>2016-08-13</td><td>191</td><td>&quot;LA 47&quot;</td><td>1</td><td>&quot;Punt&quot;</td><td>&quot;LA&quot;</td><td>&quot;0 - 7&quot;</td></tr><tr><td>2</td><td>2016-08-13</td><td>1132</td><td>&quot;LA 29&quot;</td><td>2</td><td>&quot;Punt&quot;</td><td>&quot;LA&quot;</td><td>&quot;7 - 21&quot;</td></tr><tr><td>2</td><td>2016-08-13</td><td>1227</td><td>&quot;DAL 18&quot;</td><td>2</td><td>&quot;Punt&quot;</td><td>&quot;DAL&quot;</td><td>&quot;7 - 21&quot;</td></tr><tr><td>2</td><td>2016-08-13</td><td>1864</td><td>&quot;DAL 46&quot;</td><td>2</td><td>&quot;Punt&quot;</td><td>&quot;LA&quot;</td><td>&quot;7 - 24&quot;</td></tr><tr><td>2</td><td>2016-08-13</td><td>2247</td><td>&quot;DAL 15&quot;</td><td>3</td><td>&quot;Punt&quot;</td><td>&quot;DAL&quot;</td><td>&quot;14 - 24&quot;</td></tr></tbody></table></div>"
      ],
      "text/plain": [
       "shape: (5, 8)\n",
       "┌─────────┬────────────┬────────┬──────────┬─────────┬───────────┬───────────┬─────────────────────┐\n",
       "│ gamekey ┆ game_date  ┆ playid ┆ yardline ┆ quarter ┆ play_type ┆ poss_team ┆ score_home_visiting │\n",
       "│ ---     ┆ ---        ┆ ---    ┆ ---      ┆ ---     ┆ ---       ┆ ---       ┆ ---                 │\n",
       "│ i32     ┆ date       ┆ i32    ┆ str      ┆ i32     ┆ str       ┆ str       ┆ str                 │\n",
       "╞═════════╪════════════╪════════╪══════════╪═════════╪═══════════╪═══════════╪═════════════════════╡\n",
       "│ 2       ┆ 2016-08-13 ┆ 191    ┆ LA 47    ┆ 1       ┆ Punt      ┆ LA        ┆ 0 - 7               │\n",
       "│ 2       ┆ 2016-08-13 ┆ 1132   ┆ LA 29    ┆ 2       ┆ Punt      ┆ LA        ┆ 7 - 21              │\n",
       "│ 2       ┆ 2016-08-13 ┆ 1227   ┆ DAL 18   ┆ 2       ┆ Punt      ┆ DAL       ┆ 7 - 21              │\n",
       "│ 2       ┆ 2016-08-13 ┆ 1864   ┆ DAL 46   ┆ 2       ┆ Punt      ┆ LA        ┆ 7 - 24              │\n",
       "│ 2       ┆ 2016-08-13 ┆ 2247   ┆ DAL 15   ┆ 3       ┆ Punt      ┆ DAL       ┆ 14 - 24             │\n",
       "└─────────┴────────────┴────────┴──────────┴─────────┴───────────┴───────────┴─────────────────────┘"
      ]
     },
     "execution_count": 4,
     "metadata": {},
     "output_type": "execute_result"
    }
   ],
   "source": [
    "play_information = data_loader(database='nfl_concussion', dataset='play_information')\n",
    "play_information.head()"
   ]
  },
  {
   "cell_type": "code",
   "execution_count": 7,
   "metadata": {},
   "outputs": [
    {
     "data": {
      "text/html": [
       "<div><style>\n",
       ".dataframe > thead > tr,\n",
       ".dataframe > tbody > tr {\n",
       "  text-align: right;\n",
       "  white-space: pre-wrap;\n",
       "}\n",
       "</style>\n",
       "<small>shape: (5, 3)</small><table border=\"1\" class=\"dataframe\"><thead><tr><th>gsisid</th><th>number</th><th>position</th></tr><tr><td>i32</td><td>str</td><td>str</td></tr></thead><tbody><tr><td>32069</td><td>&quot;36&quot;</td><td>&quot;SS&quot;</td></tr><tr><td>30095</td><td>&quot;11&quot;</td><td>&quot;WR&quot;</td></tr><tr><td>31586</td><td>&quot;22&quot;</td><td>&quot;FS&quot;</td></tr><tr><td>29520</td><td>&quot;35&quot;</td><td>&quot;SS&quot;</td></tr><tr><td>30517</td><td>&quot;51&quot;</td><td>&quot;OLB&quot;</td></tr></tbody></table></div>"
      ],
      "text/plain": [
       "shape: (5, 3)\n",
       "┌────────┬────────┬──────────┐\n",
       "│ gsisid ┆ number ┆ position │\n",
       "│ ---    ┆ ---    ┆ ---      │\n",
       "│ i32    ┆ str    ┆ str      │\n",
       "╞════════╪════════╪══════════╡\n",
       "│ 32069  ┆ 36     ┆ SS       │\n",
       "│ 30095  ┆ 11     ┆ WR       │\n",
       "│ 31586  ┆ 22     ┆ FS       │\n",
       "│ 29520  ┆ 35     ┆ SS       │\n",
       "│ 30517  ┆ 51     ┆ OLB      │\n",
       "└────────┴────────┴──────────┘"
      ]
     },
     "execution_count": 7,
     "metadata": {},
     "output_type": "execute_result"
    }
   ],
   "source": [
    "punt_data = data_loader(database='nfl_concussion', dataset='punt_data')\n",
    "punt_data.head()"
   ]
  },
  {
   "cell_type": "code",
   "execution_count": 8,
   "metadata": {},
   "outputs": [
    {
     "data": {
      "text/html": [
       "<div><style>\n",
       ".dataframe > thead > tr,\n",
       ".dataframe > tbody > tr {\n",
       "  text-align: right;\n",
       "  white-space: pre-wrap;\n",
       "}\n",
       "</style>\n",
       "<small>shape: (5, 4)</small><table border=\"1\" class=\"dataframe\"><thead><tr><th>gamekey</th><th>playid</th><th>gsisid</th><th>role</th></tr><tr><td>i32</td><td>i32</td><td>i32</td><td>str</td></tr></thead><tbody><tr><td>414</td><td>188</td><td>33704</td><td>&quot;PDL2&quot;</td></tr><tr><td>414</td><td>1107</td><td>33704</td><td>&quot;PDL2&quot;</td></tr><tr><td>424</td><td>1113</td><td>33704</td><td>&quot;PDR3&quot;</td></tr><tr><td>424</td><td>1454</td><td>33704</td><td>&quot;PLR2&quot;</td></tr><tr><td>424</td><td>644</td><td>33704</td><td>&quot;PRG&quot;</td></tr></tbody></table></div>"
      ],
      "text/plain": [
       "shape: (5, 4)\n",
       "┌─────────┬────────┬────────┬──────┐\n",
       "│ gamekey ┆ playid ┆ gsisid ┆ role │\n",
       "│ ---     ┆ ---    ┆ ---    ┆ ---  │\n",
       "│ i32     ┆ i32    ┆ i32    ┆ str  │\n",
       "╞═════════╪════════╪════════╪══════╡\n",
       "│ 414     ┆ 188    ┆ 33704  ┆ PDL2 │\n",
       "│ 414     ┆ 1107   ┆ 33704  ┆ PDL2 │\n",
       "│ 424     ┆ 1113   ┆ 33704  ┆ PDR3 │\n",
       "│ 424     ┆ 1454   ┆ 33704  ┆ PLR2 │\n",
       "│ 424     ┆ 644    ┆ 33704  ┆ PRG  │\n",
       "└─────────┴────────┴────────┴──────┘"
      ]
     },
     "execution_count": 8,
     "metadata": {},
     "output_type": "execute_result"
    }
   ],
   "source": [
    "role_data = data_loader(database='nfl_concussion', dataset='role_data')\n",
    "role_data.head()"
   ]
  },
  {
   "cell_type": "code",
   "execution_count": 10,
   "metadata": {},
   "outputs": [
    {
     "data": {
      "text/html": [
       "<div><style>\n",
       ".dataframe > thead > tr,\n",
       ".dataframe > tbody > tr {\n",
       "  text-align: right;\n",
       "  white-space: pre-wrap;\n",
       "}\n",
       "</style>\n",
       "<small>shape: (5, 7)</small><table border=\"1\" class=\"dataframe\"><thead><tr><th>gamekey</th><th>playid</th><th>gsisid</th><th>player_activity_derived</th><th>primary_impact_type</th><th>primary_partner_activity_derived</th><th>primary_partner_gsisid</th></tr><tr><td>i32</td><td>i32</td><td>i32</td><td>str</td><td>str</td><td>str</td><td>str</td></tr></thead><tbody><tr><td>5</td><td>3129</td><td>31057</td><td>&quot;Tackling&quot;</td><td>&quot;Helmet-to-body&quot;</td><td>&quot;Tackled&quot;</td><td>&quot;32482&quot;</td></tr><tr><td>21</td><td>2587</td><td>29343</td><td>&quot;Blocked&quot;</td><td>&quot;Helmet-to-helmet&quot;</td><td>&quot;Blocking&quot;</td><td>&quot;31059&quot;</td></tr><tr><td>29</td><td>538</td><td>31023</td><td>&quot;Tackling&quot;</td><td>&quot;Helmet-to-body&quot;</td><td>&quot;Tackled&quot;</td><td>&quot;31941&quot;</td></tr><tr><td>45</td><td>1212</td><td>33121</td><td>&quot;Tackling&quot;</td><td>&quot;Helmet-to-body&quot;</td><td>&quot;Tackled&quot;</td><td>&quot;28249&quot;</td></tr><tr><td>54</td><td>1045</td><td>32444</td><td>&quot;Blocked&quot;</td><td>&quot;Helmet-to-body&quot;</td><td>&quot;Blocked&quot;</td><td>&quot;31756&quot;</td></tr></tbody></table></div>"
      ],
      "text/plain": [
       "shape: (5, 7)\n",
       "┌─────────┬────────┬────────┬─────────────────┬─────────────────┬─────────────────┬────────────────┐\n",
       "│ gamekey ┆ playid ┆ gsisid ┆ player_activity ┆ primary_impact_ ┆ primary_partner ┆ primary_partne │\n",
       "│ ---     ┆ ---    ┆ ---    ┆ _derived        ┆ type            ┆ _activity_deriv ┆ r_gsisid       │\n",
       "│ i32     ┆ i32    ┆ i32    ┆ ---             ┆ ---             ┆ …               ┆ ---            │\n",
       "│         ┆        ┆        ┆ str             ┆ str             ┆ ---             ┆ str            │\n",
       "│         ┆        ┆        ┆                 ┆                 ┆ str             ┆                │\n",
       "╞═════════╪════════╪════════╪═════════════════╪═════════════════╪═════════════════╪════════════════╡\n",
       "│ 5       ┆ 3129   ┆ 31057  ┆ Tackling        ┆ Helmet-to-body  ┆ Tackled         ┆ 32482          │\n",
       "│ 21      ┆ 2587   ┆ 29343  ┆ Blocked         ┆ Helmet-to-helme ┆ Blocking        ┆ 31059          │\n",
       "│         ┆        ┆        ┆                 ┆ t               ┆                 ┆                │\n",
       "│ 29      ┆ 538    ┆ 31023  ┆ Tackling        ┆ Helmet-to-body  ┆ Tackled         ┆ 31941          │\n",
       "│ 45      ┆ 1212   ┆ 33121  ┆ Tackling        ┆ Helmet-to-body  ┆ Tackled         ┆ 28249          │\n",
       "│ 54      ┆ 1045   ┆ 32444  ┆ Blocked         ┆ Helmet-to-body  ┆ Blocked         ┆ 31756          │\n",
       "└─────────┴────────┴────────┴─────────────────┴─────────────────┴─────────────────┴────────────────┘"
      ]
     },
     "execution_count": 10,
     "metadata": {},
     "output_type": "execute_result"
    }
   ],
   "source": [
    "video_review = data_loader(database='nfl_concussion', dataset='video_review')\n",
    "video_review.head()"
   ]
  },
  {
   "cell_type": "markdown",
   "metadata": {},
   "source": [
    "role_data: 146573   - G P Gs\n",
    "play_information: 6681  - G P \n",
    "\n",
    "punt_data: 3259  - Gs\n",
    "video_review: 37  - G P Gs\n",
    "\n",
    "game_data: 666  - G\n",
    "\n",
    "\n",
    "ngs_data: 60716164  - G P Gs "
   ]
  },
  {
   "cell_type": "code",
   "execution_count": null,
   "metadata": {},
   "outputs": [],
   "source": [
    "qualitative_df = role_data.join(\n",
    "    play_information\n",
    "    , on=['gamekey', 'playid']\n",
    "    , how='left'\n",
    ")"
   ]
  }
 ],
 "metadata": {
  "kernelspec": {
   "display_name": "PythonData",
   "language": "python",
   "name": "python3"
  },
  "language_info": {
   "codemirror_mode": {
    "name": "ipython",
    "version": 3
   },
   "file_extension": ".py",
   "mimetype": "text/x-python",
   "name": "python",
   "nbconvert_exporter": "python",
   "pygments_lexer": "ipython3",
   "version": "3.9.12"
  }
 },
 "nbformat": 4,
 "nbformat_minor": 2
}
