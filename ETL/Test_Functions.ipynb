{
 "cells": [
  {
   "cell_type": "code",
   "execution_count": 2,
   "metadata": {},
   "outputs": [],
   "source": [
    "from CleaningFunctions import *"
   ]
  },
  {
   "cell_type": "code",
   "execution_count": 2,
   "metadata": {},
   "outputs": [],
   "source": [
    "quals = clean_injuries('quals')"
   ]
  },
  {
   "cell_type": "code",
   "execution_count": 3,
   "metadata": {},
   "outputs": [],
   "source": [
    "clean_quals = data_loader('clean_quals')"
   ]
  },
  {
   "cell_type": "code",
   "execution_count": 5,
   "metadata": {},
   "outputs": [
    {
     "ename": "ValueError",
     "evalue": "Invalid dataset name 'qualst'. Valid options are: ['clean_quals', 'quals', 'tracking']",
     "output_type": "error",
     "traceback": [
      "\u001b[1;31m---------------------------------------------------------------------------\u001b[0m",
      "\u001b[1;31mValueError\u001b[0m                                Traceback (most recent call last)",
      "Input \u001b[1;32mIn [5]\u001b[0m, in \u001b[0;36m<cell line: 1>\u001b[1;34m()\u001b[0m\n\u001b[1;32m----> 1\u001b[0m quals \u001b[38;5;241m=\u001b[39m \u001b[43mdata_loader\u001b[49m\u001b[43m(\u001b[49m\u001b[38;5;124;43m'\u001b[39;49m\u001b[38;5;124;43mqualst\u001b[39;49m\u001b[38;5;124;43m'\u001b[39;49m\u001b[43m)\u001b[49m\n",
      "File \u001b[1;32mc:\\Users\\justi\\OneDrive\\Desktop\\Analytics\\NFL_Data_Science\\ETL\\CleaningFunctions.py:36\u001b[0m, in \u001b[0;36mdata_loader\u001b[1;34m(dataset)\u001b[0m\n\u001b[0;32m     34\u001b[0m valid_datasets \u001b[38;5;241m=\u001b[39m [\u001b[38;5;124m'\u001b[39m\u001b[38;5;124mclean_quals\u001b[39m\u001b[38;5;124m'\u001b[39m, \u001b[38;5;124m'\u001b[39m\u001b[38;5;124mquals\u001b[39m\u001b[38;5;124m'\u001b[39m, \u001b[38;5;124m'\u001b[39m\u001b[38;5;124mtracking\u001b[39m\u001b[38;5;124m'\u001b[39m]\n\u001b[0;32m     35\u001b[0m \u001b[38;5;28;01mif\u001b[39;00m dataset \u001b[38;5;129;01mnot\u001b[39;00m \u001b[38;5;129;01min\u001b[39;00m valid_datasets:\n\u001b[1;32m---> 36\u001b[0m     \u001b[38;5;28;01mraise\u001b[39;00m \u001b[38;5;167;01mValueError\u001b[39;00m(\u001b[38;5;124mf\u001b[39m\u001b[38;5;124m\"\u001b[39m\u001b[38;5;124mInvalid dataset name \u001b[39m\u001b[38;5;124m'\u001b[39m\u001b[38;5;132;01m{\u001b[39;00mdataset\u001b[38;5;132;01m}\u001b[39;00m\u001b[38;5;124m'\u001b[39m\u001b[38;5;124m. Valid options are: \u001b[39m\u001b[38;5;132;01m{\u001b[39;00mvalid_datasets\u001b[38;5;132;01m}\u001b[39;00m\u001b[38;5;124m\"\u001b[39m)\n\u001b[0;32m     38\u001b[0m \u001b[38;5;28;01mtry\u001b[39;00m:\n\u001b[0;32m     39\u001b[0m     \u001b[38;5;28;01mif\u001b[39;00m dataset \u001b[38;5;241m==\u001b[39m \u001b[38;5;124m'\u001b[39m\u001b[38;5;124mclean_quals\u001b[39m\u001b[38;5;124m'\u001b[39m:\n",
      "\u001b[1;31mValueError\u001b[0m: Invalid dataset name 'qualst'. Valid options are: ['clean_quals', 'quals', 'tracking']"
     ]
    }
   ],
   "source": [
    "quals = data_loader('quals')"
   ]
  },
  {
   "cell_type": "code",
   "execution_count": 4,
   "metadata": {},
   "outputs": [
    {
     "data": {
      "text/html": [
       "<div><style>\n",
       ".dataframe > thead > tr,\n",
       ".dataframe > tbody > tr {\n",
       "  text-align: right;\n",
       "  white-space: pre-wrap;\n",
       "}\n",
       "</style>\n",
       "<small>shape: (5, 12)</small><table border=\"1\" class=\"dataframe\"><thead><tr><th>playkey</th><th>rosterposition</th><th>stadiumtype</th><th>fieldtype</th><th>temperature</th><th>weather</th><th>playtype</th><th>bodypart</th><th>dm_m1</th><th>dm_m7</th><th>dm_m28</th><th>dm_m42</th></tr><tr><td>str</td><td>str</td><td>str</td><td>str</td><td>i32</td><td>str</td><td>str</td><td>str</td><td>i32</td><td>i32</td><td>i32</td><td>i32</td></tr></thead><tbody><tr><td>&quot;26624-1-1&quot;</td><td>&quot;Quarterback&quot;</td><td>&quot;Outdoor&quot;</td><td>&quot;Synthetic&quot;</td><td>63</td><td>&quot;Clear and warm&quot;</td><td>&quot;Pass&quot;</td><td>null</td><td>null</td><td>null</td><td>null</td><td>null</td></tr><tr><td>&quot;26624-1-2&quot;</td><td>&quot;Quarterback&quot;</td><td>&quot;Outdoor&quot;</td><td>&quot;Synthetic&quot;</td><td>63</td><td>&quot;Clear and warm&quot;</td><td>&quot;Pass&quot;</td><td>null</td><td>null</td><td>null</td><td>null</td><td>null</td></tr><tr><td>&quot;26624-1-3&quot;</td><td>&quot;Quarterback&quot;</td><td>&quot;Outdoor&quot;</td><td>&quot;Synthetic&quot;</td><td>63</td><td>&quot;Clear and warm&quot;</td><td>&quot;Rush&quot;</td><td>null</td><td>null</td><td>null</td><td>null</td><td>null</td></tr><tr><td>&quot;26624-1-4&quot;</td><td>&quot;Quarterback&quot;</td><td>&quot;Outdoor&quot;</td><td>&quot;Synthetic&quot;</td><td>63</td><td>&quot;Clear and warm&quot;</td><td>&quot;Rush&quot;</td><td>null</td><td>null</td><td>null</td><td>null</td><td>null</td></tr><tr><td>&quot;26624-1-5&quot;</td><td>&quot;Quarterback&quot;</td><td>&quot;Outdoor&quot;</td><td>&quot;Synthetic&quot;</td><td>63</td><td>&quot;Clear and warm&quot;</td><td>&quot;Pass&quot;</td><td>null</td><td>null</td><td>null</td><td>null</td><td>null</td></tr></tbody></table></div>"
      ],
      "text/plain": [
       "shape: (5, 12)\n",
       "┌───────────┬────────────────┬─────────────┬───────────┬───┬───────┬───────┬────────┬────────┐\n",
       "│ playkey   ┆ rosterposition ┆ stadiumtype ┆ fieldtype ┆ … ┆ dm_m1 ┆ dm_m7 ┆ dm_m28 ┆ dm_m42 │\n",
       "│ ---       ┆ ---            ┆ ---         ┆ ---       ┆   ┆ ---   ┆ ---   ┆ ---    ┆ ---    │\n",
       "│ str       ┆ str            ┆ str         ┆ str       ┆   ┆ i32   ┆ i32   ┆ i32    ┆ i32    │\n",
       "╞═══════════╪════════════════╪═════════════╪═══════════╪═══╪═══════╪═══════╪════════╪════════╡\n",
       "│ 26624-1-1 ┆ Quarterback    ┆ Outdoor     ┆ Synthetic ┆ … ┆ null  ┆ null  ┆ null   ┆ null   │\n",
       "│ 26624-1-2 ┆ Quarterback    ┆ Outdoor     ┆ Synthetic ┆ … ┆ null  ┆ null  ┆ null   ┆ null   │\n",
       "│ 26624-1-3 ┆ Quarterback    ┆ Outdoor     ┆ Synthetic ┆ … ┆ null  ┆ null  ┆ null   ┆ null   │\n",
       "│ 26624-1-4 ┆ Quarterback    ┆ Outdoor     ┆ Synthetic ┆ … ┆ null  ┆ null  ┆ null   ┆ null   │\n",
       "│ 26624-1-5 ┆ Quarterback    ┆ Outdoor     ┆ Synthetic ┆ … ┆ null  ┆ null  ┆ null   ┆ null   │\n",
       "└───────────┴────────────────┴─────────────┴───────────┴───┴───────┴───────┴────────┴────────┘"
      ]
     },
     "execution_count": 4,
     "metadata": {},
     "output_type": "execute_result"
    }
   ],
   "source": [
    "quals.head()"
   ]
  },
  {
   "cell_type": "code",
   "execution_count": null,
   "metadata": {},
   "outputs": [],
   "source": [
    "quals.estimated_size('mb')"
   ]
  },
  {
   "cell_type": "code",
   "execution_count": null,
   "metadata": {},
   "outputs": [],
   "source": [
    "clean_quals.estimated_size('mb')"
   ]
  },
  {
   "cell_type": "code",
   "execution_count": null,
   "metadata": {},
   "outputs": [],
   "source": [
    "clean_quals.head()"
   ]
  },
  {
   "cell_type": "code",
   "execution_count": null,
   "metadata": {},
   "outputs": [],
   "source": [
    "data_shrinker(clean_quals)"
   ]
  }
 ],
 "metadata": {
  "kernelspec": {
   "display_name": "PythonData",
   "language": "python",
   "name": "python3"
  },
  "language_info": {
   "codemirror_mode": {
    "name": "ipython",
    "version": 3
   },
   "file_extension": ".py",
   "mimetype": "text/x-python",
   "name": "python",
   "nbconvert_exporter": "python",
   "pygments_lexer": "ipython3",
   "version": "3.9.12"
  }
 },
 "nbformat": 4,
 "nbformat_minor": 2
}
