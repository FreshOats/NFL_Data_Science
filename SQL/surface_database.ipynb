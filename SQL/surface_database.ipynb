{
    "metadata": {
        "kernelspec": {
            "name": "SQL",
            "display_name": "SQL",
            "language": "sql"
        },
        "language_info": {
            "name": "sql",
            "version": ""
        }
    },
    "nbformat_minor": 2,
    "nbformat": 4,
    "cells": [
        {
            "cell_type": "markdown",
            "source": [
                "Create a new database for the NFL data."
            ],
            "metadata": {
                "azdata_cell_guid": "ba270c45-92de-4b04-8952-7514dc980ac2"
            },
            "attachments": {}
        },
        {
            "cell_type": "code",
            "source": [
                "CREATE DATABASE NFL"
            ],
            "metadata": {
                "azdata_cell_guid": "3a3b670d-89b8-4948-9fa1-ff5b6b64a6a5",
                "language": "sql"
            },
            "outputs": [
                {
                    "output_type": "display_data",
                    "data": {
                        "text/html": "CREATE DATABASE"
                    },
                    "metadata": {}
                },
                {
                    "output_type": "display_data",
                    "data": {
                        "text/html": "Total execution time: 00:00:00.595"
                    },
                    "metadata": {}
                }
            ],
            "execution_count": 1
        },
        {
            "cell_type": "code",
            "source": [
                "DROP TABLE IF EXISTS plays;\r\n",
                "DROP TABLE IF EXISTS injuries;\r\n",
                "DROP TABLE IF EXISTS tracking;\r\n",
                "\r\n",
                ""
            ],
            "metadata": {
                "azdata_cell_guid": "004665ab-a541-4e37-8e0e-7b71230eb8ba",
                "language": "sql"
            },
            "outputs": [
                {
                    "output_type": "display_data",
                    "data": {
                        "text/html": "NOTICE: drop cascades to 2 other objects"
                    },
                    "metadata": {}
                },
                {
                    "output_type": "display_data",
                    "data": {
                        "text/html": "DROP TABLE"
                    },
                    "metadata": {}
                },
                {
                    "output_type": "display_data",
                    "data": {
                        "text/html": "DROP TABLE"
                    },
                    "metadata": {}
                },
                {
                    "output_type": "display_data",
                    "data": {
                        "text/html": "DROP TABLE"
                    },
                    "metadata": {}
                },
                {
                    "output_type": "display_data",
                    "data": {
                        "text/html": "Total execution time: 00:00:00.013"
                    },
                    "metadata": {}
                }
            ],
            "execution_count": 26
        },
        {
            "cell_type": "code",
            "source": [
                "CREATE TABLE plays (\r\n",
                "\tplayerkey INT\r\n",
                "  \t, gameid VARCHAR(50)\r\n",
                "\t, playkey VARCHAR(50)\r\n",
                "\t, rosterposition VARCHAR(50)\r\n",
                "\t, playerday INT\r\n",
                "\t, playergame INT\r\n",
                "\t, stadiumtype VARCHAR(50)\r\n",
                "\t, fieldtype  VARCHAR(50)\r\n",
                "\t, temperature INT\r\n",
                "\t, weather VARCHAR(250)\r\n",
                "\t, playtype VARCHAR(50)\r\n",
                "\t, playergameplay INT\r\n",
                "\t, p_position VARCHAR(50)\r\n",
                "\t, postiongroup VARCHAR(50)\r\n",
                "\t, PRIMARY KEY (playkey)\r\n",
                ");"
            ],
            "metadata": {
                "language": "sql",
                "azdata_cell_guid": "2651a3f6-0606-417e-bf75-cdbcf5079662"
            },
            "outputs": [
                {
                    "output_type": "display_data",
                    "data": {
                        "text/html": "CREATE TABLE"
                    },
                    "metadata": {}
                },
                {
                    "output_type": "display_data",
                    "data": {
                        "text/html": "Total execution time: 00:00:00.017"
                    },
                    "metadata": {}
                }
            ],
            "execution_count": 27
        },
        {
            "cell_type": "code",
            "source": [
                "CREATE TABLE injuries (\r\n",
                "    playerkey INT\r\n",
                "    , gameid VARCHAR(50)\r\n",
                "\t, playkey VARCHAR(50)\r\n",
                "\t, bodypart VARCHAR(50)\r\n",
                "\t, fieldtype VARCHAR(50)\r\n",
                "\t, DM_M1 INT\r\n",
                "\t, DM_M7 INT\r\n",
                "\t, DM_M28 INT\r\n",
                "\t, DM_M42 INT\r\n",
                "\t, FOREIGN KEY (playkey) REFERENCES plays(playkey)\t\t\t \r\n",
                ");"
            ],
            "metadata": {
                "language": "sql",
                "azdata_cell_guid": "9b4e323b-b3e0-41a1-8df3-135a7f38f8cb"
            },
            "outputs": [
                {
                    "output_type": "display_data",
                    "data": {
                        "text/html": "CREATE TABLE"
                    },
                    "metadata": {}
                },
                {
                    "output_type": "display_data",
                    "data": {
                        "text/html": "Total execution time: 00:00:00.012"
                    },
                    "metadata": {}
                }
            ],
            "execution_count": 28
        },
        {
            "cell_type": "code",
            "source": [
                "CREATE TABLE tracking (\r\n",
                "\tplaykey VARCHAR(50)\r\n",
                "\t, time FLOAT\r\n",
                "\t, event VARCHAR(50)\r\n",
                "\t, x FLOAT\r\n",
                "\t, y FLOAT\r\n",
                "\t, dir FLOAT\r\n",
                "\t, dis FLOAT\r\n",
                "\t, O FLOAT\r\n",
                "\t, s FLOAT\r\n",
                "    , FOREIGN KEY (playkey) REFERENCES plays(playkey)\r\n",
                ");"
            ],
            "metadata": {
                "language": "sql",
                "azdata_cell_guid": "10550b2c-bf0a-48ed-9874-e7eb8458b31a"
            },
            "outputs": [
                {
                    "output_type": "display_data",
                    "data": {
                        "text/html": "CREATE TABLE"
                    },
                    "metadata": {}
                },
                {
                    "output_type": "display_data",
                    "data": {
                        "text/html": "Total execution time: 00:00:00.012"
                    },
                    "metadata": {}
                }
            ],
            "execution_count": 29
        },
        {
            "cell_type": "markdown",
            "source": [
                "Look at the head for each table and verify everything was entered correctly."
            ],
            "metadata": {
                "azdata_cell_guid": "990122fa-542d-43fe-9c7d-045032020bd5"
            },
            "attachments": {}
        },
        {
            "cell_type": "code",
            "source": [
                "COPY plays FROM 'F:\\Data\\nfl-playing-surface-analytics\\PlayList.csv' DELIMITER ',' CSV HEADER;\r\n",
                "\r\n",
                ""
            ],
            "metadata": {
                "azdata_cell_guid": "ba5cf24c-0762-423b-b985-5a96bfd70e9f",
                "language": "sql"
            },
            "outputs": [
                {
                    "output_type": "display_data",
                    "data": {
                        "text/html": "COPY 267005"
                    },
                    "metadata": {}
                },
                {
                    "output_type": "display_data",
                    "data": {
                        "text/html": "Total execution time: 00:00:01.922"
                    },
                    "metadata": {}
                }
            ],
            "execution_count": 34
        },
        {
            "cell_type": "code",
            "source": [
                "COPY injuries FROM 'F:\\Data\\nfl-playing-surface-analytics\\InjuryRecord.csv' DELIMITER ',' CSV HEADER;"
            ],
            "metadata": {
                "language": "sql",
                "azdata_cell_guid": "077e170b-4ff7-4bf8-8c91-7dc4ea38bc8f"
            },
            "outputs": [
                {
                    "output_type": "display_data",
                    "data": {
                        "text/html": "COPY 105"
                    },
                    "metadata": {}
                },
                {
                    "output_type": "display_data",
                    "data": {
                        "text/html": "Total execution time: 00:00:00.019"
                    },
                    "metadata": {}
                }
            ],
            "execution_count": 37
        },
        {
            "cell_type": "code",
            "source": [
                "COPY tracking FROM 'F:\\Data\\nfl-playing-surface-analytics\\PlayerTrackData.csv' DELIMITER ',' CSV HEADER; "
            ],
            "metadata": {
                "language": "sql",
                "azdata_cell_guid": "a9f1b343-4920-43e5-9c87-81803fc21948"
            },
            "outputs": [
                {
                    "output_type": "display_data",
                    "data": {
                        "text/html": "COPY 76366748"
                    },
                    "metadata": {}
                },
                {
                    "output_type": "display_data",
                    "data": {
                        "text/html": "Total execution time: 00:18:48.417"
                    },
                    "metadata": {}
                }
            ],
            "execution_count": 40
        }
    ]
}