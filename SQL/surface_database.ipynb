{
    "metadata": {
        "kernelspec": {
            "name": "SQL",
            "display_name": "SQL",
            "language": "sql"
        },
        "language_info": {
            "name": "sql",
            "version": ""
        }
    },
    "nbformat_minor": 2,
    "nbformat": 4,
    "cells": [
        {
            "cell_type": "code",
            "source": [
                "-- Create the Database for the NFL Surface Injuries for optimized code.\r\n",
                "\r\n",
                "CREATE DATABASE NFL_Surface;"
            ],
            "metadata": {
                "azdata_cell_guid": "c69086c2-6732-46c1-812d-f2ac4ceb6126",
                "language": "sql"
            },
            "outputs": [],
            "execution_count": null
        },
        {
            "cell_type": "code",
            "source": [
                "CREATE TABLE IF NOT EXISTS Plays (\r\n",
                "    PlayerKey INT\r\n",
                "  , GameID VARCHAR(10)\r\n",
                "  , PlayKey VARCHAR(20)\r\n",
                "  , RosterPosition VARCHAR(20)\r\n",
                "  , PlayerDay SMALLINT\r\n",
                "  , PlayerGame SMALLINT\r\n",
                "  , StadiumType VARCHAR(25)\r\n",
                "  , FieldType VARCHAR(10)\r\n",
                "  , Temperature SMALLINT\r\n",
                "  , Weather VARCHAR(90)\r\n",
                "  , PlayType VARCHAR(20)\r\n",
                "  , PlayerGamePlay SMALLINT\r\n",
                "  , Position VARCHAR(15)\r\n",
                "  , PositionGroup VARCHAR(15)\r\n",
                "  , PRIMARY KEY (PlayKey)\r\n",
                ") WITH (FILLFACTOR = 90);\r\n",
                "\r\n",
                "CREATE INDEX idx_playerkey ON Plays(PlayerKey);\r\n",
                "CREATE INDEX idx_gameid ON Plays(GameID);\r\n",
                "CREATE INDEX idx_playtype ON Plays(PlayType);\r\n",
                "CREATE INDEX idx_position ON Plays(Position);"
            ],
            "metadata": {
                "language": "sql",
                "azdata_cell_guid": "57d0a116-df9c-4cc1-af9f-df1bd7cf03ed"
            },
            "outputs": [
                {
                    "output_type": "display_data",
                    "data": {
                        "text/html": "CREATE TABLE"
                    },
                    "metadata": {}
                },
                {
                    "output_type": "display_data",
                    "data": {
                        "text/html": "CREATE INDEX"
                    },
                    "metadata": {}
                },
                {
                    "output_type": "display_data",
                    "data": {
                        "text/html": "CREATE INDEX"
                    },
                    "metadata": {}
                },
                {
                    "output_type": "display_data",
                    "data": {
                        "text/html": "CREATE INDEX"
                    },
                    "metadata": {}
                },
                {
                    "output_type": "display_data",
                    "data": {
                        "text/html": "CREATE INDEX"
                    },
                    "metadata": {}
                },
                {
                    "output_type": "display_data",
                    "data": {
                        "text/html": "Total execution time: 00:00:00.034"
                    },
                    "metadata": {}
                }
            ],
            "execution_count": 9
        },
        {
            "cell_type": "code",
            "source": [
                "ALTER TABLE Plays\r\n",
                "ALTER COLUMN PlayerKey TYPE INT;"
            ],
            "metadata": {
                "azdata_cell_guid": "13a9b047-2c4b-4690-9a53-62557f8ca19c",
                "language": "sql"
            },
            "outputs": [
                {
                    "output_type": "display_data",
                    "data": {
                        "text/html": "ALTER TABLE"
                    },
                    "metadata": {}
                },
                {
                    "output_type": "display_data",
                    "data": {
                        "text/html": "Total execution time: 00:00:00.030"
                    },
                    "metadata": {}
                }
            ],
            "execution_count": 11
        },
        {
            "cell_type": "code",
            "source": [
                "COPY Plays\r\n",
                "FROM 'F:\\Data\\nfl-playing-surface-analytics\\PlayList.csv'\r\n",
                "DELIMITER ',' CSV HEADER;"
            ],
            "metadata": {
                "azdata_cell_guid": "7533f7ee-98e4-43c3-bd45-22d2dae4f0a3",
                "language": "sql"
            },
            "outputs": [
                {
                    "output_type": "display_data",
                    "data": {
                        "text/html": "COPY 267005"
                    },
                    "metadata": {}
                },
                {
                    "output_type": "display_data",
                    "data": {
                        "text/html": "Total execution time: 00:00:05.045"
                    },
                    "metadata": {}
                }
            ],
            "execution_count": 12
        },
        {
            "cell_type": "code",
            "source": [
                "CREATE TABLE IF NOT EXISTS Injuries (\r\n",
                "    PlayerKey INTEGER \r\n",
                "  , GameID VARCHAR(10)\r\n",
                "  , PlayKey VARCHAR(20)\r\n",
                "  , BodyPart VARCHAR(5)\r\n",
                "  , Surface VARCHAR(10)\r\n",
                "  , DM_M1 SMALLINT\r\n",
                "  , DM_M7 SMALLINT\r\n",
                "  , DM_M28 SMALLINT\r\n",
                "  , DM_M42 SMALLINT\r\n",
                ") WITH (FILLFACTOR = 90);\r\n",
                "\r\n",
                "CREATE INDEX idx_playkey ON Injuries(PlayKey);\r\n",
                "CREATE INDEX idx_bodypart ON Injuries(BodyPart);\r\n",
                "CREATE INDEX idx_surface ON Injuries(Surface);"
            ],
            "metadata": {
                "azdata_cell_guid": "5f5ee901-3632-4670-ab0e-1c46e4324068",
                "language": "sql",
                "tags": []
            },
            "outputs": [
                {
                    "output_type": "display_data",
                    "data": {
                        "text/html": "CREATE TABLE"
                    },
                    "metadata": {}
                },
                {
                    "output_type": "display_data",
                    "data": {
                        "text/html": "CREATE INDEX"
                    },
                    "metadata": {}
                },
                {
                    "output_type": "display_data",
                    "data": {
                        "text/html": "CREATE INDEX"
                    },
                    "metadata": {}
                },
                {
                    "output_type": "display_data",
                    "data": {
                        "text/html": "CREATE INDEX"
                    },
                    "metadata": {}
                },
                {
                    "output_type": "display_data",
                    "data": {
                        "text/html": "Total execution time: 00:00:00.025"
                    },
                    "metadata": {}
                }
            ],
            "execution_count": 16
        },
        {
            "cell_type": "code",
            "source": [
                "COPY Injuries\r\n",
                "FROM 'F:\\Data\\nfl-playing-surface-analytics\\InjuryRecord.csv'\r\n",
                "DELIMITER ',' CSV HEADER;"
            ],
            "metadata": {
                "azdata_cell_guid": "38efac47-2346-4ec6-b0c4-32b33dfb7c6c",
                "language": "sql"
            },
            "outputs": [
                {
                    "output_type": "display_data",
                    "data": {
                        "text/html": "COPY 105"
                    },
                    "metadata": {}
                },
                {
                    "output_type": "display_data",
                    "data": {
                        "text/html": "Total execution time: 00:00:00.015"
                    },
                    "metadata": {}
                }
            ],
            "execution_count": 17
        },
        {
            "cell_type": "code",
            "source": [
                "DROP TABLE Tracking;\r\n",
                "\r\n",
                "CREATE TABLE IF NOT EXISTS Tracking (\r\n",
                "    PlayKey VARCHAR(20)\r\n",
                "  , time REAL\r\n",
                "  , event VARCHAR(25)\r\n",
                "  , x REAL\r\n",
                "  , y REAL\r\n",
                "  , dir REAL\r\n",
                "  , dis REAL\r\n",
                "  , o REAL\r\n",
                "  , s REAL\r\n",
                "  , PRIMARY KEY (PlayKey, time)\r\n",
                ") WITH (FILLFACTOR = 90);\r\n",
                "\r\n",
                "CREATE INDEX idx_tr_playkey ON Tracking(PlayKey);\r\n",
                "CREATE INDEX idx_event ON Tracking(event);"
            ],
            "metadata": {
                "azdata_cell_guid": "0fdd4b38-5ffa-4b30-89d6-a1457793caa6",
                "language": "sql"
            },
            "outputs": [
                {
                    "output_type": "display_data",
                    "data": {
                        "text/html": "DROP TABLE"
                    },
                    "metadata": {}
                },
                {
                    "output_type": "display_data",
                    "data": {
                        "text/html": "CREATE TABLE"
                    },
                    "metadata": {}
                },
                {
                    "output_type": "display_data",
                    "data": {
                        "text/html": "CREATE INDEX"
                    },
                    "metadata": {}
                },
                {
                    "output_type": "display_data",
                    "data": {
                        "text/html": "CREATE INDEX"
                    },
                    "metadata": {}
                },
                {
                    "output_type": "display_data",
                    "data": {
                        "text/html": "Total execution time: 00:00:01.375"
                    },
                    "metadata": {}
                }
            ],
            "execution_count": 4
        },
        {
            "cell_type": "code",
            "source": [
                "COPY Tracking\r\n",
                "FROM 'F:\\Data\\nfl-playing-surface-analytics\\PlayerTrackData.csv'\r\n",
                "DELIMITER ',' CSV HEADER;  "
            ],
            "metadata": {
                "azdata_cell_guid": "af4c3f90-d42f-49a9-9075-522346431259",
                "language": "sql"
            },
            "outputs": [
                {
                    "output_type": "display_data",
                    "data": {
                        "text/html": "COPY 76366748"
                    },
                    "metadata": {}
                },
                {
                    "output_type": "display_data",
                    "data": {
                        "text/html": "Total execution time: 00:15:50.477"
                    },
                    "metadata": {}
                }
            ],
            "execution_count": 5
        }
    ]
}