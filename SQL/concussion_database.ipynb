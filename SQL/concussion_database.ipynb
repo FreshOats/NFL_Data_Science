{
    "metadata": {
        "kernelspec": {
            "name": "SQL",
            "display_name": "SQL",
            "language": "sql"
        },
        "language_info": {
            "name": "sql",
            "version": ""
        }
    },
    "nbformat_minor": 2,
    "nbformat": 4,
    "cells": [
        {
            "cell_type": "markdown",
            "source": [
                "Creating and filling the database for the punt analytics data"
            ],
            "metadata": {
                "azdata_cell_guid": "2b18f604-e4ba-462f-9cf9-bd05ce683378"
            },
            "attachments": {}
        },
        {
            "cell_type": "code",
            "source": [
                "CREATE DATABASE concussion"
            ],
            "metadata": {
                "azdata_cell_guid": "6f16ebb2-1b25-481d-8739-80f517126215",
                "language": "sql"
            },
            "outputs": [],
            "execution_count": null
        },
        {
            "cell_type": "code",
            "source": [
                "CREATE TABLE game_data (\r\n",
                "\tgamekey INT\r\n",
                "\t, season_year INT\r\n",
                "\t, season_type VARCHAR(100)\r\n",
                "\t, week INT\r\n",
                "\t, game_date VARCHAR(100)\r\n",
                "\t, game_day VARCHAR(100)\r\n",
                "\t, game_site VARCHAR(100)\r\n",
                "\t, start_time VARCHAR(100)\r\n",
                "\t, home_team VARCHAR(100)\r\n",
                "\t, hometeamcode VARCHAR(100)\r\n",
                "\t, visit_team VARCHAR(100)\r\n",
                "\t, vistteamcode VARCHAR(100)\r\n",
                "\t, stadium VARCHAR(100)\r\n",
                "\t, stadiumtype VARCHAR(100)\r\n",
                "\t, turf VARCHAR(100)\r\n",
                "\t, gameweather VARCHAR(100)\r\n",
                "\t, temperature FLOAT\r\n",
                "\t, outdoorweather VARCHAR(100)\r\n",
                "\t, PRIMARY KEY (gamekey)\r\n",
                ");"
            ],
            "metadata": {
                "azdata_cell_guid": "d8bfd277-3f98-467c-a010-99aee21527de",
                "language": "sql"
            },
            "outputs": [],
            "execution_count": null
        },
        {
            "cell_type": "code",
            "source": [
                "CREATE TABLE play_information (\r\n",
                "\tseason_year INT\r\n",
                "\t, season_type VARCHAR(100)\r\n",
                "\t, gamekey INT\r\n",
                "\t, game_date VARCHAR(100)\r\n",
                "\t, week INT\r\n",
                "\t, playid INT\r\n",
                "\t, game_clock VARCHAR(100)\r\n",
                "\t, yardline VARCHAR(100)\r\n",
                "\t, quarter INT\r\n",
                "\t, play_type VARCHAR(100)\r\n",
                "\t, poss_team VARCHAR(100)\r\n",
                "\t, home_team_visit_team VARCHAR(100)\r\n",
                "\t, score_home_visiting VARCHAR(100)\r\n",
                "\t, playdescription VARCHAR(1000)\r\n",
                "\t, FOREIGN KEY (gamekey) REFERENCES game_data (gamekey)\r\n",
                "\t, PRIMARY KEY (gamekey, playid)\r\n",
                "\t, UNIQUE (gamekey,playid)\r\n",
                ");"
            ],
            "metadata": {
                "language": "sql",
                "azdata_cell_guid": "e44c46fa-edee-48e4-bfb9-e586be368691"
            },
            "outputs": [],
            "execution_count": null
        },
        {
            "cell_type": "code",
            "source": [
                "CREATE TABLE role_data (\r\n",
                "\tseason_year INT\r\n",
                "\t, gamekey INT\r\n",
                "\t, playid INT\r\n",
                "\t, gsisid INT\r\n",
                "\t, prole VARCHAR(100)\r\n",
                "\t, FOREIGN KEY (gamekey) REFERENCES game_data (gamekey)\r\n",
                "\t, PRIMARY KEY(gamekey, playid, gsisid)\r\n",
                "\t, UNIQUE(gamekey,playid,gsisid)\r\n",
                ");\r\n",
                ""
            ],
            "metadata": {
                "language": "sql",
                "azdata_cell_guid": "d395ea1d-fdf2-4bb0-9b7b-3560fe74c0bb"
            },
            "outputs": [],
            "execution_count": null
        },
        {
            "cell_type": "code",
            "source": [
                "CREATE TABLE NGS_data (\r\n",
                "\tseason_year INT\r\n",
                "\t, gamekey INT\r\n",
                "\t, playid INT\r\n",
                "\t, gsisid INT\r\n",
                "\t, g_time VARCHAR(100)\r\n",
                "\t, x FLOAT\r\n",
                "\t, y FLOAT\r\n",
                "\t, dis FLOAT\r\n",
                "\t, o FLOAT\r\n",
                "\t, dir FLOAT\r\n",
                "\t, g_event VARCHAR(100)\r\n",
                "\t, FOREIGN KEY (gamekey) REFERENCES game_data (gamekey)\r\n",
                "\t, FOREIGN KEY (gsisid,playid,gamekey) REFERENCES player_role (gsisid,playid,gamekey)\r\n",
                "\t, PRIMARY KEY (gsisid,playid,gamekey)\r\n",
                ");"
            ],
            "metadata": {
                "language": "sql",
                "azdata_cell_guid": "901ce1bf-fb54-4f33-8f65-0ee981d5cc2e"
            },
            "outputs": [],
            "execution_count": null
        },
        {
            "cell_type": "code",
            "source": [
                "CREATE TABLE punt_data (\r\n",
                "\tgsisid INT,\r\n",
                "\tp_number VARCHAR(100),\r\n",
                "\tp_position VARCHAR(100),\r\n",
                "\tPRIMARY KEY (gsisid,p_number),\r\n",
                "\tUNIQUE (gsisid,p_number)\r\n",
                ");"
            ],
            "metadata": {
                "language": "sql",
                "azdata_cell_guid": "7317e348-58a5-4d04-bc08-839e29285114"
            },
            "outputs": [],
            "execution_count": null
        }
    ]
}