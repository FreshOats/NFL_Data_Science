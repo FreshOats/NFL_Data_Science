{
    "metadata": {
        "kernelspec": {
            "name": "SQL",
            "display_name": "SQL",
            "language": "sql"
        },
        "language_info": {
            "name": "sql",
            "version": ""
        }
    },
    "nbformat_minor": 2,
    "nbformat": 4,
    "cells": [
        {
            "cell_type": "markdown",
            "source": [
                "Creating and filling the database for the punt analytics data"
            ],
            "metadata": {
                "azdata_cell_guid": "2b18f604-e4ba-462f-9cf9-bd05ce683378"
            },
            "attachments": {}
        },
        {
            "cell_type": "code",
            "source": [
                "CREATE DATABASE concussion"
            ],
            "metadata": {
                "azdata_cell_guid": "6f16ebb2-1b25-481d-8739-80f517126215",
                "language": "sql"
            },
            "outputs": [
                {
                    "output_type": "display_data",
                    "data": {
                        "text/html": "CREATE DATABASE"
                    },
                    "metadata": {}
                },
                {
                    "output_type": "display_data",
                    "data": {
                        "text/html": "Total execution time: 00:00:01.327"
                    },
                    "metadata": {}
                }
            ],
            "execution_count": 1
        },
        {
            "cell_type": "code",
            "source": [
                "CREATE TABLE game_data (\r\n",
                "\tgamekey INT\r\n",
                "\t, season_year INT\r\n",
                "\t, season_type VARCHAR(100)\r\n",
                "\t, week INT\r\n",
                "\t, game_date VARCHAR(100)\r\n",
                "\t, game_day VARCHAR(100)\r\n",
                "\t, game_site VARCHAR(100)\r\n",
                "\t, start_time VARCHAR(100)\r\n",
                "\t, home_team VARCHAR(100)\r\n",
                "\t, hometeamcode VARCHAR(100)\r\n",
                "\t, visit_team VARCHAR(100)\r\n",
                "\t, vistteamcode VARCHAR(100)\r\n",
                "\t, stadium VARCHAR(100)\r\n",
                "\t, stadiumtype VARCHAR(100)\r\n",
                "\t, turf VARCHAR(100)\r\n",
                "\t, gameweather VARCHAR(100)\r\n",
                "\t, temperature FLOAT\r\n",
                "\t, outdoorweather VARCHAR(100)\r\n",
                "\t, PRIMARY KEY (gamekey)\r\n",
                ");"
            ],
            "metadata": {
                "azdata_cell_guid": "d8bfd277-3f98-467c-a010-99aee21527de",
                "language": "sql"
            },
            "outputs": [
                {
                    "output_type": "display_data",
                    "data": {
                        "text/html": "CREATE TABLE"
                    },
                    "metadata": {}
                },
                {
                    "output_type": "display_data",
                    "data": {
                        "text/html": "Total execution time: 00:00:00.030"
                    },
                    "metadata": {}
                }
            ],
            "execution_count": 2
        },
        {
            "cell_type": "code",
            "source": [
                "CREATE TABLE play_information (\r\n",
                "\tseason_year INT\r\n",
                "\t, season_type VARCHAR(100)\r\n",
                "\t, gamekey INT\r\n",
                "\t, game_date VARCHAR(100)\r\n",
                "\t, week INT\r\n",
                "\t, playid INT\r\n",
                "\t, game_clock VARCHAR(100)\r\n",
                "\t, yardline VARCHAR(100)\r\n",
                "\t, quarter INT\r\n",
                "\t, play_type VARCHAR(100)\r\n",
                "\t, poss_team VARCHAR(100)\r\n",
                "\t, home_team_visit_team VARCHAR(100)\r\n",
                "\t, score_home_visiting VARCHAR(100)\r\n",
                "\t, playdescription VARCHAR(1000)\r\n",
                "\t, FOREIGN KEY (gamekey) REFERENCES game_data (gamekey)\r\n",
                "\t, PRIMARY KEY (gamekey, playid)\r\n",
                "\t, UNIQUE (gamekey,playid)\r\n",
                ");"
            ],
            "metadata": {
                "language": "sql",
                "azdata_cell_guid": "e44c46fa-edee-48e4-bfb9-e586be368691"
            },
            "outputs": [
                {
                    "output_type": "display_data",
                    "data": {
                        "text/html": "CREATE TABLE"
                    },
                    "metadata": {}
                },
                {
                    "output_type": "display_data",
                    "data": {
                        "text/html": "Total execution time: 00:00:00.011"
                    },
                    "metadata": {}
                }
            ],
            "execution_count": 3
        },
        {
            "cell_type": "code",
            "source": [
                "CREATE TABLE role_data (\r\n",
                "\tseason_year INT\r\n",
                "\t, gamekey INT\r\n",
                "\t, playid INT\r\n",
                "\t, gsisid INT\r\n",
                "\t, prole VARCHAR(100)\r\n",
                "\t, FOREIGN KEY (gamekey) REFERENCES game_data (gamekey)\r\n",
                "\t, PRIMARY KEY(gamekey, playid, gsisid)\r\n",
                "\t, UNIQUE(gamekey,playid,gsisid)\r\n",
                ");\r\n",
                ""
            ],
            "metadata": {
                "language": "sql",
                "azdata_cell_guid": "d395ea1d-fdf2-4bb0-9b7b-3560fe74c0bb"
            },
            "outputs": [
                {
                    "output_type": "display_data",
                    "data": {
                        "text/html": "CREATE TABLE"
                    },
                    "metadata": {}
                },
                {
                    "output_type": "display_data",
                    "data": {
                        "text/html": "Total execution time: 00:00:00.005"
                    },
                    "metadata": {}
                }
            ],
            "execution_count": 4
        },
        {
            "cell_type": "code",
            "source": [
                "DROP TABLE NGS_data;\r\n",
                "CREATE TABLE NGS_data (\r\n",
                "\tseason_year INT\r\n",
                "\t, gamekey INT\r\n",
                "\t, playid INT\r\n",
                "\t, gsisid FLOAT -- at least one of the values is in the wrong format\r\n",
                "\t, g_time VARCHAR(100)\r\n",
                "\t, x FLOAT\r\n",
                "\t, y FLOAT\r\n",
                "\t, dis FLOAT\r\n",
                "\t, o FLOAT\r\n",
                "\t, dir FLOAT\r\n",
                "\t, g_event VARCHAR(100)\r\n",
                ");"
            ],
            "metadata": {
                "language": "sql",
                "azdata_cell_guid": "901ce1bf-fb54-4f33-8f65-0ee981d5cc2e"
            },
            "outputs": [
                {
                    "output_type": "display_data",
                    "data": {
                        "text/html": "DROP TABLE"
                    },
                    "metadata": {}
                },
                {
                    "output_type": "display_data",
                    "data": {
                        "text/html": "CREATE TABLE"
                    },
                    "metadata": {}
                },
                {
                    "output_type": "display_data",
                    "data": {
                        "text/html": "Total execution time: 00:00:01.018"
                    },
                    "metadata": {}
                }
            ],
            "execution_count": 55
        },
        {
            "cell_type": "code",
            "source": [
                "CREATE TABLE punt_data (\r\n",
                "\tgsisid INT\r\n",
                "\t, number VARCHAR(100)\r\n",
                "\t, position VARCHAR(100)\r\n",
                "\t, PRIMARY KEY (gsisid, number)\r\n",
                "\t, UNIQUE (gsisid, number)\r\n",
                ");"
            ],
            "metadata": {
                "language": "sql",
                "azdata_cell_guid": "7317e348-58a5-4d04-bc08-839e29285114"
            },
            "outputs": [
                {
                    "output_type": "display_data",
                    "data": {
                        "text/html": "CREATE TABLE"
                    },
                    "metadata": {}
                },
                {
                    "output_type": "display_data",
                    "data": {
                        "text/html": "Total execution time: 00:00:00.004"
                    },
                    "metadata": {}
                }
            ],
            "execution_count": 12
        },
        {
            "cell_type": "markdown",
            "source": [
                ""
            ],
            "metadata": {
                "language": "sql",
                "azdata_cell_guid": "8fb62bbb-2eb3-4983-b216-ca58e21d20b8"
            },
            "attachments": {}
        },
        {
            "cell_type": "code",
            "source": [
                "CREATE TABLE video_review (\r\n",
                "    season_year INT\r\n",
                "\t, gamekey INT\r\n",
                "\t, playid INT\r\n",
                "\t, gsisid INT\r\n",
                "    , player_activity VARCHAR(12)\r\n",
                "    , turnover_related VARCHAR(5)\r\n",
                "    , primary_impact_type VARCHAR(25)\r\n",
                "    , primary_partner_gsisid VARCHAR(10) --This should be INT, but one value is VARCHAR, will have to clean\r\n",
                "    , primary_partner_activity VARCHAR(25)\r\n",
                "    , friendly_fire VARCHAR(10)\r\n",
                "    , PRIMARY KEY(gsisid,playid,gamekey)\r\n",
                ")"
            ],
            "metadata": {
                "language": "sql",
                "azdata_cell_guid": "c1760a58-763e-4ee1-ad9f-2cdc11989a1f"
            },
            "outputs": [
                {
                    "output_type": "display_data",
                    "data": {
                        "text/html": "DROP TABLE"
                    },
                    "metadata": {}
                },
                {
                    "output_type": "display_data",
                    "data": {
                        "text/html": "CREATE TABLE"
                    },
                    "metadata": {}
                },
                {
                    "output_type": "display_data",
                    "data": {
                        "text/html": "Total execution time: 00:00:00.006"
                    },
                    "metadata": {}
                }
            ],
            "execution_count": 22
        },
        {
            "cell_type": "markdown",
            "source": [
                "The tables that need to be copied in are as follows:   \n",
                "game\\_data, \n",
                "\n",
                "play\\_information, \n",
                "\n",
                "role\\_data, \n",
                "\n",
                "punt\\_data, \n",
                "\n",
                "video\\_review, \n",
                "\n",
                "  \n",
                "\n",
                "and then the NGS\\_data, which is made up of 10 different csv files"
            ],
            "metadata": {
                "language": "sql",
                "azdata_cell_guid": "dad60e6c-00bf-4f30-8562-17686f2f7fba"
            },
            "attachments": {}
        },
        {
            "cell_type": "code",
            "source": [
                "COPY game_data FROM 'F:\\Data\\NFL-Punt-Analytics-Competition\\game_data.csv' DELIMITER ',' CSV HEADER;"
            ],
            "metadata": {
                "azdata_cell_guid": "5c2114b0-cf7c-4b53-b2d2-77cc5efe1671",
                "language": "sql"
            },
            "outputs": [
                {
                    "output_type": "display_data",
                    "data": {
                        "text/html": "COPY 666"
                    },
                    "metadata": {}
                },
                {
                    "output_type": "display_data",
                    "data": {
                        "text/html": "Total execution time: 00:00:00.023"
                    },
                    "metadata": {}
                }
            ],
            "execution_count": 17
        },
        {
            "cell_type": "code",
            "source": [
                "COPY play_information FROM 'F:\\Data\\NFL-Punt-Analytics-Competition\\play_information.csv' DELIMITER ',' CSV HEADER;"
            ],
            "metadata": {
                "language": "sql",
                "azdata_cell_guid": "4a64910c-a049-417e-9cb8-f28ffe884a16"
            },
            "outputs": [
                {
                    "output_type": "display_data",
                    "data": {
                        "text/html": "COPY 6681"
                    },
                    "metadata": {}
                },
                {
                    "output_type": "display_data",
                    "data": {
                        "text/html": "Total execution time: 00:00:00.107"
                    },
                    "metadata": {}
                }
            ],
            "execution_count": 18
        },
        {
            "cell_type": "code",
            "source": [
                "COPY punt_data FROM 'F:\\Data\\NFL-Punt-Analytics-Competition\\player_punt_data.csv' DELIMITER ',' CSV HEADER;"
            ],
            "metadata": {
                "language": "sql",
                "azdata_cell_guid": "62b001d4-151f-4e0f-adb5-0dc5d7df2e35"
            },
            "outputs": [
                {
                    "output_type": "display_data",
                    "data": {
                        "text/html": "COPY 3259"
                    },
                    "metadata": {}
                },
                {
                    "output_type": "display_data",
                    "data": {
                        "text/html": "Total execution time: 00:00:00.024"
                    },
                    "metadata": {}
                }
            ],
            "execution_count": 19
        },
        {
            "cell_type": "code",
            "source": [
                "COPY role_data FROM 'F:\\Data\\NFL-Punt-Analytics-Competition\\play_player_role_data.csv' DELIMITER ',' CSV HEADER;"
            ],
            "metadata": {
                "language": "sql",
                "azdata_cell_guid": "75067a97-0715-4b35-b0a5-02d69490498d"
            },
            "outputs": [
                {
                    "output_type": "display_data",
                    "data": {
                        "text/html": "COPY 146573"
                    },
                    "metadata": {}
                },
                {
                    "output_type": "display_data",
                    "data": {
                        "text/html": "Total execution time: 00:00:01.255"
                    },
                    "metadata": {}
                }
            ],
            "execution_count": 20
        },
        {
            "cell_type": "code",
            "source": [
                "COPY video_review FROM 'F:\\Data\\NFL-Punt-Analytics-Competition\\video_review.csv' DELIMITER ',' CSV HEADER;"
            ],
            "metadata": {
                "language": "sql",
                "azdata_cell_guid": "c7dede49-4896-44c7-be60-28f9b141df92"
            },
            "outputs": [
                {
                    "output_type": "display_data",
                    "data": {
                        "text/html": "COPY 37"
                    },
                    "metadata": {}
                },
                {
                    "output_type": "display_data",
                    "data": {
                        "text/html": "Total execution time: 00:00:00.003"
                    },
                    "metadata": {}
                }
            ],
            "execution_count": 23
        },
        {
            "cell_type": "code",
            "source": [
                "COPY NGS_data FROM 'F:\\Data\\NFL-Punt-Analytics-Competition\\NGS\\2016-post.csv' DELIMITER ',' CSV HEADER;\r\n",
                "COPY NGS_data FROM 'F:\\Data\\NFL-Punt-Analytics-Competition\\NGS\\2016-pre.csv' DELIMITER ',' CSV HEADER;\r\n",
                "COPY NGS_data FROM 'F:\\Data\\NFL-Punt-Analytics-Competition\\NGS\\2016-reg-wk1-6.csv' DELIMITER ',' CSV HEADER;\r\n",
                "COPY NGS_data FROM 'F:\\Data\\NFL-Punt-Analytics-Competition\\NGS\\2016-reg-wk7-12.csv' DELIMITER ',' CSV HEADER;\r\n",
                "COPY NGS_data FROM 'F:\\Data\\NFL-Punt-Analytics-Competition\\NGS\\2016-reg-wk13-17.csv' DELIMITER ',' CSV HEADER;"
            ],
            "metadata": {
                "language": "sql",
                "azdata_cell_guid": "86d83b7b-13cf-4459-8bd3-c6d70cdc2316",
                "tags": []
            },
            "outputs": [
                {
                    "output_type": "display_data",
                    "data": {
                        "text/html": "COPY 963324"
                    },
                    "metadata": {}
                },
                {
                    "output_type": "display_data",
                    "data": {
                        "text/html": "COPY 1048575"
                    },
                    "metadata": {}
                },
                {
                    "output_type": "display_data",
                    "data": {
                        "text/html": "COPY 8706352"
                    },
                    "metadata": {}
                },
                {
                    "output_type": "display_data",
                    "data": {
                        "text/html": "COPY 8382659"
                    },
                    "metadata": {}
                },
                {
                    "output_type": "display_data",
                    "data": {
                        "text/html": "COPY 7611809"
                    },
                    "metadata": {}
                },
                {
                    "output_type": "display_data",
                    "data": {
                        "text/html": "Total execution time: 00:02:45.399"
                    },
                    "metadata": {}
                }
            ],
            "execution_count": 56
        },
        {
            "cell_type": "code",
            "source": [
                "SELECT COUNT(season_year) \r\n",
                "FROM NGS_data"
            ],
            "metadata": {
                "language": "sql",
                "azdata_cell_guid": "b72c8224-d92d-4c86-8c65-83eb0172ec74"
            },
            "outputs": [
                {
                    "output_type": "display_data",
                    "data": {
                        "text/html": "(1 row(s) affected)"
                    },
                    "metadata": {}
                },
                {
                    "output_type": "display_data",
                    "data": {
                        "text/html": "Total execution time: 00:00:30.124"
                    },
                    "metadata": {}
                },
                {
                    "output_type": "execute_result",
                    "execution_count": 58,
                    "data": {
                        "application/vnd.dataresource+json": {
                            "schema": {
                                "fields": [
                                    {
                                        "name": "count"
                                    }
                                ]
                            },
                            "data": [
                                {
                                    "count": "26712719"
                                }
                            ]
                        },
                        "text/html": "<table><tr><th>count</th></tr><tr><td>26712719</td></tr></table>"
                    },
                    "metadata": {}
                }
            ],
            "execution_count": 58
        },
        {
            "cell_type": "code",
            "source": [
                "COPY NGS_data FROM 'F:\\Data\\NFL-Punt-Analytics-Competition\\NGS\\2017-post.csv' DELIMITER ',' CSV HEADER;\r\n",
                "COPY NGS_data FROM 'F:\\Data\\NFL-Punt-Analytics-Competition\\NGS\\2017-pre.csv' DELIMITER ',' CSV HEADER;\r\n",
                "COPY NGS_data FROM 'F:\\Data\\NFL-Punt-Analytics-Competition\\NGS\\2017-reg-wk1-6.csv' DELIMITER ',' CSV HEADER;\r\n",
                "COPY NGS_data FROM 'F:\\Data\\NFL-Punt-Analytics-Competition\\NGS\\2017-reg-wk7-12.csv' DELIMITER ',' CSV HEADER;\r\n",
                "COPY NGS_data FROM 'F:\\Data\\NFL-Punt-Analytics-Competition\\NGS\\2017-reg-wk13-17.csv' DELIMITER ',' CSV HEADER;"
            ],
            "metadata": {
                "azdata_cell_guid": "8294ae92-1241-455c-aad8-c74d492cc060",
                "language": "sql"
            },
            "outputs": [
                {
                    "output_type": "display_data",
                    "data": {
                        "text/html": "COPY 1037158"
                    },
                    "metadata": {}
                },
                {
                    "output_type": "display_data",
                    "data": {
                        "text/html": "COPY 6609585"
                    },
                    "metadata": {}
                },
                {
                    "output_type": "display_data",
                    "data": {
                        "text/html": "COPY 9433922"
                    },
                    "metadata": {}
                },
                {
                    "output_type": "display_data",
                    "data": {
                        "text/html": "COPY 8670288"
                    },
                    "metadata": {}
                },
                {
                    "output_type": "display_data",
                    "data": {
                        "text/html": "COPY 8252492"
                    },
                    "metadata": {}
                },
                {
                    "output_type": "display_data",
                    "data": {
                        "text/html": "Total execution time: 00:04:03.187"
                    },
                    "metadata": {}
                }
            ],
            "execution_count": 59
        },
        {
            "cell_type": "code",
            "source": [
                "SELECT COUNT(season_year) \r\n",
                "FROM NGS_data"
            ],
            "metadata": {
                "language": "sql",
                "azdata_cell_guid": "f5e53a4f-8e12-4a3e-b89e-38b720188c51"
            },
            "outputs": [
                {
                    "output_type": "display_data",
                    "data": {
                        "text/html": "(1 row(s) affected)"
                    },
                    "metadata": {}
                },
                {
                    "output_type": "display_data",
                    "data": {
                        "text/html": "Total execution time: 00:01:20.423"
                    },
                    "metadata": {}
                },
                {
                    "output_type": "execute_result",
                    "execution_count": 60,
                    "data": {
                        "application/vnd.dataresource+json": {
                            "schema": {
                                "fields": [
                                    {
                                        "name": "count"
                                    }
                                ]
                            },
                            "data": [
                                {
                                    "count": "60716164"
                                }
                            ]
                        },
                        "text/html": "<table><tr><th>count</th></tr><tr><td>60716164</td></tr></table>"
                    },
                    "metadata": {}
                }
            ],
            "execution_count": 60
        }
    ]
}