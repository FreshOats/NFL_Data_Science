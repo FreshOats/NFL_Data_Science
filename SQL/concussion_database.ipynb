{
    "metadata": {
        "kernelspec": {
            "name": "SQL",
            "display_name": "SQL",
            "language": "sql"
        },
        "language_info": {
            "name": "sql",
            "version": ""
        }
    },
    "nbformat_minor": 2,
    "nbformat": 4,
    "cells": [
        {
            "cell_type": "code",
            "source": [
                "CREATE DATABASE NFL_Concussion;\r\n",
                ""
            ],
            "metadata": {
                "azdata_cell_guid": "0f222d24-b886-4a79-aad6-f5408e76e9bc",
                "language": "sql"
            },
            "outputs": [
                {
                    "output_type": "display_data",
                    "data": {
                        "text/html": "CREATE DATABASE"
                    },
                    "metadata": {}
                },
                {
                    "output_type": "display_data",
                    "data": {
                        "text/html": "Total execution time: 00:00:01.669"
                    },
                    "metadata": {}
                }
            ],
            "execution_count": 1
        },
        {
            "cell_type": "code",
            "source": [
                "CREATE TABLE IF NOT EXISTS Game_Data (\r\n",
                "    GameKey SMALLINT PRIMARY KEY\r\n",
                "  , Season_Year SMALLINT\r\n",
                "  , Season_Type VARCHAR(10)\r\n",
                "  , Week SMALLINT\r\n",
                "  , Game_Date TIMESTAMP\r\n",
                "  , Game_Day VARCHAR(10)\r\n",
                "  , Game_Site VARCHAR(15)\r\n",
                "  , Start_Time VARCHAR(10)\r\n",
                "  , Home_Team VARCHAR(20)\r\n",
                "  , HomeTeamCode VARCHAR(3)\r\n",
                "  , Visit_Team VARCHAR(20)\r\n",
                "  , VisitTeamCode VARCHAR(3)\r\n",
                "  , Stadium VARCHAR(40)\r\n",
                "  , StadiumType VARCHAR(30)\r\n",
                "  , Turf VARCHAR(30)\r\n",
                "  , GameWeather VARCHAR(90)\r\n",
                "  , Temperature REAL\r\n",
                "  , OutdoorWeather VARCHAR(90)\r\n",
                ") WITH (FILLFACTOR = 90);\r\n",
                "\r\n",
                "CREATE INDEX idx_season_year ON Game_Data(Season_Year);\r\n",
                "CREATE INDEX idx_game_date ON Game_Data(Game_Date);\r\n",
                "CREATE INDEX idx_home_team ON Game_Data(Home_Team);\r\n",
                "CREATE INDEX idx_visit_team ON Game_Data(Visit_Team);\r\n",
                ""
            ],
            "metadata": {
                "azdata_cell_guid": "6aa3904d-9168-41fd-b718-859fc29e88e7",
                "language": "sql"
            },
            "outputs": [
                {
                    "output_type": "display_data",
                    "data": {
                        "text/html": "CREATE TABLE"
                    },
                    "metadata": {}
                },
                {
                    "output_type": "display_data",
                    "data": {
                        "text/html": "CREATE INDEX"
                    },
                    "metadata": {}
                },
                {
                    "output_type": "display_data",
                    "data": {
                        "text/html": "CREATE INDEX"
                    },
                    "metadata": {}
                },
                {
                    "output_type": "display_data",
                    "data": {
                        "text/html": "CREATE INDEX"
                    },
                    "metadata": {}
                },
                {
                    "output_type": "display_data",
                    "data": {
                        "text/html": "CREATE INDEX"
                    },
                    "metadata": {}
                },
                {
                    "output_type": "display_data",
                    "data": {
                        "text/html": "Total execution time: 00:00:00.123"
                    },
                    "metadata": {}
                }
            ],
            "execution_count": 2
        },
        {
            "cell_type": "code",
            "source": [
                "COPY game_data\r\n",
                "FROM 'F:\\Data\\NFL-Punt-Analytics-Competition\\game_data.csv'\r\n",
                "DELIMITER ',' CSV HEADER;"
            ],
            "metadata": {
                "azdata_cell_guid": "8084e267-1e14-4c7b-a44c-95f0142e32df",
                "language": "sql",
                "tags": [
                    "hide_input"
                ]
            },
            "outputs": [
                {
                    "output_type": "display_data",
                    "data": {
                        "text/html": "COPY 666"
                    },
                    "metadata": {}
                },
                {
                    "output_type": "display_data",
                    "data": {
                        "text/html": "Total execution time: 00:00:00.032"
                    },
                    "metadata": {}
                }
            ],
            "execution_count": 3
        },
        {
            "cell_type": "code",
            "source": [
                "CREATE TABLE IF NOT EXISTS Play_Information (\r\n",
                "    Season_Year SMALLINT\r\n",
                "  , Season_Type VARCHAR(5)\r\n",
                "  , GameKey SMALLINT\r\n",
                "  , Game_Date DATE\r\n",
                "  , Week SMALLINT\r\n",
                "  , PlayID SMALLINT\r\n",
                "  , Game_Clock VARCHAR(5)\r\n",
                "  , YardLine VARCHAR(10)\r\n",
                "  , Quarter SMALLINT\r\n",
                "  , Play_Type VARCHAR(5)\r\n",
                "  , Poss_Team VARCHAR(3)\r\n",
                "  , Home_Team_Visit_Team VARCHAR(10)\r\n",
                "  , Score_Home_Visiting VARCHAR(10)\r\n",
                "  , PlayDescription TEXT\r\n",
                "  , PRIMARY KEY (GameKey, PlayID)\r\n",
                ") WITH (FILLFACTOR = 90);\r\n",
                "\r\n",
                "CREATE INDEX idx_pi_season_year ON Play_Information(Season_Year);\r\n",
                "CREATE INDEX idx_pi_game_date ON Play_Information(Game_Date);\r\n",
                "CREATE INDEX idx_pi_play_type ON Play_Information(Play_Type);\r\n",
                "CREATE INDEX idx_pi_poss_team ON Play_Information(Poss_Team);"
            ],
            "metadata": {
                "language": "sql",
                "azdata_cell_guid": "58a29b6e-65d4-4338-8ec6-8dbe8fafbdb7"
            },
            "outputs": [
                {
                    "output_type": "display_data",
                    "data": {
                        "text/html": "NOTICE: relation \"play_information\" already exists, skipping"
                    },
                    "metadata": {}
                },
                {
                    "output_type": "display_data",
                    "data": {
                        "text/html": "CREATE TABLE"
                    },
                    "metadata": {}
                },
                {
                    "output_type": "display_data",
                    "data": {
                        "text/html": "CREATE INDEX"
                    },
                    "metadata": {}
                },
                {
                    "output_type": "display_data",
                    "data": {
                        "text/html": "CREATE INDEX"
                    },
                    "metadata": {}
                },
                {
                    "output_type": "display_data",
                    "data": {
                        "text/html": "CREATE INDEX"
                    },
                    "metadata": {}
                },
                {
                    "output_type": "display_data",
                    "data": {
                        "text/html": "CREATE INDEX"
                    },
                    "metadata": {}
                },
                {
                    "output_type": "display_data",
                    "data": {
                        "text/html": "Total execution time: 00:00:00.026"
                    },
                    "metadata": {}
                }
            ],
            "execution_count": 5
        },
        {
            "cell_type": "code",
            "source": [
                "COPY play_information\r\n",
                "FROM 'F:\\Data\\NFL-Punt-Analytics-Competition\\play_information.csv'\r\n",
                "DELIMITER ',' CSV HEADER;"
            ],
            "metadata": {
                "azdata_cell_guid": "9df27314-88f0-4a5b-b9d4-341525a3de6f",
                "language": "sql"
            },
            "outputs": [
                {
                    "output_type": "display_data",
                    "data": {
                        "text/html": "COPY 6681"
                    },
                    "metadata": {}
                },
                {
                    "output_type": "display_data",
                    "data": {
                        "text/html": "Total execution time: 00:00:00.094"
                    },
                    "metadata": {}
                }
            ],
            "execution_count": 6
        },
        {
            "cell_type": "code",
            "source": [
                "CREATE TABLE IF NOT EXISTS Role_Data (\r\n",
                "    Season_Year SMALLINT\r\n",
                "  , GameKey SMALLINT\r\n",
                "  , PlayID SMALLINT\r\n",
                "  , GSISID INTEGER\r\n",
                "  , Role VARCHAR(5)\r\n",
                "  , PRIMARY KEY (GameKey, PlayID, GSISID)\r\n",
                ") WITH (FILLFACTOR = 90);\r\n",
                "\r\n",
                "CREATE INDEX idx_rd_season_year ON Role_Data(Season_Year);\r\n",
                "CREATE INDEX idx_rd_gsisid ON Role_Data(GSISID);\r\n",
                "CREATE INDEX idx_rd_role ON Role_Data(Role);"
            ],
            "metadata": {
                "language": "sql",
                "azdata_cell_guid": "792e3310-3af7-44f5-94cf-f3af9abfb3ee"
            },
            "outputs": [
                {
                    "output_type": "display_data",
                    "data": {
                        "text/html": "CREATE TABLE"
                    },
                    "metadata": {}
                },
                {
                    "output_type": "display_data",
                    "data": {
                        "text/html": "CREATE INDEX"
                    },
                    "metadata": {}
                },
                {
                    "output_type": "display_data",
                    "data": {
                        "text/html": "CREATE INDEX"
                    },
                    "metadata": {}
                },
                {
                    "output_type": "display_data",
                    "data": {
                        "text/html": "CREATE INDEX"
                    },
                    "metadata": {}
                },
                {
                    "output_type": "display_data",
                    "data": {
                        "text/html": "Total execution time: 00:00:00.026"
                    },
                    "metadata": {}
                }
            ],
            "execution_count": 7
        },
        {
            "cell_type": "code",
            "source": [
                "COPY role_data\r\n",
                "FROM 'F:\\Data\\NFL-Punt-Analytics-Competition\\play_player_role_data.csv'\r\n",
                "DELIMITER ',' CSV HEADER;"
            ],
            "metadata": {
                "azdata_cell_guid": "77d674bf-f900-4f31-aaf6-f088982ba2ae",
                "language": "sql"
            },
            "outputs": [
                {
                    "output_type": "display_data",
                    "data": {
                        "text/html": "COPY 146573"
                    },
                    "metadata": {}
                },
                {
                    "output_type": "display_data",
                    "data": {
                        "text/html": "Total execution time: 00:00:01.728"
                    },
                    "metadata": {}
                }
            ],
            "execution_count": 8
        },
        {
            "cell_type": "code",
            "source": [
                "CREATE TABLE IF NOT EXISTS NGS_Data (\r\n",
                "    Season_Year SMALLINT\r\n",
                "  , GameKey SMALLINT\r\n",
                "  , PlayID SMALLINT\r\n",
                "  , GSISID NUMERIC(10, 1)\r\n",
                "  , Time TIMESTAMP\r\n",
                "  , x REAL\r\n",
                "  , y REAL\r\n",
                "  , dis REAL\r\n",
                "  , o REAL\r\n",
                "  , dir REAL\r\n",
                "  , Event VARCHAR(30)\r\n",
                "  , PRIMARY KEY (GameKey, PlayID, GSISID, Time)\r\n",
                ") WITH (FILLFACTOR = 90);\r\n",
                "\r\n",
                "CREATE INDEX idx_ngs_season_year ON NGS_Data(Season_Year);\r\n",
                "CREATE INDEX idx_ngs_gamekey ON NGS_Data(GameKey);\r\n",
                "CREATE INDEX idx_ngs_playid ON NGS_Data(PlayID);\r\n",
                "CREATE INDEX idx_ngs_gsisid ON NGS_Data(GSISID);\r\n",
                "CREATE INDEX idx_ngs_time ON NGS_Data(Time);\r\n",
                "CREATE INDEX idx_ngs_event ON NGS_Data(Event);"
            ],
            "metadata": {
                "language": "sql",
                "azdata_cell_guid": "4612573a-a952-4077-8554-896d80949cef"
            },
            "outputs": [
                {
                    "output_type": "display_data",
                    "data": {
                        "text/html": "CREATE TABLE"
                    },
                    "metadata": {}
                },
                {
                    "output_type": "display_data",
                    "data": {
                        "text/html": "CREATE INDEX"
                    },
                    "metadata": {}
                },
                {
                    "output_type": "display_data",
                    "data": {
                        "text/html": "CREATE INDEX"
                    },
                    "metadata": {}
                },
                {
                    "output_type": "display_data",
                    "data": {
                        "text/html": "CREATE INDEX"
                    },
                    "metadata": {}
                },
                {
                    "output_type": "display_data",
                    "data": {
                        "text/html": "CREATE INDEX"
                    },
                    "metadata": {}
                },
                {
                    "output_type": "display_data",
                    "data": {
                        "text/html": "CREATE INDEX"
                    },
                    "metadata": {}
                },
                {
                    "output_type": "display_data",
                    "data": {
                        "text/html": "CREATE INDEX"
                    },
                    "metadata": {}
                },
                {
                    "output_type": "display_data",
                    "data": {
                        "text/html": "Total execution time: 00:00:00.024"
                    },
                    "metadata": {}
                }
            ],
            "execution_count": 9
        },
        {
            "cell_type": "code",
            "source": [
                "CREATE TABLE IF NOT EXISTS Punt_Data (\r\n",
                "    GSISID INTEGER\r\n",
                "  , Number VARCHAR(3)\r\n",
                "  , Position VARCHAR(3)\r\n",
                ") WITH (FILLFACTOR = 90);\r\n",
                "\r\n",
                "CREATE INDEX idx_pd_position ON Punt_Data(Position);"
            ],
            "metadata": {
                "azdata_cell_guid": "7073f75b-8d43-41aa-a007-782af2f04f64",
                "language": "sql"
            },
            "outputs": [
                {
                    "output_type": "display_data",
                    "data": {
                        "text/html": "CREATE TABLE"
                    },
                    "metadata": {}
                },
                {
                    "output_type": "display_data",
                    "data": {
                        "text/html": "CREATE INDEX"
                    },
                    "metadata": {}
                },
                {
                    "output_type": "display_data",
                    "data": {
                        "text/html": "Total execution time: 00:00:00.015"
                    },
                    "metadata": {}
                }
            ],
            "execution_count": 13
        },
        {
            "cell_type": "code",
            "source": [
                "COPY punt_data\r\n",
                "FROM 'F:\\Data\\NFL-Punt-Analytics-Competition\\player_punt_data.csv'\r\n",
                "DELIMITER ',' CSV HEADER;"
            ],
            "metadata": {
                "language": "sql",
                "azdata_cell_guid": "44a92528-072c-46d0-a454-9efd8d26426c"
            },
            "outputs": [
                {
                    "output_type": "display_data",
                    "data": {
                        "text/html": "COPY 3259"
                    },
                    "metadata": {}
                },
                {
                    "output_type": "display_data",
                    "data": {
                        "text/html": "Total execution time: 00:00:00.014"
                    },
                    "metadata": {}
                }
            ],
            "execution_count": 14
        },
        {
            "cell_type": "code",
            "source": [
                "CREATE TABLE IF NOT EXISTS Video_Review (\r\n",
                "    Season_Year SMALLINT\r\n",
                "  , GameKey SMALLINT\r\n",
                "  , PlayID SMALLINT\r\n",
                "  , GSISID INTEGER\r\n",
                "  , Player_Activity_Derived VARCHAR(10)\r\n",
                "  , Turnover_Related VARCHAR(3)\r\n",
                "  , Primary_Impact_Type VARCHAR(20)\r\n",
                "  , Primary_Partner_GSISID VARCHAR(10)\r\n",
                "  , Primary_Partner_Activity_Derived VARCHAR(10)\r\n",
                "  , Friendly_Fire VARCHAR(10)\r\n",
                "  , PRIMARY KEY (GameKey, PlayID, GSISID)\r\n",
                ") WITH (FILLFACTOR = 90);\r\n",
                "\r\n",
                "CREATE INDEX idx_vr_season_year ON Video_Review(Season_Year);\r\n",
                "CREATE INDEX idx_vr_gsisid ON Video_Review(GSISID);\r\n",
                "CREATE INDEX idx_vr_player_activity ON Video_Review(Player_Activity_Derived);\r\n",
                "CREATE INDEX idx_vr_impact_type ON Video_Review(Primary_Impact_Type);\r\n",
                "CREATE INDEX idx_vr_partner_gsisid ON Video_Review(Primary_Partner_GSISID);"
            ],
            "metadata": {
                "language": "sql",
                "azdata_cell_guid": "f74cb87f-71a7-4f29-b105-134c7d133966"
            },
            "outputs": [
                {
                    "output_type": "display_data",
                    "data": {
                        "text/html": "CREATE TABLE"
                    },
                    "metadata": {}
                },
                {
                    "output_type": "display_data",
                    "data": {
                        "text/html": "CREATE INDEX"
                    },
                    "metadata": {}
                },
                {
                    "output_type": "display_data",
                    "data": {
                        "text/html": "CREATE INDEX"
                    },
                    "metadata": {}
                },
                {
                    "output_type": "display_data",
                    "data": {
                        "text/html": "CREATE INDEX"
                    },
                    "metadata": {}
                },
                {
                    "output_type": "display_data",
                    "data": {
                        "text/html": "CREATE INDEX"
                    },
                    "metadata": {}
                },
                {
                    "output_type": "display_data",
                    "data": {
                        "text/html": "CREATE INDEX"
                    },
                    "metadata": {}
                },
                {
                    "output_type": "display_data",
                    "data": {
                        "text/html": "Total execution time: 00:00:00.022"
                    },
                    "metadata": {}
                }
            ],
            "execution_count": 15
        },
        {
            "cell_type": "code",
            "source": [
                "COPY video_review\r\n",
                "FROM 'F:\\Data\\NFL-Punt-Analytics-Competition\\video_review.csv'\r\n",
                "DELIMITER ',' CSV HEADER;"
            ],
            "metadata": {
                "azdata_cell_guid": "ed72c439-4a22-44a6-8bcd-869d4f459e87",
                "language": "sql"
            },
            "outputs": [
                {
                    "output_type": "display_data",
                    "data": {
                        "text/html": "COPY 37"
                    },
                    "metadata": {}
                },
                {
                    "output_type": "display_data",
                    "data": {
                        "text/html": "Total execution time: 00:00:00.016"
                    },
                    "metadata": {}
                }
            ],
            "execution_count": 16
        },
        {
            "cell_type": "code",
            "source": [
                "COPY NGS_data\r\n",
                "FROM 'F:\\Data\\NFL-Punt-Analytics-Competition\\NGS\\2016-post.csv'\r\n",
                "DELIMITER ',' CSV HEADER;"
            ],
            "metadata": {
                "language": "sql",
                "azdata_cell_guid": "cab45e2b-f3fc-466e-90c4-715b82364545"
            },
            "outputs": [
                {
                    "output_type": "display_data",
                    "data": {
                        "text/html": "COPY 963324"
                    },
                    "metadata": {}
                },
                {
                    "output_type": "display_data",
                    "data": {
                        "text/html": "Total execution time: 00:00:17.849"
                    },
                    "metadata": {}
                }
            ],
            "execution_count": 17
        },
        {
            "cell_type": "code",
            "source": [
                "COPY NGS_data\r\n",
                "FROM 'F:\\Data\\NFL-Punt-Analytics-Competition\\NGS\\2016-pre.csv'\r\n",
                "DELIMITER ',' CSV HEADER;"
            ],
            "metadata": {
                "language": "sql",
                "azdata_cell_guid": "90214696-308a-498e-a3d3-fcc4db8efa1f"
            },
            "outputs": [
                {
                    "output_type": "error",
                    "ename": "",
                    "evalue": "null value in column \"gsisid\" of relation \"ngs_data\" violates not-null constraint",
                    "traceback": []
                },
                {
                    "output_type": "display_data",
                    "data": {
                        "text/html": "Total execution time: 00:00:12.191"
                    },
                    "metadata": {}
                }
            ],
            "execution_count": 18
        },
        {
            "cell_type": "code",
            "source": [
                "COPY NGS_data\r\n",
                "FROM 'F:\\Data\\NFL-Punt-Analytics-Competition\\NGS\\2016-reg-wk1-6.csv'\r\n",
                "DELIMITER ',' CSV HEADER;"
            ],
            "metadata": {
                "language": "sql",
                "azdata_cell_guid": "5e84f440-bf11-44d7-826e-a670629367e7"
            },
            "outputs": [
                {
                    "output_type": "error",
                    "ename": "",
                    "evalue": "canceling statement due to user request",
                    "traceback": []
                },
                {
                    "output_type": "display_data",
                    "data": {
                        "text/html": "Total execution time: 00:00:03.950"
                    },
                    "metadata": {}
                }
            ],
            "execution_count": 19
        },
        {
            "cell_type": "code",
            "source": [
                "DROP TABLE NGS_Data;\r\n",
                "\r\n",
                "CREATE TABLE IF NOT EXISTS NGS_Data (\r\n",
                "    Season_Year SMALLINT\r\n",
                "  , GameKey SMALLINT\r\n",
                "  , PlayID SMALLINT\r\n",
                "  , GSISID NUMERIC(10, 1)\r\n",
                "  , Time TIMESTAMP\r\n",
                "  , x REAL\r\n",
                "  , y REAL\r\n",
                "  , dis REAL\r\n",
                "  , o REAL\r\n",
                "  , dir REAL\r\n",
                "  , Event VARCHAR(30)\r\n",
                ") WITH (FILLFACTOR = 90);\r\n",
                "\r\n",
                "CREATE INDEX idx_ngs_season_year ON NGS_Data(Season_Year);\r\n",
                "CREATE INDEX idx_ngs_gamekey ON NGS_Data(GameKey);\r\n",
                "CREATE INDEX idx_ngs_playid ON NGS_Data(PlayID);\r\n",
                "CREATE INDEX idx_ngs_gsisid ON NGS_Data(GSISID);\r\n",
                "CREATE INDEX idx_ngs_time ON NGS_Data(Time);\r\n",
                "CREATE INDEX idx_ngs_event ON NGS_Data(Event);"
            ],
            "metadata": {
                "language": "sql",
                "azdata_cell_guid": "4a4e4e53-e44c-4abd-a426-95220bce0e1d"
            },
            "outputs": [
                {
                    "output_type": "display_data",
                    "data": {
                        "text/html": "DROP TABLE"
                    },
                    "metadata": {}
                },
                {
                    "output_type": "display_data",
                    "data": {
                        "text/html": "CREATE TABLE"
                    },
                    "metadata": {}
                },
                {
                    "output_type": "display_data",
                    "data": {
                        "text/html": "CREATE INDEX"
                    },
                    "metadata": {}
                },
                {
                    "output_type": "display_data",
                    "data": {
                        "text/html": "CREATE INDEX"
                    },
                    "metadata": {}
                },
                {
                    "output_type": "display_data",
                    "data": {
                        "text/html": "CREATE INDEX"
                    },
                    "metadata": {}
                },
                {
                    "output_type": "display_data",
                    "data": {
                        "text/html": "CREATE INDEX"
                    },
                    "metadata": {}
                },
                {
                    "output_type": "display_data",
                    "data": {
                        "text/html": "CREATE INDEX"
                    },
                    "metadata": {}
                },
                {
                    "output_type": "display_data",
                    "data": {
                        "text/html": "CREATE INDEX"
                    },
                    "metadata": {}
                },
                {
                    "output_type": "display_data",
                    "data": {
                        "text/html": "Total execution time: 00:00:00.213"
                    },
                    "metadata": {}
                }
            ],
            "execution_count": 2
        },
        {
            "cell_type": "code",
            "source": [
                "--- THE 2016 NGS Data ~ 3 minutes\r\n",
                "COPY NGS_data\r\n",
                "FROM 'F:\\Data\\NFL-Punt-Analytics-Competition\\NGS\\2016-post.csv'\r\n",
                "DELIMITER ',' CSV HEADER;\r\n",
                "\r\n",
                "COPY NGS_data\r\n",
                "FROM 'F:\\Data\\NFL-Punt-Analytics-Competition\\NGS\\2016-pre.csv'\r\n",
                "DELIMITER ',' CSV HEADER;\r\n",
                "\r\n",
                "COPY NGS_data\r\n",
                "FROM 'F:\\Data\\NFL-Punt-Analytics-Competition\\NGS\\2016-reg-wk1-6.csv'\r\n",
                "DELIMITER ',' CSV HEADER;\r\n",
                "\r\n",
                "COPY NGS_data\r\n",
                "FROM 'F:\\Data\\NFL-Punt-Analytics-Competition\\NGS\\2016-reg-wk7-12.csv'\r\n",
                "DELIMITER ',' CSV HEADER;\r\n",
                "\r\n",
                "COPY NGS_data\r\n",
                "FROM 'F:\\Data\\NFL-Punt-Analytics-Competition\\NGS\\2016-reg-wk13-17.csv'\r\n",
                "DELIMITER ',' CSV HEADER;"
            ],
            "metadata": {
                "azdata_cell_guid": "afd87da8-c8c4-4623-94ee-10111d977954",
                "language": "sql"
            },
            "outputs": [
                {
                    "output_type": "display_data",
                    "data": {
                        "text/html": "COPY 963324"
                    },
                    "metadata": {}
                },
                {
                    "output_type": "display_data",
                    "data": {
                        "text/html": "COPY 1048575"
                    },
                    "metadata": {}
                },
                {
                    "output_type": "display_data",
                    "data": {
                        "text/html": "COPY 8706352"
                    },
                    "metadata": {}
                },
                {
                    "output_type": "display_data",
                    "data": {
                        "text/html": "COPY 8382659"
                    },
                    "metadata": {}
                },
                {
                    "output_type": "display_data",
                    "data": {
                        "text/html": "COPY 7611809"
                    },
                    "metadata": {}
                },
                {
                    "output_type": "display_data",
                    "data": {
                        "text/html": "Total execution time: 00:06:04.862"
                    },
                    "metadata": {}
                }
            ],
            "execution_count": 3
        },
        {
            "cell_type": "code",
            "source": [
                "---The 2017 NGS data - all NGS data is upserted into the same table ~ 4 minutes\r\n",
                "COPY NGS_data\r\n",
                "FROM 'F:\\Data\\NFL-Punt-Analytics-Competition\\NGS\\2017-post.csv'\r\n",
                "DELIMITER ',' CSV HEADER;\r\n",
                "\r\n",
                "COPY NGS_data\r\n",
                "FROM 'F:\\Data\\NFL-Punt-Analytics-Competition\\NGS\\2017-pre.csv'\r\n",
                "DELIMITER ',' CSV HEADER;\r\n",
                "\r\n",
                "COPY NGS_data\r\n",
                "FROM 'F:\\Data\\NFL-Punt-Analytics-Competition\\NGS\\2017-reg-wk1-6.csv'\r\n",
                "DELIMITER ',' CSV HEADER;\r\n",
                "\r\n",
                "COPY NGS_data\r\n",
                "FROM 'F:\\Data\\NFL-Punt-Analytics-Competition\\NGS\\2017-reg-wk7-12.csv'\r\n",
                "DELIMITER ',' CSV HEADER;\r\n",
                "\r\n",
                "COPY NGS_data\r\n",
                "FROM 'F:\\Data\\NFL-Punt-Analytics-Competition\\NGS\\2017-reg-wk13-17.csv'\r\n",
                "DELIMITER ',' CSV HEADER;"
            ],
            "metadata": {
                "azdata_cell_guid": "9d40542a-00c7-4c1a-882d-ec0785b96256",
                "language": "sql"
            },
            "outputs": [
                {
                    "output_type": "display_data",
                    "data": {
                        "text/html": "COPY 1037158"
                    },
                    "metadata": {}
                },
                {
                    "output_type": "display_data",
                    "data": {
                        "text/html": "COPY 6609585"
                    },
                    "metadata": {}
                },
                {
                    "output_type": "display_data",
                    "data": {
                        "text/html": "COPY 9433922"
                    },
                    "metadata": {}
                },
                {
                    "output_type": "display_data",
                    "data": {
                        "text/html": "COPY 8670288"
                    },
                    "metadata": {}
                },
                {
                    "output_type": "display_data",
                    "data": {
                        "text/html": "COPY 8252492"
                    },
                    "metadata": {}
                },
                {
                    "output_type": "display_data",
                    "data": {
                        "text/html": "Total execution time: 00:08:45.029"
                    },
                    "metadata": {}
                }
            ],
            "execution_count": 4
        },
        {
            "cell_type": "code",
            "source": [
                "SELECT COUNT(GSISID)\r\n",
                "FROM NGS_Data"
            ],
            "metadata": {
                "azdata_cell_guid": "21c25a28-6318-427c-80c0-e82d52cd6255",
                "language": "sql"
            },
            "outputs": [
                {
                    "output_type": "display_data",
                    "data": {
                        "text/html": "(1 row(s) affected)"
                    },
                    "metadata": {}
                },
                {
                    "output_type": "display_data",
                    "data": {
                        "text/html": "Total execution time: 00:00:07.859"
                    },
                    "metadata": {}
                },
                {
                    "output_type": "execute_result",
                    "metadata": {},
                    "execution_count": 5,
                    "data": {
                        "application/vnd.dataresource+json": {
                            "schema": {
                                "fields": [
                                    {
                                        "name": "count"
                                    }
                                ]
                            },
                            "data": [
                                {
                                    "count": "60714735"
                                }
                            ]
                        },
                        "text/html": [
                            "<table>",
                            "<tr><th>count</th></tr>",
                            "<tr><td>60714735</td></tr>",
                            "</table>"
                        ]
                    }
                }
            ],
            "execution_count": 5
        }
    ]
}