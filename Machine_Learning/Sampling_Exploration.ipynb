{
 "cells": [
  {
   "cell_type": "markdown",
   "metadata": {},
   "source": [
    "# Biased Sampling by Position and Play Types\n",
    "\n",
    "I'm less interested in the types of plays that lead to the injuries and more interested in the physical parameters associated with the injuries. \n",
    "\n",
    "IDEA: The number of samples out of the box is a massive 29,000 non-injury plays compared to 77 injuries, which will be cut down to about 50 when performing the train-test split. \n",
    "\n",
    "Since I want to know what Physical parameters are leading to the injuries, I can look at similar plays by filtering for the playtype and position. Keeping fieldtype as a parameter is fine. \n",
    "\n",
    "First I need to look at the "
   ]
  },
  {
   "cell_type": "code",
   "execution_count": 28,
   "metadata": {},
   "outputs": [],
   "source": [
    "import polars as pl #type: ignore\n",
    "import os\n",
    "\n",
    "path = \"F:/Data/Processing_data/\"\n",
    "file2 = \"Full_Summary_Concussions.parquet\"\n",
    "file3 = \"Full_Summary_Injuries.parquet\"\n",
    "\n",
    "df = pl.read_parquet(os.path.join(path, file3))"
   ]
  },
  {
   "cell_type": "code",
   "execution_count": 29,
   "metadata": {},
   "outputs": [
    {
     "data": {
      "text/html": [
       "<div><style>\n",
       ".dataframe > thead > tr,\n",
       ".dataframe > tbody > tr {\n",
       "  text-align: right;\n",
       "  white-space: pre-wrap;\n",
       "}\n",
       "</style>\n",
       "<small>shape: (5, 28)</small><table border=\"1\" class=\"dataframe\"><thead><tr><th>PlayKey</th><th>Position</th><th>StadiumType</th><th>FieldType</th><th>Temperature</th><th>Weather</th><th>PlayType</th><th>BodyPart</th><th>DM_M1</th><th>DM_M7</th><th>DM_M28</th><th>DM_M42</th><th>IsInjured</th><th>IsSevere</th><th>Position_right</th><th>Distance</th><th>Displacement</th><th>Path_Diff</th><th>Max_Angle_Diff</th><th>Mean_Angle_Diff</th><th>Max_Speed</th><th>Mean_Speed</th><th>Max_Impulse</th><th>Mean_Impulse</th><th>Max_Torque</th><th>Mean_Torque</th><th>Max_Int_Torque</th><th>Mean_Int_Torque</th></tr><tr><td>str</td><td>cat</td><td>cat</td><td>cat</td><td>i16</td><td>cat</td><td>cat</td><td>cat</td><td>i8</td><td>i8</td><td>i8</td><td>i8</td><td>i8</td><td>i8</td><td>cat</td><td>f32</td><td>f32</td><td>f32</td><td>f32</td><td>f32</td><td>f32</td><td>f32</td><td>f32</td><td>f32</td><td>f32</td><td>f32</td><td>f32</td><td>f32</td></tr></thead><tbody><tr><td>&quot;26624-1-20&quot;</td><td>&quot;QB&quot;</td><td>&quot;Outdoor&quot;</td><td>&quot;Synthetic&quot;</td><td>63</td><td>&quot;Clear&quot;</td><td>&quot;Rush&quot;</td><td>&quot;No_Injury&quot;</td><td>0</td><td>0</td><td>0</td><td>0</td><td>0</td><td>0</td><td>&quot;QB&quot;</td><td>12.560955</td><td>5.40202</td><td>7.158936</td><td>178.440002</td><td>78.945656</td><td>3.712159</td><td>0.483114</td><td>187.427231</td><td>13.7315</td><td>38.490417</td><td>-0.010563</td><td>72.574364</td><td>-0.004217</td></tr><tr><td>&quot;26624-1-22&quot;</td><td>&quot;QB&quot;</td><td>&quot;Outdoor&quot;</td><td>&quot;Synthetic&quot;</td><td>63</td><td>&quot;Clear&quot;</td><td>&quot;Pass&quot;</td><td>&quot;No_Injury&quot;</td><td>0</td><td>0</td><td>0</td><td>0</td><td>0</td><td>0</td><td>&quot;QB&quot;</td><td>27.687366</td><td>7.580832</td><td>20.106533</td><td>179.25</td><td>101.294319</td><td>4.517752</td><td>1.936179</td><td>72.198616</td><td>17.693897</td><td>195.079529</td><td>0.01526</td><td>136.597397</td><td>-0.015356</td></tr><tr><td>&quot;26624-1-23&quot;</td><td>&quot;QB&quot;</td><td>&quot;Outdoor&quot;</td><td>&quot;Synthetic&quot;</td><td>63</td><td>&quot;Clear&quot;</td><td>&quot;Rush&quot;</td><td>&quot;No_Injury&quot;</td><td>0</td><td>0</td><td>0</td><td>0</td><td>0</td><td>0</td><td>&quot;QB&quot;</td><td>28.736702</td><td>8.434956</td><td>20.301746</td><td>178.229996</td><td>78.788918</td><td>4.414752</td><td>1.037426</td><td>240.314255</td><td>15.576145</td><td>197.972412</td><td>0.05488</td><td>135.239807</td><td>-0.031697</td></tr><tr><td>&quot;26624-1-24&quot;</td><td>&quot;QB&quot;</td><td>&quot;Outdoor&quot;</td><td>&quot;Synthetic&quot;</td><td>63</td><td>&quot;Clear&quot;</td><td>&quot;Unknown&quot;</td><td>&quot;No_Injury&quot;</td><td>0</td><td>0</td><td>0</td><td>0</td><td>0</td><td>0</td><td>&quot;QB&quot;</td><td>25.678587</td><td>3.967429</td><td>21.711157</td><td>178.919998</td><td>89.392487</td><td>4.60975</td><td>0.850284</td><td>94.129692</td><td>14.66524</td><td>196.742706</td><td>0.067654</td><td>136.555679</td><td>-0.02783</td></tr><tr><td>&quot;26624-1-45&quot;</td><td>&quot;QB&quot;</td><td>&quot;Outdoor&quot;</td><td>&quot;Synthetic&quot;</td><td>63</td><td>&quot;Clear&quot;</td><td>&quot;Pass&quot;</td><td>&quot;No_Injury&quot;</td><td>0</td><td>0</td><td>0</td><td>0</td><td>0</td><td>0</td><td>&quot;QB&quot;</td><td>24.427948</td><td>10.659006</td><td>13.768942</td><td>179.690002</td><td>94.147797</td><td>4.019967</td><td>0.592911</td><td>240.312332</td><td>11.786748</td><td>195.729614</td><td>0.003361</td><td>135.342194</td><td>-0.00585</td></tr></tbody></table></div>"
      ],
      "text/plain": [
       "shape: (5, 28)\n",
       "┌───────────┬──────────┬───────────┬───────────┬───┬───────────┬───────────┬───────────┬───────────┐\n",
       "│ PlayKey   ┆ Position ┆ StadiumTy ┆ FieldType ┆ … ┆ Max_Torqu ┆ Mean_Torq ┆ Max_Int_T ┆ Mean_Int_ │\n",
       "│ ---       ┆ ---      ┆ pe        ┆ ---       ┆   ┆ e         ┆ ue        ┆ orque     ┆ Torque    │\n",
       "│ str       ┆ cat      ┆ ---       ┆ cat       ┆   ┆ ---       ┆ ---       ┆ ---       ┆ ---       │\n",
       "│           ┆          ┆ cat       ┆           ┆   ┆ f32       ┆ f32       ┆ f32       ┆ f32       │\n",
       "╞═══════════╪══════════╪═══════════╪═══════════╪═══╪═══════════╪═══════════╪═══════════╪═══════════╡\n",
       "│ 26624-1-2 ┆ QB       ┆ Outdoor   ┆ Synthetic ┆ … ┆ 38.490417 ┆ -0.010563 ┆ 72.574364 ┆ -0.004217 │\n",
       "│ 0         ┆          ┆           ┆           ┆   ┆           ┆           ┆           ┆           │\n",
       "│ 26624-1-2 ┆ QB       ┆ Outdoor   ┆ Synthetic ┆ … ┆ 195.07952 ┆ 0.01526   ┆ 136.59739 ┆ -0.015356 │\n",
       "│ 2         ┆          ┆           ┆           ┆   ┆ 9         ┆           ┆ 7         ┆           │\n",
       "│ 26624-1-2 ┆ QB       ┆ Outdoor   ┆ Synthetic ┆ … ┆ 197.97241 ┆ 0.05488   ┆ 135.23980 ┆ -0.031697 │\n",
       "│ 3         ┆          ┆           ┆           ┆   ┆ 2         ┆           ┆ 7         ┆           │\n",
       "│ 26624-1-2 ┆ QB       ┆ Outdoor   ┆ Synthetic ┆ … ┆ 196.74270 ┆ 0.067654  ┆ 136.55567 ┆ -0.02783  │\n",
       "│ 4         ┆          ┆           ┆           ┆   ┆ 6         ┆           ┆ 9         ┆           │\n",
       "│ 26624-1-4 ┆ QB       ┆ Outdoor   ┆ Synthetic ┆ … ┆ 195.72961 ┆ 0.003361  ┆ 135.34219 ┆ -0.00585  │\n",
       "│ 5         ┆          ┆           ┆           ┆   ┆ 4         ┆           ┆ 4         ┆           │\n",
       "└───────────┴──────────┴───────────┴───────────┴───┴───────────┴───────────┴───────────┴───────────┘"
      ]
     },
     "execution_count": 29,
     "metadata": {},
     "output_type": "execute_result"
    }
   ],
   "source": [
    "df.head()"
   ]
  },
  {
   "cell_type": "code",
   "execution_count": 30,
   "metadata": {},
   "outputs": [],
   "source": [
    "injured = df.filter(pl.col(\"IsInjured\")==1)"
   ]
  },
  {
   "cell_type": "code",
   "execution_count": 43,
   "metadata": {},
   "outputs": [
    {
     "data": {
      "text/html": [
       "<div><style>\n",
       ".dataframe > thead > tr,\n",
       ".dataframe > tbody > tr {\n",
       "  text-align: right;\n",
       "  white-space: pre-wrap;\n",
       "}\n",
       "</style>\n",
       "<small>shape: (5, 28)</small><table border=\"1\" class=\"dataframe\"><thead><tr><th>PlayKey</th><th>Position</th><th>StadiumType</th><th>FieldType</th><th>Temperature</th><th>Weather</th><th>PlayType</th><th>BodyPart</th><th>DM_M1</th><th>DM_M7</th><th>DM_M28</th><th>DM_M42</th><th>IsInjured</th><th>IsSevere</th><th>Position_right</th><th>Distance</th><th>Displacement</th><th>Path_Diff</th><th>Max_Angle_Diff</th><th>Mean_Angle_Diff</th><th>Max_Speed</th><th>Mean_Speed</th><th>Max_Impulse</th><th>Mean_Impulse</th><th>Max_Torque</th><th>Mean_Torque</th><th>Max_Int_Torque</th><th>Mean_Int_Torque</th></tr><tr><td>str</td><td>cat</td><td>cat</td><td>cat</td><td>i16</td><td>cat</td><td>cat</td><td>cat</td><td>i8</td><td>i8</td><td>i8</td><td>i8</td><td>i8</td><td>i8</td><td>cat</td><td>f32</td><td>f32</td><td>f32</td><td>f32</td><td>f32</td><td>f32</td><td>f32</td><td>f32</td><td>f32</td><td>f32</td><td>f32</td><td>f32</td><td>f32</td></tr></thead><tbody><tr><td>&quot;39678-2-1&quot;</td><td>&quot;DE&quot;</td><td>&quot;Outdoor&quot;</td><td>&quot;Synthetic&quot;</td><td>78</td><td>&quot;Clear&quot;</td><td>&quot;Rush&quot;</td><td>&quot;Ankle&quot;</td><td>1</td><td>1</td><td>1</td><td>1</td><td>1</td><td>1</td><td>&quot;DE&quot;</td><td>9.616361</td><td>2.166752</td><td>7.449609</td><td>179.910004</td><td>98.855545</td><td>3.052885</td><td>0.437107</td><td>216.689056</td><td>23.874905</td><td>230.65123</td><td>-0.019337</td><td>157.73703</td><td>-0.022281</td></tr><tr><td>&quot;43505-2-49&quot;</td><td>&quot;C&quot;</td><td>&quot;Outdoor&quot;</td><td>&quot;Natural&quot;</td><td>68</td><td>&quot;Cloudy&quot;</td><td>&quot;Pass&quot;</td><td>&quot;Foot&quot;</td><td>1</td><td>1</td><td>1</td><td>1</td><td>1</td><td>1</td><td>&quot;C&quot;</td><td>22.718946</td><td>12.360404</td><td>10.358542</td><td>178.800003</td><td>65.700806</td><td>5.232599</td><td>0.690545</td><td>378.39856</td><td>45.375923</td><td>259.565796</td><td>-0.022589</td><td>181.630371</td><td>-0.015812</td></tr><tr><td>&quot;46331-4-44&quot;</td><td>&quot;SS&quot;</td><td>&quot;Outdoor&quot;</td><td>&quot;Synthetic&quot;</td><td>61</td><td>&quot;Clear&quot;</td><td>&quot;Pass&quot;</td><td>&quot;Ankle&quot;</td><td>1</td><td>1</td><td>1</td><td>1</td><td>1</td><td>1</td><td>&quot;SS&quot;</td><td>39.425259</td><td>24.22731</td><td>15.197948</td><td>179.220001</td><td>79.266243</td><td>6.702966</td><td>1.388214</td><td>176.829742</td><td>23.55695</td><td>193.944458</td><td>0.000342</td><td>126.642754</td><td>0.007199</td></tr><tr><td>&quot;39956-2-14&quot;</td><td>&quot;FS&quot;</td><td>&quot;Outdoor&quot;</td><td>&quot;Natural&quot;</td><td>68</td><td>&quot;Cloudy&quot;</td><td>&quot;Pass&quot;</td><td>&quot;Knee&quot;</td><td>1</td><td>1</td><td>0</td><td>0</td><td>1</td><td>0</td><td>&quot;FS&quot;</td><td>49.258183</td><td>33.457523</td><td>15.800659</td><td>179.570007</td><td>70.516983</td><td>7.615777</td><td>1.740573</td><td>258.932281</td><td>34.283123</td><td>184.469879</td><td>0.00249</td><td>128.106674</td><td>-0.00408</td></tr><tr><td>&quot;42348-23-53&quot;</td><td>&quot;OLB&quot;</td><td>&quot;Outdoor&quot;</td><td>&quot;Synthetic&quot;</td><td>46</td><td>&quot;Cloudy&quot;</td><td>&quot;Rush&quot;</td><td>&quot;Knee&quot;</td><td>1</td><td>1</td><td>1</td><td>0</td><td>1</td><td>1</td><td>&quot;OLB&quot;</td><td>25.910782</td><td>13.703678</td><td>12.207104</td><td>179.809998</td><td>67.752289</td><td>6.135129</td><td>0.822565</td><td>82.935753</td><td>16.518072</td><td>206.246277</td><td>0.023609</td><td>142.762573</td><td>0.021859</td></tr></tbody></table></div>"
      ],
      "text/plain": [
       "shape: (5, 28)\n",
       "┌───────────┬──────────┬───────────┬───────────┬───┬───────────┬───────────┬───────────┬───────────┐\n",
       "│ PlayKey   ┆ Position ┆ StadiumTy ┆ FieldType ┆ … ┆ Max_Torqu ┆ Mean_Torq ┆ Max_Int_T ┆ Mean_Int_ │\n",
       "│ ---       ┆ ---      ┆ pe        ┆ ---       ┆   ┆ e         ┆ ue        ┆ orque     ┆ Torque    │\n",
       "│ str       ┆ cat      ┆ ---       ┆ cat       ┆   ┆ ---       ┆ ---       ┆ ---       ┆ ---       │\n",
       "│           ┆          ┆ cat       ┆           ┆   ┆ f32       ┆ f32       ┆ f32       ┆ f32       │\n",
       "╞═══════════╪══════════╪═══════════╪═══════════╪═══╪═══════════╪═══════════╪═══════════╪═══════════╡\n",
       "│ 39678-2-1 ┆ DE       ┆ Outdoor   ┆ Synthetic ┆ … ┆ 230.65123 ┆ -0.019337 ┆ 157.73703 ┆ -0.022281 │\n",
       "│ 43505-2-4 ┆ C        ┆ Outdoor   ┆ Natural   ┆ … ┆ 259.56579 ┆ -0.022589 ┆ 181.63037 ┆ -0.015812 │\n",
       "│ 9         ┆          ┆           ┆           ┆   ┆ 6         ┆           ┆ 1         ┆           │\n",
       "│ 46331-4-4 ┆ SS       ┆ Outdoor   ┆ Synthetic ┆ … ┆ 193.94445 ┆ 0.000342  ┆ 126.64275 ┆ 0.007199  │\n",
       "│ 4         ┆          ┆           ┆           ┆   ┆ 8         ┆           ┆ 4         ┆           │\n",
       "│ 39956-2-1 ┆ FS       ┆ Outdoor   ┆ Natural   ┆ … ┆ 184.46987 ┆ 0.00249   ┆ 128.10667 ┆ -0.00408  │\n",
       "│ 4         ┆          ┆           ┆           ┆   ┆ 9         ┆           ┆ 4         ┆           │\n",
       "│ 42348-23- ┆ OLB      ┆ Outdoor   ┆ Synthetic ┆ … ┆ 206.24627 ┆ 0.023609  ┆ 142.76257 ┆ 0.021859  │\n",
       "│ 53        ┆          ┆           ┆           ┆   ┆ 7         ┆           ┆ 3         ┆           │\n",
       "└───────────┴──────────┴───────────┴───────────┴───┴───────────┴───────────┴───────────┴───────────┘"
      ]
     },
     "execution_count": 43,
     "metadata": {},
     "output_type": "execute_result"
    }
   ],
   "source": [
    "injured.head()"
   ]
  },
  {
   "cell_type": "code",
   "execution_count": 31,
   "metadata": {},
   "outputs": [
    {
     "data": {
      "text/html": [
       "<div><style>\n",
       ".dataframe > thead > tr,\n",
       ".dataframe > tbody > tr {\n",
       "  text-align: right;\n",
       "  white-space: pre-wrap;\n",
       "}\n",
       "</style>\n",
       "<small>shape: (15, 2)</small><table border=\"1\" class=\"dataframe\"><thead><tr><th>Position</th><th>count</th></tr><tr><td>cat</td><td>u32</td></tr></thead><tbody><tr><td>&quot;C&quot;</td><td>4</td></tr><tr><td>&quot;LB&quot;</td><td>2</td></tr><tr><td>&quot;MLB&quot;</td><td>4</td></tr><tr><td>&quot;SS&quot;</td><td>5</td></tr><tr><td>&quot;TE&quot;</td><td>2</td></tr><tr><td>&hellip;</td><td>&hellip;</td></tr><tr><td>&quot;DT&quot;</td><td>2</td></tr><tr><td>&quot;WR&quot;</td><td>16</td></tr><tr><td>&quot;ILB&quot;</td><td>3</td></tr><tr><td>&quot;RB&quot;</td><td>6</td></tr><tr><td>&quot;OLB&quot;</td><td>12</td></tr></tbody></table></div>"
      ],
      "text/plain": [
       "shape: (15, 2)\n",
       "┌──────────┬───────┐\n",
       "│ Position ┆ count │\n",
       "│ ---      ┆ ---   │\n",
       "│ cat      ┆ u32   │\n",
       "╞══════════╪═══════╡\n",
       "│ C        ┆ 4     │\n",
       "│ LB       ┆ 2     │\n",
       "│ MLB      ┆ 4     │\n",
       "│ SS       ┆ 5     │\n",
       "│ TE       ┆ 2     │\n",
       "│ …        ┆ …     │\n",
       "│ DT       ┆ 2     │\n",
       "│ WR       ┆ 16    │\n",
       "│ ILB      ┆ 3     │\n",
       "│ RB       ┆ 6     │\n",
       "│ OLB      ┆ 12    │\n",
       "└──────────┴───────┘"
      ]
     },
     "execution_count": 31,
     "metadata": {},
     "output_type": "execute_result"
    }
   ],
   "source": [
    "injured[\"Position\"].value_counts()"
   ]
  },
  {
   "cell_type": "code",
   "execution_count": 32,
   "metadata": {},
   "outputs": [
    {
     "data": {
      "text/html": [
       "<div><style>\n",
       ".dataframe > thead > tr,\n",
       ".dataframe > tbody > tr {\n",
       "  text-align: right;\n",
       "  white-space: pre-wrap;\n",
       "}\n",
       "</style>\n",
       "<small>shape: (5, 28)</small><table border=\"1\" class=\"dataframe\"><thead><tr><th>PlayKey</th><th>Position</th><th>StadiumType</th><th>FieldType</th><th>Temperature</th><th>Weather</th><th>PlayType</th><th>BodyPart</th><th>DM_M1</th><th>DM_M7</th><th>DM_M28</th><th>DM_M42</th><th>IsInjured</th><th>IsSevere</th><th>Position_right</th><th>Distance</th><th>Displacement</th><th>Path_Diff</th><th>Max_Angle_Diff</th><th>Mean_Angle_Diff</th><th>Max_Speed</th><th>Mean_Speed</th><th>Max_Impulse</th><th>Mean_Impulse</th><th>Max_Torque</th><th>Mean_Torque</th><th>Max_Int_Torque</th><th>Mean_Int_Torque</th></tr><tr><td>str</td><td>cat</td><td>cat</td><td>cat</td><td>i16</td><td>cat</td><td>cat</td><td>cat</td><td>i8</td><td>i8</td><td>i8</td><td>i8</td><td>i8</td><td>i8</td><td>cat</td><td>f32</td><td>f32</td><td>f32</td><td>f32</td><td>f32</td><td>f32</td><td>f32</td><td>f32</td><td>f32</td><td>f32</td><td>f32</td><td>f32</td><td>f32</td></tr></thead><tbody><tr><td>&quot;39678-2-1&quot;</td><td>&quot;DE&quot;</td><td>&quot;Outdoor&quot;</td><td>&quot;Synthetic&quot;</td><td>78</td><td>&quot;Clear&quot;</td><td>&quot;Rush&quot;</td><td>&quot;Ankle&quot;</td><td>1</td><td>1</td><td>1</td><td>1</td><td>1</td><td>1</td><td>&quot;DE&quot;</td><td>9.616361</td><td>2.166752</td><td>7.449609</td><td>179.910004</td><td>98.855545</td><td>3.052885</td><td>0.437107</td><td>216.689056</td><td>23.874905</td><td>230.65123</td><td>-0.019337</td><td>157.73703</td><td>-0.022281</td></tr><tr><td>&quot;43505-2-49&quot;</td><td>&quot;C&quot;</td><td>&quot;Outdoor&quot;</td><td>&quot;Natural&quot;</td><td>68</td><td>&quot;Cloudy&quot;</td><td>&quot;Pass&quot;</td><td>&quot;Foot&quot;</td><td>1</td><td>1</td><td>1</td><td>1</td><td>1</td><td>1</td><td>&quot;C&quot;</td><td>22.718946</td><td>12.360404</td><td>10.358542</td><td>178.800003</td><td>65.700806</td><td>5.232599</td><td>0.690545</td><td>378.39856</td><td>45.375923</td><td>259.565796</td><td>-0.022589</td><td>181.630371</td><td>-0.015812</td></tr><tr><td>&quot;46331-4-44&quot;</td><td>&quot;SS&quot;</td><td>&quot;Outdoor&quot;</td><td>&quot;Synthetic&quot;</td><td>61</td><td>&quot;Clear&quot;</td><td>&quot;Pass&quot;</td><td>&quot;Ankle&quot;</td><td>1</td><td>1</td><td>1</td><td>1</td><td>1</td><td>1</td><td>&quot;SS&quot;</td><td>39.425259</td><td>24.22731</td><td>15.197948</td><td>179.220001</td><td>79.266243</td><td>6.702966</td><td>1.388214</td><td>176.829742</td><td>23.55695</td><td>193.944458</td><td>0.000342</td><td>126.642754</td><td>0.007199</td></tr><tr><td>&quot;39956-2-14&quot;</td><td>&quot;FS&quot;</td><td>&quot;Outdoor&quot;</td><td>&quot;Natural&quot;</td><td>68</td><td>&quot;Cloudy&quot;</td><td>&quot;Pass&quot;</td><td>&quot;Knee&quot;</td><td>1</td><td>1</td><td>0</td><td>0</td><td>1</td><td>0</td><td>&quot;FS&quot;</td><td>49.258183</td><td>33.457523</td><td>15.800659</td><td>179.570007</td><td>70.516983</td><td>7.615777</td><td>1.740573</td><td>258.932281</td><td>34.283123</td><td>184.469879</td><td>0.00249</td><td>128.106674</td><td>-0.00408</td></tr><tr><td>&quot;42348-23-53&quot;</td><td>&quot;OLB&quot;</td><td>&quot;Outdoor&quot;</td><td>&quot;Synthetic&quot;</td><td>46</td><td>&quot;Cloudy&quot;</td><td>&quot;Rush&quot;</td><td>&quot;Knee&quot;</td><td>1</td><td>1</td><td>1</td><td>0</td><td>1</td><td>1</td><td>&quot;OLB&quot;</td><td>25.910782</td><td>13.703678</td><td>12.207104</td><td>179.809998</td><td>67.752289</td><td>6.135129</td><td>0.822565</td><td>82.935753</td><td>16.518072</td><td>206.246277</td><td>0.023609</td><td>142.762573</td><td>0.021859</td></tr></tbody></table></div>"
      ],
      "text/plain": [
       "shape: (5, 28)\n",
       "┌───────────┬──────────┬───────────┬───────────┬───┬───────────┬───────────┬───────────┬───────────┐\n",
       "│ PlayKey   ┆ Position ┆ StadiumTy ┆ FieldType ┆ … ┆ Max_Torqu ┆ Mean_Torq ┆ Max_Int_T ┆ Mean_Int_ │\n",
       "│ ---       ┆ ---      ┆ pe        ┆ ---       ┆   ┆ e         ┆ ue        ┆ orque     ┆ Torque    │\n",
       "│ str       ┆ cat      ┆ ---       ┆ cat       ┆   ┆ ---       ┆ ---       ┆ ---       ┆ ---       │\n",
       "│           ┆          ┆ cat       ┆           ┆   ┆ f32       ┆ f32       ┆ f32       ┆ f32       │\n",
       "╞═══════════╪══════════╪═══════════╪═══════════╪═══╪═══════════╪═══════════╪═══════════╪═══════════╡\n",
       "│ 39678-2-1 ┆ DE       ┆ Outdoor   ┆ Synthetic ┆ … ┆ 230.65123 ┆ -0.019337 ┆ 157.73703 ┆ -0.022281 │\n",
       "│ 43505-2-4 ┆ C        ┆ Outdoor   ┆ Natural   ┆ … ┆ 259.56579 ┆ -0.022589 ┆ 181.63037 ┆ -0.015812 │\n",
       "│ 9         ┆          ┆           ┆           ┆   ┆ 6         ┆           ┆ 1         ┆           │\n",
       "│ 46331-4-4 ┆ SS       ┆ Outdoor   ┆ Synthetic ┆ … ┆ 193.94445 ┆ 0.000342  ┆ 126.64275 ┆ 0.007199  │\n",
       "│ 4         ┆          ┆           ┆           ┆   ┆ 8         ┆           ┆ 4         ┆           │\n",
       "│ 39956-2-1 ┆ FS       ┆ Outdoor   ┆ Natural   ┆ … ┆ 184.46987 ┆ 0.00249   ┆ 128.10667 ┆ -0.00408  │\n",
       "│ 4         ┆          ┆           ┆           ┆   ┆ 9         ┆           ┆ 4         ┆           │\n",
       "│ 42348-23- ┆ OLB      ┆ Outdoor   ┆ Synthetic ┆ … ┆ 206.24627 ┆ 0.023609  ┆ 142.76257 ┆ 0.021859  │\n",
       "│ 53        ┆          ┆           ┆           ┆   ┆ 7         ┆           ┆ 3         ┆           │\n",
       "└───────────┴──────────┴───────────┴───────────┴───┴───────────┴───────────┴───────────┴───────────┘"
      ]
     },
     "execution_count": 32,
     "metadata": {},
     "output_type": "execute_result"
    }
   ],
   "source": [
    "injured.head()"
   ]
  },
  {
   "cell_type": "code",
   "execution_count": 33,
   "metadata": {},
   "outputs": [
    {
     "data": {
      "image/png": "[encoded data removed]",
      "text/plain": [
       "<Figure size 864x432 with 1 Axes>"
      ]
     },
     "metadata": {
      "needs_background": "light"
     },
     "output_type": "display_data"
    }
   ],
   "source": [
    "import seaborn as sns\n",
    "import matplotlib.pyplot as plt\n",
    "\n",
    "# Assuming 'injured' is your DataFrame\n",
    "position_counts = injured[\"Position\"].value_counts()\n",
    "position_counts.columns = ['Position', 'Count']\n",
    "\n",
    "# Create the bar plot\n",
    "plt.figure(figsize=(12, 6))\n",
    "sns.barplot(x='Position', y='Count', data=position_counts)\n",
    "\n",
    "# Customize the plot\n",
    "plt.title(\"Injury Counts by Position\")\n",
    "plt.xlabel(\"Position\")\n",
    "plt.ylabel(\"Count\")\n",
    "\n",
    "# Rotate x-axis labels for better readability if needed\n",
    "plt.xticks(rotation=45, ha='right')\n",
    "\n",
    "# Adjust layout to prevent cutting off labels\n",
    "plt.tight_layout()\n",
    "\n",
    "# Show the plot\n",
    "plt.show()\n",
    "\n"
   ]
  },
  {
   "cell_type": "markdown",
   "metadata": {},
   "source": [
    "The positions can be grouped a bit more to provide a little more diversity.\n",
    "\n",
    "- Offensive Skill and Line: WR, RB, TE, T, C\n",
    "- Linebackers and Line: LB, ILB, MLB, OLB, DE, DT\n",
    "- Defensive Backs: CB, FS, SS, DB"
   ]
  },
  {
   "cell_type": "code",
   "execution_count": 44,
   "metadata": {},
   "outputs": [],
   "source": [
    "df = df.with_columns([\n",
    "    pl.when(pl.col(\"Position\").cast(pl.Utf8).is_in([\"WR\", \"RB\", \"TE\", \"T\", \"C\"]))\n",
    "    .then(pl.lit(\"Offensive\"))\n",
    "    .when(pl.col(\"Position\").cast(pl.Utf8).is_in([\"ILB\", \"OLB\", \"MLB\", \"LB\", \"DE\", \"DT\"]))\n",
    "    .then(pl.lit(\"Linebackers\"))\n",
    "    .when(pl.col(\"Position\").cast(pl.Utf8).is_in([\"CB\", \"FS\", \"SS\", \"DB\"]))\n",
    "    .then(pl.lit(\"DefensiveBacks\"))\n",
    "    .otherwise(pl.lit(\"Other\"))\n",
    "    .alias(\"PositionGroup\")\n",
    "])"
   ]
  },
  {
   "cell_type": "code",
   "execution_count": 45,
   "metadata": {},
   "outputs": [
    {
     "data": {
      "text/plain": [
       "266594"
      ]
     },
     "execution_count": 45,
     "metadata": {},
     "output_type": "execute_result"
    }
   ],
   "source": [
    "len(df)"
   ]
  },
  {
   "cell_type": "code",
   "execution_count": 46,
   "metadata": {},
   "outputs": [],
   "source": [
    "injured = df.filter(pl.col(\"IsInjured\")==1)"
   ]
  },
  {
   "cell_type": "code",
   "execution_count": 47,
   "metadata": {},
   "outputs": [
    {
     "data": {
      "text/html": [
       "<div><style>\n",
       ".dataframe > thead > tr,\n",
       ".dataframe > tbody > tr {\n",
       "  text-align: right;\n",
       "  white-space: pre-wrap;\n",
       "}\n",
       "</style>\n",
       "<small>shape: (5, 29)</small><table border=\"1\" class=\"dataframe\"><thead><tr><th>PlayKey</th><th>Position</th><th>StadiumType</th><th>FieldType</th><th>Temperature</th><th>Weather</th><th>PlayType</th><th>BodyPart</th><th>DM_M1</th><th>DM_M7</th><th>DM_M28</th><th>DM_M42</th><th>IsInjured</th><th>IsSevere</th><th>Position_right</th><th>Distance</th><th>Displacement</th><th>Path_Diff</th><th>Max_Angle_Diff</th><th>Mean_Angle_Diff</th><th>Max_Speed</th><th>Mean_Speed</th><th>Max_Impulse</th><th>Mean_Impulse</th><th>Max_Torque</th><th>Mean_Torque</th><th>Max_Int_Torque</th><th>Mean_Int_Torque</th><th>PositionGroup</th></tr><tr><td>str</td><td>cat</td><td>cat</td><td>cat</td><td>i16</td><td>cat</td><td>cat</td><td>cat</td><td>i8</td><td>i8</td><td>i8</td><td>i8</td><td>i8</td><td>i8</td><td>cat</td><td>f32</td><td>f32</td><td>f32</td><td>f32</td><td>f32</td><td>f32</td><td>f32</td><td>f32</td><td>f32</td><td>f32</td><td>f32</td><td>f32</td><td>f32</td><td>str</td></tr></thead><tbody><tr><td>&quot;39678-2-1&quot;</td><td>&quot;DE&quot;</td><td>&quot;Outdoor&quot;</td><td>&quot;Synthetic&quot;</td><td>78</td><td>&quot;Clear&quot;</td><td>&quot;Rush&quot;</td><td>&quot;Ankle&quot;</td><td>1</td><td>1</td><td>1</td><td>1</td><td>1</td><td>1</td><td>&quot;DE&quot;</td><td>9.616361</td><td>2.166752</td><td>7.449609</td><td>179.910004</td><td>98.855545</td><td>3.052885</td><td>0.437107</td><td>216.689056</td><td>23.874905</td><td>230.65123</td><td>-0.019337</td><td>157.73703</td><td>-0.022281</td><td>&quot;Linebackers&quot;</td></tr><tr><td>&quot;43505-2-49&quot;</td><td>&quot;C&quot;</td><td>&quot;Outdoor&quot;</td><td>&quot;Natural&quot;</td><td>68</td><td>&quot;Cloudy&quot;</td><td>&quot;Pass&quot;</td><td>&quot;Foot&quot;</td><td>1</td><td>1</td><td>1</td><td>1</td><td>1</td><td>1</td><td>&quot;C&quot;</td><td>22.718946</td><td>12.360404</td><td>10.358542</td><td>178.800003</td><td>65.700806</td><td>5.232599</td><td>0.690545</td><td>378.39856</td><td>45.375923</td><td>259.565796</td><td>-0.022589</td><td>181.630371</td><td>-0.015812</td><td>&quot;Offensive&quot;</td></tr><tr><td>&quot;46331-4-44&quot;</td><td>&quot;SS&quot;</td><td>&quot;Outdoor&quot;</td><td>&quot;Synthetic&quot;</td><td>61</td><td>&quot;Clear&quot;</td><td>&quot;Pass&quot;</td><td>&quot;Ankle&quot;</td><td>1</td><td>1</td><td>1</td><td>1</td><td>1</td><td>1</td><td>&quot;SS&quot;</td><td>39.425259</td><td>24.22731</td><td>15.197948</td><td>179.220001</td><td>79.266243</td><td>6.702966</td><td>1.388214</td><td>176.829742</td><td>23.55695</td><td>193.944458</td><td>0.000342</td><td>126.642754</td><td>0.007199</td><td>&quot;DefensiveBacks&quot;</td></tr><tr><td>&quot;39956-2-14&quot;</td><td>&quot;FS&quot;</td><td>&quot;Outdoor&quot;</td><td>&quot;Natural&quot;</td><td>68</td><td>&quot;Cloudy&quot;</td><td>&quot;Pass&quot;</td><td>&quot;Knee&quot;</td><td>1</td><td>1</td><td>0</td><td>0</td><td>1</td><td>0</td><td>&quot;FS&quot;</td><td>49.258183</td><td>33.457523</td><td>15.800659</td><td>179.570007</td><td>70.516983</td><td>7.615777</td><td>1.740573</td><td>258.932281</td><td>34.283123</td><td>184.469879</td><td>0.00249</td><td>128.106674</td><td>-0.00408</td><td>&quot;DefensiveBacks&quot;</td></tr><tr><td>&quot;42348-23-53&quot;</td><td>&quot;OLB&quot;</td><td>&quot;Outdoor&quot;</td><td>&quot;Synthetic&quot;</td><td>46</td><td>&quot;Cloudy&quot;</td><td>&quot;Rush&quot;</td><td>&quot;Knee&quot;</td><td>1</td><td>1</td><td>1</td><td>0</td><td>1</td><td>1</td><td>&quot;OLB&quot;</td><td>25.910782</td><td>13.703678</td><td>12.207104</td><td>179.809998</td><td>67.752289</td><td>6.135129</td><td>0.822565</td><td>82.935753</td><td>16.518072</td><td>206.246277</td><td>0.023609</td><td>142.762573</td><td>0.021859</td><td>&quot;Linebackers&quot;</td></tr></tbody></table></div>"
      ],
      "text/plain": [
       "shape: (5, 29)\n",
       "┌───────────┬──────────┬───────────┬───────────┬───┬───────────┬───────────┬───────────┬───────────┐\n",
       "│ PlayKey   ┆ Position ┆ StadiumTy ┆ FieldType ┆ … ┆ Mean_Torq ┆ Max_Int_T ┆ Mean_Int_ ┆ PositionG │\n",
       "│ ---       ┆ ---      ┆ pe        ┆ ---       ┆   ┆ ue        ┆ orque     ┆ Torque    ┆ roup      │\n",
       "│ str       ┆ cat      ┆ ---       ┆ cat       ┆   ┆ ---       ┆ ---       ┆ ---       ┆ ---       │\n",
       "│           ┆          ┆ cat       ┆           ┆   ┆ f32       ┆ f32       ┆ f32       ┆ str       │\n",
       "╞═══════════╪══════════╪═══════════╪═══════════╪═══╪═══════════╪═══════════╪═══════════╪═══════════╡\n",
       "│ 39678-2-1 ┆ DE       ┆ Outdoor   ┆ Synthetic ┆ … ┆ -0.019337 ┆ 157.73703 ┆ -0.022281 ┆ Linebacke │\n",
       "│           ┆          ┆           ┆           ┆   ┆           ┆           ┆           ┆ rs        │\n",
       "│ 43505-2-4 ┆ C        ┆ Outdoor   ┆ Natural   ┆ … ┆ -0.022589 ┆ 181.63037 ┆ -0.015812 ┆ Offensive │\n",
       "│ 9         ┆          ┆           ┆           ┆   ┆           ┆ 1         ┆           ┆           │\n",
       "│ 46331-4-4 ┆ SS       ┆ Outdoor   ┆ Synthetic ┆ … ┆ 0.000342  ┆ 126.64275 ┆ 0.007199  ┆ Defensive │\n",
       "│ 4         ┆          ┆           ┆           ┆   ┆           ┆ 4         ┆           ┆ Backs     │\n",
       "│ 39956-2-1 ┆ FS       ┆ Outdoor   ┆ Natural   ┆ … ┆ 0.00249   ┆ 128.10667 ┆ -0.00408  ┆ Defensive │\n",
       "│ 4         ┆          ┆           ┆           ┆   ┆           ┆ 4         ┆           ┆ Backs     │\n",
       "│ 42348-23- ┆ OLB      ┆ Outdoor   ┆ Synthetic ┆ … ┆ 0.023609  ┆ 142.76257 ┆ 0.021859  ┆ Linebacke │\n",
       "│ 53        ┆          ┆           ┆           ┆   ┆           ┆ 3         ┆           ┆ rs        │\n",
       "└───────────┴──────────┴───────────┴───────────┴───┴───────────┴───────────┴───────────┴───────────┘"
      ]
     },
     "execution_count": 47,
     "metadata": {},
     "output_type": "execute_result"
    }
   ],
   "source": [
    "injured.head()"
   ]
  },
  {
   "cell_type": "code",
   "execution_count": 36,
   "metadata": {},
   "outputs": [],
   "source": [
    "position_filter = df.filter(pl.col(\"PositionGroup\") != \"Other\")"
   ]
  },
  {
   "cell_type": "code",
   "execution_count": 37,
   "metadata": {},
   "outputs": [
    {
     "data": {
      "text/plain": [
       "238225"
      ]
     },
     "execution_count": 37,
     "metadata": {},
     "output_type": "execute_result"
    }
   ],
   "source": [
    "len(position_filter)"
   ]
  },
  {
   "cell_type": "markdown",
   "metadata": {},
   "source": [
    "Next I want to look at the play types associated with the injuries"
   ]
  },
  {
   "cell_type": "code",
   "execution_count": 38,
   "metadata": {},
   "outputs": [
    {
     "data": {
      "image/png": "[encoded data removed]",
      "text/plain": [
       "<Figure size 864x432 with 1 Axes>"
      ]
     },
     "metadata": {
      "needs_background": "light"
     },
     "output_type": "display_data"
    }
   ],
   "source": [
    "play_counts = injured[\"PlayType\"].value_counts()# Assuming 'injured' is your DataFrame\n",
    "\n",
    "play_counts.columns = ['PlayType', 'Count']\n",
    "\n",
    "# Create the bar plot\n",
    "plt.figure(figsize=(12, 6))\n",
    "sns.barplot(x='PlayType', y='Count', data=play_counts)\n",
    "\n",
    "# Customize the plot\n",
    "plt.title(\"Injury Counts by PlayType\")\n",
    "plt.xlabel(\"PlayType\")\n",
    "plt.ylabel(\"Count\")\n",
    "\n",
    "# Rotate x-axis labels for better readability if needed\n",
    "plt.xticks(rotation=45, ha='right')\n",
    "\n",
    "# Adjust layout to prevent cutting off labels\n",
    "plt.tight_layout()\n",
    "\n",
    "# Show the plot\n",
    "plt.show()"
   ]
  },
  {
   "cell_type": "markdown",
   "metadata": {},
   "source": [
    "So here we can get rid of any of the Unknown, Field Goal and Extra Point plays"
   ]
  },
  {
   "cell_type": "code",
   "execution_count": 39,
   "metadata": {},
   "outputs": [],
   "source": [
    "play_filter = position_filter.filter(pl.col(\"PlayType\").is_in([\"Pass\", \"Rush\", \"Kickoff\", \"Punt\"]))"
   ]
  },
  {
   "cell_type": "code",
   "execution_count": 41,
   "metadata": {},
   "outputs": [
    {
     "data": {
      "text/plain": [
       "228781"
      ]
     },
     "execution_count": 41,
     "metadata": {},
     "output_type": "execute_result"
    }
   ],
   "source": [
    "len(play_filter)"
   ]
  },
  {
   "cell_type": "markdown",
   "metadata": {},
   "source": [
    "I want to see the distribution of the injured players within their PositionGroup and PlayTypes. From here I can find other similar combinations to use for the machine learning with the mechanics. It's not exactly fair to compare Field Goal impact plays with Rushing Plays... "
   ]
  },
  {
   "cell_type": "code",
   "execution_count": 59,
   "metadata": {},
   "outputs": [
    {
     "name": "stdout",
     "output_type": "stream",
     "text": [
      "shape: (12, 4)\n",
      "┌────────────────┬──────────┬───────┬────────────┐\n",
      "│ PositionGroup  ┆ PlayType ┆ count ┆ percentage │\n",
      "│ ---            ┆ ---      ┆ ---   ┆ ---        │\n",
      "│ str            ┆ cat      ┆ u32   ┆ f64        │\n",
      "╞════════════════╪══════════╪═══════╪════════════╡\n",
      "│ Offensive      ┆ Pass     ┆ 14    ┆ 18.181818  │\n",
      "│ DefensiveBacks ┆ Pass     ┆ 12    ┆ 15.584416  │\n",
      "│ Linebackers    ┆ Rush     ┆ 12    ┆ 15.584416  │\n",
      "│ Offensive      ┆ Rush     ┆ 9     ┆ 11.688312  │\n",
      "│ Linebackers    ┆ Punt     ┆ 7     ┆ 9.090909   │\n",
      "│ …              ┆ …        ┆ …     ┆ …          │\n",
      "│ DefensiveBacks ┆ Punt     ┆ 4     ┆ 5.194805   │\n",
      "│ Linebackers    ┆ Kickoff  ┆ 3     ┆ 3.896104   │\n",
      "│ DefensiveBacks ┆ Rush     ┆ 2     ┆ 2.597403   │\n",
      "│ Offensive      ┆ Punt     ┆ 2     ┆ 2.597403   │\n",
      "│ DefensiveBacks ┆ Kickoff  ┆ 1     ┆ 1.298701   │\n",
      "└────────────────┴──────────┴───────┴────────────┘\n"
     ]
    },
    {
     "name": "stderr",
     "output_type": "stream",
     "text": [
      "C:\\Users\\justi\\AppData\\Local\\Temp\\ipykernel_27360\\1472262086.py:5: DeprecationWarning: `pl.count()` is deprecated. Please use `pl.len()` instead.\n",
      "  counts = injured.select([\"PositionGroup\", \"PlayType\"]).group_by([\"PositionGroup\", \"PlayType\"]).agg(pl.count().alias(\"count\"))\n"
     ]
    }
   ],
   "source": [
    "# Get unique combinations of PositionGroup and PlayType\n",
    "unique_combinations = injured.select([\"PositionGroup\", \"PlayType\"]).unique()\n",
    "\n",
    "# Count occurrences of each combination\n",
    "counts = injured.select([\"PositionGroup\", \"PlayType\"]).group_by([\"PositionGroup\", \"PlayType\"]).agg(pl.count().alias(\"count\"))\n",
    "\n",
    "# Calculate total injuries\n",
    "total_injuries = injured.shape[0]\n",
    "\n",
    "# Calculate percentages\n",
    "distribution = counts.with_columns([\n",
    "    (pl.col(\"count\") / total_injuries * 100).alias(\"percentage\")\n",
    "])\n",
    "\n",
    "# Sort by count in descending order\n",
    "distribution = distribution.sort(\"count\", descending=True)\n",
    "\n",
    "print(distribution)"
   ]
  },
  {
   "cell_type": "code",
   "execution_count": 60,
   "metadata": {},
   "outputs": [
    {
     "name": "stdout",
     "output_type": "stream",
     "text": [
      "1.2.1\n"
     ]
    }
   ],
   "source": [
    "print(pl.__version__)"
   ]
  },
  {
   "cell_type": "code",
   "execution_count": 62,
   "metadata": {},
   "outputs": [
    {
     "name": "stderr",
     "output_type": "stream",
     "text": [
      "C:\\Users\\justi\\AppData\\Local\\Temp\\ipykernel_27360\\2939303371.py:8: DeprecationWarning: `pl.count()` is deprecated. Please use `pl.len()` instead.\n",
      "  .agg(pl.count().alias(\"count\"))\n"
     ]
    },
    {
     "data": {
      "image/png": "[encoded data removed]",
      "text/plain": [
       "<Figure size 864x432 with 1 Axes>"
      ]
     },
     "metadata": {
      "needs_background": "light"
     },
     "output_type": "display_data"
    }
   ],
   "source": [
    "import polars as pl\n",
    "import seaborn as sns\n",
    "import matplotlib.pyplot as plt\n",
    "\n",
    "# Get distribution of PositionGroup and PlayType combinations\n",
    "distribution = (\n",
    "    injured.group_by([\"PositionGroup\", \"PlayType\"])\n",
    "    .agg(pl.count().alias(\"count\"))\n",
    "    .with_columns([\n",
    "        (pl.col(\"count\") / pl.sum(\"count\") * 100).alias(\"percentage\")\n",
    "    ])\n",
    "    .sort(\"count\", descending=True)\n",
    ")\n",
    "\n",
    "# Create the plot\n",
    "plt.figure(figsize=(12, 6))\n",
    "sns.barplot(\n",
    "    data=distribution,\n",
    "    x=\"PositionGroup\",\n",
    "    y=\"percentage\",\n",
    "    hue=\"PlayType\"\n",
    ")\n",
    "\n",
    "# Customize the plot\n",
    "plt.title('Distribution of Injuries by Position Group and Play Type')\n",
    "plt.xlabel('Position Group')\n",
    "plt.ylabel('Percentage of Injuries')\n",
    "plt.legend(title='Play Type', bbox_to_anchor=(1.05, 1), loc='upper left')\n",
    "\n",
    "# Add percentage labels on the bars\n",
    "for container in plt.gca().containers:\n",
    "    plt.bar_label(container, fmt='%.1f%%', label_type='center')\n",
    "\n",
    "plt.tight_layout()\n",
    "plt.show()\n"
   ]
  },
  {
   "cell_type": "markdown",
   "metadata": {},
   "source": [
    "So the Play-PositionGroup combinations are as follows: \n",
    "- Offensive_Pass\n",
    "- Offensive_Rush\n",
    "- Offensive_Kickoff\n",
    "- Offensive_Punt\n",
    "- Linebacker_Pass\n",
    "- Linebacker_Rush\n",
    "- Linebacker_Kickoff\n",
    "- Linebacker_Punt\n",
    "- Defensive_Pass\n",
    "- Defensive_Rush\n",
    "- Defensive_Kickoff\n",
    "- Defensive_Punt"
   ]
  },
  {
   "cell_type": "code",
   "execution_count": 63,
   "metadata": {},
   "outputs": [
    {
     "data": {
      "text/html": [
       "<div><style>\n",
       ".dataframe > thead > tr,\n",
       ".dataframe > tbody > tr {\n",
       "  text-align: right;\n",
       "  white-space: pre-wrap;\n",
       "}\n",
       "</style>\n",
       "<small>shape: (5, 29)</small><table border=\"1\" class=\"dataframe\"><thead><tr><th>PlayKey</th><th>Position</th><th>StadiumType</th><th>FieldType</th><th>Temperature</th><th>Weather</th><th>PlayType</th><th>BodyPart</th><th>DM_M1</th><th>DM_M7</th><th>DM_M28</th><th>DM_M42</th><th>IsInjured</th><th>IsSevere</th><th>Position_right</th><th>Distance</th><th>Displacement</th><th>Path_Diff</th><th>Max_Angle_Diff</th><th>Mean_Angle_Diff</th><th>Max_Speed</th><th>Mean_Speed</th><th>Max_Impulse</th><th>Mean_Impulse</th><th>Max_Torque</th><th>Mean_Torque</th><th>Max_Int_Torque</th><th>Mean_Int_Torque</th><th>PositionGroup</th></tr><tr><td>str</td><td>cat</td><td>cat</td><td>cat</td><td>i16</td><td>cat</td><td>cat</td><td>cat</td><td>i8</td><td>i8</td><td>i8</td><td>i8</td><td>i8</td><td>i8</td><td>cat</td><td>f32</td><td>f32</td><td>f32</td><td>f32</td><td>f32</td><td>f32</td><td>f32</td><td>f32</td><td>f32</td><td>f32</td><td>f32</td><td>f32</td><td>f32</td><td>str</td></tr></thead><tbody><tr><td>&quot;26624-1-20&quot;</td><td>&quot;QB&quot;</td><td>&quot;Outdoor&quot;</td><td>&quot;Synthetic&quot;</td><td>63</td><td>&quot;Clear&quot;</td><td>&quot;Rush&quot;</td><td>&quot;No_Injury&quot;</td><td>0</td><td>0</td><td>0</td><td>0</td><td>0</td><td>0</td><td>&quot;QB&quot;</td><td>12.560955</td><td>5.40202</td><td>7.158936</td><td>178.440002</td><td>78.945656</td><td>3.712159</td><td>0.483114</td><td>187.427231</td><td>13.7315</td><td>38.490417</td><td>-0.010563</td><td>72.574364</td><td>-0.004217</td><td>&quot;Other&quot;</td></tr><tr><td>&quot;26624-1-22&quot;</td><td>&quot;QB&quot;</td><td>&quot;Outdoor&quot;</td><td>&quot;Synthetic&quot;</td><td>63</td><td>&quot;Clear&quot;</td><td>&quot;Pass&quot;</td><td>&quot;No_Injury&quot;</td><td>0</td><td>0</td><td>0</td><td>0</td><td>0</td><td>0</td><td>&quot;QB&quot;</td><td>27.687366</td><td>7.580832</td><td>20.106533</td><td>179.25</td><td>101.294319</td><td>4.517752</td><td>1.936179</td><td>72.198616</td><td>17.693897</td><td>195.079529</td><td>0.01526</td><td>136.597397</td><td>-0.015356</td><td>&quot;Other&quot;</td></tr><tr><td>&quot;26624-1-23&quot;</td><td>&quot;QB&quot;</td><td>&quot;Outdoor&quot;</td><td>&quot;Synthetic&quot;</td><td>63</td><td>&quot;Clear&quot;</td><td>&quot;Rush&quot;</td><td>&quot;No_Injury&quot;</td><td>0</td><td>0</td><td>0</td><td>0</td><td>0</td><td>0</td><td>&quot;QB&quot;</td><td>28.736702</td><td>8.434956</td><td>20.301746</td><td>178.229996</td><td>78.788918</td><td>4.414752</td><td>1.037426</td><td>240.314255</td><td>15.576145</td><td>197.972412</td><td>0.05488</td><td>135.239807</td><td>-0.031697</td><td>&quot;Other&quot;</td></tr><tr><td>&quot;26624-1-24&quot;</td><td>&quot;QB&quot;</td><td>&quot;Outdoor&quot;</td><td>&quot;Synthetic&quot;</td><td>63</td><td>&quot;Clear&quot;</td><td>&quot;Unknown&quot;</td><td>&quot;No_Injury&quot;</td><td>0</td><td>0</td><td>0</td><td>0</td><td>0</td><td>0</td><td>&quot;QB&quot;</td><td>25.678587</td><td>3.967429</td><td>21.711157</td><td>178.919998</td><td>89.392487</td><td>4.60975</td><td>0.850284</td><td>94.129692</td><td>14.66524</td><td>196.742706</td><td>0.067654</td><td>136.555679</td><td>-0.02783</td><td>&quot;Other&quot;</td></tr><tr><td>&quot;26624-1-45&quot;</td><td>&quot;QB&quot;</td><td>&quot;Outdoor&quot;</td><td>&quot;Synthetic&quot;</td><td>63</td><td>&quot;Clear&quot;</td><td>&quot;Pass&quot;</td><td>&quot;No_Injury&quot;</td><td>0</td><td>0</td><td>0</td><td>0</td><td>0</td><td>0</td><td>&quot;QB&quot;</td><td>24.427948</td><td>10.659006</td><td>13.768942</td><td>179.690002</td><td>94.147797</td><td>4.019967</td><td>0.592911</td><td>240.312332</td><td>11.786748</td><td>195.729614</td><td>0.003361</td><td>135.342194</td><td>-0.00585</td><td>&quot;Other&quot;</td></tr></tbody></table></div>"
      ],
      "text/plain": [
       "shape: (5, 29)\n",
       "┌───────────┬──────────┬───────────┬───────────┬───┬───────────┬───────────┬───────────┬───────────┐\n",
       "│ PlayKey   ┆ Position ┆ StadiumTy ┆ FieldType ┆ … ┆ Mean_Torq ┆ Max_Int_T ┆ Mean_Int_ ┆ PositionG │\n",
       "│ ---       ┆ ---      ┆ pe        ┆ ---       ┆   ┆ ue        ┆ orque     ┆ Torque    ┆ roup      │\n",
       "│ str       ┆ cat      ┆ ---       ┆ cat       ┆   ┆ ---       ┆ ---       ┆ ---       ┆ ---       │\n",
       "│           ┆          ┆ cat       ┆           ┆   ┆ f32       ┆ f32       ┆ f32       ┆ str       │\n",
       "╞═══════════╪══════════╪═══════════╪═══════════╪═══╪═══════════╪═══════════╪═══════════╪═══════════╡\n",
       "│ 26624-1-2 ┆ QB       ┆ Outdoor   ┆ Synthetic ┆ … ┆ -0.010563 ┆ 72.574364 ┆ -0.004217 ┆ Other     │\n",
       "│ 0         ┆          ┆           ┆           ┆   ┆           ┆           ┆           ┆           │\n",
       "│ 26624-1-2 ┆ QB       ┆ Outdoor   ┆ Synthetic ┆ … ┆ 0.01526   ┆ 136.59739 ┆ -0.015356 ┆ Other     │\n",
       "│ 2         ┆          ┆           ┆           ┆   ┆           ┆ 7         ┆           ┆           │\n",
       "│ 26624-1-2 ┆ QB       ┆ Outdoor   ┆ Synthetic ┆ … ┆ 0.05488   ┆ 135.23980 ┆ -0.031697 ┆ Other     │\n",
       "│ 3         ┆          ┆           ┆           ┆   ┆           ┆ 7         ┆           ┆           │\n",
       "│ 26624-1-2 ┆ QB       ┆ Outdoor   ┆ Synthetic ┆ … ┆ 0.067654  ┆ 136.55567 ┆ -0.02783  ┆ Other     │\n",
       "│ 4         ┆          ┆           ┆           ┆   ┆           ┆ 9         ┆           ┆           │\n",
       "│ 26624-1-4 ┆ QB       ┆ Outdoor   ┆ Synthetic ┆ … ┆ 0.003361  ┆ 135.34219 ┆ -0.00585  ┆ Other     │\n",
       "│ 5         ┆          ┆           ┆           ┆   ┆           ┆ 4         ┆           ┆           │\n",
       "└───────────┴──────────┴───────────┴───────────┴───┴───────────┴───────────┴───────────┴───────────┘"
      ]
     },
     "execution_count": 63,
     "metadata": {},
     "output_type": "execute_result"
    }
   ],
   "source": [
    "df.head()"
   ]
  },
  {
   "cell_type": "code",
   "execution_count": 64,
   "metadata": {},
   "outputs": [],
   "source": [
    "df = df.with_columns([\n",
    "    (pl.col(\"PositionGroup\") + \"_\" + pl.col(\"PlayType\")).alias(\"Position_Play\")\n",
    "])"
   ]
  },
  {
   "cell_type": "code",
   "execution_count": 65,
   "metadata": {},
   "outputs": [
    {
     "data": {
      "text/html": [
       "<div><style>\n",
       ".dataframe > thead > tr,\n",
       ".dataframe > tbody > tr {\n",
       "  text-align: right;\n",
       "  white-space: pre-wrap;\n",
       "}\n",
       "</style>\n",
       "<small>shape: (5, 30)</small><table border=\"1\" class=\"dataframe\"><thead><tr><th>PlayKey</th><th>Position</th><th>StadiumType</th><th>FieldType</th><th>Temperature</th><th>Weather</th><th>PlayType</th><th>BodyPart</th><th>DM_M1</th><th>DM_M7</th><th>DM_M28</th><th>DM_M42</th><th>IsInjured</th><th>IsSevere</th><th>Position_right</th><th>Distance</th><th>Displacement</th><th>Path_Diff</th><th>Max_Angle_Diff</th><th>Mean_Angle_Diff</th><th>Max_Speed</th><th>Mean_Speed</th><th>Max_Impulse</th><th>Mean_Impulse</th><th>Max_Torque</th><th>Mean_Torque</th><th>Max_Int_Torque</th><th>Mean_Int_Torque</th><th>PositionGroup</th><th>Position_Play</th></tr><tr><td>str</td><td>cat</td><td>cat</td><td>cat</td><td>i16</td><td>cat</td><td>cat</td><td>cat</td><td>i8</td><td>i8</td><td>i8</td><td>i8</td><td>i8</td><td>i8</td><td>cat</td><td>f32</td><td>f32</td><td>f32</td><td>f32</td><td>f32</td><td>f32</td><td>f32</td><td>f32</td><td>f32</td><td>f32</td><td>f32</td><td>f32</td><td>f32</td><td>str</td><td>str</td></tr></thead><tbody><tr><td>&quot;26624-1-20&quot;</td><td>&quot;QB&quot;</td><td>&quot;Outdoor&quot;</td><td>&quot;Synthetic&quot;</td><td>63</td><td>&quot;Clear&quot;</td><td>&quot;Rush&quot;</td><td>&quot;No_Injury&quot;</td><td>0</td><td>0</td><td>0</td><td>0</td><td>0</td><td>0</td><td>&quot;QB&quot;</td><td>12.560955</td><td>5.40202</td><td>7.158936</td><td>178.440002</td><td>78.945656</td><td>3.712159</td><td>0.483114</td><td>187.427231</td><td>13.7315</td><td>38.490417</td><td>-0.010563</td><td>72.574364</td><td>-0.004217</td><td>&quot;Other&quot;</td><td>&quot;Other_Rush&quot;</td></tr><tr><td>&quot;26624-1-22&quot;</td><td>&quot;QB&quot;</td><td>&quot;Outdoor&quot;</td><td>&quot;Synthetic&quot;</td><td>63</td><td>&quot;Clear&quot;</td><td>&quot;Pass&quot;</td><td>&quot;No_Injury&quot;</td><td>0</td><td>0</td><td>0</td><td>0</td><td>0</td><td>0</td><td>&quot;QB&quot;</td><td>27.687366</td><td>7.580832</td><td>20.106533</td><td>179.25</td><td>101.294319</td><td>4.517752</td><td>1.936179</td><td>72.198616</td><td>17.693897</td><td>195.079529</td><td>0.01526</td><td>136.597397</td><td>-0.015356</td><td>&quot;Other&quot;</td><td>&quot;Other_Pass&quot;</td></tr><tr><td>&quot;26624-1-23&quot;</td><td>&quot;QB&quot;</td><td>&quot;Outdoor&quot;</td><td>&quot;Synthetic&quot;</td><td>63</td><td>&quot;Clear&quot;</td><td>&quot;Rush&quot;</td><td>&quot;No_Injury&quot;</td><td>0</td><td>0</td><td>0</td><td>0</td><td>0</td><td>0</td><td>&quot;QB&quot;</td><td>28.736702</td><td>8.434956</td><td>20.301746</td><td>178.229996</td><td>78.788918</td><td>4.414752</td><td>1.037426</td><td>240.314255</td><td>15.576145</td><td>197.972412</td><td>0.05488</td><td>135.239807</td><td>-0.031697</td><td>&quot;Other&quot;</td><td>&quot;Other_Rush&quot;</td></tr><tr><td>&quot;26624-1-24&quot;</td><td>&quot;QB&quot;</td><td>&quot;Outdoor&quot;</td><td>&quot;Synthetic&quot;</td><td>63</td><td>&quot;Clear&quot;</td><td>&quot;Unknown&quot;</td><td>&quot;No_Injury&quot;</td><td>0</td><td>0</td><td>0</td><td>0</td><td>0</td><td>0</td><td>&quot;QB&quot;</td><td>25.678587</td><td>3.967429</td><td>21.711157</td><td>178.919998</td><td>89.392487</td><td>4.60975</td><td>0.850284</td><td>94.129692</td><td>14.66524</td><td>196.742706</td><td>0.067654</td><td>136.555679</td><td>-0.02783</td><td>&quot;Other&quot;</td><td>&quot;Other_Unknown&quot;</td></tr><tr><td>&quot;26624-1-45&quot;</td><td>&quot;QB&quot;</td><td>&quot;Outdoor&quot;</td><td>&quot;Synthetic&quot;</td><td>63</td><td>&quot;Clear&quot;</td><td>&quot;Pass&quot;</td><td>&quot;No_Injury&quot;</td><td>0</td><td>0</td><td>0</td><td>0</td><td>0</td><td>0</td><td>&quot;QB&quot;</td><td>24.427948</td><td>10.659006</td><td>13.768942</td><td>179.690002</td><td>94.147797</td><td>4.019967</td><td>0.592911</td><td>240.312332</td><td>11.786748</td><td>195.729614</td><td>0.003361</td><td>135.342194</td><td>-0.00585</td><td>&quot;Other&quot;</td><td>&quot;Other_Pass&quot;</td></tr></tbody></table></div>"
      ],
      "text/plain": [
       "shape: (5, 30)\n",
       "┌───────────┬──────────┬───────────┬───────────┬───┬───────────┬───────────┬───────────┬───────────┐\n",
       "│ PlayKey   ┆ Position ┆ StadiumTy ┆ FieldType ┆ … ┆ Max_Int_T ┆ Mean_Int_ ┆ PositionG ┆ Position_ │\n",
       "│ ---       ┆ ---      ┆ pe        ┆ ---       ┆   ┆ orque     ┆ Torque    ┆ roup      ┆ Play      │\n",
       "│ str       ┆ cat      ┆ ---       ┆ cat       ┆   ┆ ---       ┆ ---       ┆ ---       ┆ ---       │\n",
       "│           ┆          ┆ cat       ┆           ┆   ┆ f32       ┆ f32       ┆ str       ┆ str       │\n",
       "╞═══════════╪══════════╪═══════════╪═══════════╪═══╪═══════════╪═══════════╪═══════════╪═══════════╡\n",
       "│ 26624-1-2 ┆ QB       ┆ Outdoor   ┆ Synthetic ┆ … ┆ 72.574364 ┆ -0.004217 ┆ Other     ┆ Other_Rus │\n",
       "│ 0         ┆          ┆           ┆           ┆   ┆           ┆           ┆           ┆ h         │\n",
       "│ 26624-1-2 ┆ QB       ┆ Outdoor   ┆ Synthetic ┆ … ┆ 136.59739 ┆ -0.015356 ┆ Other     ┆ Other_Pas │\n",
       "│ 2         ┆          ┆           ┆           ┆   ┆ 7         ┆           ┆           ┆ s         │\n",
       "│ 26624-1-2 ┆ QB       ┆ Outdoor   ┆ Synthetic ┆ … ┆ 135.23980 ┆ -0.031697 ┆ Other     ┆ Other_Rus │\n",
       "│ 3         ┆          ┆           ┆           ┆   ┆ 7         ┆           ┆           ┆ h         │\n",
       "│ 26624-1-2 ┆ QB       ┆ Outdoor   ┆ Synthetic ┆ … ┆ 136.55567 ┆ -0.02783  ┆ Other     ┆ Other_Unk │\n",
       "│ 4         ┆          ┆           ┆           ┆   ┆ 9         ┆           ┆           ┆ nown      │\n",
       "│ 26624-1-4 ┆ QB       ┆ Outdoor   ┆ Synthetic ┆ … ┆ 135.34219 ┆ -0.00585  ┆ Other     ┆ Other_Pas │\n",
       "│ 5         ┆          ┆           ┆           ┆   ┆ 4         ┆           ┆           ┆ s         │\n",
       "└───────────┴──────────┴───────────┴───────────┴───┴───────────┴───────────┴───────────┴───────────┘"
      ]
     },
     "execution_count": 65,
     "metadata": {},
     "output_type": "execute_result"
    }
   ],
   "source": [
    "df.head()"
   ]
  },
  {
   "cell_type": "markdown",
   "metadata": {},
   "source": [
    "## DF Processing\n",
    "\n",
    "1. Remove unnecessary columns\n",
    "2. Group the Positions based on injured plays\n",
    "3. Remove PlayTypes that aren't associated with injuries\n",
    "4. Create PositionGroup_PlayType categories\n",
    "5. Filter full df for only the 12 combinations that are present in the injury sets\n",
    "6. Change the StadiumType and FieldType to Indoor and Synthetic, using binary with 1 is True"
   ]
  },
  {
   "cell_type": "code",
   "execution_count": 70,
   "metadata": {},
   "outputs": [],
   "source": [
    "import polars as pl\n",
    "pl.enable_string_cache()\n",
    "import os\n",
    "\n",
    "path = \"F:/Data/Processing_data/\"\n",
    "file = \"Full_Summary_Injuries.parquet\"\n",
    "\n",
    "df = pl.read_parquet(os.path.join(path, file))"
   ]
  },
  {
   "cell_type": "code",
   "execution_count": 71,
   "metadata": {},
   "outputs": [],
   "source": [
    "df = df.drop(['DM_M1'\n",
    "              , 'DM_M7'\n",
    "              , 'DM_M28'\n",
    "              , 'DM_M42'\n",
    "              , 'Position_right'\n",
    "              ])"
   ]
  },
  {
   "cell_type": "code",
   "execution_count": 72,
   "metadata": {},
   "outputs": [],
   "source": [
    "df = df.with_columns([\n",
    "    pl.when(pl.col(\"Position\").cast(pl.Utf8).is_in([\"WR\", \"RB\", \"TE\", \"T\", \"C\"]))\n",
    "    .then(pl.lit(\"Offensive\"))\n",
    "    .when(pl.col(\"Position\").cast(pl.Utf8).is_in([\"ILB\", \"OLB\", \"MLB\", \"LB\", \"DE\", \"DT\"]))\n",
    "    .then(pl.lit(\"Linebackers\"))\n",
    "    .when(pl.col(\"Position\").cast(pl.Utf8).is_in([\"CB\", \"FS\", \"SS\", \"DB\"]))\n",
    "    .then(pl.lit(\"Defensive\"))\n",
    "    .otherwise(pl.lit(\"Other\"))\n",
    "    .alias(\"PositionGroup\")\n",
    "])"
   ]
  },
  {
   "cell_type": "code",
   "execution_count": 73,
   "metadata": {},
   "outputs": [],
   "source": [
    "df = df.filter(pl.col(\"PositionGroup\") != \"Other\")"
   ]
  },
  {
   "cell_type": "code",
   "execution_count": 74,
   "metadata": {},
   "outputs": [],
   "source": [
    "df = df.filter(pl.col(\"PlayType\").is_in([\"Pass\", \"Rush\", \"Kickoff\", \"Punt\"]))"
   ]
  },
  {
   "cell_type": "code",
   "execution_count": 75,
   "metadata": {},
   "outputs": [],
   "source": [
    "df = df.with_columns([\n",
    "    pl.when(pl.col(\"PlayType\").cast(pl.Utf8).is_in([\"Kickoff\", \"Punt\"]))\n",
    "    .then(pl.lit(\"Special\"))\n",
    "    .otherwise(pl.col(\"PlayType\"))\n",
    "    .alias(\"PlayType\")\n",
    "])"
   ]
  },
  {
   "cell_type": "code",
   "execution_count": 77,
   "metadata": {},
   "outputs": [],
   "source": [
    "df = df.with_columns([\n",
    "    (pl.col(\"PositionGroup\") + \"_\" + pl.col(\"PlayType\")).alias(\"Position_Play\")\n",
    "])"
   ]
  },
  {
   "cell_type": "code",
   "execution_count": 78,
   "metadata": {},
   "outputs": [],
   "source": [
    "df = df.with_columns([\n",
    "    (pl.when(pl.col(\"StadiumType\").cast(pl.Utf8)=='Outdoor'))\n",
    "    .then(0)\n",
    "    .otherwise(1)\n",
    "    .alias(\"Indoor\")\n",
    "])"
   ]
  },
  {
   "cell_type": "code",
   "execution_count": 79,
   "metadata": {},
   "outputs": [],
   "source": [
    "df = df.with_columns([\n",
    "    (pl.when(pl.col(\"FieldType\").cast(pl.Utf8)=='Natural'))\n",
    "    .then(0)\n",
    "    .otherwise(1)\n",
    "    .alias(\"Synthetic\")\n",
    "])"
   ]
  },
  {
   "cell_type": "code",
   "execution_count": 80,
   "metadata": {},
   "outputs": [],
   "source": [
    "df = df.drop(['Position'\n",
    "         , 'StadiumType'\n",
    "         , 'FieldType'\n",
    "         , 'Temperature'\n",
    "         , 'Weather'\n",
    "         , 'PlayType'\n",
    "         , 'BodyPart'\n",
    "         , 'PositionGroup'  \n",
    "         ])"
   ]
  },
  {
   "cell_type": "code",
   "execution_count": 81,
   "metadata": {},
   "outputs": [
    {
     "data": {
      "text/html": [
       "<div><style>\n",
       ".dataframe > thead > tr,\n",
       ".dataframe > tbody > tr {\n",
       "  text-align: right;\n",
       "  white-space: pre-wrap;\n",
       "}\n",
       "</style>\n",
       "<small>shape: (5, 19)</small><table border=\"1\" class=\"dataframe\"><thead><tr><th>PlayKey</th><th>IsInjured</th><th>IsSevere</th><th>Distance</th><th>Displacement</th><th>Path_Diff</th><th>Max_Angle_Diff</th><th>Mean_Angle_Diff</th><th>Max_Speed</th><th>Mean_Speed</th><th>Max_Impulse</th><th>Mean_Impulse</th><th>Max_Torque</th><th>Mean_Torque</th><th>Max_Int_Torque</th><th>Mean_Int_Torque</th><th>Position_Play</th><th>Indoor</th><th>Synthetic</th></tr><tr><td>str</td><td>i8</td><td>i8</td><td>f32</td><td>f32</td><td>f32</td><td>f32</td><td>f32</td><td>f32</td><td>f32</td><td>f32</td><td>f32</td><td>f32</td><td>f32</td><td>f32</td><td>f32</td><td>str</td><td>i32</td><td>i32</td></tr></thead><tbody><tr><td>&quot;30068-1-25&quot;</td><td>0</td><td>0</td><td>28.427792</td><td>12.041934</td><td>16.385857</td><td>172.470001</td><td>100.926498</td><td>7.269125</td><td>2.137429</td><td>219.18515</td><td>20.37035</td><td>173.018784</td><td>0.023625</td><td>121.237793</td><td>-0.004875</td><td>&quot;Offensive_Pass&quot;</td><td>1</td><td>1</td></tr><tr><td>&quot;30068-1-42&quot;</td><td>0</td><td>0</td><td>5.179273</td><td>2.164002</td><td>3.015271</td><td>151.539993</td><td>97.440117</td><td>3.088649</td><td>0.562964</td><td>190.681625</td><td>17.882877</td><td>172.470169</td><td>0.039611</td><td>121.359085</td><td>-0.015881</td><td>&quot;Offensive_Pass&quot;</td><td>1</td><td>1</td></tr><tr><td>&quot;30068-10-18&quot;</td><td>0</td><td>0</td><td>33.778072</td><td>2.897947</td><td>30.880125</td><td>179.869995</td><td>87.820358</td><td>5.3</td><td>0.908013</td><td>208.80658</td><td>13.575568</td><td>173.57222</td><td>0.000791</td><td>121.09967</td><td>-0.007028</td><td>&quot;Offensive_Rush&quot;</td><td>1</td><td>1</td></tr><tr><td>&quot;30068-10-24&quot;</td><td>0</td><td>0</td><td>64.088623</td><td>25.653896</td><td>38.434727</td><td>176.080002</td><td>67.629913</td><td>5.346016</td><td>2.04104</td><td>209.400131</td><td>18.095734</td><td>174.409561</td><td>0.003521</td><td>124.266289</td><td>-0.000614</td><td>&quot;Offensive_Rush&quot;</td><td>1</td><td>1</td></tr><tr><td>&quot;30068-10-33&quot;</td><td>0</td><td>0</td><td>85.26384</td><td>11.746697</td><td>73.517143</td><td>179.899994</td><td>87.498108</td><td>6.511548</td><td>1.425816</td><td>174.230301</td><td>16.589582</td><td>173.177567</td><td>0.288959</td><td>119.570267</td><td>0.201594</td><td>&quot;Offensive_Pass&quot;</td><td>1</td><td>1</td></tr></tbody></table></div>"
      ],
      "text/plain": [
       "shape: (5, 19)\n",
       "┌────────────┬───────────┬──────────┬───────────┬───┬────────────┬────────────┬────────┬───────────┐\n",
       "│ PlayKey    ┆ IsInjured ┆ IsSevere ┆ Distance  ┆ … ┆ Mean_Int_T ┆ Position_P ┆ Indoor ┆ Synthetic │\n",
       "│ ---        ┆ ---       ┆ ---      ┆ ---       ┆   ┆ orque      ┆ lay        ┆ ---    ┆ ---       │\n",
       "│ str        ┆ i8        ┆ i8       ┆ f32       ┆   ┆ ---        ┆ ---        ┆ i32    ┆ i32       │\n",
       "│            ┆           ┆          ┆           ┆   ┆ f32        ┆ str        ┆        ┆           │\n",
       "╞════════════╪═══════════╪══════════╪═══════════╪═══╪════════════╪════════════╪════════╪═══════════╡\n",
       "│ 30068-1-25 ┆ 0         ┆ 0        ┆ 28.427792 ┆ … ┆ -0.004875  ┆ Offensive_ ┆ 1      ┆ 1         │\n",
       "│            ┆           ┆          ┆           ┆   ┆            ┆ Pass       ┆        ┆           │\n",
       "│ 30068-1-42 ┆ 0         ┆ 0        ┆ 5.179273  ┆ … ┆ -0.015881  ┆ Offensive_ ┆ 1      ┆ 1         │\n",
       "│            ┆           ┆          ┆           ┆   ┆            ┆ Pass       ┆        ┆           │\n",
       "│ 30068-10-1 ┆ 0         ┆ 0        ┆ 33.778072 ┆ … ┆ -0.007028  ┆ Offensive_ ┆ 1      ┆ 1         │\n",
       "│ 8          ┆           ┆          ┆           ┆   ┆            ┆ Rush       ┆        ┆           │\n",
       "│ 30068-10-2 ┆ 0         ┆ 0        ┆ 64.088623 ┆ … ┆ -0.000614  ┆ Offensive_ ┆ 1      ┆ 1         │\n",
       "│ 4          ┆           ┆          ┆           ┆   ┆            ┆ Rush       ┆        ┆           │\n",
       "│ 30068-10-3 ┆ 0         ┆ 0        ┆ 85.26384  ┆ … ┆ 0.201594   ┆ Offensive_ ┆ 1      ┆ 1         │\n",
       "│ 3          ┆           ┆          ┆           ┆   ┆            ┆ Pass       ┆        ┆           │\n",
       "└────────────┴───────────┴──────────┴───────────┴───┴────────────┴────────────┴────────┴───────────┘"
      ]
     },
     "execution_count": 81,
     "metadata": {},
     "output_type": "execute_result"
    }
   ],
   "source": [
    "df.head()"
   ]
  },
  {
   "cell_type": "markdown",
   "metadata": {},
   "source": [
    "When i perform the analyses, I can use GroupBy(Position_Play) to compare similar plays with those that led to injuries. This should reduce some of the confusion from the massive information fed into the model"
   ]
  },
  {
   "cell_type": "code",
   "execution_count": 82,
   "metadata": {},
   "outputs": [],
   "source": [
    "# First, let's get all unique Position_Play combinations\n",
    "unique_position_plays = df[\"Position_Play\"].unique().to_list()\n",
    "\n",
    "# create a dictionary to store the subsets\n",
    "subsets = {}\n",
    "\n",
    "# Create a subset for each unique Position_Play combination\n",
    "for position_play in unique_position_plays:\n",
    "    subset = df.filter(pl.col(\"Position_Play\") == position_play)\n",
    "    subsets[position_play] = subset\n"
   ]
  },
  {
   "cell_type": "code",
   "execution_count": 83,
   "metadata": {},
   "outputs": [
    {
     "data": {
      "text/plain": [
       "['Offensive_Pass',\n",
       " 'Defensive_Special',\n",
       " 'Defensive_Pass',\n",
       " 'Linebackers_Special',\n",
       " 'Linebackers_Pass',\n",
       " 'Offensive_Special',\n",
       " 'Defensive_Rush',\n",
       " 'Linebackers_Rush',\n",
       " 'Offensive_Rush']"
      ]
     },
     "execution_count": 83,
     "metadata": {},
     "output_type": "execute_result"
    }
   ],
   "source": [
    "unique_position_plays"
   ]
  },
  {
   "cell_type": "code",
   "execution_count": 84,
   "metadata": {},
   "outputs": [],
   "source": [
    "Defensive_Pass = subsets['Defensive_Pass']\n",
    "Defensive_Rush = subsets['Defensive_Rush']\n",
    "Defensive_Special = subsets['Defensive_Special']\n",
    "\n",
    "Linebackers_Pass = subsets['Linebackers_Pass']\n",
    "Linebackers_Rush = subsets['Linebackers_Rush']\n",
    "Linebackers_Special = subsets['Linebackers_Special'] \n",
    "\n",
    "Offensive_Pass = subsets['Offensive_Pass']\n",
    "Offensive_Rush = subsets['Offensive_Rush']\n",
    "Offensive_Special = subsets['Offensive_Special']\n"
   ]
  },
  {
   "cell_type": "code",
   "execution_count": 96,
   "metadata": {},
   "outputs": [
    {
     "data": {
      "text/html": [
       "<div><style>\n",
       ".dataframe > thead > tr,\n",
       ".dataframe > tbody > tr {\n",
       "  text-align: right;\n",
       "  white-space: pre-wrap;\n",
       "}\n",
       "</style>\n",
       "<small>shape: (10, 19)</small><table border=\"1\" class=\"dataframe\"><thead><tr><th>PlayKey</th><th>IsInjured</th><th>IsSevere</th><th>Distance</th><th>Displacement</th><th>Path_Diff</th><th>Max_Angle_Diff</th><th>Mean_Angle_Diff</th><th>Max_Speed</th><th>Mean_Speed</th><th>Max_Impulse</th><th>Mean_Impulse</th><th>Max_Torque</th><th>Mean_Torque</th><th>Max_Int_Torque</th><th>Mean_Int_Torque</th><th>Position_Play</th><th>Indoor</th><th>Synthetic</th></tr><tr><td>str</td><td>i8</td><td>i8</td><td>f32</td><td>f32</td><td>f32</td><td>f32</td><td>f32</td><td>f32</td><td>f32</td><td>f32</td><td>f32</td><td>f32</td><td>f32</td><td>f32</td><td>f32</td><td>str</td><td>i32</td><td>i32</td></tr></thead><tbody><tr><td>&quot;46119-3-16&quot;</td><td>1</td><td>0</td><td>74.910439</td><td>32.67347</td><td>42.236969</td><td>171.990005</td><td>106.078064</td><td>9.642087</td><td>3.108318</td><td>124.163025</td><td>31.488531</td><td>209.337585</td><td>0.012086</td><td>145.488708</td><td>-0.000977</td><td>&quot;Linebackers_Special&quot;</td><td>0</td><td>0</td></tr><tr><td>&quot;46646-3-30&quot;</td><td>1</td><td>0</td><td>59.435135</td><td>45.062302</td><td>14.372833</td><td>179.259995</td><td>94.151108</td><td>7.582214</td><td>2.386954</td><td>233.34407</td><td>31.0688</td><td>225.150421</td><td>-0.008661</td><td>145.01355</td><td>-0.00173</td><td>&quot;Linebackers_Special&quot;</td><td>0</td><td>0</td></tr><tr><td>&quot;39873-4-32&quot;</td><td>1</td><td>1</td><td>71.361717</td><td>43.036427</td><td>28.325291</td><td>179.820007</td><td>99.830589</td><td>9.302167</td><td>1.618181</td><td>220.506653</td><td>25.357513</td><td>209.135315</td><td>-0.000026</td><td>141.38736</td><td>-0.000101</td><td>&quot;Linebackers_Special&quot;</td><td>1</td><td>1</td></tr><tr><td>&quot;38228-1-4&quot;</td><td>1</td><td>0</td><td>81.883148</td><td>54.567238</td><td>27.31591</td><td>179.809998</td><td>96.006531</td><td>9.394164</td><td>0.768852</td><td>220.275787</td><td>17.138376</td><td>220.317749</td><td>-0.000077</td><td>146.414932</td><td>-0.000311</td><td>&quot;Linebackers_Special&quot;</td><td>0</td><td>1</td></tr><tr><td>&quot;42600-3-1&quot;</td><td>1</td><td>1</td><td>59.18924</td><td>46.555523</td><td>12.633717</td><td>179.880005</td><td>91.398102</td><td>9.798444</td><td>3.288293</td><td>224.506927</td><td>38.363201</td><td>183.688232</td><td>-0.012557</td><td>144.182266</td><td>0.003073</td><td>&quot;Linebackers_Special&quot;</td><td>0</td><td>0</td></tr><tr><td>&quot;44900-7-10&quot;</td><td>1</td><td>0</td><td>59.867851</td><td>48.916107</td><td>10.951744</td><td>175.880005</td><td>90.272408</td><td>9.141666</td><td>1.819691</td><td>338.472931</td><td>29.207508</td><td>313.868103</td><td>0.680241</td><td>158.290588</td><td>0.471759</td><td>&quot;Linebackers_Special&quot;</td><td>0</td><td>0</td></tr><tr><td>&quot;46074-7-26&quot;</td><td>1</td><td>0</td><td>46.861454</td><td>40.682541</td><td>6.178913</td><td>178.899994</td><td>101.713501</td><td>7.494655</td><td>2.110877</td><td>200.802673</td><td>20.89241</td><td>208.228165</td><td>-0.010824</td><td>145.504898</td><td>0.00959</td><td>&quot;Linebackers_Special&quot;</td><td>0</td><td>0</td></tr><tr><td>&quot;46430-8-6&quot;</td><td>1</td><td>0</td><td>70.709282</td><td>48.670052</td><td>22.03923</td><td>178.639999</td><td>95.579872</td><td>7.39793</td><td>2.719587</td><td>170.470688</td><td>24.23781</td><td>216.628021</td><td>-0.003903</td><td>150.346573</td><td>-0.007464</td><td>&quot;Linebackers_Special&quot;</td><td>0</td><td>0</td></tr><tr><td>&quot;42637-3-6&quot;</td><td>1</td><td>1</td><td>53.250755</td><td>43.1996</td><td>10.051155</td><td>164.639999</td><td>83.9207</td><td>8.702289</td><td>2.8175</td><td>207.195038</td><td>20.720943</td><td>207.985474</td><td>-0.011003</td><td>143.86676</td><td>0.001377</td><td>&quot;Linebackers_Special&quot;</td><td>0</td><td>0</td></tr><tr><td>&quot;40474-1-8&quot;</td><td>1</td><td>0</td><td>58.152088</td><td>53.310074</td><td>4.842014</td><td>178.600006</td><td>104.83284</td><td>9.254169</td><td>3.902824</td><td>365.099762</td><td>28.983643</td><td>5.575926</td><td>0.054502</td><td>142.18013</td><td>-0.027821</td><td>&quot;Linebackers_Special&quot;</td><td>1</td><td>1</td></tr></tbody></table></div>"
      ],
      "text/plain": [
       "shape: (10, 19)\n",
       "┌────────────┬───────────┬──────────┬───────────┬───┬────────────┬────────────┬────────┬───────────┐\n",
       "│ PlayKey    ┆ IsInjured ┆ IsSevere ┆ Distance  ┆ … ┆ Mean_Int_T ┆ Position_P ┆ Indoor ┆ Synthetic │\n",
       "│ ---        ┆ ---       ┆ ---      ┆ ---       ┆   ┆ orque      ┆ lay        ┆ ---    ┆ ---       │\n",
       "│ str        ┆ i8        ┆ i8       ┆ f32       ┆   ┆ ---        ┆ ---        ┆ i32    ┆ i32       │\n",
       "│            ┆           ┆          ┆           ┆   ┆ f32        ┆ str        ┆        ┆           │\n",
       "╞════════════╪═══════════╪══════════╪═══════════╪═══╪════════════╪════════════╪════════╪═══════════╡\n",
       "│ 46119-3-16 ┆ 1         ┆ 0        ┆ 74.910439 ┆ … ┆ -0.000977  ┆ Linebacker ┆ 0      ┆ 0         │\n",
       "│            ┆           ┆          ┆           ┆   ┆            ┆ s_Special  ┆        ┆           │\n",
       "│ 46646-3-30 ┆ 1         ┆ 0        ┆ 59.435135 ┆ … ┆ -0.00173   ┆ Linebacker ┆ 0      ┆ 0         │\n",
       "│            ┆           ┆          ┆           ┆   ┆            ┆ s_Special  ┆        ┆           │\n",
       "│ 39873-4-32 ┆ 1         ┆ 1        ┆ 71.361717 ┆ … ┆ -0.000101  ┆ Linebacker ┆ 1      ┆ 1         │\n",
       "│            ┆           ┆          ┆           ┆   ┆            ┆ s_Special  ┆        ┆           │\n",
       "│ 38228-1-4  ┆ 1         ┆ 0        ┆ 81.883148 ┆ … ┆ -0.000311  ┆ Linebacker ┆ 0      ┆ 1         │\n",
       "│            ┆           ┆          ┆           ┆   ┆            ┆ s_Special  ┆        ┆           │\n",
       "│ 42600-3-1  ┆ 1         ┆ 1        ┆ 59.18924  ┆ … ┆ 0.003073   ┆ Linebacker ┆ 0      ┆ 0         │\n",
       "│            ┆           ┆          ┆           ┆   ┆            ┆ s_Special  ┆        ┆           │\n",
       "│ 44900-7-10 ┆ 1         ┆ 0        ┆ 59.867851 ┆ … ┆ 0.471759   ┆ Linebacker ┆ 0      ┆ 0         │\n",
       "│            ┆           ┆          ┆           ┆   ┆            ┆ s_Special  ┆        ┆           │\n",
       "│ 46074-7-26 ┆ 1         ┆ 0        ┆ 46.861454 ┆ … ┆ 0.00959    ┆ Linebacker ┆ 0      ┆ 0         │\n",
       "│            ┆           ┆          ┆           ┆   ┆            ┆ s_Special  ┆        ┆           │\n",
       "│ 46430-8-6  ┆ 1         ┆ 0        ┆ 70.709282 ┆ … ┆ -0.007464  ┆ Linebacker ┆ 0      ┆ 0         │\n",
       "│            ┆           ┆          ┆           ┆   ┆            ┆ s_Special  ┆        ┆           │\n",
       "│ 42637-3-6  ┆ 1         ┆ 1        ┆ 53.250755 ┆ … ┆ 0.001377   ┆ Linebacker ┆ 0      ┆ 0         │\n",
       "│            ┆           ┆          ┆           ┆   ┆            ┆ s_Special  ┆        ┆           │\n",
       "│ 40474-1-8  ┆ 1         ┆ 0        ┆ 58.152088 ┆ … ┆ -0.027821  ┆ Linebacker ┆ 1      ┆ 1         │\n",
       "│            ┆           ┆          ┆           ┆   ┆            ┆ s_Special  ┆        ┆           │\n",
       "└────────────┴───────────┴──────────┴───────────┴───┴────────────┴────────────┴────────┴───────────┘"
      ]
     },
     "execution_count": 96,
     "metadata": {},
     "output_type": "execute_result"
    }
   ],
   "source": [
    "Linebackers_Special.filter(pl.col('IsInjured')==1)"
   ]
  },
  {
   "cell_type": "markdown",
   "metadata": {},
   "source": [
    "From here, each of the 9 subsets are ready for Machine Learning. I will definitely need to do over and undersampling in addition to boosting. There isn't much sense in using Defensive Rushing plays with only 2, adn even the 5 Defensive special plays will be difficult to predict."
   ]
  },
  {
   "cell_type": "code",
   "execution_count": 108,
   "metadata": {},
   "outputs": [
    {
     "name": "stdout",
     "output_type": "stream",
     "text": [
      "Linebackers have 6 Passing plays, 12 Rushing Plays, and 10 Special Plays.\n"
     ]
    }
   ],
   "source": [
    "print(f\"Linebackers have {len(Linebackers_Pass.filter(pl.col('IsInjured')==1))} Passing plays, \\\n",
    "{len(Linebackers_Rush.filter(pl.col('IsInjured')==1))} Rushing Plays, and \\\n",
    "{len(Linebackers_Special.filter(pl.col('IsInjured')==1))} Special Plays.\")"
   ]
  },
  {
   "cell_type": "code",
   "execution_count": 109,
   "metadata": {},
   "outputs": [
    {
     "name": "stdout",
     "output_type": "stream",
     "text": [
      "Defense has 12 Passing plays, 2 Rushing Plays, and 5 Special Plays.\n"
     ]
    }
   ],
   "source": [
    "print(f\"Defense has {len(Defensive_Pass.filter(pl.col('IsInjured')==1))} Passing plays, \\\n",
    "{len(Defensive_Rush.filter(pl.col('IsInjured')==1))} Rushing Plays, and \\\n",
    "{len(Defensive_Special.filter(pl.col('IsInjured')==1))} Special Plays.\")"
   ]
  },
  {
   "cell_type": "code",
   "execution_count": 110,
   "metadata": {},
   "outputs": [
    {
     "name": "stdout",
     "output_type": "stream",
     "text": [
      "Offense has 14 Passing plays, 9 Rushing Plays, and 7 Special Plays.\n"
     ]
    }
   ],
   "source": [
    "print(f\"Offense has {len(Offensive_Pass.filter(pl.col('IsInjured')==1))} Passing plays, \\\n",
    "{len(Offensive_Rush.filter(pl.col('IsInjured')==1))} Rushing Plays, and \\\n",
    "{len(Offensive_Special.filter(pl.col('IsInjured')==1))} Special Plays.\")"
   ]
  },
  {
   "cell_type": "markdown",
   "metadata": {},
   "source": [
    "What I'm hoping to do by separating these is allow for less error in sampling, since all of the sampled plays from undersampling the major set will all be associated with the same types of plays. Oversampling the minor set will be necessary due to the small numbers, even in the largest set with 14. "
   ]
  }
 ],
 "metadata": {
  "kernelspec": {
   "display_name": "PythonData",
   "language": "python",
   "name": "python3"
  },
  "language_info": {
   "codemirror_mode": {
    "name": "ipython",
    "version": 3
   },
   "file_extension": ".py",
   "mimetype": "text/x-python",
   "name": "python",
   "nbconvert_exporter": "python",
   "pygments_lexer": "ipython3",
   "version": "3.9.12"
  }
 },
 "nbformat": 4,
 "nbformat_minor": 2
}
