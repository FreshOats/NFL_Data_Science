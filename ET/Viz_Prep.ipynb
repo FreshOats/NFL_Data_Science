{
 "cells": [
  {
   "cell_type": "markdown",
   "metadata": {},
   "source": [
    "# Preparing Data for Lite Tableau Deployment"
   ]
  },
  {
   "cell_type": "code",
   "execution_count": 21,
   "metadata": {},
   "outputs": [],
   "source": [
    "import polars as pl\n",
    "import os"
   ]
  },
  {
   "cell_type": "code",
   "execution_count": 22,
   "metadata": {},
   "outputs": [
    {
     "data": {
      "text/html": [
       "<div><style>\n",
       ".dataframe > thead > tr,\n",
       ".dataframe > tbody > tr {\n",
       "  text-align: right;\n",
       "  white-space: pre-wrap;\n",
       "}\n",
       "</style>\n",
       "<small>shape: (5, 24)</small><table border=\"1\" class=\"dataframe\"><thead><tr><th>PlayKey</th><th>time</th><th>x</th><th>y</th><th>dir</th><th>o</th><th>Angle_Diff</th><th>Displacement</th><th>Speed</th><th>omega_dir</th><th>omega_o</th><th>omega_diff</th><th>Position</th><th>p_magnitude</th><th>L_dir</th><th>L_diff</th><th>J_magnitude</th><th>torque</th><th>torque_internal</th><th>InjuryType</th><th>InjuryKey</th><th>PlayerActivity</th><th>ImpactType</th><th>OpponentKey</th></tr><tr><td>str</td><td>f64</td><td>f64</td><td>f64</td><td>f64</td><td>f64</td><td>f64</td><td>f64</td><td>f64</td><td>f64</td><td>f64</td><td>f64</td><td>str</td><td>f64</td><td>f64</td><td>f64</td><td>f64</td><td>f64</td><td>f64</td><td>str</td><td>str</td><td>str</td><td>str</td><td>str</td></tr></thead><tbody><tr><td>&quot;23259-144-2342&quot;</td><td>0.0</td><td>35.42</td><td>30.89</td><td>152.79999</td><td>122.390015</td><td>30.41</td><td>null</td><td>null</td><td>null</td><td>null</td><td>null</td><td>&quot;OLB&quot;</td><td>null</td><td>null</td><td>null</td><td>null</td><td>null</td><td>null</td><td>&quot;No Injury&quot;</td><td>&quot;32410-144-2342&quot;</td><td>&quot;Blocked&quot;</td><td>&quot;Helmet-to-body&quot;</td><td>null</td></tr><tr><td>&quot;23259-144-2342&quot;</td><td>0.1</td><td>35.41</td><td>30.89</td><td>173.18</td><td>123.76999</td><td>49.41</td><td>0.009998</td><td>0.099983</td><td>3.5569835</td><td>0.24085</td><td>3.316133</td><td>&quot;OLB&quot;</td><td>10.888172</td><td>7.065558</td><td>4.610995</td><td>null</td><td>null</td><td>null</td><td>&quot;No Injury&quot;</td><td>&quot;32410-144-2342&quot;</td><td>&quot;Blocked&quot;</td><td>&quot;Helmet-to-body&quot;</td><td>null</td></tr><tr><td>&quot;23259-144-2342&quot;</td><td>0.2</td><td>35.4</td><td>30.88</td><td>172.16</td><td>125.140015</td><td>47.02</td><td>0.014141</td><td>0.141411</td><td>-0.178022</td><td>0.239115</td><td>0.417137</td><td>&quot;OLB&quot;</td><td>15.39967</td><td>-0.353622</td><td>0.5800181</td><td>10.890249</td><td>-74.1918</td><td>-40.30977</td><td>&quot;No Injury&quot;</td><td>&quot;32410-144-2342&quot;</td><td>&quot;Blocked&quot;</td><td>&quot;Helmet-to-body&quot;</td><td>null</td></tr><tr><td>&quot;23259-144-2342&quot;</td><td>0.3</td><td>35.4</td><td>30.85</td><td>178.66</td><td>126.17999</td><td>52.48</td><td>0.029999</td><td>0.2999878</td><td>1.1344647</td><td>0.18151</td><td>0.9529543</td><td>&quot;OLB&quot;</td><td>32.66867</td><td>2.25349</td><td>1.3250575</td><td>24.34855</td><td>26.07112</td><td>7.450394</td><td>&quot;No Injury&quot;</td><td>&quot;32410-144-2342&quot;</td><td>&quot;Blocked&quot;</td><td>&quot;Helmet-to-body&quot;</td><td>null</td></tr><tr><td>&quot;23259-144-2342&quot;</td><td>0.4</td><td>35.42</td><td>30.84</td><td>157.75</td><td>126.92001</td><td>30.83</td><td>0.022358</td><td>0.223578</td><td>-3.649485</td><td>0.1291585</td><td>3.7786436</td><td>&quot;OLB&quot;</td><td>24.347622</td><td>-7.249302</td><td>5.254103</td><td>30.79787</td><td>-95.02792</td><td>39.29046</td><td>&quot;No Injury&quot;</td><td>&quot;32410-144-2342&quot;</td><td>&quot;Blocked&quot;</td><td>&quot;Helmet-to-body&quot;</td><td>null</td></tr></tbody></table></div>"
      ],
      "text/plain": [
       "shape: (5, 24)\n",
       "┌──────────────┬──────┬───────┬───────┬───┬──────────────┬─────────────┬─────────────┬─────────────┐\n",
       "│ PlayKey      ┆ time ┆ x     ┆ y     ┆ … ┆ InjuryKey    ┆ PlayerActiv ┆ ImpactType  ┆ OpponentKey │\n",
       "│ ---          ┆ ---  ┆ ---   ┆ ---   ┆   ┆ ---          ┆ ity         ┆ ---         ┆ ---         │\n",
       "│ str          ┆ f64  ┆ f64   ┆ f64   ┆   ┆ str          ┆ ---         ┆ str         ┆ str         │\n",
       "│              ┆      ┆       ┆       ┆   ┆              ┆ str         ┆             ┆             │\n",
       "╞══════════════╪══════╪═══════╪═══════╪═══╪══════════════╪═════════════╪═════════════╪═════════════╡\n",
       "│ 23259-144-23 ┆ 0.0  ┆ 35.42 ┆ 30.89 ┆ … ┆ 32410-144-23 ┆ Blocked     ┆ Helmet-to-b ┆ null        │\n",
       "│ 42           ┆      ┆       ┆       ┆   ┆ 42           ┆             ┆ ody         ┆             │\n",
       "│ 23259-144-23 ┆ 0.1  ┆ 35.41 ┆ 30.89 ┆ … ┆ 32410-144-23 ┆ Blocked     ┆ Helmet-to-b ┆ null        │\n",
       "│ 42           ┆      ┆       ┆       ┆   ┆ 42           ┆             ┆ ody         ┆             │\n",
       "│ 23259-144-23 ┆ 0.2  ┆ 35.4  ┆ 30.88 ┆ … ┆ 32410-144-23 ┆ Blocked     ┆ Helmet-to-b ┆ null        │\n",
       "│ 42           ┆      ┆       ┆       ┆   ┆ 42           ┆             ┆ ody         ┆             │\n",
       "│ 23259-144-23 ┆ 0.3  ┆ 35.4  ┆ 30.85 ┆ … ┆ 32410-144-23 ┆ Blocked     ┆ Helmet-to-b ┆ null        │\n",
       "│ 42           ┆      ┆       ┆       ┆   ┆ 42           ┆             ┆ ody         ┆             │\n",
       "│ 23259-144-23 ┆ 0.4  ┆ 35.42 ┆ 30.84 ┆ … ┆ 32410-144-23 ┆ Blocked     ┆ Helmet-to-b ┆ null        │\n",
       "│ 42           ┆      ┆       ┆       ┆   ┆ 42           ┆             ┆ ody         ┆             │\n",
       "└──────────────┴──────┴───────┴───────┴───┴──────────────┴─────────────┴─────────────┴─────────────┘"
      ]
     },
     "execution_count": 22,
     "metadata": {},
     "output_type": "execute_result"
    }
   ],
   "source": [
    "path = \"F:/Data/Clean_Data/\"\n",
    "file = \"All_Tracking.csv\"\n",
    "All_Tracking = pl.read_csv(os.path.join(path, file))\n",
    "All_Tracking.head()"
   ]
  },
  {
   "cell_type": "markdown",
   "metadata": {},
   "source": [
    "## Create a new dataframe with the target plays and the numerical times"
   ]
  },
  {
   "cell_type": "code",
   "execution_count": 7,
   "metadata": {},
   "outputs": [
    {
     "data": {
      "text/html": [
       "<div><style>\n",
       ".dataframe > thead > tr,\n",
       ".dataframe > tbody > tr {\n",
       "  text-align: right;\n",
       "  white-space: pre-wrap;\n",
       "}\n",
       "</style>\n",
       "<small>shape: (7, 3)</small><table border=\"1\" class=\"dataframe\"><thead><tr><th>InjuryKey</th><th>time_start</th><th>time_end</th></tr><tr><td>str</td><td>f64</td><td>f64</td></tr></thead><tbody><tr><td>&quot;23742-274-3609&quot;</td><td>15.0</td><td>23.0</td></tr><tr><td>&quot;26035-399-3312&quot;</td><td>8.0</td><td>16.0</td></tr><tr><td>&quot;27595-189-3509&quot;</td><td>9.0</td><td>17.0</td></tr><tr><td>&quot;28620-234-3278&quot;</td><td>16.0</td><td>24.0</td></tr><tr><td>&quot;32323-364-2764&quot;</td><td>5.0</td><td>13.0</td></tr><tr><td>&quot;32783-296-2667&quot;</td><td>18.0</td><td>26.0</td></tr><tr><td>&quot;33260-601-602&quot;</td><td>27.0</td><td>34.0</td></tr></tbody></table></div>"
      ],
      "text/plain": [
       "shape: (7, 3)\n",
       "┌────────────────┬────────────┬──────────┐\n",
       "│ InjuryKey      ┆ time_start ┆ time_end │\n",
       "│ ---            ┆ ---        ┆ ---      │\n",
       "│ str            ┆ f64        ┆ f64      │\n",
       "╞════════════════╪════════════╪══════════╡\n",
       "│ 23742-274-3609 ┆ 15.0       ┆ 23.0     │\n",
       "│ 26035-399-3312 ┆ 8.0        ┆ 16.0     │\n",
       "│ 27595-189-3509 ┆ 9.0        ┆ 17.0     │\n",
       "│ 28620-234-3278 ┆ 16.0       ┆ 24.0     │\n",
       "│ 32323-364-2764 ┆ 5.0        ┆ 13.0     │\n",
       "│ 32783-296-2667 ┆ 18.0       ┆ 26.0     │\n",
       "│ 33260-601-602  ┆ 27.0       ┆ 34.0     │\n",
       "└────────────────┴────────────┴──────────┘"
      ]
     },
     "metadata": {},
     "output_type": "display_data"
    }
   ],
   "source": [
    "import polars as pl\n",
    "\n",
    "data = {\n",
    "    'InjuryKey': [\n",
    "        '23742-274-3609'\n",
    "        , '26035-399-3312'\n",
    "        , '27595-189-3509'\n",
    "        , '28620-234-3278'\n",
    "        , '32323-364-2764'\n",
    "        , '32783-296-2667'\n",
    "        , '33260-601-602'\n",
    "    ]\n",
    "    , 'time_start': [\n",
    "        15\n",
    "        , 8\n",
    "        , 9\n",
    "        , 16\n",
    "        , 5\n",
    "        , 18\n",
    "        , 27\n",
    "    ]\n",
    "    , 'time_end': [\n",
    "        23\n",
    "        , 16\n",
    "        , 17\n",
    "        , 24\n",
    "        , 13\n",
    "        , 26\n",
    "        , 34\n",
    "    ]\n",
    "}\n",
    "\n",
    "VizKeys = pl.DataFrame(data).with_columns([\n",
    "    pl.col('time_start').cast(pl.Float64)\n",
    "    , pl.col('time_end').cast(pl.Float64)\n",
    "])\n",
    "display(VizKeys)"
   ]
  },
  {
   "cell_type": "markdown",
   "metadata": {},
   "source": [
    "### Join the tables on InjuryKey\n",
    "\n",
    "Note: this is only filtering relevant Concussion data and the opponent data from non-injured players. "
   ]
  },
  {
   "cell_type": "code",
   "execution_count": 10,
   "metadata": {},
   "outputs": [
    {
     "data": {
      "text/html": [
       "<div><style>\n",
       ".dataframe > thead > tr,\n",
       ".dataframe > tbody > tr {\n",
       "  text-align: right;\n",
       "  white-space: pre-wrap;\n",
       "}\n",
       "</style>\n",
       "<small>shape: (7_302, 26)</small><table border=\"1\" class=\"dataframe\"><thead><tr><th>PlayKey</th><th>time</th><th>x</th><th>y</th><th>dir</th><th>o</th><th>Angle_Diff</th><th>Displacement</th><th>Speed</th><th>omega_dir</th><th>omega_o</th><th>omega_diff</th><th>Position</th><th>p_magnitude</th><th>L_dir</th><th>L_diff</th><th>J_magnitude</th><th>torque</th><th>torque_internal</th><th>InjuryType</th><th>InjuryKey</th><th>PlayerActivity</th><th>ImpactType</th><th>OpponentKey</th><th>time_start</th><th>time_end</th></tr><tr><td>str</td><td>f64</td><td>f64</td><td>f64</td><td>f64</td><td>f64</td><td>f64</td><td>f64</td><td>f64</td><td>f64</td><td>f64</td><td>f64</td><td>str</td><td>f64</td><td>f64</td><td>f64</td><td>f64</td><td>f64</td><td>f64</td><td>str</td><td>str</td><td>str</td><td>str</td><td>str</td><td>f64</td><td>f64</td></tr></thead><tbody><tr><td>&quot;23742-274-3609&quot;</td><td>0.0</td><td>21.77</td><td>29.28</td><td>35.25</td><td>99.70999</td><td>64.46</td><td>null</td><td>null</td><td>null</td><td>null</td><td>null</td><td>&quot;P&quot;</td><td>null</td><td>null</td><td>null</td><td>null</td><td>null</td><td>null</td><td>&quot;Concussion&quot;</td><td>&quot;23742-274-3609&quot;</td><td>&quot;Tackled&quot;</td><td>&quot;Helmet-to-helmet&quot;</td><td>&quot;31785-274-3609&quot;</td><td>15.0</td><td>23.0</td></tr><tr><td>&quot;23742-274-3609&quot;</td><td>0.1</td><td>21.76</td><td>29.31</td><td>34.259995</td><td>100.119995</td><td>65.86</td><td>0.031622</td><td>0.316217</td><td>-0.172789</td><td>0.071558</td><td>0.244346</td><td>&quot;P&quot;</td><td>30.837471</td><td>-0.307358</td><td>0.3042525</td><td>null</td><td>null</td><td>null</td><td>&quot;Concussion&quot;</td><td>&quot;23742-274-3609&quot;</td><td>&quot;Tackled&quot;</td><td>&quot;Helmet-to-helmet&quot;</td><td>&quot;31785-274-3609&quot;</td><td>15.0</td><td>23.0</td></tr><tr><td>&quot;23742-274-3609&quot;</td><td>0.2</td><td>21.75</td><td>29.34</td><td>31.119995</td><td>101.0</td><td>69.88</td><td>0.0316235</td><td>0.316235</td><td>-0.548034</td><td>0.15359</td><td>0.701624</td><td>&quot;P&quot;</td><td>30.839235</td><td>-0.97485</td><td>0.873641</td><td>0.00186</td><td>-6.674912</td><td>5.693885</td><td>&quot;Concussion&quot;</td><td>&quot;23742-274-3609&quot;</td><td>&quot;Tackled&quot;</td><td>&quot;Helmet-to-helmet&quot;</td><td>&quot;31785-274-3609&quot;</td><td>15.0</td><td>23.0</td></tr><tr><td>&quot;23742-274-3609&quot;</td><td>0.3</td><td>21.75</td><td>29.37</td><td>29.39</td><td>102.109985</td><td>72.72</td><td>0.030001</td><td>0.300007</td><td>-0.301941</td><td>0.193728</td><td>0.495669</td><td>&quot;P&quot;</td><td>29.256668</td><td>-0.537097</td><td>0.6171922</td><td>9.752223</td><td>4.3775296</td><td>-2.564488</td><td>&quot;Concussion&quot;</td><td>&quot;23742-274-3609&quot;</td><td>&quot;Tackled&quot;</td><td>&quot;Helmet-to-helmet&quot;</td><td>&quot;31785-274-3609&quot;</td><td>15.0</td><td>23.0</td></tr><tr><td>&quot;23742-274-3609&quot;</td><td>0.4</td><td>21.76</td><td>29.39</td><td>31.330002</td><td>103.29001</td><td>71.96</td><td>0.022359</td><td>0.223595</td><td>0.3385949</td><td>0.205953</td><td>0.132642</td><td>&quot;P&quot;</td><td>21.80497</td><td>0.6022972</td><td>0.165162</td><td>13.79304</td><td>11.39394</td><td>-4.520307</td><td>&quot;Concussion&quot;</td><td>&quot;23742-274-3609&quot;</td><td>&quot;Tackled&quot;</td><td>&quot;Helmet-to-helmet&quot;</td><td>&quot;31785-274-3609&quot;</td><td>15.0</td><td>23.0</td></tr><tr><td>&hellip;</td><td>&hellip;</td><td>&hellip;</td><td>&hellip;</td><td>&hellip;</td><td>&hellip;</td><td>&hellip;</td><td>&hellip;</td><td>&hellip;</td><td>&hellip;</td><td>&hellip;</td><td>&hellip;</td><td>&hellip;</td><td>&hellip;</td><td>&hellip;</td><td>&hellip;</td><td>&hellip;</td><td>&hellip;</td><td>&hellip;</td><td>&hellip;</td><td>&hellip;</td><td>&hellip;</td><td>&hellip;</td><td>&hellip;</td><td>&hellip;</td><td>&hellip;</td></tr><tr><td>&quot;33260-601-602&quot;</td><td>39.0</td><td>59.86</td><td>14.34</td><td>32.25</td><td>89.61</td><td>57.36</td><td>0.03</td><td>0.299997</td><td>-0.577703</td><td>-0.801108</td><td>0.223405</td><td>&quot;LS&quot;</td><td>32.65771</td><td>-1.147123</td><td>0.310524</td><td>0.0</td><td>0.0</td><td>0.0</td><td>&quot;Concussion&quot;</td><td>&quot;33260-601-602&quot;</td><td>&quot;Tackling&quot;</td><td>&quot;Helmet-to-helmet&quot;</td><td>&quot;31697-601-602&quot;</td><td>27.0</td><td>34.0</td></tr><tr><td>&quot;33260-601-602&quot;</td><td>39.1</td><td>59.88</td><td>14.28</td><td>29.220001</td><td>82.73</td><td>53.51</td><td>0.063246</td><td>0.632461</td><td>-0.528835</td><td>-1.200786</td><td>0.6719506</td><td>&quot;LS&quot;</td><td>68.8497</td><td>-1.050087</td><td>0.9339861</td><td>39.25093</td><td>0.9703541</td><td>6.234618</td><td>&quot;Concussion&quot;</td><td>&quot;33260-601-602&quot;</td><td>&quot;Tackling&quot;</td><td>&quot;Helmet-to-helmet&quot;</td><td>&quot;31697-601-602&quot;</td><td>27.0</td><td>34.0</td></tr><tr><td>&quot;33260-601-602&quot;</td><td>39.1</td><td>59.88</td><td>14.28</td><td>29.220001</td><td>82.73</td><td>53.51</td><td>0.063246</td><td>0.632461</td><td>-0.528835</td><td>-1.200786</td><td>0.6719506</td><td>&quot;LS&quot;</td><td>68.8497</td><td>-1.050087</td><td>0.9339861</td><td>0.0</td><td>0.0</td><td>0.0</td><td>&quot;Concussion&quot;</td><td>&quot;33260-601-602&quot;</td><td>&quot;Tackling&quot;</td><td>&quot;Helmet-to-helmet&quot;</td><td>&quot;31697-601-602&quot;</td><td>27.0</td><td>34.0</td></tr><tr><td>&quot;33260-601-602&quot;</td><td>39.2</td><td>59.95</td><td>14.19</td><td>26.48999</td><td>74.21</td><td>47.72</td><td>0.114017</td><td>1.1401747</td><td>-0.476476</td><td>-1.487023</td><td>1.0105464</td><td>&quot;LS&quot;</td><td>124.11942</td><td>-0.94612</td><td>1.4046217</td><td>0.0</td><td>0.0</td><td>0.0</td><td>&quot;Concussion&quot;</td><td>&quot;33260-601-602&quot;</td><td>&quot;Tackling&quot;</td><td>&quot;Helmet-to-helmet&quot;</td><td>&quot;31697-601-602&quot;</td><td>27.0</td><td>34.0</td></tr><tr><td>&quot;33260-601-602&quot;</td><td>39.2</td><td>59.95</td><td>14.19</td><td>26.48999</td><td>74.21</td><td>47.72</td><td>0.114017</td><td>1.1401747</td><td>-0.476476</td><td>-1.487023</td><td>1.0105464</td><td>&quot;LS&quot;</td><td>124.11942</td><td>-0.94612</td><td>1.4046217</td><td>63.47488</td><td>1.0396683</td><td>4.706356</td><td>&quot;Concussion&quot;</td><td>&quot;33260-601-602&quot;</td><td>&quot;Tackling&quot;</td><td>&quot;Helmet-to-helmet&quot;</td><td>&quot;31697-601-602&quot;</td><td>27.0</td><td>34.0</td></tr></tbody></table></div>"
      ],
      "text/plain": [
       "shape: (7_302, 26)\n",
       "┌───────────────┬──────┬───────┬───────┬───┬───────────────┬───────────────┬────────────┬──────────┐\n",
       "│ PlayKey       ┆ time ┆ x     ┆ y     ┆ … ┆ ImpactType    ┆ OpponentKey   ┆ time_start ┆ time_end │\n",
       "│ ---           ┆ ---  ┆ ---   ┆ ---   ┆   ┆ ---           ┆ ---           ┆ ---        ┆ ---      │\n",
       "│ str           ┆ f64  ┆ f64   ┆ f64   ┆   ┆ str           ┆ str           ┆ f64        ┆ f64      │\n",
       "╞═══════════════╪══════╪═══════╪═══════╪═══╪═══════════════╪═══════════════╪════════════╪══════════╡\n",
       "│ 23742-274-360 ┆ 0.0  ┆ 21.77 ┆ 29.28 ┆ … ┆ Helmet-to-hel ┆ 31785-274-360 ┆ 15.0       ┆ 23.0     │\n",
       "│ 9             ┆      ┆       ┆       ┆   ┆ met           ┆ 9             ┆            ┆          │\n",
       "│ 23742-274-360 ┆ 0.1  ┆ 21.76 ┆ 29.31 ┆ … ┆ Helmet-to-hel ┆ 31785-274-360 ┆ 15.0       ┆ 23.0     │\n",
       "│ 9             ┆      ┆       ┆       ┆   ┆ met           ┆ 9             ┆            ┆          │\n",
       "│ 23742-274-360 ┆ 0.2  ┆ 21.75 ┆ 29.34 ┆ … ┆ Helmet-to-hel ┆ 31785-274-360 ┆ 15.0       ┆ 23.0     │\n",
       "│ 9             ┆      ┆       ┆       ┆   ┆ met           ┆ 9             ┆            ┆          │\n",
       "│ 23742-274-360 ┆ 0.3  ┆ 21.75 ┆ 29.37 ┆ … ┆ Helmet-to-hel ┆ 31785-274-360 ┆ 15.0       ┆ 23.0     │\n",
       "│ 9             ┆      ┆       ┆       ┆   ┆ met           ┆ 9             ┆            ┆          │\n",
       "│ 23742-274-360 ┆ 0.4  ┆ 21.76 ┆ 29.39 ┆ … ┆ Helmet-to-hel ┆ 31785-274-360 ┆ 15.0       ┆ 23.0     │\n",
       "│ 9             ┆      ┆       ┆       ┆   ┆ met           ┆ 9             ┆            ┆          │\n",
       "│ …             ┆ …    ┆ …     ┆ …     ┆ … ┆ …             ┆ …             ┆ …          ┆ …        │\n",
       "│ 33260-601-602 ┆ 39.0 ┆ 59.86 ┆ 14.34 ┆ … ┆ Helmet-to-hel ┆ 31697-601-602 ┆ 27.0       ┆ 34.0     │\n",
       "│               ┆      ┆       ┆       ┆   ┆ met           ┆               ┆            ┆          │\n",
       "│ 33260-601-602 ┆ 39.1 ┆ 59.88 ┆ 14.28 ┆ … ┆ Helmet-to-hel ┆ 31697-601-602 ┆ 27.0       ┆ 34.0     │\n",
       "│               ┆      ┆       ┆       ┆   ┆ met           ┆               ┆            ┆          │\n",
       "│ 33260-601-602 ┆ 39.1 ┆ 59.88 ┆ 14.28 ┆ … ┆ Helmet-to-hel ┆ 31697-601-602 ┆ 27.0       ┆ 34.0     │\n",
       "│               ┆      ┆       ┆       ┆   ┆ met           ┆               ┆            ┆          │\n",
       "│ 33260-601-602 ┆ 39.2 ┆ 59.95 ┆ 14.19 ┆ … ┆ Helmet-to-hel ┆ 31697-601-602 ┆ 27.0       ┆ 34.0     │\n",
       "│               ┆      ┆       ┆       ┆   ┆ met           ┆               ┆            ┆          │\n",
       "│ 33260-601-602 ┆ 39.2 ┆ 59.95 ┆ 14.19 ┆ … ┆ Helmet-to-hel ┆ 31697-601-602 ┆ 27.0       ┆ 34.0     │\n",
       "│               ┆      ┆       ┆       ┆   ┆ met           ┆               ┆            ┆          │\n",
       "└───────────────┴──────┴───────┴───────┴───┴───────────────┴───────────────┴────────────┴──────────┘"
      ]
     },
     "metadata": {},
     "output_type": "display_data"
    }
   ],
   "source": [
    "import polars as pl\n",
    "\n",
    "# Perform the inner join\n",
    "joined_df = All_Tracking.join(\n",
    "    VizKeys\n",
    "    , on='InjuryKey'\n",
    "    , how='inner'\n",
    ")\n",
    "\n",
    "# Display the result\n",
    "display(joined_df)\n"
   ]
  },
  {
   "cell_type": "markdown",
   "metadata": {},
   "source": [
    "Next, I need to filter the times between the time_start and time_end. "
   ]
  },
  {
   "cell_type": "code",
   "execution_count": 13,
   "metadata": {},
   "outputs": [
    {
     "data": {
      "text/html": [
       "<div><style>\n",
       ".dataframe > thead > tr,\n",
       ".dataframe > tbody > tr {\n",
       "  text-align: right;\n",
       "  white-space: pre-wrap;\n",
       "}\n",
       "</style>\n",
       "<small>shape: (1_671, 26)</small><table border=\"1\" class=\"dataframe\"><thead><tr><th>PlayKey</th><th>time</th><th>x</th><th>y</th><th>dir</th><th>o</th><th>Angle_Diff</th><th>Displacement</th><th>Speed</th><th>omega_dir</th><th>omega_o</th><th>omega_diff</th><th>Position</th><th>p_magnitude</th><th>L_dir</th><th>L_diff</th><th>J_magnitude</th><th>torque</th><th>torque_internal</th><th>InjuryType</th><th>InjuryKey</th><th>PlayerActivity</th><th>ImpactType</th><th>OpponentKey</th><th>time_start</th><th>time_end</th></tr><tr><td>str</td><td>f64</td><td>f64</td><td>f64</td><td>f64</td><td>f64</td><td>f64</td><td>f64</td><td>f64</td><td>f64</td><td>f64</td><td>f64</td><td>str</td><td>f64</td><td>f64</td><td>f64</td><td>f64</td><td>f64</td><td>f64</td><td>str</td><td>str</td><td>str</td><td>str</td><td>str</td><td>f64</td><td>f64</td></tr></thead><tbody><tr><td>&quot;23742-274-3609&quot;</td><td>15.0</td><td>22.78</td><td>29.44</td><td>3.5599976</td><td>80.69</td><td>77.13</td><td>0.100499</td><td>1.0049917</td><td>-0.174533</td><td>-0.057596</td><td>0.116937</td><td>&quot;P&quot;</td><td>98.006775</td><td>-0.310462</td><td>0.145606</td><td>30.839235</td><td>-1.272903</td><td>1.3691344</td><td>&quot;Concussion&quot;</td><td>&quot;23742-274-3609&quot;</td><td>&quot;Tackled&quot;</td><td>&quot;Helmet-to-helmet&quot;</td><td>&quot;31785-274-3609&quot;</td><td>15.0</td><td>23.0</td></tr><tr><td>&quot;23742-274-3609&quot;</td><td>15.1</td><td>22.93</td><td>29.48</td><td>2.880005</td><td>80.19</td><td>77.31</td><td>0.155241</td><td>1.5524112</td><td>-0.118681</td><td>-0.087267</td><td>0.031414</td><td>&quot;P&quot;</td><td>151.39113</td><td>-0.211112</td><td>0.039116</td><td>56.862183</td><td>0.993499</td><td>-1.064906</td><td>&quot;Concussion&quot;</td><td>&quot;23742-274-3609&quot;</td><td>&quot;Tackled&quot;</td><td>&quot;Helmet-to-helmet&quot;</td><td>&quot;31785-274-3609&quot;</td><td>15.0</td><td>23.0</td></tr><tr><td>&quot;23742-274-3609&quot;</td><td>15.2</td><td>23.13</td><td>29.51</td><td>2.2399902</td><td>79.59</td><td>77.35</td><td>0.202236</td><td>2.0223646</td><td>-0.111704</td><td>-0.104721</td><td>0.006983</td><td>&quot;P&quot;</td><td>197.221</td><td>-0.1987</td><td>0.008695</td><td>49.724594</td><td>0.124117</td><td>-0.304207</td><td>&quot;Concussion&quot;</td><td>&quot;23742-274-3609&quot;</td><td>&quot;Tackled&quot;</td><td>&quot;Helmet-to-helmet&quot;</td><td>&quot;31785-274-3609&quot;</td><td>15.0</td><td>23.0</td></tr><tr><td>&quot;23742-274-3609&quot;</td><td>15.3</td><td>23.42</td><td>29.51</td><td>1.8800049</td><td>77.64</td><td>75.76</td><td>0.290001</td><td>2.9000092</td><td>-0.062829</td><td>-0.340339</td><td>0.27751</td><td>&quot;P&quot;</td><td>282.80887</td><td>-0.111762</td><td>0.345547</td><td>92.51769</td><td>0.8693823</td><td>3.368515</td><td>&quot;Concussion&quot;</td><td>&quot;23742-274-3609&quot;</td><td>&quot;Tackled&quot;</td><td>&quot;Helmet-to-helmet&quot;</td><td>&quot;31785-274-3609&quot;</td><td>15.0</td><td>23.0</td></tr><tr><td>&quot;23742-274-3609&quot;</td><td>15.4</td><td>23.73</td><td>29.52</td><td>1.4400024</td><td>75.79</td><td>74.35</td><td>0.310161</td><td>3.1016073</td><td>-0.076795</td><td>-0.322885</td><td>0.2460906</td><td>&quot;P&quot;</td><td>302.46872</td><td>-0.136604</td><td>0.306425</td><td>21.804977</td><td>-0.248422</td><td>-0.39122</td><td>&quot;Concussion&quot;</td><td>&quot;23742-274-3609&quot;</td><td>&quot;Tackled&quot;</td><td>&quot;Helmet-to-helmet&quot;</td><td>&quot;31785-274-3609&quot;</td><td>15.0</td><td>23.0</td></tr><tr><td>&hellip;</td><td>&hellip;</td><td>&hellip;</td><td>&hellip;</td><td>&hellip;</td><td>&hellip;</td><td>&hellip;</td><td>&hellip;</td><td>&hellip;</td><td>&hellip;</td><td>&hellip;</td><td>&hellip;</td><td>&hellip;</td><td>&hellip;</td><td>&hellip;</td><td>&hellip;</td><td>&hellip;</td><td>&hellip;</td><td>&hellip;</td><td>&hellip;</td><td>&hellip;</td><td>&hellip;</td><td>&hellip;</td><td>&hellip;</td><td>&hellip;</td><td>&hellip;</td></tr><tr><td>&quot;33260-601-602&quot;</td><td>33.8</td><td>60.08</td><td>14.2</td><td>158.72998</td><td>36.929993</td><td>121.8</td><td>0.022358</td><td>0.223578</td><td>1.9547653</td><td>-0.333358</td><td>2.2881234</td><td>&quot;LS&quot;</td><td>24.338678</td><td>3.8815012</td><td>3.1804059</td><td>0.0</td><td>0.0</td><td>0.0</td><td>&quot;Concussion&quot;</td><td>&quot;33260-601-602&quot;</td><td>&quot;Tackling&quot;</td><td>&quot;Helmet-to-helmet&quot;</td><td>&quot;31697-601-602&quot;</td><td>27.0</td><td>34.0</td></tr><tr><td>&quot;33260-601-602&quot;</td><td>33.9</td><td>60.05</td><td>14.2</td><td>169.29999</td><td>35.08</td><td>134.22</td><td>0.030003</td><td>0.300026</td><td>1.8448162</td><td>-0.322885</td><td>2.1677012</td><td>&quot;LS&quot;</td><td>32.660824</td><td>3.6631794</td><td>3.0130236</td><td>15.399887</td><td>-2.183218</td><td>-1.673822</td><td>&quot;Concussion&quot;</td><td>&quot;33260-601-602&quot;</td><td>&quot;Tackling&quot;</td><td>&quot;Helmet-to-helmet&quot;</td><td>&quot;31697-601-602&quot;</td><td>27.0</td><td>34.0</td></tr><tr><td>&quot;33260-601-602&quot;</td><td>33.9</td><td>60.05</td><td>14.2</td><td>169.29999</td><td>35.08</td><td>134.22</td><td>0.030003</td><td>0.300026</td><td>1.8448162</td><td>-0.322885</td><td>2.1677012</td><td>&quot;LS&quot;</td><td>32.660824</td><td>3.6631794</td><td>3.0130236</td><td>0.0</td><td>0.0</td><td>0.0</td><td>&quot;Concussion&quot;</td><td>&quot;33260-601-602&quot;</td><td>&quot;Tackling&quot;</td><td>&quot;Helmet-to-helmet&quot;</td><td>&quot;31697-601-602&quot;</td><td>27.0</td><td>34.0</td></tr><tr><td>&quot;33260-601-602&quot;</td><td>34.0</td><td>60.04</td><td>14.21</td><td>177.22</td><td>34.14</td><td>143.08</td><td>0.014141</td><td>0.141411</td><td>1.3823009</td><td>-0.164061</td><td>1.546362</td><td>&quot;LS&quot;</td><td>15.394013</td><td>2.7447808</td><td>2.1493855</td><td>0.0</td><td>0.0</td><td>0.0</td><td>&quot;Concussion&quot;</td><td>&quot;33260-601-602&quot;</td><td>&quot;Tackling&quot;</td><td>&quot;Helmet-to-helmet&quot;</td><td>&quot;31697-601-602&quot;</td><td>27.0</td><td>34.0</td></tr><tr><td>&quot;33260-601-602&quot;</td><td>34.0</td><td>60.04</td><td>14.21</td><td>177.22</td><td>34.14</td><td>143.08</td><td>0.014141</td><td>0.141411</td><td>1.3823009</td><td>-0.164061</td><td>1.546362</td><td>&quot;LS&quot;</td><td>15.394013</td><td>2.7447808</td><td>2.1493855</td><td>24.346107</td><td>-9.183987</td><td>-8.636381</td><td>&quot;Concussion&quot;</td><td>&quot;33260-601-602&quot;</td><td>&quot;Tackling&quot;</td><td>&quot;Helmet-to-helmet&quot;</td><td>&quot;31697-601-602&quot;</td><td>27.0</td><td>34.0</td></tr></tbody></table></div>"
      ],
      "text/plain": [
       "shape: (1_671, 26)\n",
       "┌───────────────┬──────┬───────┬───────┬───┬───────────────┬───────────────┬────────────┬──────────┐\n",
       "│ PlayKey       ┆ time ┆ x     ┆ y     ┆ … ┆ ImpactType    ┆ OpponentKey   ┆ time_start ┆ time_end │\n",
       "│ ---           ┆ ---  ┆ ---   ┆ ---   ┆   ┆ ---           ┆ ---           ┆ ---        ┆ ---      │\n",
       "│ str           ┆ f64  ┆ f64   ┆ f64   ┆   ┆ str           ┆ str           ┆ f64        ┆ f64      │\n",
       "╞═══════════════╪══════╪═══════╪═══════╪═══╪═══════════════╪═══════════════╪════════════╪══════════╡\n",
       "│ 23742-274-360 ┆ 15.0 ┆ 22.78 ┆ 29.44 ┆ … ┆ Helmet-to-hel ┆ 31785-274-360 ┆ 15.0       ┆ 23.0     │\n",
       "│ 9             ┆      ┆       ┆       ┆   ┆ met           ┆ 9             ┆            ┆          │\n",
       "│ 23742-274-360 ┆ 15.1 ┆ 22.93 ┆ 29.48 ┆ … ┆ Helmet-to-hel ┆ 31785-274-360 ┆ 15.0       ┆ 23.0     │\n",
       "│ 9             ┆      ┆       ┆       ┆   ┆ met           ┆ 9             ┆            ┆          │\n",
       "│ 23742-274-360 ┆ 15.2 ┆ 23.13 ┆ 29.51 ┆ … ┆ Helmet-to-hel ┆ 31785-274-360 ┆ 15.0       ┆ 23.0     │\n",
       "│ 9             ┆      ┆       ┆       ┆   ┆ met           ┆ 9             ┆            ┆          │\n",
       "│ 23742-274-360 ┆ 15.3 ┆ 23.42 ┆ 29.51 ┆ … ┆ Helmet-to-hel ┆ 31785-274-360 ┆ 15.0       ┆ 23.0     │\n",
       "│ 9             ┆      ┆       ┆       ┆   ┆ met           ┆ 9             ┆            ┆          │\n",
       "│ 23742-274-360 ┆ 15.4 ┆ 23.73 ┆ 29.52 ┆ … ┆ Helmet-to-hel ┆ 31785-274-360 ┆ 15.0       ┆ 23.0     │\n",
       "│ 9             ┆      ┆       ┆       ┆   ┆ met           ┆ 9             ┆            ┆          │\n",
       "│ …             ┆ …    ┆ …     ┆ …     ┆ … ┆ …             ┆ …             ┆ …          ┆ …        │\n",
       "│ 33260-601-602 ┆ 33.8 ┆ 60.08 ┆ 14.2  ┆ … ┆ Helmet-to-hel ┆ 31697-601-602 ┆ 27.0       ┆ 34.0     │\n",
       "│               ┆      ┆       ┆       ┆   ┆ met           ┆               ┆            ┆          │\n",
       "│ 33260-601-602 ┆ 33.9 ┆ 60.05 ┆ 14.2  ┆ … ┆ Helmet-to-hel ┆ 31697-601-602 ┆ 27.0       ┆ 34.0     │\n",
       "│               ┆      ┆       ┆       ┆   ┆ met           ┆               ┆            ┆          │\n",
       "│ 33260-601-602 ┆ 33.9 ┆ 60.05 ┆ 14.2  ┆ … ┆ Helmet-to-hel ┆ 31697-601-602 ┆ 27.0       ┆ 34.0     │\n",
       "│               ┆      ┆       ┆       ┆   ┆ met           ┆               ┆            ┆          │\n",
       "│ 33260-601-602 ┆ 34.0 ┆ 60.04 ┆ 14.21 ┆ … ┆ Helmet-to-hel ┆ 31697-601-602 ┆ 27.0       ┆ 34.0     │\n",
       "│               ┆      ┆       ┆       ┆   ┆ met           ┆               ┆            ┆          │\n",
       "│ 33260-601-602 ┆ 34.0 ┆ 60.04 ┆ 14.21 ┆ … ┆ Helmet-to-hel ┆ 31697-601-602 ┆ 27.0       ┆ 34.0     │\n",
       "│               ┆      ┆       ┆       ┆   ┆ met           ┆               ┆            ┆          │\n",
       "└───────────────┴──────┴───────┴───────┴───┴───────────────┴───────────────┴────────────┴──────────┘"
      ]
     },
     "metadata": {},
     "output_type": "display_data"
    }
   ],
   "source": [
    "import polars as pl\n",
    "\n",
    "# Assuming your joined DataFrame is called 'joined_df'\n",
    "\n",
    "filtered_df = joined_df.filter(\n",
    "    (pl.col('time') >= pl.col('time_start')) & \n",
    "    (pl.col('time') <= pl.col('time_end'))\n",
    ")\n",
    "\n",
    "# Display the result\n",
    "display(filtered_df)"
   ]
  },
  {
   "cell_type": "markdown",
   "metadata": {},
   "source": [
    "The last step I'd like to do here is to create a new time column \"play_time\" which subtracts the time_start from the time column, setting the initial play_time to 0.0. "
   ]
  },
  {
   "cell_type": "code",
   "execution_count": 15,
   "metadata": {},
   "outputs": [],
   "source": [
    "filtered_df = filtered_df.with_columns((\n",
    "    pl.col('time') - pl.col('time_start')\n",
    ").alias('play_time'))"
   ]
  },
  {
   "cell_type": "code",
   "execution_count": 18,
   "metadata": {},
   "outputs": [
    {
     "data": {
      "text/html": [
       "<div><style>\n",
       ".dataframe > thead > tr,\n",
       ".dataframe > tbody > tr {\n",
       "  text-align: right;\n",
       "  white-space: pre-wrap;\n",
       "}\n",
       "</style>\n",
       "<small>shape: (1_671, 27)</small><table border=\"1\" class=\"dataframe\"><thead><tr><th>PlayKey</th><th>time</th><th>x</th><th>y</th><th>dir</th><th>o</th><th>Angle_Diff</th><th>Displacement</th><th>Speed</th><th>omega_dir</th><th>omega_o</th><th>omega_diff</th><th>Position</th><th>p_magnitude</th><th>L_dir</th><th>L_diff</th><th>J_magnitude</th><th>torque</th><th>torque_internal</th><th>InjuryType</th><th>InjuryKey</th><th>PlayerActivity</th><th>ImpactType</th><th>OpponentKey</th><th>time_start</th><th>time_end</th><th>play_time</th></tr><tr><td>str</td><td>f64</td><td>f64</td><td>f64</td><td>f64</td><td>f64</td><td>f64</td><td>f64</td><td>f64</td><td>f64</td><td>f64</td><td>f64</td><td>str</td><td>f64</td><td>f64</td><td>f64</td><td>f64</td><td>f64</td><td>f64</td><td>str</td><td>str</td><td>str</td><td>str</td><td>str</td><td>f64</td><td>f64</td><td>f64</td></tr></thead><tbody><tr><td>&quot;23742-274-3609&quot;</td><td>15.0</td><td>22.78</td><td>29.44</td><td>3.5599976</td><td>80.69</td><td>77.13</td><td>0.100499</td><td>1.0049917</td><td>-0.174533</td><td>-0.057596</td><td>0.116937</td><td>&quot;P&quot;</td><td>98.006775</td><td>-0.310462</td><td>0.145606</td><td>30.839235</td><td>-1.272903</td><td>1.3691344</td><td>&quot;Concussion&quot;</td><td>&quot;23742-274-3609&quot;</td><td>&quot;Tackled&quot;</td><td>&quot;Helmet-to-helmet&quot;</td><td>&quot;31785-274-3609&quot;</td><td>15.0</td><td>23.0</td><td>0.0</td></tr><tr><td>&quot;23742-274-3609&quot;</td><td>15.1</td><td>22.93</td><td>29.48</td><td>2.880005</td><td>80.19</td><td>77.31</td><td>0.155241</td><td>1.5524112</td><td>-0.118681</td><td>-0.087267</td><td>0.031414</td><td>&quot;P&quot;</td><td>151.39113</td><td>-0.211112</td><td>0.039116</td><td>56.862183</td><td>0.993499</td><td>-1.064906</td><td>&quot;Concussion&quot;</td><td>&quot;23742-274-3609&quot;</td><td>&quot;Tackled&quot;</td><td>&quot;Helmet-to-helmet&quot;</td><td>&quot;31785-274-3609&quot;</td><td>15.0</td><td>23.0</td><td>0.1</td></tr><tr><td>&quot;23742-274-3609&quot;</td><td>15.2</td><td>23.13</td><td>29.51</td><td>2.2399902</td><td>79.59</td><td>77.35</td><td>0.202236</td><td>2.0223646</td><td>-0.111704</td><td>-0.104721</td><td>0.006983</td><td>&quot;P&quot;</td><td>197.221</td><td>-0.1987</td><td>0.008695</td><td>49.724594</td><td>0.124117</td><td>-0.304207</td><td>&quot;Concussion&quot;</td><td>&quot;23742-274-3609&quot;</td><td>&quot;Tackled&quot;</td><td>&quot;Helmet-to-helmet&quot;</td><td>&quot;31785-274-3609&quot;</td><td>15.0</td><td>23.0</td><td>0.2</td></tr><tr><td>&quot;23742-274-3609&quot;</td><td>15.3</td><td>23.42</td><td>29.51</td><td>1.8800049</td><td>77.64</td><td>75.76</td><td>0.290001</td><td>2.9000092</td><td>-0.062829</td><td>-0.340339</td><td>0.27751</td><td>&quot;P&quot;</td><td>282.80887</td><td>-0.111762</td><td>0.345547</td><td>92.51769</td><td>0.8693823</td><td>3.368515</td><td>&quot;Concussion&quot;</td><td>&quot;23742-274-3609&quot;</td><td>&quot;Tackled&quot;</td><td>&quot;Helmet-to-helmet&quot;</td><td>&quot;31785-274-3609&quot;</td><td>15.0</td><td>23.0</td><td>0.3</td></tr><tr><td>&quot;23742-274-3609&quot;</td><td>15.4</td><td>23.73</td><td>29.52</td><td>1.4400024</td><td>75.79</td><td>74.35</td><td>0.310161</td><td>3.1016073</td><td>-0.076795</td><td>-0.322885</td><td>0.2460906</td><td>&quot;P&quot;</td><td>302.46872</td><td>-0.136604</td><td>0.306425</td><td>21.804977</td><td>-0.248422</td><td>-0.39122</td><td>&quot;Concussion&quot;</td><td>&quot;23742-274-3609&quot;</td><td>&quot;Tackled&quot;</td><td>&quot;Helmet-to-helmet&quot;</td><td>&quot;31785-274-3609&quot;</td><td>15.0</td><td>23.0</td><td>0.4</td></tr><tr><td>&hellip;</td><td>&hellip;</td><td>&hellip;</td><td>&hellip;</td><td>&hellip;</td><td>&hellip;</td><td>&hellip;</td><td>&hellip;</td><td>&hellip;</td><td>&hellip;</td><td>&hellip;</td><td>&hellip;</td><td>&hellip;</td><td>&hellip;</td><td>&hellip;</td><td>&hellip;</td><td>&hellip;</td><td>&hellip;</td><td>&hellip;</td><td>&hellip;</td><td>&hellip;</td><td>&hellip;</td><td>&hellip;</td><td>&hellip;</td><td>&hellip;</td><td>&hellip;</td><td>&hellip;</td></tr><tr><td>&quot;33260-601-602&quot;</td><td>33.8</td><td>60.08</td><td>14.2</td><td>158.72998</td><td>36.929993</td><td>121.8</td><td>0.022358</td><td>0.223578</td><td>1.9547653</td><td>-0.333358</td><td>2.2881234</td><td>&quot;LS&quot;</td><td>24.338678</td><td>3.8815012</td><td>3.1804059</td><td>0.0</td><td>0.0</td><td>0.0</td><td>&quot;Concussion&quot;</td><td>&quot;33260-601-602&quot;</td><td>&quot;Tackling&quot;</td><td>&quot;Helmet-to-helmet&quot;</td><td>&quot;31697-601-602&quot;</td><td>27.0</td><td>34.0</td><td>6.8</td></tr><tr><td>&quot;33260-601-602&quot;</td><td>33.9</td><td>60.05</td><td>14.2</td><td>169.29999</td><td>35.08</td><td>134.22</td><td>0.030003</td><td>0.300026</td><td>1.8448162</td><td>-0.322885</td><td>2.1677012</td><td>&quot;LS&quot;</td><td>32.660824</td><td>3.6631794</td><td>3.0130236</td><td>15.399887</td><td>-2.183218</td><td>-1.673822</td><td>&quot;Concussion&quot;</td><td>&quot;33260-601-602&quot;</td><td>&quot;Tackling&quot;</td><td>&quot;Helmet-to-helmet&quot;</td><td>&quot;31697-601-602&quot;</td><td>27.0</td><td>34.0</td><td>6.9</td></tr><tr><td>&quot;33260-601-602&quot;</td><td>33.9</td><td>60.05</td><td>14.2</td><td>169.29999</td><td>35.08</td><td>134.22</td><td>0.030003</td><td>0.300026</td><td>1.8448162</td><td>-0.322885</td><td>2.1677012</td><td>&quot;LS&quot;</td><td>32.660824</td><td>3.6631794</td><td>3.0130236</td><td>0.0</td><td>0.0</td><td>0.0</td><td>&quot;Concussion&quot;</td><td>&quot;33260-601-602&quot;</td><td>&quot;Tackling&quot;</td><td>&quot;Helmet-to-helmet&quot;</td><td>&quot;31697-601-602&quot;</td><td>27.0</td><td>34.0</td><td>6.9</td></tr><tr><td>&quot;33260-601-602&quot;</td><td>34.0</td><td>60.04</td><td>14.21</td><td>177.22</td><td>34.14</td><td>143.08</td><td>0.014141</td><td>0.141411</td><td>1.3823009</td><td>-0.164061</td><td>1.546362</td><td>&quot;LS&quot;</td><td>15.394013</td><td>2.7447808</td><td>2.1493855</td><td>0.0</td><td>0.0</td><td>0.0</td><td>&quot;Concussion&quot;</td><td>&quot;33260-601-602&quot;</td><td>&quot;Tackling&quot;</td><td>&quot;Helmet-to-helmet&quot;</td><td>&quot;31697-601-602&quot;</td><td>27.0</td><td>34.0</td><td>7.0</td></tr><tr><td>&quot;33260-601-602&quot;</td><td>34.0</td><td>60.04</td><td>14.21</td><td>177.22</td><td>34.14</td><td>143.08</td><td>0.014141</td><td>0.141411</td><td>1.3823009</td><td>-0.164061</td><td>1.546362</td><td>&quot;LS&quot;</td><td>15.394013</td><td>2.7447808</td><td>2.1493855</td><td>24.346107</td><td>-9.183987</td><td>-8.636381</td><td>&quot;Concussion&quot;</td><td>&quot;33260-601-602&quot;</td><td>&quot;Tackling&quot;</td><td>&quot;Helmet-to-helmet&quot;</td><td>&quot;31697-601-602&quot;</td><td>27.0</td><td>34.0</td><td>7.0</td></tr></tbody></table></div>"
      ],
      "text/plain": [
       "shape: (1_671, 27)\n",
       "┌────────────────┬──────┬───────┬───────┬───┬────────────────┬────────────┬──────────┬───────────┐\n",
       "│ PlayKey        ┆ time ┆ x     ┆ y     ┆ … ┆ OpponentKey    ┆ time_start ┆ time_end ┆ play_time │\n",
       "│ ---            ┆ ---  ┆ ---   ┆ ---   ┆   ┆ ---            ┆ ---        ┆ ---      ┆ ---       │\n",
       "│ str            ┆ f64  ┆ f64   ┆ f64   ┆   ┆ str            ┆ f64        ┆ f64      ┆ f64       │\n",
       "╞════════════════╪══════╪═══════╪═══════╪═══╪════════════════╪════════════╪══════════╪═══════════╡\n",
       "│ 23742-274-3609 ┆ 15.0 ┆ 22.78 ┆ 29.44 ┆ … ┆ 31785-274-3609 ┆ 15.0       ┆ 23.0     ┆ 0.0       │\n",
       "│ 23742-274-3609 ┆ 15.1 ┆ 22.93 ┆ 29.48 ┆ … ┆ 31785-274-3609 ┆ 15.0       ┆ 23.0     ┆ 0.1       │\n",
       "│ 23742-274-3609 ┆ 15.2 ┆ 23.13 ┆ 29.51 ┆ … ┆ 31785-274-3609 ┆ 15.0       ┆ 23.0     ┆ 0.2       │\n",
       "│ 23742-274-3609 ┆ 15.3 ┆ 23.42 ┆ 29.51 ┆ … ┆ 31785-274-3609 ┆ 15.0       ┆ 23.0     ┆ 0.3       │\n",
       "│ 23742-274-3609 ┆ 15.4 ┆ 23.73 ┆ 29.52 ┆ … ┆ 31785-274-3609 ┆ 15.0       ┆ 23.0     ┆ 0.4       │\n",
       "│ …              ┆ …    ┆ …     ┆ …     ┆ … ┆ …              ┆ …          ┆ …        ┆ …         │\n",
       "│ 33260-601-602  ┆ 33.8 ┆ 60.08 ┆ 14.2  ┆ … ┆ 31697-601-602  ┆ 27.0       ┆ 34.0     ┆ 6.8       │\n",
       "│ 33260-601-602  ┆ 33.9 ┆ 60.05 ┆ 14.2  ┆ … ┆ 31697-601-602  ┆ 27.0       ┆ 34.0     ┆ 6.9       │\n",
       "│ 33260-601-602  ┆ 33.9 ┆ 60.05 ┆ 14.2  ┆ … ┆ 31697-601-602  ┆ 27.0       ┆ 34.0     ┆ 6.9       │\n",
       "│ 33260-601-602  ┆ 34.0 ┆ 60.04 ┆ 14.21 ┆ … ┆ 31697-601-602  ┆ 27.0       ┆ 34.0     ┆ 7.0       │\n",
       "│ 33260-601-602  ┆ 34.0 ┆ 60.04 ┆ 14.21 ┆ … ┆ 31697-601-602  ┆ 27.0       ┆ 34.0     ┆ 7.0       │\n",
       "└────────────────┴──────┴───────┴───────┴───┴────────────────┴────────────┴──────────┴───────────┘"
      ]
     },
     "metadata": {},
     "output_type": "display_data"
    }
   ],
   "source": [
    "display(filtered_df)"
   ]
  },
  {
   "cell_type": "code",
   "execution_count": 25,
   "metadata": {},
   "outputs": [],
   "source": [
    "path = \"F:/Data/Clean_Data/\"\n",
    "file = \"Viz_Tracking.csv\"\n",
    "filtered_df.write_csv(os.path.join(path, file))"
   ]
  }
 ],
 "metadata": {
  "kernelspec": {
   "display_name": "injury_env",
   "language": "python",
   "name": "python3"
  },
  "language_info": {
   "codemirror_mode": {
    "name": "ipython",
    "version": 3
   },
   "file_extension": ".py",
   "mimetype": "text/x-python",
   "name": "python",
   "nbconvert_exporter": "python",
   "pygments_lexer": "ipython3",
   "version": "3.9.19"
  }
 },
 "nbformat": 4,
 "nbformat_minor": 2
}
