{
 "cells": [
  {
   "cell_type": "markdown",
   "metadata": {},
   "source": [
    "# Preparing for Individual Analysis\n",
    "\n",
    "\n",
    "I have a very large imbalanced dataset that I'm working with. It is looking at players who have been injured in football, and there were 37 players who were injured among 2442 players. Each of these players has been involved in multiple plays. \n",
    "\n",
    "To further complicate things, the timing of recorded data does not start or stop at the beginning and end of each play, so the start/end times need to be determined individually. \n",
    "\n",
    "\n",
    "Two things I think I should investigate: \n",
    "\n",
    "1. Players who do get injured, looking at the games/plays when they were injured, and then in games/plays when they were not injured. I'm going to refer to this as \"Individual Performance Analysis\"\n",
    "\n",
    "2. Players who do get injured in those games/plays compared to others who did not get injured in their plays. To do this, I would like to stratify by the player's position, so that there is equal representation of the high frequency positions for positive injury, but for those that did not result in injury. This will be referred to as \"Cross-Player Analysis\"\n",
    "\n",
    "I will be using machine learning to analyze and predict the conditions indicative of injury. \n",
    "\n",
    "\n",
    "This file looks at the first of these. "
   ]
  },
  {
   "cell_type": "code",
   "execution_count": 1,
   "metadata": {},
   "outputs": [],
   "source": [
    "import polars as pl\n",
    "import os"
   ]
  },
  {
   "cell_type": "code",
   "execution_count": 2,
   "metadata": {},
   "outputs": [
    {
     "data": {
      "text/html": [
       "<div><style>\n",
       ".dataframe > thead > tr,\n",
       ".dataframe > tbody > tr {\n",
       "  text-align: right;\n",
       "  white-space: pre-wrap;\n",
       "}\n",
       "</style>\n",
       "<small>shape: (5, 24)</small><table border=\"1\" class=\"dataframe\"><thead><tr><th>PlayKey</th><th>time</th><th>x</th><th>y</th><th>dir</th><th>o</th><th>Angle_Diff</th><th>Displacement</th><th>Speed</th><th>omega_dir</th><th>omega_o</th><th>omega_diff</th><th>Position</th><th>p_magnitude</th><th>L_dir</th><th>L_diff</th><th>J_magnitude</th><th>torque</th><th>torque_internal</th><th>InjuryType</th><th>InjuryKey</th><th>PlayerActivity</th><th>ImpactType</th><th>OpponentKey</th></tr><tr><td>str</td><td>f32</td><td>f32</td><td>f32</td><td>f32</td><td>f32</td><td>f32</td><td>f32</td><td>f32</td><td>f32</td><td>f32</td><td>f32</td><td>cat</td><td>f32</td><td>f32</td><td>f32</td><td>f32</td><td>f32</td><td>f32</td><td>str</td><td>str</td><td>cat</td><td>cat</td><td>str</td></tr></thead><tbody><tr><td>&quot;23259-144-2342&quot;</td><td>0.0</td><td>35.419998</td><td>30.889999</td><td>152.799988</td><td>122.390015</td><td>30.41</td><td>null</td><td>null</td><td>null</td><td>null</td><td>null</td><td>&quot;OLB&quot;</td><td>null</td><td>null</td><td>null</td><td>null</td><td>null</td><td>null</td><td>&quot;No Injury&quot;</td><td>&quot;32410-144-2342&quot;</td><td>&quot;Blocked&quot;</td><td>&quot;Helmet-to-body&quot;</td><td>null</td></tr><tr><td>&quot;23259-144-2342&quot;</td><td>0.1</td><td>35.41</td><td>30.889999</td><td>173.179993</td><td>123.769989</td><td>49.41</td><td>0.009998</td><td>0.099983</td><td>3.556983</td><td>0.24085</td><td>3.316133</td><td>&quot;OLB&quot;</td><td>10.888172</td><td>7.065558</td><td>4.610995</td><td>null</td><td>null</td><td>null</td><td>&quot;No Injury&quot;</td><td>&quot;32410-144-2342&quot;</td><td>&quot;Blocked&quot;</td><td>&quot;Helmet-to-body&quot;</td><td>null</td></tr><tr><td>&quot;23259-144-2342&quot;</td><td>0.2</td><td>35.400002</td><td>30.879999</td><td>172.160004</td><td>125.140015</td><td>47.02</td><td>0.014141</td><td>0.141411</td><td>-0.178022</td><td>0.239115</td><td>0.417137</td><td>&quot;OLB&quot;</td><td>15.39967</td><td>-0.353622</td><td>0.580018</td><td>10.890249</td><td>-74.191803</td><td>-40.309769</td><td>&quot;No Injury&quot;</td><td>&quot;32410-144-2342&quot;</td><td>&quot;Blocked&quot;</td><td>&quot;Helmet-to-body&quot;</td><td>null</td></tr><tr><td>&quot;23259-144-2342&quot;</td><td>0.3</td><td>35.400002</td><td>30.85</td><td>178.660004</td><td>126.179993</td><td>52.48</td><td>0.029999</td><td>0.299988</td><td>1.134465</td><td>0.18151</td><td>0.952954</td><td>&quot;OLB&quot;</td><td>32.668671</td><td>2.25349</td><td>1.325058</td><td>24.348551</td><td>26.071119</td><td>7.450394</td><td>&quot;No Injury&quot;</td><td>&quot;32410-144-2342&quot;</td><td>&quot;Blocked&quot;</td><td>&quot;Helmet-to-body&quot;</td><td>null</td></tr><tr><td>&quot;23259-144-2342&quot;</td><td>0.4</td><td>35.419998</td><td>30.84</td><td>157.75</td><td>126.920013</td><td>30.83</td><td>0.022358</td><td>0.223578</td><td>-3.649485</td><td>0.129158</td><td>3.778644</td><td>&quot;OLB&quot;</td><td>24.347622</td><td>-7.249302</td><td>5.254103</td><td>30.797871</td><td>-95.027924</td><td>39.290459</td><td>&quot;No Injury&quot;</td><td>&quot;32410-144-2342&quot;</td><td>&quot;Blocked&quot;</td><td>&quot;Helmet-to-body&quot;</td><td>null</td></tr></tbody></table></div>"
      ],
      "text/plain": [
       "shape: (5, 24)\n",
       "┌────────────┬──────┬───────────┬───────────┬───┬────────────┬────────────┬────────────┬───────────┐\n",
       "│ PlayKey    ┆ time ┆ x         ┆ y         ┆ … ┆ InjuryKey  ┆ PlayerActi ┆ ImpactType ┆ OpponentK │\n",
       "│ ---        ┆ ---  ┆ ---       ┆ ---       ┆   ┆ ---        ┆ vity       ┆ ---        ┆ ey        │\n",
       "│ str        ┆ f32  ┆ f32       ┆ f32       ┆   ┆ str        ┆ ---        ┆ cat        ┆ ---       │\n",
       "│            ┆      ┆           ┆           ┆   ┆            ┆ cat        ┆            ┆ str       │\n",
       "╞════════════╪══════╪═══════════╪═══════════╪═══╪════════════╪════════════╪════════════╪═══════════╡\n",
       "│ 23259-144- ┆ 0.0  ┆ 35.419998 ┆ 30.889999 ┆ … ┆ 32410-144- ┆ Blocked    ┆ Helmet-to- ┆ null      │\n",
       "│ 2342       ┆      ┆           ┆           ┆   ┆ 2342       ┆            ┆ body       ┆           │\n",
       "│ 23259-144- ┆ 0.1  ┆ 35.41     ┆ 30.889999 ┆ … ┆ 32410-144- ┆ Blocked    ┆ Helmet-to- ┆ null      │\n",
       "│ 2342       ┆      ┆           ┆           ┆   ┆ 2342       ┆            ┆ body       ┆           │\n",
       "│ 23259-144- ┆ 0.2  ┆ 35.400002 ┆ 30.879999 ┆ … ┆ 32410-144- ┆ Blocked    ┆ Helmet-to- ┆ null      │\n",
       "│ 2342       ┆      ┆           ┆           ┆   ┆ 2342       ┆            ┆ body       ┆           │\n",
       "│ 23259-144- ┆ 0.3  ┆ 35.400002 ┆ 30.85     ┆ … ┆ 32410-144- ┆ Blocked    ┆ Helmet-to- ┆ null      │\n",
       "│ 2342       ┆      ┆           ┆           ┆   ┆ 2342       ┆            ┆ body       ┆           │\n",
       "│ 23259-144- ┆ 0.4  ┆ 35.419998 ┆ 30.84     ┆ … ┆ 32410-144- ┆ Blocked    ┆ Helmet-to- ┆ null      │\n",
       "│ 2342       ┆      ┆           ┆           ┆   ┆ 2342       ┆            ┆ body       ┆           │\n",
       "└────────────┴──────┴───────────┴───────────┴───┴────────────┴────────────┴────────────┴───────────┘"
      ]
     },
     "execution_count": 2,
     "metadata": {},
     "output_type": "execute_result"
    }
   ],
   "source": [
    "path = \"F:/Data/Clean_Data/\"\n",
    "file = \"All_Tracking.parquet\"\n",
    "All_Tracking = pl.read_parquet(os.path.join(path, file))\n",
    "All_Tracking.head()"
   ]
  },
  {
   "cell_type": "markdown",
   "metadata": {},
   "source": [
    "We need to separate the player ID, aka GSISID, from the game/play information on this. "
   ]
  },
  {
   "cell_type": "code",
   "execution_count": 3,
   "metadata": {},
   "outputs": [
    {
     "data": {
      "text/html": [
       "<div><style>\n",
       ".dataframe > thead > tr,\n",
       ".dataframe > tbody > tr {\n",
       "  text-align: right;\n",
       "  white-space: pre-wrap;\n",
       "}\n",
       "</style>\n",
       "<small>shape: (5, 26)</small><table border=\"1\" class=\"dataframe\"><thead><tr><th>PlayKey</th><th>time</th><th>x</th><th>y</th><th>dir</th><th>o</th><th>Angle_Diff</th><th>Displacement</th><th>Speed</th><th>omega_dir</th><th>omega_o</th><th>omega_diff</th><th>Position</th><th>p_magnitude</th><th>L_dir</th><th>L_diff</th><th>J_magnitude</th><th>torque</th><th>torque_internal</th><th>InjuryType</th><th>InjuryKey</th><th>PlayerActivity</th><th>ImpactType</th><th>OpponentKey</th><th>PlayerID</th><th>GamePlay</th></tr><tr><td>str</td><td>f32</td><td>f32</td><td>f32</td><td>f32</td><td>f32</td><td>f32</td><td>f32</td><td>f32</td><td>f32</td><td>f32</td><td>f32</td><td>cat</td><td>f32</td><td>f32</td><td>f32</td><td>f32</td><td>f32</td><td>f32</td><td>str</td><td>str</td><td>cat</td><td>cat</td><td>str</td><td>str</td><td>str</td></tr></thead><tbody><tr><td>&quot;23259-144-2342&quot;</td><td>0.0</td><td>35.419998</td><td>30.889999</td><td>152.799988</td><td>122.390015</td><td>30.41</td><td>null</td><td>null</td><td>null</td><td>null</td><td>null</td><td>&quot;OLB&quot;</td><td>null</td><td>null</td><td>null</td><td>null</td><td>null</td><td>null</td><td>&quot;No Injury&quot;</td><td>&quot;32410-144-2342&quot;</td><td>&quot;Blocked&quot;</td><td>&quot;Helmet-to-body&quot;</td><td>null</td><td>&quot;23259&quot;</td><td>&quot;144-2342&quot;</td></tr><tr><td>&quot;23259-144-2342&quot;</td><td>0.1</td><td>35.41</td><td>30.889999</td><td>173.179993</td><td>123.769989</td><td>49.41</td><td>0.009998</td><td>0.099983</td><td>3.556983</td><td>0.24085</td><td>3.316133</td><td>&quot;OLB&quot;</td><td>10.888172</td><td>7.065558</td><td>4.610995</td><td>null</td><td>null</td><td>null</td><td>&quot;No Injury&quot;</td><td>&quot;32410-144-2342&quot;</td><td>&quot;Blocked&quot;</td><td>&quot;Helmet-to-body&quot;</td><td>null</td><td>&quot;23259&quot;</td><td>&quot;144-2342&quot;</td></tr><tr><td>&quot;23259-144-2342&quot;</td><td>0.2</td><td>35.400002</td><td>30.879999</td><td>172.160004</td><td>125.140015</td><td>47.02</td><td>0.014141</td><td>0.141411</td><td>-0.178022</td><td>0.239115</td><td>0.417137</td><td>&quot;OLB&quot;</td><td>15.39967</td><td>-0.353622</td><td>0.580018</td><td>10.890249</td><td>-74.191803</td><td>-40.309769</td><td>&quot;No Injury&quot;</td><td>&quot;32410-144-2342&quot;</td><td>&quot;Blocked&quot;</td><td>&quot;Helmet-to-body&quot;</td><td>null</td><td>&quot;23259&quot;</td><td>&quot;144-2342&quot;</td></tr><tr><td>&quot;23259-144-2342&quot;</td><td>0.3</td><td>35.400002</td><td>30.85</td><td>178.660004</td><td>126.179993</td><td>52.48</td><td>0.029999</td><td>0.299988</td><td>1.134465</td><td>0.18151</td><td>0.952954</td><td>&quot;OLB&quot;</td><td>32.668671</td><td>2.25349</td><td>1.325058</td><td>24.348551</td><td>26.071119</td><td>7.450394</td><td>&quot;No Injury&quot;</td><td>&quot;32410-144-2342&quot;</td><td>&quot;Blocked&quot;</td><td>&quot;Helmet-to-body&quot;</td><td>null</td><td>&quot;23259&quot;</td><td>&quot;144-2342&quot;</td></tr><tr><td>&quot;23259-144-2342&quot;</td><td>0.4</td><td>35.419998</td><td>30.84</td><td>157.75</td><td>126.920013</td><td>30.83</td><td>0.022358</td><td>0.223578</td><td>-3.649485</td><td>0.129158</td><td>3.778644</td><td>&quot;OLB&quot;</td><td>24.347622</td><td>-7.249302</td><td>5.254103</td><td>30.797871</td><td>-95.027924</td><td>39.290459</td><td>&quot;No Injury&quot;</td><td>&quot;32410-144-2342&quot;</td><td>&quot;Blocked&quot;</td><td>&quot;Helmet-to-body&quot;</td><td>null</td><td>&quot;23259&quot;</td><td>&quot;144-2342&quot;</td></tr></tbody></table></div>"
      ],
      "text/plain": [
       "shape: (5, 26)\n",
       "┌─────────────┬──────┬───────────┬───────────┬───┬─────────────┬─────────────┬──────────┬──────────┐\n",
       "│ PlayKey     ┆ time ┆ x         ┆ y         ┆ … ┆ ImpactType  ┆ OpponentKey ┆ PlayerID ┆ GamePlay │\n",
       "│ ---         ┆ ---  ┆ ---       ┆ ---       ┆   ┆ ---         ┆ ---         ┆ ---      ┆ ---      │\n",
       "│ str         ┆ f32  ┆ f32       ┆ f32       ┆   ┆ cat         ┆ str         ┆ str      ┆ str      │\n",
       "╞═════════════╪══════╪═══════════╪═══════════╪═══╪═════════════╪═════════════╪══════════╪══════════╡\n",
       "│ 23259-144-2 ┆ 0.0  ┆ 35.419998 ┆ 30.889999 ┆ … ┆ Helmet-to-b ┆ null        ┆ 23259    ┆ 144-2342 │\n",
       "│ 342         ┆      ┆           ┆           ┆   ┆ ody         ┆             ┆          ┆          │\n",
       "│ 23259-144-2 ┆ 0.1  ┆ 35.41     ┆ 30.889999 ┆ … ┆ Helmet-to-b ┆ null        ┆ 23259    ┆ 144-2342 │\n",
       "│ 342         ┆      ┆           ┆           ┆   ┆ ody         ┆             ┆          ┆          │\n",
       "│ 23259-144-2 ┆ 0.2  ┆ 35.400002 ┆ 30.879999 ┆ … ┆ Helmet-to-b ┆ null        ┆ 23259    ┆ 144-2342 │\n",
       "│ 342         ┆      ┆           ┆           ┆   ┆ ody         ┆             ┆          ┆          │\n",
       "│ 23259-144-2 ┆ 0.3  ┆ 35.400002 ┆ 30.85     ┆ … ┆ Helmet-to-b ┆ null        ┆ 23259    ┆ 144-2342 │\n",
       "│ 342         ┆      ┆           ┆           ┆   ┆ ody         ┆             ┆          ┆          │\n",
       "│ 23259-144-2 ┆ 0.4  ┆ 35.419998 ┆ 30.84     ┆ … ┆ Helmet-to-b ┆ null        ┆ 23259    ┆ 144-2342 │\n",
       "│ 342         ┆      ┆           ┆           ┆   ┆ ody         ┆             ┆          ┆          │\n",
       "└─────────────┴──────┴───────────┴───────────┴───┴─────────────┴─────────────┴──────────┴──────────┘"
      ]
     },
     "execution_count": 3,
     "metadata": {},
     "output_type": "execute_result"
    }
   ],
   "source": [
    "All_Tracking_Split = All_Tracking.with_columns([\n",
    "    pl.col(\"PlayKey\").str.split('-').list.first().alias('PlayerID')\n",
    "    , pl.col(\"PlayKey\").str.split('-').list.slice(1).list.join('-').alias('GamePlay')\n",
    "])\n",
    "\n",
    "All_Tracking_Split.head()"
   ]
  },
  {
   "cell_type": "code",
   "execution_count": 4,
   "metadata": {},
   "outputs": [
    {
     "data": {
      "text/plain": [
       "61972"
      ]
     },
     "execution_count": 4,
     "metadata": {},
     "output_type": "execute_result"
    }
   ],
   "source": [
    "len(All_Tracking_Split)"
   ]
  },
  {
   "cell_type": "code",
   "execution_count": 7,
   "metadata": {},
   "outputs": [
    {
     "data": {
      "text/plain": [
       "132"
      ]
     },
     "execution_count": 7,
     "metadata": {},
     "output_type": "execute_result"
    }
   ],
   "source": [
    "All_Tracking_Split.n_unique(\"PlayerID\")"
   ]
  },
  {
   "cell_type": "markdown",
   "metadata": {},
   "source": [
    "I need to find all of the PlayerID where the players were injured. This should be a list of 37 unique IDs. "
   ]
  },
  {
   "cell_type": "code",
   "execution_count": 15,
   "metadata": {},
   "outputs": [],
   "source": [
    "injured_players = All_Tracking_Split.filter(pl.col(\"InjuryType\") == 'Concussion').select(['PlayerID']).unique()"
   ]
  },
  {
   "cell_type": "markdown",
   "metadata": {},
   "source": [
    "Now that I know the ID of the injured Players, I want to find all of the plays and games they've been in."
   ]
  },
  {
   "cell_type": "code",
   "execution_count": 17,
   "metadata": {},
   "outputs": [],
   "source": [
    "injured_player_plays = All_Tracking_Split.join(injured_players, on='PlayerID', how='inner')"
   ]
  },
  {
   "cell_type": "markdown",
   "metadata": {},
   "source": [
    "I want to know how many plays these players have been in. This means I am now grouping by the GamePlays. "
   ]
  },
  {
   "cell_type": "code",
   "execution_count": 25,
   "metadata": {},
   "outputs": [
    {
     "data": {
      "text/html": [
       "<div><style>\n",
       ".dataframe > thead > tr,\n",
       ".dataframe > tbody > tr {\n",
       "  text-align: right;\n",
       "  white-space: pre-wrap;\n",
       "}\n",
       "</style>\n",
       "<small>shape: (31, 2)</small><table border=\"1\" class=\"dataframe\"><thead><tr><th>PlayerID</th><th>UniqueGamePlays</th></tr><tr><td>str</td><td>u32</td></tr></thead><tbody><tr><td>&quot;33838&quot;</td><td>1</td></tr><tr><td>&quot;32214&quot;</td><td>1</td></tr><tr><td>&quot;31950&quot;</td><td>2</td></tr><tr><td>&quot;30171&quot;</td><td>1</td></tr><tr><td>&quot;32783&quot;</td><td>1</td></tr><tr><td>&hellip;</td><td>&hellip;</td></tr><tr><td>&quot;31313&quot;</td><td>1</td></tr><tr><td>&quot;32410&quot;</td><td>1</td></tr><tr><td>&quot;27654&quot;</td><td>1</td></tr><tr><td>&quot;33813&quot;</td><td>1</td></tr><tr><td>&quot;27595&quot;</td><td>1</td></tr></tbody></table></div>"
      ],
      "text/plain": [
       "shape: (31, 2)\n",
       "┌──────────┬─────────────────┐\n",
       "│ PlayerID ┆ UniqueGamePlays │\n",
       "│ ---      ┆ ---             │\n",
       "│ str      ┆ u32             │\n",
       "╞══════════╪═════════════════╡\n",
       "│ 33838    ┆ 1               │\n",
       "│ 32214    ┆ 1               │\n",
       "│ 31950    ┆ 2               │\n",
       "│ 30171    ┆ 1               │\n",
       "│ 32783    ┆ 1               │\n",
       "│ …        ┆ …               │\n",
       "│ 31313    ┆ 1               │\n",
       "│ 32410    ┆ 1               │\n",
       "│ 27654    ┆ 1               │\n",
       "│ 33813    ┆ 1               │\n",
       "│ 27595    ┆ 1               │\n",
       "└──────────┴─────────────────┘"
      ]
     },
     "execution_count": 25,
     "metadata": {},
     "output_type": "execute_result"
    }
   ],
   "source": [
    "unique_gameplays = injured_player_plays.group_by('PlayerID').agg(\n",
    "    pl.col('GamePlay').n_unique().alias('UniqueGamePlays')\n",
    ")\n",
    "\n",
    "unique_gameplays"
   ]
  },
  {
   "cell_type": "code",
   "execution_count": 29,
   "metadata": {},
   "outputs": [
    {
     "data": {
      "text/html": [
       "<div><style>\n",
       ".dataframe > thead > tr,\n",
       ".dataframe > tbody > tr {\n",
       "  text-align: right;\n",
       "  white-space: pre-wrap;\n",
       "}\n",
       "</style>\n",
       "<small>shape: (5, 35)</small><table border=\"1\" class=\"dataframe\"><thead><tr><th>PlayKey</th><th>time</th><th>x</th><th>y</th><th>o</th><th>dir</th><th>GSISID</th><th>PlayerActivity</th><th>ImpactType</th><th>OpponentKey</th><th>InjuryKey</th><th>Angle_Diff</th><th>Displacement</th><th>Speed</th><th>vx</th><th>vy</th><th>omega_dir</th><th>omega_o</th><th>omega_diff</th><th>Position</th><th>Height_m</th><th>Weight_kg</th><th>Chest_rad_m</th><th>px</th><th>py</th><th>moment</th><th>moment_upper</th><th>p_magnitude</th><th>L_dir</th><th>L_diff</th><th>Jx</th><th>Jy</th><th>J_magnitude</th><th>torque</th><th>torque_internal</th></tr><tr><td>str</td><td>f32</td><td>f32</td><td>f32</td><td>f32</td><td>f32</td><td>i32</td><td>cat</td><td>cat</td><td>str</td><td>str</td><td>f32</td><td>f32</td><td>f32</td><td>f32</td><td>f32</td><td>f32</td><td>f32</td><td>f32</td><td>cat</td><td>f32</td><td>f32</td><td>f32</td><td>f32</td><td>f32</td><td>f32</td><td>f32</td><td>f32</td><td>f32</td><td>f32</td><td>f32</td><td>f32</td><td>f32</td><td>f32</td><td>f32</td></tr></thead><tbody><tr><td>&quot;31023-29-538&quot;</td><td>0.0</td><td>89.660004</td><td>46.279999</td><td>97.72998</td><td>165.809998</td><td>31023</td><td>&quot;Tackling&quot;</td><td>&quot;Helmet-to-body&quot;</td><td>&quot;31941-29-538&quot;</td><td>&quot;31023-29-538&quot;</td><td>68.080002</td><td>null</td><td>null</td><td>null</td><td>null</td><td>null</td><td>null</td><td>null</td><td>&quot;WR&quot;</td><td>1.88</td><td>90.699997</td><td>0.191</td><td>null</td><td>null</td><td>1.654413</td><td>1.158089</td><td>null</td><td>null</td><td>null</td><td>null</td><td>null</td><td>null</td><td>null</td><td>null</td></tr><tr><td>&quot;31023-29-538&quot;</td><td>0.1</td><td>89.650002</td><td>46.299999</td><td>96.940002</td><td>172.790009</td><td>31023</td><td>&quot;Tackling&quot;</td><td>&quot;Helmet-to-body&quot;</td><td>&quot;31941-29-538&quot;</td><td>&quot;31023-29-538&quot;</td><td>75.849998</td><td>0.022362</td><td>0.22362</td><td>-0.100021</td><td>0.200005</td><td>1.218243</td><td>-0.137876</td><td>1.356119</td><td>&quot;WR&quot;</td><td>1.88</td><td>90.699997</td><td>0.191</td><td>-9.071938</td><td>18.140415</td><td>1.654413</td><td>1.158089</td><td>20.282375</td><td>2.015477</td><td>1.570507</td><td>null</td><td>null</td><td>null</td><td>null</td><td>null</td></tr><tr><td>&quot;31023-29-538&quot;</td><td>0.2</td><td>89.639999</td><td>46.290001</td><td>96.100006</td><td>179.269989</td><td>31023</td><td>&quot;Tackling&quot;</td><td>&quot;Helmet-to-body&quot;</td><td>&quot;31941-29-538&quot;</td><td>&quot;31023-29-538&quot;</td><td>83.169998</td><td>0.014142</td><td>0.141425</td><td>-0.100021</td><td>-0.099983</td><td>1.13097</td><td>-0.146608</td><td>1.277578</td><td>&quot;WR&quot;</td><td>1.88</td><td>90.699997</td><td>0.191</td><td>-9.071938</td><td>-9.068478</td><td>1.654413</td><td>1.158089</td><td>12.82721</td><td>1.871091</td><td>1.479549</td><td>0.0</td><td>-27.208893</td><td>27.208893</td><td>-1.443858</td><td>-0.909575</td></tr><tr><td>&quot;31023-29-538&quot;</td><td>0.3</td><td>89.629997</td><td>46.27</td><td>95.220001</td><td>175.76001</td><td>31023</td><td>&quot;Tackling&quot;</td><td>&quot;Helmet-to-body&quot;</td><td>&quot;31941-29-538&quot;</td><td>&quot;31023-29-538&quot;</td><td>80.540001</td><td>0.022362</td><td>0.22362</td><td>-0.100021</td><td>-0.200005</td><td>-0.612605</td><td>-0.15359</td><td>0.459014</td><td>&quot;WR&quot;</td><td>1.88</td><td>90.699997</td><td>0.191</td><td>-9.071938</td><td>-18.140415</td><td>1.654413</td><td>1.158089</td><td>20.282375</td><td>-1.013501</td><td>0.531579</td><td>0.0</td><td>-9.071938</td><td>9.071938</td><td>-28.845924</td><td>-9.479699</td></tr><tr><td>&quot;31023-29-538&quot;</td><td>0.4</td><td>89.610001</td><td>46.27</td><td>93.910004</td><td>172.970001</td><td>31023</td><td>&quot;Tackling&quot;</td><td>&quot;Helmet-to-body&quot;</td><td>&quot;31941-29-538&quot;</td><td>&quot;31023-29-538&quot;</td><td>79.059998</td><td>0.019997</td><td>0.199966</td><td>-0.199966</td><td>0.0</td><td>-0.486951</td><td>-0.228637</td><td>0.258313</td><td>&quot;WR&quot;</td><td>1.88</td><td>90.699997</td><td>0.191</td><td>-18.136955</td><td>0.0</td><td>1.654413</td><td>1.158089</td><td>18.136955</td><td>-0.805618</td><td>0.29915</td><td>-9.065018</td><td>18.140415</td><td>20.27928</td><td>2.078832</td><td>-2.324294</td></tr></tbody></table></div>"
      ],
      "text/plain": [
       "shape: (5, 35)\n",
       "┌────────────┬──────┬───────────┬───────────┬───┬────────────┬────────────┬────────────┬───────────┐\n",
       "│ PlayKey    ┆ time ┆ x         ┆ y         ┆ … ┆ Jy         ┆ J_magnitud ┆ torque     ┆ torque_in │\n",
       "│ ---        ┆ ---  ┆ ---       ┆ ---       ┆   ┆ ---        ┆ e          ┆ ---        ┆ ternal    │\n",
       "│ str        ┆ f32  ┆ f32       ┆ f32       ┆   ┆ f32        ┆ ---        ┆ f32        ┆ ---       │\n",
       "│            ┆      ┆           ┆           ┆   ┆            ┆ f32        ┆            ┆ f32       │\n",
       "╞════════════╪══════╪═══════════╪═══════════╪═══╪════════════╪════════════╪════════════╪═══════════╡\n",
       "│ 31023-29-5 ┆ 0.0  ┆ 89.660004 ┆ 46.279999 ┆ … ┆ null       ┆ null       ┆ null       ┆ null      │\n",
       "│ 38         ┆      ┆           ┆           ┆   ┆            ┆            ┆            ┆           │\n",
       "│ 31023-29-5 ┆ 0.1  ┆ 89.650002 ┆ 46.299999 ┆ … ┆ null       ┆ null       ┆ null       ┆ null      │\n",
       "│ 38         ┆      ┆           ┆           ┆   ┆            ┆            ┆            ┆           │\n",
       "│ 31023-29-5 ┆ 0.2  ┆ 89.639999 ┆ 46.290001 ┆ … ┆ -27.208893 ┆ 27.208893  ┆ -1.443858  ┆ -0.909575 │\n",
       "│ 38         ┆      ┆           ┆           ┆   ┆            ┆            ┆            ┆           │\n",
       "│ 31023-29-5 ┆ 0.3  ┆ 89.629997 ┆ 46.27     ┆ … ┆ -9.071938  ┆ 9.071938   ┆ -28.845924 ┆ -9.479699 │\n",
       "│ 38         ┆      ┆           ┆           ┆   ┆            ┆            ┆            ┆           │\n",
       "│ 31023-29-5 ┆ 0.4  ┆ 89.610001 ┆ 46.27     ┆ … ┆ 18.140415  ┆ 20.27928   ┆ 2.078832   ┆ -2.324294 │\n",
       "│ 38         ┆      ┆           ┆           ┆   ┆            ┆            ┆            ┆           │\n",
       "└────────────┴──────┴───────────┴───────────┴───┴────────────┴────────────┴────────────┴───────────┘"
      ]
     },
     "execution_count": 29,
     "metadata": {},
     "output_type": "execute_result"
    }
   ],
   "source": [
    "path = \"F:/Data/Clean_Data/\"\n",
    "file = \"TrackingConcussions.parquet\"\n",
    "df = pl.read_parquet(os.path.join(path, file))\n",
    "df.head()"
   ]
  },
  {
   "cell_type": "code",
   "execution_count": 30,
   "metadata": {},
   "outputs": [
    {
     "data": {
      "text/plain": [
       "39777"
      ]
     },
     "execution_count": 30,
     "metadata": {},
     "output_type": "execute_result"
    }
   ],
   "source": [
    "len(df)"
   ]
  },
  {
   "cell_type": "code",
   "execution_count": 31,
   "metadata": {},
   "outputs": [
    {
     "data": {
      "text/plain": [
       "61972"
      ]
     },
     "execution_count": 31,
     "metadata": {},
     "output_type": "execute_result"
    }
   ],
   "source": [
    "len(All_Tracking)"
   ]
  },
  {
   "cell_type": "code",
   "execution_count": 36,
   "metadata": {},
   "outputs": [
    {
     "data": {
      "text/html": [
       "<div><style>\n",
       ".dataframe > thead > tr,\n",
       ".dataframe > tbody > tr {\n",
       "  text-align: right;\n",
       "  white-space: pre-wrap;\n",
       "}\n",
       "</style>\n",
       "<small>shape: (5, 31)</small><table border=\"1\" class=\"dataframe\"><thead><tr><th>PlayKey</th><th>x</th><th>y</th><th>o</th><th>dir</th><th>GSISID</th><th>time</th><th>Angle_Diff</th><th>Position</th><th>Height_m</th><th>Weight_kg</th><th>Chest_rad_m</th><th>Displacement</th><th>Speed</th><th>vx</th><th>vy</th><th>omega_dir</th><th>omega_o</th><th>omega_diff</th><th>px</th><th>py</th><th>moment</th><th>moment_upper</th><th>p_magnitude</th><th>L_dir</th><th>L_diff</th><th>Jx</th><th>Jy</th><th>J_magnitude</th><th>torque</th><th>torque_internal</th></tr><tr><td>str</td><td>f32</td><td>f32</td><td>f32</td><td>f32</td><td>i32</td><td>f32</td><td>f32</td><td>cat</td><td>f32</td><td>f32</td><td>f32</td><td>f32</td><td>f32</td><td>f32</td><td>f32</td><td>f32</td><td>f32</td><td>f32</td><td>f32</td><td>f32</td><td>f32</td><td>f32</td><td>f32</td><td>f32</td><td>f32</td><td>f32</td><td>f32</td><td>f32</td><td>f32</td><td>f32</td></tr></thead><tbody><tr><td>&quot;19714-322-1031&quot;</td><td>8.26</td><td>23.6</td><td>-77.75</td><td>68.830002</td><td>19714</td><td>0.0</td><td>146.580002</td><td>&quot;P&quot;</td><td>1.88</td><td>97.519997</td><td>0.191</td><td>null</td><td>null</td><td>null</td><td>null</td><td>null</td><td>null</td><td>null</td><td>null</td><td>null</td><td>0.296469</td><td>0.207528</td><td>null</td><td>null</td><td>null</td><td>null</td><td>null</td><td>null</td><td>null</td><td>null</td></tr><tr><td>&quot;19714-322-1031&quot;</td><td>8.27</td><td>23.620001</td><td>-79.32</td><td>57.130005</td><td>19714</td><td>0.1</td><td>136.449997</td><td>&quot;P&quot;</td><td>1.88</td><td>97.519997</td><td>0.191</td><td>0.022361</td><td>0.223612</td><td>0.100002</td><td>0.200005</td><td>-2.042036</td><td>-0.274017</td><td>1.768019</td><td>9.752223</td><td>19.504446</td><td>0.296469</td><td>0.207528</td><td>21.806633</td><td>-0.6054</td><td>0.366914</td><td>null</td><td>null</td><td>null</td><td>null</td><td>null</td></tr><tr><td>&quot;19714-322-1031&quot;</td><td>8.26</td><td>23.639999</td><td>-80.57</td><td>57.630005</td><td>19714</td><td>0.2</td><td>138.199997</td><td>&quot;P&quot;</td><td>1.88</td><td>97.519997</td><td>0.191</td><td>0.022359</td><td>0.223595</td><td>-0.100002</td><td>0.199986</td><td>0.087267</td><td>-0.218166</td><td>0.305433</td><td>-9.752223</td><td>19.502586</td><td>0.296469</td><td>0.207528</td><td>21.80497</td><td>0.025872</td><td>0.063386</td><td>-19.504446</td><td>-0.00186</td><td>19.504446</td><td>6.312719</td><td>-3.03528</td></tr><tr><td>&quot;19714-322-1031&quot;</td><td>8.26</td><td>23.66</td><td>-81.660004</td><td>56.130005</td><td>19714</td><td>0.3</td><td>137.789993</td><td>&quot;P&quot;</td><td>1.88</td><td>97.519997</td><td>0.191</td><td>0.02</td><td>0.200005</td><td>0.0</td><td>0.200005</td><td>-0.2618</td><td>-0.190241</td><td>0.071558</td><td>0.0</td><td>19.504446</td><td>0.296469</td><td>0.207528</td><td>19.504446</td><td>-0.077615</td><td>0.01485</td><td>9.752223</td><td>0.00186</td><td>9.752223</td><td>-1.034873</td><td>-0.485355</td></tr><tr><td>&quot;19714-322-1031&quot;</td><td>8.25</td><td>23.65</td><td>-83.580002</td><td>52.259995</td><td>19714</td><td>0.4</td><td>135.839996</td><td>&quot;P&quot;</td><td>1.88</td><td>97.519997</td><td>0.191</td><td>0.014142</td><td>0.141425</td><td>-0.100002</td><td>-0.100002</td><td>-0.675443</td><td>-0.335103</td><td>0.34034</td><td>-9.752223</td><td>-9.752223</td><td>0.296469</td><td>0.207528</td><td>13.791726</td><td>-0.200248</td><td>0.07063</td><td>-9.752223</td><td>-29.256668</td><td>30.839235</td><td>-1.226325</td><td>0.557798</td></tr></tbody></table></div>"
      ],
      "text/plain": [
       "shape: (5, 31)\n",
       "┌────────────┬──────┬───────────┬────────────┬───┬────────────┬────────────┬───────────┬───────────┐\n",
       "│ PlayKey    ┆ x    ┆ y         ┆ o          ┆ … ┆ Jy         ┆ J_magnitud ┆ torque    ┆ torque_in │\n",
       "│ ---        ┆ ---  ┆ ---       ┆ ---        ┆   ┆ ---        ┆ e          ┆ ---       ┆ ternal    │\n",
       "│ str        ┆ f32  ┆ f32       ┆ f32        ┆   ┆ f32        ┆ ---        ┆ f32       ┆ ---       │\n",
       "│            ┆      ┆           ┆            ┆   ┆            ┆ f32        ┆           ┆ f32       │\n",
       "╞════════════╪══════╪═══════════╪════════════╪═══╪════════════╪════════════╪═══════════╪═══════════╡\n",
       "│ 19714-322- ┆ 8.26 ┆ 23.6      ┆ -77.75     ┆ … ┆ null       ┆ null       ┆ null      ┆ null      │\n",
       "│ 1031       ┆      ┆           ┆            ┆   ┆            ┆            ┆           ┆           │\n",
       "│ 19714-322- ┆ 8.27 ┆ 23.620001 ┆ -79.32     ┆ … ┆ null       ┆ null       ┆ null      ┆ null      │\n",
       "│ 1031       ┆      ┆           ┆            ┆   ┆            ┆            ┆           ┆           │\n",
       "│ 19714-322- ┆ 8.26 ┆ 23.639999 ┆ -80.57     ┆ … ┆ -0.00186   ┆ 19.504446  ┆ 6.312719  ┆ -3.03528  │\n",
       "│ 1031       ┆      ┆           ┆            ┆   ┆            ┆            ┆           ┆           │\n",
       "│ 19714-322- ┆ 8.26 ┆ 23.66     ┆ -81.660004 ┆ … ┆ 0.00186    ┆ 9.752223   ┆ -1.034873 ┆ -0.485355 │\n",
       "│ 1031       ┆      ┆           ┆            ┆   ┆            ┆            ┆           ┆           │\n",
       "│ 19714-322- ┆ 8.25 ┆ 23.65     ┆ -83.580002 ┆ … ┆ -29.256668 ┆ 30.839235  ┆ -1.226325 ┆ 0.557798  │\n",
       "│ 1031       ┆      ┆           ┆            ┆   ┆            ┆            ┆           ┆           │\n",
       "└────────────┴──────┴───────────┴────────────┴───┴────────────┴────────────┴───────────┴───────────┘"
      ]
     },
     "execution_count": 36,
     "metadata": {},
     "output_type": "execute_result"
    }
   ],
   "source": [
    "path = \"F:/Data/Processing_data/concussion_output\"\n",
    "file = \"NGS-2016-post.parquet\"\n",
    "df = pl.read_parquet(os.path.join(path, file))\n",
    "df.head()"
   ]
  },
  {
   "cell_type": "code",
   "execution_count": 37,
   "metadata": {},
   "outputs": [
    {
     "data": {
      "text/plain": [
       "1175924"
      ]
     },
     "execution_count": 37,
     "metadata": {},
     "output_type": "execute_result"
    }
   ],
   "source": [
    "len(df)"
   ]
  }
 ],
 "metadata": {
  "kernelspec": {
   "display_name": "injury_env",
   "language": "python",
   "name": "python3"
  },
  "language_info": {
   "codemirror_mode": {
    "name": "ipython",
    "version": 3
   },
   "file_extension": ".py",
   "mimetype": "text/x-python",
   "name": "python",
   "nbconvert_exporter": "python",
   "pygments_lexer": "ipython3",
   "version": "3.9.19"
  }
 },
 "nbformat": 4,
 "nbformat_minor": 2
}
