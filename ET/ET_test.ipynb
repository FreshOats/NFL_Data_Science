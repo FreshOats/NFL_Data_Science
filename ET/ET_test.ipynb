{
 "cells": [
  {
   "cell_type": "code",
   "execution_count": 1,
   "metadata": {},
   "outputs": [],
   "source": [
    "from QuantitativeCleaner import *"
   ]
  },
  {
   "cell_type": "code",
   "execution_count": 2,
   "metadata": {},
   "outputs": [],
   "source": [
    "# Read Path\n",
    "optimized_path = \"F:/Data/Processing_data/OptimizedTrackData.parquet\"\n",
    "\n",
    "# Write paths\n",
    "group_dir = \"F:/Data/Processing_data/injury_output\"\n",
    "main_dir = \"F:/Data/Processing_data/\""
   ]
  },
  {
   "cell_type": "code",
   "execution_count": 3,
   "metadata": {},
   "outputs": [],
   "source": [
    "# optimize_injury_data()"
   ]
  },
  {
   "cell_type": "code",
   "execution_count": 4,
   "metadata": {},
   "outputs": [],
   "source": [
    "# process_file(optimized_path, group_dir)"
   ]
  },
  {
   "cell_type": "code",
   "execution_count": 6,
   "metadata": {},
   "outputs": [],
   "source": [
    "#### Tracking Output\n",
    "def tracking_injuries(group_dir, main_dir):\n",
    "    from DataHandler import data_loader\n",
    "    import polars as pl # type: ignore\n",
    "    import os\n",
    "\n",
    "    # Read in the PlayKeys from the injury file to isolate PlayKeys associated with injury paths\n",
    "    injuryPlayKeys = data_loader('injuries')\n",
    "    PlayKeys = injuryPlayKeys.select(\"PlayKey\").unique().with_columns([\n",
    "            pl.col(\"PlayKey\").cast(pl.Utf8)\n",
    "            ])\n",
    "\n",
    "    # Initialize an empty list to store dataframes\n",
    "    filtered_dfs = []\n",
    "\n",
    "    # Iterate through files in the directory\n",
    "    for file in os.listdir(group_dir):\n",
    "        if file.startswith(\"group_\"):\n",
    "            file_path = os.path.join(group_dir, file)\n",
    "            \n",
    "            # Read the Parquet file\n",
    "            df = pl.read_parquet(file_path)\n",
    "            \n",
    "            # Inner join with unique_gsisid to filter rows - Using inner since this is going to Viz and we need all data there. \n",
    "            filtered_df = df.join(PlayKeys, on=\"PlayKey\", how=\"inner\")\n",
    "            \n",
    "            # Append to the list of filtered dataframes\n",
    "            filtered_dfs.append(filtered_df)\n",
    "\n",
    "    # Concatenate all filtered dataframes\n",
    "    final_df = pl.concat(filtered_dfs)\n",
    "\n",
    "    # Save the concatenated dataframe\n",
    "    final_df.write_parquet(os.path.join(main_dir, \"TrackingInjuries.parquet\"))\n",
    "\n",
    "    print(\"Processing complete. Filtered summary dataframe saved as 'TrackingInjuries.parquet'\")"
   ]
  },
  {
   "cell_type": "code",
   "execution_count": 7,
   "metadata": {},
   "outputs": [
    {
     "ename": "StringCacheMismatchError",
     "evalue": "cannot compare categoricals coming from different sources, consider setting a global StringCache.\n\nHelp: if you're using Python, this may look something like:\n\n    with pl.StringCache():\n        # Initialize Categoricals.\n        df1 = pl.DataFrame({'a': ['1', '2']}, schema={'a': pl.Categorical})\n        df2 = pl.DataFrame({'a': ['1', '3']}, schema={'a': pl.Categorical})\n    # Your operations go here.\n    pl.concat([df1, df2])\n\nAlternatively, if the performance cost is acceptable, you could just set:\n\n    import polars as pl\n    pl.enable_string_cache()\n\non startup.",
     "output_type": "error",
     "traceback": [
      "\u001b[1;31m---------------------------------------------------------------------------\u001b[0m",
      "\u001b[1;31mStringCacheMismatchError\u001b[0m                  Traceback (most recent call last)",
      "Input \u001b[1;32mIn [7]\u001b[0m, in \u001b[0;36m<cell line: 1>\u001b[1;34m()\u001b[0m\n\u001b[1;32m----> 1\u001b[0m \u001b[43mtracking_injuries\u001b[49m\u001b[43m(\u001b[49m\u001b[43mgroup_dir\u001b[49m\u001b[43m,\u001b[49m\u001b[43m \u001b[49m\u001b[43mmain_dir\u001b[49m\u001b[43m)\u001b[49m\n",
      "Input \u001b[1;32mIn [6]\u001b[0m, in \u001b[0;36mtracking_injuries\u001b[1;34m(group_dir, main_dir)\u001b[0m\n\u001b[0;32m     28\u001b[0m         filtered_dfs\u001b[38;5;241m.\u001b[39mappend(filtered_df)\n\u001b[0;32m     30\u001b[0m \u001b[38;5;66;03m# Concatenate all filtered dataframes\u001b[39;00m\n\u001b[1;32m---> 31\u001b[0m final_df \u001b[38;5;241m=\u001b[39m \u001b[43mpl\u001b[49m\u001b[38;5;241;43m.\u001b[39;49m\u001b[43mconcat\u001b[49m\u001b[43m(\u001b[49m\u001b[43mfiltered_dfs\u001b[49m\u001b[43m)\u001b[49m\n\u001b[0;32m     33\u001b[0m \u001b[38;5;66;03m# Save the concatenated dataframe\u001b[39;00m\n\u001b[0;32m     34\u001b[0m final_df\u001b[38;5;241m.\u001b[39mwrite_parquet(os\u001b[38;5;241m.\u001b[39mpath\u001b[38;5;241m.\u001b[39mjoin(main_dir, \u001b[38;5;124m\"\u001b[39m\u001b[38;5;124mTrackingInjuries.parquet\u001b[39m\u001b[38;5;124m\"\u001b[39m))\n",
      "File \u001b[1;32mc:\\Users\\justi\\anaconda3\\envs\\PythonData\\lib\\site-packages\\polars\\functions\\eager.py:182\u001b[0m, in \u001b[0;36mconcat\u001b[1;34m(items, how, rechunk, parallel)\u001b[0m\n\u001b[0;32m    180\u001b[0m \u001b[38;5;28;01mif\u001b[39;00m \u001b[38;5;28misinstance\u001b[39m(first, pl\u001b[38;5;241m.\u001b[39mDataFrame):\n\u001b[0;32m    181\u001b[0m     \u001b[38;5;28;01mif\u001b[39;00m how \u001b[38;5;241m==\u001b[39m \u001b[38;5;124m\"\u001b[39m\u001b[38;5;124mvertical\u001b[39m\u001b[38;5;124m\"\u001b[39m:\n\u001b[1;32m--> 182\u001b[0m         out \u001b[38;5;241m=\u001b[39m wrap_df(\u001b[43mplr\u001b[49m\u001b[38;5;241;43m.\u001b[39;49m\u001b[43mconcat_df\u001b[49m\u001b[43m(\u001b[49m\u001b[43melems\u001b[49m\u001b[43m)\u001b[49m)\n\u001b[0;32m    183\u001b[0m     \u001b[38;5;28;01melif\u001b[39;00m how \u001b[38;5;241m==\u001b[39m \u001b[38;5;124m\"\u001b[39m\u001b[38;5;124mvertical_relaxed\u001b[39m\u001b[38;5;124m\"\u001b[39m:\n\u001b[0;32m    184\u001b[0m         out \u001b[38;5;241m=\u001b[39m wrap_ldf(\n\u001b[0;32m    185\u001b[0m             plr\u001b[38;5;241m.\u001b[39mconcat_lf(\n\u001b[0;32m    186\u001b[0m                 [df\u001b[38;5;241m.\u001b[39mlazy() \u001b[38;5;28;01mfor\u001b[39;00m df \u001b[38;5;129;01min\u001b[39;00m elems],\n\u001b[1;32m   (...)\u001b[0m\n\u001b[0;32m    190\u001b[0m             )\n\u001b[0;32m    191\u001b[0m         )\u001b[38;5;241m.\u001b[39mcollect(no_optimization\u001b[38;5;241m=\u001b[39m\u001b[38;5;28;01mTrue\u001b[39;00m)\n",
      "\u001b[1;31mStringCacheMismatchError\u001b[0m: cannot compare categoricals coming from different sources, consider setting a global StringCache.\n\nHelp: if you're using Python, this may look something like:\n\n    with pl.StringCache():\n        # Initialize Categoricals.\n        df1 = pl.DataFrame({'a': ['1', '2']}, schema={'a': pl.Categorical})\n        df2 = pl.DataFrame({'a': ['1', '3']}, schema={'a': pl.Categorical})\n    # Your operations go here.\n    pl.concat([df1, df2])\n\nAlternatively, if the performance cost is acceptable, you could just set:\n\n    import polars as pl\n    pl.enable_string_cache()\n\non startup."
     ]
    }
   ],
   "source": [
    "tracking_injuries(group_dir, main_dir)"
   ]
  }
 ],
 "metadata": {
  "kernelspec": {
   "display_name": "PythonData",
   "language": "python",
   "name": "python3"
  },
  "language_info": {
   "codemirror_mode": {
    "name": "ipython",
    "version": 3
   },
   "file_extension": ".py",
   "mimetype": "text/x-python",
   "name": "python",
   "nbconvert_exporter": "python",
   "pygments_lexer": "ipython3",
   "version": "3.9.12"
  }
 },
 "nbformat": 4,
 "nbformat_minor": 2
}
