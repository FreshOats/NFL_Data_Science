{
 "cells": [
  {
   "cell_type": "code",
   "execution_count": 1,
   "metadata": {},
   "outputs": [],
   "source": [
    "from QuantitativeCleaner import *"
   ]
  },
  {
   "cell_type": "code",
   "execution_count": null,
   "metadata": {},
   "outputs": [],
   "source": [
    "# Read Path\n",
    "optimized_path = \"F:/Data/Processing_data/OptimizedTrackData.parquet\"\n",
    "\n",
    "# Write paths\n",
    "group_dir = \"F:/Data/Processing_data/injury_output\"\n",
    "main_dir = \"F:/Data/Processing_data/\""
   ]
  },
  {
   "cell_type": "code",
   "execution_count": null,
   "metadata": {},
   "outputs": [],
   "source": [
    "# optimize_injury_data()"
   ]
  },
  {
   "cell_type": "code",
   "execution_count": null,
   "metadata": {},
   "outputs": [],
   "source": [
    "# process_file(optimized_path, group_dir)"
   ]
  },
  {
   "cell_type": "code",
   "execution_count": null,
   "metadata": {},
   "outputs": [],
   "source": [
    "#### Tracking Output\n",
    "def tracking_injuries(group_dir, main_dir):\n",
    "    from DataHandler import data_loader\n",
    "    import os\n",
    "    import polars as pl # type: ignore\n",
    "    pl.enable_string_cache()\n",
    "\n",
    "    # Read in the PlayKeys from the injury file to isolate PlayKeys associated with injury paths\n",
    "    injuryPlayKeys = data_loader('injuries')\n",
    "    PlayKeys = injuryPlayKeys.select(\"PlayKey\").unique().with_columns([\n",
    "            pl.col(\"PlayKey\").cast(pl.Utf8)\n",
    "            ])\n",
    "\n",
    "    # Initialize an empty list to store dataframes\n",
    "    filtered_dfs = []\n",
    "\n",
    "    # Iterate through files in the directory\n",
    "    for file in os.listdir(group_dir):\n",
    "        if file.startswith(\"group_\"):\n",
    "            file_path = os.path.join(group_dir, file)\n",
    "            \n",
    "            # Read the Parquet file\n",
    "            df = pl.read_parquet(file_path)\n",
    "            \n",
    "            # Ensure PlayKey is of type Utf8\n",
    "            df = df.with_columns(pl.col(\"PlayKey\").cast(pl.Utf8))\n",
    "            \n",
    "            # Inner join with unique_gsisid to filter rows\n",
    "            filtered_df = df.join(PlayKeys, on=\"PlayKey\", how=\"inner\")\n",
    "            \n",
    "            # Append to the list of filtered dataframes\n",
    "            filtered_dfs.append(filtered_df)\n",
    "\n",
    "    # Concatenate all filtered dataframes\n",
    "    final_df = pl.concat(filtered_dfs)\n",
    "\n",
    "    # Save the concatenated dataframe\n",
    "    final_df.write_parquet(os.path.join(main_dir, \"TrackingInjuries.parquet\"))\n",
    "\n",
    "    print(\"Processing complete. Filtered summary dataframe saved as 'TrackingInjuries.parquet'\")"
   ]
  },
  {
   "cell_type": "code",
   "execution_count": null,
   "metadata": {},
   "outputs": [],
   "source": [
    "tracking_injuries(group_dir, main_dir)"
   ]
  },
  {
   "cell_type": "code",
   "execution_count": null,
   "metadata": {},
   "outputs": [],
   "source": [
    "from QualitativeCleaner import *\n",
    "from DataHandler import parquet_writer, data_shrinker"
   ]
  },
  {
   "cell_type": "code",
   "execution_count": null,
   "metadata": {},
   "outputs": [],
   "source": [
    "df = table_joiner('injury')\n",
    "df = injury_interpolator(df, 'injury')\n",
    "df = stadium_cleaner(df)\n",
    "df = weather_cleaner(df)\n",
    "df, schema = data_shrinker(df)\n",
    "\n",
    "\n",
    "df.head()"
   ]
  },
  {
   "cell_type": "code",
   "execution_count": null,
   "metadata": {},
   "outputs": [],
   "source": [
    "##### Primary Injury Cleaning Function #####\n",
    "def clean_injury_qual():\n",
    "    \"\"\"\n",
    "    Applies data cleaning to surface injury data and writes to 'qualitative_injuries' as a csv file \n",
    "    \"\"\"\n",
    "    from DataHandler import parquet_writer, data_shrinker\n",
    "    import os \n",
    "\n",
    "    analysis = \"injury\"\n",
    "    injury_qual_path = \"F:/Data/Processing_data/QualitativeInjuries.parquet\"\n",
    "\n",
    "\n",
    "    df = table_joiner(analysis) \n",
    "    df = injury_interpolator(df, analysis)\n",
    "    df = stadium_cleaner(df)\n",
    "    df = weather_cleaner(df)\n",
    "    df, schema = data_shrinker(df)\n",
    "    df.write_parquet(injury_qual_path)\n",
    "\n",
    "    print('Injuries have been cleaned and dressed.')\n",
    "    # return df\n"
   ]
  },
  {
   "cell_type": "code",
   "execution_count": null,
   "metadata": {},
   "outputs": [],
   "source": [
    "clean_injury_qual()"
   ]
  },
  {
   "cell_type": "code",
   "execution_count": null,
   "metadata": {},
   "outputs": [],
   "source": [
    "##### Primary Concussion Cleaning Function #####\n",
    "def clean_concussions(): \n",
    "    \"\"\"\n",
    "    Applies data cleaning to surface injury data and writes to 'qualitative_injuries' as a csv file \n",
    "    \"\"\"\n",
    "    from DataHandler import parquet_writer, data_shrinker\n",
    "\n",
    "    analysis = \"concussion\"\n",
    "    concussion_qual_path = \"F:/Data/Processing_data/QualitativeConcussions.parquet\"\n",
    "    \n",
    "    df = table_joiner(analysis)\n",
    "    df = injury_interpolator(df, analysis)\n",
    "    df = stadium_cleaner(df)\n",
    "    df = weather_cleaner(df)\n",
    "    df = turf_cleaner(df)\n",
    "    df = cancellation_cleaner(df)\n",
    "    df = score_splitter(df)\n",
    "    df, schema = data_shrinker(df)\n",
    "    df.write_parquet(concussion_qual_path)\n",
    "    del df\n",
    "\n",
    "    print('Concussions have been assessed and cleared for play.')\n",
    "    # return df"
   ]
  },
  {
   "cell_type": "code",
   "execution_count": null,
   "metadata": {},
   "outputs": [],
   "source": [
    "clean_concussions()"
   ]
  },
  {
   "cell_type": "code",
   "execution_count": null,
   "metadata": {},
   "outputs": [],
   "source": [
    "from QuantitativeCleaner import *"
   ]
  },
  {
   "cell_type": "code",
   "execution_count": null,
   "metadata": {},
   "outputs": [],
   "source": [
    "injury_summary_maker(group_dir = \"F:/Data/Processing_data/injury_output\")"
   ]
  },
  {
   "cell_type": "code",
   "execution_count": null,
   "metadata": {},
   "outputs": [],
   "source": [
    "import polars as pl\n",
    "\n",
    "len(pl.read_parquet(\"F:/Data/Processing_data/Full_Summary_Injuries.parquet\"))"
   ]
  },
  {
   "cell_type": "markdown",
   "metadata": {},
   "source": [
    "# Concussion Data"
   ]
  },
  {
   "cell_type": "code",
   "execution_count": null,
   "metadata": {},
   "outputs": [],
   "source": [
    "df = pl.read_csv(\"F:/Data/NFL-Punt-Analytics-Competition/NGS-2017-post.csv\")"
   ]
  },
  {
   "cell_type": "code",
   "execution_count": null,
   "metadata": {},
   "outputs": [],
   "source": [
    "df.head()"
   ]
  },
  {
   "cell_type": "code",
   "execution_count": null,
   "metadata": {},
   "outputs": [],
   "source": [
    "pl.read_parquet(\"F:/Data/Processing_data/TrackingInjuries.parquet\").head()"
   ]
  },
  {
   "cell_type": "code",
   "execution_count": null,
   "metadata": {},
   "outputs": [],
   "source": [
    "from QuantitativeCleaner import *\n",
    "import polars as pl\n",
    "import os\n",
    "\n",
    "\n",
    "source_dir = \"F:/Data/NFL-Punt-Analytics-Competition/\"\n",
    "concussion_dir = \"F:/Data/Processing_data/concussion_output\"\n",
    "\n",
    "os.makedirs(concussion_dir, exist_ok=True)"
   ]
  },
  {
   "cell_type": "code",
   "execution_count": null,
   "metadata": {},
   "outputs": [],
   "source": [
    "df_test, schema = data_shrinker(df)\n",
    "df_test.head()"
   ]
  },
  {
   "cell_type": "code",
   "execution_count": null,
   "metadata": {},
   "outputs": [],
   "source": [
    "def column_corrector(df):\n",
    "    import polars as pl # type: ignore\n",
    "    \"\"\"\n",
    "    Add a Play_Time column that acts like the 'time' column did in the injury dataset. \n",
    "    Each PlayKey will start at 0.0 and increase by 0.1 for each subsequent record.\n",
    "    \"\"\"\n",
    "    df = df.with_columns([\n",
    "        pl.concat_str([\n",
    "            pl.col('GSISID').cast(pl.Int32).cast(pl.Utf8)\n",
    "            , pl.lit('-')\n",
    "            , pl.col('GameKey').cast(pl.Utf8)\n",
    "            , pl.lit('-')\n",
    "            , pl.col('PlayID').cast(pl.Utf8)\n",
    "        ]).alias('PlayKey')\n",
    "    ])\n",
    "     \n",
    "    \n",
    "    df = df.select([\n",
    "        'PlayKey'\n",
    "        , 'Time'\n",
    "        , 'x'\n",
    "        , 'y'\n",
    "        , 'o'\n",
    "        , 'dir'\n",
    "        , 'GSISID'\n",
    "        ]).rename({\"Time\":\"DateTime\"})\n",
    "\n",
    "    df = df.sort(['PlayKey', 'DateTime'])\n",
    "\n",
    "    df = df.with_columns(\n",
    "        (pl.arange(0, pl.len()) * 0.1).over(\"PlayKey\").cast(pl.Float32).alias(\"time\")\n",
    "        ).with_columns([pl.col('GSISID').cast(pl.Int32)])  \n",
    "    \n",
    "    df = df.drop(['DateTime'])\n",
    "    \n",
    "    return df"
   ]
  },
  {
   "cell_type": "code",
   "execution_count": null,
   "metadata": {},
   "outputs": [],
   "source": [
    "def body_builder_conc(df):\n",
    "    \"\"\"\n",
    "    This uses averages collected for height, weight, and chest radius for each position. This information\n",
    "    is used to determine the momentum and impulse rather than just looking at velocities in the analysis. Chest\n",
    "    radius is needed for angular moment of inertia as a rotating cylinder.\n",
    "    The data here are cast as f32 to reduce the size of these columns as well as in all future calculations, where the f64 \n",
    "    gets exponentially larger with application. \n",
    "    \"\"\"\n",
    "    import polars as pl # type: ignore\n",
    "\n",
    "    # Enable global string cache\n",
    "    pl.enable_string_cache()\n",
    "\n",
    "\n",
    "    try:\n",
    "        body_data = pl.DataFrame({\n",
    "            \"Position\": [\"QB\", \"RB\", \"FB\", \"WR\", \"TE\", \"T\", \"G\", \"C\", \"DE\", \"DT\", \"NT\", \"LB\", \"OLB\", \"MLB\", \"CB\", \"S\", \"K\", \"P\", \"SS\", \"ILB\", \"FS\", \"LS\", \"DB\"]\n",
    "            , \"Height_m\": [1.91, 1.79, 1.85, 1.88, 1.96, 1.97, 1.90, 1.87, 1.97, 1.92, 1.88, 1.90, 1.90, 1.87, 1.82, 1.84, 1.83, 1.88, 1.84, 1.90, 1.84, 1.88, 1.82]\n",
    "            , \"Weight_kg\": [102.1, 95.3, 111.1, 90.7, 114.6, 140.6, 141.8, 136.1, 120.2, 141.8, 152.0, 110.0, 108.9, 113.4, 87.4, 95.9, 92.08, 97.52, 95.9, 110.0, 95.9, 108.86, 87.4]\n",
    "            , \"Chest_rad_m\": [0.191, 0.191, 0.191, 0.191, 0.191, 0.191, 0.191, 0.191, 0.191, 0.191, 0.191, 0.191, 0.191, 0.191, 0.191, 0.191, 0.191, 0.191, 0.191, 0.191, 0.191, 0.191, 0.191]\n",
    "        }).with_columns([\n",
    "            pl.col(\"Height_m\").cast(pl.Float32)\n",
    "            , pl.col(\"Weight_kg\").cast(pl.Float32)\n",
    "            , pl.col(\"Chest_rad_m\").cast(pl.Float32)\n",
    "            , pl.col(\"Position\").cast(pl.Categorical)\n",
    "        ])\n",
    "\n",
    "        \n",
    "        Player_path = \"F:/Data/NFL-Punt-Analytics-Competition/player_punt_data.csv\"\n",
    "        position = pl.read_csv(Player_path).select([\"GSISID\", \"Position\"])\n",
    "        position = position.with_columns([\n",
    "            pl.col(\"GSISID\").cast(pl.Int32)\n",
    "            , pl.col(\"Position\").cast(pl.Categorical)\n",
    "        ])\n",
    "\n",
    "        position = position.join(\n",
    "            body_data\n",
    "            , on='Position'\n",
    "            , how='left'\n",
    "        )\n",
    "\n",
    "        df = df.with_columns([\n",
    "            pl.col(\"GSISID\").cast(pl.Int32)\n",
    "        ])\n",
    "\n",
    "        df = df.join(\n",
    "            position\n",
    "            , on='GSISID'\n",
    "            , how='left'\n",
    "        )    \n",
    "\n",
    "        return df.filter(pl.col('Position').is_not_null())    \n",
    "        \n",
    "    except Exception as e: \n",
    "        print(f\"An error occurred during body_builder: {e}\")\n",
    "        return None"
   ]
  },
  {
   "cell_type": "code",
   "execution_count": null,
   "metadata": {},
   "outputs": [],
   "source": [
    "review = pl.read_csv(\"F:/Data/NFL-Punt-Analytics-Competition/video_review.csv\")"
   ]
  },
  {
   "cell_type": "code",
   "execution_count": null,
   "metadata": {},
   "outputs": [],
   "source": [
    "def clean_review():\n",
    "    review = pl.read_csv(\"F:/Data/NFL-Punt-Analytics-Competition/video_review.csv\")\n",
    "    review, schema = data_shrinker(review)\n",
    "    review = review.with_columns([\n",
    "            pl.concat_str([\n",
    "                pl.col('GSISID').cast(pl.Int32).cast(pl.Utf8)\n",
    "                , pl.lit('-')\n",
    "                , pl.col('GameKey').cast(pl.Utf8)\n",
    "                , pl.lit('-')\n",
    "                , pl.col('PlayID').cast(pl.Utf8)\n",
    "            ]).alias('PlayKey')\n",
    "        ]).drop(['Season_Year', 'GameKey', 'PlayID', 'GSISID', 'Turnover_Related', 'Friendly_Fire'])\n",
    "    \n",
    "    return review"
   ]
  },
  {
   "cell_type": "code",
   "execution_count": null,
   "metadata": {},
   "outputs": [],
   "source": [
    "review = clean_review()"
   ]
  },
  {
   "cell_type": "code",
   "execution_count": null,
   "metadata": {},
   "outputs": [],
   "source": [
    "review.head()"
   ]
  },
  {
   "cell_type": "code",
   "execution_count": null,
   "metadata": {},
   "outputs": [],
   "source": [
    "df_testes = df_test.join(\n",
    "    review\n",
    "    , on=\"PlayKey\"\n",
    "    , how=\"left\"\n",
    ")"
   ]
  },
  {
   "cell_type": "code",
   "execution_count": null,
   "metadata": {},
   "outputs": [],
   "source": [
    "def add_review_data(df):\n",
    "    review = clean_review()\n",
    "\n",
    "    df = df.join(\n",
    "        review\n",
    "        , on=\"PlayKey\"\n",
    "        , how=\"left\"    \n",
    "        )\n",
    "    \n",
    "    return df"
   ]
  },
  {
   "cell_type": "code",
   "execution_count": null,
   "metadata": {},
   "outputs": [],
   "source": [
    "df_test, schema = data_shrinker(df)\n",
    "df_test = column_corrector(df_test)\n",
    "df_test = angle_corrector(df_test)\n",
    "df_test = body_builder_conc(df_test)\n",
    "df_test = velocity_calculator(df_test)\n",
    "df_test = impulse_calculator(df_test)\n",
    "df_test = add_review_data(df_test)\n",
    "df_test.head()"
   ]
  },
  {
   "cell_type": "code",
   "execution_count": null,
   "metadata": {},
   "outputs": [],
   "source": [
    "group_df, schema = data_shrinker(df)\n",
    "group_df = (group_df\n",
    "                .pipe(column_corrector)\n",
    "                .pipe(angle_corrector)\n",
    "                .pipe(body_builder_conc)\n",
    "                .pipe(velocity_calculator)                \n",
    "                .pipe(impulse_calculator)\n",
    "                .pipe(add_review_data))"
   ]
  },
  {
   "cell_type": "code",
   "execution_count": null,
   "metadata": {},
   "outputs": [],
   "source": [
    "group_df.head()"
   ]
  },
  {
   "cell_type": "code",
   "execution_count": null,
   "metadata": {},
   "outputs": [],
   "source": [
    "# for file in os.listdir(source_dir):\n",
    "#     if file.startswith(\"NGS-\"):\n",
    "#         file_path = os.path.join(source_dir, file)\n",
    "#         output_dir = \"F:/Data/Processing_data/concussion_output/\"\n",
    "\n",
    "#         # Read the CSV into polars DF\n",
    "#         df = pl.read_csv(file_path)\n",
    "#         df = (df\n",
    "#               .pipe(column_corrector)\n",
    "#                 .pipe(angle_corrector)\n",
    "#                 .pipe(body_builder_conc)\n",
    "#                 .pipe(velocity_calculator)                \n",
    "#                 .pipe(impulse_calculator)\n",
    "#                 .pipe(add_review_data))\n",
    "        \n",
    "#         output_file_path = os.path.join(output_dir, file.replace(\".csv\", \".parquet\"))\n",
    "\n",
    "#         df.write_parquet(output_file_path)\n",
    "\n",
    "#         print(f\"Processed and saved: {output_file_path}\")\n",
    "\n",
    "# print(\"For fuck's sake that took a while. Finally done processing and saving the concussion files.\")"
   ]
  },
  {
   "cell_type": "code",
   "execution_count": null,
   "metadata": {},
   "outputs": [],
   "source": [
    "# def process_and_save_concussion_data():\n",
    "\n",
    "#     for file in os.listdir(source_dir):\n",
    "#         if file.startswith(\"NGS-\"):\n",
    "#             file_path = os.path.join(source_dir, file)\n",
    "#             output_dir = \"F:/Data/Processing_data/concussion_output/\"\n",
    "\n",
    "#             # Read the CSV into polars DF\n",
    "\n",
    "#             df = pl.read_csv(file_path)\n",
    "#             df = (df\n",
    "#                 .pipe(column_corrector)\n",
    "#                     .pipe(angle_corrector)\n",
    "#                     .pipe(body_builder_conc)\n",
    "#                     .pipe(velocity_calculator)                \n",
    "#                     .pipe(impulse_calculator))\n",
    "            \n",
    "#             output_file_path = os.path.join(output_dir, file.replace(\".csv\", \".parquet\"))\n",
    "\n",
    "#             df.write_parquet(output_file_path)\n",
    "\n",
    "#             print(f\"Processed and saved: {output_file_path}\")\n",
    "\n",
    "#     print(\"For fuck's sake that took a while. Finally done processing and saving the concussion files.\")"
   ]
  },
  {
   "cell_type": "code",
   "execution_count": 1,
   "metadata": {},
   "outputs": [],
   "source": [
    "from QuantitativeCleaner import * \n",
    "\n"
   ]
  },
  {
   "cell_type": "code",
   "execution_count": 2,
   "metadata": {},
   "outputs": [
    {
     "name": "stdout",
     "output_type": "stream",
     "text": [
      "Memory usage of dataframe is 87.43 MB\n",
      "Memory usage after optimization is: 35.77 MB\n",
      "Decreased by 59.1%\n"
     ]
    },
    {
     "name": "stderr",
     "output_type": "stream",
     "text": [
      "c:\\Users\\justi\\OneDrive\\Desktop\\Analytics\\NFL_Data_Science\\ET\\DataHandler.py:140: CategoricalRemappingWarning: Local categoricals have different encodings, expensive re-encoding is done to perform this merge operation. Consider using a StringCache or an Enum type if the categories are known in advance\n",
      "  df = df.with_columns(pl.col(col).cast(pl.Categorical))\n"
     ]
    },
    {
     "name": "stdout",
     "output_type": "stream",
     "text": [
      "Processed and saved: F:/Data/Processing_data/concussion_output/NGS-2016-post.parquet\n",
      "Memory usage of dataframe is 95.19 MB\n",
      "Memory usage after optimization is: 38.49 MB\n",
      "Decreased by 59.6%\n",
      "Processed and saved: F:/Data/Processing_data/concussion_output/NGS-2016-pre.parquet\n",
      "Memory usage of dataframe is 792.55 MB\n",
      "Memory usage after optimization is: 328.82 MB\n",
      "Decreased by 58.5%\n",
      "Processed and saved: F:/Data/Processing_data/concussion_output/NGS-2016-reg-wk1-6.parquet\n",
      "Memory usage of dataframe is 690.97 MB\n",
      "Memory usage after optimization is: 285.94 MB\n",
      "Decreased by 58.6%\n",
      "Processed and saved: F:/Data/Processing_data/concussion_output/NGS-2016-reg-wk13-17.parquet\n",
      "Memory usage of dataframe is 760.78 MB\n",
      "Memory usage after optimization is: 314.28 MB\n",
      "Decreased by 58.7%\n",
      "Processed and saved: F:/Data/Processing_data/concussion_output/NGS-2016-reg-wk7-12.parquet\n",
      "Memory usage of dataframe is 94.12 MB\n",
      "Memory usage after optimization is: 38.95 MB\n",
      "Decreased by 58.6%\n",
      "Processed and saved: F:/Data/Processing_data/concussion_output/NGS-2017-post.parquet\n",
      "Memory usage of dataframe is 600.05 MB\n",
      "Memory usage after optimization is: 249.13 MB\n",
      "Decreased by 58.5%\n",
      "Processed and saved: F:/Data/Processing_data/concussion_output/NGS-2017-pre.parquet\n",
      "Memory usage of dataframe is 856.40 MB\n",
      "Memory usage after optimization is: 353.16 MB\n",
      "Decreased by 58.8%\n",
      "Processed and saved: F:/Data/Processing_data/concussion_output/NGS-2017-reg-wk1-6.parquet\n",
      "Memory usage of dataframe is 749.12 MB\n",
      "Memory usage after optimization is: 309.35 MB\n",
      "Decreased by 58.7%\n",
      "Processed and saved: F:/Data/Processing_data/concussion_output/NGS-2017-reg-wk13-17.parquet\n",
      "Memory usage of dataframe is 787.02 MB\n",
      "Memory usage after optimization is: 324.90 MB\n",
      "Decreased by 58.7%\n",
      "Processed and saved: F:/Data/Processing_data/concussion_output/NGS-2017-reg-wk7-12.parquet\n",
      "For fuck's sake that took a while. Finally done processing and saving the concussion files.\n"
     ]
    }
   ],
   "source": [
    "\n",
    "process_and_save_concussion_data()"
   ]
  },
  {
   "cell_type": "markdown",
   "metadata": {},
   "source": [
    "# Combine Tracking Data\n",
    "\n",
    "To do this, the columns will have to be the same in both the concussion and the injury tracking data. I will create a separate processing for this, so that the outputs "
   ]
  },
  {
   "cell_type": "code",
   "execution_count": 3,
   "metadata": {},
   "outputs": [],
   "source": [
    "import polars as pl\n",
    "df = pl.read_parquet(\"F:/Data/Processing_data/concussion_output/NGS-2017-reg-wk13-17.parquet\").head(1000)"
   ]
  },
  {
   "cell_type": "code",
   "execution_count": 4,
   "metadata": {},
   "outputs": [
    {
     "data": {
      "text/html": [
       "<div><style>\n",
       ".dataframe > thead > tr,\n",
       ".dataframe > tbody > tr {\n",
       "  text-align: right;\n",
       "  white-space: pre-wrap;\n",
       "}\n",
       "</style>\n",
       "<small>shape: (5, 31)</small><table border=\"1\" class=\"dataframe\"><thead><tr><th>PlayKey</th><th>x</th><th>y</th><th>o</th><th>dir</th><th>GSISID</th><th>time</th><th>Angle_Diff</th><th>Position</th><th>Height_m</th><th>Weight_kg</th><th>Chest_rad_m</th><th>Displacement</th><th>Speed</th><th>vx</th><th>vy</th><th>omega_dir</th><th>omega_o</th><th>omega_diff</th><th>px</th><th>py</th><th>moment</th><th>moment_upper</th><th>p_magnitude</th><th>L_dir</th><th>L_diff</th><th>Jx</th><th>Jy</th><th>J_magnitude</th><th>torque</th><th>torque_internal</th></tr><tr><td>str</td><td>f32</td><td>f32</td><td>f32</td><td>f32</td><td>i32</td><td>f32</td><td>f32</td><td>cat</td><td>f32</td><td>f32</td><td>f32</td><td>f32</td><td>f32</td><td>f32</td><td>f32</td><td>f32</td><td>f32</td><td>f32</td><td>f32</td><td>f32</td><td>f32</td><td>f32</td><td>f32</td><td>f32</td><td>f32</td><td>f32</td><td>f32</td><td>f32</td><td>f32</td><td>f32</td></tr></thead><tbody><tr><td>&quot;19714-585-120&quot;</td><td>68.160004</td><td>10.81</td><td>-36.779999</td><td>-109.649994</td><td>19714</td><td>0.0</td><td>72.870003</td><td>&quot;P&quot;</td><td>1.88</td><td>97.519997</td><td>0.191</td><td>null</td><td>null</td><td>null</td><td>null</td><td>null</td><td>null</td><td>null</td><td>null</td><td>null</td><td>0.296469</td><td>0.207528</td><td>null</td><td>null</td><td>null</td><td>null</td><td>null</td><td>null</td><td>null</td><td>null</td></tr><tr><td>&quot;19714-585-120&quot;</td><td>68.07</td><td>10.87</td><td>-39.009995</td><td>-111.0</td><td>19714</td><td>0.1</td><td>71.989998</td><td>&quot;P&quot;</td><td>1.88</td><td>97.519997</td><td>0.191</td><td>0.10817</td><td>1.081695</td><td>-0.90004</td><td>0.599995</td><td>-0.235621</td><td>-0.389208</td><td>0.153587</td><td>-87.771866</td><td>58.511478</td><td>0.296469</td><td>0.207528</td><td>105.486931</td><td>-0.069854</td><td>0.031874</td><td>null</td><td>null</td><td>null</td><td>null</td><td>null</td></tr><tr><td>&quot;19714-585-120&quot;</td><td>68.040001</td><td>10.89</td><td>-40.610001</td><td>-109.609985</td><td>19714</td><td>0.2</td><td>69.0</td><td>&quot;P&quot;</td><td>1.88</td><td>97.519997</td><td>0.191</td><td>0.036055</td><td>0.360547</td><td>-0.299988</td><td>0.200005</td><td>0.242603</td><td>-0.279254</td><td>0.521857</td><td>-29.254808</td><td>19.504446</td><td>0.296469</td><td>0.207528</td><td>35.160591</td><td>0.071924</td><td>0.1083</td><td>58.517059</td><td>-39.007034</td><td>70.326347</td><td>1.417784</td><td>0.764264</td></tr><tr><td>&quot;19714-585-120&quot;</td><td>68.010002</td><td>10.91</td><td>-42.110001</td><td>-107.549988</td><td>19714</td><td>0.3</td><td>65.440002</td><td>&quot;P&quot;</td><td>1.88</td><td>97.519997</td><td>0.191</td><td>0.036054</td><td>0.360542</td><td>-0.299988</td><td>0.199995</td><td>0.359538</td><td>-0.261799</td><td>0.621337</td><td>-29.254808</td><td>19.503515</td><td>0.296469</td><td>0.207528</td><td>35.160076</td><td>0.106592</td><td>0.128945</td><td>0.0</td><td>-0.000931</td><td>0.000931</td><td>0.346675</td><td>0.206449</td></tr><tr><td>&quot;19714-585-120&quot;</td><td>68.129997</td><td>10.83</td><td>-36.800003</td><td>-110.670013</td><td>19714</td><td>0.4</td><td>73.870003</td><td>&quot;P&quot;</td><td>1.88</td><td>97.519997</td><td>0.191</td><td>0.144218</td><td>1.442179</td><td>1.199951</td><td>-0.799999</td><td>-0.544547</td><td>0.926769</td><td>1.471316</td><td>117.019234</td><td>-78.015923</td><td>0.296469</td><td>0.207528</td><td>140.641327</td><td>-0.161441</td><td>0.30534</td><td>146.274048</td><td>-97.51944</td><td>175.801422</td><td>-2.68033</td><td>1.763946</td></tr></tbody></table></div>"
      ],
      "text/plain": [
       "shape: (5, 31)\n",
       "┌────────────┬───────────┬───────┬────────────┬───┬────────────┬────────────┬──────────┬───────────┐\n",
       "│ PlayKey    ┆ x         ┆ y     ┆ o          ┆ … ┆ Jy         ┆ J_magnitud ┆ torque   ┆ torque_in │\n",
       "│ ---        ┆ ---       ┆ ---   ┆ ---        ┆   ┆ ---        ┆ e          ┆ ---      ┆ ternal    │\n",
       "│ str        ┆ f32       ┆ f32   ┆ f32        ┆   ┆ f32        ┆ ---        ┆ f32      ┆ ---       │\n",
       "│            ┆           ┆       ┆            ┆   ┆            ┆ f32        ┆          ┆ f32       │\n",
       "╞════════════╪═══════════╪═══════╪════════════╪═══╪════════════╪════════════╪══════════╪═══════════╡\n",
       "│ 19714-585- ┆ 68.160004 ┆ 10.81 ┆ -36.779999 ┆ … ┆ null       ┆ null       ┆ null     ┆ null      │\n",
       "│ 120        ┆           ┆       ┆            ┆   ┆            ┆            ┆          ┆           │\n",
       "│ 19714-585- ┆ 68.07     ┆ 10.87 ┆ -39.009995 ┆ … ┆ null       ┆ null       ┆ null     ┆ null      │\n",
       "│ 120        ┆           ┆       ┆            ┆   ┆            ┆            ┆          ┆           │\n",
       "│ 19714-585- ┆ 68.040001 ┆ 10.89 ┆ -40.610001 ┆ … ┆ -39.007034 ┆ 70.326347  ┆ 1.417784 ┆ 0.764264  │\n",
       "│ 120        ┆           ┆       ┆            ┆   ┆            ┆            ┆          ┆           │\n",
       "│ 19714-585- ┆ 68.010002 ┆ 10.91 ┆ -42.110001 ┆ … ┆ -0.000931  ┆ 0.000931   ┆ 0.346675 ┆ 0.206449  │\n",
       "│ 120        ┆           ┆       ┆            ┆   ┆            ┆            ┆          ┆           │\n",
       "│ 19714-585- ┆ 68.129997 ┆ 10.83 ┆ -36.800003 ┆ … ┆ -97.51944  ┆ 175.801422 ┆ -2.68033 ┆ 1.763946  │\n",
       "│ 120        ┆           ┆       ┆            ┆   ┆            ┆            ┆          ┆           │\n",
       "└────────────┴───────────┴───────┴────────────┴───┴────────────┴────────────┴──────────┴───────────┘"
      ]
     },
     "execution_count": 4,
     "metadata": {},
     "output_type": "execute_result"
    }
   ],
   "source": [
    "df.head()"
   ]
  },
  {
   "cell_type": "code",
   "execution_count": 7,
   "metadata": {},
   "outputs": [
    {
     "name": "stdout",
     "output_type": "stream",
     "text": [
      "Memory usage of dataframe is 0.00 MB\n",
      "Memory usage after optimization is: 0.00 MB\n",
      "Decreased by 36.9%\n"
     ]
    }
   ],
   "source": [
    "review = clean_review()"
   ]
  },
  {
   "cell_type": "code",
   "execution_count": 10,
   "metadata": {},
   "outputs": [],
   "source": [
    "\n",
    "def add_review_data(df, review):\n",
    "\n",
    "    df = df.join(\n",
    "        review\n",
    "        , on=\"PlayKey\"\n",
    "        , how=\"inner\"    \n",
    "        )\n",
    "    \n",
    "    return df"
   ]
  },
  {
   "cell_type": "code",
   "execution_count": 11,
   "metadata": {},
   "outputs": [
    {
     "data": {
      "text/html": [
       "<div><style>\n",
       ".dataframe > thead > tr,\n",
       ".dataframe > tbody > tr {\n",
       "  text-align: right;\n",
       "  white-space: pre-wrap;\n",
       "}\n",
       "</style>\n",
       "<small>shape: (0, 35)</small><table border=\"1\" class=\"dataframe\"><thead><tr><th>PlayKey</th><th>x</th><th>y</th><th>o</th><th>dir</th><th>GSISID</th><th>time</th><th>Angle_Diff</th><th>Position</th><th>Height_m</th><th>Weight_kg</th><th>Chest_rad_m</th><th>Displacement</th><th>Speed</th><th>vx</th><th>vy</th><th>omega_dir</th><th>omega_o</th><th>omega_diff</th><th>px</th><th>py</th><th>moment</th><th>moment_upper</th><th>p_magnitude</th><th>L_dir</th><th>L_diff</th><th>Jx</th><th>Jy</th><th>J_magnitude</th><th>torque</th><th>torque_internal</th><th>Player_Activity_Derived</th><th>Primary_Impact_Type</th><th>Primary_Partner_GSISID</th><th>Primary_Partner_Activity_Derived</th></tr><tr><td>str</td><td>f32</td><td>f32</td><td>f32</td><td>f32</td><td>i32</td><td>i32</td><td>f32</td><td>cat</td><td>f32</td><td>f32</td><td>f32</td><td>f32</td><td>f32</td><td>f32</td><td>f32</td><td>f32</td><td>f32</td><td>f32</td><td>f32</td><td>f32</td><td>f32</td><td>f32</td><td>f32</td><td>f32</td><td>f32</td><td>f32</td><td>f32</td><td>f32</td><td>f32</td><td>f32</td><td>cat</td><td>cat</td><td>str</td><td>cat</td></tr></thead><tbody></tbody></table></div>"
      ],
      "text/plain": [
       "shape: (0, 35)\n",
       "┌─────────┬─────┬─────┬─────┬───┬────────────────┬────────────────┬────────────────┬───────────────┐\n",
       "│ PlayKey ┆ x   ┆ y   ┆ o   ┆ … ┆ Player_Activit ┆ Primary_Impact ┆ Primary_Partne ┆ Primary_Partn │\n",
       "│ ---     ┆ --- ┆ --- ┆ --- ┆   ┆ y_Derived      ┆ _Type          ┆ r_GSISID       ┆ er_Activity_D │\n",
       "│ str     ┆ f32 ┆ f32 ┆ f32 ┆   ┆ ---            ┆ ---            ┆ ---            ┆ eriv…         │\n",
       "│         ┆     ┆     ┆     ┆   ┆ cat            ┆ cat            ┆ str            ┆ ---           │\n",
       "│         ┆     ┆     ┆     ┆   ┆                ┆                ┆                ┆ cat           │\n",
       "╞═════════╪═════╪═════╪═════╪═══╪════════════════╪════════════════╪════════════════╪═══════════════╡\n",
       "└─────────┴─────┴─────┴─────┴───┴────────────────┴────────────────┴────────────────┴───────────────┘"
      ]
     },
     "execution_count": 11,
     "metadata": {},
     "output_type": "execute_result"
    }
   ],
   "source": [
    "add_review_data(df, review)"
   ]
  },
  {
   "cell_type": "code",
   "execution_count": 12,
   "metadata": {},
   "outputs": [
    {
     "data": {
      "text/plain": [
       "37"
      ]
     },
     "execution_count": 12,
     "metadata": {},
     "output_type": "execute_result"
    }
   ],
   "source": [
    "len(review)"
   ]
  },
  {
   "cell_type": "code",
   "execution_count": 38,
   "metadata": {},
   "outputs": [],
   "source": [
    "def create_concussion_review_df(review):\n",
    "    \"\"\"\n",
    "    Create a new DataFrame from multiple Parquet files, including only rows where the PlayKey matches those in the review DataFrame.\n",
    "    \"\"\"\n",
    "    import polars as pl # type: ignore\n",
    "    import os\n",
    "\n",
    "    ngs_dir = \"F:/Data/Processing_data/concussion_output/\"\n",
    "\n",
    "\n",
    "    # Add the OpponentKey column\n",
    "    review = review.with_columns(\n",
    "        (pl.col(\"Primary_Partner_GSISID\") + pl.col(\"PlayKey\").str.slice(5)).alias(\"OpponentKey\")\n",
    "        )\n",
    "    # Filter OpponentKey values that are longer than 12 characters\n",
    "    \n",
    "    # Extract PlayKey and OpponentKey values into lists\n",
    "    playkey_list = review[\"PlayKey\"].to_list()\n",
    "    opponentkey_list = review[\"OpponentKey\"].to_list()\n",
    "\n",
    "    # Remove any \"Unknown\" GSISID opponents from the list, since it will be a nonsense PlayKey\n",
    "    opponentkey_list = [key for key in opponentkey_list if key is not None and len(key) <= 12]\n",
    "\n",
    "    # Combine both lists\n",
    "    combined_keys = playkey_list + opponentkey_list\n",
    "\n",
    "\n",
    "    # Initialize a list to store dataframes from each table\n",
    "    dataframes = []\n",
    "\n",
    "    # Iterate through the parquet files in the directory\n",
    "    for file in os.listdir(ngs_dir):\n",
    "        if file.startswith(\"NGS-\"):\n",
    "            file_path = os.path.join(ngs_dir, file)\n",
    "\n",
    "            # Read into df\n",
    "            df = pl.read_parquet(file_path)\n",
    "\n",
    "            # Filter based on matching PlayKey values\n",
    "            filtered_df = df.filter(pl.col('PlayKey').is_in(combined_keys))\n",
    "\n",
    "            # Append to the dataframes\n",
    "            dataframes.append(filtered_df)\n",
    "\n",
    "    combined_df = pl.concat(dataframes)\n",
    "\n",
    "    combined_df = combined_df.join(\n",
    "        review\n",
    "        , on='PlayKey'\n",
    "        , how = 'left'\n",
    "    )\n",
    "\n",
    "    return combined_df\n",
    "\n",
    "\n"
   ]
  },
  {
   "cell_type": "code",
   "execution_count": 36,
   "metadata": {},
   "outputs": [
    {
     "name": "stdout",
     "output_type": "stream",
     "text": [
      "Memory usage of dataframe is 0.00 MB\n",
      "Memory usage after optimization is: 0.00 MB\n",
      "Decreased by 36.9%\n"
     ]
    }
   ],
   "source": [
    "review = clean_review()"
   ]
  },
  {
   "cell_type": "code",
   "execution_count": 39,
   "metadata": {},
   "outputs": [],
   "source": [
    "cf = create_concussion_review_df(review)"
   ]
  },
  {
   "cell_type": "code",
   "execution_count": 40,
   "metadata": {},
   "outputs": [
    {
     "data": {
      "text/html": [
       "<div><style>\n",
       ".dataframe > thead > tr,\n",
       ".dataframe > tbody > tr {\n",
       "  text-align: right;\n",
       "  white-space: pre-wrap;\n",
       "}\n",
       "</style>\n",
       "<small>shape: (5, 36)</small><table border=\"1\" class=\"dataframe\"><thead><tr><th>PlayKey</th><th>x</th><th>y</th><th>o</th><th>dir</th><th>GSISID</th><th>time</th><th>Angle_Diff</th><th>Position</th><th>Height_m</th><th>Weight_kg</th><th>Chest_rad_m</th><th>Displacement</th><th>Speed</th><th>vx</th><th>vy</th><th>omega_dir</th><th>omega_o</th><th>omega_diff</th><th>px</th><th>py</th><th>moment</th><th>moment_upper</th><th>p_magnitude</th><th>L_dir</th><th>L_diff</th><th>Jx</th><th>Jy</th><th>J_magnitude</th><th>torque</th><th>torque_internal</th><th>Player_Activity_Derived</th><th>Primary_Impact_Type</th><th>Primary_Partner_GSISID</th><th>Primary_Partner_Activity_Derived</th><th>OpponentKey</th></tr><tr><td>str</td><td>f32</td><td>f32</td><td>f32</td><td>f32</td><td>i32</td><td>i32</td><td>f32</td><td>cat</td><td>f32</td><td>f32</td><td>f32</td><td>f32</td><td>f32</td><td>f32</td><td>f32</td><td>f32</td><td>f32</td><td>f32</td><td>f32</td><td>f32</td><td>f32</td><td>f32</td><td>f32</td><td>f32</td><td>f32</td><td>f32</td><td>f32</td><td>f32</td><td>f32</td><td>f32</td><td>cat</td><td>cat</td><td>str</td><td>cat</td><td>str</td></tr></thead><tbody><tr><td>&quot;31023-29-538&quot;</td><td>32.950001</td><td>38.700001</td><td>-117.579987</td><td>85.380005</td><td>31023</td><td>0</td><td>157.039993</td><td>&quot;WR&quot;</td><td>1.88</td><td>90.699997</td><td>0.191</td><td>null</td><td>null</td><td>null</td><td>null</td><td>null</td><td>null</td><td>null</td><td>null</td><td>null</td><td>0.275736</td><td>0.193015</td><td>null</td><td>null</td><td>null</td><td>null</td><td>null</td><td>null</td><td>null</td><td>null</td><td>&quot;Tackling&quot;</td><td>&quot;Helmet-to-body&quot;</td><td>&quot;31941&quot;</td><td>&quot;Tackled&quot;</td><td>&quot;31941-29-538&quot;</td></tr><tr><td>&quot;31023-29-538&quot;</td><td>32.98</td><td>38.720001</td><td>-119.970001</td><td>105.070007</td><td>31023</td><td>0</td><td>134.960007</td><td>&quot;WR&quot;</td><td>1.88</td><td>90.699997</td><td>0.191</td><td>0.036055</td><td>0.360547</td><td>0.299988</td><td>0.200005</td><td>3.436552</td><td>-0.417137</td><td>3.853689</td><td>27.208893</td><td>18.140415</td><td>0.275736</td><td>0.193015</td><td>32.70166</td><td>0.94758</td><td>0.743819</td><td>null</td><td>null</td><td>null</td><td>null</td><td>null</td><td>&quot;Tackling&quot;</td><td>&quot;Helmet-to-body&quot;</td><td>&quot;31941&quot;</td><td>&quot;Tackled&quot;</td><td>&quot;31941-29-538&quot;</td></tr><tr><td>&quot;31023-29-538&quot;</td><td>32.98</td><td>38.709999</td><td>-122.320007</td><td>90.539978</td><td>31023</td><td>0</td><td>147.139999</td><td>&quot;WR&quot;</td><td>1.88</td><td>90.699997</td><td>0.191</td><td>0.010002</td><td>0.100021</td><td>0.0</td><td>-0.100021</td><td>-2.535969</td><td>-0.410154</td><td>2.125815</td><td>0.0</td><td>-9.071938</td><td>0.275736</td><td>0.193015</td><td>9.071938</td><td>-0.699257</td><td>0.410314</td><td>-27.208893</td><td>-27.212353</td><td>38.481632</td><td>-16.468365</td><td>-3.335054</td><td>&quot;Tackling&quot;</td><td>&quot;Helmet-to-body&quot;</td><td>&quot;31941&quot;</td><td>&quot;Tackled&quot;</td><td>&quot;31941-29-538&quot;</td></tr><tr><td>&quot;31023-29-538&quot;</td><td>32.93</td><td>38.669998</td><td>-124.540009</td><td>48.880005</td><td>31023</td><td>0</td><td>173.419998</td><td>&quot;WR&quot;</td><td>1.88</td><td>90.699997</td><td>0.191</td><td>0.064031</td><td>0.640312</td><td>-0.499992</td><td>-0.400009</td><td>-7.271037</td><td>-0.387464</td><td>6.883573</td><td>-45.349308</td><td>-36.28083</td><td>0.275736</td><td>0.193015</td><td>58.076317</td><td>-2.004883</td><td>1.328632</td><td>-45.349308</td><td>-27.208893</td><td>52.885574</td><td>-13.056264</td><td>9.183182</td><td>&quot;Tackling&quot;</td><td>&quot;Helmet-to-body&quot;</td><td>&quot;31941&quot;</td><td>&quot;Tackled&quot;</td><td>&quot;31941-29-538&quot;</td></tr><tr><td>&quot;31023-29-538&quot;</td><td>32.900002</td><td>38.619999</td><td>-126.799988</td><td>40.029999</td><td>31023</td><td>0</td><td>166.830002</td><td>&quot;WR&quot;</td><td>1.88</td><td>90.699997</td><td>0.191</td><td>0.058308</td><td>0.583082</td><td>-0.299988</td><td>-0.499992</td><td>-1.544617</td><td>-0.39444</td><td>1.150178</td><td>-27.208893</td><td>-45.349308</td><td>0.275736</td><td>0.193015</td><td>52.885574</td><td>-0.425906</td><td>0.222001</td><td>18.140415</td><td>-9.068478</td><td>20.280827</td><td>15.789774</td><td>-11.066308</td><td>&quot;Tackling&quot;</td><td>&quot;Helmet-to-body&quot;</td><td>&quot;31941&quot;</td><td>&quot;Tackled&quot;</td><td>&quot;31941-29-538&quot;</td></tr></tbody></table></div>"
      ],
      "text/plain": [
       "shape: (5, 36)\n",
       "┌───────────┬───────────┬───────────┬───────────┬───┬───────────┬───────────┬───────────┬──────────┐\n",
       "│ PlayKey   ┆ x         ┆ y         ┆ o         ┆ … ┆ Primary_I ┆ Primary_P ┆ Primary_P ┆ Opponent │\n",
       "│ ---       ┆ ---       ┆ ---       ┆ ---       ┆   ┆ mpact_Typ ┆ artner_GS ┆ artner_Ac ┆ Key      │\n",
       "│ str       ┆ f32       ┆ f32       ┆ f32       ┆   ┆ e         ┆ ISID      ┆ tivity_De ┆ ---      │\n",
       "│           ┆           ┆           ┆           ┆   ┆ ---       ┆ ---       ┆ riv…      ┆ str      │\n",
       "│           ┆           ┆           ┆           ┆   ┆ cat       ┆ str       ┆ ---       ┆          │\n",
       "│           ┆           ┆           ┆           ┆   ┆           ┆           ┆ cat       ┆          │\n",
       "╞═══════════╪═══════════╪═══════════╪═══════════╪═══╪═══════════╪═══════════╪═══════════╪══════════╡\n",
       "│ 31023-29- ┆ 32.950001 ┆ 38.700001 ┆ -117.5799 ┆ … ┆ Helmet-to ┆ 31941     ┆ Tackled   ┆ 31941-29 │\n",
       "│ 538       ┆           ┆           ┆ 87        ┆   ┆ -body     ┆           ┆           ┆ -538     │\n",
       "│ 31023-29- ┆ 32.98     ┆ 38.720001 ┆ -119.9700 ┆ … ┆ Helmet-to ┆ 31941     ┆ Tackled   ┆ 31941-29 │\n",
       "│ 538       ┆           ┆           ┆ 01        ┆   ┆ -body     ┆           ┆           ┆ -538     │\n",
       "│ 31023-29- ┆ 32.98     ┆ 38.709999 ┆ -122.3200 ┆ … ┆ Helmet-to ┆ 31941     ┆ Tackled   ┆ 31941-29 │\n",
       "│ 538       ┆           ┆           ┆ 07        ┆   ┆ -body     ┆           ┆           ┆ -538     │\n",
       "│ 31023-29- ┆ 32.93     ┆ 38.669998 ┆ -124.5400 ┆ … ┆ Helmet-to ┆ 31941     ┆ Tackled   ┆ 31941-29 │\n",
       "│ 538       ┆           ┆           ┆ 09        ┆   ┆ -body     ┆           ┆           ┆ -538     │\n",
       "│ 31023-29- ┆ 32.900002 ┆ 38.619999 ┆ -126.7999 ┆ … ┆ Helmet-to ┆ 31941     ┆ Tackled   ┆ 31941-29 │\n",
       "│ 538       ┆           ┆           ┆ 88        ┆   ┆ -body     ┆           ┆           ┆ -538     │\n",
       "└───────────┴───────────┴───────────┴───────────┴───┴───────────┴───────────┴───────────┴──────────┘"
      ]
     },
     "execution_count": 40,
     "metadata": {},
     "output_type": "execute_result"
    }
   ],
   "source": [
    "cf.head()"
   ]
  },
  {
   "cell_type": "code",
   "execution_count": 42,
   "metadata": {},
   "outputs": [
    {
     "data": {
      "text/html": [
       "<div><style>\n",
       ".dataframe > thead > tr,\n",
       ".dataframe > tbody > tr {\n",
       "  text-align: right;\n",
       "  white-space: pre-wrap;\n",
       "}\n",
       "</style>\n",
       "<small>shape: (326, 36)</small><table border=\"1\" class=\"dataframe\"><thead><tr><th>PlayKey</th><th>x</th><th>y</th><th>o</th><th>dir</th><th>GSISID</th><th>time</th><th>Angle_Diff</th><th>Position</th><th>Height_m</th><th>Weight_kg</th><th>Chest_rad_m</th><th>Displacement</th><th>Speed</th><th>vx</th><th>vy</th><th>omega_dir</th><th>omega_o</th><th>omega_diff</th><th>px</th><th>py</th><th>moment</th><th>moment_upper</th><th>p_magnitude</th><th>L_dir</th><th>L_diff</th><th>Jx</th><th>Jy</th><th>J_magnitude</th><th>torque</th><th>torque_internal</th><th>Player_Activity_Derived</th><th>Primary_Impact_Type</th><th>Primary_Partner_GSISID</th><th>Primary_Partner_Activity_Derived</th><th>OpponentKey</th></tr><tr><td>str</td><td>f32</td><td>f32</td><td>f32</td><td>f32</td><td>i32</td><td>i32</td><td>f32</td><td>cat</td><td>f32</td><td>f32</td><td>f32</td><td>f32</td><td>f32</td><td>f32</td><td>f32</td><td>f32</td><td>f32</td><td>f32</td><td>f32</td><td>f32</td><td>f32</td><td>f32</td><td>f32</td><td>f32</td><td>f32</td><td>f32</td><td>f32</td><td>f32</td><td>f32</td><td>f32</td><td>cat</td><td>cat</td><td>str</td><td>cat</td><td>str</td></tr></thead><tbody><tr><td>&quot;31941-29-538&quot;</td><td>18.77</td><td>38.830002</td><td>-7.649994</td><td>60.259995</td><td>31941</td><td>0</td><td>67.910004</td><td>&quot;WR&quot;</td><td>1.88</td><td>90.699997</td><td>0.191</td><td>null</td><td>null</td><td>null</td><td>null</td><td>null</td><td>null</td><td>null</td><td>null</td><td>null</td><td>0.275736</td><td>0.193015</td><td>null</td><td>null</td><td>null</td><td>null</td><td>null</td><td>null</td><td>null</td><td>null</td><td>null</td><td>null</td><td>null</td><td>null</td><td>null</td></tr><tr><td>&quot;31941-29-538&quot;</td><td>18.83</td><td>38.700001</td><td>-8.690002</td><td>60.110001</td><td>31941</td><td>0</td><td>68.800003</td><td>&quot;WR&quot;</td><td>1.88</td><td>90.699997</td><td>0.191</td><td>0.143179</td><td>1.43179</td><td>0.599995</td><td>-1.300011</td><td>-0.02618</td><td>-0.181516</td><td>0.155336</td><td>54.419514</td><td>-117.910965</td><td>0.275736</td><td>0.193015</td><td>129.863312</td><td>-0.007219</td><td>0.029982</td><td>null</td><td>null</td><td>null</td><td>null</td><td>null</td><td>null</td><td>null</td><td>null</td><td>null</td><td>null</td></tr><tr><td>&quot;31941-29-538&quot;</td><td>18.9</td><td>38.59</td><td>-9.540009</td><td>59.820007</td><td>31941</td><td>0</td><td>69.360001</td><td>&quot;WR&quot;</td><td>1.88</td><td>90.699997</td><td>0.191</td><td>0.130384</td><td>1.303844</td><td>0.699997</td><td>-1.100006</td><td>-0.050613</td><td>-0.148354</td><td>0.097741</td><td>63.489719</td><td>-99.770554</td><td>0.275736</td><td>0.193015</td><td>118.258644</td><td>-0.013956</td><td>0.018866</td><td>9.070206</td><td>18.140411</td><td>20.281595</td><td>-0.067371</td><td>-0.111166</td><td>null</td><td>null</td><td>null</td><td>null</td><td>null</td></tr><tr><td>&quot;31941-29-538&quot;</td><td>19.0</td><td>38.48</td><td>-10.449997</td><td>59.550003</td><td>31941</td><td>0</td><td>70.0</td><td>&quot;WR&quot;</td><td>1.88</td><td>90.699997</td><td>0.191</td><td>0.148661</td><td>1.486614</td><td>1.000004</td><td>-1.100006</td><td>-0.047125</td><td>-0.158823</td><td>0.111699</td><td>90.70034</td><td>-99.770554</td><td>0.275736</td><td>0.193015</td><td>134.835876</td><td>-0.012994</td><td>0.021559</td><td>27.210621</td><td>0.0</td><td>27.210621</td><td>0.009618</td><td>0.026939</td><td>null</td><td>null</td><td>null</td><td>null</td><td>null</td></tr><tr><td>&quot;31941-29-538&quot;</td><td>19.09</td><td>38.380001</td><td>-11.399994</td><td>58.889999</td><td>31941</td><td>0</td><td>70.290001</td><td>&quot;WR&quot;</td><td>1.88</td><td>90.699997</td><td>0.191</td><td>0.134535</td><td>1.345352</td><td>0.900002</td><td>-0.999985</td><td>-0.115193</td><td>-0.165806</td><td>0.050612</td><td>81.630135</td><td>-90.698616</td><td>0.275736</td><td>0.193015</td><td>122.023438</td><td>-0.031763</td><td>0.009769</td><td>-9.070206</td><td>9.071938</td><td>12.828432</td><td>-0.187689</td><td>-0.117905</td><td>null</td><td>null</td><td>null</td><td>null</td><td>null</td></tr><tr><td>&hellip;</td><td>&hellip;</td><td>&hellip;</td><td>&hellip;</td><td>&hellip;</td><td>&hellip;</td><td>&hellip;</td><td>&hellip;</td><td>&hellip;</td><td>&hellip;</td><td>&hellip;</td><td>&hellip;</td><td>&hellip;</td><td>&hellip;</td><td>&hellip;</td><td>&hellip;</td><td>&hellip;</td><td>&hellip;</td><td>&hellip;</td><td>&hellip;</td><td>&hellip;</td><td>&hellip;</td><td>&hellip;</td><td>&hellip;</td><td>&hellip;</td><td>&hellip;</td><td>&hellip;</td><td>&hellip;</td><td>&hellip;</td><td>&hellip;</td><td>&hellip;</td><td>&hellip;</td><td>&hellip;</td><td>&hellip;</td><td>&hellip;</td><td>&hellip;</td></tr><tr><td>&quot;31941-29-538&quot;</td><td>35.98</td><td>33.360001</td><td>-64.160004</td><td>-112.910004</td><td>31941</td><td>32</td><td>48.75</td><td>&quot;WR&quot;</td><td>1.88</td><td>90.699997</td><td>0.191</td><td>1.392049</td><td>13.920492</td><td>-5.699997</td><td>12.700005</td><td>-2.771585</td><td>2.961823</td><td>5.733408</td><td>-516.989685</td><td>1151.890381</td><td>0.275736</td><td>0.193015</td><td>1262.588501</td><td>-0.764225</td><td>1.106633</td><td>-11954.257812</td><td>-2648.439941</td><td>12244.121094</td><td>69.097771</td><td>-18.235016</td><td>null</td><td>null</td><td>null</td><td>null</td><td>null</td></tr><tr><td>&quot;31941-29-538&quot;</td><td>21.18</td><td>42.93</td><td>105.580017</td><td>-169.769989</td><td>31941</td><td>32</td><td>84.650002</td><td>&quot;WR&quot;</td><td>1.88</td><td>90.699997</td><td>0.191</td><td>17.624554</td><td>176.245544</td><td>-148.0</td><td>95.699997</td><td>-9.923939</td><td>29.625225</td><td>39.549164</td><td>-13423.599609</td><td>8679.989258</td><td>0.275736</td><td>0.193015</td><td>15985.469727</td><td>-2.736383</td><td>7.633578</td><td>-12906.610352</td><td>7528.098633</td><td>14941.648438</td><td>-19.721582</td><td>65.269455</td><td>null</td><td>null</td><td>null</td><td>null</td><td>null</td></tr><tr><td>&quot;31941-29-538&quot;</td><td>20.01</td><td>42.91</td><td>120.039978</td><td>176.529999</td><td>31941</td><td>32</td><td>56.490002</td><td>&quot;WR&quot;</td><td>1.88</td><td>90.699997</td><td>0.191</td><td>1.170171</td><td>11.70171</td><td>-11.700001</td><td>-0.200005</td><td>60.44075</td><td>2.523739</td><td>57.917011</td><td>-1061.190063</td><td>-18.140415</td><td>0.275736</td><td>0.193015</td><td>1061.345093</td><td>16.665665</td><td>11.178846</td><td>12362.40918</td><td>-8698.129883</td><td>15115.774414</td><td>194.020477</td><td>35.452682</td><td>null</td><td>null</td><td>null</td><td>null</td><td>null</td></tr><tr><td>&quot;31941-29-538&quot;</td><td>36.740002</td><td>31.18</td><td>-62.479996</td><td>-165.119995</td><td>31941</td><td>32</td><td>102.639999</td><td>&quot;WR&quot;</td><td>1.88</td><td>90.699997</td><td>0.191</td><td>20.43247</td><td>204.324707</td><td>167.300018</td><td>-117.299995</td><td>-59.629177</td><td>-31.855745</td><td>27.773432</td><td>15174.111328</td><td>-10639.109375</td><td>0.275736</td><td>0.193015</td><td>18532.25</td><td>-16.441885</td><td>5.360686</td><td>16235.301758</td><td>-10620.96875</td><td>19400.773438</td><td>-331.0755</td><td>-58.181602</td><td>null</td><td>null</td><td>null</td><td>null</td><td>null</td></tr><tr><td>&quot;31941-29-538&quot;</td><td>36.740002</td><td>32.18</td><td>-79.169998</td><td>-157.399994</td><td>31941</td><td>32</td><td>78.230003</td><td>&quot;WR&quot;</td><td>1.88</td><td>90.699997</td><td>0.191</td><td>1.0</td><td>10.0</td><td>0.0</td><td>10.0</td><td>1.347396</td><td>-2.912955</td><td>4.260352</td><td>0.0</td><td>907.0</td><td>0.275736</td><td>0.193015</td><td>907.0</td><td>0.371525</td><td>0.822311</td><td>-15174.111328</td><td>11546.109375</td><td>19067.414062</td><td>168.134094</td><td>-45.383751</td><td>null</td><td>null</td><td>null</td><td>null</td><td>null</td></tr></tbody></table></div>"
      ],
      "text/plain": [
       "shape: (326, 36)\n",
       "┌───────────┬───────────┬───────────┬───────────┬───┬───────────┬───────────┬───────────┬──────────┐\n",
       "│ PlayKey   ┆ x         ┆ y         ┆ o         ┆ … ┆ Primary_I ┆ Primary_P ┆ Primary_P ┆ Opponent │\n",
       "│ ---       ┆ ---       ┆ ---       ┆ ---       ┆   ┆ mpact_Typ ┆ artner_GS ┆ artner_Ac ┆ Key      │\n",
       "│ str       ┆ f32       ┆ f32       ┆ f32       ┆   ┆ e         ┆ ISID      ┆ tivity_De ┆ ---      │\n",
       "│           ┆           ┆           ┆           ┆   ┆ ---       ┆ ---       ┆ riv…      ┆ str      │\n",
       "│           ┆           ┆           ┆           ┆   ┆ cat       ┆ str       ┆ ---       ┆          │\n",
       "│           ┆           ┆           ┆           ┆   ┆           ┆           ┆ cat       ┆          │\n",
       "╞═══════════╪═══════════╪═══════════╪═══════════╪═══╪═══════════╪═══════════╪═══════════╪══════════╡\n",
       "│ 31941-29- ┆ 18.77     ┆ 38.830002 ┆ -7.649994 ┆ … ┆ null      ┆ null      ┆ null      ┆ null     │\n",
       "│ 538       ┆           ┆           ┆           ┆   ┆           ┆           ┆           ┆          │\n",
       "│ 31941-29- ┆ 18.83     ┆ 38.700001 ┆ -8.690002 ┆ … ┆ null      ┆ null      ┆ null      ┆ null     │\n",
       "│ 538       ┆           ┆           ┆           ┆   ┆           ┆           ┆           ┆          │\n",
       "│ 31941-29- ┆ 18.9      ┆ 38.59     ┆ -9.540009 ┆ … ┆ null      ┆ null      ┆ null      ┆ null     │\n",
       "│ 538       ┆           ┆           ┆           ┆   ┆           ┆           ┆           ┆          │\n",
       "│ 31941-29- ┆ 19.0      ┆ 38.48     ┆ -10.44999 ┆ … ┆ null      ┆ null      ┆ null      ┆ null     │\n",
       "│ 538       ┆           ┆           ┆ 7         ┆   ┆           ┆           ┆           ┆          │\n",
       "│ 31941-29- ┆ 19.09     ┆ 38.380001 ┆ -11.39999 ┆ … ┆ null      ┆ null      ┆ null      ┆ null     │\n",
       "│ 538       ┆           ┆           ┆ 4         ┆   ┆           ┆           ┆           ┆          │\n",
       "│ …         ┆ …         ┆ …         ┆ …         ┆ … ┆ …         ┆ …         ┆ …         ┆ …        │\n",
       "│ 31941-29- ┆ 35.98     ┆ 33.360001 ┆ -64.16000 ┆ … ┆ null      ┆ null      ┆ null      ┆ null     │\n",
       "│ 538       ┆           ┆           ┆ 4         ┆   ┆           ┆           ┆           ┆          │\n",
       "│ 31941-29- ┆ 21.18     ┆ 42.93     ┆ 105.58001 ┆ … ┆ null      ┆ null      ┆ null      ┆ null     │\n",
       "│ 538       ┆           ┆           ┆ 7         ┆   ┆           ┆           ┆           ┆          │\n",
       "│ 31941-29- ┆ 20.01     ┆ 42.91     ┆ 120.03997 ┆ … ┆ null      ┆ null      ┆ null      ┆ null     │\n",
       "│ 538       ┆           ┆           ┆ 8         ┆   ┆           ┆           ┆           ┆          │\n",
       "│ 31941-29- ┆ 36.740002 ┆ 31.18     ┆ -62.47999 ┆ … ┆ null      ┆ null      ┆ null      ┆ null     │\n",
       "│ 538       ┆           ┆           ┆ 6         ┆   ┆           ┆           ┆           ┆          │\n",
       "│ 31941-29- ┆ 36.740002 ┆ 32.18     ┆ -79.16999 ┆ … ┆ null      ┆ null      ┆ null      ┆ null     │\n",
       "│ 538       ┆           ┆           ┆ 8         ┆   ┆           ┆           ┆           ┆          │\n",
       "└───────────┴───────────┴───────────┴───────────┴───┴───────────┴───────────┴───────────┴──────────┘"
      ]
     },
     "execution_count": 42,
     "metadata": {},
     "output_type": "execute_result"
    }
   ],
   "source": [
    "cf.filter(pl.col(\"PlayKey\")==\"31941-29-538\")"
   ]
  },
  {
   "cell_type": "markdown",
   "metadata": {},
   "source": [
    "# Concussion Opponent Tracking Data with Player Data "
   ]
  },
  {
   "cell_type": "code",
   "execution_count": 5,
   "metadata": {},
   "outputs": [],
   "source": [
    "from QuantitativeCleaner import *"
   ]
  },
  {
   "cell_type": "code",
   "execution_count": 6,
   "metadata": {},
   "outputs": [
    {
     "name": "stdout",
     "output_type": "stream",
     "text": [
      "Memory usage of dataframe is 0.00 MB\n",
      "Memory usage after optimization is: 0.00 MB\n",
      "Decreased by 36.9%\n"
     ]
    }
   ],
   "source": [
    "review = clean_review()"
   ]
  },
  {
   "cell_type": "code",
   "execution_count": 7,
   "metadata": {},
   "outputs": [
    {
     "name": "stdout",
     "output_type": "stream",
     "text": [
      "Processed and saved: F:/Data/Processing_data/OpponentPlays.parquet\n"
     ]
    }
   ],
   "source": [
    "create_concussion_review_df(review)"
   ]
  },
  {
   "cell_type": "code",
   "execution_count": 5,
   "metadata": {},
   "outputs": [],
   "source": [
    "import polars as pl"
   ]
  },
  {
   "cell_type": "code",
   "execution_count": 8,
   "metadata": {},
   "outputs": [
    {
     "data": {
      "text/html": [
       "<div><style>\n",
       ".dataframe > thead > tr,\n",
       ".dataframe > tbody > tr {\n",
       "  text-align: right;\n",
       "  white-space: pre-wrap;\n",
       "}\n",
       "</style>\n",
       "<small>shape: (5, 36)</small><table border=\"1\" class=\"dataframe\"><thead><tr><th>PlayKey</th><th>x</th><th>y</th><th>o</th><th>dir</th><th>GSISID</th><th>time</th><th>Angle_Diff</th><th>Position</th><th>Height_m</th><th>Weight_kg</th><th>Chest_rad_m</th><th>Displacement</th><th>Speed</th><th>vx</th><th>vy</th><th>omega_dir</th><th>omega_o</th><th>omega_diff</th><th>px</th><th>py</th><th>moment</th><th>moment_upper</th><th>p_magnitude</th><th>L_dir</th><th>L_diff</th><th>Jx</th><th>Jy</th><th>J_magnitude</th><th>torque</th><th>torque_internal</th><th>Player_Activity_Derived</th><th>Primary_Impact_Type</th><th>Primary_Partner_GSISID</th><th>Primary_Partner_Activity_Derived</th><th>OpponentKey</th></tr><tr><td>str</td><td>f32</td><td>f32</td><td>f32</td><td>f32</td><td>i32</td><td>f32</td><td>f32</td><td>cat</td><td>f32</td><td>f32</td><td>f32</td><td>f32</td><td>f32</td><td>f32</td><td>f32</td><td>f32</td><td>f32</td><td>f32</td><td>f32</td><td>f32</td><td>f32</td><td>f32</td><td>f32</td><td>f32</td><td>f32</td><td>f32</td><td>f32</td><td>f32</td><td>f32</td><td>f32</td><td>cat</td><td>cat</td><td>str</td><td>cat</td><td>str</td></tr></thead><tbody><tr><td>&quot;31023-29-538&quot;</td><td>32.950001</td><td>38.700001</td><td>-117.579987</td><td>85.380005</td><td>31023</td><td>0.0</td><td>157.039993</td><td>&quot;WR&quot;</td><td>1.88</td><td>90.699997</td><td>0.191</td><td>null</td><td>null</td><td>null</td><td>null</td><td>null</td><td>null</td><td>null</td><td>null</td><td>null</td><td>0.275736</td><td>0.193015</td><td>null</td><td>null</td><td>null</td><td>null</td><td>null</td><td>null</td><td>null</td><td>null</td><td>&quot;Tackling&quot;</td><td>&quot;Helmet-to-body&quot;</td><td>&quot;31941&quot;</td><td>&quot;Tackled&quot;</td><td>&quot;31941-29-538&quot;</td></tr><tr><td>&quot;31023-29-538&quot;</td><td>32.98</td><td>38.720001</td><td>-119.970001</td><td>105.070007</td><td>31023</td><td>0.1</td><td>134.960007</td><td>&quot;WR&quot;</td><td>1.88</td><td>90.699997</td><td>0.191</td><td>0.036055</td><td>0.360547</td><td>0.299988</td><td>0.200005</td><td>3.436552</td><td>-0.417137</td><td>3.853689</td><td>27.208893</td><td>18.140415</td><td>0.275736</td><td>0.193015</td><td>32.70166</td><td>0.94758</td><td>0.743819</td><td>null</td><td>null</td><td>null</td><td>null</td><td>null</td><td>&quot;Tackling&quot;</td><td>&quot;Helmet-to-body&quot;</td><td>&quot;31941&quot;</td><td>&quot;Tackled&quot;</td><td>&quot;31941-29-538&quot;</td></tr><tr><td>&quot;31023-29-538&quot;</td><td>32.98</td><td>38.709999</td><td>-122.320007</td><td>90.539978</td><td>31023</td><td>0.2</td><td>147.139999</td><td>&quot;WR&quot;</td><td>1.88</td><td>90.699997</td><td>0.191</td><td>0.010002</td><td>0.100021</td><td>0.0</td><td>-0.100021</td><td>-2.535969</td><td>-0.410154</td><td>2.125815</td><td>0.0</td><td>-9.071938</td><td>0.275736</td><td>0.193015</td><td>9.071938</td><td>-0.699257</td><td>0.410314</td><td>-27.208893</td><td>-27.212353</td><td>38.481632</td><td>-16.468365</td><td>-3.335054</td><td>&quot;Tackling&quot;</td><td>&quot;Helmet-to-body&quot;</td><td>&quot;31941&quot;</td><td>&quot;Tackled&quot;</td><td>&quot;31941-29-538&quot;</td></tr><tr><td>&quot;31023-29-538&quot;</td><td>32.93</td><td>38.669998</td><td>-124.540009</td><td>48.880005</td><td>31023</td><td>0.3</td><td>173.419998</td><td>&quot;WR&quot;</td><td>1.88</td><td>90.699997</td><td>0.191</td><td>0.064031</td><td>0.640312</td><td>-0.499992</td><td>-0.400009</td><td>-7.271037</td><td>-0.387464</td><td>6.883573</td><td>-45.349308</td><td>-36.28083</td><td>0.275736</td><td>0.193015</td><td>58.076317</td><td>-2.004883</td><td>1.328632</td><td>-45.349308</td><td>-27.208893</td><td>52.885574</td><td>-13.056264</td><td>9.183182</td><td>&quot;Tackling&quot;</td><td>&quot;Helmet-to-body&quot;</td><td>&quot;31941&quot;</td><td>&quot;Tackled&quot;</td><td>&quot;31941-29-538&quot;</td></tr><tr><td>&quot;31023-29-538&quot;</td><td>32.900002</td><td>38.619999</td><td>-126.799988</td><td>40.029999</td><td>31023</td><td>0.4</td><td>166.830002</td><td>&quot;WR&quot;</td><td>1.88</td><td>90.699997</td><td>0.191</td><td>0.058308</td><td>0.583082</td><td>-0.299988</td><td>-0.499992</td><td>-1.544617</td><td>-0.39444</td><td>1.150178</td><td>-27.208893</td><td>-45.349308</td><td>0.275736</td><td>0.193015</td><td>52.885574</td><td>-0.425906</td><td>0.222001</td><td>18.140415</td><td>-9.068478</td><td>20.280827</td><td>15.789774</td><td>-11.066308</td><td>&quot;Tackling&quot;</td><td>&quot;Helmet-to-body&quot;</td><td>&quot;31941&quot;</td><td>&quot;Tackled&quot;</td><td>&quot;31941-29-538&quot;</td></tr></tbody></table></div>"
      ],
      "text/plain": [
       "shape: (5, 36)\n",
       "┌───────────┬───────────┬───────────┬───────────┬───┬───────────┬───────────┬───────────┬──────────┐\n",
       "│ PlayKey   ┆ x         ┆ y         ┆ o         ┆ … ┆ Primary_I ┆ Primary_P ┆ Primary_P ┆ Opponent │\n",
       "│ ---       ┆ ---       ┆ ---       ┆ ---       ┆   ┆ mpact_Typ ┆ artner_GS ┆ artner_Ac ┆ Key      │\n",
       "│ str       ┆ f32       ┆ f32       ┆ f32       ┆   ┆ e         ┆ ISID      ┆ tivity_De ┆ ---      │\n",
       "│           ┆           ┆           ┆           ┆   ┆ ---       ┆ ---       ┆ riv…      ┆ str      │\n",
       "│           ┆           ┆           ┆           ┆   ┆ cat       ┆ str       ┆ ---       ┆          │\n",
       "│           ┆           ┆           ┆           ┆   ┆           ┆           ┆ cat       ┆          │\n",
       "╞═══════════╪═══════════╪═══════════╪═══════════╪═══╪═══════════╪═══════════╪═══════════╪══════════╡\n",
       "│ 31023-29- ┆ 32.950001 ┆ 38.700001 ┆ -117.5799 ┆ … ┆ Helmet-to ┆ 31941     ┆ Tackled   ┆ 31941-29 │\n",
       "│ 538       ┆           ┆           ┆ 87        ┆   ┆ -body     ┆           ┆           ┆ -538     │\n",
       "│ 31023-29- ┆ 32.98     ┆ 38.720001 ┆ -119.9700 ┆ … ┆ Helmet-to ┆ 31941     ┆ Tackled   ┆ 31941-29 │\n",
       "│ 538       ┆           ┆           ┆ 01        ┆   ┆ -body     ┆           ┆           ┆ -538     │\n",
       "│ 31023-29- ┆ 32.98     ┆ 38.709999 ┆ -122.3200 ┆ … ┆ Helmet-to ┆ 31941     ┆ Tackled   ┆ 31941-29 │\n",
       "│ 538       ┆           ┆           ┆ 07        ┆   ┆ -body     ┆           ┆           ┆ -538     │\n",
       "│ 31023-29- ┆ 32.93     ┆ 38.669998 ┆ -124.5400 ┆ … ┆ Helmet-to ┆ 31941     ┆ Tackled   ┆ 31941-29 │\n",
       "│ 538       ┆           ┆           ┆ 09        ┆   ┆ -body     ┆           ┆           ┆ -538     │\n",
       "│ 31023-29- ┆ 32.900002 ┆ 38.619999 ┆ -126.7999 ┆ … ┆ Helmet-to ┆ 31941     ┆ Tackled   ┆ 31941-29 │\n",
       "│ 538       ┆           ┆           ┆ 88        ┆   ┆ -body     ┆           ┆           ┆ -538     │\n",
       "└───────────┴───────────┴───────────┴───────────┴───┴───────────┴───────────┴───────────┴──────────┘"
      ]
     },
     "execution_count": 8,
     "metadata": {},
     "output_type": "execute_result"
    }
   ],
   "source": [
    "pl.read_parquet(\"F:/Data/Processing_data/OpponentPlays.parquet\").head()"
   ]
  },
  {
   "cell_type": "markdown",
   "metadata": {},
   "source": [
    "# Concussion Summary "
   ]
  },
  {
   "cell_type": "code",
   "execution_count": 7,
   "metadata": {},
   "outputs": [
    {
     "data": {
      "text/html": [
       "<div><style>\n",
       ".dataframe > thead > tr,\n",
       ".dataframe > tbody > tr {\n",
       "  text-align: right;\n",
       "  white-space: pre-wrap;\n",
       "}\n",
       "</style>\n",
       "<small>shape: (5, 29)</small><table border=\"1\" class=\"dataframe\"><thead><tr><th>PlayKey</th><th>GSISID</th><th>GameKey</th><th>PlayID</th><th>Position</th><th>Number</th><th>Role</th><th>Game_Date</th><th>YardLine</th><th>Quarter</th><th>Play_Type</th><th>Poss_Team</th><th>Game_Site</th><th>Start_Time</th><th>HomeTeamCode</th><th>VisitTeamCode</th><th>StadiumType</th><th>FieldType</th><th>Weather</th><th>Temperature</th><th>Player_Activity_Derived</th><th>Primary_Impact_Type</th><th>Primary_Partner_Activity_Derived</th><th>Primary_Partner_GSISID</th><th>OpponentKey</th><th>IsInjured</th><th>Home_Score</th><th>Visiting_Score</th><th>Score_Difference</th></tr><tr><td>str</td><td>i32</td><td>i16</td><td>i16</td><td>cat</td><td>cat</td><td>cat</td><td>cat</td><td>cat</td><td>i8</td><td>cat</td><td>cat</td><td>cat</td><td>cat</td><td>cat</td><td>cat</td><td>cat</td><td>cat</td><td>cat</td><td>f32</td><td>cat</td><td>cat</td><td>cat</td><td>i32</td><td>cat</td><td>i8</td><td>i8</td><td>i8</td><td>i8</td></tr></thead><tbody><tr><td>&quot;32189-12-3632&quot;</td><td>32189</td><td>12</td><td>3632</td><td>&quot;LB&quot;</td><td>&quot;97&quot;</td><td>&quot;PDR2&quot;</td><td>&quot;08/11/2016&quot;</td><td>&quot;NE 24&quot;</td><td>4</td><td>&quot;Punt&quot;</td><td>&quot;NE&quot;</td><td>&quot;Foxborough&quot;</td><td>&quot;19:30&quot;</td><td>&quot;NE&quot;</td><td>&quot;NO&quot;</td><td>&quot;Outdoor&quot;</td><td>&quot;Synthetic&quot;</td><td>&quot;Hazy/Fog&quot;</td><td>84.0</td><td>&quot;No_Injury&quot;</td><td>&quot;No_Injury&quot;</td><td>&quot;No_Injury&quot;</td><td>0</td><td>&quot;None&quot;</td><td>0</td><td>24</td><td>22</td><td>2</td></tr><tr><td>&quot;31208-59-574&quot;</td><td>31208</td><td>59</td><td>574</td><td>&quot;DE&quot;</td><td>&quot;57&quot;</td><td>&quot;PDL3&quot;</td><td>&quot;09/01/2016&quot;</td><td>&quot;BLT 11&quot;</td><td>1</td><td>&quot;Punt&quot;</td><td>&quot;BLT&quot;</td><td>&quot;New Orleans&quot;</td><td>&quot;19:00&quot;</td><td>&quot;NO&quot;</td><td>&quot;BLT&quot;</td><td>&quot;Indoor&quot;</td><td>&quot;Synthetic&quot;</td><td>&quot;Cloudy&quot;</td><td>92.0</td><td>&quot;No_Injury&quot;</td><td>&quot;No_Injury&quot;</td><td>&quot;No_Injury&quot;</td><td>0</td><td>&quot;None&quot;</td><td>0</td><td>3</td><td>0</td><td>3</td></tr><tr><td>&quot;28932-619-3026&quot;</td><td>28932</td><td>619</td><td>3026</td><td>&quot;ILB&quot;</td><td>&quot;54&quot;</td><td>&quot;PLG&quot;</td><td>&quot;12/17/2017&quot;</td><td>&quot;PIT 34&quot;</td><td>4</td><td>&quot;Punt&quot;</td><td>&quot;PIT&quot;</td><td>&quot;Pittsburgh&quot;</td><td>&quot;16:25&quot;</td><td>&quot;PIT&quot;</td><td>&quot;NE&quot;</td><td>&quot;Outdoor&quot;</td><td>&quot;Natural&quot;</td><td>&quot;Cloudy&quot;</td><td>42.0</td><td>&quot;No_Injury&quot;</td><td>&quot;No_Injury&quot;</td><td>&quot;No_Injury&quot;</td><td>0</td><td>&quot;None&quot;</td><td>0</td><td>24</td><td>16</td><td>8</td></tr><tr><td>&quot;31940-286-2097&quot;</td><td>31940</td><td>286</td><td>2097</td><td>&quot;DE&quot;</td><td>&quot;96&quot;</td><td>&quot;PDL4&quot;</td><td>&quot;12/18/2016&quot;</td><td>&quot;DEN 33&quot;</td><td>3</td><td>&quot;Punt&quot;</td><td>&quot;DEN&quot;</td><td>&quot;Denver&quot;</td><td>&quot;14:25&quot;</td><td>&quot;DEN&quot;</td><td>&quot;NE&quot;</td><td>&quot;Outdoor&quot;</td><td>&quot;Natural&quot;</td><td>&quot;Clear&quot;</td><td>18.0</td><td>&quot;No_Injury&quot;</td><td>&quot;No_Injury&quot;</td><td>&quot;No_Injury&quot;</td><td>0</td><td>&quot;None&quot;</td><td>0</td><td>3</td><td>10</td><td>-7</td></tr><tr><td>&quot;32059-533-2862&quot;</td><td>32059</td><td>533</td><td>2862</td><td>&quot;CB&quot;</td><td>&quot;26&quot;</td><td>&quot;VL&quot;</td><td>&quot;11/12/2017&quot;</td><td>&quot;BUF 30&quot;</td><td>3</td><td>&quot;Punt&quot;</td><td>&quot;BUF&quot;</td><td>&quot;Orchard Park&quot;</td><td>&quot;13:00&quot;</td><td>&quot;BUF&quot;</td><td>&quot;NO&quot;</td><td>&quot;Outdoor&quot;</td><td>&quot;Synthetic&quot;</td><td>&quot;Cloudy&quot;</td><td>42.0</td><td>&quot;No_Injury&quot;</td><td>&quot;No_Injury&quot;</td><td>&quot;No_Injury&quot;</td><td>0</td><td>&quot;None&quot;</td><td>0</td><td>3</td><td>30</td><td>-27</td></tr></tbody></table></div>"
      ],
      "text/plain": [
       "shape: (5, 29)\n",
       "┌─────────────┬────────┬─────────┬────────┬───┬───────────┬────────────┬─────────────┬─────────────┐\n",
       "│ PlayKey     ┆ GSISID ┆ GameKey ┆ PlayID ┆ … ┆ IsInjured ┆ Home_Score ┆ Visiting_Sc ┆ Score_Diffe │\n",
       "│ ---         ┆ ---    ┆ ---     ┆ ---    ┆   ┆ ---       ┆ ---        ┆ ore         ┆ rence       │\n",
       "│ str         ┆ i32    ┆ i16     ┆ i16    ┆   ┆ i8        ┆ i8         ┆ ---         ┆ ---         │\n",
       "│             ┆        ┆         ┆        ┆   ┆           ┆            ┆ i8          ┆ i8          │\n",
       "╞═════════════╪════════╪═════════╪════════╪═══╪═══════════╪════════════╪═════════════╪═════════════╡\n",
       "│ 32189-12-36 ┆ 32189  ┆ 12      ┆ 3632   ┆ … ┆ 0         ┆ 24         ┆ 22          ┆ 2           │\n",
       "│ 32          ┆        ┆         ┆        ┆   ┆           ┆            ┆             ┆             │\n",
       "│ 31208-59-57 ┆ 31208  ┆ 59      ┆ 574    ┆ … ┆ 0         ┆ 3          ┆ 0           ┆ 3           │\n",
       "│ 4           ┆        ┆         ┆        ┆   ┆           ┆            ┆             ┆             │\n",
       "│ 28932-619-3 ┆ 28932  ┆ 619     ┆ 3026   ┆ … ┆ 0         ┆ 24         ┆ 16          ┆ 8           │\n",
       "│ 026         ┆        ┆         ┆        ┆   ┆           ┆            ┆             ┆             │\n",
       "│ 31940-286-2 ┆ 31940  ┆ 286     ┆ 2097   ┆ … ┆ 0         ┆ 3          ┆ 10          ┆ -7          │\n",
       "│ 097         ┆        ┆         ┆        ┆   ┆           ┆            ┆             ┆             │\n",
       "│ 32059-533-2 ┆ 32059  ┆ 533     ┆ 2862   ┆ … ┆ 0         ┆ 3          ┆ 30          ┆ -27         │\n",
       "│ 862         ┆        ┆         ┆        ┆   ┆           ┆            ┆             ┆             │\n",
       "└─────────────┴────────┴─────────┴────────┴───┴───────────┴────────────┴─────────────┴─────────────┘"
      ]
     },
     "execution_count": 7,
     "metadata": {},
     "output_type": "execute_result"
    }
   ],
   "source": [
    "qual_path = \"F:/Data/Processing_data/QualitativeConcussions.parquet\"\n",
    "qual = pl.read_parquet(qual_path)\n",
    "qual.head()"
   ]
  },
  {
   "cell_type": "markdown",
   "metadata": {},
   "source": [
    "Need to drop GSISID, GameKey, PlayID, Number, Game_Date, YardLine, Quarter, Start_Time from Qualitative when merging into Summary"
   ]
  },
  {
   "cell_type": "code",
   "execution_count": 9,
   "metadata": {},
   "outputs": [
    {
     "data": {
      "text/html": [
       "<div><style>\n",
       ".dataframe > thead > tr,\n",
       ".dataframe > tbody > tr {\n",
       "  text-align: right;\n",
       "  white-space: pre-wrap;\n",
       "}\n",
       "</style>\n",
       "<small>shape: (5, 21)</small><table border=\"1\" class=\"dataframe\"><thead><tr><th>PlayKey</th><th>Position</th><th>Role</th><th>Play_Type</th><th>Poss_Team</th><th>Game_Site</th><th>HomeTeamCode</th><th>VisitTeamCode</th><th>StadiumType</th><th>FieldType</th><th>Weather</th><th>Temperature</th><th>Player_Activity_Derived</th><th>Primary_Impact_Type</th><th>Primary_Partner_Activity_Derived</th><th>Primary_Partner_GSISID</th><th>OpponentKey</th><th>IsInjured</th><th>Home_Score</th><th>Visiting_Score</th><th>Score_Difference</th></tr><tr><td>str</td><td>cat</td><td>cat</td><td>cat</td><td>cat</td><td>cat</td><td>cat</td><td>cat</td><td>cat</td><td>cat</td><td>cat</td><td>f32</td><td>cat</td><td>cat</td><td>cat</td><td>i32</td><td>cat</td><td>i8</td><td>i8</td><td>i8</td><td>i8</td></tr></thead><tbody><tr><td>&quot;32189-12-3632&quot;</td><td>&quot;LB&quot;</td><td>&quot;PDR2&quot;</td><td>&quot;Punt&quot;</td><td>&quot;NE&quot;</td><td>&quot;Foxborough&quot;</td><td>&quot;NE&quot;</td><td>&quot;NO&quot;</td><td>&quot;Outdoor&quot;</td><td>&quot;Synthetic&quot;</td><td>&quot;Hazy/Fog&quot;</td><td>84.0</td><td>&quot;No_Injury&quot;</td><td>&quot;No_Injury&quot;</td><td>&quot;No_Injury&quot;</td><td>0</td><td>&quot;None&quot;</td><td>0</td><td>24</td><td>22</td><td>2</td></tr><tr><td>&quot;31208-59-574&quot;</td><td>&quot;DE&quot;</td><td>&quot;PDL3&quot;</td><td>&quot;Punt&quot;</td><td>&quot;BLT&quot;</td><td>&quot;New Orleans&quot;</td><td>&quot;NO&quot;</td><td>&quot;BLT&quot;</td><td>&quot;Indoor&quot;</td><td>&quot;Synthetic&quot;</td><td>&quot;Cloudy&quot;</td><td>92.0</td><td>&quot;No_Injury&quot;</td><td>&quot;No_Injury&quot;</td><td>&quot;No_Injury&quot;</td><td>0</td><td>&quot;None&quot;</td><td>0</td><td>3</td><td>0</td><td>3</td></tr><tr><td>&quot;28932-619-3026&quot;</td><td>&quot;ILB&quot;</td><td>&quot;PLG&quot;</td><td>&quot;Punt&quot;</td><td>&quot;PIT&quot;</td><td>&quot;Pittsburgh&quot;</td><td>&quot;PIT&quot;</td><td>&quot;NE&quot;</td><td>&quot;Outdoor&quot;</td><td>&quot;Natural&quot;</td><td>&quot;Cloudy&quot;</td><td>42.0</td><td>&quot;No_Injury&quot;</td><td>&quot;No_Injury&quot;</td><td>&quot;No_Injury&quot;</td><td>0</td><td>&quot;None&quot;</td><td>0</td><td>24</td><td>16</td><td>8</td></tr><tr><td>&quot;31940-286-2097&quot;</td><td>&quot;DE&quot;</td><td>&quot;PDL4&quot;</td><td>&quot;Punt&quot;</td><td>&quot;DEN&quot;</td><td>&quot;Denver&quot;</td><td>&quot;DEN&quot;</td><td>&quot;NE&quot;</td><td>&quot;Outdoor&quot;</td><td>&quot;Natural&quot;</td><td>&quot;Clear&quot;</td><td>18.0</td><td>&quot;No_Injury&quot;</td><td>&quot;No_Injury&quot;</td><td>&quot;No_Injury&quot;</td><td>0</td><td>&quot;None&quot;</td><td>0</td><td>3</td><td>10</td><td>-7</td></tr><tr><td>&quot;32059-533-2862&quot;</td><td>&quot;CB&quot;</td><td>&quot;VL&quot;</td><td>&quot;Punt&quot;</td><td>&quot;BUF&quot;</td><td>&quot;Orchard Park&quot;</td><td>&quot;BUF&quot;</td><td>&quot;NO&quot;</td><td>&quot;Outdoor&quot;</td><td>&quot;Synthetic&quot;</td><td>&quot;Cloudy&quot;</td><td>42.0</td><td>&quot;No_Injury&quot;</td><td>&quot;No_Injury&quot;</td><td>&quot;No_Injury&quot;</td><td>0</td><td>&quot;None&quot;</td><td>0</td><td>3</td><td>30</td><td>-27</td></tr></tbody></table></div>"
      ],
      "text/plain": [
       "shape: (5, 21)\n",
       "┌─────────────┬──────────┬──────┬───────────┬───┬───────────┬────────────┬────────────┬────────────┐\n",
       "│ PlayKey     ┆ Position ┆ Role ┆ Play_Type ┆ … ┆ IsInjured ┆ Home_Score ┆ Visiting_S ┆ Score_Diff │\n",
       "│ ---         ┆ ---      ┆ ---  ┆ ---       ┆   ┆ ---       ┆ ---        ┆ core       ┆ erence     │\n",
       "│ str         ┆ cat      ┆ cat  ┆ cat       ┆   ┆ i8        ┆ i8         ┆ ---        ┆ ---        │\n",
       "│             ┆          ┆      ┆           ┆   ┆           ┆            ┆ i8         ┆ i8         │\n",
       "╞═════════════╪══════════╪══════╪═══════════╪═══╪═══════════╪════════════╪════════════╪════════════╡\n",
       "│ 32189-12-36 ┆ LB       ┆ PDR2 ┆ Punt      ┆ … ┆ 0         ┆ 24         ┆ 22         ┆ 2          │\n",
       "│ 32          ┆          ┆      ┆           ┆   ┆           ┆            ┆            ┆            │\n",
       "│ 31208-59-57 ┆ DE       ┆ PDL3 ┆ Punt      ┆ … ┆ 0         ┆ 3          ┆ 0          ┆ 3          │\n",
       "│ 4           ┆          ┆      ┆           ┆   ┆           ┆            ┆            ┆            │\n",
       "│ 28932-619-3 ┆ ILB      ┆ PLG  ┆ Punt      ┆ … ┆ 0         ┆ 24         ┆ 16         ┆ 8          │\n",
       "│ 026         ┆          ┆      ┆           ┆   ┆           ┆            ┆            ┆            │\n",
       "│ 31940-286-2 ┆ DE       ┆ PDL4 ┆ Punt      ┆ … ┆ 0         ┆ 3          ┆ 10         ┆ -7         │\n",
       "│ 097         ┆          ┆      ┆           ┆   ┆           ┆            ┆            ┆            │\n",
       "│ 32059-533-2 ┆ CB       ┆ VL   ┆ Punt      ┆ … ┆ 0         ┆ 3          ┆ 30         ┆ -27        │\n",
       "│ 862         ┆          ┆      ┆           ┆   ┆           ┆            ┆            ┆            │\n",
       "└─────────────┴──────────┴──────┴───────────┴───┴───────────┴────────────┴────────────┴────────────┘"
      ]
     },
     "execution_count": 9,
     "metadata": {},
     "output_type": "execute_result"
    }
   ],
   "source": [
    "qual.drop(['GSISID', 'GameKey', 'PlayID', 'Number', 'Game_Date', 'YardLine', 'Quarter', 'Start_Time']).head()"
   ]
  },
  {
   "cell_type": "code",
   "execution_count": 15,
   "metadata": {},
   "outputs": [],
   "source": [
    "def collect_concussion_summaries(group_dir=\"F:/Data/Processing_data/concussion_output\"):\n",
    "    import polars as pl\n",
    "    \n",
    "    import os\n",
    "\n",
    "    # Initialize an empty list for the dataframes\n",
    "    summary_dfs = []\n",
    "\n",
    "    # Iterate through files in the directory\n",
    "    for file in os.listdir(group_dir):\n",
    "        if file.startswith(\"NGS-\"):\n",
    "            file_path = os.path.join(group_dir, file)\n",
    "            \n",
    "            # Read the Parquet file\n",
    "            df = pl.read_parquet(file_path)\n",
    "            \n",
    "            # Apply the summary_calculator function\n",
    "            temp_df = summary_calculator(df)\n",
    "            \n",
    "            # Append to the list of summary dataframes\n",
    "            summary_dfs.append(temp_df)\n",
    "\n",
    "    # Concatenate all summary dataframes\n",
    "    summary_df = pl.concat(summary_dfs)  \n",
    "\n",
    "    return summary_df"
   ]
  },
  {
   "cell_type": "code",
   "execution_count": 16,
   "metadata": {},
   "outputs": [],
   "source": [
    "def concussion_summary_maker(group_dir=\"F:/Data/Processing_data/concussion_output\"): \n",
    "    \"\"\"\n",
    "    Joins the qualitative and quantitative summary data from the concussion sets\n",
    "    \"\"\"\n",
    "    import polars as pl\n",
    "    pl.enable_string_cache()\n",
    "\n",
    "    # Read\n",
    "    qual_path = \"F:/Data/Processing_data/QualitativeConcussions.parquet\"\n",
    "    \n",
    "    #Write    \n",
    "    qual_quant_path = \"F:/Data/Processing_data/Full_Summary_Concussions.parquet\"\n",
    "\n",
    "    quant = collect_concussion_summaries(group_dir)\n",
    "    quals = pl.read_parquet(qual_path).drop(['GSISID', 'GameKey', 'PlayID', 'Number', 'Game_Date', 'YardLine', 'Quarter', 'Start_Time'])\n",
    "\n",
    "    qual_quant = quals.join(quant, on=\"PlayKey\", how=\"inner\")\n",
    "\n",
    "    qual_quant.write_parquet(qual_quant_path)\n",
    "    print(f\"Saved the full summary with qualitative and quantitative features at {qual_quant_path}\")    "
   ]
  },
  {
   "cell_type": "code",
   "execution_count": 17,
   "metadata": {},
   "outputs": [],
   "source": [
    "def summary_calculator(df):\n",
    "    \"\"\"\n",
    "    Collects dispalcement and distance, means and maxima for the for each of the parameters collected\n",
    "    and outputs to a quantitative summary table that can be joined to the qualitative table for machine learning.  \n",
    "    \"\"\"\n",
    "    import polars as pl # type: ignore\n",
    "\n",
    "    result = df.select([\n",
    "        \"PlayKey\"\n",
    "        , pl.col(\"Position\")\n",
    "        , pl.col(\"Displacement\").sum().over(\"PlayKey\").alias(\"Distance\")\n",
    "        , pl.col(\"x\").first().over(\"PlayKey\").alias(\"start_x\")\n",
    "        , pl.col(\"y\").first().over(\"PlayKey\").alias(\"start_y\")\n",
    "        , pl.col(\"x\").last().over(\"PlayKey\").alias(\"end_x\")\n",
    "        , pl.col(\"y\").last().over(\"PlayKey\").alias(\"end_y\")\n",
    "        , pl.col(\"Angle_Diff\").max().over(\"PlayKey\").alias(\"Max_Angle_Diff\")\n",
    "        , pl.col(\"Angle_Diff\").mean().over(\"PlayKey\").alias(\"Mean_Angle_Diff\")\n",
    "        , pl.col(\"Speed\").max().over(\"PlayKey\").alias(\"Max_Speed\")\n",
    "        , pl.col(\"Speed\").mean().over(\"PlayKey\").alias(\"Mean_Speed\")\n",
    "        , pl.col(\"J_magnitude\").max().over(\"PlayKey\").alias(\"Max_Impulse\")\n",
    "        , pl.col(\"J_magnitude\").mean().over(\"PlayKey\").alias(\"Mean_Impulse\")\n",
    "        , pl.col(\"torque\").max().over(\"PlayKey\").alias(\"Max_Torque\")\n",
    "        , pl.col(\"torque\").mean().over(\"PlayKey\").alias(\"Mean_Torque\")\n",
    "        , pl.col(\"torque_internal\").max().over(\"PlayKey\").alias(\"Max_Int_Torque\")\n",
    "        , pl.col(\"torque_internal\").mean().over(\"PlayKey\").alias(\"Mean_Int_Torque\")\n",
    "\n",
    "        ]).unique(subset=[\"PlayKey\"])\n",
    "\n",
    "\n",
    "    # Calculate the displacement\n",
    "    result = result.with_columns([\n",
    "        (((pl.col(\"end_x\") - pl.col(\"start_x\"))**2 + \n",
    "          (pl.col(\"end_y\") - pl.col(\"start_y\"))**2)**0.5)\n",
    "        .alias(\"Displacement\")\n",
    "        ]).with_columns([\n",
    "            (pl.col(\"Distance\") - pl.col(\"Displacement\")).alias(\"Path_Diff\")\n",
    "        ])\n",
    "\n",
    "     \n",
    "    # Select only the required columns\n",
    "    result = result.select([\n",
    "        'PlayKey'\n",
    "        , 'Position'\n",
    "        , 'Distance'\n",
    "        , 'Displacement'\n",
    "        , 'Path_Diff'\n",
    "        , 'Max_Angle_Diff'\n",
    "        , 'Mean_Angle_Diff'\n",
    "        , 'Max_Speed'\n",
    "        , 'Mean_Speed'\n",
    "        , 'Max_Impulse'\n",
    "        , 'Mean_Impulse'\n",
    "        , 'Max_Torque'\n",
    "        , 'Mean_Torque'\n",
    "        , 'Max_Int_Torque'\n",
    "        , 'Mean_Int_Torque'\n",
    "      \n",
    "    ]).sort(\"PlayKey\")\n",
    "\n",
    "\n",
    "    return result"
   ]
  },
  {
   "cell_type": "code",
   "execution_count": 18,
   "metadata": {},
   "outputs": [
    {
     "name": "stdout",
     "output_type": "stream",
     "text": [
      "Saved the full summary with qualitative and quantitative features at F:/Data/Processing_data/Full_Summary_Concussions.parquet\n"
     ]
    }
   ],
   "source": [
    "group_dir=\"F:/Data/Processing_data/concussion_output\"\n",
    "\n",
    "concussion_summary_maker(group_dir)"
   ]
  },
  {
   "cell_type": "code",
   "execution_count": 19,
   "metadata": {},
   "outputs": [
    {
     "data": {
      "text/html": [
       "<div><style>\n",
       ".dataframe > thead > tr,\n",
       ".dataframe > tbody > tr {\n",
       "  text-align: right;\n",
       "  white-space: pre-wrap;\n",
       "}\n",
       "</style>\n",
       "<small>shape: (5, 35)</small><table border=\"1\" class=\"dataframe\"><thead><tr><th>PlayKey</th><th>Position</th><th>Role</th><th>Play_Type</th><th>Poss_Team</th><th>Game_Site</th><th>HomeTeamCode</th><th>VisitTeamCode</th><th>StadiumType</th><th>FieldType</th><th>Weather</th><th>Temperature</th><th>Player_Activity_Derived</th><th>Primary_Impact_Type</th><th>Primary_Partner_Activity_Derived</th><th>Primary_Partner_GSISID</th><th>OpponentKey</th><th>IsInjured</th><th>Home_Score</th><th>Visiting_Score</th><th>Score_Difference</th><th>Position_right</th><th>Distance</th><th>Displacement</th><th>Path_Diff</th><th>Max_Angle_Diff</th><th>Mean_Angle_Diff</th><th>Max_Speed</th><th>Mean_Speed</th><th>Max_Impulse</th><th>Mean_Impulse</th><th>Max_Torque</th><th>Mean_Torque</th><th>Max_Int_Torque</th><th>Mean_Int_Torque</th></tr><tr><td>str</td><td>cat</td><td>cat</td><td>cat</td><td>cat</td><td>cat</td><td>cat</td><td>cat</td><td>cat</td><td>cat</td><td>cat</td><td>f32</td><td>cat</td><td>cat</td><td>cat</td><td>i32</td><td>cat</td><td>i8</td><td>i8</td><td>i8</td><td>i8</td><td>cat</td><td>f32</td><td>f32</td><td>f32</td><td>f32</td><td>f32</td><td>f32</td><td>f32</td><td>f32</td><td>f32</td><td>f32</td><td>f32</td><td>f32</td><td>f32</td></tr></thead><tbody><tr><td>&quot;28932-619-3026&quot;</td><td>&quot;ILB&quot;</td><td>&quot;PLG&quot;</td><td>&quot;Punt&quot;</td><td>&quot;PIT&quot;</td><td>&quot;Pittsburgh&quot;</td><td>&quot;PIT&quot;</td><td>&quot;NE&quot;</td><td>&quot;Outdoor&quot;</td><td>&quot;Natural&quot;</td><td>&quot;Cloudy&quot;</td><td>42.0</td><td>&quot;No_Injury&quot;</td><td>&quot;No_Injury&quot;</td><td>&quot;No_Injury&quot;</td><td>0</td><td>&quot;None&quot;</td><td>0</td><td>24</td><td>16</td><td>8</td><td>&quot;ILB&quot;</td><td>1059.546265</td><td>4.110486</td><td>1055.435791</td><td>179.690002</td><td>81.73243</td><td>438.940918</td><td>33.743496</td><td>87072.65625</td><td>7072.790527</td><td>181.551453</td><td>-0.000373</td><td>136.719818</td><td>0.00154</td></tr><tr><td>&quot;31940-286-2097&quot;</td><td>&quot;DE&quot;</td><td>&quot;PDL4&quot;</td><td>&quot;Punt&quot;</td><td>&quot;DEN&quot;</td><td>&quot;Denver&quot;</td><td>&quot;DEN&quot;</td><td>&quot;NE&quot;</td><td>&quot;Outdoor&quot;</td><td>&quot;Natural&quot;</td><td>&quot;Clear&quot;</td><td>18.0</td><td>&quot;No_Injury&quot;</td><td>&quot;No_Injury&quot;</td><td>&quot;No_Injury&quot;</td><td>0</td><td>&quot;None&quot;</td><td>0</td><td>3</td><td>10</td><td>-7</td><td>&quot;DE&quot;</td><td>657.908997</td><td>40.652538</td><td>617.25647</td><td>179.880005</td><td>88.194229</td><td>433.154724</td><td>11.481838</td><td>52065.191406</td><td>2765.052979</td><td>229.050446</td><td>0.0</td><td>188.242416</td><td>0.0</td></tr><tr><td>&quot;32059-533-2862&quot;</td><td>&quot;CB&quot;</td><td>&quot;VL&quot;</td><td>&quot;Punt&quot;</td><td>&quot;BUF&quot;</td><td>&quot;Orchard Park&quot;</td><td>&quot;BUF&quot;</td><td>&quot;NO&quot;</td><td>&quot;Outdoor&quot;</td><td>&quot;Synthetic&quot;</td><td>&quot;Cloudy&quot;</td><td>42.0</td><td>&quot;No_Injury&quot;</td><td>&quot;No_Injury&quot;</td><td>&quot;No_Injury&quot;</td><td>0</td><td>&quot;None&quot;</td><td>0</td><td>3</td><td>30</td><td>-27</td><td>&quot;CB&quot;</td><td>794.471741</td><td>39.591827</td><td>754.879883</td><td>177.380005</td><td>93.184357</td><td>415.684631</td><td>21.647732</td><td>36330.835938</td><td>3794.362793</td><td>161.900818</td><td>0.0</td><td>122.014114</td><td>0.0</td></tr><tr><td>&quot;32012-337-411&quot;</td><td>&quot;WR&quot;</td><td>&quot;PDR3&quot;</td><td>&quot;Punt&quot;</td><td>&quot;BUF&quot;</td><td>&quot;Orchard Park&quot;</td><td>&quot;BUF&quot;</td><td>&quot;MIN&quot;</td><td>&quot;Outdoor&quot;</td><td>&quot;Synthetic&quot;</td><td>&quot;Cloudy&quot;</td><td>82.0</td><td>&quot;No_Injury&quot;</td><td>&quot;No_Injury&quot;</td><td>&quot;No_Injury&quot;</td><td>0</td><td>&quot;None&quot;</td><td>0</td><td>0</td><td>0</td><td>0</td><td>&quot;WR&quot;</td><td>1515.785522</td><td>42.873726</td><td>1472.911743</td><td>179.979996</td><td>53.64418</td><td>479.613007</td><td>54.721508</td><td>43526.503906</td><td>9383.631836</td><td>337.861084</td><td>0.012729</td><td>146.058716</td><td>0.007385</td></tr><tr><td>&quot;32725-550-2460&quot;</td><td>&quot;TE&quot;</td><td>&quot;PRW&quot;</td><td>&quot;Punt&quot;</td><td>&quot;HST&quot;</td><td>&quot;Houston&quot;</td><td>&quot;HST&quot;</td><td>&quot;ARZ&quot;</td><td>&quot;Indoor&quot;</td><td>&quot;Synthetic&quot;</td><td>&quot;Clear&quot;</td><td>60.0</td><td>&quot;No_Injury&quot;</td><td>&quot;No_Injury&quot;</td><td>&quot;No_Injury&quot;</td><td>0</td><td>&quot;None&quot;</td><td>0</td><td>17</td><td>14</td><td>3</td><td>&quot;TE&quot;</td><td>2147.256348</td><td>26.946266</td><td>2120.310059</td><td>179.970001</td><td>83.138863</td><td>532.389038</td><td>38.275501</td><td>106859.875</td><td>8476.088867</td><td>434.9646</td><td>0.101166</td><td>179.966187</td><td>0.034888</td></tr></tbody></table></div>"
      ],
      "text/plain": [
       "shape: (5, 35)\n",
       "┌────────────┬──────────┬──────┬───────────┬───┬────────────┬────────────┬────────────┬────────────┐\n",
       "│ PlayKey    ┆ Position ┆ Role ┆ Play_Type ┆ … ┆ Max_Torque ┆ Mean_Torqu ┆ Max_Int_To ┆ Mean_Int_T │\n",
       "│ ---        ┆ ---      ┆ ---  ┆ ---       ┆   ┆ ---        ┆ e          ┆ rque       ┆ orque      │\n",
       "│ str        ┆ cat      ┆ cat  ┆ cat       ┆   ┆ f32        ┆ ---        ┆ ---        ┆ ---        │\n",
       "│            ┆          ┆      ┆           ┆   ┆            ┆ f32        ┆ f32        ┆ f32        │\n",
       "╞════════════╪══════════╪══════╪═══════════╪═══╪════════════╪════════════╪════════════╪════════════╡\n",
       "│ 28932-619- ┆ ILB      ┆ PLG  ┆ Punt      ┆ … ┆ 181.551453 ┆ -0.000373  ┆ 136.719818 ┆ 0.00154    │\n",
       "│ 3026       ┆          ┆      ┆           ┆   ┆            ┆            ┆            ┆            │\n",
       "│ 31940-286- ┆ DE       ┆ PDL4 ┆ Punt      ┆ … ┆ 229.050446 ┆ 0.0        ┆ 188.242416 ┆ 0.0        │\n",
       "│ 2097       ┆          ┆      ┆           ┆   ┆            ┆            ┆            ┆            │\n",
       "│ 32059-533- ┆ CB       ┆ VL   ┆ Punt      ┆ … ┆ 161.900818 ┆ 0.0        ┆ 122.014114 ┆ 0.0        │\n",
       "│ 2862       ┆          ┆      ┆           ┆   ┆            ┆            ┆            ┆            │\n",
       "│ 32012-337- ┆ WR       ┆ PDR3 ┆ Punt      ┆ … ┆ 337.861084 ┆ 0.012729   ┆ 146.058716 ┆ 0.007385   │\n",
       "│ 411        ┆          ┆      ┆           ┆   ┆            ┆            ┆            ┆            │\n",
       "│ 32725-550- ┆ TE       ┆ PRW  ┆ Punt      ┆ … ┆ 434.9646   ┆ 0.101166   ┆ 179.966187 ┆ 0.034888   │\n",
       "│ 2460       ┆          ┆      ┆           ┆   ┆            ┆            ┆            ┆            │\n",
       "└────────────┴──────────┴──────┴───────────┴───┴────────────┴────────────┴────────────┴────────────┘"
      ]
     },
     "execution_count": 19,
     "metadata": {},
     "output_type": "execute_result"
    }
   ],
   "source": [
    "pl.read_parquet(\"F:/Data/Processing_data/Full_Summary_Concussions.parquet\").head()"
   ]
  },
  {
   "cell_type": "markdown",
   "metadata": {},
   "source": [
    "# Create a tracking dataset for Tableau for paths and injuries"
   ]
  },
  {
   "cell_type": "code",
   "execution_count": 9,
   "metadata": {},
   "outputs": [
    {
     "data": {
      "text/html": [
       "<div><style>\n",
       ".dataframe > thead > tr,\n",
       ".dataframe > tbody > tr {\n",
       "  text-align: right;\n",
       "  white-space: pre-wrap;\n",
       "}\n",
       "</style>\n",
       "<small>shape: (2_021, 36)</small><table border=\"1\" class=\"dataframe\"><thead><tr><th>PlayKey</th><th>x</th><th>y</th><th>o</th><th>dir</th><th>GSISID</th><th>time</th><th>Angle_Diff</th><th>Position</th><th>Height_m</th><th>Weight_kg</th><th>Chest_rad_m</th><th>Displacement</th><th>Speed</th><th>vx</th><th>vy</th><th>omega_dir</th><th>omega_o</th><th>omega_diff</th><th>px</th><th>py</th><th>moment</th><th>moment_upper</th><th>p_magnitude</th><th>L_dir</th><th>L_diff</th><th>Jx</th><th>Jy</th><th>J_magnitude</th><th>torque</th><th>torque_internal</th><th>Player_Activity_Derived</th><th>Primary_Impact_Type</th><th>Primary_Partner_GSISID</th><th>Primary_Partner_Activity_Derived</th><th>OpponentKey</th></tr><tr><td>str</td><td>f32</td><td>f32</td><td>f32</td><td>f32</td><td>i32</td><td>f32</td><td>f32</td><td>cat</td><td>f32</td><td>f32</td><td>f32</td><td>f32</td><td>f32</td><td>f32</td><td>f32</td><td>f32</td><td>f32</td><td>f32</td><td>f32</td><td>f32</td><td>f32</td><td>f32</td><td>f32</td><td>f32</td><td>f32</td><td>f32</td><td>f32</td><td>f32</td><td>f32</td><td>f32</td><td>cat</td><td>cat</td><td>str</td><td>cat</td><td>str</td></tr></thead><tbody><tr><td>&quot;31941-29-538&quot;</td><td>18.77</td><td>38.830002</td><td>-7.649994</td><td>60.259995</td><td>31941</td><td>0.0</td><td>67.910004</td><td>&quot;WR&quot;</td><td>1.88</td><td>90.699997</td><td>0.191</td><td>null</td><td>null</td><td>null</td><td>null</td><td>null</td><td>null</td><td>null</td><td>null</td><td>null</td><td>0.275736</td><td>0.193015</td><td>null</td><td>null</td><td>null</td><td>null</td><td>null</td><td>null</td><td>null</td><td>null</td><td>null</td><td>null</td><td>null</td><td>null</td><td>null</td></tr><tr><td>&quot;31941-29-538&quot;</td><td>18.83</td><td>38.700001</td><td>-8.690002</td><td>60.110001</td><td>31941</td><td>0.1</td><td>68.800003</td><td>&quot;WR&quot;</td><td>1.88</td><td>90.699997</td><td>0.191</td><td>0.143179</td><td>1.43179</td><td>0.599995</td><td>-1.300011</td><td>-0.02618</td><td>-0.181516</td><td>0.155336</td><td>54.419514</td><td>-117.910965</td><td>0.275736</td><td>0.193015</td><td>129.863312</td><td>-0.007219</td><td>0.029982</td><td>null</td><td>null</td><td>null</td><td>null</td><td>null</td><td>null</td><td>null</td><td>null</td><td>null</td><td>null</td></tr><tr><td>&quot;31941-29-538&quot;</td><td>18.9</td><td>38.59</td><td>-9.540009</td><td>59.820007</td><td>31941</td><td>0.2</td><td>69.360001</td><td>&quot;WR&quot;</td><td>1.88</td><td>90.699997</td><td>0.191</td><td>0.130384</td><td>1.303844</td><td>0.699997</td><td>-1.100006</td><td>-0.050613</td><td>-0.148354</td><td>0.097741</td><td>63.489719</td><td>-99.770554</td><td>0.275736</td><td>0.193015</td><td>118.258644</td><td>-0.013956</td><td>0.018866</td><td>9.070206</td><td>18.140411</td><td>20.281595</td><td>-0.067371</td><td>-0.111166</td><td>null</td><td>null</td><td>null</td><td>null</td><td>null</td></tr><tr><td>&quot;31941-29-538&quot;</td><td>19.0</td><td>38.48</td><td>-10.449997</td><td>59.550003</td><td>31941</td><td>0.3</td><td>70.0</td><td>&quot;WR&quot;</td><td>1.88</td><td>90.699997</td><td>0.191</td><td>0.148661</td><td>1.486614</td><td>1.000004</td><td>-1.100006</td><td>-0.047125</td><td>-0.158823</td><td>0.111699</td><td>90.70034</td><td>-99.770554</td><td>0.275736</td><td>0.193015</td><td>134.835876</td><td>-0.012994</td><td>0.021559</td><td>27.210621</td><td>0.0</td><td>27.210621</td><td>0.009618</td><td>0.026939</td><td>null</td><td>null</td><td>null</td><td>null</td><td>null</td></tr><tr><td>&quot;31941-29-538&quot;</td><td>19.09</td><td>38.380001</td><td>-11.399994</td><td>58.889999</td><td>31941</td><td>0.4</td><td>70.290001</td><td>&quot;WR&quot;</td><td>1.88</td><td>90.699997</td><td>0.191</td><td>0.134535</td><td>1.345352</td><td>0.900002</td><td>-0.999985</td><td>-0.115193</td><td>-0.165806</td><td>0.050612</td><td>81.630135</td><td>-90.698616</td><td>0.275736</td><td>0.193015</td><td>122.023438</td><td>-0.031763</td><td>0.009769</td><td>-9.070206</td><td>9.071938</td><td>12.828432</td><td>-0.187689</td><td>-0.117905</td><td>null</td><td>null</td><td>null</td><td>null</td><td>null</td></tr><tr><td>&hellip;</td><td>&hellip;</td><td>&hellip;</td><td>&hellip;</td><td>&hellip;</td><td>&hellip;</td><td>&hellip;</td><td>&hellip;</td><td>&hellip;</td><td>&hellip;</td><td>&hellip;</td><td>&hellip;</td><td>&hellip;</td><td>&hellip;</td><td>&hellip;</td><td>&hellip;</td><td>&hellip;</td><td>&hellip;</td><td>&hellip;</td><td>&hellip;</td><td>&hellip;</td><td>&hellip;</td><td>&hellip;</td><td>&hellip;</td><td>&hellip;</td><td>&hellip;</td><td>&hellip;</td><td>&hellip;</td><td>&hellip;</td><td>&hellip;</td><td>&hellip;</td><td>&hellip;</td><td>&hellip;</td><td>&hellip;</td><td>&hellip;</td><td>&hellip;</td></tr><tr><td>&quot;27060-506-1988&quot;</td><td>34.84</td><td>30.34</td><td>-91.309998</td><td>179.299988</td><td>27060</td><td>44.900002</td><td>89.389999</td><td>&quot;FS&quot;</td><td>1.84</td><td>95.900002</td><td>0.191</td><td>0.926121</td><td>9.261209</td><td>8.400002</td><td>-3.899994</td><td>6.834705</td><td>-0.205948</td><td>7.040653</td><td>805.560181</td><td>-374.00943</td><td>0.291544</td><td>0.204081</td><td>888.149902</td><td>1.992617</td><td>1.436862</td><td>7269.22168</td><td>16418.082031</td><td>17955.361328</td><td>15.631561</td><td>-83.280373</td><td>&quot;Tackled&quot;</td><td>&quot;Helmet-to-helmet&quot;</td><td>null</td><td>&quot;Tackling&quot;</td><td>null</td></tr><tr><td>&quot;27060-506-1988&quot;</td><td>35.369999</td><td>30.59</td><td>-89.260002</td><td>-43.720001</td><td>27060</td><td>45.0</td><td>45.540001</td><td>&quot;FS&quot;</td><td>1.84</td><td>95.900002</td><td>0.191</td><td>0.586002</td><td>5.860023</td><td>5.299988</td><td>2.5</td><td>-38.924332</td><td>0.357792</td><td>39.282124</td><td>508.268829</td><td>239.75</td><td>0.291544</td><td>0.204081</td><td>561.976196</td><td>-11.348155</td><td>8.016727</td><td>-297.291351</td><td>613.759399</td><td>681.969788</td><td>-133.40773</td><td>65.798653</td><td>&quot;Tackled&quot;</td><td>&quot;Helmet-to-helmet&quot;</td><td>null</td><td>&quot;Tackling&quot;</td><td>null</td></tr><tr><td>&quot;27060-506-1988&quot;</td><td>38.360001</td><td>39.779999</td><td>-125.679993</td><td>-127.579987</td><td>27060</td><td>45.099998</td><td>1.9</td><td>&quot;FS&quot;</td><td>1.84</td><td>95.900002</td><td>0.191</td><td>9.66417</td><td>96.641701</td><td>29.900017</td><td>91.899986</td><td>-14.636331</td><td>-6.356488</td><td>8.279842</td><td>2867.411621</td><td>8813.208984</td><td>0.291544</td><td>0.204081</td><td>9267.939453</td><td>-4.267134</td><td>1.689757</td><td>2359.142822</td><td>8573.458984</td><td>8892.117188</td><td>70.810211</td><td>-63.269707</td><td>&quot;Tackled&quot;</td><td>&quot;Helmet-to-helmet&quot;</td><td>null</td><td>&quot;Tackling&quot;</td><td>null</td></tr><tr><td>&quot;27060-506-1988&quot;</td><td>36.759998</td><td>42.990002</td><td>-126.98999</td><td>-78.389999</td><td>27060</td><td>45.200001</td><td>48.599998</td><td>&quot;FS&quot;</td><td>1.84</td><td>95.900002</td><td>0.191</td><td>3.586659</td><td>35.866592</td><td>-16.000023</td><td>32.100029</td><td>8.585273</td><td>-0.228636</td><td>8.81391</td><td>-1534.402222</td><td>3078.392822</td><td>0.291544</td><td>0.204081</td><td>3439.606445</td><td>2.502985</td><td>1.79875</td><td>-4401.813965</td><td>-5734.816406</td><td>7229.390625</td><td>67.701187</td><td>1.089929</td><td>&quot;Tackled&quot;</td><td>&quot;Helmet-to-helmet&quot;</td><td>null</td><td>&quot;Tackling&quot;</td><td>null</td></tr><tr><td>&quot;27060-506-1988&quot;</td><td>35.150002</td><td>30.610001</td><td>-86.940002</td><td>-149.369995</td><td>27060</td><td>45.299999</td><td>62.43</td><td>&quot;FS&quot;</td><td>1.84</td><td>95.900002</td><td>0.191</td><td>12.48425</td><td>124.842499</td><td>-16.099968</td><td>-123.800011</td><td>-12.388348</td><td>6.990042</td><td>19.378389</td><td>-1543.986938</td><td>-11872.420898</td><td>0.291544</td><td>0.204081</td><td>11972.396484</td><td>-3.611748</td><td>3.954757</td><td>-9.584717</td><td>-14950.813477</td><td>14950.816406</td><td>-61.147327</td><td>21.560074</td><td>&quot;Tackled&quot;</td><td>&quot;Helmet-to-helmet&quot;</td><td>null</td><td>&quot;Tackling&quot;</td><td>null</td></tr></tbody></table></div>"
      ],
      "text/plain": [
       "shape: (2_021, 36)\n",
       "┌───────────┬───────────┬───────────┬───────────┬───┬───────────┬───────────┬───────────┬──────────┐\n",
       "│ PlayKey   ┆ x         ┆ y         ┆ o         ┆ … ┆ Primary_I ┆ Primary_P ┆ Primary_P ┆ Opponent │\n",
       "│ ---       ┆ ---       ┆ ---       ┆ ---       ┆   ┆ mpact_Typ ┆ artner_GS ┆ artner_Ac ┆ Key      │\n",
       "│ str       ┆ f32       ┆ f32       ┆ f32       ┆   ┆ e         ┆ ISID      ┆ tivity_De ┆ ---      │\n",
       "│           ┆           ┆           ┆           ┆   ┆ ---       ┆ ---       ┆ riv…      ┆ str      │\n",
       "│           ┆           ┆           ┆           ┆   ┆ cat       ┆ str       ┆ ---       ┆          │\n",
       "│           ┆           ┆           ┆           ┆   ┆           ┆           ┆ cat       ┆          │\n",
       "╞═══════════╪═══════════╪═══════════╪═══════════╪═══╪═══════════╪═══════════╪═══════════╪══════════╡\n",
       "│ 31941-29- ┆ 18.77     ┆ 38.830002 ┆ -7.649994 ┆ … ┆ null      ┆ null      ┆ null      ┆ null     │\n",
       "│ 538       ┆           ┆           ┆           ┆   ┆           ┆           ┆           ┆          │\n",
       "│ 31941-29- ┆ 18.83     ┆ 38.700001 ┆ -8.690002 ┆ … ┆ null      ┆ null      ┆ null      ┆ null     │\n",
       "│ 538       ┆           ┆           ┆           ┆   ┆           ┆           ┆           ┆          │\n",
       "│ 31941-29- ┆ 18.9      ┆ 38.59     ┆ -9.540009 ┆ … ┆ null      ┆ null      ┆ null      ┆ null     │\n",
       "│ 538       ┆           ┆           ┆           ┆   ┆           ┆           ┆           ┆          │\n",
       "│ 31941-29- ┆ 19.0      ┆ 38.48     ┆ -10.44999 ┆ … ┆ null      ┆ null      ┆ null      ┆ null     │\n",
       "│ 538       ┆           ┆           ┆ 7         ┆   ┆           ┆           ┆           ┆          │\n",
       "│ 31941-29- ┆ 19.09     ┆ 38.380001 ┆ -11.39999 ┆ … ┆ null      ┆ null      ┆ null      ┆ null     │\n",
       "│ 538       ┆           ┆           ┆ 4         ┆   ┆           ┆           ┆           ┆          │\n",
       "│ …         ┆ …         ┆ …         ┆ …         ┆ … ┆ …         ┆ …         ┆ …         ┆ …        │\n",
       "│ 27060-506 ┆ 34.84     ┆ 30.34     ┆ -91.30999 ┆ … ┆ Helmet-to ┆ null      ┆ Tackling  ┆ null     │\n",
       "│ -1988     ┆           ┆           ┆ 8         ┆   ┆ -helmet   ┆           ┆           ┆          │\n",
       "│ 27060-506 ┆ 35.369999 ┆ 30.59     ┆ -89.26000 ┆ … ┆ Helmet-to ┆ null      ┆ Tackling  ┆ null     │\n",
       "│ -1988     ┆           ┆           ┆ 2         ┆   ┆ -helmet   ┆           ┆           ┆          │\n",
       "│ 27060-506 ┆ 38.360001 ┆ 39.779999 ┆ -125.6799 ┆ … ┆ Helmet-to ┆ null      ┆ Tackling  ┆ null     │\n",
       "│ -1988     ┆           ┆           ┆ 93        ┆   ┆ -helmet   ┆           ┆           ┆          │\n",
       "│ 27060-506 ┆ 36.759998 ┆ 42.990002 ┆ -126.9899 ┆ … ┆ Helmet-to ┆ null      ┆ Tackling  ┆ null     │\n",
       "│ -1988     ┆           ┆           ┆ 9         ┆   ┆ -helmet   ┆           ┆           ┆          │\n",
       "│ 27060-506 ┆ 35.150002 ┆ 30.610001 ┆ -86.94000 ┆ … ┆ Helmet-to ┆ null      ┆ Tackling  ┆ null     │\n",
       "│ -1988     ┆           ┆           ┆ 2         ┆   ┆ -helmet   ┆           ┆           ┆          │\n",
       "└───────────┴───────────┴───────────┴───────────┴───┴───────────┴───────────┴───────────┴──────────┘"
      ]
     },
     "execution_count": 9,
     "metadata": {},
     "output_type": "execute_result"
    }
   ],
   "source": [
    "pl.read_parquet(\"F:/Data/Processing_data/OpponentPlays.parquet\").filter(pl.col(\"OpponentKey\").is_null())\n",
    "# cf.filter(pl.col(\"PlayKey\")==\"31941-29-538\")"
   ]
  },
  {
   "cell_type": "code",
   "execution_count": null,
   "metadata": {},
   "outputs": [],
   "source": []
  },
  {
   "cell_type": "code",
   "execution_count": 10,
   "metadata": {},
   "outputs": [
    {
     "data": {
      "text/html": [
       "<div><style>\n",
       ".dataframe > thead > tr,\n",
       ".dataframe > tbody > tr {\n",
       "  text-align: right;\n",
       "  white-space: pre-wrap;\n",
       "}\n",
       "</style>\n",
       "<small>shape: (3, 30)</small><table border=\"1\" class=\"dataframe\"><thead><tr><th>PlayKey</th><th>time</th><th>x</th><th>y</th><th>dir</th><th>o</th><th>Angle_Diff</th><th>Displacement</th><th>Speed</th><th>vx</th><th>vy</th><th>omega_dir</th><th>omega_o</th><th>omega_diff</th><th>Position</th><th>Height_m</th><th>Weight_kg</th><th>Chest_rad_m</th><th>px</th><th>py</th><th>moment</th><th>moment_upper</th><th>p_magnitude</th><th>L_dir</th><th>L_diff</th><th>Jx</th><th>Jy</th><th>J_magnitude</th><th>torque</th><th>torque_internal</th></tr><tr><td>str</td><td>f32</td><td>f32</td><td>f32</td><td>f32</td><td>f32</td><td>f32</td><td>f32</td><td>f32</td><td>f32</td><td>f32</td><td>f32</td><td>f32</td><td>f32</td><td>cat</td><td>f32</td><td>f32</td><td>f32</td><td>f32</td><td>f32</td><td>f32</td><td>f32</td><td>f32</td><td>f32</td><td>f32</td><td>f32</td><td>f32</td><td>f32</td><td>f32</td><td>f32</td></tr></thead><tbody><tr><td>&quot;39678-2-1&quot;</td><td>0.0</td><td>70.110001</td><td>30.780001</td><td>21.980011</td><td>-9.050003</td><td>31.030001</td><td>null</td><td>null</td><td>null</td><td>null</td><td>null</td><td>null</td><td>null</td><td>&quot;DE&quot;</td><td>1.97</td><td>120.199997</td><td>0.191</td><td>null</td><td>null</td><td>0.365418</td><td>0.255793</td><td>null</td><td>null</td><td>null</td><td>null</td><td>null</td><td>null</td><td>null</td><td>null</td></tr><tr><td>&quot;39678-2-1&quot;</td><td>0.1</td><td>70.139999</td><td>30.76</td><td>26.519989</td><td>-15.600006</td><td>42.119999</td><td>0.036055</td><td>0.360547</td><td>0.299988</td><td>-0.200005</td><td>0.792376</td><td>-1.143191</td><td>1.935567</td><td>&quot;DE&quot;</td><td>1.97</td><td>120.199997</td><td>0.191</td><td>36.058533</td><td>-24.04055</td><td>0.365418</td><td>0.255793</td><td>43.337811</td><td>0.289548</td><td>0.495104</td><td>null</td><td>null</td><td>null</td><td>null</td><td>null</td></tr><tr><td>&quot;39678-2-1&quot;</td><td>0.2</td><td>70.18</td><td>30.73</td><td>30.559998</td><td>-21.419998</td><td>51.98</td><td>0.050001</td><td>0.500011</td><td>0.400009</td><td>-0.300007</td><td>0.705114</td><td>-1.01578</td><td>1.720895</td><td>&quot;DE&quot;</td><td>1.97</td><td>120.199997</td><td>0.191</td><td>48.0811</td><td>-36.060825</td><td>0.365418</td><td>0.255793</td><td>60.101376</td><td>0.257661</td><td>0.440192</td><td>12.022568</td><td>-12.020275</td><td>17.000856</td><td>-0.318868</td><td>-0.549116</td></tr></tbody></table></div>"
      ],
      "text/plain": [
       "shape: (3, 30)\n",
       "┌───────────┬──────┬───────────┬───────────┬───┬────────────┬─────────────┬───────────┬────────────┐\n",
       "│ PlayKey   ┆ time ┆ x         ┆ y         ┆ … ┆ Jy         ┆ J_magnitude ┆ torque    ┆ torque_int │\n",
       "│ ---       ┆ ---  ┆ ---       ┆ ---       ┆   ┆ ---        ┆ ---         ┆ ---       ┆ ernal      │\n",
       "│ str       ┆ f32  ┆ f32       ┆ f32       ┆   ┆ f32        ┆ f32         ┆ f32       ┆ ---        │\n",
       "│           ┆      ┆           ┆           ┆   ┆            ┆             ┆           ┆ f32        │\n",
       "╞═══════════╪══════╪═══════════╪═══════════╪═══╪════════════╪═════════════╪═══════════╪════════════╡\n",
       "│ 39678-2-1 ┆ 0.0  ┆ 70.110001 ┆ 30.780001 ┆ … ┆ null       ┆ null        ┆ null      ┆ null       │\n",
       "│ 39678-2-1 ┆ 0.1  ┆ 70.139999 ┆ 30.76     ┆ … ┆ null       ┆ null        ┆ null      ┆ null       │\n",
       "│ 39678-2-1 ┆ 0.2  ┆ 70.18     ┆ 30.73     ┆ … ┆ -12.020275 ┆ 17.000856   ┆ -0.318868 ┆ -0.549116  │\n",
       "└───────────┴──────┴───────────┴───────────┴───┴────────────┴─────────────┴───────────┴────────────┘"
      ]
     },
     "execution_count": 10,
     "metadata": {},
     "output_type": "execute_result"
    }
   ],
   "source": [
    "pl.read_parquet(\"F:/Data/Processing_data/TrackingInjuries.parquet\").head(3)"
   ]
  },
  {
   "cell_type": "markdown",
   "metadata": {},
   "source": [
    "Next steps:\n",
    "1. Reorder the columns in both tables\n",
    "2. Add missing columns to the second table\n",
    "3. Concatenate the tables"
   ]
  },
  {
   "cell_type": "code",
   "execution_count": 11,
   "metadata": {},
   "outputs": [],
   "source": [
    "injuries = pl.read_parquet(\"F:/Data/Processing_data/TrackingInjuries.parquet\")\n",
    "concussions = pl.read_parquet(\"F:/Data/Processing_data/OpponentPlays.parquet\")"
   ]
  },
  {
   "cell_type": "code",
   "execution_count": 24,
   "metadata": {},
   "outputs": [],
   "source": [
    "# Step 1: Reorder columns in both tables\n",
    "trackinginjuries_path = \"F:/Data/Processing_data/TrackingInjuries.parquet\"\n",
    "opponentplays_path = \"F:/Data/Processing_data/OpponentPlays.parquet\"\n",
    "\n",
    "def track_all_quant(trackinginjuries_path, opponentplays_path):\n",
    "    \"\"\" \n",
    "    Concatenates the two tracking dataframes for Viz creation with all injuries. \n",
    "    This additionally adds an InjuryType column for concussions and other. \n",
    "    \"\"\"\n",
    "    from DataHandler import data_loader\n",
    "    import polars as pl #type: ignore\n",
    "\n",
    "    #Write \n",
    "    output_path = \"F:/Data/Processing_data/All_Tracking.parquet\"\n",
    "\n",
    "    body_part = data_loader('injuries').select(['PlayKey', 'BodyPart']).filter(pl.col(\"PlayKey\").is_not_null())\n",
    "    concussions = pl.read_parquet(opponentplays_path)\n",
    "    injuries = pl.read_parquet(trackinginjuries_path)\n",
    "\n",
    "\n",
    "    concussions = concussions.with_columns(\n",
    "        pl.when(pl.col(\"OpponentKey\").is_not_null())\n",
    "            .then(pl.lit(\"Concussion\"))\n",
    "            .otherwise(pl.lit(\"No Injury\"))\n",
    "            .alias(\"InjuryType\")\n",
    "            )\n",
    "\n",
    "    injuries = injuries.join(\n",
    "        body_part\n",
    "        , on='PlayKey'\n",
    "        , how='left' \n",
    "        ).rename({\"BodyPart\": \"InjuryType\"})\n",
    "\n",
    "    common_columns = [\"PlayKey\"\n",
    "                    , \"time\"\n",
    "                    , \"x\"\n",
    "                    , \"y\"\n",
    "                    , \"dir\"\n",
    "                    , \"o\"\n",
    "                    , \"Angle_Diff\"\n",
    "                    , \"Displacement\"\n",
    "                    , \"Speed\"\n",
    "                    , \"vx\"\n",
    "                    , \"vy\"\n",
    "                    , \"omega_dir\"\n",
    "                    , \"omega_o\"\n",
    "                    , \"omega_diff\"\n",
    "                    , \"Position\"\n",
    "                    , \"Height_m\"\n",
    "                    , \"Weight_kg\"\n",
    "                    , \"Chest_rad_m\"\n",
    "                    , \"px\"\n",
    "                    , \"py\"\n",
    "                    , \"moment\"\n",
    "                    , \"moment_upper\"\n",
    "                    , \"p_magnitude\"\n",
    "                    , \"L_dir\"\n",
    "                    , \"L_diff\"\n",
    "                    , \"Jx\"\n",
    "                    , \"Jy\"\n",
    "                    , \"J_magnitude\"\n",
    "                    , \"torque\"\n",
    "                    , \"torque_internal\"\n",
    "                    , \"InjuryType\"\n",
    "                    ]\n",
    "\n",
    "    additional_columns = [\"GSISID\"\n",
    "                        , \"Player_Activity_Derived\"\n",
    "                        , \"Primary_Impact_Type\"\n",
    "                        , \"Primary_Partner_GSISID\"\n",
    "                        , \"Primary_Partner_Activity_Derived\"\n",
    "                        , \"OpponentKey\"\n",
    "                        ]\n",
    "\n",
    "    concussions = concussions.select(common_columns + additional_columns)\n",
    "\n",
    "    for col in additional_columns:\n",
    "        if col not in injuries.columns:\n",
    "            injuries = injuries.with_columns(pl.lit(None).alias(col))\n",
    "\n",
    "    injuries = injuries.select(common_columns + additional_columns)\n",
    "\n",
    "    combined_df = pl.concat([concussions, injuries])\n",
    "    combined_df = combined_df.sort([\"PlayKey\", \"time\"])\n",
    "\n",
    "    combined_df.write_parquet(output_path)\n",
    "\n",
    "    print(f\"Concatenated all Injury and Concussion tracking data to {output_path}\")"
   ]
  },
  {
   "cell_type": "code",
   "execution_count": 25,
   "metadata": {},
   "outputs": [
    {
     "name": "stdout",
     "output_type": "stream",
     "text": [
      "Concatenated all Injury and Concussion tracking data to F:/Data/Processing_data/All_Tracking.parquet\n"
     ]
    }
   ],
   "source": [
    "track_all_quant(trackinginjuries_path, opponentplays_path)"
   ]
  },
  {
   "cell_type": "code",
   "execution_count": 26,
   "metadata": {},
   "outputs": [
    {
     "data": {
      "text/html": [
       "<div><style>\n",
       ".dataframe > thead > tr,\n",
       ".dataframe > tbody > tr {\n",
       "  text-align: right;\n",
       "  white-space: pre-wrap;\n",
       "}\n",
       "</style>\n",
       "<small>shape: (44_029, 37)</small><table border=\"1\" class=\"dataframe\"><thead><tr><th>PlayKey</th><th>time</th><th>x</th><th>y</th><th>dir</th><th>o</th><th>Angle_Diff</th><th>Displacement</th><th>Speed</th><th>vx</th><th>vy</th><th>omega_dir</th><th>omega_o</th><th>omega_diff</th><th>Position</th><th>Height_m</th><th>Weight_kg</th><th>Chest_rad_m</th><th>px</th><th>py</th><th>moment</th><th>moment_upper</th><th>p_magnitude</th><th>L_dir</th><th>L_diff</th><th>Jx</th><th>Jy</th><th>J_magnitude</th><th>torque</th><th>torque_internal</th><th>InjuryType</th><th>GSISID</th><th>Player_Activity_Derived</th><th>Primary_Impact_Type</th><th>Primary_Partner_GSISID</th><th>Primary_Partner_Activity_Derived</th><th>OpponentKey</th></tr><tr><td>str</td><td>f32</td><td>f32</td><td>f32</td><td>f32</td><td>f32</td><td>f32</td><td>f32</td><td>f32</td><td>f32</td><td>f32</td><td>f32</td><td>f32</td><td>f32</td><td>cat</td><td>f32</td><td>f32</td><td>f32</td><td>f32</td><td>f32</td><td>f32</td><td>f32</td><td>f32</td><td>f32</td><td>f32</td><td>f32</td><td>f32</td><td>f32</td><td>f32</td><td>f32</td><td>str</td><td>i32</td><td>cat</td><td>cat</td><td>str</td><td>cat</td><td>str</td></tr></thead><tbody><tr><td>&quot;23564-266-2902&quot;</td><td>0.0</td><td>87.07</td><td>12.2</td><td>-77.860001</td><td>-142.519989</td><td>64.660004</td><td>null</td><td>null</td><td>null</td><td>null</td><td>null</td><td>null</td><td>null</td><td>&quot;RB&quot;</td><td>1.79</td><td>95.300003</td><td>0.191</td><td>null</td><td>null</td><td>0.28972</td><td>0.202804</td><td>null</td><td>null</td><td>null</td><td>null</td><td>null</td><td>null</td><td>null</td><td>null</td><td>&quot;Concussion&quot;</td><td>23564</td><td>&quot;Tackled&quot;</td><td>&quot;Helmet-to-body&quot;</td><td>&quot;31844&quot;</td><td>&quot;Tackling&quot;</td><td>&quot;31844-266-2902&quot;</td></tr><tr><td>&quot;23564-266-2902&quot;</td><td>0.1</td><td>87.07</td><td>12.2</td><td>-77.739998</td><td>-146.390015</td><td>68.650002</td><td>0.0</td><td>0.0</td><td>0.0</td><td>0.0</td><td>0.020944</td><td>-0.675447</td><td>0.696391</td><td>&quot;RB&quot;</td><td>1.79</td><td>95.300003</td><td>0.191</td><td>0.0</td><td>0.0</td><td>0.28972</td><td>0.202804</td><td>0.0</td><td>0.006068</td><td>0.141231</td><td>null</td><td>null</td><td>null</td><td>null</td><td>null</td><td>&quot;Concussion&quot;</td><td>23564</td><td>&quot;Tackled&quot;</td><td>&quot;Helmet-to-body&quot;</td><td>&quot;31844&quot;</td><td>&quot;Tackling&quot;</td><td>&quot;31844-266-2902&quot;</td></tr><tr><td>&quot;23564-266-2902&quot;</td><td>0.2</td><td>87.07</td><td>12.2</td><td>-78.099998</td><td>-135.769989</td><td>57.669998</td><td>0.0</td><td>0.0</td><td>0.0</td><td>0.0</td><td>-0.062832</td><td>1.853545</td><td>1.916376</td><td>&quot;RB&quot;</td><td>1.79</td><td>95.300003</td><td>0.191</td><td>0.0</td><td>0.0</td><td>0.28972</td><td>0.202804</td><td>0.0</td><td>-0.018204</td><td>0.388649</td><td>0.0</td><td>0.0</td><td>0.0</td><td>-0.242714</td><td>2.474179</td><td>&quot;Concussion&quot;</td><td>23564</td><td>&quot;Tackled&quot;</td><td>&quot;Helmet-to-body&quot;</td><td>&quot;31844&quot;</td><td>&quot;Tackling&quot;</td><td>&quot;31844-266-2902&quot;</td></tr><tr><td>&quot;23564-266-2902&quot;</td><td>0.3</td><td>87.07</td><td>12.2</td><td>-77.979996</td><td>-138.929993</td><td>60.950001</td><td>0.0</td><td>0.0</td><td>0.0</td><td>0.0</td><td>0.020945</td><td>-0.551524</td><td>0.572469</td><td>&quot;RB&quot;</td><td>1.79</td><td>95.300003</td><td>0.191</td><td>0.0</td><td>0.0</td><td>0.28972</td><td>0.202804</td><td>0.0</td><td>0.006068</td><td>0.116099</td><td>0.0</td><td>0.0</td><td>0.0</td><td>0.242718</td><td>-2.725497</td><td>&quot;Concussion&quot;</td><td>23564</td><td>&quot;Tackled&quot;</td><td>&quot;Helmet-to-body&quot;</td><td>&quot;31844&quot;</td><td>&quot;Tackling&quot;</td><td>&quot;31844-266-2902&quot;</td></tr><tr><td>&quot;23564-266-2902&quot;</td><td>0.4</td><td>87.199997</td><td>12.3</td><td>-161.570007</td><td>0.0</td><td>161.570007</td><td>0.16401</td><td>1.640103</td><td>1.299973</td><td>1.000004</td><td>-14.58921</td><td>24.247858</td><td>38.837067</td><td>&quot;RB&quot;</td><td>1.79</td><td>95.300003</td><td>0.191</td><td>123.88739</td><td>95.300369</td><td>0.28972</td><td>0.202804</td><td>156.301773</td><td>-4.226785</td><td>7.876311</td><td>123.88739</td><td>95.300369</td><td>156.301773</td><td>-42.328533</td><td>77.602127</td><td>&quot;Concussion&quot;</td><td>23564</td><td>&quot;Tackled&quot;</td><td>&quot;Helmet-to-body&quot;</td><td>&quot;31844&quot;</td><td>&quot;Tackling&quot;</td><td>&quot;31844-266-2902&quot;</td></tr><tr><td>&hellip;</td><td>&hellip;</td><td>&hellip;</td><td>&hellip;</td><td>&hellip;</td><td>&hellip;</td><td>&hellip;</td><td>&hellip;</td><td>&hellip;</td><td>&hellip;</td><td>&hellip;</td><td>&hellip;</td><td>&hellip;</td><td>&hellip;</td><td>&hellip;</td><td>&hellip;</td><td>&hellip;</td><td>&hellip;</td><td>&hellip;</td><td>&hellip;</td><td>&hellip;</td><td>&hellip;</td><td>&hellip;</td><td>&hellip;</td><td>&hellip;</td><td>&hellip;</td><td>&hellip;</td><td>&hellip;</td><td>&hellip;</td><td>&hellip;</td><td>&hellip;</td><td>&hellip;</td><td>&hellip;</td><td>&hellip;</td><td>&hellip;</td><td>&hellip;</td><td>&hellip;</td></tr><tr><td>&quot;47813-8-19&quot;</td><td>19.6</td><td>76.400002</td><td>25.01</td><td>-95.679993</td><td>-102.23999</td><td>6.56</td><td>0.372157</td><td>3.721568</td><td>-0.400009</td><td>3.700008</td><td>-0.167551</td><td>-0.289725</td><td>0.122174</td><td>&quot;CB&quot;</td><td>1.82</td><td>87.400002</td><td>0.191</td><td>-34.9608</td><td>323.380737</td><td>0.265703</td><td>0.185992</td><td>325.265045</td><td>-0.044519</td><td>0.022723</td><td>-8.741867</td><td>8.741852</td><td>12.362856</td><td>-0.023182</td><td>0.162306</td><td>&quot;Ankle&quot;</td><td>null</td><td>null</td><td>null</td><td>null</td><td>null</td><td>null</td></tr><tr><td>&quot;47813-8-19&quot;</td><td>19.700001</td><td>76.360001</td><td>25.389999</td><td>-96.179993</td><td>-104.089996</td><td>7.91</td><td>0.382099</td><td>3.820987</td><td>-0.400009</td><td>3.799992</td><td>-0.087265</td><td>-0.322887</td><td>0.235622</td><td>&quot;CB&quot;</td><td>1.82</td><td>87.400002</td><td>0.191</td><td>-34.9608</td><td>332.119263</td><td>0.265703</td><td>0.185992</td><td>333.954285</td><td>-0.023187</td><td>0.043824</td><td>0.0</td><td>8.738525</td><td>8.738525</td><td>0.213323</td><td>0.211004</td><td>&quot;Ankle&quot;</td><td>null</td><td>null</td><td>null</td><td>null</td><td>null</td><td>null</td></tr><tr><td>&quot;47813-8-19&quot;</td><td>19.799999</td><td>76.32</td><td>25.76</td><td>-96.230011</td><td>-104.089996</td><td>7.86</td><td>0.372157</td><td>3.721568</td><td>-0.400009</td><td>3.700008</td><td>-0.00873</td><td>0.0</td><td>0.00873</td><td>&quot;CB&quot;</td><td>1.82</td><td>87.400002</td><td>0.191</td><td>-34.9608</td><td>323.380737</td><td>0.265703</td><td>0.185992</td><td>325.265045</td><td>-0.00232</td><td>0.001624</td><td>0.0</td><td>-8.738525</td><td>8.738525</td><td>0.20867</td><td>-0.422002</td><td>&quot;Ankle&quot;</td><td>null</td><td>null</td><td>null</td><td>null</td><td>null</td><td>null</td></tr><tr><td>&quot;47813-8-19&quot;</td><td>19.9</td><td>76.290001</td><td>26.15</td><td>-95.929993</td><td>-100.769989</td><td>4.84</td><td>0.391151</td><td>3.911514</td><td>-0.299988</td><td>3.899994</td><td>0.052363</td><td>0.57945</td><td>0.527087</td><td>&quot;CB&quot;</td><td>1.82</td><td>87.400002</td><td>0.191</td><td>-26.218933</td><td>340.859467</td><td>0.265703</td><td>0.185992</td><td>341.866364</td><td>0.013913</td><td>0.098034</td><td>8.741867</td><td>17.478729</td><td>19.542933</td><td>0.162324</td><td>0.964106</td><td>&quot;Ankle&quot;</td><td>null</td><td>null</td><td>null</td><td>null</td><td>null</td><td>null</td></tr><tr><td>&quot;47813-8-19&quot;</td><td>20.0</td><td>76.25</td><td>26.52</td><td>-95.75</td><td>-99.359985</td><td>3.61</td><td>0.372157</td><td>3.721568</td><td>-0.400009</td><td>3.700008</td><td>0.031414</td><td>0.246092</td><td>0.214678</td><td>&quot;CB&quot;</td><td>1.82</td><td>87.400002</td><td>0.191</td><td>-34.9608</td><td>323.380737</td><td>0.265703</td><td>0.185992</td><td>325.265045</td><td>0.008347</td><td>0.039928</td><td>-8.741867</td><td>-17.478729</td><td>19.542933</td><td>-0.055661</td><td>-0.581057</td><td>&quot;Ankle&quot;</td><td>null</td><td>null</td><td>null</td><td>null</td><td>null</td><td>null</td></tr></tbody></table></div>"
      ],
      "text/plain": [
       "shape: (44_029, 37)\n",
       "┌───────────┬───────────┬───────────┬───────────┬───┬───────────┬───────────┬───────────┬──────────┐\n",
       "│ PlayKey   ┆ time      ┆ x         ┆ y         ┆ … ┆ Primary_I ┆ Primary_P ┆ Primary_P ┆ Opponent │\n",
       "│ ---       ┆ ---       ┆ ---       ┆ ---       ┆   ┆ mpact_Typ ┆ artner_GS ┆ artner_Ac ┆ Key      │\n",
       "│ str       ┆ f32       ┆ f32       ┆ f32       ┆   ┆ e         ┆ ISID      ┆ tivity_De ┆ ---      │\n",
       "│           ┆           ┆           ┆           ┆   ┆ ---       ┆ ---       ┆ riv…      ┆ str      │\n",
       "│           ┆           ┆           ┆           ┆   ┆ cat       ┆ str       ┆ ---       ┆          │\n",
       "│           ┆           ┆           ┆           ┆   ┆           ┆           ┆ cat       ┆          │\n",
       "╞═══════════╪═══════════╪═══════════╪═══════════╪═══╪═══════════╪═══════════╪═══════════╪══════════╡\n",
       "│ 23564-266 ┆ 0.0       ┆ 87.07     ┆ 12.2      ┆ … ┆ Helmet-to ┆ 31844     ┆ Tackling  ┆ 31844-26 │\n",
       "│ -2902     ┆           ┆           ┆           ┆   ┆ -body     ┆           ┆           ┆ 6-2902   │\n",
       "│ 23564-266 ┆ 0.1       ┆ 87.07     ┆ 12.2      ┆ … ┆ Helmet-to ┆ 31844     ┆ Tackling  ┆ 31844-26 │\n",
       "│ -2902     ┆           ┆           ┆           ┆   ┆ -body     ┆           ┆           ┆ 6-2902   │\n",
       "│ 23564-266 ┆ 0.2       ┆ 87.07     ┆ 12.2      ┆ … ┆ Helmet-to ┆ 31844     ┆ Tackling  ┆ 31844-26 │\n",
       "│ -2902     ┆           ┆           ┆           ┆   ┆ -body     ┆           ┆           ┆ 6-2902   │\n",
       "│ 23564-266 ┆ 0.3       ┆ 87.07     ┆ 12.2      ┆ … ┆ Helmet-to ┆ 31844     ┆ Tackling  ┆ 31844-26 │\n",
       "│ -2902     ┆           ┆           ┆           ┆   ┆ -body     ┆           ┆           ┆ 6-2902   │\n",
       "│ 23564-266 ┆ 0.4       ┆ 87.199997 ┆ 12.3      ┆ … ┆ Helmet-to ┆ 31844     ┆ Tackling  ┆ 31844-26 │\n",
       "│ -2902     ┆           ┆           ┆           ┆   ┆ -body     ┆           ┆           ┆ 6-2902   │\n",
       "│ …         ┆ …         ┆ …         ┆ …         ┆ … ┆ …         ┆ …         ┆ …         ┆ …        │\n",
       "│ 47813-8-1 ┆ 19.6      ┆ 76.400002 ┆ 25.01     ┆ … ┆ null      ┆ null      ┆ null      ┆ null     │\n",
       "│ 9         ┆           ┆           ┆           ┆   ┆           ┆           ┆           ┆          │\n",
       "│ 47813-8-1 ┆ 19.700001 ┆ 76.360001 ┆ 25.389999 ┆ … ┆ null      ┆ null      ┆ null      ┆ null     │\n",
       "│ 9         ┆           ┆           ┆           ┆   ┆           ┆           ┆           ┆          │\n",
       "│ 47813-8-1 ┆ 19.799999 ┆ 76.32     ┆ 25.76     ┆ … ┆ null      ┆ null      ┆ null      ┆ null     │\n",
       "│ 9         ┆           ┆           ┆           ┆   ┆           ┆           ┆           ┆          │\n",
       "│ 47813-8-1 ┆ 19.9      ┆ 76.290001 ┆ 26.15     ┆ … ┆ null      ┆ null      ┆ null      ┆ null     │\n",
       "│ 9         ┆           ┆           ┆           ┆   ┆           ┆           ┆           ┆          │\n",
       "│ 47813-8-1 ┆ 20.0      ┆ 76.25     ┆ 26.52     ┆ … ┆ null      ┆ null      ┆ null      ┆ null     │\n",
       "│ 9         ┆           ┆           ┆           ┆   ┆           ┆           ┆           ┆          │\n",
       "└───────────┴───────────┴───────────┴───────────┴───┴───────────┴───────────┴───────────┴──────────┘"
      ]
     },
     "execution_count": 26,
     "metadata": {},
     "output_type": "execute_result"
    }
   ],
   "source": [
    "pl.read_parquet(\"F:/Data/Processing_data/All_Tracking.parquet\")"
   ]
  },
  {
   "cell_type": "code",
   "execution_count": 30,
   "metadata": {},
   "outputs": [],
   "source": [
    "from DataHandler import data_loader\n",
    "body_part = data_loader('injuries')"
   ]
  },
  {
   "cell_type": "code",
   "execution_count": 34,
   "metadata": {},
   "outputs": [
    {
     "data": {
      "text/plain": [
       "77"
      ]
     },
     "execution_count": 34,
     "metadata": {},
     "output_type": "execute_result"
    }
   ],
   "source": [
    "len(body_part.filter(pl.col(\"PlayKey\").is_not_null()))"
   ]
  },
  {
   "cell_type": "code",
   "execution_count": 49,
   "metadata": {},
   "outputs": [],
   "source": [
    "body_part = body_part.select(['PlayKey', 'BodyPart']).filter(pl.col(\"PlayKey\").is_not_null())"
   ]
  },
  {
   "cell_type": "code",
   "execution_count": 50,
   "metadata": {},
   "outputs": [
    {
     "data": {
      "text/html": [
       "<div><style>\n",
       ".dataframe > thead > tr,\n",
       ".dataframe > tbody > tr {\n",
       "  text-align: right;\n",
       "  white-space: pre-wrap;\n",
       "}\n",
       "</style>\n",
       "<small>shape: (5, 2)</small><table border=\"1\" class=\"dataframe\"><thead><tr><th>PlayKey</th><th>BodyPart</th></tr><tr><td>str</td><td>str</td></tr></thead><tbody><tr><td>&quot;39873-4-32&quot;</td><td>&quot;Knee&quot;</td></tr><tr><td>&quot;46074-7-26&quot;</td><td>&quot;Knee&quot;</td></tr><tr><td>&quot;36557-1-70&quot;</td><td>&quot;Ankle&quot;</td></tr><tr><td>&quot;46646-3-30&quot;</td><td>&quot;Ankle&quot;</td></tr><tr><td>&quot;43532-5-69&quot;</td><td>&quot;Ankle&quot;</td></tr></tbody></table></div>"
      ],
      "text/plain": [
       "shape: (5, 2)\n",
       "┌────────────┬──────────┐\n",
       "│ PlayKey    ┆ BodyPart │\n",
       "│ ---        ┆ ---      │\n",
       "│ str        ┆ str      │\n",
       "╞════════════╪══════════╡\n",
       "│ 39873-4-32 ┆ Knee     │\n",
       "│ 46074-7-26 ┆ Knee     │\n",
       "│ 36557-1-70 ┆ Ankle    │\n",
       "│ 46646-3-30 ┆ Ankle    │\n",
       "│ 43532-5-69 ┆ Ankle    │\n",
       "└────────────┴──────────┘"
      ]
     },
     "execution_count": 50,
     "metadata": {},
     "output_type": "execute_result"
    }
   ],
   "source": [
    "body_part.head()"
   ]
  },
  {
   "cell_type": "code",
   "execution_count": 38,
   "metadata": {},
   "outputs": [],
   "source": [
    "inj = pl.read_csv(\"F:/Data/nfl-playing-surface-analytics/InjuryRecord.csv\")"
   ]
  },
  {
   "cell_type": "code",
   "execution_count": 39,
   "metadata": {},
   "outputs": [
    {
     "data": {
      "text/html": [
       "<div><style>\n",
       ".dataframe > thead > tr,\n",
       ".dataframe > tbody > tr {\n",
       "  text-align: right;\n",
       "  white-space: pre-wrap;\n",
       "}\n",
       "</style>\n",
       "<small>shape: (5, 9)</small><table border=\"1\" class=\"dataframe\"><thead><tr><th>PlayerKey</th><th>GameID</th><th>PlayKey</th><th>BodyPart</th><th>Surface</th><th>DM_M1</th><th>DM_M7</th><th>DM_M28</th><th>DM_M42</th></tr><tr><td>i64</td><td>str</td><td>str</td><td>str</td><td>str</td><td>i64</td><td>i64</td><td>i64</td><td>i64</td></tr></thead><tbody><tr><td>39873</td><td>&quot;39873-4&quot;</td><td>&quot;39873-4-32&quot;</td><td>&quot;Knee&quot;</td><td>&quot;Synthetic&quot;</td><td>1</td><td>1</td><td>1</td><td>1</td></tr><tr><td>46074</td><td>&quot;46074-7&quot;</td><td>&quot;46074-7-26&quot;</td><td>&quot;Knee&quot;</td><td>&quot;Natural&quot;</td><td>1</td><td>1</td><td>0</td><td>0</td></tr><tr><td>36557</td><td>&quot;36557-1&quot;</td><td>&quot;36557-1-70&quot;</td><td>&quot;Ankle&quot;</td><td>&quot;Synthetic&quot;</td><td>1</td><td>1</td><td>1</td><td>1</td></tr><tr><td>46646</td><td>&quot;46646-3&quot;</td><td>&quot;46646-3-30&quot;</td><td>&quot;Ankle&quot;</td><td>&quot;Natural&quot;</td><td>1</td><td>0</td><td>0</td><td>0</td></tr><tr><td>43532</td><td>&quot;43532-5&quot;</td><td>&quot;43532-5-69&quot;</td><td>&quot;Ankle&quot;</td><td>&quot;Synthetic&quot;</td><td>1</td><td>1</td><td>1</td><td>1</td></tr></tbody></table></div>"
      ],
      "text/plain": [
       "shape: (5, 9)\n",
       "┌───────────┬─────────┬────────────┬──────────┬───┬───────┬───────┬────────┬────────┐\n",
       "│ PlayerKey ┆ GameID  ┆ PlayKey    ┆ BodyPart ┆ … ┆ DM_M1 ┆ DM_M7 ┆ DM_M28 ┆ DM_M42 │\n",
       "│ ---       ┆ ---     ┆ ---        ┆ ---      ┆   ┆ ---   ┆ ---   ┆ ---    ┆ ---    │\n",
       "│ i64       ┆ str     ┆ str        ┆ str      ┆   ┆ i64   ┆ i64   ┆ i64    ┆ i64    │\n",
       "╞═══════════╪═════════╪════════════╪══════════╪═══╪═══════╪═══════╪════════╪════════╡\n",
       "│ 39873     ┆ 39873-4 ┆ 39873-4-32 ┆ Knee     ┆ … ┆ 1     ┆ 1     ┆ 1      ┆ 1      │\n",
       "│ 46074     ┆ 46074-7 ┆ 46074-7-26 ┆ Knee     ┆ … ┆ 1     ┆ 1     ┆ 0      ┆ 0      │\n",
       "│ 36557     ┆ 36557-1 ┆ 36557-1-70 ┆ Ankle    ┆ … ┆ 1     ┆ 1     ┆ 1      ┆ 1      │\n",
       "│ 46646     ┆ 46646-3 ┆ 46646-3-30 ┆ Ankle    ┆ … ┆ 1     ┆ 0     ┆ 0      ┆ 0      │\n",
       "│ 43532     ┆ 43532-5 ┆ 43532-5-69 ┆ Ankle    ┆ … ┆ 1     ┆ 1     ┆ 1      ┆ 1      │\n",
       "└───────────┴─────────┴────────────┴──────────┴───┴───────┴───────┴────────┴────────┘"
      ]
     },
     "execution_count": 39,
     "metadata": {},
     "output_type": "execute_result"
    }
   ],
   "source": [
    "inj.head()"
   ]
  },
  {
   "cell_type": "code",
   "execution_count": 42,
   "metadata": {},
   "outputs": [
    {
     "data": {
      "text/html": [
       "<div><style>\n",
       ".dataframe > thead > tr,\n",
       ".dataframe > tbody > tr {\n",
       "  text-align: right;\n",
       "  white-space: pre-wrap;\n",
       "}\n",
       "</style>\n",
       "<small>shape: (104,)</small><table border=\"1\" class=\"dataframe\"><thead><tr><th>GameID</th></tr><tr><td>str</td></tr></thead><tbody><tr><td>&quot;31070-3&quot;</td></tr><tr><td>&quot;31933-20&quot;</td></tr><tr><td>&quot;33337-2&quot;</td></tr><tr><td>&quot;33337-8&quot;</td></tr><tr><td>&quot;33474-19&quot;</td></tr><tr><td>&hellip;</td></tr><tr><td>&quot;47287-4&quot;</td></tr><tr><td>&quot;47307-10&quot;</td></tr><tr><td>&quot;47334-8&quot;</td></tr><tr><td>&quot;47382-3&quot;</td></tr><tr><td>&quot;47813-8&quot;</td></tr></tbody></table></div>"
      ],
      "text/plain": [
       "shape: (104,)\n",
       "Series: 'GameID' [str]\n",
       "[\n",
       "\t\"31070-3\"\n",
       "\t\"31933-20\"\n",
       "\t\"33337-2\"\n",
       "\t\"33337-8\"\n",
       "\t\"33474-19\"\n",
       "\t…\n",
       "\t\"47287-4\"\n",
       "\t\"47307-10\"\n",
       "\t\"47334-8\"\n",
       "\t\"47382-3\"\n",
       "\t\"47813-8\"\n",
       "]"
      ]
     },
     "execution_count": 42,
     "metadata": {},
     "output_type": "execute_result"
    }
   ],
   "source": [
    "inj[\"GameID\"].unique().sort()"
   ]
  },
  {
   "cell_type": "code",
   "execution_count": 43,
   "metadata": {},
   "outputs": [
    {
     "name": "stdout",
     "output_type": "stream",
     "text": [
      "shape: (2, 9)\n",
      "┌───────────┬──────────┬─────────────┬──────────┬───┬───────┬───────┬────────┬────────┐\n",
      "│ PlayerKey ┆ GameID   ┆ PlayKey     ┆ BodyPart ┆ … ┆ DM_M1 ┆ DM_M7 ┆ DM_M28 ┆ DM_M42 │\n",
      "│ ---       ┆ ---      ┆ ---         ┆ ---      ┆   ┆ ---   ┆ ---   ┆ ---    ┆ ---    │\n",
      "│ i64       ┆ str      ┆ str         ┆ str      ┆   ┆ i64   ┆ i64   ┆ i64    ┆ i64    │\n",
      "╞═══════════╪══════════╪═════════════╪══════════╪═══╪═══════╪═══════╪════════╪════════╡\n",
      "│ 47307     ┆ 47307-10 ┆ 47307-10-18 ┆ Knee     ┆ … ┆ 1     ┆ 1     ┆ 0      ┆ 0      │\n",
      "│ 47307     ┆ 47307-10 ┆ 47307-10-18 ┆ Ankle    ┆ … ┆ 1     ┆ 1     ┆ 0      ┆ 0      │\n",
      "└───────────┴──────────┴─────────────┴──────────┴───┴───────┴───────┴────────┴────────┘\n"
     ]
    }
   ],
   "source": [
    "# Assuming your data is in a DataFrame called 'inj'\n",
    "\n",
    "# Step 1: Count occurrences of each GameID\n",
    "game_id_counts = inj.group_by(\"GameID\").agg(pl.count(\"GameID\").alias(\"count\"))\n",
    "\n",
    "# Step 2: Filter for GameIDs that appear more than once\n",
    "non_unique_game_ids = game_id_counts.filter(pl.col(\"count\") > 1)[\"GameID\"]\n",
    "\n",
    "# Step 3: Select rows from the original DataFrame where GameID is in the non-unique list\n",
    "result = inj.filter(pl.col(\"GameID\").is_in(non_unique_game_ids))\n",
    "\n",
    "print(result)"
   ]
  },
  {
   "cell_type": "code",
   "execution_count": 48,
   "metadata": {},
   "outputs": [
    {
     "data": {
      "text/plain": [
       "28"
      ]
     },
     "execution_count": 48,
     "metadata": {},
     "output_type": "execute_result"
    }
   ],
   "source": [
    "len(body_part) - len(body_part.filter(pl.col('PlayKey').is_not_null()))"
   ]
  },
  {
   "cell_type": "markdown",
   "metadata": {},
   "source": [
    "There is one play where the player was injured in two places. However, there are also 28 injuries that were recorded, however the exact play during the game is unknown. The rest of the qualitative conditions are known, but we won't know the path, since we won't know the play. These can be removed from this list, but I will need to create a PlayKey value by appending '-0' to the null Playkeys in Injury. I'll have to fix the join by extracing the GameID for qualitative data. "
   ]
  },
  {
   "cell_type": "code",
   "execution_count": 46,
   "metadata": {},
   "outputs": [
    {
     "name": "stdout",
     "output_type": "stream",
     "text": [
      "shape: (0, 30)\n",
      "┌─────────┬──────┬─────┬─────┬───┬─────┬─────────────┬────────┬─────────────────┐\n",
      "│ PlayKey ┆ time ┆ x   ┆ y   ┆ … ┆ Jy  ┆ J_magnitude ┆ torque ┆ torque_internal │\n",
      "│ ---     ┆ ---  ┆ --- ┆ --- ┆   ┆ --- ┆ ---         ┆ ---    ┆ ---             │\n",
      "│ str     ┆ f32  ┆ f32 ┆ f32 ┆   ┆ f32 ┆ f32         ┆ f32    ┆ f32             │\n",
      "╞═════════╪══════╪═════╪═════╪═══╪═════╪═════════════╪════════╪═════════════════╡\n",
      "└─────────┴──────┴─────┴─────┴───┴─────┴─────────────┴────────┴─────────────────┘\n",
      "Number of rows where PlayKey ends with 0: 0\n"
     ]
    }
   ],
   "source": [
    "mask = pl.col(\"PlayKey\").str.slice(-1) == \"-0\"\n",
    "\n",
    "# Filter the DataFrame to show only rows where the last digit is 0\n",
    "result = injuries.filter(mask)\n",
    "\n",
    "print(result)\n",
    "\n",
    "# Alternatively, if you just want to count how many rows have PlayKey ending with 0:\n",
    "count = injuries.filter(mask).shape[0]\n",
    "print(f\"Number of rows where PlayKey ends with 0: {count}\")"
   ]
  },
  {
   "cell_type": "code",
   "execution_count": 61,
   "metadata": {},
   "outputs": [],
   "source": [
    "trackinginjuries_path = \"F:/Data/Processing_data/TrackingInjuries.parquet\"\n",
    "opponentplays_path = \"F:/Data/Processing_data/OpponentPlays.parquet\"\n",
    "\n",
    "body_part = data_loader('injuries').select(['PlayKey', 'BodyPart']).filter(pl.col(\"PlayKey\").is_not_null())\n",
    "concussions = pl.read_parquet(opponentplays_path)\n",
    "injuries = pl.read_parquet(trackinginjuries_path)\n",
    "\n",
    "injuries = injuries.join(\n",
    "        body_part\n",
    "        , on='PlayKey'\n",
    "        , how='left' \n",
    "        ).rename({\"BodyPart\": \"InjuryType\"})"
   ]
  },
  {
   "cell_type": "code",
   "execution_count": 62,
   "metadata": {},
   "outputs": [
    {
     "data": {
      "text/html": [
       "<div><style>\n",
       ".dataframe > thead > tr,\n",
       ".dataframe > tbody > tr {\n",
       "  text-align: right;\n",
       "  white-space: pre-wrap;\n",
       "}\n",
       "</style>\n",
       "<small>shape: (5, 31)</small><table border=\"1\" class=\"dataframe\"><thead><tr><th>PlayKey</th><th>time</th><th>x</th><th>y</th><th>dir</th><th>o</th><th>Angle_Diff</th><th>Displacement</th><th>Speed</th><th>vx</th><th>vy</th><th>omega_dir</th><th>omega_o</th><th>omega_diff</th><th>Position</th><th>Height_m</th><th>Weight_kg</th><th>Chest_rad_m</th><th>px</th><th>py</th><th>moment</th><th>moment_upper</th><th>p_magnitude</th><th>L_dir</th><th>L_diff</th><th>Jx</th><th>Jy</th><th>J_magnitude</th><th>torque</th><th>torque_internal</th><th>InjuryType</th></tr><tr><td>str</td><td>f32</td><td>f32</td><td>f32</td><td>f32</td><td>f32</td><td>f32</td><td>f32</td><td>f32</td><td>f32</td><td>f32</td><td>f32</td><td>f32</td><td>f32</td><td>cat</td><td>f32</td><td>f32</td><td>f32</td><td>f32</td><td>f32</td><td>f32</td><td>f32</td><td>f32</td><td>f32</td><td>f32</td><td>f32</td><td>f32</td><td>f32</td><td>f32</td><td>f32</td><td>str</td></tr></thead><tbody><tr><td>&quot;39678-2-1&quot;</td><td>0.0</td><td>70.110001</td><td>30.780001</td><td>21.980011</td><td>-9.050003</td><td>31.030001</td><td>null</td><td>null</td><td>null</td><td>null</td><td>null</td><td>null</td><td>null</td><td>&quot;DE&quot;</td><td>1.97</td><td>120.199997</td><td>0.191</td><td>null</td><td>null</td><td>0.365418</td><td>0.255793</td><td>null</td><td>null</td><td>null</td><td>null</td><td>null</td><td>null</td><td>null</td><td>null</td><td>&quot;Ankle&quot;</td></tr><tr><td>&quot;39678-2-1&quot;</td><td>0.1</td><td>70.139999</td><td>30.76</td><td>26.519989</td><td>-15.600006</td><td>42.119999</td><td>0.036055</td><td>0.360547</td><td>0.299988</td><td>-0.200005</td><td>0.792376</td><td>-1.143191</td><td>1.935567</td><td>&quot;DE&quot;</td><td>1.97</td><td>120.199997</td><td>0.191</td><td>36.058533</td><td>-24.04055</td><td>0.365418</td><td>0.255793</td><td>43.337811</td><td>0.289548</td><td>0.495104</td><td>null</td><td>null</td><td>null</td><td>null</td><td>null</td><td>&quot;Ankle&quot;</td></tr><tr><td>&quot;39678-2-1&quot;</td><td>0.2</td><td>70.18</td><td>30.73</td><td>30.559998</td><td>-21.419998</td><td>51.98</td><td>0.050001</td><td>0.500011</td><td>0.400009</td><td>-0.300007</td><td>0.705114</td><td>-1.01578</td><td>1.720895</td><td>&quot;DE&quot;</td><td>1.97</td><td>120.199997</td><td>0.191</td><td>48.0811</td><td>-36.060825</td><td>0.365418</td><td>0.255793</td><td>60.101376</td><td>0.257661</td><td>0.440192</td><td>12.022568</td><td>-12.020275</td><td>17.000856</td><td>-0.318868</td><td>-0.549116</td><td>&quot;Ankle&quot;</td></tr><tr><td>&quot;39678-2-1&quot;</td><td>0.3</td><td>70.239998</td><td>30.700001</td><td>33.76001</td><td>-25.839996</td><td>59.599998</td><td>0.067079</td><td>0.670793</td><td>0.599976</td><td>-0.299988</td><td>0.558508</td><td>-0.771435</td><td>1.329943</td><td>&quot;DE&quot;</td><td>1.97</td><td>120.199997</td><td>0.191</td><td>72.117065</td><td>-36.058533</td><td>0.365418</td><td>0.255793</td><td>80.629333</td><td>0.204089</td><td>0.34019</td><td>24.035965</td><td>0.002293</td><td>24.035965</td><td>-0.535726</td><td>-1.000025</td><td>&quot;Ankle&quot;</td></tr><tr><td>&quot;39678-2-1&quot;</td><td>0.4</td><td>70.279999</td><td>30.66</td><td>35.440002</td><td>-29.179993</td><td>64.620003</td><td>0.05657</td><td>0.565698</td><td>0.400009</td><td>-0.400009</td><td>0.293214</td><td>-0.58294</td><td>0.876153</td><td>&quot;DE&quot;</td><td>1.97</td><td>120.199997</td><td>0.191</td><td>48.0811</td><td>-48.0811</td><td>0.365418</td><td>0.255793</td><td>67.996948</td><td>0.107146</td><td>0.224114</td><td>-24.035965</td><td>-12.022568</td><td>26.875076</td><td>-0.969433</td><td>-1.160761</td><td>&quot;Ankle&quot;</td></tr></tbody></table></div>"
      ],
      "text/plain": [
       "shape: (5, 31)\n",
       "┌───────────┬──────┬───────────┬───────────┬───┬─────────────┬───────────┬────────────┬────────────┐\n",
       "│ PlayKey   ┆ time ┆ x         ┆ y         ┆ … ┆ J_magnitude ┆ torque    ┆ torque_int ┆ InjuryType │\n",
       "│ ---       ┆ ---  ┆ ---       ┆ ---       ┆   ┆ ---         ┆ ---       ┆ ernal      ┆ ---        │\n",
       "│ str       ┆ f32  ┆ f32       ┆ f32       ┆   ┆ f32         ┆ f32       ┆ ---        ┆ str        │\n",
       "│           ┆      ┆           ┆           ┆   ┆             ┆           ┆ f32        ┆            │\n",
       "╞═══════════╪══════╪═══════════╪═══════════╪═══╪═════════════╪═══════════╪════════════╪════════════╡\n",
       "│ 39678-2-1 ┆ 0.0  ┆ 70.110001 ┆ 30.780001 ┆ … ┆ null        ┆ null      ┆ null       ┆ Ankle      │\n",
       "│ 39678-2-1 ┆ 0.1  ┆ 70.139999 ┆ 30.76     ┆ … ┆ null        ┆ null      ┆ null       ┆ Ankle      │\n",
       "│ 39678-2-1 ┆ 0.2  ┆ 70.18     ┆ 30.73     ┆ … ┆ 17.000856   ┆ -0.318868 ┆ -0.549116  ┆ Ankle      │\n",
       "│ 39678-2-1 ┆ 0.3  ┆ 70.239998 ┆ 30.700001 ┆ … ┆ 24.035965   ┆ -0.535726 ┆ -1.000025  ┆ Ankle      │\n",
       "│ 39678-2-1 ┆ 0.4  ┆ 70.279999 ┆ 30.66     ┆ … ┆ 26.875076   ┆ -0.969433 ┆ -1.160761  ┆ Ankle      │\n",
       "└───────────┴──────┴───────────┴───────────┴───┴─────────────┴───────────┴────────────┴────────────┘"
      ]
     },
     "execution_count": 62,
     "metadata": {},
     "output_type": "execute_result"
    }
   ],
   "source": [
    "injuries.head()"
   ]
  }
 ],
 "metadata": {
  "kernelspec": {
   "display_name": "PythonData",
   "language": "python",
   "name": "python3"
  },
  "language_info": {
   "codemirror_mode": {
    "name": "ipython",
    "version": 3
   },
   "file_extension": ".py",
   "mimetype": "text/x-python",
   "name": "python",
   "nbconvert_exporter": "python",
   "pygments_lexer": "ipython3",
   "version": "3.9.12"
  }
 },
 "nbformat": 4,
 "nbformat_minor": 2
}
