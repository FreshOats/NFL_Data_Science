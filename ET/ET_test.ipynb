{
 "cells": [
  {
   "cell_type": "code",
   "execution_count": null,
   "metadata": {},
   "outputs": [],
   "source": [
    "from QuantitativeCleaner import *"
   ]
  },
  {
   "cell_type": "code",
   "execution_count": null,
   "metadata": {},
   "outputs": [],
   "source": [
    "# Read Path\n",
    "optimized_path = \"F:/Data/Processing_data/OptimizedTrackData.parquet\"\n",
    "\n",
    "# Write paths\n",
    "group_dir = \"F:/Data/Processing_data/injury_output\"\n",
    "main_dir = \"F:/Data/Processing_data/\""
   ]
  },
  {
   "cell_type": "code",
   "execution_count": null,
   "metadata": {},
   "outputs": [],
   "source": [
    "# optimize_injury_data()"
   ]
  },
  {
   "cell_type": "code",
   "execution_count": null,
   "metadata": {},
   "outputs": [],
   "source": [
    "# process_file(optimized_path, group_dir)"
   ]
  },
  {
   "cell_type": "code",
   "execution_count": null,
   "metadata": {},
   "outputs": [],
   "source": [
    "#### Tracking Output\n",
    "def tracking_injuries(group_dir, main_dir):\n",
    "    from DataHandler import data_loader\n",
    "    import os\n",
    "    import polars as pl # type: ignore\n",
    "    pl.enable_string_cache()\n",
    "\n",
    "    # Read in the PlayKeys from the injury file to isolate PlayKeys associated with injury paths\n",
    "    injuryPlayKeys = data_loader('injuries')\n",
    "    PlayKeys = injuryPlayKeys.select(\"PlayKey\").unique().with_columns([\n",
    "            pl.col(\"PlayKey\").cast(pl.Utf8)\n",
    "            ])\n",
    "\n",
    "    # Initialize an empty list to store dataframes\n",
    "    filtered_dfs = []\n",
    "\n",
    "    # Iterate through files in the directory\n",
    "    for file in os.listdir(group_dir):\n",
    "        if file.startswith(\"group_\"):\n",
    "            file_path = os.path.join(group_dir, file)\n",
    "            \n",
    "            # Read the Parquet file\n",
    "            df = pl.read_parquet(file_path)\n",
    "            \n",
    "            # Ensure PlayKey is of type Utf8\n",
    "            df = df.with_columns(pl.col(\"PlayKey\").cast(pl.Utf8))\n",
    "            \n",
    "            # Inner join with unique_gsisid to filter rows\n",
    "            filtered_df = df.join(PlayKeys, on=\"PlayKey\", how=\"inner\")\n",
    "            \n",
    "            # Append to the list of filtered dataframes\n",
    "            filtered_dfs.append(filtered_df)\n",
    "\n",
    "    # Concatenate all filtered dataframes\n",
    "    final_df = pl.concat(filtered_dfs)\n",
    "\n",
    "    # Save the concatenated dataframe\n",
    "    final_df.write_parquet(os.path.join(main_dir, \"TrackingInjuries.parquet\"))\n",
    "\n",
    "    print(\"Processing complete. Filtered summary dataframe saved as 'TrackingInjuries.parquet'\")"
   ]
  },
  {
   "cell_type": "code",
   "execution_count": null,
   "metadata": {},
   "outputs": [],
   "source": [
    "tracking_injuries(group_dir, main_dir)"
   ]
  },
  {
   "cell_type": "code",
   "execution_count": null,
   "metadata": {},
   "outputs": [],
   "source": [
    "from QualitativeCleaner import *\n",
    "from DataHandler import parquet_writer, data_shrinker"
   ]
  },
  {
   "cell_type": "code",
   "execution_count": null,
   "metadata": {},
   "outputs": [],
   "source": [
    "df = table_joiner('injury')\n",
    "df = injury_interpolator(df, 'injury')\n",
    "df = stadium_cleaner(df)\n",
    "df = weather_cleaner(df)\n",
    "df, schema = data_shrinker(df)\n",
    "\n",
    "\n",
    "df.head()"
   ]
  },
  {
   "cell_type": "code",
   "execution_count": null,
   "metadata": {},
   "outputs": [],
   "source": [
    "##### Primary Injury Cleaning Function #####\n",
    "def clean_injury_qual():\n",
    "    \"\"\"\n",
    "    Applies data cleaning to surface injury data and writes to 'qualitative_injuries' as a csv file \n",
    "    \"\"\"\n",
    "    from DataHandler import parquet_writer, data_shrinker\n",
    "    import os \n",
    "\n",
    "    analysis = \"injury\"\n",
    "    injury_qual_path = \"F:/Data/Processing_data/QualitativeInjuries.parquet\"\n",
    "\n",
    "\n",
    "    df = table_joiner(analysis) \n",
    "    df = injury_interpolator(df, analysis)\n",
    "    df = stadium_cleaner(df)\n",
    "    df = weather_cleaner(df)\n",
    "    df, schema = data_shrinker(df)\n",
    "    df.write_parquet(injury_qual_path)\n",
    "\n",
    "    print('Injuries have been cleaned and dressed.')\n",
    "    # return df\n"
   ]
  },
  {
   "cell_type": "code",
   "execution_count": null,
   "metadata": {},
   "outputs": [],
   "source": [
    "clean_injury_qual()"
   ]
  },
  {
   "cell_type": "code",
   "execution_count": null,
   "metadata": {},
   "outputs": [],
   "source": [
    "##### Primary Concussion Cleaning Function #####\n",
    "def clean_concussions(): \n",
    "    \"\"\"\n",
    "    Applies data cleaning to surface injury data and writes to 'qualitative_injuries' as a csv file \n",
    "    \"\"\"\n",
    "    from DataHandler import parquet_writer, data_shrinker\n",
    "\n",
    "    analysis = \"concussion\"\n",
    "    concussion_qual_path = \"F:/Data/Processing_data/QualitativeConcussions.parquet\"\n",
    "    \n",
    "    df = table_joiner(analysis)\n",
    "    df = injury_interpolator(df, analysis)\n",
    "    df = stadium_cleaner(df)\n",
    "    df = weather_cleaner(df)\n",
    "    df = turf_cleaner(df)\n",
    "    df = cancellation_cleaner(df)\n",
    "    df = score_splitter(df)\n",
    "    df, schema = data_shrinker(df)\n",
    "    df.write_parquet(concussion_qual_path)\n",
    "    del df\n",
    "\n",
    "    print('Concussions have been assessed and cleared for play.')\n",
    "    # return df"
   ]
  },
  {
   "cell_type": "code",
   "execution_count": null,
   "metadata": {},
   "outputs": [],
   "source": [
    "clean_concussions()"
   ]
  },
  {
   "cell_type": "code",
   "execution_count": null,
   "metadata": {},
   "outputs": [],
   "source": [
    "from QuantitativeCleaner import *"
   ]
  },
  {
   "cell_type": "code",
   "execution_count": null,
   "metadata": {},
   "outputs": [],
   "source": [
    "injury_summary_maker(group_dir = \"F:/Data/Processing_data/injury_output\")"
   ]
  },
  {
   "cell_type": "code",
   "execution_count": null,
   "metadata": {},
   "outputs": [],
   "source": [
    "import polars as pl\n",
    "\n",
    "len(pl.read_parquet(\"F:/Data/Processing_data/Full_Summary_Injuries.parquet\"))"
   ]
  },
  {
   "cell_type": "markdown",
   "metadata": {},
   "source": [
    "# Concussion Data"
   ]
  },
  {
   "cell_type": "code",
   "execution_count": null,
   "metadata": {},
   "outputs": [],
   "source": [
    "df = pl.read_csv(\"F:/Data/NFL-Punt-Analytics-Competition/NGS-2017-post.csv\")"
   ]
  },
  {
   "cell_type": "code",
   "execution_count": null,
   "metadata": {},
   "outputs": [],
   "source": [
    "df.head()"
   ]
  },
  {
   "cell_type": "code",
   "execution_count": null,
   "metadata": {},
   "outputs": [],
   "source": [
    "pl.read_parquet(\"F:/Data/Processing_data/TrackingInjuries.parquet\").head()"
   ]
  },
  {
   "cell_type": "code",
   "execution_count": null,
   "metadata": {},
   "outputs": [],
   "source": [
    "from QuantitativeCleaner import *\n",
    "import polars as pl\n",
    "import os\n",
    "\n",
    "\n",
    "source_dir = \"F:/Data/NFL-Punt-Analytics-Competition/\"\n",
    "concussion_dir = \"F:/Data/Processing_data/concussion_output\"\n",
    "\n",
    "os.makedirs(concussion_dir, exist_ok=True)"
   ]
  },
  {
   "cell_type": "code",
   "execution_count": null,
   "metadata": {},
   "outputs": [],
   "source": [
    "df_test, schema = data_shrinker(df)\n",
    "df_test.head()"
   ]
  },
  {
   "cell_type": "code",
   "execution_count": null,
   "metadata": {},
   "outputs": [],
   "source": [
    "def column_corrector(df):\n",
    "    import polars as pl # type: ignore\n",
    "    \"\"\"\n",
    "    Add a Play_Time column that acts like the 'time' column did in the injury dataset. \n",
    "    Each PlayKey will start at 0.0 and increase by 0.1 for each subsequent record.\n",
    "    \"\"\"\n",
    "    df = df.with_columns([\n",
    "        pl.concat_str([\n",
    "            pl.col('GSISID').cast(pl.Int32).cast(pl.Utf8)\n",
    "            , pl.lit('-')\n",
    "            , pl.col('GameKey').cast(pl.Utf8)\n",
    "            , pl.lit('-')\n",
    "            , pl.col('PlayID').cast(pl.Utf8)\n",
    "        ]).alias('PlayKey')\n",
    "    ])\n",
    "     \n",
    "    \n",
    "    df = df.select([\n",
    "        'PlayKey'\n",
    "        , 'Time'\n",
    "        , 'x'\n",
    "        , 'y'\n",
    "        , 'o'\n",
    "        , 'dir'\n",
    "        , 'GSISID'\n",
    "        ]).rename({\"Time\":\"DateTime\"})\n",
    "\n",
    "    df = df.sort(['PlayKey', 'DateTime'])\n",
    "\n",
    "    df = df.with_columns(\n",
    "        (pl.arange(0, pl.len()) * 0.1).over(\"PlayKey\").cast(pl.Int32).alias(\"time\")\n",
    "        ).with_columns([pl.col('GSISID').cast(pl.Int32)])  \n",
    "    \n",
    "    df = df.drop(['DateTime'])\n",
    "    \n",
    "    return df"
   ]
  },
  {
   "cell_type": "code",
   "execution_count": null,
   "metadata": {},
   "outputs": [],
   "source": [
    "def body_builder_conc(df):\n",
    "    \"\"\"\n",
    "    This uses averages collected for height, weight, and chest radius for each position. This information\n",
    "    is used to determine the momentum and impulse rather than just looking at velocities in the analysis. Chest\n",
    "    radius is needed for angular moment of inertia as a rotating cylinder.\n",
    "    The data here are cast as f32 to reduce the size of these columns as well as in all future calculations, where the f64 \n",
    "    gets exponentially larger with application. \n",
    "    \"\"\"\n",
    "    import polars as pl # type: ignore\n",
    "\n",
    "    # Enable global string cache\n",
    "    pl.enable_string_cache()\n",
    "\n",
    "\n",
    "    try:\n",
    "        body_data = pl.DataFrame({\n",
    "            \"Position\": [\"QB\", \"RB\", \"FB\", \"WR\", \"TE\", \"T\", \"G\", \"C\", \"DE\", \"DT\", \"NT\", \"LB\", \"OLB\", \"MLB\", \"CB\", \"S\", \"K\", \"P\", \"SS\", \"ILB\", \"FS\", \"LS\", \"DB\"]\n",
    "            , \"Height_m\": [1.91, 1.79, 1.85, 1.88, 1.96, 1.97, 1.90, 1.87, 1.97, 1.92, 1.88, 1.90, 1.90, 1.87, 1.82, 1.84, 1.83, 1.88, 1.84, 1.90, 1.84, 1.88, 1.82]\n",
    "            , \"Weight_kg\": [102.1, 95.3, 111.1, 90.7, 114.6, 140.6, 141.8, 136.1, 120.2, 141.8, 152.0, 110.0, 108.9, 113.4, 87.4, 95.9, 92.08, 97.52, 95.9, 110.0, 95.9, 108.86, 87.4]\n",
    "            , \"Chest_rad_m\": [0.191, 0.191, 0.191, 0.191, 0.191, 0.191, 0.191, 0.191, 0.191, 0.191, 0.191, 0.191, 0.191, 0.191, 0.191, 0.191, 0.191, 0.191, 0.191, 0.191, 0.191, 0.191, 0.191]\n",
    "        }).with_columns([\n",
    "            pl.col(\"Height_m\").cast(pl.Float32)\n",
    "            , pl.col(\"Weight_kg\").cast(pl.Float32)\n",
    "            , pl.col(\"Chest_rad_m\").cast(pl.Float32)\n",
    "            , pl.col(\"Position\").cast(pl.Categorical)\n",
    "        ])\n",
    "\n",
    "        \n",
    "        Player_path = \"F:/Data/NFL-Punt-Analytics-Competition/player_punt_data.csv\"\n",
    "        position = pl.read_csv(Player_path).select([\"GSISID\", \"Position\"])\n",
    "        position = position.with_columns([\n",
    "            pl.col(\"GSISID\").cast(pl.Int32)\n",
    "            , pl.col(\"Position\").cast(pl.Categorical)\n",
    "        ])\n",
    "\n",
    "        position = position.join(\n",
    "            body_data\n",
    "            , on='Position'\n",
    "            , how='left'\n",
    "        )\n",
    "\n",
    "        df = df.with_columns([\n",
    "            pl.col(\"GSISID\").cast(pl.Int32)\n",
    "        ])\n",
    "\n",
    "        df = df.join(\n",
    "            position\n",
    "            , on='GSISID'\n",
    "            , how='left'\n",
    "        )    \n",
    "\n",
    "        return df.filter(pl.col('Position').is_not_null())    \n",
    "        \n",
    "    except Exception as e: \n",
    "        print(f\"An error occurred during body_builder: {e}\")\n",
    "        return None"
   ]
  },
  {
   "cell_type": "code",
   "execution_count": null,
   "metadata": {},
   "outputs": [],
   "source": [
    "review = pl.read_csv(\"F:/Data/NFL-Punt-Analytics-Competition/video_review.csv\")"
   ]
  },
  {
   "cell_type": "code",
   "execution_count": null,
   "metadata": {},
   "outputs": [],
   "source": [
    "def clean_review():\n",
    "    review = pl.read_csv(\"F:/Data/NFL-Punt-Analytics-Competition/video_review.csv\")\n",
    "    review, schema = data_shrinker(review)\n",
    "    review = review.with_columns([\n",
    "            pl.concat_str([\n",
    "                pl.col('GSISID').cast(pl.Int32).cast(pl.Utf8)\n",
    "                , pl.lit('-')\n",
    "                , pl.col('GameKey').cast(pl.Utf8)\n",
    "                , pl.lit('-')\n",
    "                , pl.col('PlayID').cast(pl.Utf8)\n",
    "            ]).alias('PlayKey')\n",
    "        ]).drop(['Season_Year', 'GameKey', 'PlayID', 'GSISID', 'Turnover_Related', 'Friendly_Fire'])\n",
    "    \n",
    "    return review"
   ]
  },
  {
   "cell_type": "code",
   "execution_count": null,
   "metadata": {},
   "outputs": [],
   "source": [
    "review = clean_review()"
   ]
  },
  {
   "cell_type": "code",
   "execution_count": null,
   "metadata": {},
   "outputs": [],
   "source": [
    "review.head()"
   ]
  },
  {
   "cell_type": "code",
   "execution_count": null,
   "metadata": {},
   "outputs": [],
   "source": [
    "df_testes = df_test.join(\n",
    "    review\n",
    "    , on=\"PlayKey\"\n",
    "    , how=\"left\"\n",
    ")"
   ]
  },
  {
   "cell_type": "code",
   "execution_count": null,
   "metadata": {},
   "outputs": [],
   "source": [
    "def add_review_data(df):\n",
    "    review = clean_review()\n",
    "\n",
    "    df = df.join(\n",
    "        review\n",
    "        , on=\"PlayKey\"\n",
    "        , how=\"left\"    \n",
    "        )\n",
    "    \n",
    "    return df"
   ]
  },
  {
   "cell_type": "code",
   "execution_count": null,
   "metadata": {},
   "outputs": [],
   "source": [
    "df_test, schema = data_shrinker(df)\n",
    "df_test = column_corrector(df_test)\n",
    "df_test = angle_corrector(df_test)\n",
    "df_test = body_builder_conc(df_test)\n",
    "df_test = velocity_calculator(df_test)\n",
    "df_test = impulse_calculator(df_test)\n",
    "df_test = add_review_data(df_test)\n",
    "df_test.head()"
   ]
  },
  {
   "cell_type": "code",
   "execution_count": null,
   "metadata": {},
   "outputs": [],
   "source": [
    "group_df, schema = data_shrinker(df)\n",
    "group_df = (group_df\n",
    "                .pipe(column_corrector)\n",
    "                .pipe(angle_corrector)\n",
    "                .pipe(body_builder_conc)\n",
    "                .pipe(velocity_calculator)                \n",
    "                .pipe(impulse_calculator)\n",
    "                .pipe(add_review_data))"
   ]
  },
  {
   "cell_type": "code",
   "execution_count": null,
   "metadata": {},
   "outputs": [],
   "source": [
    "group_df.head()"
   ]
  },
  {
   "cell_type": "code",
   "execution_count": null,
   "metadata": {},
   "outputs": [],
   "source": [
    "# for file in os.listdir(source_dir):\n",
    "#     if file.startswith(\"NGS-\"):\n",
    "#         file_path = os.path.join(source_dir, file)\n",
    "#         output_dir = \"F:/Data/Processing_data/concussion_output/\"\n",
    "\n",
    "#         # Read the CSV into polars DF\n",
    "#         df = pl.read_csv(file_path)\n",
    "#         df = (df\n",
    "#               .pipe(column_corrector)\n",
    "#                 .pipe(angle_corrector)\n",
    "#                 .pipe(body_builder_conc)\n",
    "#                 .pipe(velocity_calculator)                \n",
    "#                 .pipe(impulse_calculator)\n",
    "#                 .pipe(add_review_data))\n",
    "        \n",
    "#         output_file_path = os.path.join(output_dir, file.replace(\".csv\", \".parquet\"))\n",
    "\n",
    "#         df.write_parquet(output_file_path)\n",
    "\n",
    "#         print(f\"Processed and saved: {output_file_path}\")\n",
    "\n",
    "# print(\"For fuck's sake that took a while. Finally done processing and saving the concussion files.\")"
   ]
  },
  {
   "cell_type": "code",
   "execution_count": null,
   "metadata": {},
   "outputs": [],
   "source": [
    "# def process_and_save_concussion_data():\n",
    "\n",
    "#     for file in os.listdir(source_dir):\n",
    "#         if file.startswith(\"NGS-\"):\n",
    "#             file_path = os.path.join(source_dir, file)\n",
    "#             output_dir = \"F:/Data/Processing_data/concussion_output/\"\n",
    "\n",
    "#             # Read the CSV into polars DF\n",
    "\n",
    "#             df = pl.read_csv(file_path)\n",
    "#             df = (df\n",
    "#                 .pipe(column_corrector)\n",
    "#                     .pipe(angle_corrector)\n",
    "#                     .pipe(body_builder_conc)\n",
    "#                     .pipe(velocity_calculator)                \n",
    "#                     .pipe(impulse_calculator))\n",
    "            \n",
    "#             output_file_path = os.path.join(output_dir, file.replace(\".csv\", \".parquet\"))\n",
    "\n",
    "#             df.write_parquet(output_file_path)\n",
    "\n",
    "#             print(f\"Processed and saved: {output_file_path}\")\n",
    "\n",
    "#     print(\"For fuck's sake that took a while. Finally done processing and saving the concussion files.\")"
   ]
  },
  {
   "cell_type": "code",
   "execution_count": 2,
   "metadata": {},
   "outputs": [],
   "source": [
    "from QuantitativeCleaner import * \n",
    "\n"
   ]
  },
  {
   "cell_type": "code",
   "execution_count": 3,
   "metadata": {},
   "outputs": [
    {
     "name": "stdout",
     "output_type": "stream",
     "text": [
      "Memory usage of dataframe is 87.43 MB\n",
      "Memory usage after optimization is: 35.77 MB\n",
      "Decreased by 59.1%\n"
     ]
    },
    {
     "name": "stderr",
     "output_type": "stream",
     "text": [
      "c:\\Users\\justi\\OneDrive\\Desktop\\Analytics\\NFL_Data_Science\\ET\\DataHandler.py:140: CategoricalRemappingWarning: Local categoricals have different encodings, expensive re-encoding is done to perform this merge operation. Consider using a StringCache or an Enum type if the categories are known in advance\n",
      "  df = df.with_columns(pl.col(col).cast(pl.Categorical))\n"
     ]
    },
    {
     "name": "stdout",
     "output_type": "stream",
     "text": [
      "Processed and saved: F:/Data/Processing_data/concussion_output/NGS-2016-post.parquet\n",
      "Memory usage of dataframe is 95.19 MB\n",
      "Memory usage after optimization is: 38.49 MB\n",
      "Decreased by 59.6%\n",
      "Processed and saved: F:/Data/Processing_data/concussion_output/NGS-2016-pre.parquet\n",
      "Memory usage of dataframe is 790.15 MB\n",
      "Memory usage after optimization is: 326.29 MB\n",
      "Decreased by 58.7%\n",
      "Processed and saved: F:/Data/Processing_data/concussion_output/NGS-2016-reg-wk1-6.parquet\n",
      "Memory usage of dataframe is 690.97 MB\n",
      "Memory usage after optimization is: 285.94 MB\n",
      "Decreased by 58.6%\n",
      "Processed and saved: F:/Data/Processing_data/concussion_output/NGS-2016-reg-wk13-17.parquet\n",
      "Memory usage of dataframe is 760.78 MB\n",
      "Memory usage after optimization is: 314.28 MB\n",
      "Decreased by 58.7%\n",
      "Processed and saved: F:/Data/Processing_data/concussion_output/NGS-2016-reg-wk7-12.parquet\n",
      "Memory usage of dataframe is 94.12 MB\n",
      "Memory usage after optimization is: 38.95 MB\n",
      "Decreased by 58.6%\n",
      "Processed and saved: F:/Data/Processing_data/concussion_output/NGS-2017-post.parquet\n",
      "Memory usage of dataframe is 600.05 MB\n",
      "Memory usage after optimization is: 249.13 MB\n",
      "Decreased by 58.5%\n",
      "Processed and saved: F:/Data/Processing_data/concussion_output/NGS-2017-pre.parquet\n",
      "Memory usage of dataframe is 856.40 MB\n",
      "Memory usage after optimization is: 353.16 MB\n",
      "Decreased by 58.8%\n",
      "Processed and saved: F:/Data/Processing_data/concussion_output/NGS-2017-reg-wk1-6.parquet\n",
      "Memory usage of dataframe is 749.12 MB\n",
      "Memory usage after optimization is: 309.35 MB\n",
      "Decreased by 58.7%\n",
      "Processed and saved: F:/Data/Processing_data/concussion_output/NGS-2017-reg-wk13-17.parquet\n",
      "Memory usage of dataframe is 787.02 MB\n",
      "Memory usage after optimization is: 324.90 MB\n",
      "Decreased by 58.7%\n",
      "Processed and saved: F:/Data/Processing_data/concussion_output/NGS-2017-reg-wk7-12.parquet\n",
      "For fuck's sake that took a while. Finally done processing and saving the concussion files.\n"
     ]
    }
   ],
   "source": [
    "\n",
    "process_and_save_concussion_data()"
   ]
  },
  {
   "cell_type": "markdown",
   "metadata": {},
   "source": [
    "# Combine Tracking Data\n",
    "\n",
    "To do this, the columns will have to be the same in both the concussion and the injury tracking data. I will create a separate processing for this, so that the outputs "
   ]
  },
  {
   "cell_type": "code",
   "execution_count": 5,
   "metadata": {},
   "outputs": [],
   "source": [
    "import polars as pl\n",
    "df = pl.read_parquet(\"F:/Data/Processing_data/concussion_output/NGS-2017-reg-wk13-17.parquet\").head(1000)"
   ]
  },
  {
   "cell_type": "code",
   "execution_count": 6,
   "metadata": {},
   "outputs": [
    {
     "data": {
      "text/html": [
       "<div><style>\n",
       ".dataframe > thead > tr,\n",
       ".dataframe > tbody > tr {\n",
       "  text-align: right;\n",
       "  white-space: pre-wrap;\n",
       "}\n",
       "</style>\n",
       "<small>shape: (5, 31)</small><table border=\"1\" class=\"dataframe\"><thead><tr><th>PlayKey</th><th>x</th><th>y</th><th>o</th><th>dir</th><th>GSISID</th><th>time</th><th>Angle_Diff</th><th>Position</th><th>Height_m</th><th>Weight_kg</th><th>Chest_rad_m</th><th>Displacement</th><th>Speed</th><th>vx</th><th>vy</th><th>omega_dir</th><th>omega_o</th><th>omega_diff</th><th>px</th><th>py</th><th>moment</th><th>moment_upper</th><th>p_magnitude</th><th>L_dir</th><th>L_diff</th><th>Jx</th><th>Jy</th><th>J_magnitude</th><th>torque</th><th>torque_internal</th></tr><tr><td>str</td><td>f32</td><td>f32</td><td>f32</td><td>f32</td><td>i32</td><td>i32</td><td>f32</td><td>cat</td><td>f32</td><td>f32</td><td>f32</td><td>f32</td><td>f32</td><td>f32</td><td>f32</td><td>f32</td><td>f32</td><td>f32</td><td>f32</td><td>f32</td><td>f32</td><td>f32</td><td>f32</td><td>f32</td><td>f32</td><td>f32</td><td>f32</td><td>f32</td><td>f32</td><td>f32</td></tr></thead><tbody><tr><td>&quot;19714-585-120&quot;</td><td>68.160004</td><td>10.81</td><td>-36.779999</td><td>-109.649994</td><td>19714</td><td>0</td><td>72.870003</td><td>&quot;P&quot;</td><td>1.88</td><td>97.519997</td><td>0.191</td><td>null</td><td>null</td><td>null</td><td>null</td><td>null</td><td>null</td><td>null</td><td>null</td><td>null</td><td>0.296469</td><td>0.207528</td><td>null</td><td>null</td><td>null</td><td>null</td><td>null</td><td>null</td><td>null</td><td>null</td></tr><tr><td>&quot;19714-585-120&quot;</td><td>68.07</td><td>10.87</td><td>-39.009995</td><td>-111.0</td><td>19714</td><td>0</td><td>71.989998</td><td>&quot;P&quot;</td><td>1.88</td><td>97.519997</td><td>0.191</td><td>0.10817</td><td>1.081695</td><td>-0.90004</td><td>0.599995</td><td>-0.235621</td><td>-0.389208</td><td>0.153587</td><td>-87.771866</td><td>58.511478</td><td>0.296469</td><td>0.207528</td><td>105.486931</td><td>-0.069854</td><td>0.031874</td><td>null</td><td>null</td><td>null</td><td>null</td><td>null</td></tr><tr><td>&quot;19714-585-120&quot;</td><td>68.040001</td><td>10.89</td><td>-40.610001</td><td>-109.609985</td><td>19714</td><td>0</td><td>69.0</td><td>&quot;P&quot;</td><td>1.88</td><td>97.519997</td><td>0.191</td><td>0.036055</td><td>0.360547</td><td>-0.299988</td><td>0.200005</td><td>0.242603</td><td>-0.279254</td><td>0.521857</td><td>-29.254808</td><td>19.504446</td><td>0.296469</td><td>0.207528</td><td>35.160591</td><td>0.071924</td><td>0.1083</td><td>58.517059</td><td>-39.007034</td><td>70.326347</td><td>1.417784</td><td>0.764264</td></tr><tr><td>&quot;19714-585-120&quot;</td><td>68.010002</td><td>10.91</td><td>-42.110001</td><td>-107.549988</td><td>19714</td><td>0</td><td>65.440002</td><td>&quot;P&quot;</td><td>1.88</td><td>97.519997</td><td>0.191</td><td>0.036054</td><td>0.360542</td><td>-0.299988</td><td>0.199995</td><td>0.359538</td><td>-0.261799</td><td>0.621337</td><td>-29.254808</td><td>19.503515</td><td>0.296469</td><td>0.207528</td><td>35.160076</td><td>0.106592</td><td>0.128945</td><td>0.0</td><td>-0.000931</td><td>0.000931</td><td>0.346675</td><td>0.206449</td></tr><tr><td>&quot;19714-585-120&quot;</td><td>68.129997</td><td>10.83</td><td>-36.800003</td><td>-110.670013</td><td>19714</td><td>0</td><td>73.870003</td><td>&quot;P&quot;</td><td>1.88</td><td>97.519997</td><td>0.191</td><td>0.144218</td><td>1.442179</td><td>1.199951</td><td>-0.799999</td><td>-0.544547</td><td>0.926769</td><td>1.471316</td><td>117.019234</td><td>-78.015923</td><td>0.296469</td><td>0.207528</td><td>140.641327</td><td>-0.161441</td><td>0.30534</td><td>146.274048</td><td>-97.51944</td><td>175.801422</td><td>-2.68033</td><td>1.763946</td></tr></tbody></table></div>"
      ],
      "text/plain": [
       "shape: (5, 31)\n",
       "┌────────────┬───────────┬───────┬────────────┬───┬────────────┬────────────┬──────────┬───────────┐\n",
       "│ PlayKey    ┆ x         ┆ y     ┆ o          ┆ … ┆ Jy         ┆ J_magnitud ┆ torque   ┆ torque_in │\n",
       "│ ---        ┆ ---       ┆ ---   ┆ ---        ┆   ┆ ---        ┆ e          ┆ ---      ┆ ternal    │\n",
       "│ str        ┆ f32       ┆ f32   ┆ f32        ┆   ┆ f32        ┆ ---        ┆ f32      ┆ ---       │\n",
       "│            ┆           ┆       ┆            ┆   ┆            ┆ f32        ┆          ┆ f32       │\n",
       "╞════════════╪═══════════╪═══════╪════════════╪═══╪════════════╪════════════╪══════════╪═══════════╡\n",
       "│ 19714-585- ┆ 68.160004 ┆ 10.81 ┆ -36.779999 ┆ … ┆ null       ┆ null       ┆ null     ┆ null      │\n",
       "│ 120        ┆           ┆       ┆            ┆   ┆            ┆            ┆          ┆           │\n",
       "│ 19714-585- ┆ 68.07     ┆ 10.87 ┆ -39.009995 ┆ … ┆ null       ┆ null       ┆ null     ┆ null      │\n",
       "│ 120        ┆           ┆       ┆            ┆   ┆            ┆            ┆          ┆           │\n",
       "│ 19714-585- ┆ 68.040001 ┆ 10.89 ┆ -40.610001 ┆ … ┆ -39.007034 ┆ 70.326347  ┆ 1.417784 ┆ 0.764264  │\n",
       "│ 120        ┆           ┆       ┆            ┆   ┆            ┆            ┆          ┆           │\n",
       "│ 19714-585- ┆ 68.010002 ┆ 10.91 ┆ -42.110001 ┆ … ┆ -0.000931  ┆ 0.000931   ┆ 0.346675 ┆ 0.206449  │\n",
       "│ 120        ┆           ┆       ┆            ┆   ┆            ┆            ┆          ┆           │\n",
       "│ 19714-585- ┆ 68.129997 ┆ 10.83 ┆ -36.800003 ┆ … ┆ -97.51944  ┆ 175.801422 ┆ -2.68033 ┆ 1.763946  │\n",
       "│ 120        ┆           ┆       ┆            ┆   ┆            ┆            ┆          ┆           │\n",
       "└────────────┴───────────┴───────┴────────────┴───┴────────────┴────────────┴──────────┴───────────┘"
      ]
     },
     "execution_count": 6,
     "metadata": {},
     "output_type": "execute_result"
    }
   ],
   "source": [
    "df.head()"
   ]
  },
  {
   "cell_type": "code",
   "execution_count": 7,
   "metadata": {},
   "outputs": [
    {
     "name": "stdout",
     "output_type": "stream",
     "text": [
      "Memory usage of dataframe is 0.00 MB\n",
      "Memory usage after optimization is: 0.00 MB\n",
      "Decreased by 36.9%\n"
     ]
    }
   ],
   "source": [
    "review = clean_review()"
   ]
  },
  {
   "cell_type": "code",
   "execution_count": 10,
   "metadata": {},
   "outputs": [],
   "source": [
    "\n",
    "def add_review_data(df, review):\n",
    "\n",
    "    df = df.join(\n",
    "        review\n",
    "        , on=\"PlayKey\"\n",
    "        , how=\"inner\"    \n",
    "        )\n",
    "    \n",
    "    return df"
   ]
  },
  {
   "cell_type": "code",
   "execution_count": 11,
   "metadata": {},
   "outputs": [
    {
     "data": {
      "text/html": [
       "<div><style>\n",
       ".dataframe > thead > tr,\n",
       ".dataframe > tbody > tr {\n",
       "  text-align: right;\n",
       "  white-space: pre-wrap;\n",
       "}\n",
       "</style>\n",
       "<small>shape: (0, 35)</small><table border=\"1\" class=\"dataframe\"><thead><tr><th>PlayKey</th><th>x</th><th>y</th><th>o</th><th>dir</th><th>GSISID</th><th>time</th><th>Angle_Diff</th><th>Position</th><th>Height_m</th><th>Weight_kg</th><th>Chest_rad_m</th><th>Displacement</th><th>Speed</th><th>vx</th><th>vy</th><th>omega_dir</th><th>omega_o</th><th>omega_diff</th><th>px</th><th>py</th><th>moment</th><th>moment_upper</th><th>p_magnitude</th><th>L_dir</th><th>L_diff</th><th>Jx</th><th>Jy</th><th>J_magnitude</th><th>torque</th><th>torque_internal</th><th>Player_Activity_Derived</th><th>Primary_Impact_Type</th><th>Primary_Partner_GSISID</th><th>Primary_Partner_Activity_Derived</th></tr><tr><td>str</td><td>f32</td><td>f32</td><td>f32</td><td>f32</td><td>i32</td><td>i32</td><td>f32</td><td>cat</td><td>f32</td><td>f32</td><td>f32</td><td>f32</td><td>f32</td><td>f32</td><td>f32</td><td>f32</td><td>f32</td><td>f32</td><td>f32</td><td>f32</td><td>f32</td><td>f32</td><td>f32</td><td>f32</td><td>f32</td><td>f32</td><td>f32</td><td>f32</td><td>f32</td><td>f32</td><td>cat</td><td>cat</td><td>str</td><td>cat</td></tr></thead><tbody></tbody></table></div>"
      ],
      "text/plain": [
       "shape: (0, 35)\n",
       "┌─────────┬─────┬─────┬─────┬───┬────────────────┬────────────────┬────────────────┬───────────────┐\n",
       "│ PlayKey ┆ x   ┆ y   ┆ o   ┆ … ┆ Player_Activit ┆ Primary_Impact ┆ Primary_Partne ┆ Primary_Partn │\n",
       "│ ---     ┆ --- ┆ --- ┆ --- ┆   ┆ y_Derived      ┆ _Type          ┆ r_GSISID       ┆ er_Activity_D │\n",
       "│ str     ┆ f32 ┆ f32 ┆ f32 ┆   ┆ ---            ┆ ---            ┆ ---            ┆ eriv…         │\n",
       "│         ┆     ┆     ┆     ┆   ┆ cat            ┆ cat            ┆ str            ┆ ---           │\n",
       "│         ┆     ┆     ┆     ┆   ┆                ┆                ┆                ┆ cat           │\n",
       "╞═════════╪═════╪═════╪═════╪═══╪════════════════╪════════════════╪════════════════╪═══════════════╡\n",
       "└─────────┴─────┴─────┴─────┴───┴────────────────┴────────────────┴────────────────┴───────────────┘"
      ]
     },
     "execution_count": 11,
     "metadata": {},
     "output_type": "execute_result"
    }
   ],
   "source": [
    "add_review_data(df, review)"
   ]
  },
  {
   "cell_type": "code",
   "execution_count": 12,
   "metadata": {},
   "outputs": [
    {
     "data": {
      "text/plain": [
       "37"
      ]
     },
     "execution_count": 12,
     "metadata": {},
     "output_type": "execute_result"
    }
   ],
   "source": [
    "len(review)"
   ]
  },
  {
   "cell_type": "code",
   "execution_count": 38,
   "metadata": {},
   "outputs": [],
   "source": [
    "def create_concussion_review_df(review):\n",
    "    \"\"\"\n",
    "    Create a new DataFrame from multiple Parquet files, including only rows where the PlayKey matches those in the review DataFrame.\n",
    "    \"\"\"\n",
    "    import polars as pl # type: ignore\n",
    "    import os\n",
    "\n",
    "    ngs_dir = \"F:/Data/Processing_data/concussion_output/\"\n",
    "\n",
    "\n",
    "    # Add the OpponentKey column\n",
    "    review = review.with_columns(\n",
    "        (pl.col(\"Primary_Partner_GSISID\") + pl.col(\"PlayKey\").str.slice(5)).alias(\"OpponentKey\")\n",
    "        )\n",
    "    # Filter OpponentKey values that are longer than 12 characters\n",
    "    \n",
    "    # Extract PlayKey and OpponentKey values into lists\n",
    "    playkey_list = review[\"PlayKey\"].to_list()\n",
    "    opponentkey_list = review[\"OpponentKey\"].to_list()\n",
    "\n",
    "    # Remove any \"Unknown\" GSISID opponents from the list, since it will be a nonsense PlayKey\n",
    "    opponentkey_list = [key for key in opponentkey_list if key is not None and len(key) <= 12]\n",
    "\n",
    "    # Combine both lists\n",
    "    combined_keys = playkey_list + opponentkey_list\n",
    "\n",
    "\n",
    "    # Initialize a list to store dataframes from each table\n",
    "    dataframes = []\n",
    "\n",
    "    # Iterate through the parquet files in the directory\n",
    "    for file in os.listdir(ngs_dir):\n",
    "        if file.startswith(\"NGS-\"):\n",
    "            file_path = os.path.join(ngs_dir, file)\n",
    "\n",
    "            # Read into df\n",
    "            df = pl.read_parquet(file_path)\n",
    "\n",
    "            # Filter based on matching PlayKey values\n",
    "            filtered_df = df.filter(pl.col('PlayKey').is_in(combined_keys))\n",
    "\n",
    "            # Append to the dataframes\n",
    "            dataframes.append(filtered_df)\n",
    "\n",
    "    combined_df = pl.concat(dataframes)\n",
    "\n",
    "    combined_df = combined_df.join(\n",
    "        review\n",
    "        , on='PlayKey'\n",
    "        , how = 'left'\n",
    "    )\n",
    "\n",
    "    return combined_df\n",
    "\n",
    "\n"
   ]
  },
  {
   "cell_type": "code",
   "execution_count": 36,
   "metadata": {},
   "outputs": [
    {
     "name": "stdout",
     "output_type": "stream",
     "text": [
      "Memory usage of dataframe is 0.00 MB\n",
      "Memory usage after optimization is: 0.00 MB\n",
      "Decreased by 36.9%\n"
     ]
    }
   ],
   "source": [
    "review = clean_review()"
   ]
  },
  {
   "cell_type": "code",
   "execution_count": 39,
   "metadata": {},
   "outputs": [],
   "source": [
    "cf = create_concussion_review_df(review)"
   ]
  },
  {
   "cell_type": "code",
   "execution_count": 40,
   "metadata": {},
   "outputs": [
    {
     "data": {
      "text/html": [
       "<div><style>\n",
       ".dataframe > thead > tr,\n",
       ".dataframe > tbody > tr {\n",
       "  text-align: right;\n",
       "  white-space: pre-wrap;\n",
       "}\n",
       "</style>\n",
       "<small>shape: (5, 36)</small><table border=\"1\" class=\"dataframe\"><thead><tr><th>PlayKey</th><th>x</th><th>y</th><th>o</th><th>dir</th><th>GSISID</th><th>time</th><th>Angle_Diff</th><th>Position</th><th>Height_m</th><th>Weight_kg</th><th>Chest_rad_m</th><th>Displacement</th><th>Speed</th><th>vx</th><th>vy</th><th>omega_dir</th><th>omega_o</th><th>omega_diff</th><th>px</th><th>py</th><th>moment</th><th>moment_upper</th><th>p_magnitude</th><th>L_dir</th><th>L_diff</th><th>Jx</th><th>Jy</th><th>J_magnitude</th><th>torque</th><th>torque_internal</th><th>Player_Activity_Derived</th><th>Primary_Impact_Type</th><th>Primary_Partner_GSISID</th><th>Primary_Partner_Activity_Derived</th><th>OpponentKey</th></tr><tr><td>str</td><td>f32</td><td>f32</td><td>f32</td><td>f32</td><td>i32</td><td>i32</td><td>f32</td><td>cat</td><td>f32</td><td>f32</td><td>f32</td><td>f32</td><td>f32</td><td>f32</td><td>f32</td><td>f32</td><td>f32</td><td>f32</td><td>f32</td><td>f32</td><td>f32</td><td>f32</td><td>f32</td><td>f32</td><td>f32</td><td>f32</td><td>f32</td><td>f32</td><td>f32</td><td>f32</td><td>cat</td><td>cat</td><td>str</td><td>cat</td><td>str</td></tr></thead><tbody><tr><td>&quot;31023-29-538&quot;</td><td>32.950001</td><td>38.700001</td><td>-117.579987</td><td>85.380005</td><td>31023</td><td>0</td><td>157.039993</td><td>&quot;WR&quot;</td><td>1.88</td><td>90.699997</td><td>0.191</td><td>null</td><td>null</td><td>null</td><td>null</td><td>null</td><td>null</td><td>null</td><td>null</td><td>null</td><td>0.275736</td><td>0.193015</td><td>null</td><td>null</td><td>null</td><td>null</td><td>null</td><td>null</td><td>null</td><td>null</td><td>&quot;Tackling&quot;</td><td>&quot;Helmet-to-body&quot;</td><td>&quot;31941&quot;</td><td>&quot;Tackled&quot;</td><td>&quot;31941-29-538&quot;</td></tr><tr><td>&quot;31023-29-538&quot;</td><td>32.98</td><td>38.720001</td><td>-119.970001</td><td>105.070007</td><td>31023</td><td>0</td><td>134.960007</td><td>&quot;WR&quot;</td><td>1.88</td><td>90.699997</td><td>0.191</td><td>0.036055</td><td>0.360547</td><td>0.299988</td><td>0.200005</td><td>3.436552</td><td>-0.417137</td><td>3.853689</td><td>27.208893</td><td>18.140415</td><td>0.275736</td><td>0.193015</td><td>32.70166</td><td>0.94758</td><td>0.743819</td><td>null</td><td>null</td><td>null</td><td>null</td><td>null</td><td>&quot;Tackling&quot;</td><td>&quot;Helmet-to-body&quot;</td><td>&quot;31941&quot;</td><td>&quot;Tackled&quot;</td><td>&quot;31941-29-538&quot;</td></tr><tr><td>&quot;31023-29-538&quot;</td><td>32.98</td><td>38.709999</td><td>-122.320007</td><td>90.539978</td><td>31023</td><td>0</td><td>147.139999</td><td>&quot;WR&quot;</td><td>1.88</td><td>90.699997</td><td>0.191</td><td>0.010002</td><td>0.100021</td><td>0.0</td><td>-0.100021</td><td>-2.535969</td><td>-0.410154</td><td>2.125815</td><td>0.0</td><td>-9.071938</td><td>0.275736</td><td>0.193015</td><td>9.071938</td><td>-0.699257</td><td>0.410314</td><td>-27.208893</td><td>-27.212353</td><td>38.481632</td><td>-16.468365</td><td>-3.335054</td><td>&quot;Tackling&quot;</td><td>&quot;Helmet-to-body&quot;</td><td>&quot;31941&quot;</td><td>&quot;Tackled&quot;</td><td>&quot;31941-29-538&quot;</td></tr><tr><td>&quot;31023-29-538&quot;</td><td>32.93</td><td>38.669998</td><td>-124.540009</td><td>48.880005</td><td>31023</td><td>0</td><td>173.419998</td><td>&quot;WR&quot;</td><td>1.88</td><td>90.699997</td><td>0.191</td><td>0.064031</td><td>0.640312</td><td>-0.499992</td><td>-0.400009</td><td>-7.271037</td><td>-0.387464</td><td>6.883573</td><td>-45.349308</td><td>-36.28083</td><td>0.275736</td><td>0.193015</td><td>58.076317</td><td>-2.004883</td><td>1.328632</td><td>-45.349308</td><td>-27.208893</td><td>52.885574</td><td>-13.056264</td><td>9.183182</td><td>&quot;Tackling&quot;</td><td>&quot;Helmet-to-body&quot;</td><td>&quot;31941&quot;</td><td>&quot;Tackled&quot;</td><td>&quot;31941-29-538&quot;</td></tr><tr><td>&quot;31023-29-538&quot;</td><td>32.900002</td><td>38.619999</td><td>-126.799988</td><td>40.029999</td><td>31023</td><td>0</td><td>166.830002</td><td>&quot;WR&quot;</td><td>1.88</td><td>90.699997</td><td>0.191</td><td>0.058308</td><td>0.583082</td><td>-0.299988</td><td>-0.499992</td><td>-1.544617</td><td>-0.39444</td><td>1.150178</td><td>-27.208893</td><td>-45.349308</td><td>0.275736</td><td>0.193015</td><td>52.885574</td><td>-0.425906</td><td>0.222001</td><td>18.140415</td><td>-9.068478</td><td>20.280827</td><td>15.789774</td><td>-11.066308</td><td>&quot;Tackling&quot;</td><td>&quot;Helmet-to-body&quot;</td><td>&quot;31941&quot;</td><td>&quot;Tackled&quot;</td><td>&quot;31941-29-538&quot;</td></tr></tbody></table></div>"
      ],
      "text/plain": [
       "shape: (5, 36)\n",
       "┌───────────┬───────────┬───────────┬───────────┬───┬───────────┬───────────┬───────────┬──────────┐\n",
       "│ PlayKey   ┆ x         ┆ y         ┆ o         ┆ … ┆ Primary_I ┆ Primary_P ┆ Primary_P ┆ Opponent │\n",
       "│ ---       ┆ ---       ┆ ---       ┆ ---       ┆   ┆ mpact_Typ ┆ artner_GS ┆ artner_Ac ┆ Key      │\n",
       "│ str       ┆ f32       ┆ f32       ┆ f32       ┆   ┆ e         ┆ ISID      ┆ tivity_De ┆ ---      │\n",
       "│           ┆           ┆           ┆           ┆   ┆ ---       ┆ ---       ┆ riv…      ┆ str      │\n",
       "│           ┆           ┆           ┆           ┆   ┆ cat       ┆ str       ┆ ---       ┆          │\n",
       "│           ┆           ┆           ┆           ┆   ┆           ┆           ┆ cat       ┆          │\n",
       "╞═══════════╪═══════════╪═══════════╪═══════════╪═══╪═══════════╪═══════════╪═══════════╪══════════╡\n",
       "│ 31023-29- ┆ 32.950001 ┆ 38.700001 ┆ -117.5799 ┆ … ┆ Helmet-to ┆ 31941     ┆ Tackled   ┆ 31941-29 │\n",
       "│ 538       ┆           ┆           ┆ 87        ┆   ┆ -body     ┆           ┆           ┆ -538     │\n",
       "│ 31023-29- ┆ 32.98     ┆ 38.720001 ┆ -119.9700 ┆ … ┆ Helmet-to ┆ 31941     ┆ Tackled   ┆ 31941-29 │\n",
       "│ 538       ┆           ┆           ┆ 01        ┆   ┆ -body     ┆           ┆           ┆ -538     │\n",
       "│ 31023-29- ┆ 32.98     ┆ 38.709999 ┆ -122.3200 ┆ … ┆ Helmet-to ┆ 31941     ┆ Tackled   ┆ 31941-29 │\n",
       "│ 538       ┆           ┆           ┆ 07        ┆   ┆ -body     ┆           ┆           ┆ -538     │\n",
       "│ 31023-29- ┆ 32.93     ┆ 38.669998 ┆ -124.5400 ┆ … ┆ Helmet-to ┆ 31941     ┆ Tackled   ┆ 31941-29 │\n",
       "│ 538       ┆           ┆           ┆ 09        ┆   ┆ -body     ┆           ┆           ┆ -538     │\n",
       "│ 31023-29- ┆ 32.900002 ┆ 38.619999 ┆ -126.7999 ┆ … ┆ Helmet-to ┆ 31941     ┆ Tackled   ┆ 31941-29 │\n",
       "│ 538       ┆           ┆           ┆ 88        ┆   ┆ -body     ┆           ┆           ┆ -538     │\n",
       "└───────────┴───────────┴───────────┴───────────┴───┴───────────┴───────────┴───────────┴──────────┘"
      ]
     },
     "execution_count": 40,
     "metadata": {},
     "output_type": "execute_result"
    }
   ],
   "source": [
    "cf.head()"
   ]
  },
  {
   "cell_type": "code",
   "execution_count": 42,
   "metadata": {},
   "outputs": [
    {
     "data": {
      "text/html": [
       "<div><style>\n",
       ".dataframe > thead > tr,\n",
       ".dataframe > tbody > tr {\n",
       "  text-align: right;\n",
       "  white-space: pre-wrap;\n",
       "}\n",
       "</style>\n",
       "<small>shape: (326, 36)</small><table border=\"1\" class=\"dataframe\"><thead><tr><th>PlayKey</th><th>x</th><th>y</th><th>o</th><th>dir</th><th>GSISID</th><th>time</th><th>Angle_Diff</th><th>Position</th><th>Height_m</th><th>Weight_kg</th><th>Chest_rad_m</th><th>Displacement</th><th>Speed</th><th>vx</th><th>vy</th><th>omega_dir</th><th>omega_o</th><th>omega_diff</th><th>px</th><th>py</th><th>moment</th><th>moment_upper</th><th>p_magnitude</th><th>L_dir</th><th>L_diff</th><th>Jx</th><th>Jy</th><th>J_magnitude</th><th>torque</th><th>torque_internal</th><th>Player_Activity_Derived</th><th>Primary_Impact_Type</th><th>Primary_Partner_GSISID</th><th>Primary_Partner_Activity_Derived</th><th>OpponentKey</th></tr><tr><td>str</td><td>f32</td><td>f32</td><td>f32</td><td>f32</td><td>i32</td><td>i32</td><td>f32</td><td>cat</td><td>f32</td><td>f32</td><td>f32</td><td>f32</td><td>f32</td><td>f32</td><td>f32</td><td>f32</td><td>f32</td><td>f32</td><td>f32</td><td>f32</td><td>f32</td><td>f32</td><td>f32</td><td>f32</td><td>f32</td><td>f32</td><td>f32</td><td>f32</td><td>f32</td><td>f32</td><td>cat</td><td>cat</td><td>str</td><td>cat</td><td>str</td></tr></thead><tbody><tr><td>&quot;31941-29-538&quot;</td><td>18.77</td><td>38.830002</td><td>-7.649994</td><td>60.259995</td><td>31941</td><td>0</td><td>67.910004</td><td>&quot;WR&quot;</td><td>1.88</td><td>90.699997</td><td>0.191</td><td>null</td><td>null</td><td>null</td><td>null</td><td>null</td><td>null</td><td>null</td><td>null</td><td>null</td><td>0.275736</td><td>0.193015</td><td>null</td><td>null</td><td>null</td><td>null</td><td>null</td><td>null</td><td>null</td><td>null</td><td>null</td><td>null</td><td>null</td><td>null</td><td>null</td></tr><tr><td>&quot;31941-29-538&quot;</td><td>18.83</td><td>38.700001</td><td>-8.690002</td><td>60.110001</td><td>31941</td><td>0</td><td>68.800003</td><td>&quot;WR&quot;</td><td>1.88</td><td>90.699997</td><td>0.191</td><td>0.143179</td><td>1.43179</td><td>0.599995</td><td>-1.300011</td><td>-0.02618</td><td>-0.181516</td><td>0.155336</td><td>54.419514</td><td>-117.910965</td><td>0.275736</td><td>0.193015</td><td>129.863312</td><td>-0.007219</td><td>0.029982</td><td>null</td><td>null</td><td>null</td><td>null</td><td>null</td><td>null</td><td>null</td><td>null</td><td>null</td><td>null</td></tr><tr><td>&quot;31941-29-538&quot;</td><td>18.9</td><td>38.59</td><td>-9.540009</td><td>59.820007</td><td>31941</td><td>0</td><td>69.360001</td><td>&quot;WR&quot;</td><td>1.88</td><td>90.699997</td><td>0.191</td><td>0.130384</td><td>1.303844</td><td>0.699997</td><td>-1.100006</td><td>-0.050613</td><td>-0.148354</td><td>0.097741</td><td>63.489719</td><td>-99.770554</td><td>0.275736</td><td>0.193015</td><td>118.258644</td><td>-0.013956</td><td>0.018866</td><td>9.070206</td><td>18.140411</td><td>20.281595</td><td>-0.067371</td><td>-0.111166</td><td>null</td><td>null</td><td>null</td><td>null</td><td>null</td></tr><tr><td>&quot;31941-29-538&quot;</td><td>19.0</td><td>38.48</td><td>-10.449997</td><td>59.550003</td><td>31941</td><td>0</td><td>70.0</td><td>&quot;WR&quot;</td><td>1.88</td><td>90.699997</td><td>0.191</td><td>0.148661</td><td>1.486614</td><td>1.000004</td><td>-1.100006</td><td>-0.047125</td><td>-0.158823</td><td>0.111699</td><td>90.70034</td><td>-99.770554</td><td>0.275736</td><td>0.193015</td><td>134.835876</td><td>-0.012994</td><td>0.021559</td><td>27.210621</td><td>0.0</td><td>27.210621</td><td>0.009618</td><td>0.026939</td><td>null</td><td>null</td><td>null</td><td>null</td><td>null</td></tr><tr><td>&quot;31941-29-538&quot;</td><td>19.09</td><td>38.380001</td><td>-11.399994</td><td>58.889999</td><td>31941</td><td>0</td><td>70.290001</td><td>&quot;WR&quot;</td><td>1.88</td><td>90.699997</td><td>0.191</td><td>0.134535</td><td>1.345352</td><td>0.900002</td><td>-0.999985</td><td>-0.115193</td><td>-0.165806</td><td>0.050612</td><td>81.630135</td><td>-90.698616</td><td>0.275736</td><td>0.193015</td><td>122.023438</td><td>-0.031763</td><td>0.009769</td><td>-9.070206</td><td>9.071938</td><td>12.828432</td><td>-0.187689</td><td>-0.117905</td><td>null</td><td>null</td><td>null</td><td>null</td><td>null</td></tr><tr><td>&hellip;</td><td>&hellip;</td><td>&hellip;</td><td>&hellip;</td><td>&hellip;</td><td>&hellip;</td><td>&hellip;</td><td>&hellip;</td><td>&hellip;</td><td>&hellip;</td><td>&hellip;</td><td>&hellip;</td><td>&hellip;</td><td>&hellip;</td><td>&hellip;</td><td>&hellip;</td><td>&hellip;</td><td>&hellip;</td><td>&hellip;</td><td>&hellip;</td><td>&hellip;</td><td>&hellip;</td><td>&hellip;</td><td>&hellip;</td><td>&hellip;</td><td>&hellip;</td><td>&hellip;</td><td>&hellip;</td><td>&hellip;</td><td>&hellip;</td><td>&hellip;</td><td>&hellip;</td><td>&hellip;</td><td>&hellip;</td><td>&hellip;</td><td>&hellip;</td></tr><tr><td>&quot;31941-29-538&quot;</td><td>35.98</td><td>33.360001</td><td>-64.160004</td><td>-112.910004</td><td>31941</td><td>32</td><td>48.75</td><td>&quot;WR&quot;</td><td>1.88</td><td>90.699997</td><td>0.191</td><td>1.392049</td><td>13.920492</td><td>-5.699997</td><td>12.700005</td><td>-2.771585</td><td>2.961823</td><td>5.733408</td><td>-516.989685</td><td>1151.890381</td><td>0.275736</td><td>0.193015</td><td>1262.588501</td><td>-0.764225</td><td>1.106633</td><td>-11954.257812</td><td>-2648.439941</td><td>12244.121094</td><td>69.097771</td><td>-18.235016</td><td>null</td><td>null</td><td>null</td><td>null</td><td>null</td></tr><tr><td>&quot;31941-29-538&quot;</td><td>21.18</td><td>42.93</td><td>105.580017</td><td>-169.769989</td><td>31941</td><td>32</td><td>84.650002</td><td>&quot;WR&quot;</td><td>1.88</td><td>90.699997</td><td>0.191</td><td>17.624554</td><td>176.245544</td><td>-148.0</td><td>95.699997</td><td>-9.923939</td><td>29.625225</td><td>39.549164</td><td>-13423.599609</td><td>8679.989258</td><td>0.275736</td><td>0.193015</td><td>15985.469727</td><td>-2.736383</td><td>7.633578</td><td>-12906.610352</td><td>7528.098633</td><td>14941.648438</td><td>-19.721582</td><td>65.269455</td><td>null</td><td>null</td><td>null</td><td>null</td><td>null</td></tr><tr><td>&quot;31941-29-538&quot;</td><td>20.01</td><td>42.91</td><td>120.039978</td><td>176.529999</td><td>31941</td><td>32</td><td>56.490002</td><td>&quot;WR&quot;</td><td>1.88</td><td>90.699997</td><td>0.191</td><td>1.170171</td><td>11.70171</td><td>-11.700001</td><td>-0.200005</td><td>60.44075</td><td>2.523739</td><td>57.917011</td><td>-1061.190063</td><td>-18.140415</td><td>0.275736</td><td>0.193015</td><td>1061.345093</td><td>16.665665</td><td>11.178846</td><td>12362.40918</td><td>-8698.129883</td><td>15115.774414</td><td>194.020477</td><td>35.452682</td><td>null</td><td>null</td><td>null</td><td>null</td><td>null</td></tr><tr><td>&quot;31941-29-538&quot;</td><td>36.740002</td><td>31.18</td><td>-62.479996</td><td>-165.119995</td><td>31941</td><td>32</td><td>102.639999</td><td>&quot;WR&quot;</td><td>1.88</td><td>90.699997</td><td>0.191</td><td>20.43247</td><td>204.324707</td><td>167.300018</td><td>-117.299995</td><td>-59.629177</td><td>-31.855745</td><td>27.773432</td><td>15174.111328</td><td>-10639.109375</td><td>0.275736</td><td>0.193015</td><td>18532.25</td><td>-16.441885</td><td>5.360686</td><td>16235.301758</td><td>-10620.96875</td><td>19400.773438</td><td>-331.0755</td><td>-58.181602</td><td>null</td><td>null</td><td>null</td><td>null</td><td>null</td></tr><tr><td>&quot;31941-29-538&quot;</td><td>36.740002</td><td>32.18</td><td>-79.169998</td><td>-157.399994</td><td>31941</td><td>32</td><td>78.230003</td><td>&quot;WR&quot;</td><td>1.88</td><td>90.699997</td><td>0.191</td><td>1.0</td><td>10.0</td><td>0.0</td><td>10.0</td><td>1.347396</td><td>-2.912955</td><td>4.260352</td><td>0.0</td><td>907.0</td><td>0.275736</td><td>0.193015</td><td>907.0</td><td>0.371525</td><td>0.822311</td><td>-15174.111328</td><td>11546.109375</td><td>19067.414062</td><td>168.134094</td><td>-45.383751</td><td>null</td><td>null</td><td>null</td><td>null</td><td>null</td></tr></tbody></table></div>"
      ],
      "text/plain": [
       "shape: (326, 36)\n",
       "┌───────────┬───────────┬───────────┬───────────┬───┬───────────┬───────────┬───────────┬──────────┐\n",
       "│ PlayKey   ┆ x         ┆ y         ┆ o         ┆ … ┆ Primary_I ┆ Primary_P ┆ Primary_P ┆ Opponent │\n",
       "│ ---       ┆ ---       ┆ ---       ┆ ---       ┆   ┆ mpact_Typ ┆ artner_GS ┆ artner_Ac ┆ Key      │\n",
       "│ str       ┆ f32       ┆ f32       ┆ f32       ┆   ┆ e         ┆ ISID      ┆ tivity_De ┆ ---      │\n",
       "│           ┆           ┆           ┆           ┆   ┆ ---       ┆ ---       ┆ riv…      ┆ str      │\n",
       "│           ┆           ┆           ┆           ┆   ┆ cat       ┆ str       ┆ ---       ┆          │\n",
       "│           ┆           ┆           ┆           ┆   ┆           ┆           ┆ cat       ┆          │\n",
       "╞═══════════╪═══════════╪═══════════╪═══════════╪═══╪═══════════╪═══════════╪═══════════╪══════════╡\n",
       "│ 31941-29- ┆ 18.77     ┆ 38.830002 ┆ -7.649994 ┆ … ┆ null      ┆ null      ┆ null      ┆ null     │\n",
       "│ 538       ┆           ┆           ┆           ┆   ┆           ┆           ┆           ┆          │\n",
       "│ 31941-29- ┆ 18.83     ┆ 38.700001 ┆ -8.690002 ┆ … ┆ null      ┆ null      ┆ null      ┆ null     │\n",
       "│ 538       ┆           ┆           ┆           ┆   ┆           ┆           ┆           ┆          │\n",
       "│ 31941-29- ┆ 18.9      ┆ 38.59     ┆ -9.540009 ┆ … ┆ null      ┆ null      ┆ null      ┆ null     │\n",
       "│ 538       ┆           ┆           ┆           ┆   ┆           ┆           ┆           ┆          │\n",
       "│ 31941-29- ┆ 19.0      ┆ 38.48     ┆ -10.44999 ┆ … ┆ null      ┆ null      ┆ null      ┆ null     │\n",
       "│ 538       ┆           ┆           ┆ 7         ┆   ┆           ┆           ┆           ┆          │\n",
       "│ 31941-29- ┆ 19.09     ┆ 38.380001 ┆ -11.39999 ┆ … ┆ null      ┆ null      ┆ null      ┆ null     │\n",
       "│ 538       ┆           ┆           ┆ 4         ┆   ┆           ┆           ┆           ┆          │\n",
       "│ …         ┆ …         ┆ …         ┆ …         ┆ … ┆ …         ┆ …         ┆ …         ┆ …        │\n",
       "│ 31941-29- ┆ 35.98     ┆ 33.360001 ┆ -64.16000 ┆ … ┆ null      ┆ null      ┆ null      ┆ null     │\n",
       "│ 538       ┆           ┆           ┆ 4         ┆   ┆           ┆           ┆           ┆          │\n",
       "│ 31941-29- ┆ 21.18     ┆ 42.93     ┆ 105.58001 ┆ … ┆ null      ┆ null      ┆ null      ┆ null     │\n",
       "│ 538       ┆           ┆           ┆ 7         ┆   ┆           ┆           ┆           ┆          │\n",
       "│ 31941-29- ┆ 20.01     ┆ 42.91     ┆ 120.03997 ┆ … ┆ null      ┆ null      ┆ null      ┆ null     │\n",
       "│ 538       ┆           ┆           ┆ 8         ┆   ┆           ┆           ┆           ┆          │\n",
       "│ 31941-29- ┆ 36.740002 ┆ 31.18     ┆ -62.47999 ┆ … ┆ null      ┆ null      ┆ null      ┆ null     │\n",
       "│ 538       ┆           ┆           ┆ 6         ┆   ┆           ┆           ┆           ┆          │\n",
       "│ 31941-29- ┆ 36.740002 ┆ 32.18     ┆ -79.16999 ┆ … ┆ null      ┆ null      ┆ null      ┆ null     │\n",
       "│ 538       ┆           ┆           ┆ 8         ┆   ┆           ┆           ┆           ┆          │\n",
       "└───────────┴───────────┴───────────┴───────────┴───┴───────────┴───────────┴───────────┴──────────┘"
      ]
     },
     "execution_count": 42,
     "metadata": {},
     "output_type": "execute_result"
    }
   ],
   "source": [
    "cf.filter(pl.col(\"PlayKey\")==\"31941-29-538\")"
   ]
  },
  {
   "cell_type": "markdown",
   "metadata": {},
   "source": [
    "# Concussion Summary Data"
   ]
  },
  {
   "cell_type": "code",
   "execution_count": 1,
   "metadata": {},
   "outputs": [],
   "source": [
    "from QuantitativeCleaner import *"
   ]
  },
  {
   "cell_type": "code",
   "execution_count": 2,
   "metadata": {},
   "outputs": [
    {
     "name": "stdout",
     "output_type": "stream",
     "text": [
      "Memory usage of dataframe is 0.00 MB\n",
      "Memory usage after optimization is: 0.00 MB\n",
      "Decreased by 45.2%\n"
     ]
    }
   ],
   "source": [
    "review = clean_review()"
   ]
  },
  {
   "cell_type": "code",
   "execution_count": 3,
   "metadata": {},
   "outputs": [],
   "source": [
    "create_concussion_review_df(review)"
   ]
  }
 ],
 "metadata": {
  "kernelspec": {
   "display_name": "PythonData",
   "language": "python",
   "name": "python3"
  },
  "language_info": {
   "codemirror_mode": {
    "name": "ipython",
    "version": 3
   },
   "file_extension": ".py",
   "mimetype": "text/x-python",
   "name": "python",
   "nbconvert_exporter": "python",
   "pygments_lexer": "ipython3",
   "version": "3.9.12"
  }
 },
 "nbformat": 4,
 "nbformat_minor": 2
}
