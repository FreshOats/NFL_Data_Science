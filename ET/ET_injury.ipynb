{
 "cells": [
  {
   "cell_type": "markdown",
   "metadata": {},
   "source": [
    "# Extract and Transform - Injury Data\n",
    "Due to the size and inconsistencies in the data, the data are not ready to be loaded into a database until cleaned and transformed. \n",
    "To address the efficiency of processing the high volume data, I will be using polars instead of pandas, which does have some significant differences in syntax. \n",
    "Performance metrics collected have shown that polars is saving minutes of processing time between the same operations using SQL or pandas. \n",
    "\n",
    "### Joins\n",
    "Smaller tables will be joined as dataframes. The tracking data is very large, and for efficiency, these tables will be transformed as lazyframes, and only when the columns \n",
    "have been transformed and isolated will they be read in as dataframes. "
   ]
  },
  {
   "cell_type": "code",
   "execution_count": 2,
   "metadata": {},
   "outputs": [],
   "source": [
    "PlayList_path = \"F:/Data/nfl-playing-surface-analytics/PlayList.csv\"\n",
    "InjuryRecord_path = \"F:/Data/nfl-playing-surface-analytics/InjuryRecord.csv\"\n",
    "PlayerTrackData_path = \"F:/Data/nfl-playing-surface-analytics/PlayerTrackData.csv\""
   ]
  },
  {
   "cell_type": "code",
   "execution_count": 3,
   "metadata": {},
   "outputs": [],
   "source": [
    "import polars as pl\n",
    "import numpy as np"
   ]
  },
  {
   "cell_type": "code",
   "execution_count": 6,
   "metadata": {},
   "outputs": [],
   "source": [
    "plays = pl.read_csv(PlayList_path)\n",
    "injuries = pl.read_csv(InjuryRecord_path)"
   ]
  },
  {
   "cell_type": "code",
   "execution_count": 8,
   "metadata": {},
   "outputs": [
    {
     "data": {
      "text/html": [
       "<div><style>\n",
       ".dataframe > thead > tr,\n",
       ".dataframe > tbody > tr {\n",
       "  text-align: right;\n",
       "  white-space: pre-wrap;\n",
       "}\n",
       "</style>\n",
       "<small>shape: (5, 14)</small><table border=\"1\" class=\"dataframe\"><thead><tr><th>PlayerKey</th><th>GameID</th><th>PlayKey</th><th>RosterPosition</th><th>PlayerDay</th><th>PlayerGame</th><th>StadiumType</th><th>FieldType</th><th>Temperature</th><th>Weather</th><th>PlayType</th><th>PlayerGamePlay</th><th>Position</th><th>PositionGroup</th></tr><tr><td>i64</td><td>str</td><td>str</td><td>str</td><td>i64</td><td>i64</td><td>str</td><td>str</td><td>i64</td><td>str</td><td>str</td><td>i64</td><td>str</td><td>str</td></tr></thead><tbody><tr><td>26624</td><td>&quot;26624-1&quot;</td><td>&quot;26624-1-1&quot;</td><td>&quot;Quarterback&quot;</td><td>1</td><td>1</td><td>&quot;Outdoor&quot;</td><td>&quot;Synthetic&quot;</td><td>63</td><td>&quot;Clear and warm&quot;</td><td>&quot;Pass&quot;</td><td>1</td><td>&quot;QB&quot;</td><td>&quot;QB&quot;</td></tr><tr><td>26624</td><td>&quot;26624-1&quot;</td><td>&quot;26624-1-2&quot;</td><td>&quot;Quarterback&quot;</td><td>1</td><td>1</td><td>&quot;Outdoor&quot;</td><td>&quot;Synthetic&quot;</td><td>63</td><td>&quot;Clear and warm&quot;</td><td>&quot;Pass&quot;</td><td>2</td><td>&quot;QB&quot;</td><td>&quot;QB&quot;</td></tr><tr><td>26624</td><td>&quot;26624-1&quot;</td><td>&quot;26624-1-3&quot;</td><td>&quot;Quarterback&quot;</td><td>1</td><td>1</td><td>&quot;Outdoor&quot;</td><td>&quot;Synthetic&quot;</td><td>63</td><td>&quot;Clear and warm&quot;</td><td>&quot;Rush&quot;</td><td>3</td><td>&quot;QB&quot;</td><td>&quot;QB&quot;</td></tr><tr><td>26624</td><td>&quot;26624-1&quot;</td><td>&quot;26624-1-4&quot;</td><td>&quot;Quarterback&quot;</td><td>1</td><td>1</td><td>&quot;Outdoor&quot;</td><td>&quot;Synthetic&quot;</td><td>63</td><td>&quot;Clear and warm&quot;</td><td>&quot;Rush&quot;</td><td>4</td><td>&quot;QB&quot;</td><td>&quot;QB&quot;</td></tr><tr><td>26624</td><td>&quot;26624-1&quot;</td><td>&quot;26624-1-5&quot;</td><td>&quot;Quarterback&quot;</td><td>1</td><td>1</td><td>&quot;Outdoor&quot;</td><td>&quot;Synthetic&quot;</td><td>63</td><td>&quot;Clear and warm&quot;</td><td>&quot;Pass&quot;</td><td>5</td><td>&quot;QB&quot;</td><td>&quot;QB&quot;</td></tr></tbody></table></div>"
      ],
      "text/plain": [
       "shape: (5, 14)\n",
       "┌───────────┬─────────┬───────────┬────────────┬───┬──────────┬────────────┬──────────┬────────────┐\n",
       "│ PlayerKey ┆ GameID  ┆ PlayKey   ┆ RosterPosi ┆ … ┆ PlayType ┆ PlayerGame ┆ Position ┆ PositionGr │\n",
       "│ ---       ┆ ---     ┆ ---       ┆ tion       ┆   ┆ ---      ┆ Play       ┆ ---      ┆ oup        │\n",
       "│ i64       ┆ str     ┆ str       ┆ ---        ┆   ┆ str      ┆ ---        ┆ str      ┆ ---        │\n",
       "│           ┆         ┆           ┆ str        ┆   ┆          ┆ i64        ┆          ┆ str        │\n",
       "╞═══════════╪═════════╪═══════════╪════════════╪═══╪══════════╪════════════╪══════════╪════════════╡\n",
       "│ 26624     ┆ 26624-1 ┆ 26624-1-1 ┆ Quarterbac ┆ … ┆ Pass     ┆ 1          ┆ QB       ┆ QB         │\n",
       "│           ┆         ┆           ┆ k          ┆   ┆          ┆            ┆          ┆            │\n",
       "│ 26624     ┆ 26624-1 ┆ 26624-1-2 ┆ Quarterbac ┆ … ┆ Pass     ┆ 2          ┆ QB       ┆ QB         │\n",
       "│           ┆         ┆           ┆ k          ┆   ┆          ┆            ┆          ┆            │\n",
       "│ 26624     ┆ 26624-1 ┆ 26624-1-3 ┆ Quarterbac ┆ … ┆ Rush     ┆ 3          ┆ QB       ┆ QB         │\n",
       "│           ┆         ┆           ┆ k          ┆   ┆          ┆            ┆          ┆            │\n",
       "│ 26624     ┆ 26624-1 ┆ 26624-1-4 ┆ Quarterbac ┆ … ┆ Rush     ┆ 4          ┆ QB       ┆ QB         │\n",
       "│           ┆         ┆           ┆ k          ┆   ┆          ┆            ┆          ┆            │\n",
       "│ 26624     ┆ 26624-1 ┆ 26624-1-5 ┆ Quarterbac ┆ … ┆ Pass     ┆ 5          ┆ QB       ┆ QB         │\n",
       "│           ┆         ┆           ┆ k          ┆   ┆          ┆            ┆          ┆            │\n",
       "└───────────┴─────────┴───────────┴────────────┴───┴──────────┴────────────┴──────────┴────────────┘"
      ]
     },
     "execution_count": 8,
     "metadata": {},
     "output_type": "execute_result"
    }
   ],
   "source": [
    "plays.head()"
   ]
  },
  {
   "cell_type": "code",
   "execution_count": 9,
   "metadata": {},
   "outputs": [
    {
     "data": {
      "text/html": [
       "<div><style>\n",
       ".dataframe > thead > tr,\n",
       ".dataframe > tbody > tr {\n",
       "  text-align: right;\n",
       "  white-space: pre-wrap;\n",
       "}\n",
       "</style>\n",
       "<small>shape: (5, 9)</small><table border=\"1\" class=\"dataframe\"><thead><tr><th>PlayerKey</th><th>GameID</th><th>PlayKey</th><th>BodyPart</th><th>Surface</th><th>DM_M1</th><th>DM_M7</th><th>DM_M28</th><th>DM_M42</th></tr><tr><td>i64</td><td>str</td><td>str</td><td>str</td><td>str</td><td>i64</td><td>i64</td><td>i64</td><td>i64</td></tr></thead><tbody><tr><td>39873</td><td>&quot;39873-4&quot;</td><td>&quot;39873-4-32&quot;</td><td>&quot;Knee&quot;</td><td>&quot;Synthetic&quot;</td><td>1</td><td>1</td><td>1</td><td>1</td></tr><tr><td>46074</td><td>&quot;46074-7&quot;</td><td>&quot;46074-7-26&quot;</td><td>&quot;Knee&quot;</td><td>&quot;Natural&quot;</td><td>1</td><td>1</td><td>0</td><td>0</td></tr><tr><td>36557</td><td>&quot;36557-1&quot;</td><td>&quot;36557-1-70&quot;</td><td>&quot;Ankle&quot;</td><td>&quot;Synthetic&quot;</td><td>1</td><td>1</td><td>1</td><td>1</td></tr><tr><td>46646</td><td>&quot;46646-3&quot;</td><td>&quot;46646-3-30&quot;</td><td>&quot;Ankle&quot;</td><td>&quot;Natural&quot;</td><td>1</td><td>0</td><td>0</td><td>0</td></tr><tr><td>43532</td><td>&quot;43532-5&quot;</td><td>&quot;43532-5-69&quot;</td><td>&quot;Ankle&quot;</td><td>&quot;Synthetic&quot;</td><td>1</td><td>1</td><td>1</td><td>1</td></tr></tbody></table></div>"
      ],
      "text/plain": [
       "shape: (5, 9)\n",
       "┌───────────┬─────────┬────────────┬──────────┬───┬───────┬───────┬────────┬────────┐\n",
       "│ PlayerKey ┆ GameID  ┆ PlayKey    ┆ BodyPart ┆ … ┆ DM_M1 ┆ DM_M7 ┆ DM_M28 ┆ DM_M42 │\n",
       "│ ---       ┆ ---     ┆ ---        ┆ ---      ┆   ┆ ---   ┆ ---   ┆ ---    ┆ ---    │\n",
       "│ i64       ┆ str     ┆ str        ┆ str      ┆   ┆ i64   ┆ i64   ┆ i64    ┆ i64    │\n",
       "╞═══════════╪═════════╪════════════╪══════════╪═══╪═══════╪═══════╪════════╪════════╡\n",
       "│ 39873     ┆ 39873-4 ┆ 39873-4-32 ┆ Knee     ┆ … ┆ 1     ┆ 1     ┆ 1      ┆ 1      │\n",
       "│ 46074     ┆ 46074-7 ┆ 46074-7-26 ┆ Knee     ┆ … ┆ 1     ┆ 1     ┆ 0      ┆ 0      │\n",
       "│ 36557     ┆ 36557-1 ┆ 36557-1-70 ┆ Ankle    ┆ … ┆ 1     ┆ 1     ┆ 1      ┆ 1      │\n",
       "│ 46646     ┆ 46646-3 ┆ 46646-3-30 ┆ Ankle    ┆ … ┆ 1     ┆ 0     ┆ 0      ┆ 0      │\n",
       "│ 43532     ┆ 43532-5 ┆ 43532-5-69 ┆ Ankle    ┆ … ┆ 1     ┆ 1     ┆ 1      ┆ 1      │\n",
       "└───────────┴─────────┴────────────┴──────────┴───┴───────┴───────┴────────┴────────┘"
      ]
     },
     "execution_count": 9,
     "metadata": {},
     "output_type": "execute_result"
    }
   ],
   "source": [
    "injuries.head()"
   ]
  },
  {
   "cell_type": "code",
   "execution_count": 1,
   "metadata": {},
   "outputs": [],
   "source": [
    "def data_loader(dataset): \n",
    "    \"\"\"\n",
    "    Accepts the desired dataset string and opens the file as either a polars dataframe\n",
    "    or a lazyframe. Lazyloading is used for the larger tracking datasets. \n",
    "    \"\"\"\n",
    "    import polars as pl  # type: ignore\n",
    "    import numpy as np # type: ignore\n",
    "\n",
    "    valid_datasets = ['plays', 'injuries', 'role_data', 'punt_data', 'play_information', 'game_data', 'video_review']\n",
    "    if dataset not in valid_datasets: \n",
    "        raise ValueError(f\"Invalid dataset name '{dataset}'. Valid options are: {valid_datasets}\")\n",
    "\n",
    "    try:\n",
    "        # Injury Datasets\n",
    "        if dataset == 'plays':\n",
    "            PlayList_path = \"F:/Data/nfl-playing-surface-analytics/PlayList.csv\"\n",
    "            df = pl.read_csv(PlayList_path)\n",
    "        elif dataset == 'injuries':\n",
    "            InjuryRecord_path = \"F:/Data/nfl-playing-surface-analytics/InjuryRecord.csv\"\n",
    "            df = pl.read_csv(InjuryRecord_path)\n",
    "\n",
    "        # Concussion Datasets\n",
    "        elif dataset == 'role_data':\n",
    "            play_player_role_data_path = \"F:/Data/NFL-Punt-Analytics-Competition/play_player_role_data.csv\"\n",
    "            df = pl.read_csv(play_player_role_data_path)\n",
    "        elif dataset == 'punt_data':\n",
    "            player_punt_data_path = \"F:/Data/NFL-Punt-Analytics-Competition/player_punt_data.csv\"\n",
    "            df = pl.read_csv(player_punt_data_path)\n",
    "        elif dataset == 'play_information':\n",
    "            play_information_path = \"F:/Data/NFL-Punt-Analytics-Competition/play_information.csv\"\n",
    "            df = pl.read_csv(play_information_path)\n",
    "        elif dataset == 'game_data':\n",
    "            game_data_path = \"F:/Data/NFL-Punt-Analytics-Competition/game_data.csv\"\n",
    "            df = pl.read_csv(game_data_path)\n",
    "        elif dataset == 'video_review':\n",
    "            video_review_path = \"F:/Data/NFL-Punt-Analytics-Competition/video_review.csv\"\n",
    "            df = pl.read_csv(video_review_path)\n",
    "\n",
    "        return df\n",
    "    \n",
    "    except Exception as e: \n",
    "        print(f\"An error occurred while loading the dataset '{dataset}': {e}\")\n",
    "        return None"
   ]
  },
  {
   "cell_type": "code",
   "execution_count": 2,
   "metadata": {},
   "outputs": [],
   "source": [
    "def table_joiner(analysis):\n",
    "    \"\"\"\n",
    "    Joins the plays and injuries tables in the surface injury data \n",
    "    \"\"\"\n",
    "    import polars as pl # type: ignore\n",
    "    # from DataHandler import data_loader\n",
    "\n",
    "    valid_analyses = ['injury', 'concussion']\n",
    "    if analysis not in valid_analyses: \n",
    "        raise ValueError(f\"Invalid dataset name '{analysis}'. Valid options are: {valid_analyses}\")\n",
    "\n",
    "\n",
    "    try: \n",
    "        #Injury Data Loader\n",
    "        if analysis == 'injury':\n",
    "            plays = data_loader('plays')\n",
    "            injuries = data_loader('injuries')\n",
    "\n",
    "            df = (\n",
    "                plays.join(injuries, on=\"PlayKey\", how='left')\n",
    "                .select([\n",
    "                    pl.col(\"PlayKey\")\n",
    "                    , pl.col(\"Position\")\n",
    "                    , pl.col(\"StadiumType\")\n",
    "                    , pl.col(\"FieldType\")\n",
    "                    , pl.col(\"Temperature\")\n",
    "                    , pl.col(\"Weather\")\n",
    "                    , pl.col(\"PlayType\")\n",
    "                    , pl.col(\"BodyPart\")\n",
    "                    , pl.col(\"DM_M1\")\n",
    "                    , pl.col(\"DM_M7\")\n",
    "                    , pl.col(\"DM_M28\")\n",
    "                    , pl.col(\"DM_M42\")\n",
    "                ])\n",
    "            )\n",
    "\n",
    "        # Concussion Data Loader\n",
    "        elif analysis == 'concussion':\n",
    "            df = (\n",
    "                role_data\n",
    "                .join(\n",
    "                    punt_data\n",
    "                    , left_on=\"GSISID\"\n",
    "                    , right_on=\"GSISID\"\n",
    "                    , how=\"left\"\n",
    "                    , suffix=\"_punt\"\n",
    "                )\n",
    "                .join(\n",
    "                    play_information\n",
    "                    , left_on=[\"GameKey\", \"PlayID\"]\n",
    "                    , right_on=[\"GameKey\", \"PlayID\"]\n",
    "                    , how=\"left\"\n",
    "                    , suffix=\"_play\"\n",
    "                )\n",
    "                .join(\n",
    "                    game_data\n",
    "                    , left_on=\"GameKey\"\n",
    "                    , right_on=\"GameKey\"\n",
    "                    , how=\"left\"\n",
    "                    , suffix=\"_game\"\n",
    "                )\n",
    "                .join(\n",
    "                    video_review\n",
    "                    , left_on=[\"GameKey\", \"PlayID\", \"GSISID\"]\n",
    "                    , right_on=[\"GameKey\", \"PlayID\", \"GSISID\"]\n",
    "                    , how=\"left\"\n",
    "                    , suffix=\"_video\"\n",
    "                )\n",
    "                .with_columns([\n",
    "                    pl.concat_str([\n",
    "                        pl.col(\"GSISID\").cast(pl.Utf8)\n",
    "                        , pl.lit(\"-\")\n",
    "                        , pl.col(\"GameKey\").cast(pl.Utf8)\n",
    "                        , pl.lit(\"-\")\n",
    "                        , pl.col(\"PlayID\").cast(pl.Utf8)\n",
    "                    ]).alias(\"PlayKey\"),\n",
    "                    pl.concat_str([\n",
    "                        pl.col(\"Primary_Partner_GSISID\").cast(pl.Utf8)\n",
    "                        , pl.lit(\"-\")\n",
    "                        , pl.col(\"GameKey\").cast(pl.Utf8)\n",
    "                        , pl.lit(\"-\")\n",
    "                        , pl.col(\"PlayID\").cast(pl.Utf8)\n",
    "                    ]).alias(\"OpponentKey\")\n",
    "                ])\n",
    "                .select([\n",
    "                    \"PlayKey\"\n",
    "                    , \"GSISID\"\n",
    "                    , \"GameKey\"\n",
    "                    , \"PlayID\"\n",
    "                    , \"Position\"\n",
    "                    , \"Role\"\n",
    "                    , \"Game_Date\"\n",
    "                    , \"YardLine\"\n",
    "                    , \"Quarter\"\n",
    "                    , \"Play_Type\"\n",
    "                    , \"Poss_Team\"\n",
    "                    , \"Score_Home_Visiting\"\n",
    "                    , \"Game_Site\"\n",
    "                    , \"Start_Time\"\n",
    "                    , \"HomeTeamCode\"\n",
    "                    , \"VisitTeamCode\"\n",
    "                    , \"StadiumType\"\n",
    "                    , \"Turf\"\n",
    "                    , \"GameWeather\"\n",
    "                    , \"Temperature\"\n",
    "                    , \"Player_Activity_Derived\"\n",
    "                    , \"Primary_Impact_Type\"\n",
    "                    , \"Primary_Partner_Activity_Derived\"\n",
    "                    , \"Primary_Partner_GSISID\"\n",
    "                    , \n",
    "                ])\n",
    "                .unique()\n",
    "            )\n",
    "\n",
    "\n",
    "\n",
    "        print(f\"Tables are holding hands. How cute.\")\n",
    "        return df\n",
    "    \n",
    "    except Exception as e: \n",
    "        print(f\"An error occurred while processing the '{analysis}' analysis: {e}.\")\n",
    "        return None"
   ]
  },
  {
   "cell_type": "code",
   "execution_count": 3,
   "metadata": {},
   "outputs": [
    {
     "name": "stdout",
     "output_type": "stream",
     "text": [
      "Tables are holding hands. How cute.\n"
     ]
    },
    {
     "data": {
      "text/html": [
       "<div><style>\n",
       ".dataframe > thead > tr,\n",
       ".dataframe > tbody > tr {\n",
       "  text-align: right;\n",
       "  white-space: pre-wrap;\n",
       "}\n",
       "</style>\n",
       "<small>shape: (5, 12)</small><table border=\"1\" class=\"dataframe\"><thead><tr><th>PlayKey</th><th>Position</th><th>StadiumType</th><th>FieldType</th><th>Temperature</th><th>Weather</th><th>PlayType</th><th>BodyPart</th><th>DM_M1</th><th>DM_M7</th><th>DM_M28</th><th>DM_M42</th></tr><tr><td>str</td><td>str</td><td>str</td><td>str</td><td>i64</td><td>str</td><td>str</td><td>str</td><td>i64</td><td>i64</td><td>i64</td><td>i64</td></tr></thead><tbody><tr><td>&quot;26624-1-1&quot;</td><td>&quot;QB&quot;</td><td>&quot;Outdoor&quot;</td><td>&quot;Synthetic&quot;</td><td>63</td><td>&quot;Clear and warm&quot;</td><td>&quot;Pass&quot;</td><td>null</td><td>null</td><td>null</td><td>null</td><td>null</td></tr><tr><td>&quot;26624-1-2&quot;</td><td>&quot;QB&quot;</td><td>&quot;Outdoor&quot;</td><td>&quot;Synthetic&quot;</td><td>63</td><td>&quot;Clear and warm&quot;</td><td>&quot;Pass&quot;</td><td>null</td><td>null</td><td>null</td><td>null</td><td>null</td></tr><tr><td>&quot;26624-1-3&quot;</td><td>&quot;QB&quot;</td><td>&quot;Outdoor&quot;</td><td>&quot;Synthetic&quot;</td><td>63</td><td>&quot;Clear and warm&quot;</td><td>&quot;Rush&quot;</td><td>null</td><td>null</td><td>null</td><td>null</td><td>null</td></tr><tr><td>&quot;26624-1-4&quot;</td><td>&quot;QB&quot;</td><td>&quot;Outdoor&quot;</td><td>&quot;Synthetic&quot;</td><td>63</td><td>&quot;Clear and warm&quot;</td><td>&quot;Rush&quot;</td><td>null</td><td>null</td><td>null</td><td>null</td><td>null</td></tr><tr><td>&quot;26624-1-5&quot;</td><td>&quot;QB&quot;</td><td>&quot;Outdoor&quot;</td><td>&quot;Synthetic&quot;</td><td>63</td><td>&quot;Clear and warm&quot;</td><td>&quot;Pass&quot;</td><td>null</td><td>null</td><td>null</td><td>null</td><td>null</td></tr></tbody></table></div>"
      ],
      "text/plain": [
       "shape: (5, 12)\n",
       "┌───────────┬──────────┬─────────────┬───────────┬───┬───────┬───────┬────────┬────────┐\n",
       "│ PlayKey   ┆ Position ┆ StadiumType ┆ FieldType ┆ … ┆ DM_M1 ┆ DM_M7 ┆ DM_M28 ┆ DM_M42 │\n",
       "│ ---       ┆ ---      ┆ ---         ┆ ---       ┆   ┆ ---   ┆ ---   ┆ ---    ┆ ---    │\n",
       "│ str       ┆ str      ┆ str         ┆ str       ┆   ┆ i64   ┆ i64   ┆ i64    ┆ i64    │\n",
       "╞═══════════╪══════════╪═════════════╪═══════════╪═══╪═══════╪═══════╪════════╪════════╡\n",
       "│ 26624-1-1 ┆ QB       ┆ Outdoor     ┆ Synthetic ┆ … ┆ null  ┆ null  ┆ null   ┆ null   │\n",
       "│ 26624-1-2 ┆ QB       ┆ Outdoor     ┆ Synthetic ┆ … ┆ null  ┆ null  ┆ null   ┆ null   │\n",
       "│ 26624-1-3 ┆ QB       ┆ Outdoor     ┆ Synthetic ┆ … ┆ null  ┆ null  ┆ null   ┆ null   │\n",
       "│ 26624-1-4 ┆ QB       ┆ Outdoor     ┆ Synthetic ┆ … ┆ null  ┆ null  ┆ null   ┆ null   │\n",
       "│ 26624-1-5 ┆ QB       ┆ Outdoor     ┆ Synthetic ┆ … ┆ null  ┆ null  ┆ null   ┆ null   │\n",
       "└───────────┴──────────┴─────────────┴───────────┴───┴───────┴───────┴────────┴────────┘"
      ]
     },
     "execution_count": 3,
     "metadata": {},
     "output_type": "execute_result"
    }
   ],
   "source": [
    "table_joiner('injury').head()"
   ]
  },
  {
   "cell_type": "code",
   "execution_count": 20,
   "metadata": {},
   "outputs": [
    {
     "data": {
      "text/html": [
       "<div><style>\n",
       ".dataframe > thead > tr,\n",
       ".dataframe > tbody > tr {\n",
       "  text-align: right;\n",
       "  white-space: pre-wrap;\n",
       "}\n",
       "</style>\n",
       "<small>shape: (5, 12)</small><table border=\"1\" class=\"dataframe\"><thead><tr><th>PlayKey</th><th>Position</th><th>StadiumType</th><th>FieldType</th><th>Temperature</th><th>Weather</th><th>PlayType</th><th>BodyPart</th><th>DM_M1</th><th>DM_M7</th><th>DM_M28</th><th>DM_M42</th></tr><tr><td>str</td><td>str</td><td>str</td><td>str</td><td>i64</td><td>str</td><td>str</td><td>str</td><td>i64</td><td>i64</td><td>i64</td><td>i64</td></tr></thead><tbody><tr><td>&quot;31070-3-7&quot;</td><td>&quot;RB&quot;</td><td>&quot;Outdoor&quot;</td><td>&quot;Natural&quot;</td><td>89</td><td>&quot;Sunny&quot;</td><td>&quot;Rush&quot;</td><td>&quot;Knee&quot;</td><td>1</td><td>1</td><td>1</td><td>1</td></tr><tr><td>&quot;33337-8-15&quot;</td><td>&quot;TE&quot;</td><td>&quot;Outdoors&quot;</td><td>&quot;Natural&quot;</td><td>81</td><td>&quot;Partly Cloudy&quot;</td><td>&quot;Pass&quot;</td><td>&quot;Foot&quot;</td><td>1</td><td>1</td><td>1</td><td>0</td></tr><tr><td>&quot;33474-19-7&quot;</td><td>&quot;FS&quot;</td><td>&quot;Outdoor&quot;</td><td>&quot;Natural&quot;</td><td>79</td><td>&quot;Partly Cloudy&quot;</td><td>&quot;Rush&quot;</td><td>&quot;Knee&quot;</td><td>1</td><td>1</td><td>1</td><td>0</td></tr><tr><td>&quot;34347-5-9&quot;</td><td>&quot;WR&quot;</td><td>&quot;Oudoor&quot;</td><td>&quot;Natural&quot;</td><td>48</td><td>&quot;Partly Cloudy&quot;</td><td>&quot;Kickoff&quot;</td><td>&quot;Knee&quot;</td><td>1</td><td>1</td><td>0</td><td>0</td></tr><tr><td>&quot;35570-15-35&quot;</td><td>&quot;T&quot;</td><td>&quot;Outdoor&quot;</td><td>&quot;Natural&quot;</td><td>79</td><td>&quot;Clear&quot;</td><td>&quot;Pass&quot;</td><td>&quot;Knee&quot;</td><td>1</td><td>1</td><td>0</td><td>0</td></tr></tbody></table></div>"
      ],
      "text/plain": [
       "shape: (5, 12)\n",
       "┌─────────────┬──────────┬─────────────┬───────────┬───┬───────┬───────┬────────┬────────┐\n",
       "│ PlayKey     ┆ Position ┆ StadiumType ┆ FieldType ┆ … ┆ DM_M1 ┆ DM_M7 ┆ DM_M28 ┆ DM_M42 │\n",
       "│ ---         ┆ ---      ┆ ---         ┆ ---       ┆   ┆ ---   ┆ ---   ┆ ---    ┆ ---    │\n",
       "│ str         ┆ str      ┆ str         ┆ str       ┆   ┆ i64   ┆ i64   ┆ i64    ┆ i64    │\n",
       "╞═════════════╪══════════╪═════════════╪═══════════╪═══╪═══════╪═══════╪════════╪════════╡\n",
       "│ 31070-3-7   ┆ RB       ┆ Outdoor     ┆ Natural   ┆ … ┆ 1     ┆ 1     ┆ 1      ┆ 1      │\n",
       "│ 33337-8-15  ┆ TE       ┆ Outdoors    ┆ Natural   ┆ … ┆ 1     ┆ 1     ┆ 1      ┆ 0      │\n",
       "│ 33474-19-7  ┆ FS       ┆ Outdoor     ┆ Natural   ┆ … ┆ 1     ┆ 1     ┆ 1      ┆ 0      │\n",
       "│ 34347-5-9   ┆ WR       ┆ Oudoor      ┆ Natural   ┆ … ┆ 1     ┆ 1     ┆ 0      ┆ 0      │\n",
       "│ 35570-15-35 ┆ T        ┆ Outdoor     ┆ Natural   ┆ … ┆ 1     ┆ 1     ┆ 0      ┆ 0      │\n",
       "└─────────────┴──────────┴─────────────┴───────────┴───┴───────┴───────┴────────┴────────┘"
      ]
     },
     "execution_count": 20,
     "metadata": {},
     "output_type": "execute_result"
    }
   ],
   "source": [
    "quals.filter(pl.col(\"DM_M28\").is_not_null()).head()"
   ]
  },
  {
   "cell_type": "code",
   "execution_count": 21,
   "metadata": {},
   "outputs": [],
   "source": [
    "quals_with_new_columns = quals.with_columns(\n",
    "    [ pl.when(pl.col(\"DM_M1\") == 1).then(1).otherwise(0).alias(\"IsInjured\")\n",
    "    , pl.when(pl.col(\"DM_M28\") == 1).then(1).otherwise(0).alias(\"IsSevere\")\n",
    "    ]\n",
    ")"
   ]
  },
  {
   "cell_type": "code",
   "execution_count": 23,
   "metadata": {},
   "outputs": [
    {
     "data": {
      "text/html": [
       "<div><style>\n",
       ".dataframe > thead > tr,\n",
       ".dataframe > tbody > tr {\n",
       "  text-align: right;\n",
       "  white-space: pre-wrap;\n",
       "}\n",
       "</style>\n",
       "<small>shape: (5, 14)</small><table border=\"1\" class=\"dataframe\"><thead><tr><th>PlayKey</th><th>Position</th><th>StadiumType</th><th>FieldType</th><th>Temperature</th><th>Weather</th><th>PlayType</th><th>BodyPart</th><th>DM_M1</th><th>DM_M7</th><th>DM_M28</th><th>DM_M42</th><th>IsInjured</th><th>IsSevere</th></tr><tr><td>str</td><td>str</td><td>str</td><td>str</td><td>i64</td><td>str</td><td>str</td><td>str</td><td>i64</td><td>i64</td><td>i64</td><td>i64</td><td>i32</td><td>i32</td></tr></thead><tbody><tr><td>&quot;31070-3-7&quot;</td><td>&quot;RB&quot;</td><td>&quot;Outdoor&quot;</td><td>&quot;Natural&quot;</td><td>89</td><td>&quot;Sunny&quot;</td><td>&quot;Rush&quot;</td><td>&quot;Knee&quot;</td><td>1</td><td>1</td><td>1</td><td>1</td><td>1</td><td>1</td></tr><tr><td>&quot;33337-8-15&quot;</td><td>&quot;TE&quot;</td><td>&quot;Outdoors&quot;</td><td>&quot;Natural&quot;</td><td>81</td><td>&quot;Partly Cloudy&quot;</td><td>&quot;Pass&quot;</td><td>&quot;Foot&quot;</td><td>1</td><td>1</td><td>1</td><td>0</td><td>1</td><td>1</td></tr><tr><td>&quot;33474-19-7&quot;</td><td>&quot;FS&quot;</td><td>&quot;Outdoor&quot;</td><td>&quot;Natural&quot;</td><td>79</td><td>&quot;Partly Cloudy&quot;</td><td>&quot;Rush&quot;</td><td>&quot;Knee&quot;</td><td>1</td><td>1</td><td>1</td><td>0</td><td>1</td><td>1</td></tr><tr><td>&quot;34347-5-9&quot;</td><td>&quot;WR&quot;</td><td>&quot;Oudoor&quot;</td><td>&quot;Natural&quot;</td><td>48</td><td>&quot;Partly Cloudy&quot;</td><td>&quot;Kickoff&quot;</td><td>&quot;Knee&quot;</td><td>1</td><td>1</td><td>0</td><td>0</td><td>1</td><td>0</td></tr><tr><td>&quot;35570-15-35&quot;</td><td>&quot;T&quot;</td><td>&quot;Outdoor&quot;</td><td>&quot;Natural&quot;</td><td>79</td><td>&quot;Clear&quot;</td><td>&quot;Pass&quot;</td><td>&quot;Knee&quot;</td><td>1</td><td>1</td><td>0</td><td>0</td><td>1</td><td>0</td></tr></tbody></table></div>"
      ],
      "text/plain": [
       "shape: (5, 14)\n",
       "┌─────────────┬──────────┬─────────────┬───────────┬───┬────────┬────────┬───────────┬──────────┐\n",
       "│ PlayKey     ┆ Position ┆ StadiumType ┆ FieldType ┆ … ┆ DM_M28 ┆ DM_M42 ┆ IsInjured ┆ IsSevere │\n",
       "│ ---         ┆ ---      ┆ ---         ┆ ---       ┆   ┆ ---    ┆ ---    ┆ ---       ┆ ---      │\n",
       "│ str         ┆ str      ┆ str         ┆ str       ┆   ┆ i64    ┆ i64    ┆ i32       ┆ i32      │\n",
       "╞═════════════╪══════════╪═════════════╪═══════════╪═══╪════════╪════════╪═══════════╪══════════╡\n",
       "│ 31070-3-7   ┆ RB       ┆ Outdoor     ┆ Natural   ┆ … ┆ 1      ┆ 1      ┆ 1         ┆ 1        │\n",
       "│ 33337-8-15  ┆ TE       ┆ Outdoors    ┆ Natural   ┆ … ┆ 1      ┆ 0      ┆ 1         ┆ 1        │\n",
       "│ 33474-19-7  ┆ FS       ┆ Outdoor     ┆ Natural   ┆ … ┆ 1      ┆ 0      ┆ 1         ┆ 1        │\n",
       "│ 34347-5-9   ┆ WR       ┆ Oudoor      ┆ Natural   ┆ … ┆ 0      ┆ 0      ┆ 1         ┆ 0        │\n",
       "│ 35570-15-35 ┆ T        ┆ Outdoor     ┆ Natural   ┆ … ┆ 0      ┆ 0      ┆ 1         ┆ 0        │\n",
       "└─────────────┴──────────┴─────────────┴───────────┴───┴────────┴────────┴───────────┴──────────┘"
      ]
     },
     "execution_count": 23,
     "metadata": {},
     "output_type": "execute_result"
    }
   ],
   "source": [
    "quals_with_new_columns.filter(pl.col(\"DM_M28\").is_not_null()).head().head()"
   ]
  },
  {
   "cell_type": "markdown",
   "metadata": {},
   "source": [
    "## Clean the Data with the cleaning functions. "
   ]
  },
  {
   "cell_type": "code",
   "execution_count": 63,
   "metadata": {},
   "outputs": [],
   "source": [
    "##### Primary Cleaning Functions #####\n",
    "def clean_injuries():\n",
    "    \"\"\"\n",
    "    Applies data cleaning to surface injury data and writes to 'qualitative' table in db \n",
    "    \"\"\"\n",
    "    database = \"nfl_surface\"\n",
    "    df = table_joiner() \n",
    "    df = injury_interpolator(df)\n",
    "    df = stadium_cleaner(df, df_name='quals')\n",
    "    df = weather_cleaner(df)\n",
    "    df = injury_cleaner(df)\n",
    "    csv_writer(df, \"qualitative_injuries\")\n",
    "    del df\n",
    "    print('Injuries have been cleaned and dressed.')\n",
    "    # return df"
   ]
  },
  {
   "cell_type": "code",
   "execution_count": 42,
   "metadata": {},
   "outputs": [],
   "source": [
    "def injury_interpolator(df): \n",
    "    \"\"\"\n",
    "    Creates two new columns, IsInjured and IsSevere, where any injury sets IsInjured to 1, and any injury over 28 days provides a 1 in IsSevere\n",
    "    \"\"\"\n",
    "    import polars as pl\n",
    "\n",
    "    df = df.with_columns([ \n",
    "        pl.when(pl.col(\"DM_M1\") == 1).then(1).otherwise(0).alias(\"IsInjured\")\n",
    "        , pl.when(pl.col(\"DM_M28\") == 1).then(1).otherwise(0).alias(\"IsSevere\")\n",
    "        ])\n",
    "    print(\"Injury columns have been added.\")\n",
    "    return df\n",
    "    "
   ]
  },
  {
   "cell_type": "code",
   "execution_count": 64,
   "metadata": {},
   "outputs": [],
   "source": [
    "def csv_writer(df, new_file_name):\n",
    "    \"\"\"\n",
    "    Write table to local file as temporary until all cleaning and transformation is done.\n",
    "    \"\"\"\n",
    "    import polars as pl # type: ignore\n",
    "    import os\n",
    "       \n",
    "    path = 'F:/Data/Clean_Data'\n",
    "    full_path = f\"{path}/{new_file_name}.csv\"\n",
    "    \n",
    "    # Check if file exists\n",
    "    if os.path.exists(full_path):\n",
    "        os.remove(full_path)\n",
    "    \n",
    "    # Write new file\n",
    "    df.write_csv(full_path)\n",
    "    print(f\"New file has been written to {full_path}\")"
   ]
  },
  {
   "cell_type": "code",
   "execution_count": 36,
   "metadata": {},
   "outputs": [],
   "source": [
    "def stadium_cleaner(df):\n",
    "    \"\"\"\n",
    "    Noramlizes all stadium types to be either indoor or outdoor per game records. Some of the dome \n",
    "    stadiums were listed as open or closed for different games, and these were accounted for.\n",
    "    All games with dates were checked to ensure null values were indeed outdoor games. \n",
    "    \"\"\"\n",
    "    import polars as pl  # type: ignore\n",
    "\n",
    "    stadium_dict = {\n",
    "        'Outdoor': 'Outdoor'\n",
    "        , 'Indoors': 'Indoor'\n",
    "        , 'Oudoor': 'Outdoor'\n",
    "        , 'Outdoors': 'Outdoor'\n",
    "        , 'Open': 'Outdoor'\n",
    "        , 'Closed Dome': 'Indoor'\n",
    "        , 'Domed, closed': 'Indoor'\n",
    "        , 'Dome': 'Indoor'\n",
    "        , 'Indoor': 'Indoor'\n",
    "        , 'Domed': 'Indoor'\n",
    "        , 'Retr. Roof-Closed': 'Indoor'\n",
    "        , 'Outdoor Retr Roof-Open': 'Outdoor'\n",
    "        , 'Retractable Roof': 'Indoor'\n",
    "        , 'Ourdoor': 'Outdoor'\n",
    "        , 'Indoor, Roof Closed': 'Indoor'\n",
    "        , 'Retr. Roof - Closed': 'Indoor'\n",
    "        , 'Bowl': 'Outdoor'\n",
    "        , 'Outddors': 'Outdoor'\n",
    "        , 'Retr. Roof-Open': 'Outdoor'\n",
    "        , 'Dome, closed': 'Indoor'\n",
    "        , 'Indoor, Open Roof': 'Outdoor'\n",
    "        , 'Domed, Open': 'Outdoor'\n",
    "        , 'Domed, open': 'Outdoor'\n",
    "        , 'Heinz Field': 'Outdoor'\n",
    "        , 'Cloudy': 'Outdoor'\n",
    "        , 'Retr. Roof - Open': 'Outdoor'\n",
    "        , 'Retr. Roof Closed': 'Indoor'\n",
    "        , 'Outdor': 'Outdoor'\n",
    "        , 'Outside': 'Outdoor'\n",
    "        , 'outdoor': 'Outdoor'\n",
    "        , 'Outdoors ': 'Outdoor'\n",
    "        , 'Indoor, non-retractable roof': 'Indoor'\n",
    "        , 'Retr. roof - closed': 'Indoor'\n",
    "        , 'Indoor, fixed roof ': 'Indoor'\n",
    "        , 'Indoor, Non-Retractable Dome': 'Indoor'\n",
    "        , 'Indoor, Fixed Roof': 'Indoor'\n",
    "        , 'Indoor, fixed roof': 'Indoor'\n",
    "        , 'Indoors (Domed)': 'Indoor'\n",
    "        , None: 'Outdoor'\n",
    "        }\n",
    "\n",
    "\n",
    "    df = df.with_columns(pl.col(\"StadiumType\").replace(stadium_dict)) # This uses the dict to assign naming conventions\n",
    "\n",
    "    print(f\"Someone managed to clean up those stadiums!\")\n",
    "    return df\n"
   ]
  },
  {
   "cell_type": "code",
   "execution_count": 51,
   "metadata": {},
   "outputs": [],
   "source": [
    "def weather_cleaner(df):\n",
    "     \"\"\"\n",
    "     Uses mapping to limit the number of different weather groupings. \n",
    "     \"\"\"\n",
    "     import polars as pl # type: ignore\n",
    " \n",
    "     # If using the concussion dataset, rename the GameWeather column to Weather\n",
    "     if \"GameWeather\" in df.columns:\n",
    "       df = df.rename({\"GameWeather\": \"Weather\"})\n",
    "   \n",
    "     \n",
    "     weather_dict = {\n",
    "            'Clear and warm': 'Clear'\n",
    "            , 'Mostly Cloudy': 'Cloudy'\n",
    "            , 'Sunny': 'Clear'\n",
    "            , 'Clear': 'Clear'\n",
    "            , 'Cloudy': 'Cloudy'\n",
    "            , 'Cloudy, fog started developing in 2nd quarter': 'Hazy/Fog'\n",
    "            , 'Rain': 'Rain'\n",
    "            , 'Partly Cloudy': 'Cloudy'\n",
    "            , 'Mostly cloudy': 'Cloudy'\n",
    "            , 'Cloudy and cold': 'Cloudy'\n",
    "            , 'Cloudy and Cool': 'Cloudy'\n",
    "            , 'Rain Chance 40%': 'Rain'\n",
    "            , 'Controlled Climate': 'Indoor'\n",
    "            , 'Sunny and warm': 'Clear'\n",
    "            , 'Partly cloudy': 'Cloudy'\n",
    "            , 'Clear and Cool': 'Cloudy'\n",
    "            , 'Clear and cold': 'Cloudy'\n",
    "            , 'Sunny and cold': 'Clear'\n",
    "            , 'Indoor': 'Indoor'\n",
    "            , 'Partly Sunny': 'Clear'\n",
    "            , 'N/A (Indoors)': 'Indoor'\n",
    "            , 'Mostly Sunny': 'Clear'\n",
    "            , 'Indoors': 'Indoor'\n",
    "            , 'Clear Skies': 'Clear'\n",
    "            , 'Partly sunny': 'Clear'\n",
    "            , 'Showers': 'Rain'\n",
    "            , 'N/A Indoor': 'Indoor'\n",
    "            , 'Sunny and clear': 'Clear'\n",
    "            , 'Snow': 'Snow'\n",
    "            , 'Scattered Showers': 'Rain'\n",
    "            , 'Party Cloudy': 'Cloudy'\n",
    "            , 'Clear skies': 'Clear'\n",
    "            , 'Rain likely, temps in low 40s.': 'Rain'\n",
    "            , 'Hazy': 'Hazy/Fog'\n",
    "            , 'Partly Clouidy': 'Cloudy'\n",
    "            , 'Sunny Skies': 'Clear'\n",
    "            , 'Overcast': 'Cloudy'\n",
    "            , 'Cloudy, 50% change of rain': 'Cloudy'\n",
    "            , 'Fair': 'Clear'\n",
    "            , 'Light Rain': 'Rain'\n",
    "            , 'Partly clear': 'Clear'\n",
    "            , 'Mostly Coudy': 'Cloudy'\n",
    "            , '10% Chance of Rain': 'Cloudy'\n",
    "            , 'Cloudy, chance of rain': 'Cloudy'\n",
    "            , 'Heat Index 95': 'Clear'\n",
    "            , 'Sunny, highs to upper 80s': 'Clear'\n",
    "            , 'Sun & clouds': 'Cloudy'\n",
    "            , 'Heavy lake effect snow': 'Snow'\n",
    "            , 'Mostly sunny': 'Clear'\n",
    "            , 'Cloudy, Rain': 'Rain'\n",
    "            , 'Sunny, Windy': 'Windy'\n",
    "            , 'Mostly Sunny Skies': 'Clear'\n",
    "            , 'Rainy': 'Rain'\n",
    "            , '30% Chance of Rain': 'Rain'\n",
    "            , 'Cloudy, light snow accumulating 1-3\"': 'Snow'\n",
    "            , 'cloudy': 'Cloudy'\n",
    "            , 'Clear and Sunny': 'Clear'\n",
    "            , 'Coudy': 'Cloudy'\n",
    "            , 'Clear and sunny': 'Clear'\n",
    "            , 'Clear to Partly Cloudy': 'Clear'\n",
    "            , 'Cloudy with periods of rain, thunder possible. Winds shifting to WNW, 10-20 mph.': 'Windy'\n",
    "            , 'Rain shower': 'Rain'\n",
    "            , 'Cold': 'Clear'\n",
    "            , 'Partly cloudy, lows to upper 50s.': 'Cloudy'\n",
    "            , 'Scattered thunderstorms': 'Rain'\n",
    "            , 'CLEAR': 'Clear'\n",
    "            , 'Partly CLoudy': 'Cloudy'\n",
    "            , 'Chance of Showers': 'Rain'\n",
    "            , 'Snow showers': 'Snow'\n",
    "            , 'Clear and Cold': 'Clear'\n",
    "            , 'Cloudy with rain': 'Rain'\n",
    "            , 'Sunny intervals': 'Clear'\n",
    "            , 'Clear and cool': 'Clear'\n",
    "            , 'Cloudy, Humid, Chance of Rain': 'Rain'\n",
    "            , 'Cloudy and Cold': 'Cloudy'\n",
    "            , 'Cloudy with patches of fog': 'Hazy/Fog'\n",
    "            , 'Controlled': 'Indoor'\n",
    "            , 'Sunny and Clear': 'Clear'\n",
    "            , 'Cloudy with Possible Stray Showers/Thundershowers': 'Rain'\n",
    "            , 'Suny': 'Clear'\n",
    "            , 'T-Storms': 'Rain'\n",
    "            , 'Sunny and cool': 'Clear'\n",
    "            , 'Cloudy, steady temps': 'Cloudy'\n",
    "            , 'Hazy, hot and humid': 'Hazy/Fog'\n",
    "            , 'Sunny Intervals': 'Clear'\n",
    "            , 'Partly Cloudy, Chance of Rain 80%': 'Rain'\n",
    "            , 'Mostly Clear. Gusting ot 14.': 'Windy'\n",
    "            , 'Mostly CLoudy': 'Cloudy'\n",
    "            , 'Snow Showers, 3 to 5 inches expected.': 'Snow'\n",
    "            }\n",
    "\n",
    "\n",
    "\n",
    "     df = df.with_columns(pl.col(\"Weather\").replace(weather_dict)) # Standardizes the weather to a few main types\n",
    "\n",
    "     df = df.with_columns(             # Null handling - all null weather conditions for indoor stadiums are filled \"indoor\"\n",
    "                pl.when(pl.col(\"StadiumType\") == \"Indoor\")\n",
    "                .then(pl.col(\"Weather\").fill_null(\"Indoor\"))\n",
    "                .otherwise(pl.col(\"Weather\"))\n",
    "                .alias(\"Weather\")\n",
    "                )\n",
    "     \n",
    "     # For the non-indoor games with null values for weather, to maintain the percentage of games that were clear/cloudy, temperature was used as a divider, above and below 70 degrees\n",
    "     df = df.with_columns(\n",
    "                pl.when(pl.col(\"Temperature\") > 70)\n",
    "                .then(pl.col(\"Weather\").fill_null(\"Clear\"))\n",
    "                .otherwise(pl.col(\"Weather\"))\n",
    "                .alias(\"Weather\")\n",
    "                )\n",
    "     df = df.with_columns(pl.col(\"Weather\").fill_null(\"Cloudy\"))\n",
    "\n",
    "     print(f\"Looks like the weather has been cleared up.\")\n",
    "     return df\n"
   ]
  },
  {
   "cell_type": "code",
   "execution_count": 55,
   "metadata": {},
   "outputs": [],
   "source": [
    "def injury_cleaner(quals):\n",
    "    \"\"\"\n",
    "    Specific to the surface injury data, this filters null values from important data and\n",
    "    fills nulls that can be appropriately filled. \n",
    "    \"\"\"\n",
    "    import polars as pl # type: ignore\n",
    "    quals = quals.filter(pl.col('PlayType').is_not_null()) # 0.14% of rows did not have a play type, and ALL of these were non-injury plays, so they were removed\n",
    "\n",
    "    quals = quals.with_columns(pl.col(\"BodyPart\").fill_null(\"No_Injury\")) # This fills all null from the join with No Injury\n",
    "\n",
    "    quals = quals.with_columns(\n",
    "    pl.col([\"DM_M1\", \"DM_M7\", \"DM_M28\", \"DM_M42\"]).fill_null(0)) # This fills the nulls from the Join with 0s, since there were no injuries.\n",
    "\n",
    "    print(f\"The injuries have been sanitized.\")\n",
    "    return quals\n"
   ]
  },
  {
   "cell_type": "code",
   "execution_count": 43,
   "metadata": {},
   "outputs": [
    {
     "name": "stdout",
     "output_type": "stream",
     "text": [
      "Tables are holding hands. How cute.\n"
     ]
    }
   ],
   "source": [
    "quals = table_joiner()"
   ]
  },
  {
   "cell_type": "code",
   "execution_count": 45,
   "metadata": {},
   "outputs": [
    {
     "name": "stdout",
     "output_type": "stream",
     "text": [
      "Injury columns have been added.\n"
     ]
    }
   ],
   "source": [
    "quals = injury_interpolator(quals)"
   ]
  },
  {
   "cell_type": "code",
   "execution_count": 48,
   "metadata": {},
   "outputs": [
    {
     "name": "stdout",
     "output_type": "stream",
     "text": [
      "Someone managed to clean up those stadiums!\n"
     ]
    }
   ],
   "source": [
    "quals = stadium_cleaner(quals, 'quals')"
   ]
  },
  {
   "cell_type": "code",
   "execution_count": 52,
   "metadata": {},
   "outputs": [
    {
     "name": "stdout",
     "output_type": "stream",
     "text": [
      "Looks like the weather has been cleared up.\n"
     ]
    }
   ],
   "source": [
    "quals = weather_cleaner(quals)"
   ]
  },
  {
   "cell_type": "code",
   "execution_count": 56,
   "metadata": {},
   "outputs": [
    {
     "name": "stdout",
     "output_type": "stream",
     "text": [
      "The injuries have been sanitized.\n"
     ]
    }
   ],
   "source": [
    "quals = injury_cleaner(quals)"
   ]
  },
  {
   "cell_type": "code",
   "execution_count": 57,
   "metadata": {},
   "outputs": [
    {
     "data": {
      "text/html": [
       "<div><style>\n",
       ".dataframe > thead > tr,\n",
       ".dataframe > tbody > tr {\n",
       "  text-align: right;\n",
       "  white-space: pre-wrap;\n",
       "}\n",
       "</style>\n",
       "<small>shape: (5, 14)</small><table border=\"1\" class=\"dataframe\"><thead><tr><th>PlayKey</th><th>Position</th><th>StadiumType</th><th>FieldType</th><th>Temperature</th><th>Weather</th><th>PlayType</th><th>BodyPart</th><th>DM_M1</th><th>DM_M7</th><th>DM_M28</th><th>DM_M42</th><th>IsInjured</th><th>IsSevere</th></tr><tr><td>str</td><td>str</td><td>str</td><td>str</td><td>i64</td><td>str</td><td>str</td><td>str</td><td>i64</td><td>i64</td><td>i64</td><td>i64</td><td>i32</td><td>i32</td></tr></thead><tbody><tr><td>&quot;26624-1-1&quot;</td><td>&quot;QB&quot;</td><td>&quot;Outdoor&quot;</td><td>&quot;Synthetic&quot;</td><td>63</td><td>&quot;Clear&quot;</td><td>&quot;Pass&quot;</td><td>&quot;No_Injury&quot;</td><td>0</td><td>0</td><td>0</td><td>0</td><td>0</td><td>0</td></tr><tr><td>&quot;26624-1-2&quot;</td><td>&quot;QB&quot;</td><td>&quot;Outdoor&quot;</td><td>&quot;Synthetic&quot;</td><td>63</td><td>&quot;Clear&quot;</td><td>&quot;Pass&quot;</td><td>&quot;No_Injury&quot;</td><td>0</td><td>0</td><td>0</td><td>0</td><td>0</td><td>0</td></tr><tr><td>&quot;26624-1-3&quot;</td><td>&quot;QB&quot;</td><td>&quot;Outdoor&quot;</td><td>&quot;Synthetic&quot;</td><td>63</td><td>&quot;Clear&quot;</td><td>&quot;Rush&quot;</td><td>&quot;No_Injury&quot;</td><td>0</td><td>0</td><td>0</td><td>0</td><td>0</td><td>0</td></tr><tr><td>&quot;26624-1-4&quot;</td><td>&quot;QB&quot;</td><td>&quot;Outdoor&quot;</td><td>&quot;Synthetic&quot;</td><td>63</td><td>&quot;Clear&quot;</td><td>&quot;Rush&quot;</td><td>&quot;No_Injury&quot;</td><td>0</td><td>0</td><td>0</td><td>0</td><td>0</td><td>0</td></tr><tr><td>&quot;26624-1-5&quot;</td><td>&quot;QB&quot;</td><td>&quot;Outdoor&quot;</td><td>&quot;Synthetic&quot;</td><td>63</td><td>&quot;Clear&quot;</td><td>&quot;Pass&quot;</td><td>&quot;No_Injury&quot;</td><td>0</td><td>0</td><td>0</td><td>0</td><td>0</td><td>0</td></tr></tbody></table></div>"
      ],
      "text/plain": [
       "shape: (5, 14)\n",
       "┌───────────┬──────────┬─────────────┬───────────┬───┬────────┬────────┬───────────┬──────────┐\n",
       "│ PlayKey   ┆ Position ┆ StadiumType ┆ FieldType ┆ … ┆ DM_M28 ┆ DM_M42 ┆ IsInjured ┆ IsSevere │\n",
       "│ ---       ┆ ---      ┆ ---         ┆ ---       ┆   ┆ ---    ┆ ---    ┆ ---       ┆ ---      │\n",
       "│ str       ┆ str      ┆ str         ┆ str       ┆   ┆ i64    ┆ i64    ┆ i32       ┆ i32      │\n",
       "╞═══════════╪══════════╪═════════════╪═══════════╪═══╪════════╪════════╪═══════════╪══════════╡\n",
       "│ 26624-1-1 ┆ QB       ┆ Outdoor     ┆ Synthetic ┆ … ┆ 0      ┆ 0      ┆ 0         ┆ 0        │\n",
       "│ 26624-1-2 ┆ QB       ┆ Outdoor     ┆ Synthetic ┆ … ┆ 0      ┆ 0      ┆ 0         ┆ 0        │\n",
       "│ 26624-1-3 ┆ QB       ┆ Outdoor     ┆ Synthetic ┆ … ┆ 0      ┆ 0      ┆ 0         ┆ 0        │\n",
       "│ 26624-1-4 ┆ QB       ┆ Outdoor     ┆ Synthetic ┆ … ┆ 0      ┆ 0      ┆ 0         ┆ 0        │\n",
       "│ 26624-1-5 ┆ QB       ┆ Outdoor     ┆ Synthetic ┆ … ┆ 0      ┆ 0      ┆ 0         ┆ 0        │\n",
       "└───────────┴──────────┴─────────────┴───────────┴───┴────────┴────────┴───────────┴──────────┘"
      ]
     },
     "execution_count": 57,
     "metadata": {},
     "output_type": "execute_result"
    }
   ],
   "source": [
    "quals.head()"
   ]
  },
  {
   "cell_type": "code",
   "execution_count": 58,
   "metadata": {},
   "outputs": [],
   "source": [
    "del quals"
   ]
  },
  {
   "cell_type": "code",
   "execution_count": 59,
   "metadata": {},
   "outputs": [
    {
     "name": "stdout",
     "output_type": "stream",
     "text": [
      "Tables are holding hands. How cute.\n",
      "Injury columns have been added.\n",
      "Someone managed to clean up those stadiums!\n",
      "Looks like the weather has been cleared up.\n",
      "The injuries have been sanitized.\n",
      "Injuries have been cleaned and dressed.\n"
     ]
    }
   ],
   "source": [
    "quals = clean_injuries()"
   ]
  },
  {
   "cell_type": "code",
   "execution_count": 60,
   "metadata": {},
   "outputs": [
    {
     "data": {
      "text/html": [
       "<div><style>\n",
       ".dataframe > thead > tr,\n",
       ".dataframe > tbody > tr {\n",
       "  text-align: right;\n",
       "  white-space: pre-wrap;\n",
       "}\n",
       "</style>\n",
       "<small>shape: (5, 14)</small><table border=\"1\" class=\"dataframe\"><thead><tr><th>PlayKey</th><th>Position</th><th>StadiumType</th><th>FieldType</th><th>Temperature</th><th>Weather</th><th>PlayType</th><th>BodyPart</th><th>DM_M1</th><th>DM_M7</th><th>DM_M28</th><th>DM_M42</th><th>IsInjured</th><th>IsSevere</th></tr><tr><td>str</td><td>str</td><td>str</td><td>str</td><td>i64</td><td>str</td><td>str</td><td>str</td><td>i64</td><td>i64</td><td>i64</td><td>i64</td><td>i32</td><td>i32</td></tr></thead><tbody><tr><td>&quot;26624-1-1&quot;</td><td>&quot;QB&quot;</td><td>&quot;Outdoor&quot;</td><td>&quot;Synthetic&quot;</td><td>63</td><td>&quot;Clear&quot;</td><td>&quot;Pass&quot;</td><td>&quot;No_Injury&quot;</td><td>0</td><td>0</td><td>0</td><td>0</td><td>0</td><td>0</td></tr><tr><td>&quot;26624-1-2&quot;</td><td>&quot;QB&quot;</td><td>&quot;Outdoor&quot;</td><td>&quot;Synthetic&quot;</td><td>63</td><td>&quot;Clear&quot;</td><td>&quot;Pass&quot;</td><td>&quot;No_Injury&quot;</td><td>0</td><td>0</td><td>0</td><td>0</td><td>0</td><td>0</td></tr><tr><td>&quot;26624-1-3&quot;</td><td>&quot;QB&quot;</td><td>&quot;Outdoor&quot;</td><td>&quot;Synthetic&quot;</td><td>63</td><td>&quot;Clear&quot;</td><td>&quot;Rush&quot;</td><td>&quot;No_Injury&quot;</td><td>0</td><td>0</td><td>0</td><td>0</td><td>0</td><td>0</td></tr><tr><td>&quot;26624-1-4&quot;</td><td>&quot;QB&quot;</td><td>&quot;Outdoor&quot;</td><td>&quot;Synthetic&quot;</td><td>63</td><td>&quot;Clear&quot;</td><td>&quot;Rush&quot;</td><td>&quot;No_Injury&quot;</td><td>0</td><td>0</td><td>0</td><td>0</td><td>0</td><td>0</td></tr><tr><td>&quot;26624-1-5&quot;</td><td>&quot;QB&quot;</td><td>&quot;Outdoor&quot;</td><td>&quot;Synthetic&quot;</td><td>63</td><td>&quot;Clear&quot;</td><td>&quot;Pass&quot;</td><td>&quot;No_Injury&quot;</td><td>0</td><td>0</td><td>0</td><td>0</td><td>0</td><td>0</td></tr></tbody></table></div>"
      ],
      "text/plain": [
       "shape: (5, 14)\n",
       "┌───────────┬──────────┬─────────────┬───────────┬───┬────────┬────────┬───────────┬──────────┐\n",
       "│ PlayKey   ┆ Position ┆ StadiumType ┆ FieldType ┆ … ┆ DM_M28 ┆ DM_M42 ┆ IsInjured ┆ IsSevere │\n",
       "│ ---       ┆ ---      ┆ ---         ┆ ---       ┆   ┆ ---    ┆ ---    ┆ ---       ┆ ---      │\n",
       "│ str       ┆ str      ┆ str         ┆ str       ┆   ┆ i64    ┆ i64    ┆ i32       ┆ i32      │\n",
       "╞═══════════╪══════════╪═════════════╪═══════════╪═══╪════════╪════════╪═══════════╪══════════╡\n",
       "│ 26624-1-1 ┆ QB       ┆ Outdoor     ┆ Synthetic ┆ … ┆ 0      ┆ 0      ┆ 0         ┆ 0        │\n",
       "│ 26624-1-2 ┆ QB       ┆ Outdoor     ┆ Synthetic ┆ … ┆ 0      ┆ 0      ┆ 0         ┆ 0        │\n",
       "│ 26624-1-3 ┆ QB       ┆ Outdoor     ┆ Synthetic ┆ … ┆ 0      ┆ 0      ┆ 0         ┆ 0        │\n",
       "│ 26624-1-4 ┆ QB       ┆ Outdoor     ┆ Synthetic ┆ … ┆ 0      ┆ 0      ┆ 0         ┆ 0        │\n",
       "│ 26624-1-5 ┆ QB       ┆ Outdoor     ┆ Synthetic ┆ … ┆ 0      ┆ 0      ┆ 0         ┆ 0        │\n",
       "└───────────┴──────────┴─────────────┴───────────┴───┴────────┴────────┴───────────┴──────────┘"
      ]
     },
     "execution_count": 60,
     "metadata": {},
     "output_type": "execute_result"
    }
   ],
   "source": [
    "quals.head()"
   ]
  },
  {
   "cell_type": "code",
   "execution_count": 61,
   "metadata": {},
   "outputs": [],
   "source": [
    "del quals"
   ]
  },
  {
   "cell_type": "code",
   "execution_count": 65,
   "metadata": {},
   "outputs": [
    {
     "name": "stdout",
     "output_type": "stream",
     "text": [
      "Tables are holding hands. How cute.\n",
      "Injury columns have been added.\n",
      "Someone managed to clean up those stadiums!\n",
      "Looks like the weather has been cleared up.\n",
      "The injuries have been sanitized.\n",
      "New file has been written to F:/Data/Clean_Data/qualitative_injuries.csv\n",
      "Injuries have been cleaned and dressed.\n"
     ]
    }
   ],
   "source": [
    "clean_injuries()"
   ]
  }
 ],
 "metadata": {
  "kernelspec": {
   "display_name": "PythonData",
   "language": "python",
   "name": "python3"
  },
  "language_info": {
   "codemirror_mode": {
    "name": "ipython",
    "version": 3
   },
   "file_extension": ".py",
   "mimetype": "text/x-python",
   "name": "python",
   "nbconvert_exporter": "python",
   "pygments_lexer": "ipython3",
   "version": "3.9.12"
  }
 },
 "nbformat": 4,
 "nbformat_minor": 2
}
