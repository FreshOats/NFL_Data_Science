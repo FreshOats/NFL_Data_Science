{
 "cells": [
  {
   "cell_type": "markdown",
   "metadata": {},
   "source": [
    "# Extract and Transform Concussion Qualitative Data"
   ]
  },
  {
   "cell_type": "code",
   "execution_count": 3,
   "metadata": {},
   "outputs": [],
   "source": [
    "import polars as pl\n",
    "import numpy as np"
   ]
  },
  {
   "cell_type": "code",
   "execution_count": 42,
   "metadata": {},
   "outputs": [],
   "source": [
    "def data_loader(dataset): \n",
    "    \"\"\"\n",
    "    Accepts the desired dataset string and opens the file as either a polars dataframe\n",
    "    or a lazyframe. Lazyloading is used for the larger tracking datasets. \n",
    "    \"\"\"\n",
    "    import polars as pl  # type: ignore\n",
    "    import numpy as np # type: ignore\n",
    "\n",
    "    valid_datasets = ['plays', 'injuries', 'role_data', 'punt_data', 'play_information', 'game_data', 'video_review']\n",
    "    if dataset not in valid_datasets: \n",
    "        raise ValueError(f\"Invalid dataset name '{dataset}'. Valid options are: {valid_datasets}\")\n",
    "\n",
    "    try:\n",
    "        # Injury Datasets\n",
    "        if dataset == 'plays':\n",
    "            PlayList_path = \"F:/Data/nfl-playing-surface-analytics/PlayList.csv\"\n",
    "            df = pl.read_csv(PlayList_path)\n",
    "        elif dataset == 'injuries':\n",
    "            InjuryRecord_path = \"F:/Data/nfl-playing-surface-analytics/InjuryRecord.csv\"\n",
    "            df = pl.read_csv(InjuryRecord_path)\n",
    "\n",
    "        # Concussion Datasets\n",
    "        elif dataset == 'role_data':\n",
    "            play_player_role_data_path = \"F:/Data/NFL-Punt-Analytics-Competition/play_player_role_data.csv\"\n",
    "            df = pl.read_csv(play_player_role_data_path)\n",
    "        elif dataset == 'punt_data':\n",
    "            player_punt_data_path = \"F:/Data/NFL-Punt-Analytics-Competition/player_punt_data.csv\"\n",
    "            df = pl.read_csv(player_punt_data_path)\n",
    "        elif dataset == 'play_information':\n",
    "            play_information_path = \"F:/Data/NFL-Punt-Analytics-Competition/play_information.csv\"\n",
    "            df = pl.read_csv(play_information_path)\n",
    "        elif dataset == 'game_data':\n",
    "            game_data_path = \"F:/Data/NFL-Punt-Analytics-Competition/game_data.csv\"\n",
    "            df = pl.read_csv(game_data_path)\n",
    "        elif dataset == 'video_review':\n",
    "            video_review_path = \"F:/Data/NFL-Punt-Analytics-Competition/video_review.csv\"\n",
    "            df = pl.read_csv(video_review_path)\n",
    "\n",
    "        return df\n",
    "    \n",
    "    except Exception as e: \n",
    "        print(f\"An error occurred while loading the dataset '{dataset}': {e}\")\n",
    "        return None"
   ]
  },
  {
   "cell_type": "code",
   "execution_count": 101,
   "metadata": {},
   "outputs": [],
   "source": [
    "def table_joiner(analysis):\n",
    "    \"\"\"\n",
    "    Joins the plays and injuries tables in the surface injury data \n",
    "    \"\"\"\n",
    "    import polars as pl # type: ignore\n",
    "    # from DataHandler import data_loader\n",
    "\n",
    "    valid_analyses = ['injury', 'concussion']\n",
    "    if analysis not in valid_analyses: \n",
    "        raise ValueError(f\"Invalid dataset name '{analysis}'. Valid options are: {valid_analyses}\")\n",
    "\n",
    "\n",
    "    try: \n",
    "        #Injury Data Loader\n",
    "        if analysis == 'injury':\n",
    "            plays = data_loader('plays')\n",
    "            injuries = data_loader('injuries')\n",
    "\n",
    "            df = (\n",
    "                plays.join(injuries, on=\"PlayKey\", how='left')\n",
    "                .select([\n",
    "                    pl.col(\"PlayKey\")\n",
    "                    , pl.col(\"Position\")\n",
    "                    , pl.col(\"StadiumType\")\n",
    "                    , pl.col(\"FieldType\")\n",
    "                    , pl.col(\"Temperature\")\n",
    "                    , pl.col(\"Weather\")\n",
    "                    , pl.col(\"PlayType\")\n",
    "                    , pl.col(\"BodyPart\")\n",
    "                    , pl.col(\"DM_M1\")\n",
    "                    , pl.col(\"DM_M7\")\n",
    "                    , pl.col(\"DM_M28\")\n",
    "                    , pl.col(\"DM_M42\")\n",
    "                ])\n",
    "            )\n",
    "\n",
    "        # Concussion Data Loader\n",
    "        elif analysis == 'concussion':\n",
    "            role_data = data_loader('role_data')\n",
    "            punt_data = data_loader('punt_data')\n",
    "            play_information = data_loader('play_information')\n",
    "            game_data = data_loader('game_data')\n",
    "            video_review = data_loader('video_review')\n",
    "\n",
    "\n",
    "            df = (\n",
    "                role_data\n",
    "                .join(\n",
    "                    punt_data\n",
    "                    , left_on=\"GSISID\"\n",
    "                    , right_on=\"GSISID\"\n",
    "                    , how=\"left\"\n",
    "                    , suffix=\"_punt\"\n",
    "                )\n",
    "                .join(\n",
    "                    play_information\n",
    "                    , left_on=[\"GameKey\", \"PlayID\"]\n",
    "                    , right_on=[\"GameKey\", \"PlayID\"]\n",
    "                    , how=\"left\"\n",
    "                    , suffix=\"_play\"\n",
    "                )\n",
    "                .join(\n",
    "                    game_data\n",
    "                    , left_on=\"GameKey\"\n",
    "                    , right_on=\"GameKey\"\n",
    "                    , how=\"left\"\n",
    "                    , suffix=\"_game\"\n",
    "                )\n",
    "                .join(\n",
    "                    video_review\n",
    "                    , left_on=[\"GameKey\", \"PlayID\", \"GSISID\"]\n",
    "                    , right_on=[\"GameKey\", \"PlayID\", \"GSISID\"]\n",
    "                    , how=\"left\"\n",
    "                    , suffix=\"_video\"\n",
    "                )\n",
    "                .with_columns([\n",
    "                    pl.concat_str([\n",
    "                        pl.col(\"GSISID\").cast(pl.Utf8)\n",
    "                        , pl.lit(\"-\")\n",
    "                        , pl.col(\"GameKey\").cast(pl.Utf8)\n",
    "                        , pl.lit(\"-\")\n",
    "                        , pl.col(\"PlayID\").cast(pl.Utf8)\n",
    "                    ]).alias(\"PlayKey\"),\n",
    "                    pl.concat_str([\n",
    "                        pl.col(\"Primary_Partner_GSISID\").cast(pl.Utf8)\n",
    "                        , pl.lit(\"-\")\n",
    "                        , pl.col(\"GameKey\").cast(pl.Utf8)\n",
    "                        , pl.lit(\"-\")\n",
    "                        , pl.col(\"PlayID\").cast(pl.Utf8)\n",
    "                    ]).alias(\"OpponentKey\")\n",
    "                    , pl.when(pl.col(\"Primary_Partner_GSISID\") == \"Unclear\")\n",
    "                        .then(pl.lit(\"00000\"))\n",
    "                        .otherwise(pl.col(\"Primary_Partner_GSISID\"))\n",
    "                        .cast(pl.Int64)\n",
    "                        .alias(\"Primary_Partner_GSISID\")\n",
    "                ])\n",
    "                .select([\n",
    "                    \"PlayKey\"\n",
    "                    , \"GSISID\"\n",
    "                    , \"GameKey\"\n",
    "                    , \"PlayID\"\n",
    "                    , \"Position\"\n",
    "                    , 'Number'\n",
    "                    , \"Role\"\n",
    "                    , \"Game_Date\"\n",
    "                    , \"YardLine\"\n",
    "                    , \"Quarter\"\n",
    "                    , \"Play_Type\"\n",
    "                    , \"Poss_Team\"\n",
    "                    , \"Score_Home_Visiting\"\n",
    "                    , \"Game_Site\"\n",
    "                    , \"Start_Time\"\n",
    "                    , \"HomeTeamCode\"\n",
    "                    , \"VisitTeamCode\"\n",
    "                    , \"StadiumType\"\n",
    "                    , \"Turf\"\n",
    "                    , \"GameWeather\"\n",
    "                    , \"Temperature\"\n",
    "                    , \"Player_Activity_Derived\"\n",
    "                    , \"Primary_Impact_Type\"\n",
    "                    , \"Primary_Partner_Activity_Derived\"\n",
    "                    , \"Primary_Partner_GSISID\"\n",
    "                    , \"OpponentKey\"\n",
    "                ])\n",
    "                .unique()\n",
    "            )\n",
    "\n",
    "\n",
    "\n",
    "        print(f\"Tables are holding hands. How cute.\")\n",
    "        return df\n",
    "    \n",
    "    except Exception as e: \n",
    "        print(f\"An error occurred while processing the '{analysis}' analysis: {e}.\")\n",
    "        return None"
   ]
  },
  {
   "cell_type": "code",
   "execution_count": 102,
   "metadata": {},
   "outputs": [
    {
     "name": "stdout",
     "output_type": "stream",
     "text": [
      "Tables are holding hands. How cute.\n"
     ]
    },
    {
     "data": {
      "text/html": [
       "<div><style>\n",
       ".dataframe > thead > tr,\n",
       ".dataframe > tbody > tr {\n",
       "  text-align: right;\n",
       "  white-space: pre-wrap;\n",
       "}\n",
       "</style>\n",
       "<small>shape: (5, 26)</small><table border=\"1\" class=\"dataframe\"><thead><tr><th>PlayKey</th><th>GSISID</th><th>GameKey</th><th>PlayID</th><th>Position</th><th>Number</th><th>Role</th><th>Game_Date</th><th>YardLine</th><th>Quarter</th><th>Play_Type</th><th>Poss_Team</th><th>Score_Home_Visiting</th><th>Game_Site</th><th>Start_Time</th><th>HomeTeamCode</th><th>VisitTeamCode</th><th>StadiumType</th><th>Turf</th><th>GameWeather</th><th>Temperature</th><th>Player_Activity_Derived</th><th>Primary_Impact_Type</th><th>Primary_Partner_Activity_Derived</th><th>Primary_Partner_GSISID</th><th>OpponentKey</th></tr><tr><td>str</td><td>i64</td><td>i64</td><td>i64</td><td>str</td><td>str</td><td>str</td><td>str</td><td>str</td><td>i64</td><td>str</td><td>str</td><td>str</td><td>str</td><td>str</td><td>str</td><td>str</td><td>str</td><td>str</td><td>str</td><td>f64</td><td>str</td><td>str</td><td>str</td><td>i64</td><td>str</td></tr></thead><tbody><tr><td>&quot;32732-387-3026&quot;</td><td>32732</td><td>387</td><td>3026</td><td>&quot;WR&quot;</td><td>&quot;85&quot;</td><td>&quot;VLi&quot;</td><td>&quot;08/31/2017&quot;</td><td>&quot;CHI 26&quot;</td><td>3</td><td>&quot;Punt&quot;</td><td>&quot;CHI&quot;</td><td>&quot;0 - 19&quot;</td><td>&quot;Chicago&quot;</td><td>&quot;19:00&quot;</td><td>&quot;CHI&quot;</td><td>&quot;CLV&quot;</td><td>&quot;Outdoor&quot;</td><td>&quot;Grass&quot;</td><td>&quot;Partly cloudy, lows to upper 5…</td><td>72.0</td><td>null</td><td>null</td><td>null</td><td>null</td><td>null</td></tr><tr><td>&quot;31665-178-1639&quot;</td><td>31665</td><td>178</td><td>1639</td><td>&quot;RB&quot;</td><td>&quot;34&quot;</td><td>&quot;PDR1&quot;</td><td>&quot;10/30/2016&quot;</td><td>&quot;DET 49&quot;</td><td>2</td><td>&quot;Punt&quot;</td><td>&quot;HST&quot;</td><td>&quot;14 - 0&quot;</td><td>&quot;Houston&quot;</td><td>&quot;12:00&quot;</td><td>&quot;HST&quot;</td><td>&quot;DET&quot;</td><td>&quot;Retractable Roof&quot;</td><td>&quot;Artificial&quot;</td><td>&quot;Mostly Sunny&quot;</td><td>80.0</td><td>null</td><td>null</td><td>null</td><td>null</td><td>null</td></tr><tr><td>&quot;29931-128-355&quot;</td><td>29931</td><td>128</td><td>355</td><td>&quot;FB&quot;</td><td>&quot;39o&quot;</td><td>&quot;PLW&quot;</td><td>&quot;10/03/2016&quot;</td><td>&quot;MIN 8&quot;</td><td>1</td><td>&quot;Punt&quot;</td><td>&quot;MIN&quot;</td><td>&quot;0 - 0&quot;</td><td>&quot;Minneapolis&quot;</td><td>&quot;19:30&quot;</td><td>&quot;MIN&quot;</td><td>&quot;NYG&quot;</td><td>&quot;Indoor&quot;</td><td>&quot;Field Turf&quot;</td><td>&quot;Indoors&quot;</td><td>null</td><td>null</td><td>null</td><td>null</td><td>null</td><td>null</td></tr><tr><td>&quot;29033-395-3873&quot;</td><td>29033</td><td>395</td><td>3873</td><td>&quot;WR&quot;</td><td>&quot;14&quot;</td><td>&quot;PDR1&quot;</td><td>&quot;08/31/2017&quot;</td><td>&quot;NO 45&quot;</td><td>4</td><td>&quot;Punt&quot;</td><td>&quot;NO&quot;</td><td>&quot;13 - 14&quot;</td><td>&quot;New Orleans&quot;</td><td>&quot;19:00&quot;</td><td>&quot;NO&quot;</td><td>&quot;BLT&quot;</td><td>&quot;Indoors (Domed)&quot;</td><td>&quot;UBU Speed Series-S5-M&quot;</td><td>&quot;Sunny&quot;</td><td>86.0</td><td>null</td><td>null</td><td>null</td><td>null</td><td>null</td></tr><tr><td>&quot;31940-606-3671&quot;</td><td>31940</td><td>606</td><td>3671</td><td>&quot;DE&quot;</td><td>&quot;92&quot;</td><td>&quot;PLG&quot;</td><td>&quot;12/11/2017&quot;</td><td>&quot;NE 21&quot;</td><td>4</td><td>&quot;Punt&quot;</td><td>&quot;NE&quot;</td><td>&quot;27 - 17&quot;</td><td>&quot;Miami Gardens&quot;</td><td>&quot;20:30&quot;</td><td>&quot;MIA&quot;</td><td>&quot;NE&quot;</td><td>&quot;Outdoor&quot;</td><td>&quot;Natural Grass&quot;</td><td>&quot;Clear&quot;</td><td>55.0</td><td>null</td><td>null</td><td>null</td><td>null</td><td>null</td></tr></tbody></table></div>"
      ],
      "text/plain": [
       "shape: (5, 26)\n",
       "┌─────────────┬────────┬─────────┬────────┬───┬─────────────┬────────────┬────────────┬────────────┐\n",
       "│ PlayKey     ┆ GSISID ┆ GameKey ┆ PlayID ┆ … ┆ Primary_Imp ┆ Primary_Pa ┆ Primary_Pa ┆ OpponentKe │\n",
       "│ ---         ┆ ---    ┆ ---     ┆ ---    ┆   ┆ act_Type    ┆ rtner_Acti ┆ rtner_GSIS ┆ y          │\n",
       "│ str         ┆ i64    ┆ i64     ┆ i64    ┆   ┆ ---         ┆ vity_Deriv ┆ ID         ┆ ---        │\n",
       "│             ┆        ┆         ┆        ┆   ┆ str         ┆ …          ┆ ---        ┆ str        │\n",
       "│             ┆        ┆         ┆        ┆   ┆             ┆ ---        ┆ i64        ┆            │\n",
       "│             ┆        ┆         ┆        ┆   ┆             ┆ str        ┆            ┆            │\n",
       "╞═════════════╪════════╪═════════╪════════╪═══╪═════════════╪════════════╪════════════╪════════════╡\n",
       "│ 32732-387-3 ┆ 32732  ┆ 387     ┆ 3026   ┆ … ┆ null        ┆ null       ┆ null       ┆ null       │\n",
       "│ 026         ┆        ┆         ┆        ┆   ┆             ┆            ┆            ┆            │\n",
       "│ 31665-178-1 ┆ 31665  ┆ 178     ┆ 1639   ┆ … ┆ null        ┆ null       ┆ null       ┆ null       │\n",
       "│ 639         ┆        ┆         ┆        ┆   ┆             ┆            ┆            ┆            │\n",
       "│ 29931-128-3 ┆ 29931  ┆ 128     ┆ 355    ┆ … ┆ null        ┆ null       ┆ null       ┆ null       │\n",
       "│ 55          ┆        ┆         ┆        ┆   ┆             ┆            ┆            ┆            │\n",
       "│ 29033-395-3 ┆ 29033  ┆ 395     ┆ 3873   ┆ … ┆ null        ┆ null       ┆ null       ┆ null       │\n",
       "│ 873         ┆        ┆         ┆        ┆   ┆             ┆            ┆            ┆            │\n",
       "│ 31940-606-3 ┆ 31940  ┆ 606     ┆ 3671   ┆ … ┆ null        ┆ null       ┆ null       ┆ null       │\n",
       "│ 671         ┆        ┆         ┆        ┆   ┆             ┆            ┆            ┆            │\n",
       "└─────────────┴────────┴─────────┴────────┴───┴─────────────┴────────────┴────────────┴────────────┘"
      ]
     },
     "execution_count": 102,
     "metadata": {},
     "output_type": "execute_result"
    }
   ],
   "source": [
    "table_joiner('concussion').head()"
   ]
  },
  {
   "cell_type": "code",
   "execution_count": 103,
   "metadata": {},
   "outputs": [
    {
     "name": "stdout",
     "output_type": "stream",
     "text": [
      "Tables are holding hands. How cute.\n"
     ]
    }
   ],
   "source": [
    "concussion = table_joiner('concussion')"
   ]
  },
  {
   "cell_type": "code",
   "execution_count": 104,
   "metadata": {},
   "outputs": [],
   "source": [
    "def injury_interpolator(df, analysis): \n",
    "    \"\"\"\n",
    "    Creates two new columns, IsInjured and IsSevere, where any injury sets IsInjured to 1, and any injury over 28 days provides a 1 in IsSevere\n",
    "    \"\"\"\n",
    "    import polars as pl\n",
    "\n",
    "    if analysis == 'injury':\n",
    "        df = df.with_columns([ \n",
    "            pl.when(pl.col(\"DM_M1\") == 1).then(1).otherwise(0).alias(\"IsInjured\")\n",
    "            , pl.when(pl.col(\"DM_M28\") == 1).then(1).otherwise(0).alias(\"IsSevere\")\n",
    "            ])\n",
    "\n",
    "    elif analysis == 'concussion':\n",
    "        df = df.with_columns([ \n",
    "            pl.when(pl.col(\"Primary_Impact_Type\").is_not_null()).then(1).otherwise(0).alias(\"IsInjured\")\n",
    "            , pl.col(\"Player_Activity_Derived\").fill_null(\"No_Injury\")\n",
    "            , pl.col(\"Primary_Impact_Type\").fill_null(\"No_Injury\")\n",
    "            , pl.col(\"Primary_Partner_Activity_Derived\").fill_null(\"No_Injury\")\n",
    "            , pl.col(\"Primary_Partner_GSISID\").fill_null(00000)\n",
    "            , pl.col(\"OpponentKey\").fill_null(\"None\")\n",
    "            ])\n",
    "        \n",
    "    print(\"Injury columns have been added.\")\n",
    "    return df"
   ]
  },
  {
   "cell_type": "code",
   "execution_count": 105,
   "metadata": {},
   "outputs": [
    {
     "name": "stdout",
     "output_type": "stream",
     "text": [
      "Injury columns have been added.\n"
     ]
    },
    {
     "data": {
      "text/html": [
       "<div><style>\n",
       ".dataframe > thead > tr,\n",
       ".dataframe > tbody > tr {\n",
       "  text-align: right;\n",
       "  white-space: pre-wrap;\n",
       "}\n",
       "</style>\n",
       "<small>shape: (2, 27)</small><table border=\"1\" class=\"dataframe\"><thead><tr><th>PlayKey</th><th>GSISID</th><th>GameKey</th><th>PlayID</th><th>Position</th><th>Number</th><th>Role</th><th>Game_Date</th><th>YardLine</th><th>Quarter</th><th>Play_Type</th><th>Poss_Team</th><th>Score_Home_Visiting</th><th>Game_Site</th><th>Start_Time</th><th>HomeTeamCode</th><th>VisitTeamCode</th><th>StadiumType</th><th>Turf</th><th>GameWeather</th><th>Temperature</th><th>Player_Activity_Derived</th><th>Primary_Impact_Type</th><th>Primary_Partner_Activity_Derived</th><th>Primary_Partner_GSISID</th><th>OpponentKey</th><th>IsInjured</th></tr><tr><td>str</td><td>i64</td><td>i64</td><td>i64</td><td>str</td><td>str</td><td>str</td><td>str</td><td>str</td><td>i64</td><td>str</td><td>str</td><td>str</td><td>str</td><td>str</td><td>str</td><td>str</td><td>str</td><td>str</td><td>str</td><td>f64</td><td>str</td><td>str</td><td>str</td><td>i64</td><td>str</td><td>i32</td></tr></thead><tbody><tr><td>&quot;33790-509-2050&quot;</td><td>33790</td><td>509</td><td>2050</td><td>&quot;OLB&quot;</td><td>&quot;50&quot;</td><td>&quot;PLT&quot;</td><td>&quot;10/29/2017&quot;</td><td>&quot;CIN 42&quot;</td><td>2</td><td>&quot;Punt&quot;</td><td>&quot;CIN&quot;</td><td>&quot;10 - 10&quot;</td><td>&quot;Cincinnati&quot;</td><td>&quot;13:00&quot;</td><td>&quot;CIN&quot;</td><td>&quot;IND&quot;</td><td>&quot;Outdoor&quot;</td><td>&quot;UBU Sports Speed S5-M&quot;</td><td>&quot;Cloudy&quot;</td><td>39.0</td><td>&quot;No_Injury&quot;</td><td>&quot;No_Injury&quot;</td><td>&quot;No_Injury&quot;</td><td>0</td><td>&quot;None&quot;</td><td>0</td></tr><tr><td>&quot;33410-372-2482&quot;</td><td>33410</td><td>372</td><td>2482</td><td>&quot;CB&quot;</td><td>&quot;32&quot;</td><td>&quot;VR&quot;</td><td>&quot;08/24/2017&quot;</td><td>&quot;CAR 44&quot;</td><td>3</td><td>&quot;Punt&quot;</td><td>&quot;JAX&quot;</td><td>&quot;10 - 10&quot;</td><td>&quot;Jacksonville&quot;</td><td>&quot;19:30&quot;</td><td>&quot;JAX&quot;</td><td>&quot;CAR&quot;</td><td>&quot;Open&quot;</td><td>&quot;Grass&quot;</td><td>null</td><td>84.0</td><td>&quot;No_Injury&quot;</td><td>&quot;No_Injury&quot;</td><td>&quot;No_Injury&quot;</td><td>0</td><td>&quot;None&quot;</td><td>0</td></tr></tbody></table></div>"
      ],
      "text/plain": [
       "shape: (2, 27)\n",
       "┌─────────────┬────────┬─────────┬────────┬───┬─────────────┬─────────────┬────────────┬───────────┐\n",
       "│ PlayKey     ┆ GSISID ┆ GameKey ┆ PlayID ┆ … ┆ Primary_Par ┆ Primary_Par ┆ OpponentKe ┆ IsInjured │\n",
       "│ ---         ┆ ---    ┆ ---     ┆ ---    ┆   ┆ tner_Activi ┆ tner_GSISID ┆ y          ┆ ---       │\n",
       "│ str         ┆ i64    ┆ i64     ┆ i64    ┆   ┆ ty_Deriv…   ┆ ---         ┆ ---        ┆ i32       │\n",
       "│             ┆        ┆         ┆        ┆   ┆ ---         ┆ i64         ┆ str        ┆           │\n",
       "│             ┆        ┆         ┆        ┆   ┆ str         ┆             ┆            ┆           │\n",
       "╞═════════════╪════════╪═════════╪════════╪═══╪═════════════╪═════════════╪════════════╪═══════════╡\n",
       "│ 33790-509-2 ┆ 33790  ┆ 509     ┆ 2050   ┆ … ┆ No_Injury   ┆ 0           ┆ None       ┆ 0         │\n",
       "│ 050         ┆        ┆         ┆        ┆   ┆             ┆             ┆            ┆           │\n",
       "│ 33410-372-2 ┆ 33410  ┆ 372     ┆ 2482   ┆ … ┆ No_Injury   ┆ 0           ┆ None       ┆ 0         │\n",
       "│ 482         ┆        ┆         ┆        ┆   ┆             ┆             ┆            ┆           │\n",
       "└─────────────┴────────┴─────────┴────────┴───┴─────────────┴─────────────┴────────────┴───────────┘"
      ]
     },
     "execution_count": 105,
     "metadata": {},
     "output_type": "execute_result"
    }
   ],
   "source": [
    "concussion = injury_interpolator(concussion, 'concussion')\n",
    "concussion.head(2)\n"
   ]
  },
  {
   "cell_type": "code",
   "execution_count": 106,
   "metadata": {},
   "outputs": [],
   "source": [
    "def stadium_cleaner(df):\n",
    "    \"\"\"\n",
    "    Noramlizes all stadium types to be either indoor or outdoor per game records. Some of the dome \n",
    "    stadiums were listed as open or closed for different games, and these were accounted for.\n",
    "    All games with dates were checked to ensure null values were indeed outdoor games. \n",
    "    \"\"\"\n",
    "    import polars as pl  # type: ignore\n",
    "\n",
    "    stadium_dict = {\n",
    "        'Outdoor': 'Outdoor'\n",
    "        , 'Indoors': 'Indoor'\n",
    "        , 'Oudoor': 'Outdoor'\n",
    "        , 'Outdoors': 'Outdoor'\n",
    "        , 'Open': 'Outdoor'\n",
    "        , 'Closed Dome': 'Indoor'\n",
    "        , 'Domed, closed': 'Indoor'\n",
    "        , 'Dome': 'Indoor'\n",
    "        , 'Indoor': 'Indoor'\n",
    "        , 'Domed': 'Indoor'\n",
    "        , 'Retr. Roof-Closed': 'Indoor'\n",
    "        , 'Outdoor Retr Roof-Open': 'Outdoor'\n",
    "        , 'Retractable Roof': 'Indoor'\n",
    "        , 'Ourdoor': 'Outdoor'\n",
    "        , 'Indoor, Roof Closed': 'Indoor'\n",
    "        , 'Retr. Roof - Closed': 'Indoor'\n",
    "        , 'Bowl': 'Outdoor'\n",
    "        , 'Outddors': 'Outdoor'\n",
    "        , 'Retr. Roof-Open': 'Outdoor'\n",
    "        , 'Dome, closed': 'Indoor'\n",
    "        , 'Indoor, Open Roof': 'Outdoor'\n",
    "        , 'Domed, Open': 'Outdoor'\n",
    "        , 'Domed, open': 'Outdoor'\n",
    "        , 'Heinz Field': 'Outdoor'\n",
    "        , 'Cloudy': 'Outdoor'\n",
    "        , 'Retr. Roof - Open': 'Outdoor'\n",
    "        , 'Retr. Roof Closed': 'Indoor'\n",
    "        , 'Outdor': 'Outdoor'\n",
    "        , 'Outside': 'Outdoor'\n",
    "        , 'outdoor': 'Outdoor'\n",
    "        , 'Outdoors ': 'Outdoor'\n",
    "        , 'Indoor, non-retractable roof': 'Indoor'\n",
    "        , 'Retr. roof - closed': 'Indoor'\n",
    "        , 'Indoor, fixed roof ': 'Indoor'\n",
    "        , 'Indoor, Non-Retractable Dome': 'Indoor'\n",
    "        , 'Indoor, Fixed Roof': 'Indoor'\n",
    "        , 'Indoor, fixed roof': 'Indoor'\n",
    "        , 'Indoors (Domed)': 'Indoor'\n",
    "        , None: 'Outdoor'\n",
    "        }\n",
    "\n",
    "\n",
    "    df = df.with_columns(pl.col(\"StadiumType\").replace(stadium_dict)) # This uses the dict to assign naming conventions\n",
    "\n",
    "    print(f\"Someone managed to clean up those stadiums!\")\n",
    "    return df"
   ]
  },
  {
   "cell_type": "code",
   "execution_count": 107,
   "metadata": {},
   "outputs": [
    {
     "name": "stdout",
     "output_type": "stream",
     "text": [
      "Someone managed to clean up those stadiums!\n"
     ]
    },
    {
     "data": {
      "text/html": [
       "<div><style>\n",
       ".dataframe > thead > tr,\n",
       ".dataframe > tbody > tr {\n",
       "  text-align: right;\n",
       "  white-space: pre-wrap;\n",
       "}\n",
       "</style>\n",
       "<small>shape: (2, 27)</small><table border=\"1\" class=\"dataframe\"><thead><tr><th>PlayKey</th><th>GSISID</th><th>GameKey</th><th>PlayID</th><th>Position</th><th>Number</th><th>Role</th><th>Game_Date</th><th>YardLine</th><th>Quarter</th><th>Play_Type</th><th>Poss_Team</th><th>Score_Home_Visiting</th><th>Game_Site</th><th>Start_Time</th><th>HomeTeamCode</th><th>VisitTeamCode</th><th>StadiumType</th><th>Turf</th><th>GameWeather</th><th>Temperature</th><th>Player_Activity_Derived</th><th>Primary_Impact_Type</th><th>Primary_Partner_Activity_Derived</th><th>Primary_Partner_GSISID</th><th>OpponentKey</th><th>IsInjured</th></tr><tr><td>str</td><td>i64</td><td>i64</td><td>i64</td><td>str</td><td>str</td><td>str</td><td>str</td><td>str</td><td>i64</td><td>str</td><td>str</td><td>str</td><td>str</td><td>str</td><td>str</td><td>str</td><td>str</td><td>str</td><td>str</td><td>f64</td><td>str</td><td>str</td><td>str</td><td>i64</td><td>str</td><td>i32</td></tr></thead><tbody><tr><td>&quot;33790-509-2050&quot;</td><td>33790</td><td>509</td><td>2050</td><td>&quot;OLB&quot;</td><td>&quot;50&quot;</td><td>&quot;PLT&quot;</td><td>&quot;10/29/2017&quot;</td><td>&quot;CIN 42&quot;</td><td>2</td><td>&quot;Punt&quot;</td><td>&quot;CIN&quot;</td><td>&quot;10 - 10&quot;</td><td>&quot;Cincinnati&quot;</td><td>&quot;13:00&quot;</td><td>&quot;CIN&quot;</td><td>&quot;IND&quot;</td><td>&quot;Outdoor&quot;</td><td>&quot;UBU Sports Speed S5-M&quot;</td><td>&quot;Cloudy&quot;</td><td>39.0</td><td>&quot;No_Injury&quot;</td><td>&quot;No_Injury&quot;</td><td>&quot;No_Injury&quot;</td><td>0</td><td>&quot;None&quot;</td><td>0</td></tr><tr><td>&quot;33410-372-2482&quot;</td><td>33410</td><td>372</td><td>2482</td><td>&quot;CB&quot;</td><td>&quot;32&quot;</td><td>&quot;VR&quot;</td><td>&quot;08/24/2017&quot;</td><td>&quot;CAR 44&quot;</td><td>3</td><td>&quot;Punt&quot;</td><td>&quot;JAX&quot;</td><td>&quot;10 - 10&quot;</td><td>&quot;Jacksonville&quot;</td><td>&quot;19:30&quot;</td><td>&quot;JAX&quot;</td><td>&quot;CAR&quot;</td><td>&quot;Outdoor&quot;</td><td>&quot;Grass&quot;</td><td>null</td><td>84.0</td><td>&quot;No_Injury&quot;</td><td>&quot;No_Injury&quot;</td><td>&quot;No_Injury&quot;</td><td>0</td><td>&quot;None&quot;</td><td>0</td></tr></tbody></table></div>"
      ],
      "text/plain": [
       "shape: (2, 27)\n",
       "┌─────────────┬────────┬─────────┬────────┬───┬─────────────┬─────────────┬────────────┬───────────┐\n",
       "│ PlayKey     ┆ GSISID ┆ GameKey ┆ PlayID ┆ … ┆ Primary_Par ┆ Primary_Par ┆ OpponentKe ┆ IsInjured │\n",
       "│ ---         ┆ ---    ┆ ---     ┆ ---    ┆   ┆ tner_Activi ┆ tner_GSISID ┆ y          ┆ ---       │\n",
       "│ str         ┆ i64    ┆ i64     ┆ i64    ┆   ┆ ty_Deriv…   ┆ ---         ┆ ---        ┆ i32       │\n",
       "│             ┆        ┆         ┆        ┆   ┆ ---         ┆ i64         ┆ str        ┆           │\n",
       "│             ┆        ┆         ┆        ┆   ┆ str         ┆             ┆            ┆           │\n",
       "╞═════════════╪════════╪═════════╪════════╪═══╪═════════════╪═════════════╪════════════╪═══════════╡\n",
       "│ 33790-509-2 ┆ 33790  ┆ 509     ┆ 2050   ┆ … ┆ No_Injury   ┆ 0           ┆ None       ┆ 0         │\n",
       "│ 050         ┆        ┆         ┆        ┆   ┆             ┆             ┆            ┆           │\n",
       "│ 33410-372-2 ┆ 33410  ┆ 372     ┆ 2482   ┆ … ┆ No_Injury   ┆ 0           ┆ None       ┆ 0         │\n",
       "│ 482         ┆        ┆         ┆        ┆   ┆             ┆             ┆            ┆           │\n",
       "└─────────────┴────────┴─────────┴────────┴───┴─────────────┴─────────────┴────────────┴───────────┘"
      ]
     },
     "execution_count": 107,
     "metadata": {},
     "output_type": "execute_result"
    }
   ],
   "source": [
    "concussion = stadium_cleaner(concussion)\n",
    "concussion.head(2)"
   ]
  },
  {
   "cell_type": "code",
   "execution_count": 108,
   "metadata": {},
   "outputs": [],
   "source": [
    "def weather_cleaner(df):\n",
    "     \"\"\"\n",
    "     Uses mapping to limit the number of different weather groupings. \n",
    "     \"\"\"\n",
    "     import polars as pl # type: ignore\n",
    "\n",
    "     # If using the concussion dataset, rename the GameWeather column to Weather\n",
    "     if \"GameWeather\" in df.columns:\n",
    "       df = df.rename({\"GameWeather\": \"Weather\"})\n",
    "\n",
    "     weather_dict = {\n",
    "            'Clear and warm': 'Clear'\n",
    "            , 'Mostly Cloudy': 'Cloudy'\n",
    "            , 'Sunny': 'Clear'\n",
    "            , 'Clear': 'Clear'\n",
    "            , 'Cloudy': 'Cloudy'\n",
    "            , 'Cloudy, fog started developing in 2nd quarter': 'Hazy/Fog'\n",
    "            , 'Rain': 'Rain'\n",
    "            , 'Partly Cloudy': 'Cloudy'\n",
    "            , 'Mostly cloudy': 'Cloudy'\n",
    "            , 'Cloudy and cold': 'Cloudy'\n",
    "            , 'Cloudy and Cool': 'Cloudy'\n",
    "            , 'Rain Chance 40%': 'Rain'\n",
    "            , 'Controlled Climate': 'Indoor'\n",
    "            , 'Sunny and warm': 'Clear'\n",
    "            , 'Partly cloudy': 'Cloudy'\n",
    "            , 'Clear and Cool': 'Cloudy'\n",
    "            , 'Clear and cold': 'Cloudy'\n",
    "            , 'Sunny and cold': 'Clear'\n",
    "            , 'Indoor': 'Indoor'\n",
    "            , 'Partly Sunny': 'Clear'\n",
    "            , 'N/A (Indoors)': 'Indoor'\n",
    "            , 'Mostly Sunny': 'Clear'\n",
    "            , 'Indoors': 'Indoor'\n",
    "            , 'Clear Skies': 'Clear'\n",
    "            , 'Partly sunny': 'Clear'\n",
    "            , 'Showers': 'Rain'\n",
    "            , 'N/A Indoor': 'Indoor'\n",
    "            , 'Sunny and clear': 'Clear'\n",
    "            , 'Snow': 'Snow'\n",
    "            , 'Scattered Showers': 'Rain'\n",
    "            , 'Party Cloudy': 'Cloudy'\n",
    "            , 'Clear skies': 'Clear'\n",
    "            , 'Rain likely, temps in low 40s.': 'Rain'\n",
    "            , 'Hazy': 'Hazy/Fog'\n",
    "            , 'Partly Clouidy': 'Cloudy'\n",
    "            , 'Sunny Skies': 'Clear'\n",
    "            , 'Overcast': 'Cloudy'\n",
    "            , 'Cloudy, 50% change of rain': 'Cloudy'\n",
    "            , 'Fair': 'Clear'\n",
    "            , 'Light Rain': 'Rain'\n",
    "            , 'Partly clear': 'Clear'\n",
    "            , 'Mostly Coudy': 'Cloudy'\n",
    "            , '10% Chance of Rain': 'Cloudy'\n",
    "            , 'Cloudy, chance of rain': 'Cloudy'\n",
    "            , 'Heat Index 95': 'Clear'\n",
    "            , 'Sunny, highs to upper 80s': 'Clear'\n",
    "            , 'Sun & clouds': 'Cloudy'\n",
    "            , 'Heavy lake effect snow': 'Snow'\n",
    "            , 'Mostly sunny': 'Clear'\n",
    "            , 'Cloudy, Rain': 'Rain'\n",
    "            , 'Sunny, Windy': 'Windy'\n",
    "            , 'Mostly Sunny Skies': 'Clear'\n",
    "            , 'Rainy': 'Rain'\n",
    "            , '30% Chance of Rain': 'Rain'\n",
    "            , 'Cloudy, light snow accumulating 1-3\"': 'Snow'\n",
    "            , 'cloudy': 'Cloudy'\n",
    "            , 'Clear and Sunny': 'Clear'\n",
    "            , 'Coudy': 'Cloudy'\n",
    "            , 'Clear and sunny': 'Clear'\n",
    "            , 'Clear to Partly Cloudy': 'Clear'\n",
    "            , 'Cloudy with periods of rain, thunder possible. Winds shifting to WNW, 10-20 mph.': 'Windy'\n",
    "            , 'Rain shower': 'Rain'\n",
    "            , 'Cold': 'Clear'\n",
    "            , 'Partly cloudy, lows to upper 50s.': 'Cloudy'\n",
    "            , 'Scattered thunderstorms': 'Rain'\n",
    "            , 'CLEAR': 'Clear'\n",
    "            , 'Partly CLoudy': 'Cloudy'\n",
    "            , 'Chance of Showers': 'Rain'\n",
    "            , 'Snow showers': 'Snow'\n",
    "            , 'Clear and Cold': 'Clear'\n",
    "            , 'Cloudy with rain': 'Rain'\n",
    "            , 'Sunny intervals': 'Clear'\n",
    "            , 'Clear and cool': 'Clear'\n",
    "            , 'Cloudy, Humid, Chance of Rain': 'Rain'\n",
    "            , 'Cloudy and Cold': 'Cloudy'\n",
    "            , 'Cloudy with patches of fog': 'Hazy/Fog'\n",
    "            , 'Controlled': 'Indoor'\n",
    "            , 'Sunny and Clear': 'Clear'\n",
    "            , 'Cloudy with Possible Stray Showers/Thundershowers': 'Rain'\n",
    "            , 'Suny': 'Clear'\n",
    "            , 'T-Storms': 'Rain'\n",
    "            , 'Sunny and cool': 'Clear'\n",
    "            , 'Cloudy, steady temps': 'Cloudy'\n",
    "            , 'Hazy, hot and humid': 'Hazy/Fog'\n",
    "            , 'Sunny Intervals': 'Clear'\n",
    "            , 'Partly Cloudy, Chance of Rain 80%': 'Rain'\n",
    "            , 'Mostly Clear. Gusting ot 14.': 'Windy'\n",
    "            , 'Mostly CLoudy': 'Cloudy'\n",
    "            , 'Snow Showers, 3 to 5 inches expected.': 'Snow'\n",
    "            }\n",
    "\n",
    "\n",
    "\n",
    "     df = df.with_columns(pl.col(\"Weather\").replace(weather_dict)) # Standardizes the weather to a few main types\n",
    "\n",
    "     df = df.with_columns(             # Null handling - all null weather conditions for indoor stadiums are filled \"indoor\"\n",
    "                pl.when(pl.col(\"StadiumType\") == \"Indoor\")\n",
    "                .then(pl.col(\"Weather\").fill_null(\"Indoor\"))\n",
    "                .otherwise(pl.col(\"Weather\"))\n",
    "                .alias(\"Weather\")\n",
    "                )\n",
    "     \n",
    "     # For the non-indoor games with null values for weather, to maintain the percentage of games that were clear/cloudy, temperature was used as a divider, above and below 70 degrees\n",
    "     df = df.with_columns(\n",
    "                pl.when(pl.col(\"Temperature\") > 70)\n",
    "                .then(pl.col(\"Weather\").fill_null(\"Clear\"))\n",
    "                .otherwise(pl.col(\"Weather\"))\n",
    "                .alias(\"Weather\")\n",
    "                )\n",
    "     df = df.with_columns(pl.col(\"Weather\").fill_null(\"Cloudy\"))\n",
    "\n",
    "     print(f\"Looks like the weather has been cleared up.\")\n",
    "     return df\n"
   ]
  },
  {
   "cell_type": "code",
   "execution_count": 109,
   "metadata": {},
   "outputs": [
    {
     "name": "stdout",
     "output_type": "stream",
     "text": [
      "Looks like the weather has been cleared up.\n"
     ]
    },
    {
     "data": {
      "text/html": [
       "<div><style>\n",
       ".dataframe > thead > tr,\n",
       ".dataframe > tbody > tr {\n",
       "  text-align: right;\n",
       "  white-space: pre-wrap;\n",
       "}\n",
       "</style>\n",
       "<small>shape: (2, 27)</small><table border=\"1\" class=\"dataframe\"><thead><tr><th>PlayKey</th><th>GSISID</th><th>GameKey</th><th>PlayID</th><th>Position</th><th>Number</th><th>Role</th><th>Game_Date</th><th>YardLine</th><th>Quarter</th><th>Play_Type</th><th>Poss_Team</th><th>Score_Home_Visiting</th><th>Game_Site</th><th>Start_Time</th><th>HomeTeamCode</th><th>VisitTeamCode</th><th>StadiumType</th><th>Turf</th><th>GameWeather</th><th>Temperature</th><th>Player_Activity_Derived</th><th>Primary_Impact_Type</th><th>Primary_Partner_Activity_Derived</th><th>Primary_Partner_GSISID</th><th>OpponentKey</th><th>IsInjured</th></tr><tr><td>str</td><td>i64</td><td>i64</td><td>i64</td><td>str</td><td>str</td><td>str</td><td>str</td><td>str</td><td>i64</td><td>str</td><td>str</td><td>str</td><td>str</td><td>str</td><td>str</td><td>str</td><td>str</td><td>str</td><td>str</td><td>f64</td><td>str</td><td>str</td><td>str</td><td>i64</td><td>str</td><td>i32</td></tr></thead><tbody><tr><td>&quot;33790-509-2050&quot;</td><td>33790</td><td>509</td><td>2050</td><td>&quot;OLB&quot;</td><td>&quot;50&quot;</td><td>&quot;PLT&quot;</td><td>&quot;10/29/2017&quot;</td><td>&quot;CIN 42&quot;</td><td>2</td><td>&quot;Punt&quot;</td><td>&quot;CIN&quot;</td><td>&quot;10 - 10&quot;</td><td>&quot;Cincinnati&quot;</td><td>&quot;13:00&quot;</td><td>&quot;CIN&quot;</td><td>&quot;IND&quot;</td><td>&quot;Outdoor&quot;</td><td>&quot;UBU Sports Speed S5-M&quot;</td><td>&quot;Cloudy&quot;</td><td>39.0</td><td>&quot;No_Injury&quot;</td><td>&quot;No_Injury&quot;</td><td>&quot;No_Injury&quot;</td><td>0</td><td>&quot;None&quot;</td><td>0</td></tr><tr><td>&quot;33410-372-2482&quot;</td><td>33410</td><td>372</td><td>2482</td><td>&quot;CB&quot;</td><td>&quot;32&quot;</td><td>&quot;VR&quot;</td><td>&quot;08/24/2017&quot;</td><td>&quot;CAR 44&quot;</td><td>3</td><td>&quot;Punt&quot;</td><td>&quot;JAX&quot;</td><td>&quot;10 - 10&quot;</td><td>&quot;Jacksonville&quot;</td><td>&quot;19:30&quot;</td><td>&quot;JAX&quot;</td><td>&quot;CAR&quot;</td><td>&quot;Outdoor&quot;</td><td>&quot;Grass&quot;</td><td>null</td><td>84.0</td><td>&quot;No_Injury&quot;</td><td>&quot;No_Injury&quot;</td><td>&quot;No_Injury&quot;</td><td>0</td><td>&quot;None&quot;</td><td>0</td></tr></tbody></table></div>"
      ],
      "text/plain": [
       "shape: (2, 27)\n",
       "┌─────────────┬────────┬─────────┬────────┬───┬─────────────┬─────────────┬────────────┬───────────┐\n",
       "│ PlayKey     ┆ GSISID ┆ GameKey ┆ PlayID ┆ … ┆ Primary_Par ┆ Primary_Par ┆ OpponentKe ┆ IsInjured │\n",
       "│ ---         ┆ ---    ┆ ---     ┆ ---    ┆   ┆ tner_Activi ┆ tner_GSISID ┆ y          ┆ ---       │\n",
       "│ str         ┆ i64    ┆ i64     ┆ i64    ┆   ┆ ty_Deriv…   ┆ ---         ┆ ---        ┆ i32       │\n",
       "│             ┆        ┆         ┆        ┆   ┆ ---         ┆ i64         ┆ str        ┆           │\n",
       "│             ┆        ┆         ┆        ┆   ┆ str         ┆             ┆            ┆           │\n",
       "╞═════════════╪════════╪═════════╪════════╪═══╪═════════════╪═════════════╪════════════╪═══════════╡\n",
       "│ 33790-509-2 ┆ 33790  ┆ 509     ┆ 2050   ┆ … ┆ No_Injury   ┆ 0           ┆ None       ┆ 0         │\n",
       "│ 050         ┆        ┆         ┆        ┆   ┆             ┆             ┆            ┆           │\n",
       "│ 33410-372-2 ┆ 33410  ┆ 372     ┆ 2482   ┆ … ┆ No_Injury   ┆ 0           ┆ None       ┆ 0         │\n",
       "│ 482         ┆        ┆         ┆        ┆   ┆             ┆             ┆            ┆           │\n",
       "└─────────────┴────────┴─────────┴────────┴───┴─────────────┴─────────────┴────────────┴───────────┘"
      ]
     },
     "execution_count": 109,
     "metadata": {},
     "output_type": "execute_result"
    }
   ],
   "source": [
    "concusion = weather_cleaner(concussion)\n",
    "concussion.head(2)"
   ]
  },
  {
   "cell_type": "code",
   "execution_count": 110,
   "metadata": {},
   "outputs": [
    {
     "data": {
      "text/html": [
       "<div><style>\n",
       ".dataframe > thead > tr,\n",
       ".dataframe > tbody > tr {\n",
       "  text-align: right;\n",
       "  white-space: pre-wrap;\n",
       "}\n",
       "</style>\n",
       "<small>shape: (1, 27)</small><table border=\"1\" class=\"dataframe\"><thead><tr><th>PlayKey</th><th>GSISID</th><th>GameKey</th><th>PlayID</th><th>Position</th><th>Number</th><th>Role</th><th>Game_Date</th><th>YardLine</th><th>Quarter</th><th>Play_Type</th><th>Poss_Team</th><th>Score_Home_Visiting</th><th>Game_Site</th><th>Start_Time</th><th>HomeTeamCode</th><th>VisitTeamCode</th><th>StadiumType</th><th>Turf</th><th>GameWeather</th><th>Temperature</th><th>Player_Activity_Derived</th><th>Primary_Impact_Type</th><th>Primary_Partner_Activity_Derived</th><th>Primary_Partner_GSISID</th><th>OpponentKey</th><th>IsInjured</th></tr><tr><td>u32</td><td>u32</td><td>u32</td><td>u32</td><td>u32</td><td>u32</td><td>u32</td><td>u32</td><td>u32</td><td>u32</td><td>u32</td><td>u32</td><td>u32</td><td>u32</td><td>u32</td><td>u32</td><td>u32</td><td>u32</td><td>u32</td><td>u32</td><td>u32</td><td>u32</td><td>u32</td><td>u32</td><td>u32</td><td>u32</td><td>u32</td></tr></thead><tbody><tr><td>0</td><td>0</td><td>0</td><td>0</td><td>10</td><td>10</td><td>0</td><td>71</td><td>71</td><td>71</td><td>71</td><td>71</td><td>71</td><td>0</td><td>0</td><td>0</td><td>0</td><td>0</td><td>315</td><td>29416</td><td>17838</td><td>0</td><td>0</td><td>0</td><td>0</td><td>0</td><td>0</td></tr></tbody></table></div>"
      ],
      "text/plain": [
       "shape: (1, 27)\n",
       "┌─────────┬────────┬─────────┬────────┬───┬───────────────┬──────────────┬─────────────┬───────────┐\n",
       "│ PlayKey ┆ GSISID ┆ GameKey ┆ PlayID ┆ … ┆ Primary_Partn ┆ Primary_Part ┆ OpponentKey ┆ IsInjured │\n",
       "│ ---     ┆ ---    ┆ ---     ┆ ---    ┆   ┆ er_Activity_D ┆ ner_GSISID   ┆ ---         ┆ ---       │\n",
       "│ u32     ┆ u32    ┆ u32     ┆ u32    ┆   ┆ eriv…         ┆ ---          ┆ u32         ┆ u32       │\n",
       "│         ┆        ┆         ┆        ┆   ┆ ---           ┆ u32          ┆             ┆           │\n",
       "│         ┆        ┆         ┆        ┆   ┆ u32           ┆              ┆             ┆           │\n",
       "╞═════════╪════════╪═════════╪════════╪═══╪═══════════════╪══════════════╪═════════════╪═══════════╡\n",
       "│ 0       ┆ 0      ┆ 0       ┆ 0      ┆ … ┆ 0             ┆ 0            ┆ 0           ┆ 0         │\n",
       "└─────────┴────────┴─────────┴────────┴───┴───────────────┴──────────────┴─────────────┴───────────┘"
      ]
     },
     "execution_count": 110,
     "metadata": {},
     "output_type": "execute_result"
    }
   ],
   "source": [
    "concussion.null_count()"
   ]
  },
  {
   "cell_type": "code",
   "execution_count": 111,
   "metadata": {},
   "outputs": [],
   "source": [
    "def turf_cleaner(df):\n",
    "    import polars as pl\n",
    "\n",
    "    df = df.rename({\"Turf\": \"FieldType\"})\n",
    "\n",
    "    turf_dict = {\n",
    "        'Grass': 'Natural',\n",
    "        'Field Turf': 'Synthetic', \n",
    "        'Natural Grass': 'Natural',\n",
    "        'grass': 'Natural',\n",
    "        'Artificial': 'Synthetic',\n",
    "        'FieldTurf': 'Synthetic',\n",
    "        'DD GrassMaster': 'Synthetic',\n",
    "        'A-Turf Titan': 'Synthetic',\n",
    "        'UBU Sports Speed S5-M': 'Synthetic',\n",
    "        'UBU Speed Series S5-M': 'Synthetic',\n",
    "        'Artifical': 'Synthetic',\n",
    "        'UBU Speed Series-S5-M': 'Synthetic',\n",
    "        'FieldTurf 360': 'Synthetic',\n",
    "        'Natural grass': 'Natural',\n",
    "        'Field turf': 'Synthetic',\n",
    "        'Natural': 'Natural',\n",
    "        'Natrual Grass': 'Natural',\n",
    "        'Synthetic': 'Synthetic',\n",
    "        'Natural Grass ': 'Natural',\n",
    "        'Naturall Grass': 'Natural',\n",
    "        'FieldTurf360': 'Synthetic',\n",
    "        None: 'Natural' # The only field with null values is Miami Gardens, which has Natural\n",
    "        }\n",
    "    \n",
    "    df = df.with_columns(pl.col(\"FieldType\").replace(turf_dict))\n",
    "    return df"
   ]
  },
  {
   "cell_type": "code",
   "execution_count": 112,
   "metadata": {},
   "outputs": [
    {
     "data": {
      "text/html": [
       "<div><style>\n",
       ".dataframe > thead > tr,\n",
       ".dataframe > tbody > tr {\n",
       "  text-align: right;\n",
       "  white-space: pre-wrap;\n",
       "}\n",
       "</style>\n",
       "<small>shape: (2, 27)</small><table border=\"1\" class=\"dataframe\"><thead><tr><th>PlayKey</th><th>GSISID</th><th>GameKey</th><th>PlayID</th><th>Position</th><th>Number</th><th>Role</th><th>Game_Date</th><th>YardLine</th><th>Quarter</th><th>Play_Type</th><th>Poss_Team</th><th>Score_Home_Visiting</th><th>Game_Site</th><th>Start_Time</th><th>HomeTeamCode</th><th>VisitTeamCode</th><th>StadiumType</th><th>FieldType</th><th>GameWeather</th><th>Temperature</th><th>Player_Activity_Derived</th><th>Primary_Impact_Type</th><th>Primary_Partner_Activity_Derived</th><th>Primary_Partner_GSISID</th><th>OpponentKey</th><th>IsInjured</th></tr><tr><td>str</td><td>i64</td><td>i64</td><td>i64</td><td>str</td><td>str</td><td>str</td><td>str</td><td>str</td><td>i64</td><td>str</td><td>str</td><td>str</td><td>str</td><td>str</td><td>str</td><td>str</td><td>str</td><td>str</td><td>str</td><td>f64</td><td>str</td><td>str</td><td>str</td><td>i64</td><td>str</td><td>i32</td></tr></thead><tbody><tr><td>&quot;33790-509-2050&quot;</td><td>33790</td><td>509</td><td>2050</td><td>&quot;OLB&quot;</td><td>&quot;50&quot;</td><td>&quot;PLT&quot;</td><td>&quot;10/29/2017&quot;</td><td>&quot;CIN 42&quot;</td><td>2</td><td>&quot;Punt&quot;</td><td>&quot;CIN&quot;</td><td>&quot;10 - 10&quot;</td><td>&quot;Cincinnati&quot;</td><td>&quot;13:00&quot;</td><td>&quot;CIN&quot;</td><td>&quot;IND&quot;</td><td>&quot;Outdoor&quot;</td><td>&quot;Synthetic&quot;</td><td>&quot;Cloudy&quot;</td><td>39.0</td><td>&quot;No_Injury&quot;</td><td>&quot;No_Injury&quot;</td><td>&quot;No_Injury&quot;</td><td>0</td><td>&quot;None&quot;</td><td>0</td></tr><tr><td>&quot;33410-372-2482&quot;</td><td>33410</td><td>372</td><td>2482</td><td>&quot;CB&quot;</td><td>&quot;32&quot;</td><td>&quot;VR&quot;</td><td>&quot;08/24/2017&quot;</td><td>&quot;CAR 44&quot;</td><td>3</td><td>&quot;Punt&quot;</td><td>&quot;JAX&quot;</td><td>&quot;10 - 10&quot;</td><td>&quot;Jacksonville&quot;</td><td>&quot;19:30&quot;</td><td>&quot;JAX&quot;</td><td>&quot;CAR&quot;</td><td>&quot;Outdoor&quot;</td><td>&quot;Natural&quot;</td><td>null</td><td>84.0</td><td>&quot;No_Injury&quot;</td><td>&quot;No_Injury&quot;</td><td>&quot;No_Injury&quot;</td><td>0</td><td>&quot;None&quot;</td><td>0</td></tr></tbody></table></div>"
      ],
      "text/plain": [
       "shape: (2, 27)\n",
       "┌─────────────┬────────┬─────────┬────────┬───┬─────────────┬─────────────┬────────────┬───────────┐\n",
       "│ PlayKey     ┆ GSISID ┆ GameKey ┆ PlayID ┆ … ┆ Primary_Par ┆ Primary_Par ┆ OpponentKe ┆ IsInjured │\n",
       "│ ---         ┆ ---    ┆ ---     ┆ ---    ┆   ┆ tner_Activi ┆ tner_GSISID ┆ y          ┆ ---       │\n",
       "│ str         ┆ i64    ┆ i64     ┆ i64    ┆   ┆ ty_Deriv…   ┆ ---         ┆ ---        ┆ i32       │\n",
       "│             ┆        ┆         ┆        ┆   ┆ ---         ┆ i64         ┆ str        ┆           │\n",
       "│             ┆        ┆         ┆        ┆   ┆ str         ┆             ┆            ┆           │\n",
       "╞═════════════╪════════╪═════════╪════════╪═══╪═════════════╪═════════════╪════════════╪═══════════╡\n",
       "│ 33790-509-2 ┆ 33790  ┆ 509     ┆ 2050   ┆ … ┆ No_Injury   ┆ 0           ┆ None       ┆ 0         │\n",
       "│ 050         ┆        ┆         ┆        ┆   ┆             ┆             ┆            ┆           │\n",
       "│ 33410-372-2 ┆ 33410  ┆ 372     ┆ 2482   ┆ … ┆ No_Injury   ┆ 0           ┆ None       ┆ 0         │\n",
       "│ 482         ┆        ┆         ┆        ┆   ┆             ┆             ┆            ┆           │\n",
       "└─────────────┴────────┴─────────┴────────┴───┴─────────────┴─────────────┴────────────┴───────────┘"
      ]
     },
     "execution_count": 112,
     "metadata": {},
     "output_type": "execute_result"
    }
   ],
   "source": [
    "concussion = turf_cleaner(concussion)\n",
    "concussion.head(2)"
   ]
  },
  {
   "cell_type": "code",
   "execution_count": 136,
   "metadata": {},
   "outputs": [],
   "source": [
    "def cancellation_cleaner(df):\n",
    "    \"\"\"\n",
    "    There are 44 rows that have no Game_Date, which correlate with games that were canceled. \n",
    "    This was verified by looking at the lineup of hometeam and visit team during those seasons.\n",
    "\n",
    "    Additionally, there are 10 rows that lack positions, numbers, or even an identifier to which \n",
    "    team the players were on, totalling 4 undocumented players. These rows will be removed as well.   \n",
    "    \"\"\"\n",
    "    df = df.filter(pl.col(\"Game_Date\").is_not_null())\n",
    "    df = df.filter(pl.col(\"Position\").is_not_null()) # Removes 4 players and 10 rows where the position and player number were not recorded, none associated with injuries\n",
    "\n",
    "    return df\n",
    "    "
   ]
  },
  {
   "cell_type": "code",
   "execution_count": 138,
   "metadata": {},
   "outputs": [
    {
     "data": {
      "text/html": [
       "<div><style>\n",
       ".dataframe > thead > tr,\n",
       ".dataframe > tbody > tr {\n",
       "  text-align: right;\n",
       "  white-space: pre-wrap;\n",
       "}\n",
       "</style>\n",
       "<small>shape: (5, 27)</small><table border=\"1\" class=\"dataframe\"><thead><tr><th>PlayKey</th><th>GSISID</th><th>GameKey</th><th>PlayID</th><th>Position</th><th>Number</th><th>Role</th><th>Game_Date</th><th>YardLine</th><th>Quarter</th><th>Play_Type</th><th>Poss_Team</th><th>Score_Home_Visiting</th><th>Game_Site</th><th>Start_Time</th><th>HomeTeamCode</th><th>VisitTeamCode</th><th>StadiumType</th><th>FieldType</th><th>GameWeather</th><th>Temperature</th><th>Player_Activity_Derived</th><th>Primary_Impact_Type</th><th>Primary_Partner_Activity_Derived</th><th>Primary_Partner_GSISID</th><th>OpponentKey</th><th>IsInjured</th></tr><tr><td>str</td><td>i64</td><td>i64</td><td>i64</td><td>str</td><td>str</td><td>str</td><td>str</td><td>str</td><td>i64</td><td>str</td><td>str</td><td>str</td><td>str</td><td>str</td><td>str</td><td>str</td><td>str</td><td>str</td><td>str</td><td>f64</td><td>str</td><td>str</td><td>str</td><td>i64</td><td>str</td><td>i32</td></tr></thead><tbody><tr><td>&quot;33790-509-2050&quot;</td><td>33790</td><td>509</td><td>2050</td><td>&quot;OLB&quot;</td><td>&quot;50&quot;</td><td>&quot;PLT&quot;</td><td>&quot;10/29/2017&quot;</td><td>&quot;CIN 42&quot;</td><td>2</td><td>&quot;Punt&quot;</td><td>&quot;CIN&quot;</td><td>&quot;10 - 10&quot;</td><td>&quot;Cincinnati&quot;</td><td>&quot;13:00&quot;</td><td>&quot;CIN&quot;</td><td>&quot;IND&quot;</td><td>&quot;Outdoor&quot;</td><td>&quot;Synthetic&quot;</td><td>&quot;Cloudy&quot;</td><td>39.0</td><td>&quot;No_Injury&quot;</td><td>&quot;No_Injury&quot;</td><td>&quot;No_Injury&quot;</td><td>0</td><td>&quot;None&quot;</td><td>0</td></tr><tr><td>&quot;33410-372-2482&quot;</td><td>33410</td><td>372</td><td>2482</td><td>&quot;CB&quot;</td><td>&quot;32&quot;</td><td>&quot;VR&quot;</td><td>&quot;08/24/2017&quot;</td><td>&quot;CAR 44&quot;</td><td>3</td><td>&quot;Punt&quot;</td><td>&quot;JAX&quot;</td><td>&quot;10 - 10&quot;</td><td>&quot;Jacksonville&quot;</td><td>&quot;19:30&quot;</td><td>&quot;JAX&quot;</td><td>&quot;CAR&quot;</td><td>&quot;Outdoor&quot;</td><td>&quot;Natural&quot;</td><td>null</td><td>84.0</td><td>&quot;No_Injury&quot;</td><td>&quot;No_Injury&quot;</td><td>&quot;No_Injury&quot;</td><td>0</td><td>&quot;None&quot;</td><td>0</td></tr><tr><td>&quot;31364-86-1283&quot;</td><td>31364</td><td>86</td><td>1283</td><td>&quot;OLB&quot;</td><td>&quot;90&quot;</td><td>&quot;PDR4&quot;</td><td>&quot;09/18/2016&quot;</td><td>&quot;KC 45&quot;</td><td>2</td><td>&quot;Punt&quot;</td><td>&quot;KC&quot;</td><td>&quot;7 - 3&quot;</td><td>&quot;Houston&quot;</td><td>&quot;12:00&quot;</td><td>&quot;HST&quot;</td><td>&quot;KC&quot;</td><td>&quot;Indoor&quot;</td><td>&quot;Synthetic&quot;</td><td>&quot;Partly Cloudy&quot;</td><td>91.0</td><td>&quot;No_Injury&quot;</td><td>&quot;No_Injury&quot;</td><td>&quot;No_Injury&quot;</td><td>0</td><td>&quot;None&quot;</td><td>0</td></tr><tr><td>&quot;31793-500-2927&quot;</td><td>31793</td><td>500</td><td>2927</td><td>&quot;RB&quot;</td><td>&quot;35&quot;</td><td>&quot;PDL2&quot;</td><td>&quot;10/22/2017&quot;</td><td>&quot;CIN 38&quot;</td><td>4</td><td>&quot;Punt&quot;</td><td>&quot;CIN&quot;</td><td>&quot;26 - 14&quot;</td><td>&quot;Pittsburgh&quot;</td><td>&quot;16:25&quot;</td><td>&quot;PIT&quot;</td><td>&quot;CIN&quot;</td><td>&quot;Outdoor&quot;</td><td>&quot;Natural&quot;</td><td>&quot;Sunny&quot;</td><td>79.0</td><td>&quot;No_Injury&quot;</td><td>&quot;No_Injury&quot;</td><td>&quot;No_Injury&quot;</td><td>0</td><td>&quot;None&quot;</td><td>0</td></tr><tr><td>&quot;30405-264-734&quot;</td><td>30405</td><td>264</td><td>734</td><td>&quot;P&quot;</td><td>&quot;18&quot;</td><td>&quot;P&quot;</td><td>&quot;12/11/2016&quot;</td><td>&quot;MIN 23&quot;</td><td>1</td><td>&quot;Punt&quot;</td><td>&quot;MIN&quot;</td><td>&quot;0 - 6&quot;</td><td>&quot;Jacksonville&quot;</td><td>&quot;13:00&quot;</td><td>&quot;JAX&quot;</td><td>&quot;MIN&quot;</td><td>&quot;Outdoor&quot;</td><td>&quot;Natural&quot;</td><td>null</td><td>71.0</td><td>&quot;No_Injury&quot;</td><td>&quot;No_Injury&quot;</td><td>&quot;No_Injury&quot;</td><td>0</td><td>&quot;None&quot;</td><td>0</td></tr></tbody></table></div>"
      ],
      "text/plain": [
       "shape: (5, 27)\n",
       "┌─────────────┬────────┬─────────┬────────┬───┬─────────────┬─────────────┬────────────┬───────────┐\n",
       "│ PlayKey     ┆ GSISID ┆ GameKey ┆ PlayID ┆ … ┆ Primary_Par ┆ Primary_Par ┆ OpponentKe ┆ IsInjured │\n",
       "│ ---         ┆ ---    ┆ ---     ┆ ---    ┆   ┆ tner_Activi ┆ tner_GSISID ┆ y          ┆ ---       │\n",
       "│ str         ┆ i64    ┆ i64     ┆ i64    ┆   ┆ ty_Deriv…   ┆ ---         ┆ ---        ┆ i32       │\n",
       "│             ┆        ┆         ┆        ┆   ┆ ---         ┆ i64         ┆ str        ┆           │\n",
       "│             ┆        ┆         ┆        ┆   ┆ str         ┆             ┆            ┆           │\n",
       "╞═════════════╪════════╪═════════╪════════╪═══╪═════════════╪═════════════╪════════════╪═══════════╡\n",
       "│ 33790-509-2 ┆ 33790  ┆ 509     ┆ 2050   ┆ … ┆ No_Injury   ┆ 0           ┆ None       ┆ 0         │\n",
       "│ 050         ┆        ┆         ┆        ┆   ┆             ┆             ┆            ┆           │\n",
       "│ 33410-372-2 ┆ 33410  ┆ 372     ┆ 2482   ┆ … ┆ No_Injury   ┆ 0           ┆ None       ┆ 0         │\n",
       "│ 482         ┆        ┆         ┆        ┆   ┆             ┆             ┆            ┆           │\n",
       "│ 31364-86-12 ┆ 31364  ┆ 86      ┆ 1283   ┆ … ┆ No_Injury   ┆ 0           ┆ None       ┆ 0         │\n",
       "│ 83          ┆        ┆         ┆        ┆   ┆             ┆             ┆            ┆           │\n",
       "│ 31793-500-2 ┆ 31793  ┆ 500     ┆ 2927   ┆ … ┆ No_Injury   ┆ 0           ┆ None       ┆ 0         │\n",
       "│ 927         ┆        ┆         ┆        ┆   ┆             ┆             ┆            ┆           │\n",
       "│ 30405-264-7 ┆ 30405  ┆ 264     ┆ 734    ┆ … ┆ No_Injury   ┆ 0           ┆ None       ┆ 0         │\n",
       "│ 34          ┆        ┆         ┆        ┆   ┆             ┆             ┆            ┆           │\n",
       "└─────────────┴────────┴─────────┴────────┴───┴─────────────┴─────────────┴────────────┴───────────┘"
      ]
     },
     "execution_count": 138,
     "metadata": {},
     "output_type": "execute_result"
    }
   ],
   "source": [
    "concussion = cancellation_cleaner(concussion)\n",
    "concussion.head(2)"
   ]
  },
  {
   "cell_type": "code",
   "execution_count": 143,
   "metadata": {},
   "outputs": [
    {
     "data": {
      "text/html": [
       "<div><style>\n",
       ".dataframe > thead > tr,\n",
       ".dataframe > tbody > tr {\n",
       "  text-align: right;\n",
       "  white-space: pre-wrap;\n",
       "}\n",
       "</style>\n",
       "<small>shape: (1, 27)</small><table border=\"1\" class=\"dataframe\"><thead><tr><th>PlayKey</th><th>GSISID</th><th>GameKey</th><th>PlayID</th><th>Position</th><th>Number</th><th>Role</th><th>Game_Date</th><th>YardLine</th><th>Quarter</th><th>Play_Type</th><th>Poss_Team</th><th>Score_Home_Visiting</th><th>Game_Site</th><th>Start_Time</th><th>HomeTeamCode</th><th>VisitTeamCode</th><th>StadiumType</th><th>FieldType</th><th>GameWeather</th><th>Temperature</th><th>Player_Activity_Derived</th><th>Primary_Impact_Type</th><th>Primary_Partner_Activity_Derived</th><th>Primary_Partner_GSISID</th><th>OpponentKey</th><th>IsInjured</th></tr><tr><td>u32</td><td>u32</td><td>u32</td><td>u32</td><td>u32</td><td>u32</td><td>u32</td><td>u32</td><td>u32</td><td>u32</td><td>u32</td><td>u32</td><td>u32</td><td>u32</td><td>u32</td><td>u32</td><td>u32</td><td>u32</td><td>u32</td><td>u32</td><td>u32</td><td>u32</td><td>u32</td><td>u32</td><td>u32</td><td>u32</td><td>u32</td></tr></thead><tbody><tr><td>0</td><td>0</td><td>0</td><td>0</td><td>0</td><td>0</td><td>0</td><td>0</td><td>0</td><td>0</td><td>0</td><td>0</td><td>0</td><td>0</td><td>0</td><td>0</td><td>0</td><td>0</td><td>0</td><td>29416</td><td>17838</td><td>0</td><td>0</td><td>0</td><td>0</td><td>0</td><td>0</td></tr></tbody></table></div>"
      ],
      "text/plain": [
       "shape: (1, 27)\n",
       "┌─────────┬────────┬─────────┬────────┬───┬───────────────┬──────────────┬─────────────┬───────────┐\n",
       "│ PlayKey ┆ GSISID ┆ GameKey ┆ PlayID ┆ … ┆ Primary_Partn ┆ Primary_Part ┆ OpponentKey ┆ IsInjured │\n",
       "│ ---     ┆ ---    ┆ ---     ┆ ---    ┆   ┆ er_Activity_D ┆ ner_GSISID   ┆ ---         ┆ ---       │\n",
       "│ u32     ┆ u32    ┆ u32     ┆ u32    ┆   ┆ eriv…         ┆ ---          ┆ u32         ┆ u32       │\n",
       "│         ┆        ┆         ┆        ┆   ┆ ---           ┆ u32          ┆             ┆           │\n",
       "│         ┆        ┆         ┆        ┆   ┆ u32           ┆              ┆             ┆           │\n",
       "╞═════════╪════════╪═════════╪════════╪═══╪═══════════════╪══════════════╪═════════════╪═══════════╡\n",
       "│ 0       ┆ 0      ┆ 0       ┆ 0      ┆ … ┆ 0             ┆ 0            ┆ 0           ┆ 0         │\n",
       "└─────────┴────────┴─────────┴────────┴───┴───────────────┴──────────────┴─────────────┴───────────┘"
      ]
     },
     "execution_count": 143,
     "metadata": {},
     "output_type": "execute_result"
    }
   ],
   "source": [
    "concussion.null_count()"
   ]
  },
  {
   "cell_type": "code",
   "execution_count": 141,
   "metadata": {},
   "outputs": [],
   "source": [
    "def score_splitter(df):\n",
    "    ''' \n",
    "    Splits the string column from Score_Home_Visiting into two numeric columns for each of the scores. It also creates a column that calculates the difference. \n",
    "    '''\n",
    "    import polars as pl # type: ignore\n",
    "\n",
    "    df = df.with_columns([\n",
    "        pl.col(\"Score_Home_Visiting\").str.extract(r\"(\\d+)\\s*-\\s*(\\d+)\", 1).cast(pl.Int16).alias(\"Home_Score\")\n",
    "        , pl.col(\"Score_Home_Visiting\").str.extract(r\"(\\d+)\\s*-\\s*(\\d+)\", 2).cast(pl.Int16).alias(\"Visiting_Score\") # Find difference between scores\n",
    "        ])\n",
    "\n",
    "    df = df.with_columns([\n",
    "        (pl.col(\"Home_Score\") - pl.col(\"Visiting_Score\")).cast(pl.Int16).alias(\"Score_Difference\")\n",
    "        ])\n",
    "    \n",
    "    df = df.drop(\"Score_Home_Visiting\")\n",
    "    \n",
    "    print(f\"The scores have been fixed. Just not how Pete Rose would fix them.\")\n",
    "    return df"
   ]
  },
  {
   "cell_type": "code",
   "execution_count": 142,
   "metadata": {},
   "outputs": [
    {
     "name": "stdout",
     "output_type": "stream",
     "text": [
      "The scores have been fixed. Just not how Pete Rose would fix them.\n"
     ]
    },
    {
     "data": {
      "text/html": [
       "<div><style>\n",
       ".dataframe > thead > tr,\n",
       ".dataframe > tbody > tr {\n",
       "  text-align: right;\n",
       "  white-space: pre-wrap;\n",
       "}\n",
       "</style>\n",
       "<small>shape: (5, 29)</small><table border=\"1\" class=\"dataframe\"><thead><tr><th>PlayKey</th><th>GSISID</th><th>GameKey</th><th>PlayID</th><th>Position</th><th>Number</th><th>Role</th><th>Game_Date</th><th>YardLine</th><th>Quarter</th><th>Play_Type</th><th>Poss_Team</th><th>Game_Site</th><th>Start_Time</th><th>HomeTeamCode</th><th>VisitTeamCode</th><th>StadiumType</th><th>FieldType</th><th>GameWeather</th><th>Temperature</th><th>Player_Activity_Derived</th><th>Primary_Impact_Type</th><th>Primary_Partner_Activity_Derived</th><th>Primary_Partner_GSISID</th><th>OpponentKey</th><th>IsInjured</th><th>Home_Score</th><th>Visiting_Score</th><th>Score_Difference</th></tr><tr><td>str</td><td>i64</td><td>i64</td><td>i64</td><td>str</td><td>str</td><td>str</td><td>str</td><td>str</td><td>i64</td><td>str</td><td>str</td><td>str</td><td>str</td><td>str</td><td>str</td><td>str</td><td>str</td><td>str</td><td>f64</td><td>str</td><td>str</td><td>str</td><td>i64</td><td>str</td><td>i32</td><td>i16</td><td>i16</td><td>i16</td></tr></thead><tbody><tr><td>&quot;33790-509-2050&quot;</td><td>33790</td><td>509</td><td>2050</td><td>&quot;OLB&quot;</td><td>&quot;50&quot;</td><td>&quot;PLT&quot;</td><td>&quot;10/29/2017&quot;</td><td>&quot;CIN 42&quot;</td><td>2</td><td>&quot;Punt&quot;</td><td>&quot;CIN&quot;</td><td>&quot;Cincinnati&quot;</td><td>&quot;13:00&quot;</td><td>&quot;CIN&quot;</td><td>&quot;IND&quot;</td><td>&quot;Outdoor&quot;</td><td>&quot;Synthetic&quot;</td><td>&quot;Cloudy&quot;</td><td>39.0</td><td>&quot;No_Injury&quot;</td><td>&quot;No_Injury&quot;</td><td>&quot;No_Injury&quot;</td><td>0</td><td>&quot;None&quot;</td><td>0</td><td>10</td><td>10</td><td>0</td></tr><tr><td>&quot;33410-372-2482&quot;</td><td>33410</td><td>372</td><td>2482</td><td>&quot;CB&quot;</td><td>&quot;32&quot;</td><td>&quot;VR&quot;</td><td>&quot;08/24/2017&quot;</td><td>&quot;CAR 44&quot;</td><td>3</td><td>&quot;Punt&quot;</td><td>&quot;JAX&quot;</td><td>&quot;Jacksonville&quot;</td><td>&quot;19:30&quot;</td><td>&quot;JAX&quot;</td><td>&quot;CAR&quot;</td><td>&quot;Outdoor&quot;</td><td>&quot;Natural&quot;</td><td>null</td><td>84.0</td><td>&quot;No_Injury&quot;</td><td>&quot;No_Injury&quot;</td><td>&quot;No_Injury&quot;</td><td>0</td><td>&quot;None&quot;</td><td>0</td><td>10</td><td>10</td><td>0</td></tr><tr><td>&quot;31364-86-1283&quot;</td><td>31364</td><td>86</td><td>1283</td><td>&quot;OLB&quot;</td><td>&quot;90&quot;</td><td>&quot;PDR4&quot;</td><td>&quot;09/18/2016&quot;</td><td>&quot;KC 45&quot;</td><td>2</td><td>&quot;Punt&quot;</td><td>&quot;KC&quot;</td><td>&quot;Houston&quot;</td><td>&quot;12:00&quot;</td><td>&quot;HST&quot;</td><td>&quot;KC&quot;</td><td>&quot;Indoor&quot;</td><td>&quot;Synthetic&quot;</td><td>&quot;Partly Cloudy&quot;</td><td>91.0</td><td>&quot;No_Injury&quot;</td><td>&quot;No_Injury&quot;</td><td>&quot;No_Injury&quot;</td><td>0</td><td>&quot;None&quot;</td><td>0</td><td>7</td><td>3</td><td>4</td></tr><tr><td>&quot;31793-500-2927&quot;</td><td>31793</td><td>500</td><td>2927</td><td>&quot;RB&quot;</td><td>&quot;35&quot;</td><td>&quot;PDL2&quot;</td><td>&quot;10/22/2017&quot;</td><td>&quot;CIN 38&quot;</td><td>4</td><td>&quot;Punt&quot;</td><td>&quot;CIN&quot;</td><td>&quot;Pittsburgh&quot;</td><td>&quot;16:25&quot;</td><td>&quot;PIT&quot;</td><td>&quot;CIN&quot;</td><td>&quot;Outdoor&quot;</td><td>&quot;Natural&quot;</td><td>&quot;Sunny&quot;</td><td>79.0</td><td>&quot;No_Injury&quot;</td><td>&quot;No_Injury&quot;</td><td>&quot;No_Injury&quot;</td><td>0</td><td>&quot;None&quot;</td><td>0</td><td>26</td><td>14</td><td>12</td></tr><tr><td>&quot;30405-264-734&quot;</td><td>30405</td><td>264</td><td>734</td><td>&quot;P&quot;</td><td>&quot;18&quot;</td><td>&quot;P&quot;</td><td>&quot;12/11/2016&quot;</td><td>&quot;MIN 23&quot;</td><td>1</td><td>&quot;Punt&quot;</td><td>&quot;MIN&quot;</td><td>&quot;Jacksonville&quot;</td><td>&quot;13:00&quot;</td><td>&quot;JAX&quot;</td><td>&quot;MIN&quot;</td><td>&quot;Outdoor&quot;</td><td>&quot;Natural&quot;</td><td>null</td><td>71.0</td><td>&quot;No_Injury&quot;</td><td>&quot;No_Injury&quot;</td><td>&quot;No_Injury&quot;</td><td>0</td><td>&quot;None&quot;</td><td>0</td><td>0</td><td>6</td><td>-6</td></tr></tbody></table></div>"
      ],
      "text/plain": [
       "shape: (5, 29)\n",
       "┌─────────────┬────────┬─────────┬────────┬───┬───────────┬────────────┬─────────────┬─────────────┐\n",
       "│ PlayKey     ┆ GSISID ┆ GameKey ┆ PlayID ┆ … ┆ IsInjured ┆ Home_Score ┆ Visiting_Sc ┆ Score_Diffe │\n",
       "│ ---         ┆ ---    ┆ ---     ┆ ---    ┆   ┆ ---       ┆ ---        ┆ ore         ┆ rence       │\n",
       "│ str         ┆ i64    ┆ i64     ┆ i64    ┆   ┆ i32       ┆ i16        ┆ ---         ┆ ---         │\n",
       "│             ┆        ┆         ┆        ┆   ┆           ┆            ┆ i16         ┆ i16         │\n",
       "╞═════════════╪════════╪═════════╪════════╪═══╪═══════════╪════════════╪═════════════╪═════════════╡\n",
       "│ 33790-509-2 ┆ 33790  ┆ 509     ┆ 2050   ┆ … ┆ 0         ┆ 10         ┆ 10          ┆ 0           │\n",
       "│ 050         ┆        ┆         ┆        ┆   ┆           ┆            ┆             ┆             │\n",
       "│ 33410-372-2 ┆ 33410  ┆ 372     ┆ 2482   ┆ … ┆ 0         ┆ 10         ┆ 10          ┆ 0           │\n",
       "│ 482         ┆        ┆         ┆        ┆   ┆           ┆            ┆             ┆             │\n",
       "│ 31364-86-12 ┆ 31364  ┆ 86      ┆ 1283   ┆ … ┆ 0         ┆ 7          ┆ 3           ┆ 4           │\n",
       "│ 83          ┆        ┆         ┆        ┆   ┆           ┆            ┆             ┆             │\n",
       "│ 31793-500-2 ┆ 31793  ┆ 500     ┆ 2927   ┆ … ┆ 0         ┆ 26         ┆ 14          ┆ 12          │\n",
       "│ 927         ┆        ┆         ┆        ┆   ┆           ┆            ┆             ┆             │\n",
       "│ 30405-264-7 ┆ 30405  ┆ 264     ┆ 734    ┆ … ┆ 0         ┆ 0          ┆ 6           ┆ -6          │\n",
       "│ 34          ┆        ┆         ┆        ┆   ┆           ┆            ┆             ┆             │\n",
       "└─────────────┴────────┴─────────┴────────┴───┴───────────┴────────────┴─────────────┴─────────────┘"
      ]
     },
     "execution_count": 142,
     "metadata": {},
     "output_type": "execute_result"
    }
   ],
   "source": [
    "score_splitter(concussion).head()"
   ]
  },
  {
   "cell_type": "code",
   "execution_count": 3,
   "metadata": {},
   "outputs": [],
   "source": [
    "import polars as pl\n",
    "video = pl.read_csv(\"F:/Data/NFL-Punt-Analytics-Competition/video_footage-injury.csv\")\n",
    "review = pl.read_csv(\"F:/Data/NFL-Punt-Analytics-Competition/video_review.csv\")"
   ]
  },
  {
   "cell_type": "code",
   "execution_count": 4,
   "metadata": {},
   "outputs": [
    {
     "data": {
      "text/html": [
       "<div><style>\n",
       ".dataframe > thead > tr,\n",
       ".dataframe > tbody > tr {\n",
       "  text-align: right;\n",
       "  white-space: pre-wrap;\n",
       "}\n",
       "</style>\n",
       "<small>shape: (5, 10)</small><table border=\"1\" class=\"dataframe\"><thead><tr><th>season</th><th>Type</th><th>Week</th><th>Home_team</th><th>Visit_Team</th><th>Qtr</th><th>PlayDescription</th><th>gamekey</th><th>playid</th><th>PREVIEW LINK (5000K)</th></tr><tr><td>i64</td><td>str</td><td>i64</td><td>str</td><td>str</td><td>i64</td><td>str</td><td>i64</td><td>i64</td><td>str</td></tr></thead><tbody><tr><td>2016</td><td>&quot;Pre&quot;</td><td>2</td><td>&quot;Chicago Bears&quot;</td><td>&quot;Denver Broncos&quot;</td><td>3</td><td>&quot;(3:44) (Punt formation) P.O&#x27;Do…</td><td>56840</td><td>3129</td><td>&quot;http://a.video.nfl.com//films/…</td></tr><tr><td>2016</td><td>&quot;Pre&quot;</td><td>3</td><td>&quot;Tennessee Titans&quot;</td><td>&quot;Carolina Panthers&quot;</td><td>3</td><td>&quot;(5:52) (Punt formation) K.Redf…</td><td>56856</td><td>2587</td><td>&quot;http://a.video.nfl.com//films/…</td></tr><tr><td>2016</td><td>&quot;Pre&quot;</td><td>3</td><td>&quot;Washington Redskins&quot;</td><td>&quot;New York Jets&quot;</td><td>1</td><td>&quot;(4:46) L.Edwards punts 51 yard…</td><td>56864</td><td>538</td><td>&quot;http://a.video.nfl.com//films/…</td></tr><tr><td>2016</td><td>&quot;Pre&quot;</td><td>4</td><td>&quot;New York Jets&quot;</td><td>&quot;New York Giants&quot;</td><td>2</td><td>&quot;(8:29) B.Wing punts 44 yards t…</td><td>56880</td><td>1212</td><td>&quot;http://a.video.nfl.com//films/…</td></tr><tr><td>2016</td><td>&quot;Pre&quot;</td><td>5</td><td>&quot;Detroit Lions&quot;</td><td>&quot;Buffalo Bills&quot;</td><td>1</td><td>&quot;(:38) C.Schmidt punts 46 yards…</td><td>56895</td><td>905</td><td>&quot;http://a.video.nfl.com//films/…</td></tr></tbody></table></div>"
      ],
      "text/plain": [
       "shape: (5, 10)\n",
       "┌────────┬──────┬──────┬─────────────────┬───┬─────────────────┬─────────┬────────┬────────────────┐\n",
       "│ season ┆ Type ┆ Week ┆ Home_team       ┆ … ┆ PlayDescription ┆ gamekey ┆ playid ┆ PREVIEW LINK   │\n",
       "│ ---    ┆ ---  ┆ ---  ┆ ---             ┆   ┆ ---             ┆ ---     ┆ ---    ┆ (5000K)        │\n",
       "│ i64    ┆ str  ┆ i64  ┆ str             ┆   ┆ str             ┆ i64     ┆ i64    ┆ ---            │\n",
       "│        ┆      ┆      ┆                 ┆   ┆                 ┆         ┆        ┆ str            │\n",
       "╞════════╪══════╪══════╪═════════════════╪═══╪═════════════════╪═════════╪════════╪════════════════╡\n",
       "│ 2016   ┆ Pre  ┆ 2    ┆ Chicago Bears   ┆ … ┆ (3:44) (Punt    ┆ 56840   ┆ 3129   ┆ http://a.video │\n",
       "│        ┆      ┆      ┆                 ┆   ┆ formation)      ┆         ┆        ┆ .nfl.com//film │\n",
       "│        ┆      ┆      ┆                 ┆   ┆ P.O'Do…         ┆         ┆        ┆ s/…            │\n",
       "│ 2016   ┆ Pre  ┆ 3    ┆ Tennessee       ┆ … ┆ (5:52) (Punt    ┆ 56856   ┆ 2587   ┆ http://a.video │\n",
       "│        ┆      ┆      ┆ Titans          ┆   ┆ formation)      ┆         ┆        ┆ .nfl.com//film │\n",
       "│        ┆      ┆      ┆                 ┆   ┆ K.Redf…         ┆         ┆        ┆ s/…            │\n",
       "│ 2016   ┆ Pre  ┆ 3    ┆ Washington      ┆ … ┆ (4:46)          ┆ 56864   ┆ 538    ┆ http://a.video │\n",
       "│        ┆      ┆      ┆ Redskins        ┆   ┆ L.Edwards punts ┆         ┆        ┆ .nfl.com//film │\n",
       "│        ┆      ┆      ┆                 ┆   ┆ 51 yard…        ┆         ┆        ┆ s/…            │\n",
       "│ 2016   ┆ Pre  ┆ 4    ┆ New York Jets   ┆ … ┆ (8:29) B.Wing   ┆ 56880   ┆ 1212   ┆ http://a.video │\n",
       "│        ┆      ┆      ┆                 ┆   ┆ punts 44 yards  ┆         ┆        ┆ .nfl.com//film │\n",
       "│        ┆      ┆      ┆                 ┆   ┆ t…              ┆         ┆        ┆ s/…            │\n",
       "│ 2016   ┆ Pre  ┆ 5    ┆ Detroit Lions   ┆ … ┆ (:38) C.Schmidt ┆ 56895   ┆ 905    ┆ http://a.video │\n",
       "│        ┆      ┆      ┆                 ┆   ┆ punts 46 yards… ┆         ┆        ┆ .nfl.com//film │\n",
       "│        ┆      ┆      ┆                 ┆   ┆                 ┆         ┆        ┆ s/…            │\n",
       "└────────┴──────┴──────┴─────────────────┴───┴─────────────────┴─────────┴────────┴────────────────┘"
      ]
     },
     "execution_count": 4,
     "metadata": {},
     "output_type": "execute_result"
    }
   ],
   "source": [
    "video.head()"
   ]
  },
  {
   "cell_type": "code",
   "execution_count": 5,
   "metadata": {},
   "outputs": [
    {
     "data": {
      "text/html": [
       "<div><style>\n",
       ".dataframe > thead > tr,\n",
       ".dataframe > tbody > tr {\n",
       "  text-align: right;\n",
       "  white-space: pre-wrap;\n",
       "}\n",
       "</style>\n",
       "<small>shape: (5, 10)</small><table border=\"1\" class=\"dataframe\"><thead><tr><th>Season_Year</th><th>GameKey</th><th>PlayID</th><th>GSISID</th><th>Player_Activity_Derived</th><th>Turnover_Related</th><th>Primary_Impact_Type</th><th>Primary_Partner_GSISID</th><th>Primary_Partner_Activity_Derived</th><th>Friendly_Fire</th></tr><tr><td>i64</td><td>i64</td><td>i64</td><td>i64</td><td>str</td><td>str</td><td>str</td><td>str</td><td>str</td><td>str</td></tr></thead><tbody><tr><td>2016</td><td>5</td><td>3129</td><td>31057</td><td>&quot;Tackling&quot;</td><td>&quot;No&quot;</td><td>&quot;Helmet-to-body&quot;</td><td>&quot;32482&quot;</td><td>&quot;Tackled&quot;</td><td>&quot;No&quot;</td></tr><tr><td>2016</td><td>21</td><td>2587</td><td>29343</td><td>&quot;Blocked&quot;</td><td>&quot;No&quot;</td><td>&quot;Helmet-to-helmet&quot;</td><td>&quot;31059&quot;</td><td>&quot;Blocking&quot;</td><td>&quot;No&quot;</td></tr><tr><td>2016</td><td>29</td><td>538</td><td>31023</td><td>&quot;Tackling&quot;</td><td>&quot;No&quot;</td><td>&quot;Helmet-to-body&quot;</td><td>&quot;31941&quot;</td><td>&quot;Tackled&quot;</td><td>&quot;No&quot;</td></tr><tr><td>2016</td><td>45</td><td>1212</td><td>33121</td><td>&quot;Tackling&quot;</td><td>&quot;No&quot;</td><td>&quot;Helmet-to-body&quot;</td><td>&quot;28249&quot;</td><td>&quot;Tackled&quot;</td><td>&quot;No&quot;</td></tr><tr><td>2016</td><td>54</td><td>1045</td><td>32444</td><td>&quot;Blocked&quot;</td><td>&quot;No&quot;</td><td>&quot;Helmet-to-body&quot;</td><td>&quot;31756&quot;</td><td>&quot;Blocked&quot;</td><td>&quot;Yes&quot;</td></tr></tbody></table></div>"
      ],
      "text/plain": [
       "shape: (5, 10)\n",
       "┌─────────────┬─────────┬────────┬────────┬───┬─────────────┬────────────┬────────────┬────────────┐\n",
       "│ Season_Year ┆ GameKey ┆ PlayID ┆ GSISID ┆ … ┆ Primary_Imp ┆ Primary_Pa ┆ Primary_Pa ┆ Friendly_F │\n",
       "│ ---         ┆ ---     ┆ ---    ┆ ---    ┆   ┆ act_Type    ┆ rtner_GSIS ┆ rtner_Acti ┆ ire        │\n",
       "│ i64         ┆ i64     ┆ i64    ┆ i64    ┆   ┆ ---         ┆ ID         ┆ vity_Deriv ┆ ---        │\n",
       "│             ┆         ┆        ┆        ┆   ┆ str         ┆ ---        ┆ …          ┆ str        │\n",
       "│             ┆         ┆        ┆        ┆   ┆             ┆ str        ┆ ---        ┆            │\n",
       "│             ┆         ┆        ┆        ┆   ┆             ┆            ┆ str        ┆            │\n",
       "╞═════════════╪═════════╪════════╪════════╪═══╪═════════════╪════════════╪════════════╪════════════╡\n",
       "│ 2016        ┆ 5       ┆ 3129   ┆ 31057  ┆ … ┆ Helmet-to-b ┆ 32482      ┆ Tackled    ┆ No         │\n",
       "│             ┆         ┆        ┆        ┆   ┆ ody         ┆            ┆            ┆            │\n",
       "│ 2016        ┆ 21      ┆ 2587   ┆ 29343  ┆ … ┆ Helmet-to-h ┆ 31059      ┆ Blocking   ┆ No         │\n",
       "│             ┆         ┆        ┆        ┆   ┆ elmet       ┆            ┆            ┆            │\n",
       "│ 2016        ┆ 29      ┆ 538    ┆ 31023  ┆ … ┆ Helmet-to-b ┆ 31941      ┆ Tackled    ┆ No         │\n",
       "│             ┆         ┆        ┆        ┆   ┆ ody         ┆            ┆            ┆            │\n",
       "│ 2016        ┆ 45      ┆ 1212   ┆ 33121  ┆ … ┆ Helmet-to-b ┆ 28249      ┆ Tackled    ┆ No         │\n",
       "│             ┆         ┆        ┆        ┆   ┆ ody         ┆            ┆            ┆            │\n",
       "│ 2016        ┆ 54      ┆ 1045   ┆ 32444  ┆ … ┆ Helmet-to-b ┆ 31756      ┆ Blocked    ┆ Yes        │\n",
       "│             ┆         ┆        ┆        ┆   ┆ ody         ┆            ┆            ┆            │\n",
       "└─────────────┴─────────┴────────┴────────┴───┴─────────────┴────────────┴────────────┴────────────┘"
      ]
     },
     "execution_count": 5,
     "metadata": {},
     "output_type": "execute_result"
    }
   ],
   "source": [
    "review.head()"
   ]
  },
  {
   "cell_type": "code",
   "execution_count": 6,
   "metadata": {},
   "outputs": [],
   "source": [
    "unique_plays = review[\"PlayID\"].unique().to_list()\n",
    "time_df = pl.DataFrame({\n",
    "    \"PlayID\": unique_plays\n",
    "    , \"Time\": [None]*len(unique_plays)\n",
    "})"
   ]
  },
  {
   "cell_type": "code",
   "execution_count": 7,
   "metadata": {},
   "outputs": [
    {
     "data": {
      "text/html": [
       "<div><style>\n",
       ".dataframe > thead > tr,\n",
       ".dataframe > tbody > tr {\n",
       "  text-align: right;\n",
       "  white-space: pre-wrap;\n",
       "}\n",
       "</style>\n",
       "<small>shape: (35, 2)</small><table border=\"1\" class=\"dataframe\"><thead><tr><th>PlayID</th><th>Time</th></tr><tr><td>i64</td><td>null</td></tr></thead><tbody><tr><td>183</td><td>null</td></tr><tr><td>538</td><td>null</td></tr><tr><td>602</td><td>null</td></tr><tr><td>733</td><td>null</td></tr><tr><td>905</td><td>null</td></tr><tr><td>&hellip;</td><td>&hellip;</td></tr><tr><td>3509</td><td>null</td></tr><tr><td>3609</td><td>null</td></tr><tr><td>3630</td><td>null</td></tr><tr><td>3663</td><td>null</td></tr><tr><td>3746</td><td>null</td></tr></tbody></table></div>"
      ],
      "text/plain": [
       "shape: (35, 2)\n",
       "┌────────┬──────┐\n",
       "│ PlayID ┆ Time │\n",
       "│ ---    ┆ ---  │\n",
       "│ i64    ┆ null │\n",
       "╞════════╪══════╡\n",
       "│ 183    ┆ null │\n",
       "│ 538    ┆ null │\n",
       "│ 602    ┆ null │\n",
       "│ 733    ┆ null │\n",
       "│ 905    ┆ null │\n",
       "│ …      ┆ …    │\n",
       "│ 3509   ┆ null │\n",
       "│ 3609   ┆ null │\n",
       "│ 3630   ┆ null │\n",
       "│ 3663   ┆ null │\n",
       "│ 3746   ┆ null │\n",
       "└────────┴──────┘"
      ]
     },
     "execution_count": 7,
     "metadata": {},
     "output_type": "execute_result"
    }
   ],
   "source": [
    "time_df"
   ]
  },
  {
   "cell_type": "code",
   "execution_count": 8,
   "metadata": {},
   "outputs": [],
   "source": [
    "def update_time(play_id, new_time):\n",
    "    global time_df\n",
    "    time_df = time_df.with_columns(\n",
    "        pl.when(pl.col(\"PlayID\") == play_id)\n",
    "        .then(new_time)\n",
    "        .otherwise(pl.col(\"Time\"))\n",
    "        .alias(\"Time\")\n",
    "    )"
   ]
  },
  {
   "cell_type": "code",
   "execution_count": 10,
   "metadata": {},
   "outputs": [],
   "source": [
    "update_time(2902, 9.7)\n",
    "update_time(3609, 21.6)\n",
    "update_time(3312, 12.9)\n",
    "update_time(1988, 25.5)\n",
    "update_time(3509, 15.5)\n",
    "update_time(3746, 27.2)\n",
    "update_time(3663, 23.6)\n",
    "update_time(3278, 22.6)\n",
    "update_time(3468, 12.7)\n",
    "update_time(1526, 13.3)\n",
    "update_time(2072, 23.7)\n",
    "update_time(978, 21.1)\n",
    "update_time(3630, 35.6)"
   ]
  },
  {
   "cell_type": "code",
   "execution_count": 12,
   "metadata": {},
   "outputs": [],
   "source": [
    "df = time_df"
   ]
  },
  {
   "cell_type": "code",
   "execution_count": 13,
   "metadata": {},
   "outputs": [],
   "source": [
    "update_time(733, 20.7)\n",
    "update_time(538, 15.8)\n",
    "update_time(2489, 20.2)\n",
    "update_time(2792, 40.7)\n",
    "update_time(2341, 15.3)\n",
    "update_time(2918, 15.9)\n",
    "update_time(1976, 19.5)\n",
    "update_time(2764, 11.1)\n",
    "update_time(1407, 27.9)\n",
    "update_time(2342, 13.1)\n",
    "update_time(1088, 35.5)\n",
    "update_time(2667, 24.3)\n",
    "update_time(1683, 14.1)\n",
    "update_time(1526, 15.1)\n",
    "update_time(2208, 20.0)\n",
    "update_time(602, 33.3)\n",
    "update_time(183, 13.2)\n",
    "update_time(2792, 19.6)\n",
    "update_time(1262, 22.6)\n",
    "\n"
   ]
  },
  {
   "cell_type": "markdown",
   "metadata": {},
   "source": [
    "Some of these plays show the players making contact more than one time, but there is typically only a single time when there is a distinct trajectory change that signifies it was unanticipated contact for both players. Upon video review for the plays in question, this seems to confirm such. "
   ]
  },
  {
   "cell_type": "code",
   "execution_count": 14,
   "metadata": {},
   "outputs": [
    {
     "data": {
      "text/html": [
       "<div><style>\n",
       ".dataframe > thead > tr,\n",
       ".dataframe > tbody > tr {\n",
       "  text-align: right;\n",
       "  white-space: pre-wrap;\n",
       "}\n",
       "</style>\n",
       "<small>shape: (35, 2)</small><table border=\"1\" class=\"dataframe\"><thead><tr><th>PlayID</th><th>Time</th></tr><tr><td>i64</td><td>f64</td></tr></thead><tbody><tr><td>183</td><td>13.2</td></tr><tr><td>538</td><td>15.8</td></tr><tr><td>602</td><td>33.3</td></tr><tr><td>733</td><td>20.7</td></tr><tr><td>905</td><td>null</td></tr><tr><td>&hellip;</td><td>&hellip;</td></tr><tr><td>3509</td><td>15.5</td></tr><tr><td>3609</td><td>21.6</td></tr><tr><td>3630</td><td>35.6</td></tr><tr><td>3663</td><td>23.6</td></tr><tr><td>3746</td><td>27.2</td></tr></tbody></table></div>"
      ],
      "text/plain": [
       "shape: (35, 2)\n",
       "┌────────┬──────┐\n",
       "│ PlayID ┆ Time │\n",
       "│ ---    ┆ ---  │\n",
       "│ i64    ┆ f64  │\n",
       "╞════════╪══════╡\n",
       "│ 183    ┆ 13.2 │\n",
       "│ 538    ┆ 15.8 │\n",
       "│ 602    ┆ 33.3 │\n",
       "│ 733    ┆ 20.7 │\n",
       "│ 905    ┆ null │\n",
       "│ …      ┆ …    │\n",
       "│ 3509   ┆ 15.5 │\n",
       "│ 3609   ┆ 21.6 │\n",
       "│ 3630   ┆ 35.6 │\n",
       "│ 3663   ┆ 23.6 │\n",
       "│ 3746   ┆ 27.2 │\n",
       "└────────┴──────┘"
      ]
     },
     "execution_count": 14,
     "metadata": {},
     "output_type": "execute_result"
    }
   ],
   "source": [
    "time_df"
   ]
  },
  {
   "cell_type": "code",
   "execution_count": 15,
   "metadata": {},
   "outputs": [],
   "source": [
    "time_df = time_df.filter(pl.col(\"Time\").is_not_null())"
   ]
  },
  {
   "cell_type": "code",
   "execution_count": 16,
   "metadata": {},
   "outputs": [
    {
     "data": {
      "text/html": [
       "<div><style>\n",
       ".dataframe > thead > tr,\n",
       ".dataframe > tbody > tr {\n",
       "  text-align: right;\n",
       "  white-space: pre-wrap;\n",
       "}\n",
       "</style>\n",
       "<small>shape: (30, 2)</small><table border=\"1\" class=\"dataframe\"><thead><tr><th>PlayID</th><th>Time</th></tr><tr><td>i64</td><td>f64</td></tr></thead><tbody><tr><td>183</td><td>13.2</td></tr><tr><td>538</td><td>15.8</td></tr><tr><td>602</td><td>33.3</td></tr><tr><td>733</td><td>20.7</td></tr><tr><td>978</td><td>21.1</td></tr><tr><td>&hellip;</td><td>&hellip;</td></tr><tr><td>3509</td><td>15.5</td></tr><tr><td>3609</td><td>21.6</td></tr><tr><td>3630</td><td>35.6</td></tr><tr><td>3663</td><td>23.6</td></tr><tr><td>3746</td><td>27.2</td></tr></tbody></table></div>"
      ],
      "text/plain": [
       "shape: (30, 2)\n",
       "┌────────┬──────┐\n",
       "│ PlayID ┆ Time │\n",
       "│ ---    ┆ ---  │\n",
       "│ i64    ┆ f64  │\n",
       "╞════════╪══════╡\n",
       "│ 183    ┆ 13.2 │\n",
       "│ 538    ┆ 15.8 │\n",
       "│ 602    ┆ 33.3 │\n",
       "│ 733    ┆ 20.7 │\n",
       "│ 978    ┆ 21.1 │\n",
       "│ …      ┆ …    │\n",
       "│ 3509   ┆ 15.5 │\n",
       "│ 3609   ┆ 21.6 │\n",
       "│ 3630   ┆ 35.6 │\n",
       "│ 3663   ┆ 23.6 │\n",
       "│ 3746   ┆ 27.2 │\n",
       "└────────┴──────┘"
      ]
     },
     "execution_count": 16,
     "metadata": {},
     "output_type": "execute_result"
    }
   ],
   "source": [
    "time_df"
   ]
  },
  {
   "cell_type": "code",
   "execution_count": 19,
   "metadata": {},
   "outputs": [],
   "source": [
    "time_df.write_csv(\"F:/Data/Clean_Data/impact_times.csv\")\n"
   ]
  },
  {
   "cell_type": "code",
   "execution_count": 20,
   "metadata": {},
   "outputs": [
    {
     "data": {
      "text/html": [
       "<div><style>\n",
       ".dataframe > thead > tr,\n",
       ".dataframe > tbody > tr {\n",
       "  text-align: right;\n",
       "  white-space: pre-wrap;\n",
       "}\n",
       "</style>\n",
       "<small>shape: (0, 2)</small><table border=\"1\" class=\"dataframe\"><thead><tr><th>PlayID</th><th>Time</th></tr><tr><td>i64</td><td>f64</td></tr></thead><tbody></tbody></table></div>"
      ],
      "text/plain": [
       "shape: (0, 2)\n",
       "┌────────┬──────┐\n",
       "│ PlayID ┆ Time │\n",
       "│ ---    ┆ ---  │\n",
       "│ i64    ┆ f64  │\n",
       "╞════════╪══════╡\n",
       "└────────┴──────┘"
      ]
     },
     "execution_count": 20,
     "metadata": {},
     "output_type": "execute_result"
    }
   ],
   "source": [
    "time_df.filter(pl.col(\"Time\")>=44)"
   ]
  },
  {
   "cell_type": "code",
   "execution_count": 26,
   "metadata": {},
   "outputs": [
    {
     "data": {
      "text/plain": [
       "9.7"
      ]
     },
     "execution_count": 26,
     "metadata": {},
     "output_type": "execute_result"
    }
   ],
   "source": [
    "time_df['Time'].min()"
   ]
  },
  {
   "cell_type": "markdown",
   "metadata": {},
   "source": [
    "The longest recorded play in the NFL is 44 seconds, but numerous plays continued to run the clock and exceed this, so it is impossible to have plays that go beyond 44 seconds. I don't know how long the clock elapsed before the play started, but it seems like it was between 5 and 10 seconds. What I am going to use as the earliest start time is 5 seconds less than the minimum time from the injury list, which is 9.7 seconds. So we can set the minium time to be 4.5 seconds. \n",
    "\n",
    "What I am aiming to do for the control data is cutting into 10 second samples (100 points). For the injuries, this will include 5 seconds before and 5 seconds after. Since there is no injury in the other plays, I will need to randomly find a start time between 4.5 seconds and 34 seconds. "
   ]
  }
 ],
 "metadata": {
  "kernelspec": {
   "display_name": "PythonData",
   "language": "python",
   "name": "python3"
  },
  "language_info": {
   "codemirror_mode": {
    "name": "ipython",
    "version": 3
   },
   "file_extension": ".py",
   "mimetype": "text/x-python",
   "name": "python",
   "nbconvert_exporter": "python",
   "pygments_lexer": "ipython3",
   "version": "3.9.12"
  }
 },
 "nbformat": 4,
 "nbformat_minor": 2
}
